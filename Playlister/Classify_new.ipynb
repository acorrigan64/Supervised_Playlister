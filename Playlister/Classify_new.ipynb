{
 "cells": [
  {
   "cell_type": "code",
   "execution_count": 14,
   "metadata": {},
   "outputs": [],
   "source": [
    "import pickle\n",
    "import os\n",
    "import pandas as pd\n",
    "import numpy as np\n",
    "import shutil\n",
    "# Preprocessing\n",
    "from sklearn.preprocessing import LabelEncoder, StandardScaler\n",
    "\n",
    "#Keras\n",
    "import keras\n",
    "\n",
    "\n",
    "#Custom Functions\n",
    "import Funct\n",
    "\n",
    "\n",
    "#Loading the model, labels and scaler\n",
    "encoder = pickle.load(open( \"encoder.p\", \"rb\" ) )\n",
    "scaler = pickle.load(open( \"scaler.p\", \"rb\" ) )\n",
    "model = pickle.load(open( \"model.p\", \"rb\" ) )\n",
    "\n",
    "#Generating data for new songs\n",
    "\n",
    "def clean_songnames(folder):\n",
    "\n",
    "    path = folder\n",
    "    for filename in os.listdir(path):\n",
    "        #print(filename)\n",
    "        os.rename(os.path.join(path,filename),os.path.join(path, filename.replace(' ', '_').lower())) \n",
    "\n",
    "def generate_csv(file,CSV_name):\n",
    "    Funct.new_file(CSV_name)\n",
    "    for filename in os.listdir(file):\n",
    "        if not filename.startswith('.') and os.path.isfile(os.path.join(file, filename)):\n",
    "            song_name = f'./{file}/{filename}'\n",
    "            Funct.get_data(song_name,CSV_name,30,'NA',True,True)\n",
    "        \n",
    "def make_playlists(file,CSV_name):\n",
    "    \n",
    "\n",
    "    generate_csv(file,CSV_name)\n",
    "    Names, Classes = load_and_normalize(CSV_name,False)\n",
    "    for i in range(len(Names)):\n",
    "        print(os.path.basename(Names[i]))\n",
    "        shutil.move(Names[i], f'./genres_2/{Classes[i]}/{os.path.basename(Names[i])}')\n",
    "       \n",
    "def remove_spaces(file):\n",
    "    path = file\n",
    "    for filename in os.listdir(path):\n",
    "        #print(filename)\n",
    "        os.rename(os.path.join(path,filename),os.path.join(path, filename.replace(' ', '_').lower()))\n",
    "    \n",
    "    \n",
    "\n",
    "def load_and_normalize(target_file,debug):\n",
    "    \n",
    "    data=pd.read_csv(target_file)\n",
    "    data.head\n",
    "    Song_Names = data.filename.to_list()\n",
    "    data = data.drop(['filename'],axis=1)\n",
    "    data.head()\n",
    "    if debug == True:\n",
    "        print(data)\n",
    "    # normalizing\n",
    "    x = np.array(data.iloc[:, :-1], dtype = float)\n",
    "    X_new = scaler.transform(x)\n",
    "    if debug == True:\n",
    "        print(X_new)\n",
    "    Y_new = model.predict_classes(X_new)\n",
    "    Classes = encoder.inverse_transform(Y_new.tolist()) \n",
    "    for i in range(len(Classes)):\n",
    "        print(\"Song= %s, Predicted= %s\" % (Song_Names[i],Classes[i]))\n",
    "    return Song_Names, Classes\n",
    "    \n",
    "    \n"
   ]
  },
  {
   "cell_type": "code",
   "execution_count": 16,
   "metadata": {},
   "outputs": [
    {
     "name": "stdout",
     "output_type": "stream",
     "text": [
      "././New_Songs//05_SIMPLER.mp3\n"
     ]
    },
    {
     "name": "stderr",
     "output_type": "stream",
     "text": [
      "/Users/Andy/opt/anaconda3/lib/python3.7/site-packages/librosa/core/audio.py:161: UserWarning: PySoundFile failed. Trying audioread instead.\n",
      "  warnings.warn('PySoundFile failed. Trying audioread instead.')\n"
     ]
    },
    {
     "name": "stdout",
     "output_type": "stream",
     "text": [
      "././New_Songs//05_SIMPLER.mp3 0.410422682762146 0.0785064622759819 3286.170599408534 2390.294939448039 6006.2398605169665 0.20205553944315546\n",
      "././New_Songs//08_Stalker_Ha.mp3\n"
     ]
    },
    {
     "name": "stderr",
     "output_type": "stream",
     "text": [
      "/Users/Andy/opt/anaconda3/lib/python3.7/site-packages/librosa/core/audio.py:161: UserWarning: PySoundFile failed. Trying audioread instead.\n",
      "  warnings.warn('PySoundFile failed. Trying audioread instead.')\n"
     ]
    },
    {
     "name": "stdout",
     "output_type": "stream",
     "text": [
      "././New_Songs//08_Stalker_Ha.mp3 0.37034061551094055 0.07744943350553513 3658.1220593792445 3098.8880358229817 7590.329198992169 0.19519467807424595\n",
      "././New_Songs//06_Mad_Sax.mp3\n"
     ]
    },
    {
     "name": "stderr",
     "output_type": "stream",
     "text": [
      "/Users/Andy/opt/anaconda3/lib/python3.7/site-packages/librosa/core/audio.py:161: UserWarning: PySoundFile failed. Trying audioread instead.\n",
      "  warnings.warn('PySoundFile failed. Trying audioread instead.')\n"
     ]
    },
    {
     "name": "stdout",
     "output_type": "stream",
     "text": [
      "././New_Songs//06_Mad_Sax.mp3 0.42459407448768616 0.19200383126735687 3117.5747937576493 2663.810428309976 6364.535373767401 0.1745271262325986\n",
      "././New_Songs//2-02_Moments_In_Love.mp3\n"
     ]
    },
    {
     "name": "stderr",
     "output_type": "stream",
     "text": [
      "/Users/Andy/opt/anaconda3/lib/python3.7/site-packages/librosa/core/audio.py:161: UserWarning: PySoundFile failed. Trying audioread instead.\n",
      "  warnings.warn('PySoundFile failed. Trying audioread instead.')\n"
     ]
    },
    {
     "name": "stdout",
     "output_type": "stream",
     "text": [
      "././New_Songs//2-02_Moments_In_Love.mp3 0.39463675022125244 0.12605667114257812 2206.912987152427 2623.756140331868 5020.958424720852 0.08478307170823667\n",
      "././New_Songs//Moments_In_Love_(Caspa_Remix).mp3\n"
     ]
    },
    {
     "name": "stderr",
     "output_type": "stream",
     "text": [
      "/Users/Andy/opt/anaconda3/lib/python3.7/site-packages/librosa/core/audio.py:161: UserWarning: PySoundFile failed. Trying audioread instead.\n",
      "  warnings.warn('PySoundFile failed. Trying audioread instead.')\n"
     ]
    },
    {
     "name": "stdout",
     "output_type": "stream",
     "text": [
      "././New_Songs//Moments_In_Love_(Caspa_Remix).mp3 0.31988194584846497 0.06350206583738327 2380.889339351194 1811.8031451690708 4135.948772386166 0.15501853429524362\n",
      "././New_Songs//23_Drop_It_Like_Its_Hot.MP3\n"
     ]
    },
    {
     "name": "stderr",
     "output_type": "stream",
     "text": [
      "/Users/Andy/opt/anaconda3/lib/python3.7/site-packages/librosa/core/audio.py:161: UserWarning: PySoundFile failed. Trying audioread instead.\n",
      "  warnings.warn('PySoundFile failed. Trying audioread instead.')\n"
     ]
    },
    {
     "name": "stdout",
     "output_type": "stream",
     "text": [
      "././New_Songs//23_Drop_It_Like_Its_Hot.MP3 0.5139182806015015 0.197008416056633 2482.487558229224 2838.6526687962705 5851.760361532048 0.0926975329901392\n",
      "Song= ././New_Songs//05_SIMPLER.mp3, Predicted= Dubstep\n",
      "Song= ././New_Songs//08_Stalker_Ha.mp3, Predicted= Trap\n",
      "Song= ././New_Songs//06_Mad_Sax.mp3, Predicted= Cheeze\n",
      "Song= ././New_Songs//2-02_Moments_In_Love.mp3, Predicted= Murlo\n",
      "Song= ././New_Songs//Moments_In_Love_(Caspa_Remix).mp3, Predicted= Dubstep\n",
      "Song= ././New_Songs//23_Drop_It_Like_Its_Hot.MP3, Predicted= Murlo\n",
      "05_SIMPLER.mp3\n",
      "08_Stalker_Ha.mp3\n",
      "06_Mad_Sax.mp3\n",
      "2-02_Moments_In_Love.mp3\n",
      "Moments_In_Love_(Caspa_Remix).mp3\n",
      "23_Drop_It_Like_Its_Hot.MP3\n"
     ]
    }
   ],
   "source": [
    "Funct.replace('./New_Songs/')\n",
    "make_playlists('./New_Songs/','New_Data.csv')"
   ]
  },
  {
   "cell_type": "code",
   "execution_count": 13,
   "metadata": {},
   "outputs": [
    {
     "name": "stdout",
     "output_type": "stream",
     "text": [
      "././genres_2/Afro/From_a_Past_Life.mp3\n"
     ]
    },
    {
     "name": "stderr",
     "output_type": "stream",
     "text": [
      "/Users/Andy/opt/anaconda3/lib/python3.7/site-packages/librosa/core/audio.py:161: UserWarning: PySoundFile failed. Trying audioread instead.\n",
      "  warnings.warn('PySoundFile failed. Trying audioread instead.')\n"
     ]
    },
    {
     "name": "stdout",
     "output_type": "stream",
     "text": [
      "././genres_2/Afro/From_a_Past_Life.mp3 0.470350980758667 0.22258314490318298 2415.251510046641 2252.8845390411097 4694.812833073521 0.1321134987674014\n",
      "././genres_2/Afro/05_-_Pairs.aiff\n",
      "././genres_2/Afro/05_-_Pairs.aiff 0.43628445267677307 0.28339171409606934 2209.9521627648282 2497.733130648973 4631.487229915893 0.09109220925174014\n",
      "././genres_2/Afro/01_Tzantza.mp3\n"
     ]
    },
    {
     "name": "stderr",
     "output_type": "stream",
     "text": [
      "/Users/Andy/opt/anaconda3/lib/python3.7/site-packages/librosa/core/audio.py:161: UserWarning: PySoundFile failed. Trying audioread instead.\n",
      "  warnings.warn('PySoundFile failed. Trying audioread instead.')\n"
     ]
    },
    {
     "name": "stdout",
     "output_type": "stream",
     "text": [
      "././genres_2/Afro/01_Tzantza.mp3 0.5987828373908997 0.24141313135623932 873.5091815250664 1695.2363341722926 1740.0426877900231 0.011904546113689095\n",
      "././genres_2/Afro/02_Gods_of_War_(Von_Party's_Peace_Pipe_Dub).mp3\n"
     ]
    },
    {
     "name": "stderr",
     "output_type": "stream",
     "text": [
      "/Users/Andy/opt/anaconda3/lib/python3.7/site-packages/librosa/core/audio.py:161: UserWarning: PySoundFile failed. Trying audioread instead.\n",
      "  warnings.warn('PySoundFile failed. Trying audioread instead.')\n"
     ]
    },
    {
     "name": "stdout",
     "output_type": "stream",
     "text": [
      "././genres_2/Afro/02_Gods_of_War_(Von_Party's_Peace_Pipe_Dub).mp3 0.5310808420181274 0.17239245772361755 3303.601366910392 3125.815203837828 6974.684429832511 0.15609026065835266\n",
      "././genres_2/Afro/Fela_Kuti_-_O.D.O.O_(Lodger_Remix).mp3\n"
     ]
    },
    {
     "name": "stderr",
     "output_type": "stream",
     "text": [
      "/Users/Andy/opt/anaconda3/lib/python3.7/site-packages/librosa/core/audio.py:161: UserWarning: PySoundFile failed. Trying audioread instead.\n",
      "  warnings.warn('PySoundFile failed. Trying audioread instead.')\n"
     ]
    },
    {
     "name": "stdout",
     "output_type": "stream",
     "text": [
      "././genres_2/Afro/Fela_Kuti_-_O.D.O.O_(Lodger_Remix).mp3 0.3758808672428131 0.10334166139364243 1857.744292985501 1617.0993850076156 3495.8230994417054 0.1190352650087007\n",
      "././genres_2/Afro/&amp;ME_-_Cape_Coast_(KM034)_(320__kbps).mp3\n"
     ]
    },
    {
     "name": "stderr",
     "output_type": "stream",
     "text": [
      "/Users/Andy/opt/anaconda3/lib/python3.7/site-packages/librosa/core/audio.py:161: UserWarning: PySoundFile failed. Trying audioread instead.\n",
      "  warnings.warn('PySoundFile failed. Trying audioread instead.')\n"
     ]
    },
    {
     "name": "stdout",
     "output_type": "stream",
     "text": [
      "././genres_2/Afro/&amp;ME_-_Cape_Coast_(KM034)_(320__kbps).mp3 0.5590583086013794 0.22262030839920044 2846.9157006645673 3020.581392516661 6566.028200224768 0.09394599224187936\n",
      "././genres_2/Afro/17_-_Nightmares_On_Wax_-_Da_Feelin'.wav\n",
      "././genres_2/Afro/17_-_Nightmares_On_Wax_-_Da_Feelin'.wav 0.44826120138168335 0.22059161961078644 1770.8999751086558 2403.8759687230113 4249.6600724151685 0.053154682062064966\n",
      "././genres_2/Afro/02_The_Fludd.mp3\n"
     ]
    },
    {
     "name": "stderr",
     "output_type": "stream",
     "text": [
      "/Users/Andy/opt/anaconda3/lib/python3.7/site-packages/librosa/core/audio.py:161: UserWarning: PySoundFile failed. Trying audioread instead.\n",
      "  warnings.warn('PySoundFile failed. Trying audioread instead.')\n"
     ]
    },
    {
     "name": "stdout",
     "output_type": "stream",
     "text": [
      "././genres_2/Afro/02_The_Fludd.mp3 0.35527390241622925 0.11034237593412399 1720.9751427348751 2247.3102205038817 3833.534669101653 0.05991244924593968\n",
      "././genres_2/Afro/01_Pembe_(Jimmy_Rouge_Edit).mp3\n"
     ]
    },
    {
     "name": "stderr",
     "output_type": "stream",
     "text": [
      "/Users/Andy/opt/anaconda3/lib/python3.7/site-packages/librosa/core/audio.py:161: UserWarning: PySoundFile failed. Trying audioread instead.\n",
      "  warnings.warn('PySoundFile failed. Trying audioread instead.')\n"
     ]
    },
    {
     "name": "stdout",
     "output_type": "stream",
     "text": [
      "././genres_2/Afro/01_Pembe_(Jimmy_Rouge_Edit).mp3 0.5746070146560669 0.26841700077056885 2457.511172372902 2444.3631931815457 5019.209788736224 0.10287666763341068\n",
      "././genres_2/Afro/02_Celeste.mp3\n"
     ]
    },
    {
     "name": "stderr",
     "output_type": "stream",
     "text": [
      "/Users/Andy/opt/anaconda3/lib/python3.7/site-packages/librosa/core/audio.py:161: UserWarning: PySoundFile failed. Trying audioread instead.\n",
      "  warnings.warn('PySoundFile failed. Trying audioread instead.')\n"
     ]
    },
    {
     "name": "stdout",
     "output_type": "stream",
     "text": [
      "././genres_2/Afro/02_Celeste.mp3 0.5081785321235657 0.17303651571273804 1061.2958307571573 1808.075868474922 2155.76840287848 0.016218641241299302\n",
      "././genres_2/Afro/13_Handkerchief_(Auntie_Flo_Remix).mp3\n"
     ]
    },
    {
     "name": "stderr",
     "output_type": "stream",
     "text": [
      "/Users/Andy/opt/anaconda3/lib/python3.7/site-packages/librosa/core/audio.py:161: UserWarning: PySoundFile failed. Trying audioread instead.\n",
      "  warnings.warn('PySoundFile failed. Trying audioread instead.')\n"
     ]
    },
    {
     "name": "stdout",
     "output_type": "stream",
     "text": [
      "././genres_2/Afro/13_Handkerchief_(Auntie_Flo_Remix).mp3 0.48829013109207153 0.2292230874300003 2614.907679367522 2638.6295547875825 5381.452223209107 0.06991711680684455\n",
      "././genres_2/Afro/Ebo_Taylor_&_Pat_Thomas_-_Ene_Nyame_'A'_Mensuro_(Henrik_Schwarz_Blend).mp3\n"
     ]
    },
    {
     "name": "stderr",
     "output_type": "stream",
     "text": [
      "/Users/Andy/opt/anaconda3/lib/python3.7/site-packages/librosa/core/audio.py:161: UserWarning: PySoundFile failed. Trying audioread instead.\n",
      "  warnings.warn('PySoundFile failed. Trying audioread instead.')\n"
     ]
    },
    {
     "name": "stdout",
     "output_type": "stream",
     "text": [
      "././genres_2/Afro/Ebo_Taylor_&_Pat_Thomas_-_Ene_Nyame_'A'_Mensuro_(Henrik_Schwarz_Blend).mp3 0.2835128903388977 0.07403721660375595 1536.306106753397 1613.0187795890702 3091.9131675065255 0.05856769322795824\n",
      "././genres_2/Afro/04_Mystik_C_(Medusa_Mix).mp3\n"
     ]
    },
    {
     "name": "stderr",
     "output_type": "stream",
     "text": [
      "/Users/Andy/opt/anaconda3/lib/python3.7/site-packages/librosa/core/audio.py:161: UserWarning: PySoundFile failed. Trying audioread instead.\n",
      "  warnings.warn('PySoundFile failed. Trying audioread instead.')\n"
     ]
    },
    {
     "name": "stdout",
     "output_type": "stream",
     "text": [
      "././genres_2/Afro/04_Mystik_C_(Medusa_Mix).mp3 0.2835150361061096 0.0826277956366539 3313.852436068803 2574.306297137611 6260.141805485064 0.21927113544083526\n",
      "././genres_2/Afro/Africaine_808__-_Rhythm_is_All_You_Can_Dance_(12_mix).mp3\n"
     ]
    },
    {
     "name": "stderr",
     "output_type": "stream",
     "text": [
      "/Users/Andy/opt/anaconda3/lib/python3.7/site-packages/librosa/core/audio.py:161: UserWarning: PySoundFile failed. Trying audioread instead.\n",
      "  warnings.warn('PySoundFile failed. Trying audioread instead.')\n"
     ]
    },
    {
     "name": "stdout",
     "output_type": "stream",
     "text": [
      "././genres_2/Afro/Africaine_808__-_Rhythm_is_All_You_Can_Dance_(12_mix).mp3 0.386565625667572 0.053400684148073196 1729.2306088804621 1849.8599594137777 3227.957047110644 0.06971546004930394\n",
      "././genres_2/Afro/03_-_Ye_Ye.aiff\n",
      "././genres_2/Afro/03_-_Ye_Ye.aiff 0.43233269453048706 0.14436663687229156 1175.8407776332635 1570.6628925304306 2320.739717771172 0.03891748839907193\n",
      "././genres_2/Afro/22_Peru_Timing_Pt.2.mp3\n"
     ]
    },
    {
     "name": "stderr",
     "output_type": "stream",
     "text": [
      "/Users/Andy/opt/anaconda3/lib/python3.7/site-packages/librosa/core/audio.py:161: UserWarning: PySoundFile failed. Trying audioread instead.\n",
      "  warnings.warn('PySoundFile failed. Trying audioread instead.')\n"
     ]
    },
    {
     "name": "stdout",
     "output_type": "stream",
     "text": [
      "././genres_2/Afro/22_Peru_Timing_Pt.2.mp3 0.49176663160324097 0.03475239872932434 2730.485043573861 2385.7427212380076 5270.513760241444 0.15371569569315546\n",
      "././genres_2/Afro/owiny-sigoma-band-nyiduonge-drums.mp3\n"
     ]
    },
    {
     "name": "stderr",
     "output_type": "stream",
     "text": [
      "/Users/Andy/opt/anaconda3/lib/python3.7/site-packages/librosa/core/audio.py:161: UserWarning: PySoundFile failed. Trying audioread instead.\n",
      "  warnings.warn('PySoundFile failed. Trying audioread instead.')\n"
     ]
    },
    {
     "name": "stdout",
     "output_type": "stream",
     "text": [
      "././genres_2/Afro/owiny-sigoma-band-nyiduonge-drums.mp3 0.40625718235969543 0.1491435468196869 1485.5101050711485 1741.261269173018 2870.6607544228536 0.056314348897911835\n",
      "././genres_2/Afro/Percussion.mp3\n"
     ]
    },
    {
     "name": "stderr",
     "output_type": "stream",
     "text": [
      "/Users/Andy/opt/anaconda3/lib/python3.7/site-packages/librosa/core/audio.py:161: UserWarning: PySoundFile failed. Trying audioread instead.\n",
      "  warnings.warn('PySoundFile failed. Trying audioread instead.')\n"
     ]
    },
    {
     "name": "stdout",
     "output_type": "stream",
     "text": [
      "././genres_2/Afro/Percussion.mp3 0.31551361083984375 0.025837013497948647 2629.860706296422 2436.008188846884 5349.377243148202 0.11197954430104408\n",
      "././genres_2/Afro/Hankuri.mp3\n"
     ]
    },
    {
     "name": "stderr",
     "output_type": "stream",
     "text": [
      "/Users/Andy/opt/anaconda3/lib/python3.7/site-packages/librosa/core/audio.py:161: UserWarning: PySoundFile failed. Trying audioread instead.\n",
      "  warnings.warn('PySoundFile failed. Trying audioread instead.')\n"
     ]
    },
    {
     "name": "stdout",
     "output_type": "stream",
     "text": [
      "././genres_2/Afro/Hankuri.mp3 0.49555593729019165 0.05009530112147331 3819.6692265510314 2761.209861166833 7042.956174775232 0.23737266168793503\n",
      "././genres_2/Afro/02_Spyglass.mp3\n"
     ]
    },
    {
     "name": "stderr",
     "output_type": "stream",
     "text": [
      "/Users/Andy/opt/anaconda3/lib/python3.7/site-packages/librosa/core/audio.py:161: UserWarning: PySoundFile failed. Trying audioread instead.\n",
      "  warnings.warn('PySoundFile failed. Trying audioread instead.')\n"
     ]
    },
    {
     "name": "stdout",
     "output_type": "stream",
     "text": [
      "././genres_2/Afro/02_Spyglass.mp3 0.4145478904247284 0.15188205242156982 2389.5339022153325 2782.9037958539475 5682.967027987239 0.08204824354698376\n",
      "././genres_2/Afro/16_Highlife.mp3\n"
     ]
    },
    {
     "name": "stderr",
     "output_type": "stream",
     "text": [
      "/Users/Andy/opt/anaconda3/lib/python3.7/site-packages/librosa/core/audio.py:161: UserWarning: PySoundFile failed. Trying audioread instead.\n",
      "  warnings.warn('PySoundFile failed. Trying audioread instead.')\n"
     ]
    },
    {
     "name": "stdout",
     "output_type": "stream",
     "text": [
      "././genres_2/Afro/16_Highlife.mp3 0.4595395028591156 0.18215538561344147 995.9490147072897 1571.8419822298742 1867.7180951819896 0.025796204321345707\n",
      "././genres_2/Afro/04_Dan_Ryan_feat._Jerrald_James_(Original_Mix).aiff\n",
      "././genres_2/Afro/04_Dan_Ryan_feat._Jerrald_James_(Original_Mix).aiff 0.5945900082588196 0.062026020139455795 5211.3521221369965 2844.144272462036 8411.713482000436 0.37648183729698376\n",
      "././genres_2/Afro/01_Gods_of_War.mp3\n"
     ]
    },
    {
     "name": "stderr",
     "output_type": "stream",
     "text": [
      "/Users/Andy/opt/anaconda3/lib/python3.7/site-packages/librosa/core/audio.py:161: UserWarning: PySoundFile failed. Trying audioread instead.\n",
      "  warnings.warn('PySoundFile failed. Trying audioread instead.')\n"
     ]
    },
    {
     "name": "stdout",
     "output_type": "stream",
     "text": [
      "././genres_2/Afro/01_Gods_of_War.mp3 0.4890819191932678 0.19547882676124573 2358.6062625066143 2572.215237847734 5242.360720888921 0.08402515951276102\n",
      "././genres_2/Afro/02_Atomic_Bomb.mp3\n"
     ]
    },
    {
     "name": "stderr",
     "output_type": "stream",
     "text": [
      "/Users/Andy/opt/anaconda3/lib/python3.7/site-packages/librosa/core/audio.py:161: UserWarning: PySoundFile failed. Trying audioread instead.\n",
      "  warnings.warn('PySoundFile failed. Trying audioread instead.')\n"
     ]
    },
    {
     "name": "stdout",
     "output_type": "stream",
     "text": [
      "././genres_2/Afro/02_Atomic_Bomb.mp3 0.36178699135780334 0.1707310825586319 2172.0009096589843 2654.546478470825 5238.838468405597 0.08077825913573086\n",
      "././genres_2/Afro/01_Shango_(Daniel_Haaksman_&_DJ_Beware_Remix).mp3\n"
     ]
    },
    {
     "name": "stderr",
     "output_type": "stream",
     "text": [
      "/Users/Andy/opt/anaconda3/lib/python3.7/site-packages/librosa/core/audio.py:161: UserWarning: PySoundFile failed. Trying audioread instead.\n",
      "  warnings.warn('PySoundFile failed. Trying audioread instead.')\n"
     ]
    },
    {
     "name": "stdout",
     "output_type": "stream",
     "text": [
      "././genres_2/Afro/01_Shango_(Daniel_Haaksman_&_DJ_Beware_Remix).mp3 0.6080181002616882 0.16352489590644836 3229.1306504763847 2969.8061622350892 6975.658669881091 0.15258958997969838\n",
      "././genres_2/Afro/01_-_Yes,_I_Know.aiff\n",
      "././genres_2/Afro/01_-_Yes,_I_Know.aiff 0.5164642930030823 0.31576937437057495 2321.6005061969704 2869.9378233173734 5653.390099332946 0.04868424630220418\n",
      "././genres_2/Afro/02_Oye_Coma_Va_(K&F_Edit).mp3\n"
     ]
    },
    {
     "name": "stderr",
     "output_type": "stream",
     "text": [
      "/Users/Andy/opt/anaconda3/lib/python3.7/site-packages/librosa/core/audio.py:161: UserWarning: PySoundFile failed. Trying audioread instead.\n",
      "  warnings.warn('PySoundFile failed. Trying audioread instead.')\n"
     ]
    },
    {
     "name": "stdout",
     "output_type": "stream",
     "text": [
      "././genres_2/Afro/02_Oye_Coma_Va_(K&F_Edit).mp3 0.5614134669303894 0.2026248276233673 1914.671824269669 2091.9881715623646 3789.9686525703305 0.06978683294663574\n",
      "././genres_2/Afro/Auntie_Flo_feat._Anbuley_-_Dance_Ritual_II.mp3\n"
     ]
    },
    {
     "name": "stderr",
     "output_type": "stream",
     "text": [
      "/Users/Andy/opt/anaconda3/lib/python3.7/site-packages/librosa/core/audio.py:161: UserWarning: PySoundFile failed. Trying audioread instead.\n",
      "  warnings.warn('PySoundFile failed. Trying audioread instead.')\n"
     ]
    },
    {
     "name": "stdout",
     "output_type": "stream",
     "text": [
      "././genres_2/Afro/Auntie_Flo_feat._Anbuley_-_Dance_Ritual_II.mp3 0.4449782967567444 0.03895432502031326 1500.1012715129377 1848.4177016154056 2940.9809015189967 0.06391046439965198\n",
      "././genres_2/Afro/01_Mighty_Tribe.mp3\n"
     ]
    },
    {
     "name": "stderr",
     "output_type": "stream",
     "text": [
      "/Users/Andy/opt/anaconda3/lib/python3.7/site-packages/librosa/core/audio.py:161: UserWarning: PySoundFile failed. Trying audioread instead.\n",
      "  warnings.warn('PySoundFile failed. Trying audioread instead.')\n"
     ]
    },
    {
     "name": "stdout",
     "output_type": "stream",
     "text": [
      "././genres_2/Afro/01_Mighty_Tribe.mp3 0.4595339298248291 0.1251537799835205 3296.812276092752 2938.412345543828 6936.189457656613 0.14224731728538284\n",
      "././genres_2/Afro/02_-_Cos-Ber-Zam_Ne_Noya_(Daphni_Mix).aiff\n",
      "././genres_2/Afro/02_-_Cos-Ber-Zam_Ne_Noya_(Daphni_Mix).aiff 0.42962369322776794 0.2727598547935486 2201.4595488579953 2420.8596687472696 4850.491396733613 0.08282088348317865\n",
      "././genres_2/Afro/Scouse_Afrika_(Original_Mix).mp3\n"
     ]
    },
    {
     "name": "stderr",
     "output_type": "stream",
     "text": [
      "/Users/Andy/opt/anaconda3/lib/python3.7/site-packages/librosa/core/audio.py:161: UserWarning: PySoundFile failed. Trying audioread instead.\n",
      "  warnings.warn('PySoundFile failed. Trying audioread instead.')\n"
     ]
    },
    {
     "name": "stdout",
     "output_type": "stream",
     "text": [
      "././genres_2/Afro/Scouse_Afrika_(Original_Mix).mp3 0.3917664587497711 0.23082828521728516 2785.4409364522044 2801.648729088593 6226.2432478973315 0.09457928509280743\n",
      "././genres_2/Afro/Stylo_G-X5_(Nora_Zion_edit).mp3\n"
     ]
    },
    {
     "name": "stderr",
     "output_type": "stream",
     "text": [
      "/Users/Andy/opt/anaconda3/lib/python3.7/site-packages/librosa/core/audio.py:161: UserWarning: PySoundFile failed. Trying audioread instead.\n",
      "  warnings.warn('PySoundFile failed. Trying audioread instead.')\n"
     ]
    },
    {
     "name": "stdout",
     "output_type": "stream",
     "text": [
      "././genres_2/Afro/Stylo_G-X5_(Nora_Zion_edit).mp3 0.4506843090057373 0.223462775349617 2598.9116946729096 2530.5695555421044 5278.932193481729 0.11239758555684455\n",
      "././genres_2/Afro/03_Changaa_Attack_(General_Ludd_Remix)_1.mp3\n"
     ]
    },
    {
     "name": "stderr",
     "output_type": "stream",
     "text": [
      "/Users/Andy/opt/anaconda3/lib/python3.7/site-packages/librosa/core/audio.py:161: UserWarning: PySoundFile failed. Trying audioread instead.\n",
      "  warnings.warn('PySoundFile failed. Trying audioread instead.')\n"
     ]
    },
    {
     "name": "stdout",
     "output_type": "stream",
     "text": [
      "././genres_2/Afro/03_Changaa_Attack_(General_Ludd_Remix)_1.mp3 0.5753368139266968 0.17322194576263428 2170.6005666460032 2150.7442694291335 4386.378425899072 0.0995108124274942\n",
      "././genres_2/Afro/01_Oberyn.mp3\n"
     ]
    },
    {
     "name": "stderr",
     "output_type": "stream",
     "text": [
      "/Users/Andy/opt/anaconda3/lib/python3.7/site-packages/librosa/core/audio.py:161: UserWarning: PySoundFile failed. Trying audioread instead.\n",
      "  warnings.warn('PySoundFile failed. Trying audioread instead.')\n"
     ]
    },
    {
     "name": "stdout",
     "output_type": "stream",
     "text": [
      "././genres_2/Afro/01_Oberyn.mp3 0.4409560263156891 0.036497730761766434 2134.597918964049 2388.8929862140244 4582.550402860354 0.09293544264791183\n",
      "././genres_2/Afro/1-06_Aziza.mp3\n"
     ]
    },
    {
     "name": "stderr",
     "output_type": "stream",
     "text": [
      "/Users/Andy/opt/anaconda3/lib/python3.7/site-packages/librosa/core/audio.py:161: UserWarning: PySoundFile failed. Trying audioread instead.\n",
      "  warnings.warn('PySoundFile failed. Trying audioread instead.')\n"
     ]
    },
    {
     "name": "stdout",
     "output_type": "stream",
     "text": [
      "././genres_2/Afro/1-06_Aziza.mp3 0.6238548755645752 0.15468040108680725 2374.682858514092 2190.339067465205 4710.600517963312 0.12896969257540603\n",
      "././genres_2/Afro/Floating_Points_-_Nuits_Sonores.mp3\n"
     ]
    },
    {
     "name": "stderr",
     "output_type": "stream",
     "text": [
      "/Users/Andy/opt/anaconda3/lib/python3.7/site-packages/librosa/core/audio.py:161: UserWarning: PySoundFile failed. Trying audioread instead.\n",
      "  warnings.warn('PySoundFile failed. Trying audioread instead.')\n"
     ]
    },
    {
     "name": "stdout",
     "output_type": "stream",
     "text": [
      "././genres_2/Afro/Floating_Points_-_Nuits_Sonores.mp3 0.3820013403892517 0.13143911957740784 388.78790662422944 913.0668516196995 401.1370948738399 0.01615066705336427\n",
      "././genres_2/Afro/14_Tummy_Tummy_(Auntie_Flo_Remix).mp3\n"
     ]
    },
    {
     "name": "stderr",
     "output_type": "stream",
     "text": [
      "/Users/Andy/opt/anaconda3/lib/python3.7/site-packages/librosa/core/audio.py:161: UserWarning: PySoundFile failed. Trying audioread instead.\n",
      "  warnings.warn('PySoundFile failed. Trying audioread instead.')\n"
     ]
    },
    {
     "name": "stdout",
     "output_type": "stream",
     "text": [
      "././genres_2/Afro/14_Tummy_Tummy_(Auntie_Flo_Remix).mp3 0.5782902240753174 0.3091239929199219 3578.0117201185603 2637.4817144871927 6333.759380437935 0.13833880147911834\n",
      "././genres_2/Afro/03_Changaa_Attack_(General_Ludd_Remix).mp3\n"
     ]
    },
    {
     "name": "stderr",
     "output_type": "stream",
     "text": [
      "/Users/Andy/opt/anaconda3/lib/python3.7/site-packages/librosa/core/audio.py:161: UserWarning: PySoundFile failed. Trying audioread instead.\n",
      "  warnings.warn('PySoundFile failed. Trying audioread instead.')\n"
     ]
    },
    {
     "name": "stdout",
     "output_type": "stream",
     "text": [
      "././genres_2/Afro/03_Changaa_Attack_(General_Ludd_Remix).mp3 0.5780181288719177 0.16500705480575562 2176.3431198604117 2164.0650618043205 4405.0888309346 0.09994358142401392\n",
      "././genres_2/Afro/02_Ngoni.mp3\n"
     ]
    },
    {
     "name": "stderr",
     "output_type": "stream",
     "text": [
      "/Users/Andy/opt/anaconda3/lib/python3.7/site-packages/librosa/core/audio.py:161: UserWarning: PySoundFile failed. Trying audioread instead.\n",
      "  warnings.warn('PySoundFile failed. Trying audioread instead.')\n"
     ]
    },
    {
     "name": "stdout",
     "output_type": "stream",
     "text": [
      "././genres_2/Afro/02_Ngoni.mp3 0.3951372504234314 0.1695760190486908 1624.3095293181793 1885.742690873515 3270.6987066777842 0.0674655144286543\n",
      "././genres_2/Afro/01_King_Bromeliad.mp3\n"
     ]
    },
    {
     "name": "stderr",
     "output_type": "stream",
     "text": [
      "/Users/Andy/opt/anaconda3/lib/python3.7/site-packages/librosa/core/audio.py:161: UserWarning: PySoundFile failed. Trying audioread instead.\n",
      "  warnings.warn('PySoundFile failed. Trying audioread instead.')\n"
     ]
    },
    {
     "name": "stdout",
     "output_type": "stream",
     "text": [
      "././genres_2/Afro/01_King_Bromeliad.mp3 0.5536015033721924 0.04810948297381401 898.1487206671327 1399.5507266984268 1649.1385971033933 0.03182778059744779\n",
      "././genres_2/Afro/02_The_Blues_(It_Began_in_Africa)_(Original_Mix).aiff\n",
      "././genres_2/Afro/02_The_Blues_(It_Began_in_Africa)_(Original_Mix).aiff 0.48395898938179016 0.36258748173713684 1336.043545088392 1918.985843539715 2911.4789144069027 0.03429864232888631\n",
      "././genres_2/Afro/Jimi_Bazzouka_-_So_So_Ye.mp3\n"
     ]
    },
    {
     "name": "stderr",
     "output_type": "stream",
     "text": [
      "/Users/Andy/opt/anaconda3/lib/python3.7/site-packages/librosa/core/audio.py:161: UserWarning: PySoundFile failed. Trying audioread instead.\n",
      "  warnings.warn('PySoundFile failed. Trying audioread instead.')\n"
     ]
    },
    {
     "name": "stdout",
     "output_type": "stream",
     "text": [
      "././genres_2/Afro/Jimi_Bazzouka_-_So_So_Ye.mp3 0.32379239797592163 0.08739146590232849 1533.235085338016 2053.213264882828 3206.5987075841067 0.056593043068445474\n",
      "././genres_2/Afro/Burna_Boy_-_Tonight_(Murlo_Refix).mp3\n"
     ]
    },
    {
     "name": "stderr",
     "output_type": "stream",
     "text": [
      "/Users/Andy/opt/anaconda3/lib/python3.7/site-packages/librosa/core/audio.py:161: UserWarning: PySoundFile failed. Trying audioread instead.\n",
      "  warnings.warn('PySoundFile failed. Trying audioread instead.')\n"
     ]
    },
    {
     "name": "stdout",
     "output_type": "stream",
     "text": [
      "././genres_2/Afro/Burna_Boy_-_Tonight_(Murlo_Refix).mp3 0.5407941341400146 0.199515238404274 2584.7940487274996 2649.939443338341 5519.244738797854 0.09583454176334107\n",
      "././genres_2/Afro/2_(Side_B).mp3\n"
     ]
    },
    {
     "name": "stderr",
     "output_type": "stream",
     "text": [
      "/Users/Andy/opt/anaconda3/lib/python3.7/site-packages/librosa/core/audio.py:161: UserWarning: PySoundFile failed. Trying audioread instead.\n",
      "  warnings.warn('PySoundFile failed. Trying audioread instead.')\n"
     ]
    },
    {
     "name": "stdout",
     "output_type": "stream",
     "text": [
      "././genres_2/Afro/2_(Side_B).mp3 0.4983457624912262 0.1629790961742401 660.8263243802114 1037.6453808582567 1311.327105387181 0.017942919808584687\n",
      "././genres_2/Afro/04_Brutus.mp3\n"
     ]
    },
    {
     "name": "stderr",
     "output_type": "stream",
     "text": [
      "/Users/Andy/opt/anaconda3/lib/python3.7/site-packages/librosa/core/audio.py:161: UserWarning: PySoundFile failed. Trying audioread instead.\n",
      "  warnings.warn('PySoundFile failed. Trying audioread instead.')\n"
     ]
    },
    {
     "name": "stdout",
     "output_type": "stream",
     "text": [
      "././genres_2/Afro/04_Brutus.mp3 0.628305971622467 0.1390458047389984 1925.1242730238366 2532.5881010203216 4344.3861817539155 0.05132277769721578\n",
      "././genres_2/Afro/rampa-mascha.mp3\n"
     ]
    },
    {
     "name": "stderr",
     "output_type": "stream",
     "text": [
      "/Users/Andy/opt/anaconda3/lib/python3.7/site-packages/librosa/core/audio.py:161: UserWarning: PySoundFile failed. Trying audioread instead.\n",
      "  warnings.warn('PySoundFile failed. Trying audioread instead.')\n"
     ]
    },
    {
     "name": "stdout",
     "output_type": "stream",
     "text": [
      "././genres_2/Afro/rampa-mascha.mp3 0.49174198508262634 0.2724904716014862 1183.8911349924197 1761.1202969911474 2120.620819587442 0.042142863616589324\n",
      "././genres_2/Disco/Arnie_Love_-_Weve_Had_Enough_-_Soul_Spectrum_Records.mp3\n"
     ]
    },
    {
     "name": "stderr",
     "output_type": "stream",
     "text": [
      "/Users/Andy/opt/anaconda3/lib/python3.7/site-packages/librosa/core/audio.py:161: UserWarning: PySoundFile failed. Trying audioread instead.\n",
      "  warnings.warn('PySoundFile failed. Trying audioread instead.')\n"
     ]
    },
    {
     "name": "stdout",
     "output_type": "stream",
     "text": [
      "././genres_2/Disco/Arnie_Love_-_Weve_Had_Enough_-_Soul_Spectrum_Records.mp3 0.427372545003891 0.14967253804206848 2682.2069528135316 2631.1331285690994 5797.427743438225 0.1328238290313225\n",
      "././genres_2/Disco/Earth,_Wind_&_Fire_-_Let's_Groove.mp3\n"
     ]
    },
    {
     "name": "stderr",
     "output_type": "stream",
     "text": [
      "/Users/Andy/opt/anaconda3/lib/python3.7/site-packages/librosa/core/audio.py:161: UserWarning: PySoundFile failed. Trying audioread instead.\n",
      "  warnings.warn('PySoundFile failed. Trying audioread instead.')\n"
     ]
    },
    {
     "name": "stdout",
     "output_type": "stream",
     "text": [
      "././genres_2/Disco/Earth,_Wind_&_Fire_-_Let's_Groove.mp3 0.3880578279495239 0.14454606175422668 2807.7409002583977 2747.728386884862 6014.308566560325 0.13766019250290024\n",
      "././genres_2/Disco/Nighmares_on_wax-_da_feelin.mp3\n"
     ]
    },
    {
     "name": "stderr",
     "output_type": "stream",
     "text": [
      "/Users/Andy/opt/anaconda3/lib/python3.7/site-packages/librosa/core/audio.py:161: UserWarning: PySoundFile failed. Trying audioread instead.\n",
      "  warnings.warn('PySoundFile failed. Trying audioread instead.')\n"
     ]
    },
    {
     "name": "stdout",
     "output_type": "stream",
     "text": [
      "././genres_2/Disco/Nighmares_on_wax-_da_feelin.mp3 0.3949325680732727 0.1606326550245285 1922.0383557738303 2564.9913656223844 4748.820704484484 0.06156308910962877\n",
      "././genres_2/Disco/Indeep_-_Last_Night_A_DJ_Saved_My_Life_1982_[HD].mp3\n"
     ]
    },
    {
     "name": "stderr",
     "output_type": "stream",
     "text": [
      "/Users/Andy/opt/anaconda3/lib/python3.7/site-packages/librosa/core/audio.py:161: UserWarning: PySoundFile failed. Trying audioread instead.\n",
      "  warnings.warn('PySoundFile failed. Trying audioread instead.')\n"
     ]
    },
    {
     "name": "stdout",
     "output_type": "stream",
     "text": [
      "././genres_2/Disco/Indeep_-_Last_Night_A_DJ_Saved_My_Life_1982_[HD].mp3 0.4092949628829956 0.09780097007751465 2980.212502161121 2797.948179011286 6268.760082837877 0.13917941560324826\n",
      "././genres_2/Disco/21_Don't_U_Want_My_Love.mp3\n"
     ]
    },
    {
     "name": "stderr",
     "output_type": "stream",
     "text": [
      "/Users/Andy/opt/anaconda3/lib/python3.7/site-packages/librosa/core/audio.py:161: UserWarning: PySoundFile failed. Trying audioread instead.\n",
      "  warnings.warn('PySoundFile failed. Trying audioread instead.')\n"
     ]
    },
    {
     "name": "stdout",
     "output_type": "stream",
     "text": [
      "././genres_2/Disco/21_Don't_U_Want_My_Love.mp3 0.5270755290985107 0.20425623655319214 2488.4058993975623 2780.933057319509 5657.36200106946 0.06711997897331787\n",
      "././genres_2/Disco/Ah_Ndiya_(K&F_Edit).mp3\n"
     ]
    },
    {
     "name": "stderr",
     "output_type": "stream",
     "text": [
      "/Users/Andy/opt/anaconda3/lib/python3.7/site-packages/librosa/core/audio.py:161: UserWarning: PySoundFile failed. Trying audioread instead.\n",
      "  warnings.warn('PySoundFile failed. Trying audioread instead.')\n"
     ]
    },
    {
     "name": "stdout",
     "output_type": "stream",
     "text": [
      "././genres_2/Disco/Ah_Ndiya_(K&F_Edit).mp3 0.3835122585296631 0.2605535686016083 2076.2997951446296 2105.950311559767 4168.648265298724 0.08644390770011601\n",
      "././genres_2/Disco/03_Black_Magic_(Todd_Terje_Tangoterje_Edit).mp3\n"
     ]
    },
    {
     "name": "stderr",
     "output_type": "stream",
     "text": [
      "/Users/Andy/opt/anaconda3/lib/python3.7/site-packages/librosa/core/audio.py:161: UserWarning: PySoundFile failed. Trying audioread instead.\n",
      "  warnings.warn('PySoundFile failed. Trying audioread instead.')\n"
     ]
    },
    {
     "name": "stdout",
     "output_type": "stream",
     "text": [
      "././genres_2/Disco/03_Black_Magic_(Todd_Terje_Tangoterje_Edit).mp3 0.3913979232311249 0.19101326167583466 2030.4608454112933 2424.123475547567 4232.573400793938 0.09124854988399073\n",
      "././genres_2/Disco/The_Fall_(Maurice_Fulton_Alt_Remix).mp3\n"
     ]
    },
    {
     "name": "stderr",
     "output_type": "stream",
     "text": [
      "/Users/Andy/opt/anaconda3/lib/python3.7/site-packages/librosa/core/audio.py:161: UserWarning: PySoundFile failed. Trying audioread instead.\n",
      "  warnings.warn('PySoundFile failed. Trying audioread instead.')\n"
     ]
    },
    {
     "name": "stdout",
     "output_type": "stream",
     "text": [
      "././genres_2/Disco/The_Fall_(Maurice_Fulton_Alt_Remix).mp3 0.5592154264450073 0.14789867401123047 1261.0329694686216 1567.4377993368066 2525.5049915712007 0.04848485535092807\n",
      "././genres_2/Disco/01_D.R.O.M.P_(Special_12__Mix).mp3\n"
     ]
    },
    {
     "name": "stderr",
     "output_type": "stream",
     "text": [
      "/Users/Andy/opt/anaconda3/lib/python3.7/site-packages/librosa/core/audio.py:161: UserWarning: PySoundFile failed. Trying audioread instead.\n",
      "  warnings.warn('PySoundFile failed. Trying audioread instead.')\n"
     ]
    },
    {
     "name": "stdout",
     "output_type": "stream",
     "text": [
      "././genres_2/Disco/01_D.R.O.M.P_(Special_12__Mix).mp3 0.4496234357357025 0.2980836033821106 2509.1822896508975 2709.830378805836 5616.244074916618 0.08370228212006961\n",
      "././genres_2/Disco/06_That_Friday_Pay_(Part_1).mp3\n"
     ]
    },
    {
     "name": "stderr",
     "output_type": "stream",
     "text": [
      "/Users/Andy/opt/anaconda3/lib/python3.7/site-packages/librosa/core/audio.py:161: UserWarning: PySoundFile failed. Trying audioread instead.\n",
      "  warnings.warn('PySoundFile failed. Trying audioread instead.')\n"
     ]
    },
    {
     "name": "stdout",
     "output_type": "stream",
     "text": [
      "././genres_2/Disco/06_That_Friday_Pay_(Part_1).mp3 0.4598689377307892 0.18336229026317596 2808.4785784845435 2938.6142334302826 6328.788258138776 0.12601281540023201\n",
      "././genres_2/Disco/Aeroplane_-_Whispers_feat._Kathy_Diamond_[HD].mp3\n"
     ]
    },
    {
     "name": "stderr",
     "output_type": "stream",
     "text": [
      "/Users/Andy/opt/anaconda3/lib/python3.7/site-packages/librosa/core/audio.py:161: UserWarning: PySoundFile failed. Trying audioread instead.\n",
      "  warnings.warn('PySoundFile failed. Trying audioread instead.')\n"
     ]
    },
    {
     "name": "stdout",
     "output_type": "stream",
     "text": [
      "././genres_2/Disco/Aeroplane_-_Whispers_feat._Kathy_Diamond_[HD].mp3 0.5643572211265564 0.18967124819755554 2087.647961271276 2575.6628251603124 4586.772109737529 0.10601141060034802\n",
      "././genres_2/Disco/common_-_i_am_music_todd_terje_edit.mp3\n"
     ]
    },
    {
     "name": "stderr",
     "output_type": "stream",
     "text": [
      "/Users/Andy/opt/anaconda3/lib/python3.7/site-packages/librosa/core/audio.py:161: UserWarning: PySoundFile failed. Trying audioread instead.\n",
      "  warnings.warn('PySoundFile failed. Trying audioread instead.')\n"
     ]
    },
    {
     "name": "stdout",
     "output_type": "stream",
     "text": [
      "././genres_2/Disco/common_-_i_am_music_todd_terje_edit.mp3 0.4535723924636841 0.13119208812713623 2506.2568879265323 2662.8240728122105 5407.706743492605 0.08835398238109049\n",
      "././genres_2/Disco/01_Hankuri.mp3\n"
     ]
    },
    {
     "name": "stderr",
     "output_type": "stream",
     "text": [
      "/Users/Andy/opt/anaconda3/lib/python3.7/site-packages/librosa/core/audio.py:161: UserWarning: PySoundFile failed. Trying audioread instead.\n",
      "  warnings.warn('PySoundFile failed. Trying audioread instead.')\n"
     ]
    },
    {
     "name": "stdout",
     "output_type": "stream",
     "text": [
      "././genres_2/Disco/01_Hankuri.mp3 0.5088831186294556 0.04604974016547203 3592.160990860008 2703.2672522467465 6714.862103030742 0.21345367785672853\n",
      "././genres_2/Disco/32_Got_Funk__(Da_Mongoloids_Funktastic_Funk_Mix).mp3\n"
     ]
    },
    {
     "name": "stderr",
     "output_type": "stream",
     "text": [
      "/Users/Andy/opt/anaconda3/lib/python3.7/site-packages/librosa/core/audio.py:161: UserWarning: PySoundFile failed. Trying audioread instead.\n",
      "  warnings.warn('PySoundFile failed. Trying audioread instead.')\n"
     ]
    },
    {
     "name": "stdout",
     "output_type": "stream",
     "text": [
      "././genres_2/Disco/32_Got_Funk__(Da_Mongoloids_Funktastic_Funk_Mix).mp3 0.5883857011795044 0.1654590517282486 3075.86826885212 2309.0382431724947 5507.1791505039155 0.19896158098897912\n",
      "././genres_2/Disco/I_Want_Your_Love_(Todd_Terje_edit).mp3\n"
     ]
    },
    {
     "name": "stderr",
     "output_type": "stream",
     "text": [
      "/Users/Andy/opt/anaconda3/lib/python3.7/site-packages/librosa/core/audio.py:161: UserWarning: PySoundFile failed. Trying audioread instead.\n",
      "  warnings.warn('PySoundFile failed. Trying audioread instead.')\n"
     ]
    },
    {
     "name": "stdout",
     "output_type": "stream",
     "text": [
      "././genres_2/Disco/I_Want_Your_Love_(Todd_Terje_edit).mp3 0.4390442967414856 0.10608161240816116 2278.236460380176 2521.495940592609 5062.4510585846865 0.08432084723027843\n",
      "././genres_2/Disco/rhythm_of_auld.mp3\n"
     ]
    },
    {
     "name": "stderr",
     "output_type": "stream",
     "text": [
      "/Users/Andy/opt/anaconda3/lib/python3.7/site-packages/librosa/core/audio.py:161: UserWarning: PySoundFile failed. Trying audioread instead.\n",
      "  warnings.warn('PySoundFile failed. Trying audioread instead.')\n"
     ]
    },
    {
     "name": "stdout",
     "output_type": "stream",
     "text": [
      "././genres_2/Disco/rhythm_of_auld.mp3 0.4591996371746063 0.2424449771642685 1750.9712333630712 2359.635328572602 4059.983029111079 0.05586232054814385\n",
      "././genres_2/Disco/04_I_Feel_Love.aif\n",
      "././genres_2/Disco/04_I_Feel_Love.aif 0.3229607045650482 0.07423890382051468 2812.606283375576 2788.136835180954 6151.851277008411 0.10440835266821345\n",
      "././genres_2/Disco/01_Beam_Me_Up_(Jacques_Renault_Remix).mp3\n"
     ]
    },
    {
     "name": "stderr",
     "output_type": "stream",
     "text": [
      "/Users/Andy/opt/anaconda3/lib/python3.7/site-packages/librosa/core/audio.py:161: UserWarning: PySoundFile failed. Trying audioread instead.\n",
      "  warnings.warn('PySoundFile failed. Trying audioread instead.')\n"
     ]
    },
    {
     "name": "stdout",
     "output_type": "stream",
     "text": [
      "././genres_2/Disco/01_Beam_Me_Up_(Jacques_Renault_Remix).mp3 0.4069977104663849 0.19000902771949768 2121.0307748832743 2341.5886207958347 4426.6220340596 0.08076693010440836\n",
      "././genres_2/Disco/Armand_Van_Helden-Full_Moon_www.my-free-mp3.net_.mp3\n"
     ]
    },
    {
     "name": "stderr",
     "output_type": "stream",
     "text": [
      "/Users/Andy/opt/anaconda3/lib/python3.7/site-packages/librosa/core/audio.py:161: UserWarning: PySoundFile failed. Trying audioread instead.\n",
      "  warnings.warn('PySoundFile failed. Trying audioread instead.')\n"
     ]
    },
    {
     "name": "stdout",
     "output_type": "stream",
     "text": [
      "././genres_2/Disco/Armand_Van_Helden-Full_Moon_www.my-free-mp3.net_.mp3 0.521820068359375 0.10717608034610748 2627.83494577388 2743.0315212473943 5784.238032011311 0.09185578596287702\n",
      "././genres_2/Disco/08_Holiday.mp3\n"
     ]
    },
    {
     "name": "stderr",
     "output_type": "stream",
     "text": [
      "/Users/Andy/opt/anaconda3/lib/python3.7/site-packages/librosa/core/audio.py:161: UserWarning: PySoundFile failed. Trying audioread instead.\n",
      "  warnings.warn('PySoundFile failed. Trying audioread instead.')\n"
     ]
    },
    {
     "name": "stdout",
     "output_type": "stream",
     "text": [
      "././genres_2/Disco/08_Holiday.mp3 0.46883413195610046 0.30880242586135864 2325.2631757221093 2394.2960614790773 4946.266687663138 0.07598721178944315\n",
      "././genres_2/Disco/16-03_Ring_My_Bell.mp3\n"
     ]
    },
    {
     "name": "stderr",
     "output_type": "stream",
     "text": [
      "/Users/Andy/opt/anaconda3/lib/python3.7/site-packages/librosa/core/audio.py:161: UserWarning: PySoundFile failed. Trying audioread instead.\n",
      "  warnings.warn('PySoundFile failed. Trying audioread instead.')\n"
     ]
    },
    {
     "name": "stdout",
     "output_type": "stream",
     "text": [
      "././genres_2/Disco/16-03_Ring_My_Bell.mp3 0.3988562524318695 0.11862187832593918 3405.640342515526 3178.1222712395324 7620.405737927784 0.14453691451566125\n",
      "././genres_2/Disco/For_Your_Love_(Todd_Terje_Re-Edit).mp3\n"
     ]
    },
    {
     "name": "stderr",
     "output_type": "stream",
     "text": [
      "/Users/Andy/opt/anaconda3/lib/python3.7/site-packages/librosa/core/audio.py:161: UserWarning: PySoundFile failed. Trying audioread instead.\n",
      "  warnings.warn('PySoundFile failed. Trying audioread instead.')\n"
     ]
    },
    {
     "name": "stdout",
     "output_type": "stream",
     "text": [
      "././genres_2/Disco/For_Your_Love_(Todd_Terje_Re-Edit).mp3 0.39059773087501526 0.1335616260766983 1591.2310548785497 1933.5863138810453 3145.995980459687 0.06794813116299304\n",
      "././genres_2/Disco/22_Your_Love.mp3\n"
     ]
    },
    {
     "name": "stderr",
     "output_type": "stream",
     "text": [
      "/Users/Andy/opt/anaconda3/lib/python3.7/site-packages/librosa/core/audio.py:161: UserWarning: PySoundFile failed. Trying audioread instead.\n",
      "  warnings.warn('PySoundFile failed. Trying audioread instead.')\n"
     ]
    },
    {
     "name": "stdout",
     "output_type": "stream",
     "text": [
      "././genres_2/Disco/22_Your_Love.mp3 0.2732974588871002 0.19755695760250092 1517.9412072697332 1836.0405624141645 2962.4641436158645 0.05531059672273782\n",
      "././genres_2/Disco/02_-_Bad_Girls.wav\n",
      "././genres_2/Disco/02_-_Bad_Girls.wav 0.524172306060791 0.16998180747032166 3068.2398769168567 2867.9425212728966 6584.813546802494 0.14230849405452436\n",
      "././genres_2/Disco/05_The_Bomb.mp3\n"
     ]
    },
    {
     "name": "stderr",
     "output_type": "stream",
     "text": [
      "/Users/Andy/opt/anaconda3/lib/python3.7/site-packages/librosa/core/audio.py:161: UserWarning: PySoundFile failed. Trying audioread instead.\n",
      "  warnings.warn('PySoundFile failed. Trying audioread instead.')\n"
     ]
    },
    {
     "name": "stdout",
     "output_type": "stream",
     "text": [
      "././genres_2/Disco/05_The_Bomb.mp3 0.5152226090431213 0.15925855934619904 3560.7311302656426 2709.9503036590563 6743.364869580191 0.20222320910672853\n",
      "././genres_2/Disco/Africa_(K&F_Edit).mp3\n"
     ]
    },
    {
     "name": "stderr",
     "output_type": "stream",
     "text": [
      "/Users/Andy/opt/anaconda3/lib/python3.7/site-packages/librosa/core/audio.py:161: UserWarning: PySoundFile failed. Trying audioread instead.\n",
      "  warnings.warn('PySoundFile failed. Trying audioread instead.')\n"
     ]
    },
    {
     "name": "stdout",
     "output_type": "stream",
     "text": [
      "././genres_2/Disco/Africa_(K&F_Edit).mp3 0.38327667117118835 0.06536352634429932 2396.800665517959 2862.0326475898137 6017.8807800717805 0.06121642075116009\n",
      "././genres_2/Disco/23610_You're_My_Heart_You're_My_Soul_(Rune_Lindbaek_&_Todd_Terje_Edit).mp3\n"
     ]
    },
    {
     "name": "stderr",
     "output_type": "stream",
     "text": [
      "/Users/Andy/opt/anaconda3/lib/python3.7/site-packages/librosa/core/audio.py:161: UserWarning: PySoundFile failed. Trying audioread instead.\n",
      "  warnings.warn('PySoundFile failed. Trying audioread instead.')\n"
     ]
    },
    {
     "name": "stdout",
     "output_type": "stream",
     "text": [
      "././genres_2/Disco/23610_You're_My_Heart_You're_My_Soul_(Rune_Lindbaek_&_Todd_Terje_Edit).mp3 0.468142569065094 0.1392035037279129 2780.422439166822 2382.7726040916286 5242.460642945186 0.15681305285672853\n",
      "././genres_2/Disco/03_Bad_Kingdom_(DJ_Koze_Remix).mp3\n"
     ]
    },
    {
     "name": "stderr",
     "output_type": "stream",
     "text": [
      "/Users/Andy/opt/anaconda3/lib/python3.7/site-packages/librosa/core/audio.py:161: UserWarning: PySoundFile failed. Trying audioread instead.\n",
      "  warnings.warn('PySoundFile failed. Trying audioread instead.')\n"
     ]
    },
    {
     "name": "stdout",
     "output_type": "stream",
     "text": [
      "././genres_2/Disco/03_Bad_Kingdom_(DJ_Koze_Remix).mp3 0.44124990701675415 0.23238427937030792 2758.8917872146735 2612.7992615056805 5513.5242010767115 0.1040843423723898\n",
      "././genres_2/Disco/17_-_Nightmares_On_Wax_-_Da_Feelin'.wav\n",
      "././genres_2/Disco/17_-_Nightmares_On_Wax_-_Da_Feelin'.wav 0.44826120138168335 0.22059161961078644 1770.8999751086558 2403.8759687230113 4249.6600724151685 0.053154682062064966\n",
      "././genres_2/Disco/dj-octopus-bug-lady.mp3\n"
     ]
    },
    {
     "name": "stderr",
     "output_type": "stream",
     "text": [
      "/Users/Andy/opt/anaconda3/lib/python3.7/site-packages/librosa/core/audio.py:161: UserWarning: PySoundFile failed. Trying audioread instead.\n",
      "  warnings.warn('PySoundFile failed. Trying audioread instead.')\n"
     ]
    },
    {
     "name": "stdout",
     "output_type": "stream",
     "text": [
      "././genres_2/Disco/dj-octopus-bug-lady.mp3 0.44910556077957153 0.2818579077720642 2735.136837200121 2678.6608804467464 5851.185809708527 0.13960878589037123\n",
      "././genres_2/Disco/Karizma_-_Work_It_Out_(PoorDownload).mp3\n"
     ]
    },
    {
     "name": "stderr",
     "output_type": "stream",
     "text": [
      "/Users/Andy/opt/anaconda3/lib/python3.7/site-packages/librosa/core/audio.py:161: UserWarning: PySoundFile failed. Trying audioread instead.\n",
      "  warnings.warn('PySoundFile failed. Trying audioread instead.')\n"
     ]
    },
    {
     "name": "stdout",
     "output_type": "stream",
     "text": [
      "././genres_2/Disco/Karizma_-_Work_It_Out_(PoorDownload).mp3 0.46521955728530884 0.2739664912223816 1507.6510176410834 1794.1396691905034 2996.712428400522 0.06304266060034802\n",
      "././genres_2/Disco/20_Me_Myself_And_I.mp3\n"
     ]
    },
    {
     "name": "stderr",
     "output_type": "stream",
     "text": [
      "/Users/Andy/opt/anaconda3/lib/python3.7/site-packages/librosa/core/audio.py:161: UserWarning: PySoundFile failed. Trying audioread instead.\n",
      "  warnings.warn('PySoundFile failed. Trying audioread instead.')\n"
     ]
    },
    {
     "name": "stdout",
     "output_type": "stream",
     "text": [
      "././genres_2/Disco/20_Me_Myself_And_I.mp3 0.41056758165359497 0.08808436244726181 3511.2573831602135 3064.133487068292 7356.3617042488395 0.19824558620939675\n",
      "././genres_2/Disco/01_Pembe_(Jimmy_Rouge_Edit).mp3\n"
     ]
    },
    {
     "name": "stderr",
     "output_type": "stream",
     "text": [
      "/Users/Andy/opt/anaconda3/lib/python3.7/site-packages/librosa/core/audio.py:161: UserWarning: PySoundFile failed. Trying audioread instead.\n",
      "  warnings.warn('PySoundFile failed. Trying audioread instead.')\n"
     ]
    },
    {
     "name": "stdout",
     "output_type": "stream",
     "text": [
      "././genres_2/Disco/01_Pembe_(Jimmy_Rouge_Edit).mp3 0.5746070146560669 0.26841700077056885 2457.511172372902 2444.3631931815457 5019.209788736224 0.10287666763341068\n",
      "././genres_2/Disco/No_Possible_(Joystick_Jays_Vulgar_Distractions_Edit).mp3\n"
     ]
    },
    {
     "name": "stderr",
     "output_type": "stream",
     "text": [
      "/Users/Andy/opt/anaconda3/lib/python3.7/site-packages/librosa/core/audio.py:161: UserWarning: PySoundFile failed. Trying audioread instead.\n",
      "  warnings.warn('PySoundFile failed. Trying audioread instead.')\n"
     ]
    },
    {
     "name": "stdout",
     "output_type": "stream",
     "text": [
      "././genres_2/Disco/No_Possible_(Joystick_Jays_Vulgar_Distractions_Edit).mp3 0.4605725109577179 0.0775921493768692 1932.5832787973065 2123.394197160823 4019.2647911832946 0.07611409694025523\n",
      "././genres_2/Disco/13_Handkerchief_(Auntie_Flo_Remix).mp3\n"
     ]
    },
    {
     "name": "stderr",
     "output_type": "stream",
     "text": [
      "/Users/Andy/opt/anaconda3/lib/python3.7/site-packages/librosa/core/audio.py:161: UserWarning: PySoundFile failed. Trying audioread instead.\n",
      "  warnings.warn('PySoundFile failed. Trying audioread instead.')\n"
     ]
    },
    {
     "name": "stdout",
     "output_type": "stream",
     "text": [
      "././genres_2/Disco/13_Handkerchief_(Auntie_Flo_Remix).mp3 0.48829013109207153 0.2292230874300003 2614.907679367522 2638.6295547875825 5381.452223209107 0.06991711680684455\n",
      "././genres_2/Disco/Tiger_&_Woods_-_Matrix_(Scoring_Clubs_EP)_-_Editainment.mp3\n"
     ]
    },
    {
     "name": "stderr",
     "output_type": "stream",
     "text": [
      "/Users/Andy/opt/anaconda3/lib/python3.7/site-packages/librosa/core/audio.py:161: UserWarning: PySoundFile failed. Trying audioread instead.\n",
      "  warnings.warn('PySoundFile failed. Trying audioread instead.')\n"
     ]
    },
    {
     "name": "stdout",
     "output_type": "stream",
     "text": [
      "././genres_2/Disco/Tiger_&_Woods_-_Matrix_(Scoring_Clubs_EP)_-_Editainment.mp3 0.5587974190711975 0.127971351146698 2572.0521985147757 2415.9437121567685 5230.969606474768 0.12561516640081208\n",
      "././genres_2/Disco/03_Sugar_Is_Sweeter_(Armand_Van_Helden's_Dru.mp3\n"
     ]
    },
    {
     "name": "stderr",
     "output_type": "stream",
     "text": [
      "/Users/Andy/opt/anaconda3/lib/python3.7/site-packages/librosa/core/audio.py:161: UserWarning: PySoundFile failed. Trying audioread instead.\n",
      "  warnings.warn('PySoundFile failed. Trying audioread instead.')\n"
     ]
    },
    {
     "name": "stdout",
     "output_type": "stream",
     "text": [
      "././genres_2/Disco/03_Sugar_Is_Sweeter_(Armand_Van_Helden's_Dru.mp3 0.653322696685791 0.11661515384912491 4243.334544905391 3137.8046110604637 8300.425291835847 0.25465736477668216\n",
      "././genres_2/Disco/04_Mystik_C_(Medusa_Mix).mp3\n"
     ]
    },
    {
     "name": "stderr",
     "output_type": "stream",
     "text": [
      "/Users/Andy/opt/anaconda3/lib/python3.7/site-packages/librosa/core/audio.py:161: UserWarning: PySoundFile failed. Trying audioread instead.\n",
      "  warnings.warn('PySoundFile failed. Trying audioread instead.')\n"
     ]
    },
    {
     "name": "stdout",
     "output_type": "stream",
     "text": [
      "././genres_2/Disco/04_Mystik_C_(Medusa_Mix).mp3 0.2835150361061096 0.0826277956366539 3313.852436068803 2574.306297137611 6260.141805485064 0.21927113544083526\n",
      "././genres_2/Disco/Robin_S._-_Show_Me_Love.mp3\n"
     ]
    },
    {
     "name": "stderr",
     "output_type": "stream",
     "text": [
      "/Users/Andy/opt/anaconda3/lib/python3.7/site-packages/librosa/core/audio.py:161: UserWarning: PySoundFile failed. Trying audioread instead.\n",
      "  warnings.warn('PySoundFile failed. Trying audioread instead.')\n"
     ]
    },
    {
     "name": "stdout",
     "output_type": "stream",
     "text": [
      "././genres_2/Disco/Robin_S._-_Show_Me_Love.mp3 0.47036173939704895 0.22222447395324707 3193.539216365754 2925.7108979113605 6590.1843573267115 0.14028966067285384\n",
      "././genres_2/Disco/02_All_Night.mp3\n"
     ]
    },
    {
     "name": "stderr",
     "output_type": "stream",
     "text": [
      "/Users/Andy/opt/anaconda3/lib/python3.7/site-packages/librosa/core/audio.py:161: UserWarning: PySoundFile failed. Trying audioread instead.\n",
      "  warnings.warn('PySoundFile failed. Trying audioread instead.')\n"
     ]
    },
    {
     "name": "stdout",
     "output_type": "stream",
     "text": [
      "././genres_2/Disco/02_All_Night.mp3 0.4222192168235779 0.11769518256187439 2650.0300759591973 2525.5616797432976 5330.392052457946 0.13127061883700697\n",
      "././genres_2/Disco/01._Sing_It_Back_(Boris_Dlugosch_Musical_Mix).mp3\n"
     ]
    },
    {
     "name": "stderr",
     "output_type": "stream",
     "text": [
      "/Users/Andy/opt/anaconda3/lib/python3.7/site-packages/librosa/core/audio.py:161: UserWarning: PySoundFile failed. Trying audioread instead.\n",
      "  warnings.warn('PySoundFile failed. Trying audioread instead.')\n"
     ]
    },
    {
     "name": "stdout",
     "output_type": "stream",
     "text": [
      "././genres_2/Disco/01._Sing_It_Back_(Boris_Dlugosch_Musical_Mix).mp3 0.6410998106002808 0.12218088656663895 4186.941393597768 2840.602266490629 7649.308192702291 0.28206569025522044\n",
      "././genres_2/Disco/07_Who_Loves_You_.mp3\n"
     ]
    },
    {
     "name": "stderr",
     "output_type": "stream",
     "text": [
      "/Users/Andy/opt/anaconda3/lib/python3.7/site-packages/librosa/core/audio.py:161: UserWarning: PySoundFile failed. Trying audioread instead.\n",
      "  warnings.warn('PySoundFile failed. Trying audioread instead.')\n"
     ]
    },
    {
     "name": "stdout",
     "output_type": "stream",
     "text": [
      "././genres_2/Disco/07_Who_Loves_You_.mp3 0.6148505806922913 0.1678067445755005 1831.1720139350205 1777.901453745045 3675.8826448303366 0.10732897694315545\n",
      "././genres_2/Disco/Percussion.mp3\n"
     ]
    },
    {
     "name": "stderr",
     "output_type": "stream",
     "text": [
      "/Users/Andy/opt/anaconda3/lib/python3.7/site-packages/librosa/core/audio.py:161: UserWarning: PySoundFile failed. Trying audioread instead.\n",
      "  warnings.warn('PySoundFile failed. Trying audioread instead.')\n"
     ]
    },
    {
     "name": "stdout",
     "output_type": "stream",
     "text": [
      "././genres_2/Disco/Percussion.mp3 0.31551361083984375 0.025837013497948647 2629.860706296422 2436.008188846884 5349.377243148202 0.11197954430104408\n",
      "././genres_2/Disco/04_The_Fall_(Maurice_Fulton_Remix).m4a\n"
     ]
    },
    {
     "name": "stderr",
     "output_type": "stream",
     "text": [
      "/Users/Andy/opt/anaconda3/lib/python3.7/site-packages/librosa/core/audio.py:161: UserWarning: PySoundFile failed. Trying audioread instead.\n",
      "  warnings.warn('PySoundFile failed. Trying audioread instead.')\n"
     ]
    },
    {
     "name": "stdout",
     "output_type": "stream",
     "text": [
      "././genres_2/Disco/04_The_Fall_(Maurice_Fulton_Remix).m4a 0.5654833912849426 0.11705262959003448 1319.454156006491 1654.176700618373 2704.2655502283933 0.04591656395011601\n",
      "././genres_2/Disco/Hankuri.mp3\n"
     ]
    },
    {
     "name": "stderr",
     "output_type": "stream",
     "text": [
      "/Users/Andy/opt/anaconda3/lib/python3.7/site-packages/librosa/core/audio.py:161: UserWarning: PySoundFile failed. Trying audioread instead.\n",
      "  warnings.warn('PySoundFile failed. Trying audioread instead.')\n"
     ]
    },
    {
     "name": "stdout",
     "output_type": "stream",
     "text": [
      "././genres_2/Disco/Hankuri.mp3 0.49555593729019165 0.05009530112147331 3819.6692265510314 2761.209861166833 7042.956174775232 0.23737266168793503\n",
      "././genres_2/Disco/LANDR-MxMS_-_Other_Life_Dub.mp3\n"
     ]
    },
    {
     "name": "stderr",
     "output_type": "stream",
     "text": [
      "/Users/Andy/opt/anaconda3/lib/python3.7/site-packages/librosa/core/audio.py:161: UserWarning: PySoundFile failed. Trying audioread instead.\n",
      "  warnings.warn('PySoundFile failed. Trying audioread instead.')\n"
     ]
    },
    {
     "name": "stdout",
     "output_type": "stream",
     "text": [
      "././genres_2/Disco/LANDR-MxMS_-_Other_Life_Dub.mp3 0.5238970518112183 0.24452942609786987 1264.5869060740154 1524.907040910085 2522.981959650522 0.0564502972737819\n",
      "././genres_2/Disco/Jurassic_5_-_In_The_House_(Nightmares_on_Wax_Remix).mp3\n"
     ]
    },
    {
     "name": "stderr",
     "output_type": "stream",
     "text": [
      "/Users/Andy/opt/anaconda3/lib/python3.7/site-packages/librosa/core/audio.py:161: UserWarning: PySoundFile failed. Trying audioread instead.\n",
      "  warnings.warn('PySoundFile failed. Trying audioread instead.')\n"
     ]
    },
    {
     "name": "stdout",
     "output_type": "stream",
     "text": [
      "././genres_2/Disco/Jurassic_5_-_In_The_House_(Nightmares_on_Wax_Remix).mp3 0.5727859139442444 0.2281285971403122 2747.3329274788766 2887.4348337654806 6235.6359211861945 0.0914003589037123\n",
      "././genres_2/Disco/Eartha_Kitt_-_Where_is_my_man_-_12inch_Original_j.b._edit__###.wav\n",
      "././genres_2/Disco/Eartha_Kitt_-_Where_is_my_man_-_12inch_Original_j.b._edit__###.wav 0.403462678194046 0.17767859995365143 2812.483559978413 2579.982608802038 5785.53701874275 0.15037136564675174\n",
      "././genres_2/Disco/-Heartbeat-_Taana_Gardner__2011_West_End_Records_OFFICIAL_VIDEO_HD.mp3\n"
     ]
    },
    {
     "name": "stderr",
     "output_type": "stream",
     "text": [
      "/Users/Andy/opt/anaconda3/lib/python3.7/site-packages/librosa/core/audio.py:161: UserWarning: PySoundFile failed. Trying audioread instead.\n",
      "  warnings.warn('PySoundFile failed. Trying audioread instead.')\n"
     ]
    },
    {
     "name": "stdout",
     "output_type": "stream",
     "text": [
      "././genres_2/Disco/-Heartbeat-_Taana_Gardner__2011_West_End_Records_OFFICIAL_VIDEO_HD.mp3 0.5238499045372009 0.05787333473563194 2349.820281278081 2592.9036517949644 5281.5801279727375 0.0875009063225058\n",
      "././genres_2/Disco/09_Get_Down_on_It.m4a\n"
     ]
    },
    {
     "name": "stderr",
     "output_type": "stream",
     "text": [
      "/Users/Andy/opt/anaconda3/lib/python3.7/site-packages/librosa/core/audio.py:161: UserWarning: PySoundFile failed. Trying audioread instead.\n",
      "  warnings.warn('PySoundFile failed. Trying audioread instead.')\n"
     ]
    },
    {
     "name": "stdout",
     "output_type": "stream",
     "text": [
      "././genres_2/Disco/09_Get_Down_on_It.m4a 0.4168156385421753 0.16010746359825134 2655.6315687412816 2484.262277586107 5391.844117060615 0.1357082004060325\n",
      "././genres_2/Disco/01_Body_Funk.mp3\n"
     ]
    },
    {
     "name": "stderr",
     "output_type": "stream",
     "text": [
      "/Users/Andy/opt/anaconda3/lib/python3.7/site-packages/librosa/core/audio.py:161: UserWarning: PySoundFile failed. Trying audioread instead.\n",
      "  warnings.warn('PySoundFile failed. Trying audioread instead.')\n"
     ]
    },
    {
     "name": "stdout",
     "output_type": "stream",
     "text": [
      "././genres_2/Disco/01_Body_Funk.mp3 0.5313937067985535 0.10704705864191055 4398.669473086731 3168.1862067061707 8377.340294645446 0.3006532319460557\n",
      "././genres_2/Disco/07_Who_Loves_You_.m4a\n"
     ]
    },
    {
     "name": "stderr",
     "output_type": "stream",
     "text": [
      "/Users/Andy/opt/anaconda3/lib/python3.7/site-packages/librosa/core/audio.py:161: UserWarning: PySoundFile failed. Trying audioread instead.\n",
      "  warnings.warn('PySoundFile failed. Trying audioread instead.')\n"
     ]
    },
    {
     "name": "stdout",
     "output_type": "stream",
     "text": [
      "././genres_2/Disco/07_Who_Loves_You_.m4a 0.6138361096382141 0.16849811375141144 1818.5094415994688 1770.478279878646 3649.7780076312356 0.10660278603538283\n",
      "././genres_2/Disco/Julio_Bashmore_-_Holding_On.mp3\n"
     ]
    },
    {
     "name": "stderr",
     "output_type": "stream",
     "text": [
      "/Users/Andy/opt/anaconda3/lib/python3.7/site-packages/librosa/core/audio.py:161: UserWarning: PySoundFile failed. Trying audioread instead.\n",
      "  warnings.warn('PySoundFile failed. Trying audioread instead.')\n"
     ]
    },
    {
     "name": "stdout",
     "output_type": "stream",
     "text": [
      "././genres_2/Disco/Julio_Bashmore_-_Holding_On.mp3 0.39096754789352417 0.2475249320268631 2538.1114594525848 2604.652053464767 5471.506976417489 0.11618714653422274\n",
      "././genres_2/Disco/Kiki_Gyan_-_Disco_Dancer.mp3\n"
     ]
    },
    {
     "name": "stderr",
     "output_type": "stream",
     "text": [
      "/Users/Andy/opt/anaconda3/lib/python3.7/site-packages/librosa/core/audio.py:161: UserWarning: PySoundFile failed. Trying audioread instead.\n",
      "  warnings.warn('PySoundFile failed. Trying audioread instead.')\n"
     ]
    },
    {
     "name": "stdout",
     "output_type": "stream",
     "text": [
      "././genres_2/Disco/Kiki_Gyan_-_Disco_Dancer.mp3 0.44121748208999634 0.12310980260372162 2380.286424958268 2412.8727081927436 4981.489212496374 0.10843242459396751\n",
      "././genres_2/Disco/Alan_Braxe_&_Fred_Falke_-_Intro_(Official).mp3\n"
     ]
    },
    {
     "name": "stderr",
     "output_type": "stream",
     "text": [
      "/Users/Andy/opt/anaconda3/lib/python3.7/site-packages/librosa/core/audio.py:161: UserWarning: PySoundFile failed. Trying audioread instead.\n",
      "  warnings.warn('PySoundFile failed. Trying audioread instead.')\n"
     ]
    },
    {
     "name": "stdout",
     "output_type": "stream",
     "text": [
      "././genres_2/Disco/Alan_Braxe_&_Fred_Falke_-_Intro_(Official).mp3 0.5871909856796265 0.22091549634933472 3009.1301117975468 2694.410019198863 5956.103968786253 0.17683938152552203\n",
      "././genres_2/Disco/Sister_Sledge_-_Lost_In_Music.mp3\n"
     ]
    },
    {
     "name": "stderr",
     "output_type": "stream",
     "text": [
      "/Users/Andy/opt/anaconda3/lib/python3.7/site-packages/librosa/core/audio.py:161: UserWarning: PySoundFile failed. Trying audioread instead.\n",
      "  warnings.warn('PySoundFile failed. Trying audioread instead.')\n"
     ]
    },
    {
     "name": "stdout",
     "output_type": "stream",
     "text": [
      "././genres_2/Disco/Sister_Sledge_-_Lost_In_Music.mp3 0.4763740599155426 0.18962159752845764 2720.8481031775077 2722.1493473026594 5887.257672020011 0.14307886818445475\n",
      "././genres_2/Disco/05_Come_Close_To_Me.mp3\n"
     ]
    },
    {
     "name": "stderr",
     "output_type": "stream",
     "text": [
      "/Users/Andy/opt/anaconda3/lib/python3.7/site-packages/librosa/core/audio.py:161: UserWarning: PySoundFile failed. Trying audioread instead.\n",
      "  warnings.warn('PySoundFile failed. Trying audioread instead.')\n"
     ]
    },
    {
     "name": "stdout",
     "output_type": "stream",
     "text": [
      "././genres_2/Disco/05_Come_Close_To_Me.mp3 0.46635758876800537 0.17216522991657257 2088.2876340236753 2182.544582822278 3804.5572727849476 0.11071069279292343\n",
      "././genres_2/Disco/Room_5_&_Cheatham_-_Make_Luv'.mp3\n"
     ]
    },
    {
     "name": "stderr",
     "output_type": "stream",
     "text": [
      "/Users/Andy/opt/anaconda3/lib/python3.7/site-packages/librosa/core/audio.py:161: UserWarning: PySoundFile failed. Trying audioread instead.\n",
      "  warnings.warn('PySoundFile failed. Trying audioread instead.')\n"
     ]
    },
    {
     "name": "stdout",
     "output_type": "stream",
     "text": [
      "././genres_2/Disco/Room_5_&_Cheatham_-_Make_Luv'.mp3 0.5126290917396545 0.12728223204612732 2878.592767900581 2798.517251328065 6196.516436158643 0.13670855387180975\n",
      "././genres_2/Disco/01_Shango_(Daniel_Haaksman_&_DJ_Beware_Remix).mp3\n"
     ]
    },
    {
     "name": "stderr",
     "output_type": "stream",
     "text": [
      "/Users/Andy/opt/anaconda3/lib/python3.7/site-packages/librosa/core/audio.py:161: UserWarning: PySoundFile failed. Trying audioread instead.\n",
      "  warnings.warn('PySoundFile failed. Trying audioread instead.')\n"
     ]
    },
    {
     "name": "stdout",
     "output_type": "stream",
     "text": [
      "././genres_2/Disco/01_Shango_(Daniel_Haaksman_&_DJ_Beware_Remix).mp3 0.6080181002616882 0.16352489590644836 3229.1306504763847 2969.8061622350892 6975.658669881091 0.15258958997969838\n",
      "././genres_2/Disco/04_Dear_Life_(Purple_Disco_Machine_Remix).mp3\n"
     ]
    },
    {
     "name": "stderr",
     "output_type": "stream",
     "text": [
      "/Users/Andy/opt/anaconda3/lib/python3.7/site-packages/librosa/core/audio.py:161: UserWarning: PySoundFile failed. Trying audioread instead.\n",
      "  warnings.warn('PySoundFile failed. Trying audioread instead.')\n"
     ]
    },
    {
     "name": "stdout",
     "output_type": "stream",
     "text": [
      "././genres_2/Disco/04_Dear_Life_(Purple_Disco_Machine_Remix).mp3 0.4011054039001465 0.23830942809581757 3014.8532050409126 2649.163243175428 5885.209269866589 0.14429334034222738\n",
      "././genres_2/Disco/Zig_Zag__Heaven.mp3\n"
     ]
    },
    {
     "name": "stderr",
     "output_type": "stream",
     "text": [
      "/Users/Andy/opt/anaconda3/lib/python3.7/site-packages/librosa/core/audio.py:161: UserWarning: PySoundFile failed. Trying audioread instead.\n",
      "  warnings.warn('PySoundFile failed. Trying audioread instead.')\n"
     ]
    },
    {
     "name": "stdout",
     "output_type": "stream",
     "text": [
      "././genres_2/Disco/Zig_Zag__Heaven.mp3 0.3051798641681671 0.1065807119011879 1944.478080098141 2359.9910779785473 4291.927102215052 0.06274017546403712\n",
      "././genres_2/Disco/02_Oye_Coma_Va_(K&F_Edit).mp3\n"
     ]
    },
    {
     "name": "stderr",
     "output_type": "stream",
     "text": [
      "/Users/Andy/opt/anaconda3/lib/python3.7/site-packages/librosa/core/audio.py:161: UserWarning: PySoundFile failed. Trying audioread instead.\n",
      "  warnings.warn('PySoundFile failed. Trying audioread instead.')\n"
     ]
    },
    {
     "name": "stdout",
     "output_type": "stream",
     "text": [
      "././genres_2/Disco/02_Oye_Coma_Va_(K&F_Edit).mp3 0.5614134669303894 0.2026248276233673 1914.671824269669 2091.9881715623646 3789.9686525703305 0.06978683294663574\n",
      "././genres_2/Disco/Can't_You_See_(Original_Mix).mp3\n"
     ]
    },
    {
     "name": "stderr",
     "output_type": "stream",
     "text": [
      "/Users/Andy/opt/anaconda3/lib/python3.7/site-packages/librosa/core/audio.py:161: UserWarning: PySoundFile failed. Trying audioread instead.\n",
      "  warnings.warn('PySoundFile failed. Trying audioread instead.')\n"
     ]
    },
    {
     "name": "stdout",
     "output_type": "stream",
     "text": [
      "././genres_2/Disco/Can't_You_See_(Original_Mix).mp3 0.4195791780948639 0.2062343955039978 2626.2905061431943 2623.7813980539454 5656.737488217807 0.1170912032337587\n",
      "././genres_2/Disco/SB_PREMIERE___COEO_-_Cabrio_Mango_[Toy_Tonics].mp3\n"
     ]
    },
    {
     "name": "stderr",
     "output_type": "stream",
     "text": [
      "/Users/Andy/opt/anaconda3/lib/python3.7/site-packages/librosa/core/audio.py:161: UserWarning: PySoundFile failed. Trying audioread instead.\n",
      "  warnings.warn('PySoundFile failed. Trying audioread instead.')\n"
     ]
    },
    {
     "name": "stdout",
     "output_type": "stream",
     "text": [
      "././genres_2/Disco/SB_PREMIERE___COEO_-_Cabrio_Mango_[Toy_Tonics].mp3 0.48579952120780945 0.18238283693790436 1111.3921770301547 1714.501798815807 2120.8456442140373 0.034306572650812064\n",
      "././genres_2/Disco/Soy_Como_Soy_[DJ_Koze_No_Voy_A_Cambiar_Repaso].mp3\n"
     ]
    },
    {
     "name": "stderr",
     "output_type": "stream",
     "text": [
      "/Users/Andy/opt/anaconda3/lib/python3.7/site-packages/librosa/core/audio.py:161: UserWarning: PySoundFile failed. Trying audioread instead.\n",
      "  warnings.warn('PySoundFile failed. Trying audioread instead.')\n"
     ]
    },
    {
     "name": "stdout",
     "output_type": "stream",
     "text": [
      "././genres_2/Disco/Soy_Como_Soy_[DJ_Koze_No_Voy_A_Cambiar_Repaso].mp3 0.3208661377429962 0.1397595852613449 1174.7388459033332 1303.333329351462 2111.3280683548433 0.061393153639791184\n",
      "././genres_2/Disco/01_Final_Credits.mp3\n"
     ]
    },
    {
     "name": "stderr",
     "output_type": "stream",
     "text": [
      "/Users/Andy/opt/anaconda3/lib/python3.7/site-packages/librosa/core/audio.py:161: UserWarning: PySoundFile failed. Trying audioread instead.\n",
      "  warnings.warn('PySoundFile failed. Trying audioread instead.')\n"
     ]
    },
    {
     "name": "stdout",
     "output_type": "stream",
     "text": [
      "././genres_2/Disco/01_Final_Credits.mp3 0.38040053844451904 0.051723189651966095 2969.021907733675 2939.558425668036 6205.584362764646 0.11127147984338748\n",
      "././genres_2/Disco/01_Mighty_Tribe.mp3\n"
     ]
    },
    {
     "name": "stderr",
     "output_type": "stream",
     "text": [
      "/Users/Andy/opt/anaconda3/lib/python3.7/site-packages/librosa/core/audio.py:161: UserWarning: PySoundFile failed. Trying audioread instead.\n",
      "  warnings.warn('PySoundFile failed. Trying audioread instead.')\n"
     ]
    },
    {
     "name": "stdout",
     "output_type": "stream",
     "text": [
      "././genres_2/Disco/01_Mighty_Tribe.mp3 0.4595339298248291 0.1251537799835205 3296.812276092752 2938.412345543828 6936.189457656613 0.14224731728538284\n",
      "././genres_2/Disco/12_Inspector_Norse.mp3\n"
     ]
    },
    {
     "name": "stderr",
     "output_type": "stream",
     "text": [
      "/Users/Andy/opt/anaconda3/lib/python3.7/site-packages/librosa/core/audio.py:161: UserWarning: PySoundFile failed. Trying audioread instead.\n",
      "  warnings.warn('PySoundFile failed. Trying audioread instead.')\n"
     ]
    },
    {
     "name": "stdout",
     "output_type": "stream",
     "text": [
      "././genres_2/Disco/12_Inspector_Norse.mp3 0.4888436794281006 0.17426809668540955 1576.1505434872256 2140.7998034435727 3424.154004585992 0.0432644377175174\n",
      "././genres_2/Disco/01_He's_The_Greatest_Dancer.aif\n",
      "././genres_2/Disco/01_He's_The_Greatest_Dancer.aif 0.4651433229446411 0.0962105244398117 2270.0675852190197 2491.7888944038764 4893.033212188225 0.09939299050174014\n",
      "././genres_2/Disco/03_Beam_Me_Up_(Jacques_Renault_Remix).mp3\n"
     ]
    },
    {
     "name": "stderr",
     "output_type": "stream",
     "text": [
      "/Users/Andy/opt/anaconda3/lib/python3.7/site-packages/librosa/core/audio.py:161: UserWarning: PySoundFile failed. Trying audioread instead.\n",
      "  warnings.warn('PySoundFile failed. Trying audioread instead.')\n"
     ]
    },
    {
     "name": "stdout",
     "output_type": "stream",
     "text": [
      "././genres_2/Disco/03_Beam_Me_Up_(Jacques_Renault_Remix).mp3 0.4240088164806366 0.21527060866355896 3276.5815532182423 2991.6919323715683 7018.250446363834 0.13651822614559164\n",
      "././genres_2/Disco/01_It's_My_House.mp3\n"
     ]
    },
    {
     "name": "stderr",
     "output_type": "stream",
     "text": [
      "/Users/Andy/opt/anaconda3/lib/python3.7/site-packages/librosa/core/audio.py:161: UserWarning: PySoundFile failed. Trying audioread instead.\n",
      "  warnings.warn('PySoundFile failed. Trying audioread instead.')\n"
     ]
    },
    {
     "name": "stdout",
     "output_type": "stream",
     "text": [
      "././genres_2/Disco/01_It's_My_House.mp3 0.32504865527153015 0.07513009756803513 2046.3142587423756 2468.655068257048 4475.733724713602 0.08412825369779582\n",
      "././genres_2/Disco/Good_Name_(Auntie_Flo_Edit).mp3\n"
     ]
    },
    {
     "name": "stderr",
     "output_type": "stream",
     "text": [
      "/Users/Andy/opt/anaconda3/lib/python3.7/site-packages/librosa/core/audio.py:161: UserWarning: PySoundFile failed. Trying audioread instead.\n",
      "  warnings.warn('PySoundFile failed. Trying audioread instead.')\n"
     ]
    },
    {
     "name": "stdout",
     "output_type": "stream",
     "text": [
      "././genres_2/Disco/Good_Name_(Auntie_Flo_Edit).mp3 0.43078508973121643 0.19273479282855988 3442.8233212197115 2982.2444989646006 7131.287272513051 0.18320063261310904\n",
      "././genres_2/Disco/01_We_Magnify_His_Name_Original_Mix.wav\n",
      "././genres_2/Disco/01_We_Magnify_His_Name_Original_Mix.wav 0.5896557569503784 0.2897476851940155 2335.6936846532744 2828.4882124765363 5789.708764591793 0.0588781086861949\n",
      "././genres_2/Disco/01_I_Get_Lifted_(Todd_Terje_Tangoterje_Re-Edit).mp3\n"
     ]
    },
    {
     "name": "stderr",
     "output_type": "stream",
     "text": [
      "/Users/Andy/opt/anaconda3/lib/python3.7/site-packages/librosa/core/audio.py:161: UserWarning: PySoundFile failed. Trying audioread instead.\n",
      "  warnings.warn('PySoundFile failed. Trying audioread instead.')\n"
     ]
    },
    {
     "name": "stdout",
     "output_type": "stream",
     "text": [
      "././genres_2/Disco/01_I_Get_Lifted_(Todd_Terje_Tangoterje_Re-Edit).mp3 0.3765966296195984 0.07728161662817001 2128.311132513339 2294.085834995958 4394.846820167489 0.09302494199535963\n",
      "././genres_2/Disco/Lady_(Kaytranada_Reeeeeeeeeeeeeemix).mp3\n"
     ]
    },
    {
     "name": "stderr",
     "output_type": "stream",
     "text": [
      "/Users/Andy/opt/anaconda3/lib/python3.7/site-packages/librosa/core/audio.py:161: UserWarning: PySoundFile failed. Trying audioread instead.\n",
      "  warnings.warn('PySoundFile failed. Trying audioread instead.')\n"
     ]
    },
    {
     "name": "stdout",
     "output_type": "stream",
     "text": [
      "././genres_2/Disco/Lady_(Kaytranada_Reeeeeeeeeeeeeemix).mp3 0.394340455532074 0.09921108931303024 2978.0246810119324 2547.704282684698 6023.75120087732 0.16560438116299303\n",
      "././genres_2/Disco/03_Miura.mp3\n"
     ]
    },
    {
     "name": "stderr",
     "output_type": "stream",
     "text": [
      "/Users/Andy/opt/anaconda3/lib/python3.7/site-packages/librosa/core/audio.py:161: UserWarning: PySoundFile failed. Trying audioread instead.\n",
      "  warnings.warn('PySoundFile failed. Trying audioread instead.')\n"
     ]
    },
    {
     "name": "stdout",
     "output_type": "stream",
     "text": [
      "././genres_2/Disco/03_Miura.mp3 0.5229020118713379 0.18296049535274506 2125.352005792791 2249.5546668345755 4328.973204575116 0.0935642038863109\n",
      "././genres_2/Disco/Jimi_Bazzouka_-_So_So_Ye.mp3\n"
     ]
    },
    {
     "name": "stderr",
     "output_type": "stream",
     "text": [
      "/Users/Andy/opt/anaconda3/lib/python3.7/site-packages/librosa/core/audio.py:161: UserWarning: PySoundFile failed. Trying audioread instead.\n",
      "  warnings.warn('PySoundFile failed. Trying audioread instead.')\n"
     ]
    },
    {
     "name": "stdout",
     "output_type": "stream",
     "text": [
      "././genres_2/Disco/Jimi_Bazzouka_-_So_So_Ye.mp3 0.32379239797592163 0.08739146590232849 1533.235085338016 2053.213264882828 3206.5987075841067 0.056593043068445474\n",
      "././genres_2/Disco/04_Bug_Lady.mp3\n"
     ]
    },
    {
     "name": "stderr",
     "output_type": "stream",
     "text": [
      "/Users/Andy/opt/anaconda3/lib/python3.7/site-packages/librosa/core/audio.py:161: UserWarning: PySoundFile failed. Trying audioread instead.\n",
      "  warnings.warn('PySoundFile failed. Trying audioread instead.')\n"
     ]
    },
    {
     "name": "stdout",
     "output_type": "stream",
     "text": [
      "././genres_2/Disco/04_Bug_Lady.mp3 0.444411039352417 0.2915593981742859 2731.6690425034476 2675.551953727706 5838.970338330191 0.13914996012180975\n",
      "././genres_2/Disco/10_Operator_(DJ_Koze's_Disco_Edit).mp3\n"
     ]
    },
    {
     "name": "stderr",
     "output_type": "stream",
     "text": [
      "/Users/Andy/opt/anaconda3/lib/python3.7/site-packages/librosa/core/audio.py:161: UserWarning: PySoundFile failed. Trying audioread instead.\n",
      "  warnings.warn('PySoundFile failed. Trying audioread instead.')\n"
     ]
    },
    {
     "name": "stdout",
     "output_type": "stream",
     "text": [
      "././genres_2/Disco/10_Operator_(DJ_Koze's_Disco_Edit).mp3 0.4550397992134094 0.24952183663845062 1973.064854708413 2513.67939253779 4486.050677022912 0.0609411252900232\n",
      "././genres_2/Disco/2_(Side_B).mp3\n"
     ]
    },
    {
     "name": "stderr",
     "output_type": "stream",
     "text": [
      "/Users/Andy/opt/anaconda3/lib/python3.7/site-packages/librosa/core/audio.py:161: UserWarning: PySoundFile failed. Trying audioread instead.\n",
      "  warnings.warn('PySoundFile failed. Trying audioread instead.')\n"
     ]
    },
    {
     "name": "stdout",
     "output_type": "stream",
     "text": [
      "././genres_2/Disco/2_(Side_B).mp3 0.4983457624912262 0.1629790961742401 660.8263243802114 1037.6453808582567 1311.327105387181 0.017942919808584687\n",
      "././genres_2/Disco/rampa-mascha.mp3\n"
     ]
    },
    {
     "name": "stderr",
     "output_type": "stream",
     "text": [
      "/Users/Andy/opt/anaconda3/lib/python3.7/site-packages/librosa/core/audio.py:161: UserWarning: PySoundFile failed. Trying audioread instead.\n",
      "  warnings.warn('PySoundFile failed. Trying audioread instead.')\n"
     ]
    },
    {
     "name": "stdout",
     "output_type": "stream",
     "text": [
      "././genres_2/Disco/rampa-mascha.mp3 0.49174198508262634 0.2724904716014862 1183.8911349924197 1761.1202969911474 2120.620819587442 0.042142863616589324\n",
      "././genres_2/Disco/02_Angola_(Carl_Craig's_mix).mp3\n"
     ]
    },
    {
     "name": "stderr",
     "output_type": "stream",
     "text": [
      "/Users/Andy/opt/anaconda3/lib/python3.7/site-packages/librosa/core/audio.py:161: UserWarning: PySoundFile failed. Trying audioread instead.\n",
      "  warnings.warn('PySoundFile failed. Trying audioread instead.')\n"
     ]
    },
    {
     "name": "stdout",
     "output_type": "stream",
     "text": [
      "././genres_2/Disco/02_Angola_(Carl_Craig's_mix).mp3 0.41318634152412415 0.06788920611143112 3656.1345537063494 2951.9245803209774 7270.578618945766 0.17587867966937354\n",
      "././genres_2/Drumz/AGGRO_SANTOS_-_CANDY_(MESSED_DRUM&BASS_REMIX).mp3\n"
     ]
    },
    {
     "name": "stderr",
     "output_type": "stream",
     "text": [
      "/Users/Andy/opt/anaconda3/lib/python3.7/site-packages/librosa/core/audio.py:161: UserWarning: PySoundFile failed. Trying audioread instead.\n",
      "  warnings.warn('PySoundFile failed. Trying audioread instead.')\n"
     ]
    },
    {
     "name": "stdout",
     "output_type": "stream",
     "text": [
      "././genres_2/Drumz/AGGRO_SANTOS_-_CANDY_(MESSED_DRUM&BASS_REMIX).mp3 0.36629971861839294 0.20687313377857208 2400.3887597165162 2529.4999351511697 5201.692443989269 0.10859896135440836\n",
      "././genres_2/Drumz/09_Lightah_(De_Jedi_Mix)_[Explicit].mp3\n"
     ]
    },
    {
     "name": "stderr",
     "output_type": "stream",
     "text": [
      "/Users/Andy/opt/anaconda3/lib/python3.7/site-packages/librosa/core/audio.py:161: UserWarning: PySoundFile failed. Trying audioread instead.\n",
      "  warnings.warn('PySoundFile failed. Trying audioread instead.')\n"
     ]
    },
    {
     "name": "stdout",
     "output_type": "stream",
     "text": [
      "././genres_2/Drumz/09_Lightah_(De_Jedi_Mix)_[Explicit].mp3 0.4627293646335602 0.35431674122810364 2763.349786719616 2751.659637128156 6052.17902588457 0.09253099622969838\n",
      "././genres_2/Drumz/Barrington_Levy_-_Under_Mi_Sen.mp3\n"
     ]
    },
    {
     "name": "stderr",
     "output_type": "stream",
     "text": [
      "/Users/Andy/opt/anaconda3/lib/python3.7/site-packages/librosa/core/audio.py:161: UserWarning: PySoundFile failed. Trying audioread instead.\n",
      "  warnings.warn('PySoundFile failed. Trying audioread instead.')\n"
     ]
    },
    {
     "name": "stdout",
     "output_type": "stream",
     "text": [
      "././genres_2/Drumz/Barrington_Levy_-_Under_Mi_Sen.mp3 0.3688335716724396 0.06256159394979477 2201.1530944612055 1687.3928008490743 3524.6755931880803 0.16625013594837587\n",
      "././genres_2/Drumz/fugeez_or_not_orig_95_###.mp3\n"
     ]
    },
    {
     "name": "stderr",
     "output_type": "stream",
     "text": [
      "/Users/Andy/opt/anaconda3/lib/python3.7/site-packages/librosa/core/audio.py:161: UserWarning: PySoundFile failed. Trying audioread instead.\n",
      "  warnings.warn('PySoundFile failed. Trying audioread instead.')\n"
     ]
    },
    {
     "name": "stdout",
     "output_type": "stream",
     "text": [
      "././genres_2/Drumz/fugeez_or_not_orig_95_###.mp3 0.6161927580833435 0.05010334402322769 4410.810653093025 2770.3805562959787 7385.2391785092805 0.313924059237239\n",
      "././genres_2/Drumz/01_Bangin.mp3\n"
     ]
    },
    {
     "name": "stderr",
     "output_type": "stream",
     "text": [
      "/Users/Andy/opt/anaconda3/lib/python3.7/site-packages/librosa/core/audio.py:161: UserWarning: PySoundFile failed. Trying audioread instead.\n",
      "  warnings.warn('PySoundFile failed. Trying audioread instead.')\n"
     ]
    },
    {
     "name": "stdout",
     "output_type": "stream",
     "text": [
      "././genres_2/Drumz/01_Bangin.mp3 0.5836946368217468 0.3987186849117279 2732.3016006441494 2570.39645785127 5609.224550464037 0.11829208055394431\n",
      "././genres_2/Drumz/13_Hackney_Parrot_(Special_Request_VIP).mp3\n"
     ]
    },
    {
     "name": "stderr",
     "output_type": "stream",
     "text": [
      "/Users/Andy/opt/anaconda3/lib/python3.7/site-packages/librosa/core/audio.py:161: UserWarning: PySoundFile failed. Trying audioread instead.\n",
      "  warnings.warn('PySoundFile failed. Trying audioread instead.')\n"
     ]
    },
    {
     "name": "stdout",
     "output_type": "stream",
     "text": [
      "././genres_2/Drumz/13_Hackney_Parrot_(Special_Request_VIP).mp3 0.5604549646377563 0.0850064679980278 4221.612554394102 3048.0787779761727 7998.161071635731 0.2859526809019722\n",
      "././genres_2/Drumz/Buffalo_Charge.mp3\n"
     ]
    },
    {
     "name": "stderr",
     "output_type": "stream",
     "text": [
      "/Users/Andy/opt/anaconda3/lib/python3.7/site-packages/librosa/core/audio.py:161: UserWarning: PySoundFile failed. Trying audioread instead.\n",
      "  warnings.warn('PySoundFile failed. Trying audioread instead.')\n"
     ]
    },
    {
     "name": "stdout",
     "output_type": "stream",
     "text": [
      "././genres_2/Drumz/Buffalo_Charge.mp3 0.36470726132392883 0.13497158885002136 2399.817921129407 2266.2452706915283 4690.915872879205 0.12180634607018562\n",
      "././genres_2/Drumz/Dub_Phizix_-_8_Gold_Rings.mp3\n"
     ]
    },
    {
     "name": "stderr",
     "output_type": "stream",
     "text": [
      "/Users/Andy/opt/anaconda3/lib/python3.7/site-packages/librosa/core/audio.py:161: UserWarning: PySoundFile failed. Trying audioread instead.\n",
      "  warnings.warn('PySoundFile failed. Trying audioread instead.')\n"
     ]
    },
    {
     "name": "stdout",
     "output_type": "stream",
     "text": [
      "././genres_2/Drumz/Dub_Phizix_-_8_Gold_Rings.mp3 0.4173799753189087 0.2347603440284729 2183.395627601773 2446.450139474573 4648.948609248115 0.10376259788283063\n",
      "././genres_2/Drumz/01._Sam_Binga_&_Rider_Shafique_-_Proud_(feat._Tiffanie_Malvo)_(Enei_Remix).wav\n",
      "././genres_2/Drumz/01._Sam_Binga_&_Rider_Shafique_-_Proud_(feat._Tiffanie_Malvo)_(Enei_Remix).wav 0.4453044831752777 0.36967530846595764 2364.2819353009345 2566.357521532166 5133.570582130946 0.08679397476798144\n",
      "././genres_2/Drumz/01_Just_Push_It_Up_(Nine_Lives_Mix).mp3\n"
     ]
    },
    {
     "name": "stderr",
     "output_type": "stream",
     "text": [
      "/Users/Andy/opt/anaconda3/lib/python3.7/site-packages/librosa/core/audio.py:161: UserWarning: PySoundFile failed. Trying audioread instead.\n",
      "  warnings.warn('PySoundFile failed. Trying audioread instead.')\n"
     ]
    },
    {
     "name": "stdout",
     "output_type": "stream",
     "text": [
      "././genres_2/Drumz/01_Just_Push_It_Up_(Nine_Lives_Mix).mp3 0.5276201963424683 0.1315532773733139 4836.330322761593 2923.1886324994202 8239.322954430105 0.3130449264066125\n",
      "././genres_2/Drumz/01_King_of_the_Bong_O.mp3\n"
     ]
    },
    {
     "name": "stderr",
     "output_type": "stream",
     "text": [
      "/Users/Andy/opt/anaconda3/lib/python3.7/site-packages/librosa/core/audio.py:161: UserWarning: PySoundFile failed. Trying audioread instead.\n",
      "  warnings.warn('PySoundFile failed. Trying audioread instead.')\n"
     ]
    },
    {
     "name": "stdout",
     "output_type": "stream",
     "text": [
      "././genres_2/Drumz/01_King_of_the_Bong_O.mp3 0.39290910959243774 0.2204499989748001 3600.4891467399375 3109.638674832877 7571.019261619054 0.16805824934744779\n",
      "././genres_2/Drumz/Tessela_-_Hackney_Parrot_(Special_Request_VIP)_[Houndstooth].mp3\n"
     ]
    },
    {
     "name": "stderr",
     "output_type": "stream",
     "text": [
      "/Users/Andy/opt/anaconda3/lib/python3.7/site-packages/librosa/core/audio.py:161: UserWarning: PySoundFile failed. Trying audioread instead.\n",
      "  warnings.warn('PySoundFile failed. Trying audioread instead.')\n"
     ]
    },
    {
     "name": "stdout",
     "output_type": "stream",
     "text": [
      "././genres_2/Drumz/Tessela_-_Hackney_Parrot_(Special_Request_VIP)_[Houndstooth].mp3 0.5597058534622192 0.12685108184814453 4196.87400644457 3034.8708815065975 7941.155538536833 0.2874990936774942\n",
      "././genres_2/Drumz/JDZmedia_-_Devilman_Ft_Badness_-_Drum_And_Bass_Fat.mp3\n"
     ]
    },
    {
     "name": "stderr",
     "output_type": "stream",
     "text": [
      "/Users/Andy/opt/anaconda3/lib/python3.7/site-packages/librosa/core/audio.py:161: UserWarning: PySoundFile failed. Trying audioread instead.\n",
      "  warnings.warn('PySoundFile failed. Trying audioread instead.')\n"
     ]
    },
    {
     "name": "stdout",
     "output_type": "stream",
     "text": [
      "././genres_2/Drumz/JDZmedia_-_Devilman_Ft_Badness_-_Drum_And_Bass_Fat.mp3 0.5462567210197449 0.36384692788124084 2057.6012179023596 2263.2244131195707 4296.098848064095 0.06607317647911833\n",
      "././genres_2/Drumz/55_John_B-Up_All_Night.mp3\n"
     ]
    },
    {
     "name": "stderr",
     "output_type": "stream",
     "text": [
      "/Users/Andy/opt/anaconda3/lib/python3.7/site-packages/librosa/core/audio.py:161: UserWarning: PySoundFile failed. Trying audioread instead.\n",
      "  warnings.warn('PySoundFile failed. Trying audioread instead.')\n"
     ]
    },
    {
     "name": "stdout",
     "output_type": "stream",
     "text": [
      "././genres_2/Drumz/55_John_B-Up_All_Night.mp3 0.4962051510810852 0.3868037760257721 2699.791164336707 2566.8277202827107 5582.620302983613 0.12473943227958237\n",
      "././genres_2/Drumz/03._Nuyorican_Soul_-_It's_Alright,_I_Feel_It!_(Roni_Size_Remix).mp3\n"
     ]
    },
    {
     "name": "stderr",
     "output_type": "stream",
     "text": [
      "/Users/Andy/opt/anaconda3/lib/python3.7/site-packages/librosa/core/audio.py:161: UserWarning: PySoundFile failed. Trying audioread instead.\n",
      "  warnings.warn('PySoundFile failed. Trying audioread instead.')\n"
     ]
    },
    {
     "name": "stdout",
     "output_type": "stream",
     "text": [
      "././genres_2/Drumz/03._Nuyorican_Soul_-_It's_Alright,_I_Feel_It!_(Roni_Size_Remix).mp3 0.5670932531356812 0.14765983819961548 4280.541784446215 3005.2595577520515 7746.657256017981 0.31332928509280744\n",
      "././genres_2/Drumz/DJ_Hazard_-_Bricks_Don&#039;t_Roll_(320__kbps).mp3\n"
     ]
    },
    {
     "name": "stderr",
     "output_type": "stream",
     "text": [
      "/Users/Andy/opt/anaconda3/lib/python3.7/site-packages/librosa/core/audio.py:161: UserWarning: PySoundFile failed. Trying audioread instead.\n",
      "  warnings.warn('PySoundFile failed. Trying audioread instead.')\n"
     ]
    },
    {
     "name": "stdout",
     "output_type": "stream",
     "text": [
      "././genres_2/Drumz/DJ_Hazard_-_Bricks_Don&#039;t_Roll_(320__kbps).mp3 0.3970686197280884 0.4839833676815033 3147.5512912955637 3033.831136067936 6945.906877628336 0.08508329103828306\n",
      "././genres_2/Drumz/1-04_Slaughtered_(feat._Ragga_Twins).mp3\n"
     ]
    },
    {
     "name": "stderr",
     "output_type": "stream",
     "text": [
      "/Users/Andy/opt/anaconda3/lib/python3.7/site-packages/librosa/core/audio.py:161: UserWarning: PySoundFile failed. Trying audioread instead.\n",
      "  warnings.warn('PySoundFile failed. Trying audioread instead.')\n"
     ]
    },
    {
     "name": "stdout",
     "output_type": "stream",
     "text": [
      "././genres_2/Drumz/1-04_Slaughtered_(feat._Ragga_Twins).mp3 0.5035602450370789 0.2876393496990204 2864.9463180122907 2759.746786697437 6186.524230532193 0.1378947034512761\n",
      "././genres_2/Drumz/04_Domepiece.mp3\n"
     ]
    },
    {
     "name": "stderr",
     "output_type": "stream",
     "text": [
      "/Users/Andy/opt/anaconda3/lib/python3.7/site-packages/librosa/core/audio.py:161: UserWarning: PySoundFile failed. Trying audioread instead.\n",
      "  warnings.warn('PySoundFile failed. Trying audioread instead.')\n"
     ]
    },
    {
     "name": "stdout",
     "output_type": "stream",
     "text": [
      "././genres_2/Drumz/04_Domepiece.mp3 0.3341961205005646 0.052002500742673874 2175.4440094413076 2269.30910476636 4449.254379803509 0.08864967009860789\n",
      "././genres_2/Drumz/152_Incredible.mp3\n"
     ]
    },
    {
     "name": "stderr",
     "output_type": "stream",
     "text": [
      "/Users/Andy/opt/anaconda3/lib/python3.7/site-packages/librosa/core/audio.py:161: UserWarning: PySoundFile failed. Trying audioread instead.\n",
      "  warnings.warn('PySoundFile failed. Trying audioread instead.')\n"
     ]
    },
    {
     "name": "stdout",
     "output_type": "stream",
     "text": [
      "././genres_2/Drumz/152_Incredible.mp3 0.46765202283859253 0.09325546771287918 3320.178712861009 3031.970463594374 7168.708082584107 0.13428074245939675\n",
      "././genres_2/Drumz/01_Bad_Boys_ft._Top_Cat_(Original_Mix).mp3\n"
     ]
    },
    {
     "name": "stderr",
     "output_type": "stream",
     "text": [
      "/Users/Andy/opt/anaconda3/lib/python3.7/site-packages/librosa/core/audio.py:161: UserWarning: PySoundFile failed. Trying audioread instead.\n",
      "  warnings.warn('PySoundFile failed. Trying audioread instead.')\n"
     ]
    },
    {
     "name": "stdout",
     "output_type": "stream",
     "text": [
      "././genres_2/Drumz/01_Bad_Boys_ft._Top_Cat_(Original_Mix).mp3 0.4337066113948822 0.32509034872055054 3616.206229735132 2994.495055654271 7509.442294446056 0.19830109846287702\n",
      "././genres_2/Drumz/Congo_Natty_Junglist_(320__kbps).mp3\n"
     ]
    },
    {
     "name": "stderr",
     "output_type": "stream",
     "text": [
      "/Users/Andy/opt/anaconda3/lib/python3.7/site-packages/librosa/core/audio.py:161: UserWarning: PySoundFile failed. Trying audioread instead.\n",
      "  warnings.warn('PySoundFile failed. Trying audioread instead.')\n"
     ]
    },
    {
     "name": "stdout",
     "output_type": "stream",
     "text": [
      "././genres_2/Drumz/Congo_Natty_Junglist_(320__kbps).mp3 0.41966068744659424 0.12215125560760498 4565.159525823357 3077.197943795987 8244.319057243329 0.293398120287123\n",
      "././genres_2/Drumz/Congo_Natty_-_Get_Ready.wav\n",
      "././genres_2/Drumz/Congo_Natty_-_Get_Ready.wav 0.4511112570762634 0.311201274394989 2375.2178404562296 2460.5287478566293 5011.315946291328 0.08550812971287702\n",
      "././genres_2/Drumz/1-01_Going_Down.mp3\n"
     ]
    },
    {
     "name": "stderr",
     "output_type": "stream",
     "text": [
      "/Users/Andy/opt/anaconda3/lib/python3.7/site-packages/librosa/core/audio.py:161: UserWarning: PySoundFile failed. Trying audioread instead.\n",
      "  warnings.warn('PySoundFile failed. Trying audioread instead.')\n"
     ]
    },
    {
     "name": "stdout",
     "output_type": "stream",
     "text": [
      "././genres_2/Drumz/1-01_Going_Down.mp3 0.29277026653289795 0.1605529636144638 1893.9303361987456 1389.9784109624823 3042.0520614305397 0.12944324608468677\n",
      "././genres_2/Drumz/01_Special_Dedication_(Sigma_Remix).mp3\n"
     ]
    },
    {
     "name": "stderr",
     "output_type": "stream",
     "text": [
      "/Users/Andy/opt/anaconda3/lib/python3.7/site-packages/librosa/core/audio.py:161: UserWarning: PySoundFile failed. Trying audioread instead.\n",
      "  warnings.warn('PySoundFile failed. Trying audioread instead.')\n"
     ]
    },
    {
     "name": "stdout",
     "output_type": "stream",
     "text": [
      "././genres_2/Drumz/01_Special_Dedication_(Sigma_Remix).mp3 0.5227875709533691 0.1662878394126892 3763.8900458732037 2877.774768872072 7175.952431663283 0.2117441270301624\n",
      "././genres_2/Drumz/01_Sensi.mp3\n"
     ]
    },
    {
     "name": "stderr",
     "output_type": "stream",
     "text": [
      "/Users/Andy/opt/anaconda3/lib/python3.7/site-packages/librosa/core/audio.py:161: UserWarning: PySoundFile failed. Trying audioread instead.\n",
      "  warnings.warn('PySoundFile failed. Trying audioread instead.')\n"
     ]
    },
    {
     "name": "stdout",
     "output_type": "stream",
     "text": [
      "././genres_2/Drumz/01_Sensi.mp3 0.49449342489242554 0.20588266849517822 4071.2813055991114 3117.0456794241363 8021.992482054814 0.22687971287703015\n",
      "././genres_2/Drumz/12_Gallist_(X_Nation_Mix).mp3\n"
     ]
    },
    {
     "name": "stderr",
     "output_type": "stream",
     "text": [
      "/Users/Andy/opt/anaconda3/lib/python3.7/site-packages/librosa/core/audio.py:161: UserWarning: PySoundFile failed. Trying audioread instead.\n",
      "  warnings.warn('PySoundFile failed. Trying audioread instead.')\n"
     ]
    },
    {
     "name": "stdout",
     "output_type": "stream",
     "text": [
      "././genres_2/Drumz/12_Gallist_(X_Nation_Mix).mp3 0.5603444576263428 0.13184592127799988 4257.398418120223 2996.322431876851 8029.686480387181 0.3047883283787703\n",
      "././genres_2/Trap/02_-_Wonderful_(Feat_The_Weeknd).mp3\n"
     ]
    },
    {
     "name": "stderr",
     "output_type": "stream",
     "text": [
      "/Users/Andy/opt/anaconda3/lib/python3.7/site-packages/librosa/core/audio.py:161: UserWarning: PySoundFile failed. Trying audioread instead.\n",
      "  warnings.warn('PySoundFile failed. Trying audioread instead.')\n"
     ]
    },
    {
     "name": "stdout",
     "output_type": "stream",
     "text": [
      "././genres_2/Trap/02_-_Wonderful_(Feat_The_Weeknd).mp3 0.39991214871406555 0.2275209128856659 3072.841748757377 2963.805180422831 6702.3968265117455 0.1275331714037123\n",
      "././genres_2/Trap/Sharda_&_Shanique_Marie_-_Wanna_Know.mp3\n"
     ]
    },
    {
     "name": "stderr",
     "output_type": "stream",
     "text": [
      "/Users/Andy/opt/anaconda3/lib/python3.7/site-packages/librosa/core/audio.py:161: UserWarning: PySoundFile failed. Trying audioread instead.\n",
      "  warnings.warn('PySoundFile failed. Trying audioread instead.')\n"
     ]
    },
    {
     "name": "stdout",
     "output_type": "stream",
     "text": [
      "././genres_2/Trap/Sharda_&_Shanique_Marie_-_Wanna_Know.mp3 0.4070229232311249 0.23430825769901276 2328.738097796515 2607.5722063702096 4994.329196726363 0.08879015008700696\n",
      "././genres_2/Trap/22_BIRTHDAY_VAMP.mp3\n"
     ]
    },
    {
     "name": "stderr",
     "output_type": "stream",
     "text": [
      "/Users/Andy/opt/anaconda3/lib/python3.7/site-packages/librosa/core/audio.py:161: UserWarning: PySoundFile failed. Trying audioread instead.\n",
      "  warnings.warn('PySoundFile failed. Trying audioread instead.')\n"
     ]
    },
    {
     "name": "stdout",
     "output_type": "stream",
     "text": [
      "././genres_2/Trap/22_BIRTHDAY_VAMP.mp3 0.703423261642456 0.40989622473716736 1727.9099323549972 2462.3723823101986 4179.864516114414 0.026803355205916472\n",
      "././genres_2/Trap/48_-_NAV_-_Know_Me.mp3\n"
     ]
    },
    {
     "name": "stderr",
     "output_type": "stream",
     "text": [
      "/Users/Andy/opt/anaconda3/lib/python3.7/site-packages/librosa/core/audio.py:161: UserWarning: PySoundFile failed. Trying audioread instead.\n",
      "  warnings.warn('PySoundFile failed. Trying audioread instead.')\n"
     ]
    },
    {
     "name": "stdout",
     "output_type": "stream",
     "text": [
      "././genres_2/Trap/48_-_NAV_-_Know_Me.mp3 0.4782518446445465 0.3509482443332672 2324.8244735132353 2727.0011690422457 5315.15393887761 0.07020827291183294\n",
      "././genres_2/Trap/2017_429__Get_right_witcha_-_Migos.mp3\n"
     ]
    },
    {
     "name": "stderr",
     "output_type": "stream",
     "text": [
      "/Users/Andy/opt/anaconda3/lib/python3.7/site-packages/librosa/core/audio.py:161: UserWarning: PySoundFile failed. Trying audioread instead.\n",
      "  warnings.warn('PySoundFile failed. Trying audioread instead.')\n"
     ]
    },
    {
     "name": "stdout",
     "output_type": "stream",
     "text": [
      "././genres_2/Trap/2017_429__Get_right_witcha_-_Migos.mp3 0.5219667553901672 0.28543490171432495 2894.39689596227 2759.888301967155 6016.581793340342 0.12400644395301624\n",
      "././genres_2/Trap/Gypsy_Woman_(She's_Homeless)_1.mp3\n"
     ]
    },
    {
     "name": "stderr",
     "output_type": "stream",
     "text": [
      "/Users/Andy/opt/anaconda3/lib/python3.7/site-packages/librosa/core/audio.py:161: UserWarning: PySoundFile failed. Trying audioread instead.\n",
      "  warnings.warn('PySoundFile failed. Trying audioread instead.')\n"
     ]
    },
    {
     "name": "stdout",
     "output_type": "stream",
     "text": [
      "././genres_2/Trap/Gypsy_Woman_(She's_Homeless)_1.mp3 0.352520614862442 0.054169055074453354 2007.0734769967482 1950.2158420281048 3622.6741498694896 0.11791142510150812\n",
      "././genres_2/Trap/03-future-where_ya_at_(feat._drake).mp3\n"
     ]
    },
    {
     "name": "stderr",
     "output_type": "stream",
     "text": [
      "/Users/Andy/opt/anaconda3/lib/python3.7/site-packages/librosa/core/audio.py:161: UserWarning: PySoundFile failed. Trying audioread instead.\n",
      "  warnings.warn('PySoundFile failed. Trying audioread instead.')\n"
     ]
    },
    {
     "name": "stdout",
     "output_type": "stream",
     "text": [
      "././genres_2/Trap/03-future-where_ya_at_(feat._drake).mp3 0.5577176809310913 0.3957598805427551 2166.1768342134724 2762.437387536995 5264.043807098318 0.031236405162412995\n",
      "././genres_2/Trap/Octavian_feat._Suspect_-_Break_That_www.my-free-mp3.net.mp3\n"
     ]
    },
    {
     "name": "stderr",
     "output_type": "stream",
     "text": [
      "/Users/Andy/opt/anaconda3/lib/python3.7/site-packages/librosa/core/audio.py:161: UserWarning: PySoundFile failed. Trying audioread instead.\n",
      "  warnings.warn('PySoundFile failed. Trying audioread instead.')\n"
     ]
    },
    {
     "name": "stdout",
     "output_type": "stream",
     "text": [
      "././genres_2/Trap/Octavian_feat._Suspect_-_Break_That_www.my-free-mp3.net.mp3 0.4026702642440796 0.17625370621681213 2710.1447326863035 2547.8840603375215 5573.602337405742 0.12203519250290024\n",
      "././genres_2/Trap/Young_Thug_-_Hercules_X_Last_Japan_-_Gaza_[Silk_Road_Assassins_Truancy_Rip].mp3\n"
     ]
    },
    {
     "name": "stderr",
     "output_type": "stream",
     "text": [
      "/Users/Andy/opt/anaconda3/lib/python3.7/site-packages/librosa/core/audio.py:161: UserWarning: PySoundFile failed. Trying audioread instead.\n",
      "  warnings.warn('PySoundFile failed. Trying audioread instead.')\n"
     ]
    },
    {
     "name": "stdout",
     "output_type": "stream",
     "text": [
      "././genres_2/Trap/Young_Thug_-_Hercules_X_Last_Japan_-_Gaza_[Silk_Road_Assassins_Truancy_Rip].mp3 0.4782368838787079 0.1370503008365631 3049.331556326364 2771.465049904112 6345.500222049014 0.1256899380075406\n",
      "././genres_2/Trap/Dem_a_Talk.mp3\n"
     ]
    },
    {
     "name": "stderr",
     "output_type": "stream",
     "text": [
      "/Users/Andy/opt/anaconda3/lib/python3.7/site-packages/librosa/core/audio.py:161: UserWarning: PySoundFile failed. Trying audioread instead.\n",
      "  warnings.warn('PySoundFile failed. Trying audioread instead.')\n"
     ]
    },
    {
     "name": "stdout",
     "output_type": "stream",
     "text": [
      "././genres_2/Trap/Dem_a_Talk.mp3 0.44155606627464294 0.10874150693416595 1918.5136353905818 2099.8773986036153 4063.3304179959396 0.06305965414733179\n",
      "././genres_2/Trap/Lil_Uzi_Vert_feat._Lil_Keed_&_Lil_Gotit_-_Heavy_Metal.mp3\n"
     ]
    },
    {
     "name": "stderr",
     "output_type": "stream",
     "text": [
      "/Users/Andy/opt/anaconda3/lib/python3.7/site-packages/librosa/core/audio.py:161: UserWarning: PySoundFile failed. Trying audioread instead.\n",
      "  warnings.warn('PySoundFile failed. Trying audioread instead.')\n"
     ]
    },
    {
     "name": "stdout",
     "output_type": "stream",
     "text": [
      "././genres_2/Trap/Lil_Uzi_Vert_feat._Lil_Keed_&_Lil_Gotit_-_Heavy_Metal.mp3 0.4229711890220642 0.1664218306541443 2283.7721410293248 2685.384366948437 5084.408930448811 0.063955780524942\n",
      "././genres_2/Trap/-_Speedball2_(Asa_&_Sorrow_Remix).wav\n",
      "././genres_2/Trap/-_Speedball2_(Asa_&_Sorrow_Remix).wav 0.32069364190101624 0.07743614166975021 1494.9200457383818 1849.2391038743094 2805.111885513341 0.06966561231148492\n",
      "././genres_2/Trap/26_Too_Hotty.mp3\n"
     ]
    },
    {
     "name": "stderr",
     "output_type": "stream",
     "text": [
      "/Users/Andy/opt/anaconda3/lib/python3.7/site-packages/librosa/core/audio.py:161: UserWarning: PySoundFile failed. Trying audioread instead.\n",
      "  warnings.warn('PySoundFile failed. Trying audioread instead.')\n"
     ]
    },
    {
     "name": "stdout",
     "output_type": "stream",
     "text": [
      "././genres_2/Trap/26_Too_Hotty.mp3 0.472156822681427 0.36442023515701294 2613.037669761078 2959.0855692077153 6043.410865447361 0.05457307678364269\n",
      "././genres_2/Trap/08_Bankroll_Fresh_-_Take_Over_Your_Trap_(Feat._2_Chainz_&_Skooly)_[Prod._By_Mondo].mp3\n"
     ]
    },
    {
     "name": "stderr",
     "output_type": "stream",
     "text": [
      "/Users/Andy/opt/anaconda3/lib/python3.7/site-packages/librosa/core/audio.py:161: UserWarning: PySoundFile failed. Trying audioread instead.\n",
      "  warnings.warn('PySoundFile failed. Trying audioread instead.')\n"
     ]
    },
    {
     "name": "stdout",
     "output_type": "stream",
     "text": [
      "././genres_2/Trap/08_Bankroll_Fresh_-_Take_Over_Your_Trap_(Feat._2_Chainz_&_Skooly)_[Prod._By_Mondo].mp3 0.30516380071640015 0.1533423662185669 2306.462077952566 2520.9037337679265 5150.482390153712 0.08014723209106729\n",
      "././genres_2/Trap/OT_Genesis_vs_Mike_Williams_-_Coco_Konnichiwa_(David_Souza_&_Maribu_Mashup).mp3\n"
     ]
    },
    {
     "name": "stderr",
     "output_type": "stream",
     "text": [
      "/Users/Andy/opt/anaconda3/lib/python3.7/site-packages/librosa/core/audio.py:161: UserWarning: PySoundFile failed. Trying audioread instead.\n",
      "  warnings.warn('PySoundFile failed. Trying audioread instead.')\n"
     ]
    },
    {
     "name": "stdout",
     "output_type": "stream",
     "text": [
      "././genres_2/Trap/OT_Genesis_vs_Mike_Williams_-_Coco_Konnichiwa_(David_Souza_&_Maribu_Mashup).mp3 0.6104839444160461 0.43104541301727295 1199.9672593305766 1868.1554932561298 2775.4350348027842 0.02388273093097448\n",
      "././genres_2/Trap/35._Last_Japan_-_Ascend_(feat_AJ_Tracey).mp3\n"
     ]
    },
    {
     "name": "stderr",
     "output_type": "stream",
     "text": [
      "/Users/Andy/opt/anaconda3/lib/python3.7/site-packages/librosa/core/audio.py:161: UserWarning: PySoundFile failed. Trying audioread instead.\n",
      "  warnings.warn('PySoundFile failed. Trying audioread instead.')\n"
     ]
    },
    {
     "name": "stdout",
     "output_type": "stream",
     "text": [
      "././genres_2/Trap/35._Last_Japan_-_Ascend_(feat_AJ_Tracey).mp3 0.40056028962135315 0.16060517728328705 3262.101552921584 2987.8585483449806 6969.338599822361 0.1427435288573086\n",
      "././genres_2/Trap/05_MAMA_(feat._Nicki_Minaj_and_Kanye_West).mp3\n"
     ]
    },
    {
     "name": "stderr",
     "output_type": "stream",
     "text": [
      "/Users/Andy/opt/anaconda3/lib/python3.7/site-packages/librosa/core/audio.py:161: UserWarning: PySoundFile failed. Trying audioread instead.\n",
      "  warnings.warn('PySoundFile failed. Trying audioread instead.')\n"
     ]
    },
    {
     "name": "stdout",
     "output_type": "stream",
     "text": [
      "././genres_2/Trap/05_MAMA_(feat._Nicki_Minaj_and_Kanye_West).mp3 0.4236273765563965 0.21336814761161804 3031.6204429788218 2954.455094949728 6496.25762443808 0.1258847973462877\n",
      "././genres_2/Trap/05_-_Crushed_Up.mp3\n"
     ]
    },
    {
     "name": "stderr",
     "output_type": "stream",
     "text": [
      "/Users/Andy/opt/anaconda3/lib/python3.7/site-packages/librosa/core/audio.py:161: UserWarning: PySoundFile failed. Trying audioread instead.\n",
      "  warnings.warn('PySoundFile failed. Trying audioread instead.')\n"
     ]
    },
    {
     "name": "stdout",
     "output_type": "stream",
     "text": [
      "././genres_2/Trap/05_-_Crushed_Up.mp3 0.4237184226512909 0.32653841376304626 2499.59382463179 2645.2949487285227 5255.77525694243 0.08884906104988399\n",
      "././genres_2/Trap/15._Trapping_Ain't_Dead_(Section_Remix).mp3\n"
     ]
    },
    {
     "name": "stderr",
     "output_type": "stream",
     "text": [
      "/Users/Andy/opt/anaconda3/lib/python3.7/site-packages/librosa/core/audio.py:161: UserWarning: PySoundFile failed. Trying audioread instead.\n",
      "  warnings.warn('PySoundFile failed. Trying audioread instead.')\n"
     ]
    },
    {
     "name": "stdout",
     "output_type": "stream",
     "text": [
      "././genres_2/Trap/15._Trapping_Ain't_Dead_(Section_Remix).mp3 0.5452302694320679 0.3176206052303314 2682.770931209851 2868.4169149972345 6036.466282536978 0.06201058584686775\n",
      "././genres_2/Trap/07_sweet_sweet.mp3\n"
     ]
    },
    {
     "name": "stderr",
     "output_type": "stream",
     "text": [
      "/Users/Andy/opt/anaconda3/lib/python3.7/site-packages/librosa/core/audio.py:161: UserWarning: PySoundFile failed. Trying audioread instead.\n",
      "  warnings.warn('PySoundFile failed. Trying audioread instead.')\n"
     ]
    },
    {
     "name": "stdout",
     "output_type": "stream",
     "text": [
      "././genres_2/Trap/07_sweet_sweet.mp3 0.48924851417541504 0.34906303882598877 2628.1358087749345 2864.591803634527 5974.164880456062 0.08639859157482599\n",
      "././genres_2/Trap/03_-_Iamddb_-_Shade.mp3\n"
     ]
    },
    {
     "name": "stderr",
     "output_type": "stream",
     "text": [
      "/Users/Andy/opt/anaconda3/lib/python3.7/site-packages/librosa/core/audio.py:161: UserWarning: PySoundFile failed. Trying audioread instead.\n",
      "  warnings.warn('PySoundFile failed. Trying audioread instead.')\n"
     ]
    },
    {
     "name": "stdout",
     "output_type": "stream",
     "text": [
      "././genres_2/Trap/03_-_Iamddb_-_Shade.mp3 0.34687539935112 0.24988022446632385 3266.768443800725 2711.7639401771826 6278.92715206279 0.17438098172853828\n",
      "././genres_2/Trap/One_Dance_(Ft._Wizkid_&_Kyla)_-_www.SongsLover.com.mp3\n"
     ]
    },
    {
     "name": "stderr",
     "output_type": "stream",
     "text": [
      "/Users/Andy/opt/anaconda3/lib/python3.7/site-packages/librosa/core/audio.py:161: UserWarning: PySoundFile failed. Trying audioread instead.\n",
      "  warnings.warn('PySoundFile failed. Trying audioread instead.')\n"
     ]
    },
    {
     "name": "stdout",
     "output_type": "stream",
     "text": [
      "././genres_2/Trap/One_Dance_(Ft._Wizkid_&_Kyla)_-_www.SongsLover.com.mp3 0.4619380533695221 0.3311619460582733 2124.2987728641288 2638.3963984283023 5128.624440345852 0.058753489341647334\n",
      "././genres_2/Trap/Dig_Dat_-_Sales_&_Joints_[Music_Video]___Link_Up_TV.mp3\n"
     ]
    },
    {
     "name": "stderr",
     "output_type": "stream",
     "text": [
      "/Users/Andy/opt/anaconda3/lib/python3.7/site-packages/librosa/core/audio.py:161: UserWarning: PySoundFile failed. Trying audioread instead.\n",
      "  warnings.warn('PySoundFile failed. Trying audioread instead.')\n"
     ]
    },
    {
     "name": "stdout",
     "output_type": "stream",
     "text": [
      "././genres_2/Trap/Dig_Dat_-_Sales_&_Joints_[Music_Video]___Link_Up_TV.mp3 0.5311605930328369 0.19390316307544708 2572.696995804997 2397.091326634261 5139.815710647476 0.1251495432134571\n",
      "././genres_2/Trap/05_Met_Gala_(feat._Offset).mp3\n"
     ]
    },
    {
     "name": "stderr",
     "output_type": "stream",
     "text": [
      "/Users/Andy/opt/anaconda3/lib/python3.7/site-packages/librosa/core/audio.py:161: UserWarning: PySoundFile failed. Trying audioread instead.\n",
      "  warnings.warn('PySoundFile failed. Trying audioread instead.')\n"
     ]
    },
    {
     "name": "stdout",
     "output_type": "stream",
     "text": [
      "././genres_2/Trap/05_Met_Gala_(feat._Offset).mp3 0.6331773996353149 0.2646949291229248 1771.3872241516308 2305.165501477114 3859.4644427022913 0.036573511818445474\n",
      "././genres_2/Trap/01._Free_Smoke.mp3\n"
     ]
    },
    {
     "name": "stderr",
     "output_type": "stream",
     "text": [
      "/Users/Andy/opt/anaconda3/lib/python3.7/site-packages/librosa/core/audio.py:161: UserWarning: PySoundFile failed. Trying audioread instead.\n",
      "  warnings.warn('PySoundFile failed. Trying audioread instead.')\n"
     ]
    },
    {
     "name": "stdout",
     "output_type": "stream",
     "text": [
      "././genres_2/Trap/01._Free_Smoke.mp3 0.27236008644104004 0.06587721407413483 2430.405561626063 2467.3235142394865 5273.936090668503 0.11471210665603249\n",
      "././genres_2/Trap/Shosho.mp3\n"
     ]
    },
    {
     "name": "stderr",
     "output_type": "stream",
     "text": [
      "/Users/Andy/opt/anaconda3/lib/python3.7/site-packages/librosa/core/audio.py:161: UserWarning: PySoundFile failed. Trying audioread instead.\n",
      "  warnings.warn('PySoundFile failed. Trying audioread instead.')\n"
     ]
    },
    {
     "name": "stdout",
     "output_type": "stream",
     "text": [
      "././genres_2/Trap/Shosho.mp3 0.43319424986839294 0.16511762142181396 2373.883239905538 2641.9577787806174 5321.523969964473 0.09408194061774942\n",
      "././genres_2/Trap/2017_152__Plain_Jane_-_A$AP_Ferg.mp3\n"
     ]
    },
    {
     "name": "stderr",
     "output_type": "stream",
     "text": [
      "/Users/Andy/opt/anaconda3/lib/python3.7/site-packages/librosa/core/audio.py:161: UserWarning: PySoundFile failed. Trying audioread instead.\n",
      "  warnings.warn('PySoundFile failed. Trying audioread instead.')\n"
     ]
    },
    {
     "name": "stdout",
     "output_type": "stream",
     "text": [
      "././genres_2/Trap/2017_152__Plain_Jane_-_A$AP_Ferg.mp3 0.532665491104126 0.3568556308746338 2377.2146268129272 2486.95074747449 5054.881962822651 0.07199939276392112\n",
      "././genres_2/Trap/20._DigDat_-_AirForce.mp3\n"
     ]
    },
    {
     "name": "stderr",
     "output_type": "stream",
     "text": [
      "/Users/Andy/opt/anaconda3/lib/python3.7/site-packages/librosa/core/audio.py:161: UserWarning: PySoundFile failed. Trying audioread instead.\n",
      "  warnings.warn('PySoundFile failed. Trying audioread instead.')\n"
     ]
    },
    {
     "name": "stdout",
     "output_type": "stream",
     "text": [
      "././genres_2/Trap/20._DigDat_-_AirForce.mp3 0.3781700134277344 0.11999648064374924 2525.03851040211 2177.4749284267373 4731.084539497535 0.14682877755220416\n",
      "././genres_2/Trap/2_Chainz_–_Bigger_Than_You_(feat._Drake_&_Quavo).mp3\n"
     ]
    },
    {
     "name": "stderr",
     "output_type": "stream",
     "text": [
      "/Users/Andy/opt/anaconda3/lib/python3.7/site-packages/librosa/core/audio.py:161: UserWarning: PySoundFile failed. Trying audioread instead.\n",
      "  warnings.warn('PySoundFile failed. Trying audioread instead.')\n"
     ]
    },
    {
     "name": "stdout",
     "output_type": "stream",
     "text": [
      "././genres_2/Trap/2_Chainz_–_Bigger_Than_You_(feat._Drake_&_Quavo).mp3 0.5054706931114197 0.30338254570961 2467.5262747768156 2713.2661468162332 5489.642829629495 0.07007912195475638\n",
      "././genres_2/Trap/Section_Boyz_-_Lock_Arff_[Official_Video]_@SectionBoyz_.mp3\n"
     ]
    },
    {
     "name": "stderr",
     "output_type": "stream",
     "text": [
      "/Users/Andy/opt/anaconda3/lib/python3.7/site-packages/librosa/core/audio.py:161: UserWarning: PySoundFile failed. Trying audioread instead.\n",
      "  warnings.warn('PySoundFile failed. Trying audioread instead.')\n"
     ]
    },
    {
     "name": "stdout",
     "output_type": "stream",
     "text": [
      "././genres_2/Trap/Section_Boyz_-_Lock_Arff_[Official_Video]_@SectionBoyz_.mp3 0.40282925963401794 0.31170886754989624 1396.433714263498 1960.9162613744577 2716.4560410926624 0.04305031902552204\n",
      "././genres_2/Trap/98_-_Desiigner_-_Timmy_Turner.mp3\n"
     ]
    },
    {
     "name": "stderr",
     "output_type": "stream",
     "text": [
      "/Users/Andy/opt/anaconda3/lib/python3.7/site-packages/librosa/core/audio.py:161: UserWarning: PySoundFile failed. Trying audioread instead.\n",
      "  warnings.warn('PySoundFile failed. Trying audioread instead.')\n"
     ]
    },
    {
     "name": "stdout",
     "output_type": "stream",
     "text": [
      "././genres_2/Trap/98_-_Desiigner_-_Timmy_Turner.mp3 0.35561612248420715 0.23588469624519348 2491.273932955735 2609.0502235169797 5149.183403422274 0.1124927494199536\n",
      "././genres_2/Trap/Naila_(Murlo_Remix).mp3\n"
     ]
    },
    {
     "name": "stderr",
     "output_type": "stream",
     "text": [
      "/Users/Andy/opt/anaconda3/lib/python3.7/site-packages/librosa/core/audio.py:161: UserWarning: PySoundFile failed. Trying audioread instead.\n",
      "  warnings.warn('PySoundFile failed. Trying audioread instead.')\n"
     ]
    },
    {
     "name": "stdout",
     "output_type": "stream",
     "text": [
      "././genres_2/Trap/Naila_(Murlo_Remix).mp3 0.5268215537071228 0.29250770807266235 3192.591556012796 2853.9696738993894 6648.139149960121 0.1247020464762181\n",
      "././genres_2/Trap/PRRR_[DUBPLATE]_{RIP}.mp3\n"
     ]
    },
    {
     "name": "stderr",
     "output_type": "stream",
     "text": [
      "/Users/Andy/opt/anaconda3/lib/python3.7/site-packages/librosa/core/audio.py:161: UserWarning: PySoundFile failed. Trying audioread instead.\n",
      "  warnings.warn('PySoundFile failed. Trying audioread instead.')\n"
     ]
    },
    {
     "name": "stdout",
     "output_type": "stream",
     "text": [
      "././genres_2/Trap/PRRR_[DUBPLATE]_{RIP}.mp3 0.5023058652877808 0.3141140937805176 1759.3592923834894 2261.230147548497 4075.5209088602087 0.043036724187935034\n",
      "././genres_2/Trap/Bebey_(ft._Giggs)_SN1_Road_Mix.m4a\n"
     ]
    },
    {
     "name": "stderr",
     "output_type": "stream",
     "text": [
      "/Users/Andy/opt/anaconda3/lib/python3.7/site-packages/librosa/core/audio.py:161: UserWarning: PySoundFile failed. Trying audioread instead.\n",
      "  warnings.warn('PySoundFile failed. Trying audioread instead.')\n"
     ]
    },
    {
     "name": "stdout",
     "output_type": "stream",
     "text": [
      "././genres_2/Trap/Bebey_(ft._Giggs)_SN1_Road_Mix.m4a 0.3075069785118103 0.32982492446899414 1615.3958087730746 2080.425247711707 3687.423642328886 0.05162299702726218\n",
      "././genres_2/Trap/Tyga_-_ft_Offset_-_Taste_(CK_Intro_-_Dirty_4A_98).mp3\n"
     ]
    },
    {
     "name": "stderr",
     "output_type": "stream",
     "text": [
      "/Users/Andy/opt/anaconda3/lib/python3.7/site-packages/librosa/core/audio.py:161: UserWarning: PySoundFile failed. Trying audioread instead.\n",
      "  warnings.warn('PySoundFile failed. Trying audioread instead.')\n"
     ]
    },
    {
     "name": "stdout",
     "output_type": "stream",
     "text": [
      "././genres_2/Trap/Tyga_-_ft_Offset_-_Taste_(CK_Intro_-_Dirty_4A_98).mp3 0.5174245238304138 0.33747920393943787 1993.5287035075864 2487.7811423045687 4375.986532047564 0.04888023854408353\n",
      "././genres_2/Trap/04_Bad_and_Boujee_(feat._Lil_Uzi_Vert).mp3\n"
     ]
    },
    {
     "name": "stderr",
     "output_type": "stream",
     "text": [
      "/Users/Andy/opt/anaconda3/lib/python3.7/site-packages/librosa/core/audio.py:161: UserWarning: PySoundFile failed. Trying audioread instead.\n",
      "  warnings.warn('PySoundFile failed. Trying audioread instead.')\n"
     ]
    },
    {
     "name": "stdout",
     "output_type": "stream",
     "text": [
      "././genres_2/Trap/04_Bad_and_Boujee_(feat._Lil_Uzi_Vert).mp3 0.5122140049934387 0.344024121761322 2564.9678665845863 2797.585863012746 5591.938034730279 0.06941750652552205\n",
      "././genres_2/Trap/232_future_ft._drake_-_where_ya_at.mp3\n"
     ]
    },
    {
     "name": "stderr",
     "output_type": "stream",
     "text": [
      "/Users/Andy/opt/anaconda3/lib/python3.7/site-packages/librosa/core/audio.py:161: UserWarning: PySoundFile failed. Trying audioread instead.\n",
      "  warnings.warn('PySoundFile failed. Trying audioread instead.')\n"
     ]
    },
    {
     "name": "stdout",
     "output_type": "stream",
     "text": [
      "././genres_2/Trap/232_future_ft._drake_-_where_ya_at.mp3 0.46975475549697876 0.09813369810581207 1947.4250371151263 2544.562597568405 4624.517666491444 0.04142800174013921\n",
      "././genres_2/Trap/06_Migos_-_Walk_It_Talk_It.mp3\n"
     ]
    },
    {
     "name": "stderr",
     "output_type": "stream",
     "text": [
      "/Users/Andy/opt/anaconda3/lib/python3.7/site-packages/librosa/core/audio.py:161: UserWarning: PySoundFile failed. Trying audioread instead.\n",
      "  warnings.warn('PySoundFile failed. Trying audioread instead.')\n"
     ]
    },
    {
     "name": "stdout",
     "output_type": "stream",
     "text": [
      "././genres_2/Trap/06_Migos_-_Walk_It_Talk_It.mp3 0.4044950306415558 0.20662821829319 2237.7833833033415 2456.4458965009217 4709.4514143162705 0.07662503625290024\n",
      "././genres_2/Trap/Rihanna_ft._Drake_-_Work_(Murl.mp3\n"
     ]
    },
    {
     "name": "stderr",
     "output_type": "stream",
     "text": [
      "/Users/Andy/opt/anaconda3/lib/python3.7/site-packages/librosa/core/audio.py:161: UserWarning: PySoundFile failed. Trying audioread instead.\n",
      "  warnings.warn('PySoundFile failed. Trying audioread instead.')\n"
     ]
    },
    {
     "name": "stdout",
     "output_type": "stream",
     "text": [
      "././genres_2/Trap/Rihanna_ft._Drake_-_Work_(Murl.mp3 0.30715590715408325 0.14277859032154083 2809.781183313884 2816.098193247795 6190.895820493764 0.12484592517401392\n",
      "././genres_2/Trap/2_New_Freezer_(feat._Kendrick_Lamar)_.mp3\n"
     ]
    },
    {
     "name": "stderr",
     "output_type": "stream",
     "text": [
      "/Users/Andy/opt/anaconda3/lib/python3.7/site-packages/librosa/core/audio.py:161: UserWarning: PySoundFile failed. Trying audioread instead.\n",
      "  warnings.warn('PySoundFile failed. Trying audioread instead.')\n"
     ]
    },
    {
     "name": "stdout",
     "output_type": "stream",
     "text": [
      "././genres_2/Trap/2_New_Freezer_(feat._Kendrick_Lamar)_.mp3 0.43391913175582886 0.25558599829673767 3277.0026053235188 3047.429076944109 7050.150562826276 0.12981597121519722\n",
      "././genres_2/Trap/425_Marcia_Aitken_&_The_Mighty_Two_-_I'm_Still_In_Love_(With_You_Boy)_-_Lover_Boy.mp3\n"
     ]
    },
    {
     "name": "stderr",
     "output_type": "stream",
     "text": [
      "/Users/Andy/opt/anaconda3/lib/python3.7/site-packages/librosa/core/audio.py:161: UserWarning: PySoundFile failed. Trying audioread instead.\n",
      "  warnings.warn('PySoundFile failed. Trying audioread instead.')\n"
     ]
    },
    {
     "name": "stdout",
     "output_type": "stream",
     "text": [
      "././genres_2/Trap/425_Marcia_Aitken_&_The_Mighty_Two_-_I'm_Still_In_Love_(With_You_Boy)_-_Lover_Boy.mp3 0.40874549746513367 0.1757064014673233 2029.1279935179718 2179.9922128156795 4079.367908026392 0.08102863072795824\n",
      "././genres_2/Trap/04_Diamonds_Dancing_1.mp3\n"
     ]
    },
    {
     "name": "stderr",
     "output_type": "stream",
     "text": [
      "/Users/Andy/opt/anaconda3/lib/python3.7/site-packages/librosa/core/audio.py:161: UserWarning: PySoundFile failed. Trying audioread instead.\n",
      "  warnings.warn('PySoundFile failed. Trying audioread instead.')\n"
     ]
    },
    {
     "name": "stdout",
     "output_type": "stream",
     "text": [
      "././genres_2/Trap/04_Diamonds_Dancing_1.mp3 0.3569484353065491 0.10447154939174652 2624.53470574824 2649.0833349034056 5474.579579647621 0.12622919989849188\n",
      "././genres_2/Trap/Desiigner,_Lil_Pump_-_Overseas_(feat._Lil_Pump).mp3\n"
     ]
    },
    {
     "name": "stderr",
     "output_type": "stream",
     "text": [
      "/Users/Andy/opt/anaconda3/lib/python3.7/site-packages/librosa/core/audio.py:161: UserWarning: PySoundFile failed. Trying audioread instead.\n",
      "  warnings.warn('PySoundFile failed. Trying audioread instead.')\n"
     ]
    },
    {
     "name": "stdout",
     "output_type": "stream",
     "text": [
      "././genres_2/Trap/Desiigner,_Lil_Pump_-_Overseas_(feat._Lil_Pump).mp3 0.4317971169948578 0.16796933114528656 2206.5280884835292 2487.136861406488 5004.771051606003 0.07825415095707657\n",
      "././genres_2/Trap/04_Section_Boyz_-_Lock_Arff.mp3\n"
     ]
    },
    {
     "name": "stderr",
     "output_type": "stream",
     "text": [
      "/Users/Andy/opt/anaconda3/lib/python3.7/site-packages/librosa/core/audio.py:161: UserWarning: PySoundFile failed. Trying audioread instead.\n",
      "  warnings.warn('PySoundFile failed. Trying audioread instead.')\n"
     ]
    },
    {
     "name": "stdout",
     "output_type": "stream",
     "text": [
      "././genres_2/Trap/04_Section_Boyz_-_Lock_Arff.mp3 0.4452383816242218 0.2662380337715149 1753.4606119783757 2247.2652210237616 3503.2423121193447 0.05343677494199536\n",
      "././genres_2/Trap/01._Leave_Me_Alone.mp3\n"
     ]
    },
    {
     "name": "stderr",
     "output_type": "stream",
     "text": [
      "/Users/Andy/opt/anaconda3/lib/python3.7/site-packages/librosa/core/audio.py:161: UserWarning: PySoundFile failed. Trying audioread instead.\n",
      "  warnings.warn('PySoundFile failed. Trying audioread instead.')\n"
     ]
    },
    {
     "name": "stdout",
     "output_type": "stream",
     "text": [
      "././genres_2/Trap/01._Leave_Me_Alone.mp3 0.4504645764827728 0.41043803095817566 2761.798107622393 2684.606071194692 6105.987053183005 0.09794287449245939\n",
      "././genres_2/Trap/63._Kodak_Black_-_Codeine_Dreaming_(feat._Lil_Wayne).mp3\n"
     ]
    },
    {
     "name": "stderr",
     "output_type": "stream",
     "text": [
      "/Users/Andy/opt/anaconda3/lib/python3.7/site-packages/librosa/core/audio.py:161: UserWarning: PySoundFile failed. Trying audioread instead.\n",
      "  warnings.warn('PySoundFile failed. Trying audioread instead.')\n"
     ]
    },
    {
     "name": "stdout",
     "output_type": "stream",
     "text": [
      "././genres_2/Trap/63._Kodak_Black_-_Codeine_Dreaming_(feat._Lil_Wayne).mp3 0.6264455914497375 0.48369652032852173 2075.1034540119754 2567.7726187401845 5232.693261945331 0.03147431482018562\n",
      "././genres_2/Trap/GRIM_X_Blame_Connor_-_Scythe.mp3\n"
     ]
    },
    {
     "name": "stderr",
     "output_type": "stream",
     "text": [
      "/Users/Andy/opt/anaconda3/lib/python3.7/site-packages/librosa/core/audio.py:161: UserWarning: PySoundFile failed. Trying audioread instead.\n",
      "  warnings.warn('PySoundFile failed. Trying audioread instead.')\n"
     ]
    },
    {
     "name": "stdout",
     "output_type": "stream",
     "text": [
      "././genres_2/Trap/GRIM_X_Blame_Connor_-_Scythe.mp3 0.4972730875015259 0.29646286368370056 2919.1925863258557 2632.165800409257 5951.7823398528135 0.1458102976363109\n",
      "././genres_2/Trap/(150)_Grizzy_x_M_Dargg_-_Look_Like_You_(Music_Video)_@GrizzyUptop_@MDargg_[@HBVTV___@QuietPvck]_(320__kbps).mp3\n"
     ]
    },
    {
     "name": "stderr",
     "output_type": "stream",
     "text": [
      "/Users/Andy/opt/anaconda3/lib/python3.7/site-packages/librosa/core/audio.py:161: UserWarning: PySoundFile failed. Trying audioread instead.\n",
      "  warnings.warn('PySoundFile failed. Trying audioread instead.')\n"
     ]
    },
    {
     "name": "stdout",
     "output_type": "stream",
     "text": [
      "././genres_2/Trap/(150)_Grizzy_x_M_Dargg_-_Look_Like_You_(Music_Video)_@GrizzyUptop_@MDargg_[@HBVTV___@QuietPvck]_(320__kbps).mp3 0.008685038425028324 1.401216650265269e-05 49.670570851083774 48.94015989488332 98.54812799086427 0.003002193300464037\n",
      "././genres_2/Trap/02._Way_Back_(Ft._Kid_Cudi).mp3\n"
     ]
    },
    {
     "name": "stderr",
     "output_type": "stream",
     "text": [
      "/Users/Andy/opt/anaconda3/lib/python3.7/site-packages/librosa/core/audio.py:161: UserWarning: PySoundFile failed. Trying audioread instead.\n",
      "  warnings.warn('PySoundFile failed. Trying audioread instead.')\n"
     ]
    },
    {
     "name": "stdout",
     "output_type": "stream",
     "text": [
      "././genres_2/Trap/02._Way_Back_(Ft._Kid_Cudi).mp3 0.3438777029514313 0.22946728765964508 2313.2834006616854 2458.0388437021456 4749.794944533062 0.09847080735208817\n",
      "././genres_2/Trap/2017_338__KMT_-_Drake_feat._Giggs.mp3\n"
     ]
    },
    {
     "name": "stderr",
     "output_type": "stream",
     "text": [
      "/Users/Andy/opt/anaconda3/lib/python3.7/site-packages/librosa/core/audio.py:161: UserWarning: PySoundFile failed. Trying audioread instead.\n",
      "  warnings.warn('PySoundFile failed. Trying audioread instead.')\n"
     ]
    },
    {
     "name": "stdout",
     "output_type": "stream",
     "text": [
      "././genres_2/Trap/2017_338__KMT_-_Drake_feat._Giggs.mp3 0.5568577647209167 0.3885282874107361 1989.3417568614132 2338.3433167905796 4464.617395954177 0.0504991571200696\n",
      "././genres_2/Trap/2017_191__Ric_flair_drip_-_Offset_and_Metro_Boomin.mp3\n"
     ]
    },
    {
     "name": "stderr",
     "output_type": "stream",
     "text": [
      "/Users/Andy/opt/anaconda3/lib/python3.7/site-packages/librosa/core/audio.py:161: UserWarning: PySoundFile failed. Trying audioread instead.\n",
      "  warnings.warn('PySoundFile failed. Trying audioread instead.')\n"
     ]
    },
    {
     "name": "stdout",
     "output_type": "stream",
     "text": [
      "././genres_2/Trap/2017_191__Ric_flair_drip_-_Offset_and_Metro_Boomin.mp3 0.6037596464157104 0.38184359669685364 1643.5023842422165 2388.860396064678 3873.52847212152 0.04702341031032482\n",
      "././genres_2/Trap/Roll_With_The_Punches_(James_Blake_Harmonimix).mp3\n"
     ]
    },
    {
     "name": "stderr",
     "output_type": "stream",
     "text": [
      "/Users/Andy/opt/anaconda3/lib/python3.7/site-packages/librosa/core/audio.py:161: UserWarning: PySoundFile failed. Trying audioread instead.\n",
      "  warnings.warn('PySoundFile failed. Trying audioread instead.')\n"
     ]
    },
    {
     "name": "stdout",
     "output_type": "stream",
     "text": [
      "././genres_2/Trap/Roll_With_The_Punches_(James_Blake_Harmonimix).mp3 0.569963276386261 0.2726924419403076 1288.162630263327 1624.1803387513703 2941.105804089327 0.01658230314675174\n",
      "././genres_2/Trap/13_Lil_Baby_&_Gunna_feat._Drake_-_Never_Recover.mp3\n"
     ]
    },
    {
     "name": "stderr",
     "output_type": "stream",
     "text": [
      "/Users/Andy/opt/anaconda3/lib/python3.7/site-packages/librosa/core/audio.py:161: UserWarning: PySoundFile failed. Trying audioread instead.\n",
      "  warnings.warn('PySoundFile failed. Trying audioread instead.')\n"
     ]
    },
    {
     "name": "stdout",
     "output_type": "stream",
     "text": [
      "././genres_2/Trap/13_Lil_Baby_&_Gunna_feat._Drake_-_Never_Recover.mp3 0.4005835950374603 0.2875989079475403 2740.962631356505 2697.1808787409577 5904.369324155307 0.10668775377030162\n",
      "././genres_2/Trap/01._RAF_(feat._A$AP_Rocky,_Playboi_Carti,_Quavo,_Lil_Uzi_Vert_&_Frank_Ocean).mp3\n"
     ]
    },
    {
     "name": "stderr",
     "output_type": "stream",
     "text": [
      "/Users/Andy/opt/anaconda3/lib/python3.7/site-packages/librosa/core/audio.py:161: UserWarning: PySoundFile failed. Trying audioread instead.\n",
      "  warnings.warn('PySoundFile failed. Trying audioread instead.')\n"
     ]
    },
    {
     "name": "stdout",
     "output_type": "stream",
     "text": [
      "././genres_2/Trap/01._RAF_(feat._A$AP_Rocky,_Playboi_Carti,_Quavo,_Lil_Uzi_Vert_&_Frank_Ocean).mp3 0.40790051221847534 0.36005905270576477 2112.958252149845 2501.671810842582 4765.907376105713 0.057314702363689095\n",
      "././genres_2/Trap/02_-_Homerton_B_(Unknown_T).mp3\n"
     ]
    },
    {
     "name": "stderr",
     "output_type": "stream",
     "text": [
      "/Users/Andy/opt/anaconda3/lib/python3.7/site-packages/librosa/core/audio.py:161: UserWarning: PySoundFile failed. Trying audioread instead.\n",
      "  warnings.warn('PySoundFile failed. Trying audioread instead.')\n"
     ]
    },
    {
     "name": "stdout",
     "output_type": "stream",
     "text": [
      "././genres_2/Trap/02_-_Homerton_B_(Unknown_T).mp3 0.4651397168636322 0.21003319323062897 2686.0506890473903 2576.424552228048 5230.4200351653135 0.12624732634860789\n",
      "././genres_2/Trap/04_Diamonds_Dancing.mp3\n"
     ]
    },
    {
     "name": "stderr",
     "output_type": "stream",
     "text": [
      "/Users/Andy/opt/anaconda3/lib/python3.7/site-packages/librosa/core/audio.py:161: UserWarning: PySoundFile failed. Trying audioread instead.\n",
      "  warnings.warn('PySoundFile failed. Trying audioread instead.')\n"
     ]
    },
    {
     "name": "stdout",
     "output_type": "stream",
     "text": [
      "././genres_2/Trap/04_Diamonds_Dancing.mp3 0.3569484353065491 0.10447154939174652 2624.53470574824 2649.0833349034056 5474.579579647621 0.12622919989849188\n",
      "././genres_2/Trap/31._President_T_-_House_&_Pop_(feat_JME_&_Splurgeboys).mp3\n"
     ]
    },
    {
     "name": "stderr",
     "output_type": "stream",
     "text": [
      "/Users/Andy/opt/anaconda3/lib/python3.7/site-packages/librosa/core/audio.py:161: UserWarning: PySoundFile failed. Trying audioread instead.\n",
      "  warnings.warn('PySoundFile failed. Trying audioread instead.')\n"
     ]
    },
    {
     "name": "stdout",
     "output_type": "stream",
     "text": [
      "././genres_2/Trap/31._President_T_-_House_&_Pop_(feat_JME_&_Splurgeboys).mp3 0.5290293097496033 0.264728844165802 2677.2151651125705 2621.8536550298827 5718.789085158062 0.09091094475058005\n",
      "././genres_2/Trap/297_drake_&_future_-_digital_dash.mp3\n"
     ]
    },
    {
     "name": "stderr",
     "output_type": "stream",
     "text": [
      "/Users/Andy/opt/anaconda3/lib/python3.7/site-packages/librosa/core/audio.py:161: UserWarning: PySoundFile failed. Trying audioread instead.\n",
      "  warnings.warn('PySoundFile failed. Trying audioread instead.')\n"
     ]
    },
    {
     "name": "stdout",
     "output_type": "stream",
     "text": [
      "././genres_2/Trap/297_drake_&_future_-_digital_dash.mp3 0.6538026332855225 0.25683748722076416 2868.669361946997 3050.0613672647137 6294.864720036978 0.0487363598462877\n",
      "././genres_2/Trap/05-Young_Thug-Best_Friend_Prod_By_Ricky_Racks.mp3\n"
     ]
    },
    {
     "name": "stderr",
     "output_type": "stream",
     "text": [
      "/Users/Andy/opt/anaconda3/lib/python3.7/site-packages/librosa/core/audio.py:161: UserWarning: PySoundFile failed. Trying audioread instead.\n",
      "  warnings.warn('PySoundFile failed. Trying audioread instead.')\n"
     ]
    },
    {
     "name": "stdout",
     "output_type": "stream",
     "text": [
      "././genres_2/Trap/05-Young_Thug-Best_Friend_Prod_By_Ricky_Racks.mp3 0.4197559952735901 0.3085987865924835 1730.7982699196978 2232.81664685149 3736.4853719547564 0.042693454538863106\n",
      "././genres_2/Trap/01_Pick_Up_the_Phone_(feat._Travis_Scott_&_Quavo).mp3\n"
     ]
    },
    {
     "name": "stderr",
     "output_type": "stream",
     "text": [
      "/Users/Andy/opt/anaconda3/lib/python3.7/site-packages/librosa/core/audio.py:161: UserWarning: PySoundFile failed. Trying audioread instead.\n",
      "  warnings.warn('PySoundFile failed. Trying audioread instead.')\n"
     ]
    },
    {
     "name": "stdout",
     "output_type": "stream",
     "text": [
      "././genres_2/Trap/01_Pick_Up_the_Phone_(feat._Travis_Scott_&_Quavo).mp3 0.388053297996521 0.2716212868690491 2966.600697915666 2907.022048145817 6621.759727106293 0.1290535274071926\n",
      "././genres_2/Trap/04_100it_Racks_(Featuring_Drake,_2_Chainz_&_Future)_[Prod._By_DJ_Esco_&_Southside].mp3\n"
     ]
    },
    {
     "name": "stderr",
     "output_type": "stream",
     "text": [
      "/Users/Andy/opt/anaconda3/lib/python3.7/site-packages/librosa/core/audio.py:161: UserWarning: PySoundFile failed. Trying audioread instead.\n",
      "  warnings.warn('PySoundFile failed. Trying audioread instead.')\n"
     ]
    },
    {
     "name": "stdout",
     "output_type": "stream",
     "text": [
      "././genres_2/Trap/04_100it_Racks_(Featuring_Drake,_2_Chainz_&_Future)_[Prod._By_DJ_Esco_&_Southside].mp3 0.6590237617492676 0.42151308059692383 1182.0117946388436 1965.2965770030373 2569.071008102523 0.017452372752320186\n",
      "././genres_2/Trap/04._Nice_For_What.mp3\n"
     ]
    },
    {
     "name": "stderr",
     "output_type": "stream",
     "text": [
      "/Users/Andy/opt/anaconda3/lib/python3.7/site-packages/librosa/core/audio.py:161: UserWarning: PySoundFile failed. Trying audioread instead.\n",
      "  warnings.warn('PySoundFile failed. Trying audioread instead.')\n"
     ]
    },
    {
     "name": "stdout",
     "output_type": "stream",
     "text": [
      "././genres_2/Trap/04._Nice_For_What.mp3 0.40333276987075806 0.16527701914310455 3913.0205772756167 2735.131545664738 7045.903875435035 0.22837514501160092\n",
      "././genres_2/Trap/Headie_One_feat_Dave_-_18Hunna_(Dirty).mp3\n"
     ]
    },
    {
     "name": "stderr",
     "output_type": "stream",
     "text": [
      "/Users/Andy/opt/anaconda3/lib/python3.7/site-packages/librosa/core/audio.py:161: UserWarning: PySoundFile failed. Trying audioread instead.\n",
      "  warnings.warn('PySoundFile failed. Trying audioread instead.')\n"
     ]
    },
    {
     "name": "stdout",
     "output_type": "stream",
     "text": [
      "././genres_2/Trap/Headie_One_feat_Dave_-_18Hunna_(Dirty).mp3 0.5831003785133362 0.4019697904586792 2082.1569082054343 2667.7819699652937 4823.787227196925 0.0356513286687935\n",
      "././genres_2/Trap/Migos_Ft._Lil_Uzi_Vert_-_Bad_and_Boujee_(Dirty).mp3\n"
     ]
    },
    {
     "name": "stderr",
     "output_type": "stream",
     "text": [
      "/Users/Andy/opt/anaconda3/lib/python3.7/site-packages/librosa/core/audio.py:161: UserWarning: PySoundFile failed. Trying audioread instead.\n",
      "  warnings.warn('PySoundFile failed. Trying audioread instead.')\n"
     ]
    },
    {
     "name": "stdout",
     "output_type": "stream",
     "text": [
      "././genres_2/Trap/Migos_Ft._Lil_Uzi_Vert_-_Bad_and_Boujee_(Dirty).mp3 0.5130375623703003 0.3194400370121002 2461.224830914957 2764.3608217549936 5420.4218251522625 0.06241956387761021\n",
      "././genres_2/Trap/205-swizz_beatz-money_in_the_bank.mp3\n"
     ]
    },
    {
     "name": "stderr",
     "output_type": "stream",
     "text": [
      "/Users/Andy/opt/anaconda3/lib/python3.7/site-packages/librosa/core/audio.py:161: UserWarning: PySoundFile failed. Trying audioread instead.\n",
      "  warnings.warn('PySoundFile failed. Trying audioread instead.')\n"
     ]
    },
    {
     "name": "stdout",
     "output_type": "stream",
     "text": [
      "././genres_2/Trap/205-swizz_beatz-money_in_the_bank.mp3 0.43568116426467896 0.24190357327461243 2284.400894942832 2475.595166959836 4741.501413863109 0.09630922817575406\n",
      "././genres_2/Trap/Unknown_Artist_-_Oye_Coma_Va_KF_Edit.mp3\n"
     ]
    },
    {
     "name": "stderr",
     "output_type": "stream",
     "text": [
      "/Users/Andy/opt/anaconda3/lib/python3.7/site-packages/librosa/core/audio.py:161: UserWarning: PySoundFile failed. Trying audioread instead.\n",
      "  warnings.warn('PySoundFile failed. Trying audioread instead.')\n"
     ]
    },
    {
     "name": "stdout",
     "output_type": "stream",
     "text": [
      "././genres_2/Trap/Unknown_Artist_-_Oye_Coma_Va_KF_Edit.mp3 0.5602386593818665 0.20257671177387238 1908.6555836312111 2081.9337993770487 3772.482292724043 0.07049263159802784\n",
      "././genres_2/Trap/Tyga_ft_Offset_-_Taste_(Dirty).mp3\n"
     ]
    },
    {
     "name": "stderr",
     "output_type": "stream",
     "text": [
      "/Users/Andy/opt/anaconda3/lib/python3.7/site-packages/librosa/core/audio.py:161: UserWarning: PySoundFile failed. Trying audioread instead.\n",
      "  warnings.warn('PySoundFile failed. Trying audioread instead.')\n"
     ]
    },
    {
     "name": "stdout",
     "output_type": "stream",
     "text": [
      "././genres_2/Trap/Tyga_ft_Offset_-_Taste_(Dirty).mp3 0.5188271999359131 0.3587075471878052 1561.9754778532554 2140.38052342193 3247.96643887761 0.035513114486658934\n",
      "././genres_2/Trap/Ari_Spn.mp3\n"
     ]
    },
    {
     "name": "stderr",
     "output_type": "stream",
     "text": [
      "/Users/Andy/opt/anaconda3/lib/python3.7/site-packages/librosa/core/audio.py:161: UserWarning: PySoundFile failed. Trying audioread instead.\n",
      "  warnings.warn('PySoundFile failed. Trying audioread instead.')\n"
     ]
    },
    {
     "name": "stdout",
     "output_type": "stream",
     "text": [
      "././genres_2/Trap/Ari_Spn.mp3 0.4096340835094452 0.09056346118450165 1346.5792913285748 1384.0536597886878 2527.353549612094 0.06193468133700696\n",
      "././genres_2/Trap/06._Walk_On_Water_(Feat._A$AP_Twelvyy,_A$AP_Ant,_A$AP_Nast,_A$AP_Ferg_&_Playboi_Carti).mp3\n"
     ]
    },
    {
     "name": "stderr",
     "output_type": "stream",
     "text": [
      "/Users/Andy/opt/anaconda3/lib/python3.7/site-packages/librosa/core/audio.py:161: UserWarning: PySoundFile failed. Trying audioread instead.\n",
      "  warnings.warn('PySoundFile failed. Trying audioread instead.')\n"
     ]
    },
    {
     "name": "stdout",
     "output_type": "stream",
     "text": [
      "././genres_2/Trap/06._Walk_On_Water_(Feat._A$AP_Twelvyy,_A$AP_Ant,_A$AP_Nast,_A$AP_Ferg_&_Playboi_Carti).mp3 0.4730360507965088 0.30883699655532837 1882.4015284353584 2365.7071533903995 4205.069854807135 0.04825147730568446\n",
      "././genres_2/Trap/20._BlocBoy_JB_-_Look_Alive_(feat._Drake).mp3\n"
     ]
    },
    {
     "name": "stderr",
     "output_type": "stream",
     "text": [
      "/Users/Andy/opt/anaconda3/lib/python3.7/site-packages/librosa/core/audio.py:161: UserWarning: PySoundFile failed. Trying audioread instead.\n",
      "  warnings.warn('PySoundFile failed. Trying audioread instead.')\n"
     ]
    },
    {
     "name": "stdout",
     "output_type": "stream",
     "text": [
      "././genres_2/Trap/20._BlocBoy_JB_-_Look_Alive_(feat._Drake).mp3 0.6038583517074585 0.42100265622138977 2594.971383145051 2885.1947173743883 5953.381092753045 0.04500910854118329\n",
      "././genres_2/Trap/Tyga_ft_Offset_-_Taste_(Dirty)_2.mp3\n"
     ]
    },
    {
     "name": "stderr",
     "output_type": "stream",
     "text": [
      "/Users/Andy/opt/anaconda3/lib/python3.7/site-packages/librosa/core/audio.py:161: UserWarning: PySoundFile failed. Trying audioread instead.\n",
      "  warnings.warn('PySoundFile failed. Trying audioread instead.')\n"
     ]
    },
    {
     "name": "stdout",
     "output_type": "stream",
     "text": [
      "././genres_2/Trap/Tyga_ft_Offset_-_Taste_(Dirty)_2.mp3 0.5188271999359131 0.3587075471878052 1561.9754778532554 2140.38052342193 3247.96643887761 0.035513114486658934\n",
      "././genres_2/Trap/43_-_Skepta_-_Energy_(Stay_Far_Away).mp3\n"
     ]
    },
    {
     "name": "stderr",
     "output_type": "stream",
     "text": [
      "/Users/Andy/opt/anaconda3/lib/python3.7/site-packages/librosa/core/audio.py:161: UserWarning: PySoundFile failed. Trying audioread instead.\n",
      "  warnings.warn('PySoundFile failed. Trying audioread instead.')\n"
     ]
    },
    {
     "name": "stdout",
     "output_type": "stream",
     "text": [
      "././genres_2/Trap/43_-_Skepta_-_Energy_(Stay_Far_Away).mp3 0.4590124189853668 0.26946592330932617 1676.1383599070239 2058.787143664291 3384.484948248985 0.058981202871229696\n",
      "././genres_2/Trap/hlabalaza.mp3\n"
     ]
    },
    {
     "name": "stderr",
     "output_type": "stream",
     "text": [
      "/Users/Andy/opt/anaconda3/lib/python3.7/site-packages/librosa/core/audio.py:161: UserWarning: PySoundFile failed. Trying audioread instead.\n",
      "  warnings.warn('PySoundFile failed. Trying audioread instead.')\n"
     ]
    },
    {
     "name": "stdout",
     "output_type": "stream",
     "text": [
      "././genres_2/Trap/hlabalaza.mp3 0.45851656794548035 0.20106488466262817 2056.6847428213664 2467.173705325388 4598.438009806409 0.06152003879060325\n",
      "././genres_2/Trap/02_-_A$AP_Ferg_-_Shabba_(Feat._A$AP_Rocky).mp3\n"
     ]
    },
    {
     "name": "stderr",
     "output_type": "stream",
     "text": [
      "/Users/Andy/opt/anaconda3/lib/python3.7/site-packages/librosa/core/audio.py:161: UserWarning: PySoundFile failed. Trying audioread instead.\n",
      "  warnings.warn('PySoundFile failed. Trying audioread instead.')\n"
     ]
    },
    {
     "name": "stdout",
     "output_type": "stream",
     "text": [
      "././genres_2/Trap/02_-_A$AP_Ferg_-_Shabba_(Feat._A$AP_Rocky).mp3 0.48669061064720154 0.31690919399261475 2366.5458612230073 2657.254697168703 5301.289753570911 0.055674258628190254\n",
      "././genres_2/Trap/13._Russ_splash_-_Gun_Lean.mp3\n"
     ]
    },
    {
     "name": "stderr",
     "output_type": "stream",
     "text": [
      "/Users/Andy/opt/anaconda3/lib/python3.7/site-packages/librosa/core/audio.py:161: UserWarning: PySoundFile failed. Trying audioread instead.\n",
      "  warnings.warn('PySoundFile failed. Trying audioread instead.')\n"
     ]
    },
    {
     "name": "stdout",
     "output_type": "stream",
     "text": [
      "././genres_2/Trap/13._Russ_splash_-_Gun_Lean.mp3 0.442348450422287 0.28913381695747375 2128.0607988809047 2439.9447771797645 4565.6885558657195 0.07496420026102088\n",
      "././genres_2/Trap/Skepta_-_It_Aint_Safe_(Ft._Young_Lord).mp3\n"
     ]
    },
    {
     "name": "stderr",
     "output_type": "stream",
     "text": [
      "/Users/Andy/opt/anaconda3/lib/python3.7/site-packages/librosa/core/audio.py:161: UserWarning: PySoundFile failed. Trying audioread instead.\n",
      "  warnings.warn('PySoundFile failed. Trying audioread instead.')\n"
     ]
    },
    {
     "name": "stdout",
     "output_type": "stream",
     "text": [
      "././genres_2/Trap/Skepta_-_It_Aint_Safe_(Ft._Young_Lord).mp3 0.5124800801277161 0.27625975012779236 2373.4927934193674 2626.639027163667 5324.121943427349 0.0816415313225058\n",
      "././genres_2/Trap/8._Cardi_B,_Bad_Bunny_&_J_Balvin_-_I_Like_It.mp3\n"
     ]
    },
    {
     "name": "stderr",
     "output_type": "stream",
     "text": [
      "/Users/Andy/opt/anaconda3/lib/python3.7/site-packages/librosa/core/audio.py:161: UserWarning: PySoundFile failed. Trying audioread instead.\n",
      "  warnings.warn('PySoundFile failed. Trying audioread instead.')\n"
     ]
    },
    {
     "name": "stdout",
     "output_type": "stream",
     "text": [
      "././genres_2/Trap/8._Cardi_B,_Bad_Bunny_&_J_Balvin_-_I_Like_It.mp3 0.4409164488315582 0.32444635033607483 2271.838206481316 2524.773195795674 4829.083096178944 0.0741201874274942\n",
      "././genres_2/Trap/91_-_Octavian_-_Little.mp3\n"
     ]
    },
    {
     "name": "stderr",
     "output_type": "stream",
     "text": [
      "/Users/Andy/opt/anaconda3/lib/python3.7/site-packages/librosa/core/audio.py:161: UserWarning: PySoundFile failed. Trying audioread instead.\n",
      "  warnings.warn('PySoundFile failed. Trying audioread instead.')\n"
     ]
    },
    {
     "name": "stdout",
     "output_type": "stream",
     "text": [
      "././genres_2/Trap/91_-_Octavian_-_Little.mp3 0.4222123324871063 0.2666100859642029 2594.893496306003 2771.904154792305 5867.598007449971 0.08658325478538283\n",
      "././genres_2/Trap/JPEGMAFIA_-_Veteran_-_03_Thug_Tears.mp3\n"
     ]
    },
    {
     "name": "stderr",
     "output_type": "stream",
     "text": [
      "/Users/Andy/opt/anaconda3/lib/python3.7/site-packages/librosa/core/audio.py:161: UserWarning: PySoundFile failed. Trying audioread instead.\n",
      "  warnings.warn('PySoundFile failed. Trying audioread instead.')\n"
     ]
    },
    {
     "name": "stdout",
     "output_type": "stream",
     "text": [
      "././genres_2/Trap/JPEGMAFIA_-_Veteran_-_03_Thug_Tears.mp3 0.38109415769577026 0.25849130749702454 2881.046452475675 2686.8675171125437 5853.783783171404 0.134272812137471\n",
      "././genres_2/Trap/20._French_Montana,_Drake_-_No_Stylist.mp3\n"
     ]
    },
    {
     "name": "stderr",
     "output_type": "stream",
     "text": [
      "/Users/Andy/opt/anaconda3/lib/python3.7/site-packages/librosa/core/audio.py:161: UserWarning: PySoundFile failed. Trying audioread instead.\n",
      "  warnings.warn('PySoundFile failed. Trying audioread instead.')\n"
     ]
    },
    {
     "name": "stdout",
     "output_type": "stream",
     "text": [
      "././genres_2/Trap/20._French_Montana,_Drake_-_No_Stylist.mp3 0.42725545167922974 0.29211854934692383 2528.5558665969074 2688.436397139077 5465.686516640081 0.09597275594547564\n",
      "././genres_2/Trap/09_Goosebumps_(feat._Kendrick_Lamar).mp3\n"
     ]
    },
    {
     "name": "stderr",
     "output_type": "stream",
     "text": [
      "/Users/Andy/opt/anaconda3/lib/python3.7/site-packages/librosa/core/audio.py:161: UserWarning: PySoundFile failed. Trying audioread instead.\n",
      "  warnings.warn('PySoundFile failed. Trying audioread instead.')\n"
     ]
    },
    {
     "name": "stdout",
     "output_type": "stream",
     "text": [
      "././genres_2/Trap/09_Goosebumps_(feat._Kendrick_Lamar).mp3 0.3203914761543274 0.2035434991121292 2799.2568988581615 2908.877039414517 6541.822082094693 0.10550953451276102\n",
      "././genres_2/Trap/146_Tyler,_The_Creator_-_OKRA.mp3\n"
     ]
    },
    {
     "name": "stderr",
     "output_type": "stream",
     "text": [
      "/Users/Andy/opt/anaconda3/lib/python3.7/site-packages/librosa/core/audio.py:161: UserWarning: PySoundFile failed. Trying audioread instead.\n",
      "  warnings.warn('PySoundFile failed. Trying audioread instead.')\n"
     ]
    },
    {
     "name": "stdout",
     "output_type": "stream",
     "text": [
      "././genres_2/Trap/146_Tyler,_The_Creator_-_OKRA.mp3 0.654258668422699 0.4383752644062042 2046.929171724394 2716.4556092479215 5069.870271262326 0.0324304850638051\n",
      "././genres_2/Trap/Passionfruit.mp3\n"
     ]
    },
    {
     "name": "stderr",
     "output_type": "stream",
     "text": [
      "/Users/Andy/opt/anaconda3/lib/python3.7/site-packages/librosa/core/audio.py:161: UserWarning: PySoundFile failed. Trying audioread instead.\n",
      "  warnings.warn('PySoundFile failed. Trying audioread instead.')\n"
     ]
    },
    {
     "name": "stdout",
     "output_type": "stream",
     "text": [
      "././genres_2/Trap/Passionfruit.mp3 0.4739901125431061 0.19690902531147003 1002.5218898219979 1463.2276333613668 2106.2070629712875 0.02914280017401392\n",
      "././genres_2/Trap/Rihanna_-_Needed_Me_(Murlo_Remix).mp3\n"
     ]
    },
    {
     "name": "stderr",
     "output_type": "stream",
     "text": [
      "/Users/Andy/opt/anaconda3/lib/python3.7/site-packages/librosa/core/audio.py:161: UserWarning: PySoundFile failed. Trying audioread instead.\n",
      "  warnings.warn('PySoundFile failed. Trying audioread instead.')\n"
     ]
    },
    {
     "name": "stdout",
     "output_type": "stream",
     "text": [
      "././genres_2/Trap/Rihanna_-_Needed_Me_(Murlo_Remix).mp3 0.3573007583618164 0.1656278520822525 2955.3440719502655 2912.9725487056576 6365.5845553581785 0.11753416835846868\n",
      "././genres_2/Trap/02._Perry_Aye_(Ft._ASAP_Rocky,_ASAP_Nast,_Playboi_Carti_&_Jaden_Smith).mp3\n"
     ]
    },
    {
     "name": "stderr",
     "output_type": "stream",
     "text": [
      "/Users/Andy/opt/anaconda3/lib/python3.7/site-packages/librosa/core/audio.py:161: UserWarning: PySoundFile failed. Trying audioread instead.\n",
      "  warnings.warn('PySoundFile failed. Trying audioread instead.')\n"
     ]
    },
    {
     "name": "stdout",
     "output_type": "stream",
     "text": [
      "././genres_2/Trap/02._Perry_Aye_(Ft._ASAP_Rocky,_ASAP_Nast,_Playboi_Carti_&_Jaden_Smith).mp3 0.47558778524398804 0.33972999453544617 2245.6008587615056 2596.972140062543 5149.65803318953 0.06210121809744779\n",
      "././genres_2/Trap/07._I'm_the_Plug.mp3\n"
     ]
    },
    {
     "name": "stderr",
     "output_type": "stream",
     "text": [
      "/Users/Andy/opt/anaconda3/lib/python3.7/site-packages/librosa/core/audio.py:161: UserWarning: PySoundFile failed. Trying audioread instead.\n",
      "  warnings.warn('PySoundFile failed. Trying audioread instead.')\n"
     ]
    },
    {
     "name": "stdout",
     "output_type": "stream",
     "text": [
      "././genres_2/Trap/07._I'm_the_Plug.mp3 0.7142204642295837 0.36856505274772644 1532.2014249695503 1899.6523899101123 3560.372747788573 0.03305018307714617\n",
      "././genres_2/Trap/N-tip_2017__Xo_tour_llif3_-_Lil_Uzi_Vert.mp3\n"
     ]
    },
    {
     "name": "stderr",
     "output_type": "stream",
     "text": [
      "/Users/Andy/opt/anaconda3/lib/python3.7/site-packages/librosa/core/audio.py:161: UserWarning: PySoundFile failed. Trying audioread instead.\n",
      "  warnings.warn('PySoundFile failed. Trying audioread instead.')\n"
     ]
    },
    {
     "name": "stdout",
     "output_type": "stream",
     "text": [
      "././genres_2/Trap/N-tip_2017__Xo_tour_llif3_-_Lil_Uzi_Vert.mp3 0.5178868174552917 0.39814797043800354 2611.8895766555024 2726.6955385148894 5837.096799775232 0.0617296258700696\n",
      "././genres_2/Trap/Kanye_West_&_Lil_Pump_-_I_Love_It.mp3\n"
     ]
    },
    {
     "name": "stderr",
     "output_type": "stream",
     "text": [
      "/Users/Andy/opt/anaconda3/lib/python3.7/site-packages/librosa/core/audio.py:161: UserWarning: PySoundFile failed. Trying audioread instead.\n",
      "  warnings.warn('PySoundFile failed. Trying audioread instead.')\n"
     ]
    },
    {
     "name": "stdout",
     "output_type": "stream",
     "text": [
      "././genres_2/Trap/Kanye_West_&_Lil_Pump_-_I_Love_It.mp3 0.4641440808773041 0.39599737524986267 1982.8475968178675 2623.2686614359745 4625.067237800899 0.04139401464617169\n",
      "././genres_2/Trap/Denzel_Curry_-_Threatz.mp3\n"
     ]
    },
    {
     "name": "stderr",
     "output_type": "stream",
     "text": [
      "/Users/Andy/opt/anaconda3/lib/python3.7/site-packages/librosa/core/audio.py:161: UserWarning: PySoundFile failed. Trying audioread instead.\n",
      "  warnings.warn('PySoundFile failed. Trying audioread instead.')\n"
     ]
    },
    {
     "name": "stdout",
     "output_type": "stream",
     "text": [
      "././genres_2/Trap/Denzel_Curry_-_Threatz.mp3 0.4652615189552307 0.21972809731960297 2836.838948194042 2640.5213620474547 5841.518350764936 0.08930448810904873\n",
      "././genres_2/Trap/08_Dubai_Shit_(feat._Offset).mp3\n"
     ]
    },
    {
     "name": "stderr",
     "output_type": "stream",
     "text": [
      "/Users/Andy/opt/anaconda3/lib/python3.7/site-packages/librosa/core/audio.py:161: UserWarning: PySoundFile failed. Trying audioread instead.\n",
      "  warnings.warn('PySoundFile failed. Trying audioread instead.')\n"
     ]
    },
    {
     "name": "stdout",
     "output_type": "stream",
     "text": [
      "././genres_2/Trap/08_Dubai_Shit_(feat._Offset).mp3 0.38988208770751953 0.24988198280334473 3097.617830100412 2754.5004734148474 6305.281594402552 0.12879975710556846\n",
      "././genres_2/Trap/Desiigner_-_Holy_Ghost.mp3\n"
     ]
    },
    {
     "name": "stderr",
     "output_type": "stream",
     "text": [
      "/Users/Andy/opt/anaconda3/lib/python3.7/site-packages/librosa/core/audio.py:161: UserWarning: PySoundFile failed. Trying audioread instead.\n",
      "  warnings.warn('PySoundFile failed. Trying audioread instead.')\n"
     ]
    },
    {
     "name": "stdout",
     "output_type": "stream",
     "text": [
      "././genres_2/Trap/Desiigner_-_Holy_Ghost.mp3 0.49210214614868164 0.3122287392616272 2087.718308182415 2682.7669856857074 4904.4992681445765 0.039650476725638054\n",
      "././genres_2/Trap/Elektro_Convolver_(Original_Mix).mp3\n"
     ]
    },
    {
     "name": "stderr",
     "output_type": "stream",
     "text": [
      "/Users/Andy/opt/anaconda3/lib/python3.7/site-packages/librosa/core/audio.py:161: UserWarning: PySoundFile failed. Trying audioread instead.\n",
      "  warnings.warn('PySoundFile failed. Trying audioread instead.')\n"
     ]
    },
    {
     "name": "stdout",
     "output_type": "stream",
     "text": [
      "././genres_2/Trap/Elektro_Convolver_(Original_Mix).mp3 0.45809125900268555 0.29725784063339233 1286.111206917463 1782.7834158799394 2516.2871818808003 0.04486522984338747\n",
      "././genres_2/Trap/Work_[FazMusic.net].mp3\n"
     ]
    },
    {
     "name": "stderr",
     "output_type": "stream",
     "text": [
      "/Users/Andy/opt/anaconda3/lib/python3.7/site-packages/librosa/core/audio.py:161: UserWarning: PySoundFile failed. Trying audioread instead.\n",
      "  warnings.warn('PySoundFile failed. Trying audioread instead.')\n"
     ]
    },
    {
     "name": "stdout",
     "output_type": "stream",
     "text": [
      "././genres_2/Trap/Work_[FazMusic.net].mp3 0.3840263783931732 0.2628474831581116 2470.0112882202066 2679.382642452602 5376.930750163138 0.0961846088312065\n",
      "././genres_2/Trap/10._Crew_(Ft._Brent_Faiyaz_&_Shy_Glizzy).mp3\n"
     ]
    },
    {
     "name": "stderr",
     "output_type": "stream",
     "text": [
      "/Users/Andy/opt/anaconda3/lib/python3.7/site-packages/librosa/core/audio.py:161: UserWarning: PySoundFile failed. Trying audioread instead.\n",
      "  warnings.warn('PySoundFile failed. Trying audioread instead.')\n"
     ]
    },
    {
     "name": "stdout",
     "output_type": "stream",
     "text": [
      "././genres_2/Trap/10._Crew_(Ft._Brent_Faiyaz_&_Shy_Glizzy).mp3 0.4040640592575073 0.28115010261535645 2214.747274798014 2736.2227359503163 5025.330014682425 0.07106927929234338\n",
      "././genres_2/Trap/043._Sheck_Wes_-_Mo_Bamba.mp3\n"
     ]
    },
    {
     "name": "stderr",
     "output_type": "stream",
     "text": [
      "/Users/Andy/opt/anaconda3/lib/python3.7/site-packages/librosa/core/audio.py:161: UserWarning: PySoundFile failed. Trying audioread instead.\n",
      "  warnings.warn('PySoundFile failed. Trying audioread instead.')\n"
     ]
    },
    {
     "name": "stdout",
     "output_type": "stream",
     "text": [
      "././genres_2/Trap/043._Sheck_Wes_-_Mo_Bamba.mp3 0.5050288438796997 0.39094969630241394 1323.031359585726 2123.4507992390295 2819.3257980169665 0.018956868111948955\n",
      "././genres_2/Cheeze/01_Not_Giving_In_(feat._John_Newman_&_Alex_Clare).mp3\n"
     ]
    },
    {
     "name": "stderr",
     "output_type": "stream",
     "text": [
      "/Users/Andy/opt/anaconda3/lib/python3.7/site-packages/librosa/core/audio.py:161: UserWarning: PySoundFile failed. Trying audioread instead.\n",
      "  warnings.warn('PySoundFile failed. Trying audioread instead.')\n"
     ]
    },
    {
     "name": "stdout",
     "output_type": "stream",
     "text": [
      "././genres_2/Cheeze/01_Not_Giving_In_(feat._John_Newman_&_Alex_Clare).mp3 0.39050430059432983 0.23976390063762665 1383.9904900418633 1752.7677750836647 2688.6027679089325 0.060245522766821345\n",
      "././genres_2/Cheeze/Crystal_Waters_-_Gypsy_Woman_(She's_Homeless).mp3\n"
     ]
    },
    {
     "name": "stderr",
     "output_type": "stream",
     "text": [
      "/Users/Andy/opt/anaconda3/lib/python3.7/site-packages/librosa/core/audio.py:161: UserWarning: PySoundFile failed. Trying audioread instead.\n",
      "  warnings.warn('PySoundFile failed. Trying audioread instead.')\n"
     ]
    },
    {
     "name": "stdout",
     "output_type": "stream",
     "text": [
      "././genres_2/Cheeze/Crystal_Waters_-_Gypsy_Woman_(She's_Homeless).mp3 0.3540189266204834 0.05084048584103584 2423.292842750514 2358.0755178506442 4869.376665367605 0.11840083925464037\n",
      "././genres_2/Cheeze/04_Can_I_Kick_It__1.m4a\n"
     ]
    },
    {
     "name": "stderr",
     "output_type": "stream",
     "text": [
      "/Users/Andy/opt/anaconda3/lib/python3.7/site-packages/librosa/core/audio.py:161: UserWarning: PySoundFile failed. Trying audioread instead.\n",
      "  warnings.warn('PySoundFile failed. Trying audioread instead.')\n"
     ]
    },
    {
     "name": "stdout",
     "output_type": "stream",
     "text": [
      "././genres_2/Cheeze/04_Can_I_Kick_It__1.m4a 0.38564997911453247 0.1842936873435974 1717.252985515684 2259.5306997929342 4036.126638177929 0.05087867966937355\n",
      "././genres_2/Cheeze/Disclosure_-_Boss.mp3\n"
     ]
    },
    {
     "name": "stderr",
     "output_type": "stream",
     "text": [
      "/Users/Andy/opt/anaconda3/lib/python3.7/site-packages/librosa/core/audio.py:161: UserWarning: PySoundFile failed. Trying audioread instead.\n",
      "  warnings.warn('PySoundFile failed. Trying audioread instead.')\n"
     ]
    },
    {
     "name": "stdout",
     "output_type": "stream",
     "text": [
      "././genres_2/Cheeze/Disclosure_-_Boss.mp3 0.4999760687351227 0.20635968446731567 2828.5140814124165 2695.050674755887 5929.849448502755 0.1219649525087007\n",
      "././genres_2/Cheeze/12_One_Dance_(feat._Wizkid_&_Kyla).mp3\n"
     ]
    },
    {
     "name": "stderr",
     "output_type": "stream",
     "text": [
      "/Users/Andy/opt/anaconda3/lib/python3.7/site-packages/librosa/core/audio.py:161: UserWarning: PySoundFile failed. Trying audioread instead.\n",
      "  warnings.warn('PySoundFile failed. Trying audioread instead.')\n"
     ]
    },
    {
     "name": "stdout",
     "output_type": "stream",
     "text": [
      "././genres_2/Cheeze/12_One_Dance_(feat._Wizkid_&_Kyla).mp3 0.4659481346607208 0.3372785747051239 2134.397286744881 2648.852026392048 5168.493340795389 0.05883165965777262\n",
      "././genres_2/Cheeze/Keep_Warm.wav\n",
      "././genres_2/Cheeze/Keep_Warm.wav 0.49662724137306213 0.2512366473674774 3394.4946748133384 3084.833356328587 7223.440388902987 0.1707488942865429\n",
      "././genres_2/Cheeze/1-01_1999_(EASYFUN_Remix).mp3\n"
     ]
    },
    {
     "name": "stderr",
     "output_type": "stream",
     "text": [
      "/Users/Andy/opt/anaconda3/lib/python3.7/site-packages/librosa/core/audio.py:161: UserWarning: PySoundFile failed. Trying audioread instead.\n",
      "  warnings.warn('PySoundFile failed. Trying audioread instead.')\n"
     ]
    },
    {
     "name": "stdout",
     "output_type": "stream",
     "text": [
      "././genres_2/Cheeze/1-01_1999_(EASYFUN_Remix).mp3 0.4942854940891266 0.3303122818470001 2190.2010179740932 2505.9699353999267 4782.069768706497 0.07386868293213457\n",
      "././genres_2/Cheeze/Rudimental_-_Spoons_ft._MNEK_&_Syron_(Baunz_Remix).mp3\n"
     ]
    },
    {
     "name": "stderr",
     "output_type": "stream",
     "text": [
      "/Users/Andy/opt/anaconda3/lib/python3.7/site-packages/librosa/core/audio.py:161: UserWarning: PySoundFile failed. Trying audioread instead.\n",
      "  warnings.warn('PySoundFile failed. Trying audioread instead.')\n"
     ]
    },
    {
     "name": "stdout",
     "output_type": "stream",
     "text": [
      "././genres_2/Cheeze/Rudimental_-_Spoons_ft._MNEK_&_Syron_(Baunz_Remix).mp3 0.5079950094223022 0.24427054822444916 2240.8312755688967 2242.8149936822606 4106.921415041328 0.11404709251740139\n",
      "././genres_2/Cheeze/Chris_Brown_-_Loyal_ft._Lil_Wayne,_Tyga.mp3\n"
     ]
    },
    {
     "name": "stderr",
     "output_type": "stream",
     "text": [
      "/Users/Andy/opt/anaconda3/lib/python3.7/site-packages/librosa/core/audio.py:161: UserWarning: PySoundFile failed. Trying audioread instead.\n",
      "  warnings.warn('PySoundFile failed. Trying audioread instead.')\n"
     ]
    },
    {
     "name": "stdout",
     "output_type": "stream",
     "text": [
      "././genres_2/Cheeze/Chris_Brown_-_Loyal_ft._Lil_Wayne,_Tyga.mp3 0.4328101575374603 0.17402034997940063 2416.4223109734753 2692.2483516016387 5414.9510925717805 0.08654360317575406\n",
      "././genres_2/Cheeze/05_Deep_Inside.mp3\n"
     ]
    },
    {
     "name": "stderr",
     "output_type": "stream",
     "text": [
      "/Users/Andy/opt/anaconda3/lib/python3.7/site-packages/librosa/core/audio.py:161: UserWarning: PySoundFile failed. Trying audioread instead.\n",
      "  warnings.warn('PySoundFile failed. Trying audioread instead.')\n"
     ]
    },
    {
     "name": "stdout",
     "output_type": "stream",
     "text": [
      "././genres_2/Cheeze/05_Deep_Inside.mp3 0.47349637746810913 0.156080424785614 3525.0069461107696 2656.8773204734166 6577.918924920244 0.2166405343677494\n",
      "././genres_2/Cheeze/1-03_Inta.mp3\n"
     ]
    },
    {
     "name": "stderr",
     "output_type": "stream",
     "text": [
      "/Users/Andy/opt/anaconda3/lib/python3.7/site-packages/librosa/core/audio.py:161: UserWarning: PySoundFile failed. Trying audioread instead.\n",
      "  warnings.warn('PySoundFile failed. Trying audioread instead.')\n"
     ]
    },
    {
     "name": "stdout",
     "output_type": "stream",
     "text": [
      "././genres_2/Cheeze/1-03_Inta.mp3 0.5629956722259521 0.3392612338066101 2458.933759877806 2586.4441362426955 5407.007289098753 0.08002374564965198\n",
      "././genres_2/Cheeze/02_Rasputin_1.m4a\n"
     ]
    },
    {
     "name": "stderr",
     "output_type": "stream",
     "text": [
      "/Users/Andy/opt/anaconda3/lib/python3.7/site-packages/librosa/core/audio.py:161: UserWarning: PySoundFile failed. Trying audioread instead.\n",
      "  warnings.warn('PySoundFile failed. Trying audioread instead.')\n"
     ]
    },
    {
     "name": "stdout",
     "output_type": "stream",
     "text": [
      "././genres_2/Cheeze/02_Rasputin_1.m4a 0.4691010117530823 0.1309129148721695 2760.021182962475 2800.6283086659105 6165.940286941705 0.12042760295823667\n",
      "././genres_2/Cheeze/AGGRO_SANTOS_-_CANDY_(MESSED_DRUM&BASS_REMIX).mp3\n"
     ]
    },
    {
     "name": "stderr",
     "output_type": "stream",
     "text": [
      "/Users/Andy/opt/anaconda3/lib/python3.7/site-packages/librosa/core/audio.py:161: UserWarning: PySoundFile failed. Trying audioread instead.\n",
      "  warnings.warn('PySoundFile failed. Trying audioread instead.')\n"
     ]
    },
    {
     "name": "stdout",
     "output_type": "stream",
     "text": [
      "././genres_2/Cheeze/AGGRO_SANTOS_-_CANDY_(MESSED_DRUM&BASS_REMIX).mp3 0.36629971861839294 0.20687313377857208 2400.3887597165162 2529.4999351511697 5201.692443989269 0.10859896135440836\n",
      "././genres_2/Cheeze/47_Oh_Carolina_(Original_Mix).mp3\n"
     ]
    },
    {
     "name": "stderr",
     "output_type": "stream",
     "text": [
      "/Users/Andy/opt/anaconda3/lib/python3.7/site-packages/librosa/core/audio.py:161: UserWarning: PySoundFile failed. Trying audioread instead.\n",
      "  warnings.warn('PySoundFile failed. Trying audioread instead.')\n"
     ]
    },
    {
     "name": "stdout",
     "output_type": "stream",
     "text": [
      "././genres_2/Cheeze/47_Oh_Carolina_(Original_Mix).mp3 0.4163435995578766 0.20919497311115265 2442.6131817364985 2543.5550991955324 5386.4483260223315 0.11118424630220418\n",
      "././genres_2/Cheeze/Touch_Me.wav\n",
      "././genres_2/Cheeze/Touch_Me.wav 0.5812174677848816 0.19161947071552277 3971.6204052934713 3406.089848031673 8265.627435741735 0.2068817067865429\n",
      "././genres_2/Cheeze/Destinys_Child_-_Survivor_(Lyrics).mp3\n"
     ]
    },
    {
     "name": "stderr",
     "output_type": "stream",
     "text": [
      "/Users/Andy/opt/anaconda3/lib/python3.7/site-packages/librosa/core/audio.py:161: UserWarning: PySoundFile failed. Trying audioread instead.\n",
      "  warnings.warn('PySoundFile failed. Trying audioread instead.')\n"
     ]
    },
    {
     "name": "stdout",
     "output_type": "stream",
     "text": [
      "././genres_2/Cheeze/Destinys_Child_-_Survivor_(Lyrics).mp3 0.36077773571014404 0.1322171986103058 3010.7611425128225 2771.6082536600593 6180.503926642256 0.13601181844547564\n",
      "././genres_2/Cheeze/George_Fitzgerald_-_Child_(Original_Mix).mp3\n"
     ]
    },
    {
     "name": "stderr",
     "output_type": "stream",
     "text": [
      "/Users/Andy/opt/anaconda3/lib/python3.7/site-packages/librosa/core/audio.py:161: UserWarning: PySoundFile failed. Trying audioread instead.\n",
      "  warnings.warn('PySoundFile failed. Trying audioread instead.')\n"
     ]
    },
    {
     "name": "stdout",
     "output_type": "stream",
     "text": [
      "././genres_2/Cheeze/George_Fitzgerald_-_Child_(Original_Mix).mp3 0.5134078860282898 0.23236750066280365 3141.1381003098545 2033.0290666961891 5134.31999755293 0.2125145011600928\n",
      "././genres_2/Cheeze/Section_Boyz_-_Dig_Dat_[Music_Video]_-_@SectionBoyz_.mp3\n"
     ]
    },
    {
     "name": "stderr",
     "output_type": "stream",
     "text": [
      "/Users/Andy/opt/anaconda3/lib/python3.7/site-packages/librosa/core/audio.py:161: UserWarning: PySoundFile failed. Trying audioread instead.\n",
      "  warnings.warn('PySoundFile failed. Trying audioread instead.')\n"
     ]
    },
    {
     "name": "stdout",
     "output_type": "stream",
     "text": [
      "././genres_2/Cheeze/Section_Boyz_-_Dig_Dat_[Music_Video]_-_@SectionBoyz_.mp3 0.5782631635665894 0.4030415415763855 2506.718341843237 2539.040785875517 5201.2927557642115 0.07561335375580046\n",
      "././genres_2/Cheeze/Earth,_Wind_&_Fire_-_Let's_Groove.mp3\n"
     ]
    },
    {
     "name": "stderr",
     "output_type": "stream",
     "text": [
      "/Users/Andy/opt/anaconda3/lib/python3.7/site-packages/librosa/core/audio.py:161: UserWarning: PySoundFile failed. Trying audioread instead.\n",
      "  warnings.warn('PySoundFile failed. Trying audioread instead.')\n"
     ]
    },
    {
     "name": "stdout",
     "output_type": "stream",
     "text": [
      "././genres_2/Cheeze/Earth,_Wind_&_Fire_-_Let's_Groove.mp3 0.3880578279495239 0.14454606175422668 2807.7409002583977 2747.728386884862 6014.308566560325 0.13766019250290024\n",
      "././genres_2/Cheeze/Robert_Miles_-_Children.mp3\n"
     ]
    },
    {
     "name": "stderr",
     "output_type": "stream",
     "text": [
      "/Users/Andy/opt/anaconda3/lib/python3.7/site-packages/librosa/core/audio.py:161: UserWarning: PySoundFile failed. Trying audioread instead.\n",
      "  warnings.warn('PySoundFile failed. Trying audioread instead.')\n"
     ]
    },
    {
     "name": "stdout",
     "output_type": "stream",
     "text": [
      "././genres_2/Cheeze/Robert_Miles_-_Children.mp3 0.4126468896865845 0.09304871410131454 2983.4300751491414 3163.0380780609885 7221.991519087152 0.11250974296693736\n",
      "././genres_2/Cheeze/DrDr_-_Addicted_(Polkadot_Remix).mp3\n"
     ]
    },
    {
     "name": "stderr",
     "output_type": "stream",
     "text": [
      "/Users/Andy/opt/anaconda3/lib/python3.7/site-packages/librosa/core/audio.py:161: UserWarning: PySoundFile failed. Trying audioread instead.\n",
      "  warnings.warn('PySoundFile failed. Trying audioread instead.')\n"
     ]
    },
    {
     "name": "stdout",
     "output_type": "stream",
     "text": [
      "././genres_2/Cheeze/DrDr_-_Addicted_(Polkadot_Remix).mp3 0.3424767851829529 0.12198640406131744 1529.309904291697 1725.693663590844 2718.004832964762 0.07151904183584687\n",
      "././genres_2/Cheeze/04_All_Of_The_Lights_(Interlude).mp3\n"
     ]
    },
    {
     "name": "stderr",
     "output_type": "stream",
     "text": [
      "/Users/Andy/opt/anaconda3/lib/python3.7/site-packages/librosa/core/audio.py:161: UserWarning: PySoundFile failed. Trying audioread instead.\n",
      "  warnings.warn('PySoundFile failed. Trying audioread instead.')\n"
     ]
    },
    {
     "name": "stdout",
     "output_type": "stream",
     "text": [
      "././genres_2/Cheeze/04_All_Of_The_Lights_(Interlude).mp3 0.250844806432724 0.07550730556249619 1752.5809047327386 1914.7915293246417 3182.9671412775524 0.09932161760440836\n",
      "././genres_2/Cheeze/Honey.wav\n",
      "././genres_2/Cheeze/Honey.wav 0.41551297903060913 0.15960116684436798 3232.3544147096086 3228.4462930584045 7707.21302430757 0.15845916110788863\n",
      "././genres_2/Cheeze/Mason_-_Exceeder_(UMEK_&_Mike_Vale_Remix)_[Armada_Music].mp3\n"
     ]
    },
    {
     "name": "stderr",
     "output_type": "stream",
     "text": [
      "/Users/Andy/opt/anaconda3/lib/python3.7/site-packages/librosa/core/audio.py:161: UserWarning: PySoundFile failed. Trying audioread instead.\n",
      "  warnings.warn('PySoundFile failed. Trying audioread instead.')\n"
     ]
    },
    {
     "name": "stdout",
     "output_type": "stream",
     "text": [
      "././genres_2/Cheeze/Mason_-_Exceeder_(UMEK_&_Mike_Vale_Remix)_[Armada_Music].mp3 0.5862047672271729 0.3261893689632416 3664.0119714289613 2973.906231193811 7355.837113453451 0.1998679034947796\n",
      "././genres_2/Cheeze/Indeep_-_Last_Night_A_DJ_Saved_My_Life_1982_[HD].mp3\n"
     ]
    },
    {
     "name": "stderr",
     "output_type": "stream",
     "text": [
      "/Users/Andy/opt/anaconda3/lib/python3.7/site-packages/librosa/core/audio.py:161: UserWarning: PySoundFile failed. Trying audioread instead.\n",
      "  warnings.warn('PySoundFile failed. Trying audioread instead.')\n"
     ]
    },
    {
     "name": "stdout",
     "output_type": "stream",
     "text": [
      "././genres_2/Cheeze/Indeep_-_Last_Night_A_DJ_Saved_My_Life_1982_[HD].mp3 0.4092949628829956 0.09780097007751465 2980.212502161121 2797.948179011286 6268.760082837877 0.13917941560324826\n",
      "././genres_2/Cheeze/2-12_Bump_&_Grind_2014_(Radio_Edit).wav\n",
      "././genres_2/Cheeze/2-12_Bump_&_Grind_2014_(Radio_Edit).wav 0.38726940751075745 0.22349102795124054 2718.029895139726 2471.2552774594255 5450.573305630075 0.1275377030162413\n",
      "././genres_2/Cheeze/01_American_Boy.mp3\n"
     ]
    },
    {
     "name": "stderr",
     "output_type": "stream",
     "text": [
      "/Users/Andy/opt/anaconda3/lib/python3.7/site-packages/librosa/core/audio.py:161: UserWarning: PySoundFile failed. Trying audioread instead.\n",
      "  warnings.warn('PySoundFile failed. Trying audioread instead.')\n"
     ]
    },
    {
     "name": "stdout",
     "output_type": "stream",
     "text": [
      "././genres_2/Cheeze/01_American_Boy.mp3 0.32302793860435486 0.30114230513572693 2244.2475810955007 2426.4304269319023 4621.170277606583 0.0896556880800464\n",
      "././genres_2/Cheeze/2-16_Skin_Deep.mp3\n"
     ]
    },
    {
     "name": "stderr",
     "output_type": "stream",
     "text": [
      "/Users/Andy/opt/anaconda3/lib/python3.7/site-packages/librosa/core/audio.py:161: UserWarning: PySoundFile failed. Trying audioread instead.\n",
      "  warnings.warn('PySoundFile failed. Trying audioread instead.')\n"
     ]
    },
    {
     "name": "stdout",
     "output_type": "stream",
     "text": [
      "././genres_2/Cheeze/2-16_Skin_Deep.mp3 0.41194242238998413 0.20076856017112732 3231.478042531966 2733.5281675831425 6463.283345870795 0.16447034512761022\n",
      "././genres_2/Cheeze/Bonkers_1.mp3\n"
     ]
    },
    {
     "name": "stderr",
     "output_type": "stream",
     "text": [
      "/Users/Andy/opt/anaconda3/lib/python3.7/site-packages/librosa/core/audio.py:161: UserWarning: PySoundFile failed. Trying audioread instead.\n",
      "  warnings.warn('PySoundFile failed. Trying audioread instead.')\n"
     ]
    },
    {
     "name": "stdout",
     "output_type": "stream",
     "text": [
      "././genres_2/Cheeze/Bonkers_1.mp3 0.36444810032844543 0.08422068506479263 2368.397252134337 2380.790681408426 4907.5468908606435 0.1129900938950116\n",
      "././genres_2/Cheeze/2-12_Remedy_(Reset_Safari_Remix).mp3\n"
     ]
    },
    {
     "name": "stderr",
     "output_type": "stream",
     "text": [
      "/Users/Andy/opt/anaconda3/lib/python3.7/site-packages/librosa/core/audio.py:161: UserWarning: PySoundFile failed. Trying audioread instead.\n",
      "  warnings.warn('PySoundFile failed. Trying audioread instead.')\n"
     ]
    },
    {
     "name": "stdout",
     "output_type": "stream",
     "text": [
      "././genres_2/Cheeze/2-12_Remedy_(Reset_Safari_Remix).mp3 0.5692887902259827 0.3634687066078186 1835.9903541087765 2150.783352573748 3840.079563786978 0.04558575623549884\n",
      "././genres_2/Cheeze/Ed_Sheeran-Dont_Netsky_Remix_(iPlayer.fm).mp3\n"
     ]
    },
    {
     "name": "stderr",
     "output_type": "stream",
     "text": [
      "/Users/Andy/opt/anaconda3/lib/python3.7/site-packages/librosa/core/audio.py:161: UserWarning: PySoundFile failed. Trying audioread instead.\n",
      "  warnings.warn('PySoundFile failed. Trying audioread instead.')\n"
     ]
    },
    {
     "name": "stdout",
     "output_type": "stream",
     "text": [
      "././genres_2/Cheeze/Ed_Sheeran-Dont_Netsky_Remix_(iPlayer.fm).mp3 0.4054549038410187 0.15542703866958618 2401.8369820729213 2499.501367050385 5117.583053128626 0.08955712550754061\n",
      "././genres_2/Cheeze/01_Pon_De_Replay.mp3\n"
     ]
    },
    {
     "name": "stderr",
     "output_type": "stream",
     "text": [
      "/Users/Andy/opt/anaconda3/lib/python3.7/site-packages/librosa/core/audio.py:161: UserWarning: PySoundFile failed. Trying audioread instead.\n",
      "  warnings.warn('PySoundFile failed. Trying audioread instead.')\n"
     ]
    },
    {
     "name": "stdout",
     "output_type": "stream",
     "text": [
      "././genres_2/Cheeze/01_Pon_De_Replay.mp3 0.4957312345504761 0.2970705032348633 2692.4793341164973 2820.202033872241 5925.827585738109 0.09038867640661252\n",
      "././genres_2/Cheeze/Kartell_-_Attracted.mp3\n"
     ]
    },
    {
     "name": "stderr",
     "output_type": "stream",
     "text": [
      "/Users/Andy/opt/anaconda3/lib/python3.7/site-packages/librosa/core/audio.py:161: UserWarning: PySoundFile failed. Trying audioread instead.\n",
      "  warnings.warn('PySoundFile failed. Trying audioread instead.')\n"
     ]
    },
    {
     "name": "stdout",
     "output_type": "stream",
     "text": [
      "././genres_2/Cheeze/Kartell_-_Attracted.mp3 0.35497042536735535 0.11721894145011902 2841.4695634727814 2666.5183417094686 5912.288147114269 0.13097946273201855\n",
      "././genres_2/Cheeze/0704_-_Missy_Elliott_-_Get_Ur_Freak_On.wav\n",
      "././genres_2/Cheeze/0704_-_Missy_Elliott_-_Get_Ur_Freak_On.wav 0.39590051770210266 0.23283949494361877 2354.821224340992 2288.3681654564434 4566.787698484629 0.10188990900522042\n",
      "././genres_2/Cheeze/14._black_eyed_peas_-_just_can't_get_enough.mp3\n"
     ]
    },
    {
     "name": "stderr",
     "output_type": "stream",
     "text": [
      "/Users/Andy/opt/anaconda3/lib/python3.7/site-packages/librosa/core/audio.py:161: UserWarning: PySoundFile failed. Trying audioread instead.\n",
      "  warnings.warn('PySoundFile failed. Trying audioread instead.')\n"
     ]
    },
    {
     "name": "stdout",
     "output_type": "stream",
     "text": [
      "././genres_2/Cheeze/14._black_eyed_peas_-_just_can't_get_enough.mp3 0.4604317545890808 0.23181754350662231 2380.9226118441184 2488.8920500389377 4991.306554524362 0.10534639646171694\n",
      "././genres_2/Cheeze/Crystal_Waters_-_Gypsy_Woman_(Shes_Homeless).mp3\n"
     ]
    },
    {
     "name": "stderr",
     "output_type": "stream",
     "text": [
      "/Users/Andy/opt/anaconda3/lib/python3.7/site-packages/librosa/core/audio.py:161: UserWarning: PySoundFile failed. Trying audioread instead.\n",
      "  warnings.warn('PySoundFile failed. Trying audioread instead.')\n"
     ]
    },
    {
     "name": "stdout",
     "output_type": "stream",
     "text": [
      "././genres_2/Cheeze/Crystal_Waters_-_Gypsy_Woman_(Shes_Homeless).mp3 0.3519774377346039 0.05342251807451248 2482.0392334671305 2407.5799796164765 4990.082509335121 0.11695865356728538\n",
      "././genres_2/Cheeze/03_Deep_Down_Low.mp3\n"
     ]
    },
    {
     "name": "stderr",
     "output_type": "stream",
     "text": [
      "/Users/Andy/opt/anaconda3/lib/python3.7/site-packages/librosa/core/audio.py:161: UserWarning: PySoundFile failed. Trying audioread instead.\n",
      "  warnings.warn('PySoundFile failed. Trying audioread instead.')\n"
     ]
    },
    {
     "name": "stdout",
     "output_type": "stream",
     "text": [
      "././genres_2/Cheeze/03_Deep_Down_Low.mp3 0.5190612077713013 0.4240494668483734 2425.304870521018 2686.3584173402714 5394.367148981293 0.0860315309599768\n",
      "././genres_2/Cheeze/Turn_Around.wav\n",
      "././genres_2/Cheeze/Turn_Around.wav 0.41619014739990234 0.23630671203136444 2810.45716177692 2687.899698778685 5831.426223082221 0.129914533787703\n",
      "././genres_2/Cheeze/04_LOVE_OF_MY_LIFE_Remix.mp3\n"
     ]
    },
    {
     "name": "stderr",
     "output_type": "stream",
     "text": [
      "/Users/Andy/opt/anaconda3/lib/python3.7/site-packages/librosa/core/audio.py:161: UserWarning: PySoundFile failed. Trying audioread instead.\n",
      "  warnings.warn('PySoundFile failed. Trying audioread instead.')\n"
     ]
    },
    {
     "name": "stdout",
     "output_type": "stream",
     "text": [
      "././genres_2/Cheeze/04_LOVE_OF_MY_LIFE_Remix.mp3 0.4572761356830597 0.2789222300052643 2264.0935472289157 2496.886240803854 4820.814546023057 0.09117604408352668\n",
      "././genres_2/Cheeze/01_Ultralight_Beam.mp3\n"
     ]
    },
    {
     "name": "stderr",
     "output_type": "stream",
     "text": [
      "/Users/Andy/opt/anaconda3/lib/python3.7/site-packages/librosa/core/audio.py:161: UserWarning: PySoundFile failed. Trying audioread instead.\n",
      "  warnings.warn('PySoundFile failed. Trying audioread instead.')\n"
     ]
    },
    {
     "name": "stdout",
     "output_type": "stream",
     "text": [
      "././genres_2/Cheeze/01_Ultralight_Beam.mp3 0.3435378968715668 0.1716524213552475 1869.936364953284 2131.873189091853 3735.211365737384 0.08180353647041763\n",
      "././genres_2/Cheeze/08_Burning_(Vibe_Mix).mp3\n"
     ]
    },
    {
     "name": "stderr",
     "output_type": "stream",
     "text": [
      "/Users/Andy/opt/anaconda3/lib/python3.7/site-packages/librosa/core/audio.py:161: UserWarning: PySoundFile failed. Trying audioread instead.\n",
      "  warnings.warn('PySoundFile failed. Trying audioread instead.')\n"
     ]
    },
    {
     "name": "stdout",
     "output_type": "stream",
     "text": [
      "././genres_2/Cheeze/08_Burning_(Vibe_Mix).mp3 0.47589343786239624 0.30230993032455444 2600.780422644197 2544.552425303435 5494.039400105134 0.1002857181699536\n",
      "././genres_2/Cheeze/Disclosure_-_White_Noise_ft._AlunaGeorge_(Official_Video).mp3\n"
     ]
    },
    {
     "name": "stderr",
     "output_type": "stream",
     "text": [
      "/Users/Andy/opt/anaconda3/lib/python3.7/site-packages/librosa/core/audio.py:161: UserWarning: PySoundFile failed. Trying audioread instead.\n",
      "  warnings.warn('PySoundFile failed. Trying audioread instead.')\n"
     ]
    },
    {
     "name": "stdout",
     "output_type": "stream",
     "text": [
      "././genres_2/Cheeze/Disclosure_-_White_Noise_ft._AlunaGeorge_(Official_Video).mp3 0.33648842573165894 0.197872132062912 3074.4288798879384 2676.4632303812746 6106.98627374565 0.13255193227958237\n",
      "././genres_2/Cheeze/J_Hus_ft_DoccyDocs_-_Lean_&amp;_Bop_[Music_Video]-_SBTV_(320__kbps).mp3\n"
     ]
    },
    {
     "name": "stderr",
     "output_type": "stream",
     "text": [
      "/Users/Andy/opt/anaconda3/lib/python3.7/site-packages/librosa/core/audio.py:161: UserWarning: PySoundFile failed. Trying audioread instead.\n",
      "  warnings.warn('PySoundFile failed. Trying audioread instead.')\n"
     ]
    },
    {
     "name": "stdout",
     "output_type": "stream",
     "text": [
      "././genres_2/Cheeze/J_Hus_ft_DoccyDocs_-_Lean_&amp;_Bop_[Music_Video]-_SBTV_(320__kbps).mp3 0.3716052174568176 0.07205835729837418 2499.5574002262388 2417.37537752692 4966.825650739559 0.11702776065835267\n",
      "././genres_2/Cheeze/Sigala_-_Give_Me_Your_Love_ft._John_Newman,_Nile_Rodgers.mp3\n"
     ]
    },
    {
     "name": "stderr",
     "output_type": "stream",
     "text": [
      "/Users/Andy/opt/anaconda3/lib/python3.7/site-packages/librosa/core/audio.py:161: UserWarning: PySoundFile failed. Trying audioread instead.\n",
      "  warnings.warn('PySoundFile failed. Trying audioread instead.')\n"
     ]
    },
    {
     "name": "stdout",
     "output_type": "stream",
     "text": [
      "././genres_2/Cheeze/Sigala_-_Give_Me_Your_Love_ft._John_Newman,_Nile_Rodgers.mp3 0.3396126925945282 0.04571325331926346 2640.8221165595332 2468.2089912500155 5359.669214943446 0.13622480423433875\n",
      "././genres_2/Cheeze/Calvin_Harris_-_I'm_Not_Alone.mp3\n"
     ]
    },
    {
     "name": "stderr",
     "output_type": "stream",
     "text": [
      "/Users/Andy/opt/anaconda3/lib/python3.7/site-packages/librosa/core/audio.py:161: UserWarning: PySoundFile failed. Trying audioread instead.\n",
      "  warnings.warn('PySoundFile failed. Trying audioread instead.')\n"
     ]
    },
    {
     "name": "stdout",
     "output_type": "stream",
     "text": [
      "././genres_2/Cheeze/Calvin_Harris_-_I'm_Not_Alone.mp3 0.3921656310558319 0.06931018084287643 1325.0228507014099 2099.948123243558 2438.6227636492167 0.04047296439965197\n",
      "././genres_2/Cheeze/Rae_Sremmurd_-_No_Type.mp3\n"
     ]
    },
    {
     "name": "stderr",
     "output_type": "stream",
     "text": [
      "/Users/Andy/opt/anaconda3/lib/python3.7/site-packages/librosa/core/audio.py:161: UserWarning: PySoundFile failed. Trying audioread instead.\n",
      "  warnings.warn('PySoundFile failed. Trying audioread instead.')\n"
     ]
    },
    {
     "name": "stdout",
     "output_type": "stream",
     "text": [
      "././genres_2/Cheeze/Rae_Sremmurd_-_No_Type.mp3 0.4942328631877899 0.2700352072715759 2103.696085982332 2500.1104388093336 4670.082124148057 0.046861405162412995\n",
      "././genres_2/Cheeze/04_I_Feel_Love.aif\n",
      "././genres_2/Cheeze/04_I_Feel_Love.aif 0.3229607045650482 0.07423890382051468 2812.606283375576 2788.136835180954 6151.851277008411 0.10440835266821345\n",
      "././genres_2/Cheeze/1-04_Ice_Ice_Baby_(Radio_Edit).mp3\n"
     ]
    },
    {
     "name": "stderr",
     "output_type": "stream",
     "text": [
      "/Users/Andy/opt/anaconda3/lib/python3.7/site-packages/librosa/core/audio.py:161: UserWarning: PySoundFile failed. Trying audioread instead.\n",
      "  warnings.warn('PySoundFile failed. Trying audioread instead.')\n"
     ]
    },
    {
     "name": "stdout",
     "output_type": "stream",
     "text": [
      "././genres_2/Cheeze/1-04_Ice_Ice_Baby_(Radio_Edit).mp3 0.4207881689071655 0.15481510758399963 2780.1425665456227 2709.5743497288095 5797.177938297564 0.11867047020011601\n",
      "././genres_2/Cheeze/Day_N_Nite_(Crookers_Remix).mp3\n"
     ]
    },
    {
     "name": "stderr",
     "output_type": "stream",
     "text": [
      "/Users/Andy/opt/anaconda3/lib/python3.7/site-packages/librosa/core/audio.py:161: UserWarning: PySoundFile failed. Trying audioread instead.\n",
      "  warnings.warn('PySoundFile failed. Trying audioread instead.')\n"
     ]
    },
    {
     "name": "stdout",
     "output_type": "stream",
     "text": [
      "././genres_2/Cheeze/Day_N_Nite_(Crookers_Remix).mp3 0.36914223432540894 0.3291064202785492 2308.316735431384 2527.3125623204296 4806.325847864704 0.08439335303074245\n",
      "././genres_2/Cheeze/Armand_Van_Helden-Full_Moon_www.my-free-mp3.net_.mp3\n"
     ]
    },
    {
     "name": "stderr",
     "output_type": "stream",
     "text": [
      "/Users/Andy/opt/anaconda3/lib/python3.7/site-packages/librosa/core/audio.py:161: UserWarning: PySoundFile failed. Trying audioread instead.\n",
      "  warnings.warn('PySoundFile failed. Trying audioread instead.')\n"
     ]
    },
    {
     "name": "stdout",
     "output_type": "stream",
     "text": [
      "././genres_2/Cheeze/Armand_Van_Helden-Full_Moon_www.my-free-mp3.net_.mp3 0.521820068359375 0.10717608034610748 2627.83494577388 2743.0315212473943 5784.238032011311 0.09185578596287702\n",
      "././genres_2/Cheeze/28_-_Stefflon_Don_Ft_French_Montana_-_Hurtin'_Me.mp3\n"
     ]
    },
    {
     "name": "stderr",
     "output_type": "stream",
     "text": [
      "/Users/Andy/opt/anaconda3/lib/python3.7/site-packages/librosa/core/audio.py:161: UserWarning: PySoundFile failed. Trying audioread instead.\n",
      "  warnings.warn('PySoundFile failed. Trying audioread instead.')\n"
     ]
    },
    {
     "name": "stdout",
     "output_type": "stream",
     "text": [
      "././genres_2/Cheeze/28_-_Stefflon_Don_Ft_French_Montana_-_Hurtin'_Me.mp3 0.36092349886894226 0.16629651188850403 1710.4321910083331 1880.908226926775 3555.976177312935 0.08019254821635731\n",
      "././genres_2/Cheeze/2-09_Hey_Ya!_1.mp3\n"
     ]
    },
    {
     "name": "stderr",
     "output_type": "stream",
     "text": [
      "/Users/Andy/opt/anaconda3/lib/python3.7/site-packages/librosa/core/audio.py:161: UserWarning: PySoundFile failed. Trying audioread instead.\n",
      "  warnings.warn('PySoundFile failed. Trying audioread instead.')\n"
     ]
    },
    {
     "name": "stdout",
     "output_type": "stream",
     "text": [
      "././genres_2/Cheeze/2-09_Hey_Ya!_1.mp3 0.45517075061798096 0.36708760261535645 1851.533671627374 2247.697822315317 3945.2725085194315 0.07375765842517401\n",
      "././genres_2/Cheeze/02_SOS.mp3\n"
     ]
    },
    {
     "name": "stderr",
     "output_type": "stream",
     "text": [
      "/Users/Andy/opt/anaconda3/lib/python3.7/site-packages/librosa/core/audio.py:161: UserWarning: PySoundFile failed. Trying audioread instead.\n",
      "  warnings.warn('PySoundFile failed. Trying audioread instead.')\n"
     ]
    },
    {
     "name": "stdout",
     "output_type": "stream",
     "text": [
      "././genres_2/Cheeze/02_SOS.mp3 0.508457362651825 0.32177039980888367 2774.7217624833743 2779.9306220746807 5848.063245450261 0.09587306046983758\n",
      "././genres_2/Cheeze/Disclosure_-_Omen_ft._Sam_Smith.mp3\n"
     ]
    },
    {
     "name": "stderr",
     "output_type": "stream",
     "text": [
      "/Users/Andy/opt/anaconda3/lib/python3.7/site-packages/librosa/core/audio.py:161: UserWarning: PySoundFile failed. Trying audioread instead.\n",
      "  warnings.warn('PySoundFile failed. Trying audioread instead.')\n"
     ]
    },
    {
     "name": "stdout",
     "output_type": "stream",
     "text": [
      "././genres_2/Cheeze/Disclosure_-_Omen_ft._Sam_Smith.mp3 0.37974798679351807 0.14319419860839844 2625.508832858697 2584.2932745344438 5529.3368664805685 0.11991213203306264\n",
      "././genres_2/Cheeze/Eat's_Everything_-_Entrance_Song_(Original_Mix)_[Full_HQ].mp3\n"
     ]
    },
    {
     "name": "stderr",
     "output_type": "stream",
     "text": [
      "/Users/Andy/opt/anaconda3/lib/python3.7/site-packages/librosa/core/audio.py:161: UserWarning: PySoundFile failed. Trying audioread instead.\n",
      "  warnings.warn('PySoundFile failed. Trying audioread instead.')\n"
     ]
    },
    {
     "name": "stdout",
     "output_type": "stream",
     "text": [
      "././genres_2/Cheeze/Eat's_Everything_-_Entrance_Song_(Original_Mix)_[Full_HQ].mp3 0.5439563989639282 0.24156659841537476 1250.6171767702158 2023.1834901116688 2850.6014016277554 0.016143869634570766\n",
      "././genres_2/Cheeze/16-03_Ring_My_Bell.mp3\n"
     ]
    },
    {
     "name": "stderr",
     "output_type": "stream",
     "text": [
      "/Users/Andy/opt/anaconda3/lib/python3.7/site-packages/librosa/core/audio.py:161: UserWarning: PySoundFile failed. Trying audioread instead.\n",
      "  warnings.warn('PySoundFile failed. Trying audioread instead.')\n"
     ]
    },
    {
     "name": "stdout",
     "output_type": "stream",
     "text": [
      "././genres_2/Cheeze/16-03_Ring_My_Bell.mp3 0.3988562524318695 0.11862187832593918 3405.640342515526 3178.1222712395324 7620.405737927784 0.14453691451566125\n",
      "././genres_2/Cheeze/Estelle_ft._Kanye_West_-_American_Boy_(Wilfred_Giroux_Edit).mp3\n"
     ]
    },
    {
     "name": "stderr",
     "output_type": "stream",
     "text": [
      "/Users/Andy/opt/anaconda3/lib/python3.7/site-packages/librosa/core/audio.py:161: UserWarning: PySoundFile failed. Trying audioread instead.\n",
      "  warnings.warn('PySoundFile failed. Trying audioread instead.')\n"
     ]
    },
    {
     "name": "stdout",
     "output_type": "stream",
     "text": [
      "././genres_2/Cheeze/Estelle_ft._Kanye_West_-_American_Boy_(Wilfred_Giroux_Edit).mp3 0.47710201144218445 0.1487780213356018 2853.1876001534174 2481.9082361406313 5411.828528313515 0.12730432497099767\n",
      "././genres_2/Cheeze/MK_-_Burning_(Vibe_Mix).mp3\n"
     ]
    },
    {
     "name": "stderr",
     "output_type": "stream",
     "text": [
      "/Users/Andy/opt/anaconda3/lib/python3.7/site-packages/librosa/core/audio.py:161: UserWarning: PySoundFile failed. Trying audioread instead.\n",
      "  warnings.warn('PySoundFile failed. Trying audioread instead.')\n"
     ]
    },
    {
     "name": "stdout",
     "output_type": "stream",
     "text": [
      "././genres_2/Cheeze/MK_-_Burning_(Vibe_Mix).mp3 0.4775431752204895 0.28455036878585815 2620.748305054896 2559.7290958218123 5537.380592009861 0.10223544446055685\n",
      "././genres_2/Cheeze/04_The_launch_Dj_Dean.mp3\n"
     ]
    },
    {
     "name": "stderr",
     "output_type": "stream",
     "text": [
      "/Users/Andy/opt/anaconda3/lib/python3.7/site-packages/librosa/core/audio.py:161: UserWarning: PySoundFile failed. Trying audioread instead.\n",
      "  warnings.warn('PySoundFile failed. Trying audioread instead.')\n"
     ]
    },
    {
     "name": "stdout",
     "output_type": "stream",
     "text": [
      "././genres_2/Cheeze/04_The_launch_Dj_Dean.mp3 0.46245893836021423 0.18261227011680603 2598.6938467166538 2306.1138865748185 5065.84840849768 0.1249059690400232\n",
      "././genres_2/Cheeze/Get_Shaky_-_The_Ian_Carey_Project_wlyrics.mp3\n"
     ]
    },
    {
     "name": "stderr",
     "output_type": "stream",
     "text": [
      "/Users/Andy/opt/anaconda3/lib/python3.7/site-packages/librosa/core/audio.py:161: UserWarning: PySoundFile failed. Trying audioread instead.\n",
      "  warnings.warn('PySoundFile failed. Trying audioread instead.')\n"
     ]
    },
    {
     "name": "stdout",
     "output_type": "stream",
     "text": [
      "././genres_2/Cheeze/Get_Shaky_-_The_Ian_Carey_Project_wlyrics.mp3 0.34930619597435 0.19696001708507538 3024.1192926819062 2718.7015101670627 6226.717877664588 0.1431695004350348\n",
      "././genres_2/Cheeze/BREATHE.mp3\n"
     ]
    },
    {
     "name": "stderr",
     "output_type": "stream",
     "text": [
      "/Users/Andy/opt/anaconda3/lib/python3.7/site-packages/librosa/core/audio.py:161: UserWarning: PySoundFile failed. Trying audioread instead.\n",
      "  warnings.warn('PySoundFile failed. Trying audioread instead.')\n"
     ]
    },
    {
     "name": "stdout",
     "output_type": "stream",
     "text": [
      "././genres_2/Cheeze/BREATHE.mp3 0.42973169684410095 0.18574367463588715 2904.551990069441 2592.7238284210575 5882.536354861514 0.15068291400812064\n",
      "././genres_2/Cheeze/ASAP_Rocky_ft_2_Chainz,_Drake_&_Kendrick_Lamar_-_Fuckin_Problem.mp3\n"
     ]
    },
    {
     "name": "stderr",
     "output_type": "stream",
     "text": [
      "/Users/Andy/opt/anaconda3/lib/python3.7/site-packages/librosa/core/audio.py:161: UserWarning: PySoundFile failed. Trying audioread instead.\n",
      "  warnings.warn('PySoundFile failed. Trying audioread instead.')\n"
     ]
    },
    {
     "name": "stdout",
     "output_type": "stream",
     "text": [
      "././genres_2/Cheeze/ASAP_Rocky_ft_2_Chainz,_Drake_&_Kendrick_Lamar_-_Fuckin_Problem.mp3 0.49780404567718506 0.2851080894470215 1951.0300160985032 2358.2702329146837 4093.9565282410094 0.06631561774941995\n",
      "././genres_2/Cheeze/Popcaan_-_Ova_Dweet_(Audio).mp3\n"
     ]
    },
    {
     "name": "stderr",
     "output_type": "stream",
     "text": [
      "/Users/Andy/opt/anaconda3/lib/python3.7/site-packages/librosa/core/audio.py:161: UserWarning: PySoundFile failed. Trying audioread instead.\n",
      "  warnings.warn('PySoundFile failed. Trying audioread instead.')\n"
     ]
    },
    {
     "name": "stdout",
     "output_type": "stream",
     "text": [
      "././genres_2/Cheeze/Popcaan_-_Ova_Dweet_(Audio).mp3 0.4253678023815155 0.35425689816474915 2249.1245107941636 2648.323403951057 5287.75031494707 0.07052095417633411\n",
      "././genres_2/Cheeze/02_-_Bad_Girls.wav\n",
      "././genres_2/Cheeze/02_-_Bad_Girls.wav 0.524172306060791 0.16998180747032166 3068.2398769168567 2867.9425212728966 6584.813546802494 0.14230849405452436\n",
      "././genres_2/Cheeze/03_Move_Your_Feet_(Album_Version).mp3\n"
     ]
    },
    {
     "name": "stderr",
     "output_type": "stream",
     "text": [
      "/Users/Andy/opt/anaconda3/lib/python3.7/site-packages/librosa/core/audio.py:161: UserWarning: PySoundFile failed. Trying audioread instead.\n",
      "  warnings.warn('PySoundFile failed. Trying audioread instead.')\n"
     ]
    },
    {
     "name": "stdout",
     "output_type": "stream",
     "text": [
      "././genres_2/Cheeze/03_Move_Your_Feet_(Album_Version).mp3 0.46604156494140625 0.2675844430923462 2783.4977803689962 2555.181051069689 5555.316601109339 0.15497208526682135\n",
      "././genres_2/Cheeze/Artful_Dodger_-_Moving_Too_Fast.mp3\n"
     ]
    },
    {
     "name": "stderr",
     "output_type": "stream",
     "text": [
      "/Users/Andy/opt/anaconda3/lib/python3.7/site-packages/librosa/core/audio.py:161: UserWarning: PySoundFile failed. Trying audioread instead.\n",
      "  warnings.warn('PySoundFile failed. Trying audioread instead.')\n"
     ]
    },
    {
     "name": "stdout",
     "output_type": "stream",
     "text": [
      "././genres_2/Cheeze/Artful_Dodger_-_Moving_Too_Fast.mp3 0.46646201610565186 0.07317911088466644 1888.972394547123 2522.621550034336 4577.67920261746 0.05074613000290023\n",
      "././genres_2/Cheeze/01_Hotline_Bling.mp3\n"
     ]
    },
    {
     "name": "stderr",
     "output_type": "stream",
     "text": [
      "/Users/Andy/opt/anaconda3/lib/python3.7/site-packages/librosa/core/audio.py:161: UserWarning: PySoundFile failed. Trying audioread instead.\n",
      "  warnings.warn('PySoundFile failed. Trying audioread instead.')\n"
     ]
    },
    {
     "name": "stdout",
     "output_type": "stream",
     "text": [
      "././genres_2/Cheeze/01_Hotline_Bling.mp3 0.5527240633964539 0.30963489413261414 2348.3097861329043 2775.2382129201183 5735.975678835557 0.0536169065400232\n",
      "././genres_2/Cheeze/2-11_Move_On_Out.mp3\n"
     ]
    },
    {
     "name": "stderr",
     "output_type": "stream",
     "text": [
      "/Users/Andy/opt/anaconda3/lib/python3.7/site-packages/librosa/core/audio.py:161: UserWarning: PySoundFile failed. Trying audioread instead.\n",
      "  warnings.warn('PySoundFile failed. Trying audioread instead.')\n"
     ]
    },
    {
     "name": "stdout",
     "output_type": "stream",
     "text": [
      "././genres_2/Cheeze/2-11_Move_On_Out.mp3 0.5761785507202148 0.33334580063819885 2759.9139517416784 2767.4524563773884 5968.918972502175 0.10563415385730858\n",
      "././genres_2/Cheeze/13_Too_Many_Man_-_Boy_Better_Know.mp3\n"
     ]
    },
    {
     "name": "stderr",
     "output_type": "stream",
     "text": [
      "/Users/Andy/opt/anaconda3/lib/python3.7/site-packages/librosa/core/audio.py:161: UserWarning: PySoundFile failed. Trying audioread instead.\n",
      "  warnings.warn('PySoundFile failed. Trying audioread instead.')\n"
     ]
    },
    {
     "name": "stdout",
     "output_type": "stream",
     "text": [
      "././genres_2/Cheeze/13_Too_Many_Man_-_Boy_Better_Know.mp3 0.43842387199401855 0.23423358798027039 2557.730722725747 2591.7824268455124 5473.980047310035 0.11015557025812064\n",
      "././genres_2/Cheeze/28_My_My_My.mp3\n"
     ]
    },
    {
     "name": "stderr",
     "output_type": "stream",
     "text": [
      "/Users/Andy/opt/anaconda3/lib/python3.7/site-packages/librosa/core/audio.py:161: UserWarning: PySoundFile failed. Trying audioread instead.\n",
      "  warnings.warn('PySoundFile failed. Trying audioread instead.')\n"
     ]
    },
    {
     "name": "stdout",
     "output_type": "stream",
     "text": [
      "././genres_2/Cheeze/28_My_My_My.mp3 0.37846216559410095 0.14472323656082153 2706.6160441430993 2646.768434750215 5909.390407482599 0.12991113507830626\n",
      "././genres_2/Cheeze/03_Wildfire.mp3\n"
     ]
    },
    {
     "name": "stderr",
     "output_type": "stream",
     "text": [
      "/Users/Andy/opt/anaconda3/lib/python3.7/site-packages/librosa/core/audio.py:161: UserWarning: PySoundFile failed. Trying audioread instead.\n",
      "  warnings.warn('PySoundFile failed. Trying audioread instead.')\n"
     ]
    },
    {
     "name": "stdout",
     "output_type": "stream",
     "text": [
      "././genres_2/Cheeze/03_Wildfire.mp3 0.3719460070133209 0.25710126757621765 2437.693711711543 2631.880700715121 5378.904210774362 0.08489296331206496\n",
      "././genres_2/Cheeze/The_Golden_Boy_-_Gonna_Do.mp3\n"
     ]
    },
    {
     "name": "stderr",
     "output_type": "stream",
     "text": [
      "/Users/Andy/opt/anaconda3/lib/python3.7/site-packages/librosa/core/audio.py:161: UserWarning: PySoundFile failed. Trying audioread instead.\n",
      "  warnings.warn('PySoundFile failed. Trying audioread instead.')\n"
     ]
    },
    {
     "name": "stdout",
     "output_type": "stream",
     "text": [
      "././genres_2/Cheeze/The_Golden_Boy_-_Gonna_Do.mp3 0.5846266746520996 0.2442934811115265 3735.0615516886246 2596.2283095673856 6650.412376740139 0.23267904401102088\n",
      "././genres_2/Cheeze/04_-_Taylor_Swift_-_Love_Story.mp3\n"
     ]
    },
    {
     "name": "stderr",
     "output_type": "stream",
     "text": [
      "/Users/Andy/opt/anaconda3/lib/python3.7/site-packages/librosa/core/audio.py:161: UserWarning: PySoundFile failed. Trying audioread instead.\n",
      "  warnings.warn('PySoundFile failed. Trying audioread instead.')\n"
     ]
    },
    {
     "name": "stdout",
     "output_type": "stream",
     "text": [
      "././genres_2/Cheeze/04_-_Taylor_Swift_-_Love_Story.mp3 0.29896247386932373 0.12471360713243484 2032.430534677216 2377.6446362137713 4370.540779981148 0.07412132033062645\n",
      "././genres_2/Cheeze/Auditorium_1.mp3\n"
     ]
    },
    {
     "name": "stderr",
     "output_type": "stream",
     "text": [
      "/Users/Andy/opt/anaconda3/lib/python3.7/site-packages/librosa/core/audio.py:161: UserWarning: PySoundFile failed. Trying audioread instead.\n",
      "  warnings.warn('PySoundFile failed. Trying audioread instead.')\n"
     ]
    },
    {
     "name": "stdout",
     "output_type": "stream",
     "text": [
      "././genres_2/Cheeze/Auditorium_1.mp3 0.41681423783302307 0.28787270188331604 2168.0562372795316 2270.395033579803 4565.81345843605 0.08713497861078887\n",
      "././genres_2/Cheeze/Real_Nice_-_Oooo!.mp3\n"
     ]
    },
    {
     "name": "stderr",
     "output_type": "stream",
     "text": [
      "/Users/Andy/opt/anaconda3/lib/python3.7/site-packages/librosa/core/audio.py:161: UserWarning: PySoundFile failed. Trying audioread instead.\n",
      "  warnings.warn('PySoundFile failed. Trying audioread instead.')\n"
     ]
    },
    {
     "name": "stdout",
     "output_type": "stream",
     "text": [
      "././genres_2/Cheeze/Real_Nice_-_Oooo!.mp3 0.48237383365631104 0.2091243416070938 3478.406812498254 2926.075614001833 6857.400916292054 0.16865528929814386\n",
      "././genres_2/Cheeze/09_-_Check_the_Rhime.wav\n",
      "././genres_2/Cheeze/09_-_Check_the_Rhime.wav 0.4239461421966553 0.09005551785230637 2283.70119627105 2503.994931200934 4735.43114894504 0.09592064240139211\n",
      "././genres_2/Cheeze/Big_Room_Tech_House_DJ_Tool_-_TIP!.mp3\n"
     ]
    },
    {
     "name": "stderr",
     "output_type": "stream",
     "text": [
      "/Users/Andy/opt/anaconda3/lib/python3.7/site-packages/librosa/core/audio.py:161: UserWarning: PySoundFile failed. Trying audioread instead.\n",
      "  warnings.warn('PySoundFile failed. Trying audioread instead.')\n"
     ]
    },
    {
     "name": "stdout",
     "output_type": "stream",
     "text": [
      "././genres_2/Cheeze/Big_Room_Tech_House_DJ_Tool_-_TIP!.mp3 0.3851260840892792 0.048417605459690094 2788.081396787263 2225.453698915207 5022.582158135151 0.1492327979988399\n",
      "././genres_2/Cheeze/03_Dance_Wiv_Me.aif\n",
      "././genres_2/Cheeze/03_Dance_Wiv_Me.aif 0.4612334370613098 0.3118589520454407 2841.4027380858215 2693.694659022382 5928.900188968242 0.12321001305104408\n",
      "././genres_2/Cheeze/08_Millionaire_(featuring_André_3000).m4a\n"
     ]
    },
    {
     "name": "stderr",
     "output_type": "stream",
     "text": [
      "/Users/Andy/opt/anaconda3/lib/python3.7/site-packages/librosa/core/audio.py:161: UserWarning: PySoundFile failed. Trying audioread instead.\n",
      "  warnings.warn('PySoundFile failed. Trying audioread instead.')\n"
     ]
    },
    {
     "name": "stdout",
     "output_type": "stream",
     "text": [
      "././genres_2/Cheeze/08_Millionaire_(featuring_André_3000).m4a 0.4221939146518707 0.23998112976551056 3685.316051245575 3275.8842049615128 8008.652887543503 0.177716248549884\n",
      "././genres_2/Cheeze/Section_Boyz_-_Lock_Arff_[Official_Video]_@SectionBoyz_.mp3\n"
     ]
    },
    {
     "name": "stderr",
     "output_type": "stream",
     "text": [
      "/Users/Andy/opt/anaconda3/lib/python3.7/site-packages/librosa/core/audio.py:161: UserWarning: PySoundFile failed. Trying audioread instead.\n",
      "  warnings.warn('PySoundFile failed. Trying audioread instead.')\n"
     ]
    },
    {
     "name": "stdout",
     "output_type": "stream",
     "text": [
      "././genres_2/Cheeze/Section_Boyz_-_Lock_Arff_[Official_Video]_@SectionBoyz_.mp3 0.40282925963401794 0.31170886754989624 1396.433714263498 1960.9162613744577 2716.4560410926624 0.04305031902552204\n",
      "././genres_2/Cheeze/2-14_Champagne_Kisses_[TCTS_Remix].mp3\n"
     ]
    },
    {
     "name": "stderr",
     "output_type": "stream",
     "text": [
      "/Users/Andy/opt/anaconda3/lib/python3.7/site-packages/librosa/core/audio.py:161: UserWarning: PySoundFile failed. Trying audioread instead.\n",
      "  warnings.warn('PySoundFile failed. Trying audioread instead.')\n"
     ]
    },
    {
     "name": "stdout",
     "output_type": "stream",
     "text": [
      "././genres_2/Cheeze/2-14_Champagne_Kisses_[TCTS_Remix].mp3 0.5878323316574097 0.2772967219352722 2728.8553455461183 2713.711221851849 5738.124003045244 0.10336948049593968\n",
      "././genres_2/Cheeze/1-06_Crazy_In_Love.aif\n",
      "././genres_2/Cheeze/1-06_Crazy_In_Love.aif 0.3924857974052429 0.13463948667049408 3436.819050594474 2784.0584748655947 6640.195346487094 0.17661846541473317\n",
      "././genres_2/Cheeze/Karizma_-_Work_It_Out_(PoorDownload).mp3\n"
     ]
    },
    {
     "name": "stderr",
     "output_type": "stream",
     "text": [
      "/Users/Andy/opt/anaconda3/lib/python3.7/site-packages/librosa/core/audio.py:161: UserWarning: PySoundFile failed. Trying audioread instead.\n",
      "  warnings.warn('PySoundFile failed. Trying audioread instead.')\n"
     ]
    },
    {
     "name": "stdout",
     "output_type": "stream",
     "text": [
      "././genres_2/Cheeze/Karizma_-_Work_It_Out_(PoorDownload).mp3 0.46521955728530884 0.2739664912223816 1507.6510176410834 1794.1396691905034 2996.712428400522 0.06304266060034802\n",
      "././genres_2/Cheeze/20_Me_Myself_And_I.mp3\n"
     ]
    },
    {
     "name": "stderr",
     "output_type": "stream",
     "text": [
      "/Users/Andy/opt/anaconda3/lib/python3.7/site-packages/librosa/core/audio.py:161: UserWarning: PySoundFile failed. Trying audioread instead.\n",
      "  warnings.warn('PySoundFile failed. Trying audioread instead.')\n"
     ]
    },
    {
     "name": "stdout",
     "output_type": "stream",
     "text": [
      "././genres_2/Cheeze/20_Me_Myself_And_I.mp3 0.41056758165359497 0.08808436244726181 3511.2573831602135 3064.133487068292 7356.3617042488395 0.19824558620939675\n",
      "././genres_2/Cheeze/082._Da_Hool_-_Meet_Her_At_the_Love_Parade.mp3\n"
     ]
    },
    {
     "name": "stderr",
     "output_type": "stream",
     "text": [
      "/Users/Andy/opt/anaconda3/lib/python3.7/site-packages/librosa/core/audio.py:161: UserWarning: PySoundFile failed. Trying audioread instead.\n",
      "  warnings.warn('PySoundFile failed. Trying audioread instead.')\n"
     ]
    },
    {
     "name": "stdout",
     "output_type": "stream",
     "text": [
      "././genres_2/Cheeze/082._Da_Hool_-_Meet_Her_At_the_Love_Parade.mp3 0.5098013281822205 0.2203228771686554 912.6777064041522 1564.3792124800173 1846.6345413101799 0.02019399833236659\n",
      "././genres_2/Cheeze/Figgy_-_Only_You.mp3\n"
     ]
    },
    {
     "name": "stderr",
     "output_type": "stream",
     "text": [
      "/Users/Andy/opt/anaconda3/lib/python3.7/site-packages/librosa/core/audio.py:161: UserWarning: PySoundFile failed. Trying audioread instead.\n",
      "  warnings.warn('PySoundFile failed. Trying audioread instead.')\n"
     ]
    },
    {
     "name": "stdout",
     "output_type": "stream",
     "text": [
      "././genres_2/Cheeze/Figgy_-_Only_You.mp3 0.47944480180740356 0.26354116201400757 2166.3310322888215 2285.5452257338316 4405.0638504205335 0.09758714290893271\n",
      "././genres_2/Cheeze/Kiesza_-_Hideaway-(FullMP3.in).mp3\n"
     ]
    },
    {
     "name": "stderr",
     "output_type": "stream",
     "text": [
      "/Users/Andy/opt/anaconda3/lib/python3.7/site-packages/librosa/core/audio.py:161: UserWarning: PySoundFile failed. Trying audioread instead.\n",
      "  warnings.warn('PySoundFile failed. Trying audioread instead.')\n"
     ]
    },
    {
     "name": "stdout",
     "output_type": "stream",
     "text": [
      "././genres_2/Cheeze/Kiesza_-_Hideaway-(FullMP3.in).mp3 0.3087223768234253 0.11379841715097427 2604.749327382518 2534.290641600841 5355.6973132069315 0.12268434599767981\n",
      "././genres_2/Cheeze/Disclosure_-_Bang_That_(Official_Audio).mp3\n"
     ]
    },
    {
     "name": "stderr",
     "output_type": "stream",
     "text": [
      "/Users/Andy/opt/anaconda3/lib/python3.7/site-packages/librosa/core/audio.py:161: UserWarning: PySoundFile failed. Trying audioread instead.\n",
      "  warnings.warn('PySoundFile failed. Trying audioread instead.')\n"
     ]
    },
    {
     "name": "stdout",
     "output_type": "stream",
     "text": [
      "././genres_2/Cheeze/Disclosure_-_Bang_That_(Official_Audio).mp3 0.4812695384025574 0.2664518654346466 2044.9292876634622 2012.8065325531027 4083.0150630800463 0.09489876377610208\n",
      "././genres_2/Cheeze/Get_Your_Freak_On-_Missy_Elliot.mp3\n"
     ]
    },
    {
     "name": "stderr",
     "output_type": "stream",
     "text": [
      "/Users/Andy/opt/anaconda3/lib/python3.7/site-packages/librosa/core/audio.py:161: UserWarning: PySoundFile failed. Trying audioread instead.\n",
      "  warnings.warn('PySoundFile failed. Trying audioread instead.')\n"
     ]
    },
    {
     "name": "stdout",
     "output_type": "stream",
     "text": [
      "././genres_2/Cheeze/Get_Your_Freak_On-_Missy_Elliot.mp3 0.40405207872390747 0.24530543386936188 2384.9188332276203 2282.7149345858224 4665.460729045823 0.10877796004930394\n",
      "././genres_2/Cheeze/99_Souls_-_The_Girl_Is_Mine_(featuring_Destiny's_Child_&_Brandy)_[Official_Video].mp3\n"
     ]
    },
    {
     "name": "stderr",
     "output_type": "stream",
     "text": [
      "/Users/Andy/opt/anaconda3/lib/python3.7/site-packages/librosa/core/audio.py:161: UserWarning: PySoundFile failed. Trying audioread instead.\n",
      "  warnings.warn('PySoundFile failed. Trying audioread instead.')\n"
     ]
    },
    {
     "name": "stdout",
     "output_type": "stream",
     "text": [
      "././genres_2/Cheeze/99_Souls_-_The_Girl_Is_Mine_(featuring_Destiny's_Child_&_Brandy)_[Official_Video].mp3 0.4486272931098938 0.2886506915092468 2737.8899372693395 2723.9133799649208 5769.474548198231 0.10728252791473318\n",
      "././genres_2/Cheeze/Pikcha_-_For_You.mp3\n"
     ]
    },
    {
     "name": "stderr",
     "output_type": "stream",
     "text": [
      "/Users/Andy/opt/anaconda3/lib/python3.7/site-packages/librosa/core/audio.py:161: UserWarning: PySoundFile failed. Trying audioread instead.\n",
      "  warnings.warn('PySoundFile failed. Trying audioread instead.')\n"
     ]
    },
    {
     "name": "stdout",
     "output_type": "stream",
     "text": [
      "././genres_2/Cheeze/Pikcha_-_For_You.mp3 0.47941136360168457 0.04909839481115341 3710.126027254956 2515.085830978639 6548.317015751885 0.21253942502900233\n",
      "././genres_2/Cheeze/18_Run_This_Town_ft._Jay-Z_&_Kanye_West.mp3\n"
     ]
    },
    {
     "name": "stderr",
     "output_type": "stream",
     "text": [
      "/Users/Andy/opt/anaconda3/lib/python3.7/site-packages/librosa/core/audio.py:161: UserWarning: PySoundFile failed. Trying audioread instead.\n",
      "  warnings.warn('PySoundFile failed. Trying audioread instead.')\n"
     ]
    },
    {
     "name": "stdout",
     "output_type": "stream",
     "text": [
      "././genres_2/Cheeze/18_Run_This_Town_ft._Jay-Z_&_Kanye_West.mp3 0.4728541374206543 0.344463050365448 2491.3354706017726 2292.0518294616145 4787.190774090052 0.12804297781322505\n",
      "././genres_2/Cheeze/218-diana_ross_-_upside_down-empik.mp3\n"
     ]
    },
    {
     "name": "stderr",
     "output_type": "stream",
     "text": [
      "/Users/Andy/opt/anaconda3/lib/python3.7/site-packages/librosa/core/audio.py:161: UserWarning: PySoundFile failed. Trying audioread instead.\n",
      "  warnings.warn('PySoundFile failed. Trying audioread instead.')\n"
     ]
    },
    {
     "name": "stdout",
     "output_type": "stream",
     "text": [
      "././genres_2/Cheeze/218-diana_ross_-_upside_down-empik.mp3 0.4313223659992218 0.14320175349712372 2308.1453238752347 2165.3940020829823 4450.078736767691 0.12454570584396751\n",
      "././genres_2/Cheeze/23_-_AJ_Tracey_-_Ladbroke_Grove.mp3\n"
     ]
    },
    {
     "name": "stderr",
     "output_type": "stream",
     "text": [
      "/Users/Andy/opt/anaconda3/lib/python3.7/site-packages/librosa/core/audio.py:161: UserWarning: PySoundFile failed. Trying audioread instead.\n",
      "  warnings.warn('PySoundFile failed. Trying audioread instead.')\n"
     ]
    },
    {
     "name": "stdout",
     "output_type": "stream",
     "text": [
      "././genres_2/Cheeze/23_-_AJ_Tracey_-_Ladbroke_Grove.mp3 0.47405892610549927 0.22459430992603302 2973.235001053543 2638.032395831642 6068.166554886891 0.1389879549738979\n",
      "././genres_2/Cheeze/Kanye_West_-_All_Day_[CDQ].mp3\n"
     ]
    },
    {
     "name": "stderr",
     "output_type": "stream",
     "text": [
      "/Users/Andy/opt/anaconda3/lib/python3.7/site-packages/librosa/core/audio.py:161: UserWarning: PySoundFile failed. Trying audioread instead.\n",
      "  warnings.warn('PySoundFile failed. Trying audioread instead.')\n"
     ]
    },
    {
     "name": "stdout",
     "output_type": "stream",
     "text": [
      "././genres_2/Cheeze/Kanye_West_-_All_Day_[CDQ].mp3 0.4290468394756317 0.33105000853538513 2349.7308099633997 2609.7681611243993 5139.565905506815 0.07531540023201856\n",
      "././genres_2/Cheeze/01_This_Is_What_You_Came_For_(feat._Rihanna).mp3\n"
     ]
    },
    {
     "name": "stderr",
     "output_type": "stream",
     "text": [
      "/Users/Andy/opt/anaconda3/lib/python3.7/site-packages/librosa/core/audio.py:161: UserWarning: PySoundFile failed. Trying audioread instead.\n",
      "  warnings.warn('PySoundFile failed. Trying audioread instead.')\n"
     ]
    },
    {
     "name": "stdout",
     "output_type": "stream",
     "text": [
      "././genres_2/Cheeze/01_This_Is_What_You_Came_For_(feat._Rihanna).mp3 0.3398324251174927 0.2975091338157654 3273.4071453991437 2838.9056214888237 6755.88010712732 0.17997752320185614\n",
      "././genres_2/Cheeze/06_MacArthur_Park.aiff\n",
      "././genres_2/Cheeze/06_MacArthur_Park.aiff 0.36600130796432495 0.1192605271935463 2332.6074483379284 2276.076718357974 4332.470476544374 0.12602301152842227\n",
      "././genres_2/Cheeze/04_Gold_Digger.mp3\n"
     ]
    },
    {
     "name": "stderr",
     "output_type": "stream",
     "text": [
      "/Users/Andy/opt/anaconda3/lib/python3.7/site-packages/librosa/core/audio.py:161: UserWarning: PySoundFile failed. Trying audioread instead.\n",
      "  warnings.warn('PySoundFile failed. Trying audioread instead.')\n"
     ]
    },
    {
     "name": "stdout",
     "output_type": "stream",
     "text": [
      "././genres_2/Cheeze/04_Gold_Digger.mp3 0.5030272603034973 0.3674944341182709 2204.2945117523486 2689.9173978148206 5326.9447415168215 0.06555090813515081\n",
      "././genres_2/Cheeze/Rihanna_ft._Drake_-_Work_(Murl.mp3\n"
     ]
    },
    {
     "name": "stderr",
     "output_type": "stream",
     "text": [
      "/Users/Andy/opt/anaconda3/lib/python3.7/site-packages/librosa/core/audio.py:161: UserWarning: PySoundFile failed. Trying audioread instead.\n",
      "  warnings.warn('PySoundFile failed. Trying audioread instead.')\n"
     ]
    },
    {
     "name": "stdout",
     "output_type": "stream",
     "text": [
      "././genres_2/Cheeze/Rihanna_ft._Drake_-_Work_(Murl.mp3 0.30715590715408325 0.14277859032154083 2809.781183313884 2816.098193247795 6190.895820493764 0.12484592517401392\n",
      "././genres_2/Cheeze/12_Stefflon_Don_feat._Sean_Paul,_Popcaan_&_Sizzla_-_Hurtin'_Me_(The_Remix).mp3\n"
     ]
    },
    {
     "name": "stderr",
     "output_type": "stream",
     "text": [
      "/Users/Andy/opt/anaconda3/lib/python3.7/site-packages/librosa/core/audio.py:161: UserWarning: PySoundFile failed. Trying audioread instead.\n",
      "  warnings.warn('PySoundFile failed. Trying audioread instead.')\n"
     ]
    },
    {
     "name": "stdout",
     "output_type": "stream",
     "text": [
      "././genres_2/Cheeze/12_Stefflon_Don_feat._Sean_Paul,_Popcaan_&_Sizzla_-_Hurtin'_Me_(The_Remix).mp3 0.41729122400283813 0.29761168360710144 2357.9992226472755 2323.7091169524756 4720.242996392836 0.11832266893851508\n",
      "././genres_2/Cheeze/Robin_S._-_Show_Me_Love.mp3\n"
     ]
    },
    {
     "name": "stderr",
     "output_type": "stream",
     "text": [
      "/Users/Andy/opt/anaconda3/lib/python3.7/site-packages/librosa/core/audio.py:161: UserWarning: PySoundFile failed. Trying audioread instead.\n",
      "  warnings.warn('PySoundFile failed. Trying audioread instead.')\n"
     ]
    },
    {
     "name": "stdout",
     "output_type": "stream",
     "text": [
      "././genres_2/Cheeze/Robin_S._-_Show_Me_Love.mp3 0.47036173939704895 0.22222447395324707 3193.539216365754 2925.7108979113605 6590.1843573267115 0.14028966067285384\n",
      "././genres_2/Cheeze/02_02._Untitled_02_(06.23.2014)_-_www.9xTunes.Com.mp3\n"
     ]
    },
    {
     "name": "stderr",
     "output_type": "stream",
     "text": [
      "/Users/Andy/opt/anaconda3/lib/python3.7/site-packages/librosa/core/audio.py:161: UserWarning: PySoundFile failed. Trying audioread instead.\n",
      "  warnings.warn('PySoundFile failed. Trying audioread instead.')\n"
     ]
    },
    {
     "name": "stdout",
     "output_type": "stream",
     "text": [
      "././genres_2/Cheeze/02_02._Untitled_02_(06.23.2014)_-_www.9xTunes.Com.mp3 0.34628450870513916 0.2672635614871979 1812.2956942118885 2313.1788279851244 3808.0545447542054 0.06594175971577726\n",
      "././genres_2/Cheeze/01._Sing_It_Back_(Boris_Dlugosch_Musical_Mix).mp3\n"
     ]
    },
    {
     "name": "stderr",
     "output_type": "stream",
     "text": [
      "/Users/Andy/opt/anaconda3/lib/python3.7/site-packages/librosa/core/audio.py:161: UserWarning: PySoundFile failed. Trying audioread instead.\n",
      "  warnings.warn('PySoundFile failed. Trying audioread instead.')\n"
     ]
    },
    {
     "name": "stdout",
     "output_type": "stream",
     "text": [
      "././genres_2/Cheeze/01._Sing_It_Back_(Boris_Dlugosch_Musical_Mix).mp3 0.6410998106002808 0.12218088656663895 4186.941393597768 2840.602266490629 7649.308192702291 0.28206569025522044\n",
      "././genres_2/Cheeze/02_-_Lil_Nas_X_-_Old_Town_Road_(Remix).mp3\n"
     ]
    },
    {
     "name": "stderr",
     "output_type": "stream",
     "text": [
      "/Users/Andy/opt/anaconda3/lib/python3.7/site-packages/librosa/core/audio.py:161: UserWarning: PySoundFile failed. Trying audioread instead.\n",
      "  warnings.warn('PySoundFile failed. Trying audioread instead.')\n"
     ]
    },
    {
     "name": "stdout",
     "output_type": "stream",
     "text": [
      "././genres_2/Cheeze/02_-_Lil_Nas_X_-_Old_Town_Road_(Remix).mp3 0.5713810324668884 0.36437633633613586 2719.2285806153072 2841.403521886818 5869.0718577798725 0.09146720018851508\n",
      "././genres_2/Cheeze/13_Work_From_Home.mp3\n"
     ]
    },
    {
     "name": "stderr",
     "output_type": "stream",
     "text": [
      "/Users/Andy/opt/anaconda3/lib/python3.7/site-packages/librosa/core/audio.py:161: UserWarning: PySoundFile failed. Trying audioread instead.\n",
      "  warnings.warn('PySoundFile failed. Trying audioread instead.')\n"
     ]
    },
    {
     "name": "stdout",
     "output_type": "stream",
     "text": [
      "././genres_2/Cheeze/13_Work_From_Home.mp3 0.2637871503829956 0.15033116936683655 2858.7233110859765 2920.639168496341 6546.468457710992 0.11368796222447795\n",
      "././genres_2/Cheeze/04_Diamonds_Dancing_1.mp3\n"
     ]
    },
    {
     "name": "stderr",
     "output_type": "stream",
     "text": [
      "/Users/Andy/opt/anaconda3/lib/python3.7/site-packages/librosa/core/audio.py:161: UserWarning: PySoundFile failed. Trying audioread instead.\n",
      "  warnings.warn('PySoundFile failed. Trying audioread instead.')\n"
     ]
    },
    {
     "name": "stdout",
     "output_type": "stream",
     "text": [
      "././genres_2/Cheeze/04_Diamonds_Dancing_1.mp3 0.3569484353065491 0.10447154939174652 2624.53470574824 2649.0833349034056 5474.579579647621 0.12622919989849188\n",
      "././genres_2/Cheeze/15_Disco_Inferno.m4a\n"
     ]
    },
    {
     "name": "stderr",
     "output_type": "stream",
     "text": [
      "/Users/Andy/opt/anaconda3/lib/python3.7/site-packages/librosa/core/audio.py:161: UserWarning: PySoundFile failed. Trying audioread instead.\n",
      "  warnings.warn('PySoundFile failed. Trying audioread instead.')\n"
     ]
    },
    {
     "name": "stdout",
     "output_type": "stream",
     "text": [
      "././genres_2/Cheeze/15_Disco_Inferno.m4a 0.4315567910671234 0.1723444163799286 2712.4118242007603 2534.550845083612 5465.311808929089 0.13964957040313225\n",
      "././genres_2/Cheeze/Boogie_2Nite.wav\n",
      "././genres_2/Cheeze/Boogie_2Nite.wav 0.3588044047355652 0.20652256906032562 2473.4237534148388 2503.198634488188 4971.297162757395 0.11471777117169374\n",
      "././genres_2/Cheeze/Red_Alert.wav\n",
      "././genres_2/Cheeze/Red_Alert.wav 0.42669951915740967 0.3011085093021393 2977.1838415852744 2742.3714668988446 6186.149522821201 0.14225411470417634\n",
      "././genres_2/Cheeze/MK_&_Becky_Hill_-_Piece_Of_Me.mp3\n"
     ]
    },
    {
     "name": "stderr",
     "output_type": "stream",
     "text": [
      "/Users/Andy/opt/anaconda3/lib/python3.7/site-packages/librosa/core/audio.py:161: UserWarning: PySoundFile failed. Trying audioread instead.\n",
      "  warnings.warn('PySoundFile failed. Trying audioread instead.')\n"
     ]
    },
    {
     "name": "stdout",
     "output_type": "stream",
     "text": [
      "././genres_2/Cheeze/MK_&_Becky_Hill_-_Piece_Of_Me.mp3 0.5562856197357178 0.25995272397994995 2841.314753232972 2498.8799331769783 5533.608534385876 0.1471493891386311\n",
      "././genres_2/Cheeze/01_10._Light_It_Up_-_www.9xTunes.Com.mp3\n"
     ]
    },
    {
     "name": "stderr",
     "output_type": "stream",
     "text": [
      "/Users/Andy/opt/anaconda3/lib/python3.7/site-packages/librosa/core/audio.py:161: UserWarning: PySoundFile failed. Trying audioread instead.\n",
      "  warnings.warn('PySoundFile failed. Trying audioread instead.')\n"
     ]
    },
    {
     "name": "stdout",
     "output_type": "stream",
     "text": [
      "././genres_2/Cheeze/01_10._Light_It_Up_-_www.9xTunes.Com.mp3 0.3978865444660187 0.2837868630886078 2911.91476712383 2665.62380440027 5861.003151736514 0.15291133446925753\n",
      "././genres_2/Cheeze/The_Killers_-_Mr._Brightside.mp3\n"
     ]
    },
    {
     "name": "stderr",
     "output_type": "stream",
     "text": [
      "/Users/Andy/opt/anaconda3/lib/python3.7/site-packages/librosa/core/audio.py:161: UserWarning: PySoundFile failed. Trying audioread instead.\n",
      "  warnings.warn('PySoundFile failed. Trying audioread instead.')\n"
     ]
    },
    {
     "name": "stdout",
     "output_type": "stream",
     "text": [
      "././genres_2/Cheeze/The_Killers_-_Mr._Brightside.mp3 0.44079163670539856 0.12093626707792282 3251.0599534973458 2847.971370498024 6649.538058747825 0.17388816886600927\n",
      "././genres_2/Cheeze/2-14_Enemies_In_The_Dance.mp3\n"
     ]
    },
    {
     "name": "stderr",
     "output_type": "stream",
     "text": [
      "/Users/Andy/opt/anaconda3/lib/python3.7/site-packages/librosa/core/audio.py:161: UserWarning: PySoundFile failed. Trying audioread instead.\n",
      "  warnings.warn('PySoundFile failed. Trying audioread instead.')\n"
     ]
    },
    {
     "name": "stdout",
     "output_type": "stream",
     "text": [
      "././genres_2/Cheeze/2-14_Enemies_In_The_Dance.mp3 0.47315457463264465 0.10219565778970718 1800.2499288839579 1791.0377122307334 3103.0045157518853 0.10959591611078887\n",
      "././genres_2/Cheeze/07_Needed_Me.mp3\n"
     ]
    },
    {
     "name": "stderr",
     "output_type": "stream",
     "text": [
      "/Users/Andy/opt/anaconda3/lib/python3.7/site-packages/librosa/core/audio.py:161: UserWarning: PySoundFile failed. Trying audioread instead.\n",
      "  warnings.warn('PySoundFile failed. Trying audioread instead.')\n"
     ]
    },
    {
     "name": "stdout",
     "output_type": "stream",
     "text": [
      "././genres_2/Cheeze/07_Needed_Me.mp3 0.38961341977119446 0.18905359506607056 2470.9791520767835 2688.4854090471554 5385.923735226943 0.08991398999419954\n",
      "././genres_2/Cheeze/11_Confess_To_Me_(Featuring_Jessie_Ware)_[Hannah_Wants_&_Chris_Lorenzo_Remix].mp3\n"
     ]
    },
    {
     "name": "stderr",
     "output_type": "stream",
     "text": [
      "/Users/Andy/opt/anaconda3/lib/python3.7/site-packages/librosa/core/audio.py:161: UserWarning: PySoundFile failed. Trying audioread instead.\n",
      "  warnings.warn('PySoundFile failed. Trying audioread instead.')\n"
     ]
    },
    {
     "name": "stdout",
     "output_type": "stream",
     "text": [
      "././genres_2/Cheeze/11_Confess_To_Me_(Featuring_Jessie_Ware)_[Hannah_Wants_&_Chris_Lorenzo_Remix].mp3 0.5933144092559814 0.3108993470668793 1427.9268250840748 1858.5981342325997 3049.2714299956497 0.037985109121229696\n",
      "././genres_2/Cheeze/1-02_I_Wanna_Feel.mp3\n"
     ]
    },
    {
     "name": "stderr",
     "output_type": "stream",
     "text": [
      "/Users/Andy/opt/anaconda3/lib/python3.7/site-packages/librosa/core/audio.py:161: UserWarning: PySoundFile failed. Trying audioread instead.\n",
      "  warnings.warn('PySoundFile failed. Trying audioread instead.')\n"
     ]
    },
    {
     "name": "stdout",
     "output_type": "stream",
     "text": [
      "././genres_2/Cheeze/1-02_I_Wanna_Feel.mp3 0.34601637721061707 0.1836642026901245 3410.8042893608645 2776.0910822560636 6804.192421331207 0.17805838529582366\n",
      "././genres_2/Cheeze/Fekky_-_Way_Too_Much_feat._Skepta.mp3\n"
     ]
    },
    {
     "name": "stderr",
     "output_type": "stream",
     "text": [
      "/Users/Andy/opt/anaconda3/lib/python3.7/site-packages/librosa/core/audio.py:161: UserWarning: PySoundFile failed. Trying audioread instead.\n",
      "  warnings.warn('PySoundFile failed. Trying audioread instead.')\n"
     ]
    },
    {
     "name": "stdout",
     "output_type": "stream",
     "text": [
      "././genres_2/Cheeze/Fekky_-_Way_Too_Much_feat._Skepta.mp3 0.6410729885101318 0.3390446901321411 3124.170117218872 2889.0862001458636 6553.812728846433 0.06532092879930394\n",
      "././genres_2/Cheeze/03_Power.mp3\n"
     ]
    },
    {
     "name": "stderr",
     "output_type": "stream",
     "text": [
      "/Users/Andy/opt/anaconda3/lib/python3.7/site-packages/librosa/core/audio.py:161: UserWarning: PySoundFile failed. Trying audioread instead.\n",
      "  warnings.warn('PySoundFile failed. Trying audioread instead.')\n"
     ]
    },
    {
     "name": "stdout",
     "output_type": "stream",
     "text": [
      "././genres_2/Cheeze/03_Power.mp3 0.4361325800418854 0.3032723665237427 2667.4244205354917 2484.6091777655347 5366.014265516242 0.1367164841937355\n",
      "././genres_2/Cheeze/Huxley_-_Atonement.mp3\n"
     ]
    },
    {
     "name": "stderr",
     "output_type": "stream",
     "text": [
      "/Users/Andy/opt/anaconda3/lib/python3.7/site-packages/librosa/core/audio.py:161: UserWarning: PySoundFile failed. Trying audioread instead.\n",
      "  warnings.warn('PySoundFile failed. Trying audioread instead.')\n"
     ]
    },
    {
     "name": "stdout",
     "output_type": "stream",
     "text": [
      "././genres_2/Cheeze/Huxley_-_Atonement.mp3 0.4736264944076538 0.08949264138936996 3988.088893084332 2749.458838361668 7195.662057261456 0.24405565726508122\n",
      "././genres_2/Cheeze/01_Pjanoo_(Radio_Edit).mp3\n"
     ]
    },
    {
     "name": "stderr",
     "output_type": "stream",
     "text": [
      "/Users/Andy/opt/anaconda3/lib/python3.7/site-packages/librosa/core/audio.py:161: UserWarning: PySoundFile failed. Trying audioread instead.\n",
      "  warnings.warn('PySoundFile failed. Trying audioread instead.')\n"
     ]
    },
    {
     "name": "stdout",
     "output_type": "stream",
     "text": [
      "././genres_2/Cheeze/01_Pjanoo_(Radio_Edit).mp3 0.45029231905937195 0.3794208765029907 2036.674836659035 2345.122672287988 4426.996741770592 0.05913754350348028\n",
      "././genres_2/Cheeze/01_Heads_Will_Roll_(A-Trak_Club_Mix).aiff\n",
      "././genres_2/Cheeze/01_Heads_Will_Roll_(A-Trak_Club_Mix).aiff 0.5356447100639343 0.3046153783798218 1562.4777580010527 1806.1655351122865 3103.978755800464 0.06056500145011601\n",
      "././genres_2/Cheeze/Clint_Eastwood_(Ed_Case_Remix).mp3\n"
     ]
    },
    {
     "name": "stderr",
     "output_type": "stream",
     "text": [
      "/Users/Andy/opt/anaconda3/lib/python3.7/site-packages/librosa/core/audio.py:161: UserWarning: PySoundFile failed. Trying audioread instead.\n",
      "  warnings.warn('PySoundFile failed. Trying audioread instead.')\n"
     ]
    },
    {
     "name": "stdout",
     "output_type": "stream",
     "text": [
      "././genres_2/Cheeze/Clint_Eastwood_(Ed_Case_Remix).mp3 0.38502174615859985 0.18168558180332184 2783.107399090337 2572.478032787424 5605.602375924449 0.1363958726073086\n",
      "././genres_2/Cheeze/Can't_Stop_Playing_(Oliver_Heldens_&_Gregor_Salto_Remix).mp3\n"
     ]
    },
    {
     "name": "stderr",
     "output_type": "stream",
     "text": [
      "/Users/Andy/opt/anaconda3/lib/python3.7/site-packages/librosa/core/audio.py:161: UserWarning: PySoundFile failed. Trying audioread instead.\n",
      "  warnings.warn('PySoundFile failed. Trying audioread instead.')\n"
     ]
    },
    {
     "name": "stdout",
     "output_type": "stream",
     "text": [
      "././genres_2/Cheeze/Can't_Stop_Playing_(Oliver_Heldens_&_Gregor_Salto_Remix).mp3 0.5956517457962036 0.3846942186355591 1354.9921629703274 1770.3844685885135 2850.0518303183003 0.037468505292923435\n",
      "././genres_2/Cheeze/08_Million_Dollar_Bill_-_Whitney_Houston.mp3\n"
     ]
    },
    {
     "name": "stderr",
     "output_type": "stream",
     "text": [
      "/Users/Andy/opt/anaconda3/lib/python3.7/site-packages/librosa/core/audio.py:161: UserWarning: PySoundFile failed. Trying audioread instead.\n",
      "  warnings.warn('PySoundFile failed. Trying audioread instead.')\n"
     ]
    },
    {
     "name": "stdout",
     "output_type": "stream",
     "text": [
      "././genres_2/Cheeze/08_Million_Dollar_Bill_-_Whitney_Houston.mp3 0.4101526141166687 0.2334548830986023 1923.0622800066487 2215.9489173527463 4012.8947600964325 0.07937232634860789\n",
      "././genres_2/Cheeze/Skee-Lo_-_I_Wish_(1995).wav\n",
      "././genres_2/Cheeze/Skee-Lo_-_I_Wish_(1995).wav 0.44620442390441895 0.20500963926315308 2621.4347214025374 2610.4141766833313 5611.497777244054 0.11174956496519721\n",
      "././genres_2/Cheeze/13_Rude_Boy.mp3\n"
     ]
    },
    {
     "name": "stderr",
     "output_type": "stream",
     "text": [
      "/Users/Andy/opt/anaconda3/lib/python3.7/site-packages/librosa/core/audio.py:161: UserWarning: PySoundFile failed. Trying audioread instead.\n",
      "  warnings.warn('PySoundFile failed. Trying audioread instead.')\n"
     ]
    },
    {
     "name": "stdout",
     "output_type": "stream",
     "text": [
      "././genres_2/Cheeze/13_Rude_Boy.mp3 0.36312124133110046 0.2673875093460083 3303.027132915004 2885.1336111000387 6731.074456659658 0.1433530307424594\n",
      "././genres_2/Cheeze/15_Little_Man_(Exemen_Rework).mp3\n"
     ]
    },
    {
     "name": "stderr",
     "output_type": "stream",
     "text": [
      "/Users/Andy/opt/anaconda3/lib/python3.7/site-packages/librosa/core/audio.py:161: UserWarning: PySoundFile failed. Trying audioread instead.\n",
      "  warnings.warn('PySoundFile failed. Trying audioread instead.')\n"
     ]
    },
    {
     "name": "stdout",
     "output_type": "stream",
     "text": [
      "././genres_2/Cheeze/15_Little_Man_(Exemen_Rework).mp3 0.41149070858955383 0.14201408624649048 3857.286836028308 2958.8954490615465 7327.2344248477375 0.20400413283062646\n",
      "././genres_2/Cheeze/04_Over_&_Over.aif\n",
      "././genres_2/Cheeze/04_Over_&_Over.aif 0.48170778155326843 0.24724917113780975 3149.019618228935 2917.50958692592 6608.145346940255 0.12095213710846868\n",
      "././genres_2/Cheeze/211-salt_n_pepper-push_it.mp3\n"
     ]
    },
    {
     "name": "stderr",
     "output_type": "stream",
     "text": [
      "/Users/Andy/opt/anaconda3/lib/python3.7/site-packages/librosa/core/audio.py:161: UserWarning: PySoundFile failed. Trying audioread instead.\n",
      "  warnings.warn('PySoundFile failed. Trying audioread instead.')\n"
     ]
    },
    {
     "name": "stdout",
     "output_type": "stream",
     "text": [
      "././genres_2/Cheeze/211-salt_n_pepper-push_it.mp3 0.4159674644470215 0.2161487638950348 2857.8031299010745 2482.0929687431994 5569.530513612964 0.1570724876740139\n",
      "././genres_2/Cheeze/1-02_o2._Hypnotize.mp3\n"
     ]
    },
    {
     "name": "stderr",
     "output_type": "stream",
     "text": [
      "/Users/Andy/opt/anaconda3/lib/python3.7/site-packages/librosa/core/audio.py:161: UserWarning: PySoundFile failed. Trying audioread instead.\n",
      "  warnings.warn('PySoundFile failed. Trying audioread instead.')\n"
     ]
    },
    {
     "name": "stdout",
     "output_type": "stream",
     "text": [
      "././genres_2/Cheeze/1-02_o2._Hypnotize.mp3 0.46721160411834717 0.28652045130729675 3245.346491721899 2846.627894304892 6602.6995948738395 0.15347778603538284\n",
      "././genres_2/Cheeze/07_Mask_Off.mp3\n"
     ]
    },
    {
     "name": "stderr",
     "output_type": "stream",
     "text": [
      "/Users/Andy/opt/anaconda3/lib/python3.7/site-packages/librosa/core/audio.py:161: UserWarning: PySoundFile failed. Trying audioread instead.\n",
      "  warnings.warn('PySoundFile failed. Trying audioread instead.')\n"
     ]
    },
    {
     "name": "stdout",
     "output_type": "stream",
     "text": [
      "././genres_2/Cheeze/07_Mask_Off.mp3 0.6592017412185669 0.36054280400276184 1812.5225389113834 2377.70247042644 4174.118997879205 0.031780198665893274\n",
      "././genres_2/Cheeze/Wilfred_Giroux_-_Stronger_(Extended_Mix).mp3\n"
     ]
    },
    {
     "name": "stderr",
     "output_type": "stream",
     "text": [
      "/Users/Andy/opt/anaconda3/lib/python3.7/site-packages/librosa/core/audio.py:161: UserWarning: PySoundFile failed. Trying audioread instead.\n",
      "  warnings.warn('PySoundFile failed. Trying audioread instead.')\n"
     ]
    },
    {
     "name": "stdout",
     "output_type": "stream",
     "text": [
      "././genres_2/Cheeze/Wilfred_Giroux_-_Stronger_(Extended_Mix).mp3 0.5326786637306213 0.19236309826374054 3641.464067214727 2559.892488034148 6529.406766603828 0.22639143162703015\n",
      "././genres_2/Cheeze/Beyonce_-_Bow_Down_-I_Been_On_Lyrics.mp3\n"
     ]
    },
    {
     "name": "stderr",
     "output_type": "stream",
     "text": [
      "/Users/Andy/opt/anaconda3/lib/python3.7/site-packages/librosa/core/audio.py:161: UserWarning: PySoundFile failed. Trying audioread instead.\n",
      "  warnings.warn('PySoundFile failed. Trying audioread instead.')\n"
     ]
    },
    {
     "name": "stdout",
     "output_type": "stream",
     "text": [
      "././genres_2/Cheeze/Beyonce_-_Bow_Down_-I_Been_On_Lyrics.mp3 0.39884161949157715 0.1809522956609726 2850.0205690210487 3043.557182486371 6652.011129640371 0.09106841828596288\n",
      "././genres_2/Cheeze/Disclosure_-_Voices_ft._Sasha_Keable.mp3\n"
     ]
    },
    {
     "name": "stderr",
     "output_type": "stream",
     "text": [
      "/Users/Andy/opt/anaconda3/lib/python3.7/site-packages/librosa/core/audio.py:161: UserWarning: PySoundFile failed. Trying audioread instead.\n",
      "  warnings.warn('PySoundFile failed. Trying audioread instead.')\n"
     ]
    },
    {
     "name": "stdout",
     "output_type": "stream",
     "text": [
      "././genres_2/Cheeze/Disclosure_-_Voices_ft._Sasha_Keable.mp3 0.5183140635490417 0.24773313105106354 3264.6887161618447 2786.564821225082 6432.032722774072 0.16244471432714616\n",
      "././genres_2/Cheeze/Julio_Bashmore_-_Au_Seve.mp3\n"
     ]
    },
    {
     "name": "stderr",
     "output_type": "stream",
     "text": [
      "/Users/Andy/opt/anaconda3/lib/python3.7/site-packages/librosa/core/audio.py:161: UserWarning: PySoundFile failed. Trying audioread instead.\n",
      "  warnings.warn('PySoundFile failed. Trying audioread instead.')\n"
     ]
    },
    {
     "name": "stdout",
     "output_type": "stream",
     "text": [
      "././genres_2/Cheeze/Julio_Bashmore_-_Au_Seve.mp3 0.46592020988464355 0.17354600131511688 3957.9808472838868 2898.022736547934 7525.979394757831 0.2609155216792343\n",
      "././genres_2/Cheeze/Welcome_to_Jamrock.wav\n",
      "././genres_2/Cheeze/Welcome_to_Jamrock.wav 0.4045579135417938 0.24230942130088806 3027.1923302617415 2846.380208488345 6411.248935071056 0.12393507105568445\n",
      "././genres_2/Cheeze/19_Sing_That_Song_(Featuring_Celeste).mp3\n"
     ]
    },
    {
     "name": "stderr",
     "output_type": "stream",
     "text": [
      "/Users/Andy/opt/anaconda3/lib/python3.7/site-packages/librosa/core/audio.py:161: UserWarning: PySoundFile failed. Trying audioread instead.\n",
      "  warnings.warn('PySoundFile failed. Trying audioread instead.')\n"
     ]
    },
    {
     "name": "stdout",
     "output_type": "stream",
     "text": [
      "././genres_2/Cheeze/19_Sing_That_Song_(Featuring_Celeste).mp3 0.42204540967941284 0.29621607065200806 3309.81375339422 2963.685536473564 6971.262099405452 0.15621034839037123\n",
      "././genres_2/Cheeze/01_Blue_Monday_2.mp3\n"
     ]
    },
    {
     "name": "stderr",
     "output_type": "stream",
     "text": [
      "/Users/Andy/opt/anaconda3/lib/python3.7/site-packages/librosa/core/audio.py:161: UserWarning: PySoundFile failed. Trying audioread instead.\n",
      "  warnings.warn('PySoundFile failed. Trying audioread instead.')\n"
     ]
    },
    {
     "name": "stdout",
     "output_type": "stream",
     "text": [
      "././genres_2/Cheeze/01_Blue_Monday_2.mp3 0.566327691078186 0.1458316594362259 1952.5178969372944 2036.2616901438737 4095.5552811412413 0.07069655416183294\n",
      "././genres_2/Cheeze/01_Swimming_Pools_(Drank)_1.mp3\n"
     ]
    },
    {
     "name": "stderr",
     "output_type": "stream",
     "text": [
      "/Users/Andy/opt/anaconda3/lib/python3.7/site-packages/librosa/core/audio.py:161: UserWarning: PySoundFile failed. Trying audioread instead.\n",
      "  warnings.warn('PySoundFile failed. Trying audioread instead.')\n"
     ]
    },
    {
     "name": "stdout",
     "output_type": "stream",
     "text": [
      "././genres_2/Cheeze/01_Swimming_Pools_(Drank)_1.mp3 0.5035311579704285 0.2592325508594513 1802.5548380853054 2308.308716794833 3606.2869326421114 0.05141794156032482\n",
      "././genres_2/Cheeze/01_Pump_Up_The_Jam.mp3\n"
     ]
    },
    {
     "name": "stderr",
     "output_type": "stream",
     "text": [
      "/Users/Andy/opt/anaconda3/lib/python3.7/site-packages/librosa/core/audio.py:161: UserWarning: PySoundFile failed. Trying audioread instead.\n",
      "  warnings.warn('PySoundFile failed. Trying audioread instead.')\n"
     ]
    },
    {
     "name": "stdout",
     "output_type": "stream",
     "text": [
      "././genres_2/Cheeze/01_Pump_Up_The_Jam.mp3 0.45454782247543335 0.11811071634292603 3071.7903930916195 2745.528548523034 6310.7523269830335 0.14034177421693736\n",
      "././genres_2/Cheeze/No_More_(Charles_Murdoch_Remix)_[Future_Classic].wav\n",
      "././genres_2/Cheeze/No_More_(Charles_Murdoch_Remix)_[Future_Classic].wav 0.35220929980278015 0.10526502132415771 2375.923607662141 2589.418639269036 5347.278879966648 0.0989375634425754\n",
      "././genres_2/Cheeze/Karma_Kid_-_Like_I'm_On_Fire_(Kartell_Remix).mp3\n"
     ]
    },
    {
     "name": "stderr",
     "output_type": "stream",
     "text": [
      "/Users/Andy/opt/anaconda3/lib/python3.7/site-packages/librosa/core/audio.py:161: UserWarning: PySoundFile failed. Trying audioread instead.\n",
      "  warnings.warn('PySoundFile failed. Trying audioread instead.')\n"
     ]
    },
    {
     "name": "stdout",
     "output_type": "stream",
     "text": [
      "././genres_2/Cheeze/Karma_Kid_-_Like_I'm_On_Fire_(Kartell_Remix).mp3 0.38377612829208374 0.1284063756465912 1433.4669821077623 1971.5782914762303 2963.1386174956497 0.05326344076276102\n",
      "././genres_2/Cheeze/1-10_Mo_Money_Mo_Problems_(feat._Mase_&_Puff_Daddy).mp3\n"
     ]
    },
    {
     "name": "stderr",
     "output_type": "stream",
     "text": [
      "/Users/Andy/opt/anaconda3/lib/python3.7/site-packages/librosa/core/audio.py:161: UserWarning: PySoundFile failed. Trying audioread instead.\n",
      "  warnings.warn('PySoundFile failed. Trying audioread instead.')\n"
     ]
    },
    {
     "name": "stdout",
     "output_type": "stream",
     "text": [
      "././genres_2/Cheeze/1-10_Mo_Money_Mo_Problems_(feat._Mase_&_Puff_Daddy).mp3 0.44402050971984863 0.17848573625087738 2848.605065308117 2617.0209592173724 5823.407478066995 0.1531990918648492\n",
      "././genres_2/Cheeze/01_Senorita_1.mp3\n"
     ]
    },
    {
     "name": "stderr",
     "output_type": "stream",
     "text": [
      "/Users/Andy/opt/anaconda3/lib/python3.7/site-packages/librosa/core/audio.py:161: UserWarning: PySoundFile failed. Trying audioread instead.\n",
      "  warnings.warn('PySoundFile failed. Trying audioread instead.')\n"
     ]
    },
    {
     "name": "stdout",
     "output_type": "stream",
     "text": [
      "././genres_2/Cheeze/01_Senorita_1.mp3 0.5248234868049622 0.19833166897296906 3459.501512101115 3087.6940547952167 7200.458315962152 0.18432787122969838\n",
      "././genres_2/Cheeze/01_Heartbroken_(Ft._Jodie_Aysha).mp3\n"
     ]
    },
    {
     "name": "stderr",
     "output_type": "stream",
     "text": [
      "/Users/Andy/opt/anaconda3/lib/python3.7/site-packages/librosa/core/audio.py:161: UserWarning: PySoundFile failed. Trying audioread instead.\n",
      "  warnings.warn('PySoundFile failed. Trying audioread instead.')\n"
     ]
    },
    {
     "name": "stdout",
     "output_type": "stream",
     "text": [
      "././genres_2/Cheeze/01_Heartbroken_(Ft._Jodie_Aysha).mp3 0.3294927775859833 0.15100738406181335 2880.5574618541577 2687.153012401269 5961.424818282338 0.1276045443010441\n",
      "././genres_2/Cheeze/JDZmedia_-_Devilman_Ft_Badness_-_Drum_And_Bass_Fat.mp3\n"
     ]
    },
    {
     "name": "stderr",
     "output_type": "stream",
     "text": [
      "/Users/Andy/opt/anaconda3/lib/python3.7/site-packages/librosa/core/audio.py:161: UserWarning: PySoundFile failed. Trying audioread instead.\n",
      "  warnings.warn('PySoundFile failed. Trying audioread instead.')\n"
     ]
    },
    {
     "name": "stdout",
     "output_type": "stream",
     "text": [
      "././genres_2/Cheeze/JDZmedia_-_Devilman_Ft_Badness_-_Drum_And_Bass_Fat.mp3 0.5462567210197449 0.36384692788124084 2057.6012179023596 2263.2244131195707 4296.098848064095 0.06607317647911833\n",
      "././genres_2/Cheeze/Thinking_About_You_ft__Ayah_Marar___Calvin_Harris_Official_Video._[Letra_Español_and__English]].mp3\n"
     ]
    },
    {
     "name": "stderr",
     "output_type": "stream",
     "text": [
      "/Users/Andy/opt/anaconda3/lib/python3.7/site-packages/librosa/core/audio.py:161: UserWarning: PySoundFile failed. Trying audioread instead.\n",
      "  warnings.warn('PySoundFile failed. Trying audioread instead.')\n"
     ]
    },
    {
     "name": "stdout",
     "output_type": "stream",
     "text": [
      "././genres_2/Cheeze/Thinking_About_You_ft__Ayah_Marar___Calvin_Harris_Official_Video._[Letra_Español_and__English]].mp3 0.5309756994247437 0.3195565938949585 2142.9883855449575 2646.6720614122155 4975.319025522042 0.04837949535962877\n",
      "././genres_2/Cheeze/03_Dance_Wiv_Me_1.aif\n",
      "././genres_2/Cheeze/03_Dance_Wiv_Me_1.aif 0.4612334370613098 0.3118589520454407 2841.4027380858215 2693.694659022382 5928.900188968242 0.12321001305104408\n",
      "././genres_2/Cheeze/Room_5_&_Cheatham_-_Make_Luv'.mp3\n"
     ]
    },
    {
     "name": "stderr",
     "output_type": "stream",
     "text": [
      "/Users/Andy/opt/anaconda3/lib/python3.7/site-packages/librosa/core/audio.py:161: UserWarning: PySoundFile failed. Trying audioread instead.\n",
      "  warnings.warn('PySoundFile failed. Trying audioread instead.')\n"
     ]
    },
    {
     "name": "stdout",
     "output_type": "stream",
     "text": [
      "././genres_2/Cheeze/Room_5_&_Cheatham_-_Make_Luv'.mp3 0.5126290917396545 0.12728223204612732 2878.592767900581 2798.517251328065 6196.516436158643 0.13670855387180975\n",
      "././genres_2/Cheeze/06_Redbone.aiff\n",
      "././genres_2/Cheeze/06_Redbone.aiff 0.37074217200279236 0.15559840202331543 1814.5105987344712 2442.211982952153 4452.47686611804 0.06040752791473318\n",
      "././genres_2/Cheeze/2-10_Roses.mp3\n"
     ]
    },
    {
     "name": "stderr",
     "output_type": "stream",
     "text": [
      "/Users/Andy/opt/anaconda3/lib/python3.7/site-packages/librosa/core/audio.py:161: UserWarning: PySoundFile failed. Trying audioread instead.\n",
      "  warnings.warn('PySoundFile failed. Trying audioread instead.')\n"
     ]
    },
    {
     "name": "stdout",
     "output_type": "stream",
     "text": [
      "././genres_2/Cheeze/2-10_Roses.mp3 0.430743932723999 0.3050713539123535 2202.304570314827 2446.9753667270484 4794.260259570766 0.06715623187354988\n",
      "././genres_2/Cheeze/01_Jumpstart_(feat._DJ_Zinc).mp3\n"
     ]
    },
    {
     "name": "stderr",
     "output_type": "stream",
     "text": [
      "/Users/Andy/opt/anaconda3/lib/python3.7/site-packages/librosa/core/audio.py:161: UserWarning: PySoundFile failed. Trying audioread instead.\n",
      "  warnings.warn('PySoundFile failed. Trying audioread instead.')\n"
     ]
    },
    {
     "name": "stdout",
     "output_type": "stream",
     "text": [
      "././genres_2/Cheeze/01_Jumpstart_(feat._DJ_Zinc).mp3 0.3584725558757782 0.20347464084625244 2685.880141412114 2421.172823857982 5522.167458943591 0.12038002102668213\n",
      "././genres_2/Cheeze/Turn_My_Swag_On.wav\n",
      "././genres_2/Cheeze/Turn_My_Swag_On.wav 0.423628032207489 0.4080394208431244 2347.8938167659644 2599.0634084531102 5302.7386233867455 0.07322179524361949\n",
      "././genres_2/Cheeze/Justin_Timberlake_-_Can't_Stop_the_Feeling_(_Lyrics_Video_).mp3\n"
     ]
    },
    {
     "name": "stderr",
     "output_type": "stream",
     "text": [
      "/Users/Andy/opt/anaconda3/lib/python3.7/site-packages/librosa/core/audio.py:161: UserWarning: PySoundFile failed. Trying audioread instead.\n",
      "  warnings.warn('PySoundFile failed. Trying audioread instead.')\n"
     ]
    },
    {
     "name": "stdout",
     "output_type": "stream",
     "text": [
      "././genres_2/Cheeze/Justin_Timberlake_-_Can't_Stop_the_Feeling_(_Lyrics_Video_).mp3 0.4748269021511078 0.20795562863349915 2694.079971189694 2856.716279134711 6061.296913518707 0.1015466393561485\n",
      "././genres_2/Cheeze/Just_Kiddin_-_Thinking_About_It_(Original_Mix).mp3\n"
     ]
    },
    {
     "name": "stderr",
     "output_type": "stream",
     "text": [
      "/Users/Andy/opt/anaconda3/lib/python3.7/site-packages/librosa/core/audio.py:161: UserWarning: PySoundFile failed. Trying audioread instead.\n",
      "  warnings.warn('PySoundFile failed. Trying audioread instead.')\n"
     ]
    },
    {
     "name": "stdout",
     "output_type": "stream",
     "text": [
      "././genres_2/Cheeze/Just_Kiddin_-_Thinking_About_It_(Original_Mix).mp3 0.3815991282463074 0.19341152906417847 2581.80155639412 2633.1210898440277 5500.134645537268 0.09100724151682135\n",
      "././genres_2/Cheeze/Luxury_-_J.A.W.S.mp3\n"
     ]
    },
    {
     "name": "stderr",
     "output_type": "stream",
     "text": [
      "/Users/Andy/opt/anaconda3/lib/python3.7/site-packages/librosa/core/audio.py:161: UserWarning: PySoundFile failed. Trying audioread instead.\n",
      "  warnings.warn('PySoundFile failed. Trying audioread instead.')\n"
     ]
    },
    {
     "name": "stdout",
     "output_type": "stream",
     "text": [
      "././genres_2/Cheeze/Luxury_-_J.A.W.S.mp3 0.5069630742073059 0.14694055914878845 2818.518472981983 2538.3005747070974 5646.320613852233 0.13149380075406034\n",
      "././genres_2/Cheeze/17_-_Vengaboys_-_We_Like_To_Party.mp3\n"
     ]
    },
    {
     "name": "stderr",
     "output_type": "stream",
     "text": [
      "/Users/Andy/opt/anaconda3/lib/python3.7/site-packages/librosa/core/audio.py:161: UserWarning: PySoundFile failed. Trying audioread instead.\n",
      "  warnings.warn('PySoundFile failed. Trying audioread instead.')\n"
     ]
    },
    {
     "name": "stdout",
     "output_type": "stream",
     "text": [
      "././genres_2/Cheeze/17_-_Vengaboys_-_We_Like_To_Party.mp3 0.5009196400642395 0.19219672679901123 2625.6108790028948 2807.970474568301 5975.388925645301 0.07740447360788863\n",
      "././genres_2/Cheeze/John_Bear_-_For_Real.mp3\n"
     ]
    },
    {
     "name": "stderr",
     "output_type": "stream",
     "text": [
      "/Users/Andy/opt/anaconda3/lib/python3.7/site-packages/librosa/core/audio.py:161: UserWarning: PySoundFile failed. Trying audioread instead.\n",
      "  warnings.warn('PySoundFile failed. Trying audioread instead.')\n"
     ]
    },
    {
     "name": "stdout",
     "output_type": "stream",
     "text": [
      "././genres_2/Cheeze/John_Bear_-_For_Real.mp3 0.2938820719718933 0.10507987439632416 2799.082544613596 2602.4395500362707 5718.639202073666 0.1308299195185615\n",
      "././genres_2/Cheeze/03_-_Romeo.wav\n",
      "././genres_2/Cheeze/03_-_Romeo.wav 0.47276246547698975 0.23441483080387115 2977.9972696585696 2799.396788442867 6322.842895791038 0.12307519757830626\n",
      "././genres_2/Cheeze/01_Crank_That_(Soulja_Boy).mp3\n"
     ]
    },
    {
     "name": "stderr",
     "output_type": "stream",
     "text": [
      "/Users/Andy/opt/anaconda3/lib/python3.7/site-packages/librosa/core/audio.py:161: UserWarning: PySoundFile failed. Trying audioread instead.\n",
      "  warnings.warn('PySoundFile failed. Trying audioread instead.')\n"
     ]
    },
    {
     "name": "stdout",
     "output_type": "stream",
     "text": [
      "././genres_2/Cheeze/01_Crank_That_(Soulja_Boy).mp3 0.29317718744277954 0.3524153530597687 2972.970315487854 2750.7266863522623 6344.076332747245 0.13538872172273783\n",
      "././genres_2/Cheeze/07_It_Was_a_Good_Day.mp3\n"
     ]
    },
    {
     "name": "stderr",
     "output_type": "stream",
     "text": [
      "/Users/Andy/opt/anaconda3/lib/python3.7/site-packages/librosa/core/audio.py:161: UserWarning: PySoundFile failed. Trying audioread instead.\n",
      "  warnings.warn('PySoundFile failed. Trying audioread instead.')\n"
     ]
    },
    {
     "name": "stdout",
     "output_type": "stream",
     "text": [
      "././genres_2/Cheeze/07_It_Was_a_Good_Day.mp3 0.40611886978149414 0.22693096101284027 2041.1655027351603 2179.2761956054 4162.078390099333 0.10208476834396751\n",
      "././genres_2/Cheeze/35_Azealia_Banks_-_212.mp3\n"
     ]
    },
    {
     "name": "stderr",
     "output_type": "stream",
     "text": [
      "/Users/Andy/opt/anaconda3/lib/python3.7/site-packages/librosa/core/audio.py:161: UserWarning: PySoundFile failed. Trying audioread instead.\n",
      "  warnings.warn('PySoundFile failed. Trying audioread instead.')\n"
     ]
    },
    {
     "name": "stdout",
     "output_type": "stream",
     "text": [
      "././genres_2/Cheeze/35_Azealia_Banks_-_212.mp3 0.44314706325531006 0.14334754645824432 2564.3380799378438 2394.0599326838064 5221.227205988979 0.11373780996229699\n",
      "././genres_2/Cheeze/2-11_One_For_Me.mp3\n"
     ]
    },
    {
     "name": "stderr",
     "output_type": "stream",
     "text": [
      "/Users/Andy/opt/anaconda3/lib/python3.7/site-packages/librosa/core/audio.py:161: UserWarning: PySoundFile failed. Trying audioread instead.\n",
      "  warnings.warn('PySoundFile failed. Trying audioread instead.')\n"
     ]
    },
    {
     "name": "stdout",
     "output_type": "stream",
     "text": [
      "././genres_2/Cheeze/2-11_One_For_Me.mp3 0.5862635970115662 0.30464962124824524 3466.0199748738623 2885.31876909211 6721.406997716067 0.15044613725348027\n",
      "././genres_2/Cheeze/06_Monster.mp3\n"
     ]
    },
    {
     "name": "stderr",
     "output_type": "stream",
     "text": [
      "/Users/Andy/opt/anaconda3/lib/python3.7/site-packages/librosa/core/audio.py:161: UserWarning: PySoundFile failed. Trying audioread instead.\n",
      "  warnings.warn('PySoundFile failed. Trying audioread instead.')\n"
     ]
    },
    {
     "name": "stdout",
     "output_type": "stream",
     "text": [
      "././genres_2/Cheeze/06_Monster.mp3 0.5527626276016235 0.4396229088306427 1538.9644396020576 1803.0555084359912 3258.9328845526393 0.043441170606148494\n",
      "././genres_2/Cheeze/088_-_Black_Eyed_Peas_-_Pump_It.wav\n",
      "././genres_2/Cheeze/088_-_Black_Eyed_Peas_-_Pump_It.wav 0.42491626739501953 0.2800613045692444 3074.5860090895767 2843.0004239729283 6509.122589182135 0.14856551805394433\n",
      "././genres_2/Cheeze/26_-_Serani_-_No_Games.mp3\n"
     ]
    },
    {
     "name": "stderr",
     "output_type": "stream",
     "text": [
      "/Users/Andy/opt/anaconda3/lib/python3.7/site-packages/librosa/core/audio.py:161: UserWarning: PySoundFile failed. Trying audioread instead.\n",
      "  warnings.warn('PySoundFile failed. Trying audioread instead.')\n"
     ]
    },
    {
     "name": "stdout",
     "output_type": "stream",
     "text": [
      "././genres_2/Cheeze/26_-_Serani_-_No_Games.mp3 0.4623863399028778 0.28558361530303955 2764.546245722853 2837.745409275215 6312.176216284803 0.11804963928364269\n",
      "././genres_2/Cheeze/2-14_Tell_You_Why.mp3\n"
     ]
    },
    {
     "name": "stderr",
     "output_type": "stream",
     "text": [
      "/Users/Andy/opt/anaconda3/lib/python3.7/site-packages/librosa/core/audio.py:161: UserWarning: PySoundFile failed. Trying audioread instead.\n",
      "  warnings.warn('PySoundFile failed. Trying audioread instead.')\n"
     ]
    },
    {
     "name": "stdout",
     "output_type": "stream",
     "text": [
      "././genres_2/Cheeze/2-14_Tell_You_Why.mp3 0.4673170745372772 0.35974568128585815 2587.855758642439 2686.5170250265983 5528.8372561992455 0.06833898274361949\n",
      "././genres_2/Cheeze/06_679_(feat._Remy_Boyz).mp3\n"
     ]
    },
    {
     "name": "stderr",
     "output_type": "stream",
     "text": [
      "/Users/Andy/opt/anaconda3/lib/python3.7/site-packages/librosa/core/audio.py:161: UserWarning: PySoundFile failed. Trying audioread instead.\n",
      "  warnings.warn('PySoundFile failed. Trying audioread instead.')\n"
     ]
    },
    {
     "name": "stdout",
     "output_type": "stream",
     "text": [
      "././genres_2/Cheeze/06_679_(feat._Remy_Boyz).mp3 0.4774470031261444 0.3023505210876465 2621.5885832996137 2623.1348258701314 5623.363521425464 0.10063805104408352\n",
      "././genres_2/Cheeze/PIMP__ft_Snoop_Dogg.mp3\n"
     ]
    },
    {
     "name": "stderr",
     "output_type": "stream",
     "text": [
      "/Users/Andy/opt/anaconda3/lib/python3.7/site-packages/librosa/core/audio.py:161: UserWarning: PySoundFile failed. Trying audioread instead.\n",
      "  warnings.warn('PySoundFile failed. Trying audioread instead.')\n"
     ]
    },
    {
     "name": "stdout",
     "output_type": "stream",
     "text": [
      "././genres_2/Cheeze/PIMP__ft_Snoop_Dogg.mp3 0.46008196473121643 0.14390213787555695 1830.9447493370549 2289.656301545816 3913.1475674303942 0.0712040947650812\n",
      "././genres_2/Cheeze/DJ_Longdick_–_James_Manley(novteh.audio).mp3\n"
     ]
    },
    {
     "name": "stderr",
     "output_type": "stream",
     "text": [
      "/Users/Andy/opt/anaconda3/lib/python3.7/site-packages/librosa/core/audio.py:161: UserWarning: PySoundFile failed. Trying audioread instead.\n",
      "  warnings.warn('PySoundFile failed. Trying audioread instead.')\n"
     ]
    },
    {
     "name": "stdout",
     "output_type": "stream",
     "text": [
      "././genres_2/Cheeze/DJ_Longdick_–_James_Manley(novteh.audio).mp3 0.5099915266036987 0.2539962828159332 2003.276721380712 2236.2660165151274 4268.095691795968 0.07143860571345707\n",
      "././genres_2/Cheeze/Uptown_Funk.mp3\n"
     ]
    },
    {
     "name": "stderr",
     "output_type": "stream",
     "text": [
      "/Users/Andy/opt/anaconda3/lib/python3.7/site-packages/librosa/core/audio.py:161: UserWarning: PySoundFile failed. Trying audioread instead.\n",
      "  warnings.warn('PySoundFile failed. Trying audioread instead.')\n"
     ]
    },
    {
     "name": "stdout",
     "output_type": "stream",
     "text": [
      "././genres_2/Cheeze/Uptown_Funk.mp3 0.483089804649353 0.17211054265499115 2920.2154026536655 2628.6583474783743 5798.252100402407 0.15975180358178653\n",
      "././genres_2/Cheeze/2-15_Got_To_Give_(Heavier_Mix).mp3\n"
     ]
    },
    {
     "name": "stderr",
     "output_type": "stream",
     "text": [
      "/Users/Andy/opt/anaconda3/lib/python3.7/site-packages/librosa/core/audio.py:161: UserWarning: PySoundFile failed. Trying audioread instead.\n",
      "  warnings.warn('PySoundFile failed. Trying audioread instead.')\n"
     ]
    },
    {
     "name": "stdout",
     "output_type": "stream",
     "text": [
      "././genres_2/Cheeze/2-15_Got_To_Give_(Heavier_Mix).mp3 0.6376710534095764 0.3258872330188751 2303.1201971191144 2373.381105286804 4697.086059853538 0.05994643633990719\n",
      "././genres_2/Cheeze/2-15_They_Don't_Know_(Radio_Edit).wav\n",
      "././genres_2/Cheeze/2-15_They_Don't_Know_(Radio_Edit).wav 0.5587756633758545 0.29028937220573425 2415.791360681463 2379.0111425929176 4875.7466964544665 0.0981286706061485\n",
      "././genres_2/Cheeze/Mercy_(ft._Big_Sean,_Pusha_T_&_2_Chainz)_1.mp3\n"
     ]
    },
    {
     "name": "stderr",
     "output_type": "stream",
     "text": [
      "/Users/Andy/opt/anaconda3/lib/python3.7/site-packages/librosa/core/audio.py:161: UserWarning: PySoundFile failed. Trying audioread instead.\n",
      "  warnings.warn('PySoundFile failed. Trying audioread instead.')\n"
     ]
    },
    {
     "name": "stdout",
     "output_type": "stream",
     "text": [
      "././genres_2/Cheeze/Mercy_(ft._Big_Sean,_Pusha_T_&_2_Chainz)_1.mp3 0.46222513914108276 0.3178449869155884 2099.165003198654 2414.011830695918 4609.554338565836 0.0500935777987239\n",
      "././genres_2/Cheeze/One_Thing.mp3\n"
     ]
    },
    {
     "name": "stderr",
     "output_type": "stream",
     "text": [
      "/Users/Andy/opt/anaconda3/lib/python3.7/site-packages/librosa/core/audio.py:161: UserWarning: PySoundFile failed. Trying audioread instead.\n",
      "  warnings.warn('PySoundFile failed. Trying audioread instead.')\n"
     ]
    },
    {
     "name": "stdout",
     "output_type": "stream",
     "text": [
      "././genres_2/Cheeze/One_Thing.mp3 0.4093644917011261 0.13092994689941406 2926.5076650486494 2704.4276717934736 5986.430312862529 0.15912983976218098\n",
      "././genres_2/Cheeze/Mura_Masa_-_Firefly_(feat._Nao).mp3\n"
     ]
    },
    {
     "name": "stderr",
     "output_type": "stream",
     "text": [
      "/Users/Andy/opt/anaconda3/lib/python3.7/site-packages/librosa/core/audio.py:161: UserWarning: PySoundFile failed. Trying audioread instead.\n",
      "  warnings.warn('PySoundFile failed. Trying audioread instead.')\n"
     ]
    },
    {
     "name": "stdout",
     "output_type": "stream",
     "text": [
      "././genres_2/Cheeze/Mura_Masa_-_Firefly_(feat._Nao).mp3 0.28539222478866577 0.12802991271018982 2377.3133181514636 2274.5127225924207 4741.601335919374 0.12238979118329467\n",
      "././genres_2/Cheeze/09_September.aif\n",
      "././genres_2/Cheeze/09_September.aif 0.4049832820892334 0.11304284632205963 2918.5076125283767 2663.498121705938 6146.230661343532 0.15268362093967516\n",
      "././genres_2/Cheeze/Disclosure_-_Holding_On_ft._Gregory_Porter.mp3\n"
     ]
    },
    {
     "name": "stderr",
     "output_type": "stream",
     "text": [
      "/Users/Andy/opt/anaconda3/lib/python3.7/site-packages/librosa/core/audio.py:161: UserWarning: PySoundFile failed. Trying audioread instead.\n",
      "  warnings.warn('PySoundFile failed. Trying audioread instead.')\n"
     ]
    },
    {
     "name": "stdout",
     "output_type": "stream",
     "text": [
      "././genres_2/Cheeze/Disclosure_-_Holding_On_ft._Gregory_Porter.mp3 0.29032841324806213 0.2664824426174164 2539.9999223073214 2080.921038198938 4555.571447668938 0.13246016712587008\n",
      "././genres_2/Cheeze/01_White_Noise_(feat._AlunaGeorge)_1.mp3\n"
     ]
    },
    {
     "name": "stderr",
     "output_type": "stream",
     "text": [
      "/Users/Andy/opt/anaconda3/lib/python3.7/site-packages/librosa/core/audio.py:161: UserWarning: PySoundFile failed. Trying audioread instead.\n",
      "  warnings.warn('PySoundFile failed. Trying audioread instead.')\n"
     ]
    },
    {
     "name": "stdout",
     "output_type": "stream",
     "text": [
      "././genres_2/Cheeze/01_White_Noise_(feat._AlunaGeorge)_1.mp3 0.42169389128685 0.19977843761444092 2688.180350864237 2501.9009771252704 5278.482544228538 0.10859442974187936\n",
      "././genres_2/Cheeze/1-166_Saturday_Night.mp3\n"
     ]
    },
    {
     "name": "stderr",
     "output_type": "stream",
     "text": [
      "/Users/Andy/opt/anaconda3/lib/python3.7/site-packages/librosa/core/audio.py:161: UserWarning: PySoundFile failed. Trying audioread instead.\n",
      "  warnings.warn('PySoundFile failed. Trying audioread instead.')\n"
     ]
    },
    {
     "name": "stdout",
     "output_type": "stream",
     "text": [
      "././genres_2/Cheeze/1-166_Saturday_Night.mp3 0.3974892199039459 0.13640494644641876 2804.028746422228 2691.6150978375713 5908.640992060615 0.12661551986658934\n",
      "././genres_2/Cheeze/ASAP_Rocky_-_Goldie_(Explicit).mp3\n"
     ]
    },
    {
     "name": "stderr",
     "output_type": "stream",
     "text": [
      "/Users/Andy/opt/anaconda3/lib/python3.7/site-packages/librosa/core/audio.py:161: UserWarning: PySoundFile failed. Trying audioread instead.\n",
      "  warnings.warn('PySoundFile failed. Trying audioread instead.')\n"
     ]
    },
    {
     "name": "stdout",
     "output_type": "stream",
     "text": [
      "././genres_2/Cheeze/ASAP_Rocky_-_Goldie_(Explicit).mp3 0.48526790738105774 0.3012835383415222 1816.1240195557257 2391.965059393839 4127.455397603683 0.048120060542343385\n",
      "././genres_2/Cheeze/Skepta_-_Man_(Official_Video).mp3\n"
     ]
    },
    {
     "name": "stderr",
     "output_type": "stream",
     "text": [
      "/Users/Andy/opt/anaconda3/lib/python3.7/site-packages/librosa/core/audio.py:161: UserWarning: PySoundFile failed. Trying audioread instead.\n",
      "  warnings.warn('PySoundFile failed. Trying audioread instead.')\n"
     ]
    },
    {
     "name": "stdout",
     "output_type": "stream",
     "text": [
      "././genres_2/Cheeze/Skepta_-_Man_(Official_Video).mp3 0.5129570364952087 0.3608381450176239 2558.394562576503 2823.9744035133176 6019.579455028277 0.0613285781612529\n",
      "././genres_2/Cheeze/Pharrell_Williams_ft._Jay_Z_-_Frontin'_(Disclosure_Rework).mp3\n"
     ]
    },
    {
     "name": "stderr",
     "output_type": "stream",
     "text": [
      "/Users/Andy/opt/anaconda3/lib/python3.7/site-packages/librosa/core/audio.py:161: UserWarning: PySoundFile failed. Trying audioread instead.\n",
      "  warnings.warn('PySoundFile failed. Trying audioread instead.')\n"
     ]
    },
    {
     "name": "stdout",
     "output_type": "stream",
     "text": [
      "././genres_2/Cheeze/Pharrell_Williams_ft._Jay_Z_-_Frontin'_(Disclosure_Rework).mp3 0.5289745926856995 0.19292950630187988 2795.08960009861 2387.504211491025 5148.034299775232 0.17067752138921113\n",
      "././genres_2/Cheeze/SIR_SPYRO_Topper_Top_(ALXZNDR_Version).mp3\n"
     ]
    },
    {
     "name": "stderr",
     "output_type": "stream",
     "text": [
      "/Users/Andy/opt/anaconda3/lib/python3.7/site-packages/librosa/core/audio.py:161: UserWarning: PySoundFile failed. Trying audioread instead.\n",
      "  warnings.warn('PySoundFile failed. Trying audioread instead.')\n"
     ]
    },
    {
     "name": "stdout",
     "output_type": "stream",
     "text": [
      "././genres_2/Cheeze/SIR_SPYRO_Topper_Top_(ALXZNDR_Version).mp3 0.3275693953037262 0.09918344020843506 2188.2961458397326 2096.7523239939146 4292.176907355713 0.10572138739849188\n",
      "././genres_2/Cheeze/05_All_Of_The_Lights.mp3\n"
     ]
    },
    {
     "name": "stderr",
     "output_type": "stream",
     "text": [
      "/Users/Andy/opt/anaconda3/lib/python3.7/site-packages/librosa/core/audio.py:161: UserWarning: PySoundFile failed. Trying audioread instead.\n",
      "  warnings.warn('PySoundFile failed. Trying audioread instead.')\n"
     ]
    },
    {
     "name": "stdout",
     "output_type": "stream",
     "text": [
      "././genres_2/Cheeze/05_All_Of_The_Lights.mp3 0.42179960012435913 0.4812844395637512 2227.141557397336 2584.6490766017805 5060.002968206207 0.06620799195185614\n",
      "././genres_2/Cheeze/01_Blue_Jeans_(MK_Dark_Blue_Dub).aiff\n",
      "././genres_2/Cheeze/01_Blue_Jeans_(MK_Dark_Blue_Dub).aiff 0.294854998588562 0.11998766660690308 2017.9785148825833 2320.605792177608 4334.094209958672 0.08640085738109049\n",
      "././genres_2/Cheeze/Jess_Glynne_-_Right_Here_[Official_Video].mp3\n"
     ]
    },
    {
     "name": "stderr",
     "output_type": "stream",
     "text": [
      "/Users/Andy/opt/anaconda3/lib/python3.7/site-packages/librosa/core/audio.py:161: UserWarning: PySoundFile failed. Trying audioread instead.\n",
      "  warnings.warn('PySoundFile failed. Trying audioread instead.')\n"
     ]
    },
    {
     "name": "stdout",
     "output_type": "stream",
     "text": [
      "././genres_2/Cheeze/Jess_Glynne_-_Right_Here_[Official_Video].mp3 0.3600446283817291 0.14236599206924438 2212.5186798391774 2397.295545309429 4459.471410056554 0.0976630474187935\n",
      "././genres_2/Cheeze/Paper_Planes.mp3\n"
     ]
    },
    {
     "name": "stderr",
     "output_type": "stream",
     "text": [
      "/Users/Andy/opt/anaconda3/lib/python3.7/site-packages/librosa/core/audio.py:161: UserWarning: PySoundFile failed. Trying audioread instead.\n",
      "  warnings.warn('PySoundFile failed. Trying audioread instead.')\n"
     ]
    },
    {
     "name": "stdout",
     "output_type": "stream",
     "text": [
      "././genres_2/Cheeze/Paper_Planes.mp3 0.3734685778617859 0.24219955503940582 2619.8499727254007 2626.649452788022 5508.17837106656 0.10712958599187936\n",
      "././genres_2/Cheeze/2-15_Midnight_City_(Eric_Prydz_Private_Remix)_1.m4a\n"
     ]
    },
    {
     "name": "stderr",
     "output_type": "stream",
     "text": [
      "/Users/Andy/opt/anaconda3/lib/python3.7/site-packages/librosa/core/audio.py:161: UserWarning: PySoundFile failed. Trying audioread instead.\n",
      "  warnings.warn('PySoundFile failed. Trying audioread instead.')\n"
     ]
    },
    {
     "name": "stdout",
     "output_type": "stream",
     "text": [
      "././genres_2/Cheeze/2-15_Midnight_City_(Eric_Prydz_Private_Remix)_1.m4a 0.5247820615768433 0.37287232279777527 3030.9025118352097 3101.5062614846656 7031.8648265298725 0.09345544518561485\n",
      "././genres_2/Cheeze/Toyboy_&_Robin_-_Don't_Just_Say.mp3\n"
     ]
    },
    {
     "name": "stderr",
     "output_type": "stream",
     "text": [
      "/Users/Andy/opt/anaconda3/lib/python3.7/site-packages/librosa/core/audio.py:161: UserWarning: PySoundFile failed. Trying audioread instead.\n",
      "  warnings.warn('PySoundFile failed. Trying audioread instead.')\n"
     ]
    },
    {
     "name": "stdout",
     "output_type": "stream",
     "text": [
      "././genres_2/Cheeze/Toyboy_&_Robin_-_Don't_Just_Say.mp3 0.34379255771636963 0.11592715978622437 3273.2449717188742 2874.7637712865308 6771.74273355931 0.17368764501160092\n",
      "././genres_2/Cheeze/Golden_Boy_-_That_Thing.mp3\n"
     ]
    },
    {
     "name": "stderr",
     "output_type": "stream",
     "text": [
      "/Users/Andy/opt/anaconda3/lib/python3.7/site-packages/librosa/core/audio.py:161: UserWarning: PySoundFile failed. Trying audioread instead.\n",
      "  warnings.warn('PySoundFile failed. Trying audioread instead.')\n"
     ]
    },
    {
     "name": "stdout",
     "output_type": "stream",
     "text": [
      "././genres_2/Cheeze/Golden_Boy_-_That_Thing.mp3 0.5079716444015503 0.2640756368637085 3531.4290725057795 2774.080928846414 6782.359452037413 0.20319184128480278\n",
      "././genres_2/Cheeze/05_Money_Trees_(feat._Jay_Rock).m4a\n"
     ]
    },
    {
     "name": "stderr",
     "output_type": "stream",
     "text": [
      "/Users/Andy/opt/anaconda3/lib/python3.7/site-packages/librosa/core/audio.py:161: UserWarning: PySoundFile failed. Trying audioread instead.\n",
      "  warnings.warn('PySoundFile failed. Trying audioread instead.')\n"
     ]
    },
    {
     "name": "stdout",
     "output_type": "stream",
     "text": [
      "././genres_2/Cheeze/05_Money_Trees_(feat._Jay_Rock).m4a 0.5406754612922668 0.2607089579105377 2989.931544560832 2975.9232947500377 6577.244451040458 0.1067477976363109\n",
      "././genres_2/Cheeze/01_He's_The_Greatest_Dancer.aif\n",
      "././genres_2/Cheeze/01_He's_The_Greatest_Dancer.aif 0.4651433229446411 0.0962105244398117 2270.0675852190197 2491.7888944038764 4893.033212188225 0.09939299050174014\n",
      "././genres_2/Cheeze/01_-_Like_a_prayer.mp3\n"
     ]
    },
    {
     "name": "stderr",
     "output_type": "stream",
     "text": [
      "/Users/Andy/opt/anaconda3/lib/python3.7/site-packages/librosa/core/audio.py:161: UserWarning: PySoundFile failed. Trying audioread instead.\n",
      "  warnings.warn('PySoundFile failed. Trying audioread instead.')\n"
     ]
    },
    {
     "name": "stdout",
     "output_type": "stream",
     "text": [
      "././genres_2/Cheeze/01_-_Like_a_prayer.mp3 0.33076000213623047 0.03243962675333023 2089.3319365516745 2374.3630582097708 4209.29156168431 0.10900680648201856\n",
      "././genres_2/Cheeze/Clssicos_do_HIP-HOP_-_Shaggy_-_It_Wasnt_Me__HQ_-_320_KBPS.mp3\n"
     ]
    },
    {
     "name": "stderr",
     "output_type": "stream",
     "text": [
      "/Users/Andy/opt/anaconda3/lib/python3.7/site-packages/librosa/core/audio.py:161: UserWarning: PySoundFile failed. Trying audioread instead.\n",
      "  warnings.warn('PySoundFile failed. Trying audioread instead.')\n"
     ]
    },
    {
     "name": "stdout",
     "output_type": "stream",
     "text": [
      "././genres_2/Cheeze/Clssicos_do_HIP-HOP_-_Shaggy_-_It_Wasnt_Me__HQ_-_320_KBPS.mp3 0.41993263363838196 0.2103380411863327 2920.631698465921 2763.609540221443 6197.041026954032 0.137188904799884\n",
      "././genres_2/Cheeze/03_Niggas_in_Paris.mp3\n"
     ]
    },
    {
     "name": "stderr",
     "output_type": "stream",
     "text": [
      "/Users/Andy/opt/anaconda3/lib/python3.7/site-packages/librosa/core/audio.py:161: UserWarning: PySoundFile failed. Trying audioread instead.\n",
      "  warnings.warn('PySoundFile failed. Trying audioread instead.')\n"
     ]
    },
    {
     "name": "stdout",
     "output_type": "stream",
     "text": [
      "././genres_2/Cheeze/03_Niggas_in_Paris.mp3 0.4311579465866089 0.2951541244983673 2410.5290434767217 2502.426199297045 4991.231612982164 0.1005791400812065\n",
      "././genres_2/Cheeze/04_Golddust.mp3\n"
     ]
    },
    {
     "name": "stderr",
     "output_type": "stream",
     "text": [
      "/Users/Andy/opt/anaconda3/lib/python3.7/site-packages/librosa/core/audio.py:161: UserWarning: PySoundFile failed. Trying audioread instead.\n",
      "  warnings.warn('PySoundFile failed. Trying audioread instead.')\n"
     ]
    },
    {
     "name": "stdout",
     "output_type": "stream",
     "text": [
      "././genres_2/Cheeze/04_Golddust.mp3 0.4427422285079956 0.36998873949050903 3390.245262567288 3001.8794906404696 7168.7830241263055 0.1516900648926914\n",
      "././genres_2/Cheeze/2-08_Halfway_Crooks.mp3\n"
     ]
    },
    {
     "name": "stderr",
     "output_type": "stream",
     "text": [
      "/Users/Andy/opt/anaconda3/lib/python3.7/site-packages/librosa/core/audio.py:161: UserWarning: PySoundFile failed. Trying audioread instead.\n",
      "  warnings.warn('PySoundFile failed. Trying audioread instead.')\n"
     ]
    },
    {
     "name": "stdout",
     "output_type": "stream",
     "text": [
      "././genres_2/Cheeze/2-08_Halfway_Crooks.mp3 0.454316109418869 0.12436144053936005 2447.6703058515136 2194.730431063276 4630.737814493909 0.13379925862819025\n",
      "././genres_2/Cheeze/01_It's_My_House.mp3\n"
     ]
    },
    {
     "name": "stderr",
     "output_type": "stream",
     "text": [
      "/Users/Andy/opt/anaconda3/lib/python3.7/site-packages/librosa/core/audio.py:161: UserWarning: PySoundFile failed. Trying audioread instead.\n",
      "  warnings.warn('PySoundFile failed. Trying audioread instead.')\n"
     ]
    },
    {
     "name": "stdout",
     "output_type": "stream",
     "text": [
      "././genres_2/Cheeze/01_It's_My_House.mp3 0.32504865527153015 0.07513009756803513 2046.3142587423756 2468.655068257048 4475.733724713602 0.08412825369779582\n",
      "././genres_2/Cheeze/Sean_Paul_-_She_Doesn't_Mind_[Official_Music_Video].mp3\n"
     ]
    },
    {
     "name": "stderr",
     "output_type": "stream",
     "text": [
      "/Users/Andy/opt/anaconda3/lib/python3.7/site-packages/librosa/core/audio.py:161: UserWarning: PySoundFile failed. Trying audioread instead.\n",
      "  warnings.warn('PySoundFile failed. Trying audioread instead.')\n"
     ]
    },
    {
     "name": "stdout",
     "output_type": "stream",
     "text": [
      "././genres_2/Cheeze/Sean_Paul_-_She_Doesn't_Mind_[Official_Music_Video].mp3 0.39752182364463806 0.13174493610858917 2411.557314908181 2468.9934559723606 4813.795021570476 0.10999809672273782\n",
      "././genres_2/Cheeze/Hardrive_-_Deep_Inside.mp3\n"
     ]
    },
    {
     "name": "stderr",
     "output_type": "stream",
     "text": [
      "/Users/Andy/opt/anaconda3/lib/python3.7/site-packages/librosa/core/audio.py:161: UserWarning: PySoundFile failed. Trying audioread instead.\n",
      "  warnings.warn('PySoundFile failed. Trying audioread instead.')\n"
     ]
    },
    {
     "name": "stdout",
     "output_type": "stream",
     "text": [
      "././genres_2/Cheeze/Hardrive_-_Deep_Inside.mp3 0.46434932947158813 0.14647257328033447 2941.166632700424 2344.4702167288374 5329.542714979699 0.17873699427204176\n",
      "././genres_2/Cheeze/02_My_Humps.mp3\n"
     ]
    },
    {
     "name": "stderr",
     "output_type": "stream",
     "text": [
      "/Users/Andy/opt/anaconda3/lib/python3.7/site-packages/librosa/core/audio.py:161: UserWarning: PySoundFile failed. Trying audioread instead.\n",
      "  warnings.warn('PySoundFile failed. Trying audioread instead.')\n"
     ]
    },
    {
     "name": "stdout",
     "output_type": "stream",
     "text": [
      "././genres_2/Cheeze/02_My_Humps.mp3 0.39058518409729004 0.3125886917114258 2700.842936425396 2604.179734274109 5450.723188714473 0.09777293902262181\n",
      "././genres_2/Cheeze/46_45._M.O.P.-_Ante_Up_(Remix)_(ft._Busta_Rhymes).mp3\n"
     ]
    },
    {
     "name": "stderr",
     "output_type": "stream",
     "text": [
      "/Users/Andy/opt/anaconda3/lib/python3.7/site-packages/librosa/core/audio.py:161: UserWarning: PySoundFile failed. Trying audioread instead.\n",
      "  warnings.warn('PySoundFile failed. Trying audioread instead.')\n"
     ]
    },
    {
     "name": "stdout",
     "output_type": "stream",
     "text": [
      "././genres_2/Cheeze/46_45._M.O.P.-_Ante_Up_(Remix)_(ft._Busta_Rhymes).mp3 0.45896852016448975 0.24972835183143616 2791.896421357398 2381.212405752687 5341.433439675174 0.15451552530452436\n",
      "././genres_2/Cheeze/01_Express_Yourself_(feat._Nicky_Da_B)_1.mp3\n"
     ]
    },
    {
     "name": "stderr",
     "output_type": "stream",
     "text": [
      "/Users/Andy/opt/anaconda3/lib/python3.7/site-packages/librosa/core/audio.py:161: UserWarning: PySoundFile failed. Trying audioread instead.\n",
      "  warnings.warn('PySoundFile failed. Trying audioread instead.')\n"
     ]
    },
    {
     "name": "stdout",
     "output_type": "stream",
     "text": [
      "././genres_2/Cheeze/01_Express_Yourself_(feat._Nicky_Da_B)_1.mp3 0.5477527976036072 0.30616098642349243 1948.7622493060098 2051.5706120109985 4251.358747371664 0.0748950931699536\n",
      "././genres_2/Cheeze/Toyboy_&_Robin_-_No_More_Sunshine.mp3\n"
     ]
    },
    {
     "name": "stderr",
     "output_type": "stream",
     "text": [
      "/Users/Andy/opt/anaconda3/lib/python3.7/site-packages/librosa/core/audio.py:161: UserWarning: PySoundFile failed. Trying audioread instead.\n",
      "  warnings.warn('PySoundFile failed. Trying audioread instead.')\n"
     ]
    },
    {
     "name": "stdout",
     "output_type": "stream",
     "text": [
      "././genres_2/Cheeze/Toyboy_&_Robin_-_No_More_Sunshine.mp3 0.5246914029121399 0.2559223771095276 2330.099109835472 2381.6351991018496 4821.938669156032 0.09303740392981438\n",
      "././genres_2/Cheeze/02_The_Notorious_B.I.G._-_Juicy.mp3\n"
     ]
    },
    {
     "name": "stderr",
     "output_type": "stream",
     "text": [
      "/Users/Andy/opt/anaconda3/lib/python3.7/site-packages/librosa/core/audio.py:161: UserWarning: PySoundFile failed. Trying audioread instead.\n",
      "  warnings.warn('PySoundFile failed. Trying audioread instead.')\n"
     ]
    },
    {
     "name": "stdout",
     "output_type": "stream",
     "text": [
      "././genres_2/Cheeze/02_The_Notorious_B.I.G._-_Juicy.mp3 0.409412682056427 0.2233125865459442 2315.164443006622 2287.930729696691 4767.531109520011 0.08862361332656613\n",
      "././genres_2/Cheeze/12_No_Scrubs_(Rap_Version).mp3\n"
     ]
    },
    {
     "name": "stderr",
     "output_type": "stream",
     "text": [
      "/Users/Andy/opt/anaconda3/lib/python3.7/site-packages/librosa/core/audio.py:161: UserWarning: PySoundFile failed. Trying audioread instead.\n",
      "  warnings.warn('PySoundFile failed. Trying audioread instead.')\n"
     ]
    },
    {
     "name": "stdout",
     "output_type": "stream",
     "text": [
      "././genres_2/Cheeze/12_No_Scrubs_(Rap_Version).mp3 0.46145108342170715 0.23135453462600708 2941.907664451412 2920.577249537805 6377.150533370795 0.11413659186484919\n",
      "././genres_2/Cheeze/88_Big_Pimpin'_1.mp3\n"
     ]
    },
    {
     "name": "stderr",
     "output_type": "stream",
     "text": [
      "/Users/Andy/opt/anaconda3/lib/python3.7/site-packages/librosa/core/audio.py:161: UserWarning: PySoundFile failed. Trying audioread instead.\n",
      "  warnings.warn('PySoundFile failed. Trying audioread instead.')\n"
     ]
    },
    {
     "name": "stdout",
     "output_type": "stream",
     "text": [
      "././genres_2/Cheeze/88_Big_Pimpin'_1.mp3 0.45604950189590454 0.20244409143924713 2315.7738780251316 2195.71148390327 4458.746975148637 0.10696418213457076\n",
      "././genres_2/Cheeze/Duke_Dumont_-_Won't_Look_Back.mp3\n"
     ]
    },
    {
     "name": "stderr",
     "output_type": "stream",
     "text": [
      "/Users/Andy/opt/anaconda3/lib/python3.7/site-packages/librosa/core/audio.py:161: UserWarning: PySoundFile failed. Trying audioread instead.\n",
      "  warnings.warn('PySoundFile failed. Trying audioread instead.')\n"
     ]
    },
    {
     "name": "stdout",
     "output_type": "stream",
     "text": [
      "././genres_2/Cheeze/Duke_Dumont_-_Won't_Look_Back.mp3 0.35314351320266724 0.1618110090494156 2511.7863861911324 2230.6935899390896 4854.638162068591 0.1483162793648492\n",
      "././genres_2/Cheeze/Redlight_-9TS_90s_baby_.mp3\n"
     ]
    },
    {
     "name": "stderr",
     "output_type": "stream",
     "text": [
      "/Users/Andy/opt/anaconda3/lib/python3.7/site-packages/librosa/core/audio.py:161: UserWarning: PySoundFile failed. Trying audioread instead.\n",
      "  warnings.warn('PySoundFile failed. Trying audioread instead.')\n"
     ]
    },
    {
     "name": "stdout",
     "output_type": "stream",
     "text": [
      "././genres_2/Cheeze/Redlight_-9TS_90s_baby_.mp3 0.27992790937423706 0.07225781679153442 3438.843988088508 2507.5024403685015 6148.129180412558 0.1839256906177494\n",
      "././genres_2/Cheeze/Alice_Deejay_-_Better_Off_Alone.mp3\n"
     ]
    },
    {
     "name": "stderr",
     "output_type": "stream",
     "text": [
      "/Users/Andy/opt/anaconda3/lib/python3.7/site-packages/librosa/core/audio.py:161: UserWarning: PySoundFile failed. Trying audioread instead.\n",
      "  warnings.warn('PySoundFile failed. Trying audioread instead.')\n"
     ]
    },
    {
     "name": "stdout",
     "output_type": "stream",
     "text": [
      "././genres_2/Cheeze/Alice_Deejay_-_Better_Off_Alone.mp3 0.2622220516204834 0.11753486841917038 2360.9525179699995 2598.445358586857 5196.696341176044 0.09684395845417633\n",
      "././genres_2/Cheeze/Klaves_-_Will_You.mp3\n"
     ]
    },
    {
     "name": "stderr",
     "output_type": "stream",
     "text": [
      "/Users/Andy/opt/anaconda3/lib/python3.7/site-packages/librosa/core/audio.py:161: UserWarning: PySoundFile failed. Trying audioread instead.\n",
      "  warnings.warn('PySoundFile failed. Trying audioread instead.')\n"
     ]
    },
    {
     "name": "stdout",
     "output_type": "stream",
     "text": [
      "././genres_2/Cheeze/Klaves_-_Will_You.mp3 0.4223443567752838 0.2172507494688034 1223.778271068454 1681.169447382988 2396.9552661869197 0.038642192937935034\n",
      "././genres_2/Cheeze/Delilah_-_Inside_My_Love_(Redlight_Remix).mp3\n"
     ]
    },
    {
     "name": "stderr",
     "output_type": "stream",
     "text": [
      "/Users/Andy/opt/anaconda3/lib/python3.7/site-packages/librosa/core/audio.py:161: UserWarning: PySoundFile failed. Trying audioread instead.\n",
      "  warnings.warn('PySoundFile failed. Trying audioread instead.')\n"
     ]
    },
    {
     "name": "stdout",
     "output_type": "stream",
     "text": [
      "././genres_2/Cheeze/Delilah_-_Inside_My_Love_(Redlight_Remix).mp3 0.35511597990989685 0.13802894949913025 2313.950562201998 2592.7171846833894 5098.248135241444 0.06419708889211137\n",
      "././genres_2/Cheeze/Karma_Kid_-_Bird_Of_Prey.mp3\n"
     ]
    },
    {
     "name": "stderr",
     "output_type": "stream",
     "text": [
      "/Users/Andy/opt/anaconda3/lib/python3.7/site-packages/librosa/core/audio.py:161: UserWarning: PySoundFile failed. Trying audioread instead.\n",
      "  warnings.warn('PySoundFile failed. Trying audioread instead.')\n"
     ]
    },
    {
     "name": "stdout",
     "output_type": "stream",
     "text": [
      "././genres_2/Cheeze/Karma_Kid_-_Bird_Of_Prey.mp3 0.4502938389778137 0.21704909205436707 2619.6403991398292 2471.519391398202 5267.441157011311 0.09909956859048724\n",
      "././genres_2/Cheeze/[MP3FY.COM]_Crystal_Waters_-_Gypsy_Woman_(She's_Homeless).mp3\n"
     ]
    },
    {
     "name": "stderr",
     "output_type": "stream",
     "text": [
      "/Users/Andy/opt/anaconda3/lib/python3.7/site-packages/librosa/core/audio.py:161: UserWarning: PySoundFile failed. Trying audioread instead.\n",
      "  warnings.warn('PySoundFile failed. Trying audioread instead.')\n"
     ]
    },
    {
     "name": "stdout",
     "output_type": "stream",
     "text": [
      "././genres_2/Cheeze/[MP3FY.COM]_Crystal_Waters_-_Gypsy_Woman_(She's_Homeless).mp3 0.3544243574142456 0.0268191359937191 1975.6862814380775 1922.9436605604924 3562.571033026392 0.11726453741299304\n",
      "././genres_2/Cheeze/98_Teach_me_How_To_Dougie.mp3\n"
     ]
    },
    {
     "name": "stderr",
     "output_type": "stream",
     "text": [
      "/Users/Andy/opt/anaconda3/lib/python3.7/site-packages/librosa/core/audio.py:161: UserWarning: PySoundFile failed. Trying audioread instead.\n",
      "  warnings.warn('PySoundFile failed. Trying audioread instead.')\n"
     ]
    },
    {
     "name": "stdout",
     "output_type": "stream",
     "text": [
      "././genres_2/Cheeze/98_Teach_me_How_To_Dougie.mp3 0.35796818137168884 0.26832786202430725 1699.2482080128757 2130.5411969852134 3409.3405597447795 0.05057619453306265\n",
      "././genres_2/Cheeze/Acceptable_In_the_80's_1.mp3\n"
     ]
    },
    {
     "name": "stderr",
     "output_type": "stream",
     "text": [
      "/Users/Andy/opt/anaconda3/lib/python3.7/site-packages/librosa/core/audio.py:161: UserWarning: PySoundFile failed. Trying audioread instead.\n",
      "  warnings.warn('PySoundFile failed. Trying audioread instead.')\n"
     ]
    },
    {
     "name": "stdout",
     "output_type": "stream",
     "text": [
      "././genres_2/Cheeze/Acceptable_In_the_80's_1.mp3 0.472949355840683 0.19561727344989777 2420.48465162728 2370.047785046589 4962.778807460847 0.10358020047853829\n",
      "././genres_2/Cheeze/Ariana_Grande_-_thank_u,_next.mp3\n"
     ]
    },
    {
     "name": "stderr",
     "output_type": "stream",
     "text": [
      "/Users/Andy/opt/anaconda3/lib/python3.7/site-packages/librosa/core/audio.py:161: UserWarning: PySoundFile failed. Trying audioread instead.\n",
      "  warnings.warn('PySoundFile failed. Trying audioread instead.')\n"
     ]
    },
    {
     "name": "stdout",
     "output_type": "stream",
     "text": [
      "././genres_2/Cheeze/Ariana_Grande_-_thank_u,_next.mp3 0.33907032012939453 0.2794862389564514 2068.5049596311515 2658.4399898976094 4578.153832384716 0.06597234810034802\n",
      "././genres_2/Cheeze/2-14_Promesses_(Radio_Edit).wav\n",
      "././genres_2/Cheeze/2-14_Promesses_(Radio_Edit).wav 0.5470684170722961 0.3925366997718811 2615.6138822667035 2644.7388131617245 5467.335230568446 0.08669767800174014\n",
      "././genres_2/Cheeze/12_Get_Down_On_It.aif\n",
      "././genres_2/Cheeze/12_Get_Down_On_It.aif 0.4422191083431244 0.08076498657464981 2391.57548873625 2303.4310348456743 4835.153361097013 0.12215641313805105\n",
      "././genres_2/Cheeze/11_Controlla.mp3\n"
     ]
    },
    {
     "name": "stderr",
     "output_type": "stream",
     "text": [
      "/Users/Andy/opt/anaconda3/lib/python3.7/site-packages/librosa/core/audio.py:161: UserWarning: PySoundFile failed. Trying audioread instead.\n",
      "  warnings.warn('PySoundFile failed. Trying audioread instead.')\n"
     ]
    },
    {
     "name": "stdout",
     "output_type": "stream",
     "text": [
      "././genres_2/Cheeze/11_Controlla.mp3 0.45631271600723267 0.16721852123737335 3396.865521917136 2885.883096036431 6879.583612782772 0.1902325623549884\n",
      "././genres_2/Cheeze/Chris_Brown,_Tyga_-_Ayo_(Explicit).mp3\n"
     ]
    },
    {
     "name": "stderr",
     "output_type": "stream",
     "text": [
      "/Users/Andy/opt/anaconda3/lib/python3.7/site-packages/librosa/core/audio.py:161: UserWarning: PySoundFile failed. Trying audioread instead.\n",
      "  warnings.warn('PySoundFile failed. Trying audioread instead.')\n"
     ]
    },
    {
     "name": "stdout",
     "output_type": "stream",
     "text": [
      "././genres_2/Cheeze/Chris_Brown,_Tyga_-_Ayo_(Explicit).mp3 0.4892643392086029 0.0625612661242485 3008.827046012327 2721.083187931161 6302.833504024072 0.17244485027552203\n",
      "././genres_2/Cheeze/Rihanna_-_Work_ft._Drake_(Explicit).mp3\n"
     ]
    },
    {
     "name": "stderr",
     "output_type": "stream",
     "text": [
      "/Users/Andy/opt/anaconda3/lib/python3.7/site-packages/librosa/core/audio.py:161: UserWarning: PySoundFile failed. Trying audioread instead.\n",
      "  warnings.warn('PySoundFile failed. Trying audioread instead.')\n"
     ]
    },
    {
     "name": "stdout",
     "output_type": "stream",
     "text": [
      "././genres_2/Cheeze/Rihanna_-_Work_ft._Drake_(Explicit).mp3 0.35348108410835266 0.1528385430574417 2121.2729609958906 2456.247744235839 4591.243621755365 0.07594756017981438\n",
      "././genres_2/Cheeze/Desiigner_-_Panda.mp3\n"
     ]
    },
    {
     "name": "stderr",
     "output_type": "stream",
     "text": [
      "/Users/Andy/opt/anaconda3/lib/python3.7/site-packages/librosa/core/audio.py:161: UserWarning: PySoundFile failed. Trying audioread instead.\n",
      "  warnings.warn('PySoundFile failed. Trying audioread instead.')\n"
     ]
    },
    {
     "name": "stdout",
     "output_type": "stream",
     "text": [
      "././genres_2/Cheeze/Desiigner_-_Panda.mp3 0.406707227230072 0.04063338413834572 1973.7197753149558 2137.9438036460656 3990.5122194931846 0.08121782555104408\n",
      "././genres_2/Cheeze/09_Jumpman.mp3\n"
     ]
    },
    {
     "name": "stderr",
     "output_type": "stream",
     "text": [
      "/Users/Andy/opt/anaconda3/lib/python3.7/site-packages/librosa/core/audio.py:161: UserWarning: PySoundFile failed. Trying audioread instead.\n",
      "  warnings.warn('PySoundFile failed. Trying audioread instead.')\n"
     ]
    },
    {
     "name": "stdout",
     "output_type": "stream",
     "text": [
      "././genres_2/Cheeze/09_Jumpman.mp3 0.49127423763275146 0.2343141883611679 2858.4233882923836 2976.8453957126103 6518.4902819569315 0.07030683548433875\n",
      "././genres_2/Cheeze/Eliphino_-_More_Than_Me_1.mp3\n"
     ]
    },
    {
     "name": "stderr",
     "output_type": "stream",
     "text": [
      "/Users/Andy/opt/anaconda3/lib/python3.7/site-packages/librosa/core/audio.py:161: UserWarning: PySoundFile failed. Trying audioread instead.\n",
      "  warnings.warn('PySoundFile failed. Trying audioread instead.')\n"
     ]
    },
    {
     "name": "stdout",
     "output_type": "stream",
     "text": [
      "././genres_2/Cheeze/Eliphino_-_More_Than_Me_1.mp3 0.40564772486686707 0.2594466507434845 2638.448899214384 2640.056992886414 5546.9481288971865 0.09283461426914154\n",
      "././genres_2/Cheeze/Changes_Ft._Wad_Ad_(Original_Mix)_1.mp3\n"
     ]
    },
    {
     "name": "stderr",
     "output_type": "stream",
     "text": [
      "/Users/Andy/opt/anaconda3/lib/python3.7/site-packages/librosa/core/audio.py:161: UserWarning: PySoundFile failed. Trying audioread instead.\n",
      "  warnings.warn('PySoundFile failed. Trying audioread instead.')\n"
     ]
    },
    {
     "name": "stdout",
     "output_type": "stream",
     "text": [
      "././genres_2/Cheeze/Changes_Ft._Wad_Ad_(Original_Mix)_1.mp3 0.5105370283126831 0.44587045907974243 1508.94667688187 2122.1495555035717 3366.548939149507 0.026231239124129932\n",
      "././genres_2/Cheeze/04_Fancy.mp3\n"
     ]
    },
    {
     "name": "stderr",
     "output_type": "stream",
     "text": [
      "/Users/Andy/opt/anaconda3/lib/python3.7/site-packages/librosa/core/audio.py:161: UserWarning: PySoundFile failed. Trying audioread instead.\n",
      "  warnings.warn('PySoundFile failed. Trying audioread instead.')\n"
     ]
    },
    {
     "name": "stdout",
     "output_type": "stream",
     "text": [
      "././genres_2/Cheeze/04_Fancy.mp3 0.4410668611526489 0.24195919930934906 3111.6979326472765 2576.692262398016 5844.565973481003 0.17308833925464037\n",
      "././genres_2/Cheeze/01._Consideration_(Feat._SZA).mp3\n"
     ]
    },
    {
     "name": "stderr",
     "output_type": "stream",
     "text": [
      "/Users/Andy/opt/anaconda3/lib/python3.7/site-packages/librosa/core/audio.py:161: UserWarning: PySoundFile failed. Trying audioread instead.\n",
      "  warnings.warn('PySoundFile failed. Trying audioread instead.')\n"
     ]
    },
    {
     "name": "stdout",
     "output_type": "stream",
     "text": [
      "././genres_2/Cheeze/01._Consideration_(Feat._SZA).mp3 0.37392139434814453 0.3308018445968628 2198.0336465952205 2426.603432486693 4434.990506271752 0.09442294446055685\n",
      "././genres_2/Cheeze/02_-_Lil_Nas_X_-_Old_Town_Road_(Remix).wav\n",
      "././genres_2/Cheeze/02_-_Lil_Nas_X_-_Old_Town_Road_(Remix).wav 0.5712897181510925 0.3643867075443268 2718.2503388079463 2840.8662297061064 5868.372403386021 0.0913958272911833\n",
      "././genres_2/Cheeze/1-03_Red_Red_Wine.mp3\n"
     ]
    },
    {
     "name": "stderr",
     "output_type": "stream",
     "text": [
      "/Users/Andy/opt/anaconda3/lib/python3.7/site-packages/librosa/core/audio.py:161: UserWarning: PySoundFile failed. Trying audioread instead.\n",
      "  warnings.warn('PySoundFile failed. Trying audioread instead.')\n"
     ]
    },
    {
     "name": "stdout",
     "output_type": "stream",
     "text": [
      "././genres_2/Cheeze/1-03_Red_Red_Wine.mp3 0.4069407284259796 0.1605624556541443 2521.2336813199568 2663.1363295839783 5511.72560406395 0.09542896244199536\n",
      "././genres_2/Cheeze/2-17_Evil_Eyes_[Claptone_Remix].mp3\n"
     ]
    },
    {
     "name": "stderr",
     "output_type": "stream",
     "text": [
      "/Users/Andy/opt/anaconda3/lib/python3.7/site-packages/librosa/core/audio.py:161: UserWarning: PySoundFile failed. Trying audioread instead.\n",
      "  warnings.warn('PySoundFile failed. Trying audioread instead.')\n"
     ]
    },
    {
     "name": "stdout",
     "output_type": "stream",
     "text": [
      "././genres_2/Cheeze/2-17_Evil_Eyes_[Claptone_Remix].mp3 0.5954688787460327 0.3246908485889435 3016.9794313915268 2917.863816645812 6315.923293394721 0.14250448629640372\n",
      "././genres_2/Cheeze/2-16_The_Label.mp3\n"
     ]
    },
    {
     "name": "stderr",
     "output_type": "stream",
     "text": [
      "/Users/Andy/opt/anaconda3/lib/python3.7/site-packages/librosa/core/audio.py:161: UserWarning: PySoundFile failed. Trying audioread instead.\n",
      "  warnings.warn('PySoundFile failed. Trying audioread instead.')\n"
     ]
    },
    {
     "name": "stdout",
     "output_type": "stream",
     "text": [
      "././genres_2/Cheeze/2-16_The_Label.mp3 0.47928428649902344 0.16604645550251007 2095.7005075088296 2024.703022309876 3993.809647349913 0.10763939240139211\n",
      "././genres_2/Cheeze/Trap_Queen.mp3\n"
     ]
    },
    {
     "name": "stderr",
     "output_type": "stream",
     "text": [
      "/Users/Andy/opt/anaconda3/lib/python3.7/site-packages/librosa/core/audio.py:161: UserWarning: PySoundFile failed. Trying audioread instead.\n",
      "  warnings.warn('PySoundFile failed. Trying audioread instead.')\n"
     ]
    },
    {
     "name": "stdout",
     "output_type": "stream",
     "text": [
      "././genres_2/Cheeze/Trap_Queen.mp3 0.3007958233356476 0.1943795531988144 3325.0144473360806 2661.2422775692003 6551.814287721143 0.17472085266821347\n",
      "././genres_2/Cheeze/Set_You_Free.wav\n",
      "././genres_2/Cheeze/Set_You_Free.wav 0.307973712682724 0.2933862507343292 2922.5081607868246 2661.9935792352294 6063.3702961861945 0.15818613145301624\n",
      "././genres_2/Cheeze/Galantis_-_Runaway_(U_&_I).mp3\n"
     ]
    },
    {
     "name": "stderr",
     "output_type": "stream",
     "text": [
      "/Users/Andy/opt/anaconda3/lib/python3.7/site-packages/librosa/core/audio.py:161: UserWarning: PySoundFile failed. Trying audioread instead.\n",
      "  warnings.warn('PySoundFile failed. Trying audioread instead.')\n"
     ]
    },
    {
     "name": "stdout",
     "output_type": "stream",
     "text": [
      "././genres_2/Cheeze/Galantis_-_Runaway_(U_&_I).mp3 0.30680131912231445 0.13279734551906586 2380.423932374132 2204.234268625692 4387.177802349188 0.13175210266821347\n",
      "././genres_2/Cheeze/2-02_Rock_Your_Body.aif\n",
      "././genres_2/Cheeze/2-02_Rock_Your_Body.aif 0.4021495580673218 0.19290253520011902 3124.769376209062 3069.2278147432066 6960.070829103828 0.13245336970707658\n",
      "././genres_2/Cheeze/03_Drunk_in_Love_(Feat._Jay_Z).mp3\n"
     ]
    },
    {
     "name": "stderr",
     "output_type": "stream",
     "text": [
      "/Users/Andy/opt/anaconda3/lib/python3.7/site-packages/librosa/core/audio.py:161: UserWarning: PySoundFile failed. Trying audioread instead.\n",
      "  warnings.warn('PySoundFile failed. Trying audioread instead.')\n"
     ]
    },
    {
     "name": "stdout",
     "output_type": "stream",
     "text": [
      "././genres_2/Cheeze/03_Drunk_in_Love_(Feat._Jay_Z).mp3 0.5372650027275085 0.27059948444366455 1527.6315373478278 2242.352108127579 3441.140754150957 0.02019173252610209\n",
      "././genres_2/Cheeze/19_Fade.mp3\n"
     ]
    },
    {
     "name": "stderr",
     "output_type": "stream",
     "text": [
      "/Users/Andy/opt/anaconda3/lib/python3.7/site-packages/librosa/core/audio.py:161: UserWarning: PySoundFile failed. Trying audioread instead.\n",
      "  warnings.warn('PySoundFile failed. Trying audioread instead.')\n"
     ]
    },
    {
     "name": "stdout",
     "output_type": "stream",
     "text": [
      "././genres_2/Cheeze/19_Fade.mp3 0.4777349531650543 0.4475101828575134 923.8436327746768 1329.6385123865887 1963.5933081677783 0.02744571128190255\n",
      "././genres_2/Cheeze/07_Senorita.mp3\n"
     ]
    },
    {
     "name": "stderr",
     "output_type": "stream",
     "text": [
      "/Users/Andy/opt/anaconda3/lib/python3.7/site-packages/librosa/core/audio.py:161: UserWarning: PySoundFile failed. Trying audioread instead.\n",
      "  warnings.warn('PySoundFile failed. Trying audioread instead.')\n"
     ]
    },
    {
     "name": "stdout",
     "output_type": "stream",
     "text": [
      "././genres_2/Cheeze/07_Senorita.mp3 0.5047184228897095 0.15241281688213348 3381.0070534632923 3091.5183332405018 7154.419228538283 0.1702628788428074\n",
      "././genres_2/Cheeze/12_Only_Girl_(In_The_World).mp3\n"
     ]
    },
    {
     "name": "stderr",
     "output_type": "stream",
     "text": [
      "/Users/Andy/opt/anaconda3/lib/python3.7/site-packages/librosa/core/audio.py:161: UserWarning: PySoundFile failed. Trying audioread instead.\n",
      "  warnings.warn('PySoundFile failed. Trying audioread instead.')\n"
     ]
    },
    {
     "name": "stdout",
     "output_type": "stream",
     "text": [
      "././genres_2/Cheeze/12_Only_Girl_(In_The_World).mp3 0.3594801723957062 0.2701289653778076 2187.8061887767335 2606.250687962551 4924.034030144287 0.07733310071055685\n",
      "././genres_2/Cheeze/10_Operator_(DJ_Koze's_Disco_Edit).mp3\n"
     ]
    },
    {
     "name": "stderr",
     "output_type": "stream",
     "text": [
      "/Users/Andy/opt/anaconda3/lib/python3.7/site-packages/librosa/core/audio.py:161: UserWarning: PySoundFile failed. Trying audioread instead.\n",
      "  warnings.warn('PySoundFile failed. Trying audioread instead.')\n"
     ]
    },
    {
     "name": "stdout",
     "output_type": "stream",
     "text": [
      "././genres_2/Cheeze/10_Operator_(DJ_Koze's_Disco_Edit).mp3 0.4550397992134094 0.24952183663845062 1973.064854708413 2513.67939253779 4486.050677022912 0.0609411252900232\n",
      "././genres_2/Cheeze/13_Where_Is_The_Love_.m4a\n"
     ]
    },
    {
     "name": "stderr",
     "output_type": "stream",
     "text": [
      "/Users/Andy/opt/anaconda3/lib/python3.7/site-packages/librosa/core/audio.py:161: UserWarning: PySoundFile failed. Trying audioread instead.\n",
      "  warnings.warn('PySoundFile failed. Trying audioread instead.')\n"
     ]
    },
    {
     "name": "stdout",
     "output_type": "stream",
     "text": [
      "././genres_2/Cheeze/13_Where_Is_The_Love_.m4a 0.3721122443675995 0.2149268537759781 2859.334469693849 2716.627837939714 6006.814412340487 0.13108595562645012\n",
      "././genres_2/Cheeze/03_Ripgroove.mp3\n"
     ]
    },
    {
     "name": "stderr",
     "output_type": "stream",
     "text": [
      "/Users/Andy/opt/anaconda3/lib/python3.7/site-packages/librosa/core/audio.py:161: UserWarning: PySoundFile failed. Trying audioread instead.\n",
      "  warnings.warn('PySoundFile failed. Trying audioread instead.')\n"
     ]
    },
    {
     "name": "stdout",
     "output_type": "stream",
     "text": [
      "././genres_2/Cheeze/03_Ripgroove.mp3 0.5285636782646179 0.27619946002960205 3069.889512843881 2830.4994762818546 6370.031086861949 0.09936353502030162\n",
      "././genres_2/Cheeze/Bump_&_Grind_2014.mp3\n"
     ]
    },
    {
     "name": "stderr",
     "output_type": "stream",
     "text": [
      "/Users/Andy/opt/anaconda3/lib/python3.7/site-packages/librosa/core/audio.py:161: UserWarning: PySoundFile failed. Trying audioread instead.\n",
      "  warnings.warn('PySoundFile failed. Trying audioread instead.')\n"
     ]
    },
    {
     "name": "stdout",
     "output_type": "stream",
     "text": [
      "././genres_2/Cheeze/Bump_&_Grind_2014.mp3 0.42136386036872864 0.05634930357336998 4592.53020338743 2820.4209614157726 7669.467467553654 0.3236783552059165\n",
      "././genres_2/Cheeze/Friend_Within_-_The_Renegade.mp3\n"
     ]
    },
    {
     "name": "stderr",
     "output_type": "stream",
     "text": [
      "/Users/Andy/opt/anaconda3/lib/python3.7/site-packages/librosa/core/audio.py:161: UserWarning: PySoundFile failed. Trying audioread instead.\n",
      "  warnings.warn('PySoundFile failed. Trying audioread instead.')\n"
     ]
    },
    {
     "name": "stdout",
     "output_type": "stream",
     "text": [
      "././genres_2/Cheeze/Friend_Within_-_The_Renegade.mp3 0.619907796382904 0.23186969757080078 3712.336225153294 2682.514387246192 6607.970483341793 0.23573561666183296\n",
      "././genres_2/Cheeze/Rihanna_-_Needed_Me_(Murlo_Remix).mp3\n"
     ]
    },
    {
     "name": "stderr",
     "output_type": "stream",
     "text": [
      "/Users/Andy/opt/anaconda3/lib/python3.7/site-packages/librosa/core/audio.py:161: UserWarning: PySoundFile failed. Trying audioread instead.\n",
      "  warnings.warn('PySoundFile failed. Trying audioread instead.')\n"
     ]
    },
    {
     "name": "stdout",
     "output_type": "stream",
     "text": [
      "././genres_2/Cheeze/Rihanna_-_Needed_Me_(Murlo_Remix).mp3 0.3573007583618164 0.1656278520822525 2955.3440719502655 2912.9725487056576 6365.5845553581785 0.11753416835846868\n",
      "././genres_2/Cheeze/Route_94_-_My_Love_ft._Jess_Gl.mp3\n"
     ]
    },
    {
     "name": "stderr",
     "output_type": "stream",
     "text": [
      "/Users/Andy/opt/anaconda3/lib/python3.7/site-packages/librosa/core/audio.py:161: UserWarning: PySoundFile failed. Trying audioread instead.\n",
      "  warnings.warn('PySoundFile failed. Trying audioread instead.')\n"
     ]
    },
    {
     "name": "stdout",
     "output_type": "stream",
     "text": [
      "././genres_2/Cheeze/Route_94_-_My_Love_ft._Jess_Gl.mp3 0.3883468210697174 0.13503870368003845 1572.4678727234714 2007.9273228647826 3178.170882576856 0.059896588602088165\n",
      "././genres_2/Cheeze/Here_Comes_The_Hotstepper.mp3\n"
     ]
    },
    {
     "name": "stderr",
     "output_type": "stream",
     "text": [
      "/Users/Andy/opt/anaconda3/lib/python3.7/site-packages/librosa/core/audio.py:161: UserWarning: PySoundFile failed. Trying audioread instead.\n",
      "  warnings.warn('PySoundFile failed. Trying audioread instead.')\n"
     ]
    },
    {
     "name": "stdout",
     "output_type": "stream",
     "text": [
      "././genres_2/Cheeze/Here_Comes_The_Hotstepper.mp3 0.49823400378227234 0.2435477077960968 2860.2705118407002 2618.440801157871 5791.632264174884 0.11537485498839907\n",
      "././genres_2/Cheeze/Calvin_Harris_-_Flashback.mp3\n"
     ]
    },
    {
     "name": "stderr",
     "output_type": "stream",
     "text": [
      "/Users/Andy/opt/anaconda3/lib/python3.7/site-packages/librosa/core/audio.py:161: UserWarning: PySoundFile failed. Trying audioread instead.\n",
      "  warnings.warn('PySoundFile failed. Trying audioread instead.')\n"
     ]
    },
    {
     "name": "stdout",
     "output_type": "stream",
     "text": [
      "././genres_2/Cheeze/Calvin_Harris_-_Flashback.mp3 0.3707873523235321 0.05903223529458046 2545.4297866433644 2527.2085474344694 5289.1742042488395 0.13123436593677495\n",
      "././genres_2/Cheeze/06_Rivers_Of_Babylon_1.m4a\n"
     ]
    },
    {
     "name": "stderr",
     "output_type": "stream",
     "text": [
      "/Users/Andy/opt/anaconda3/lib/python3.7/site-packages/librosa/core/audio.py:161: UserWarning: PySoundFile failed. Trying audioread instead.\n",
      "  warnings.warn('PySoundFile failed. Trying audioread instead.')\n"
     ]
    },
    {
     "name": "stdout",
     "output_type": "stream",
     "text": [
      "././genres_2/Cheeze/06_Rivers_Of_Babylon_1.m4a 0.3382244408130646 0.07284924387931824 2391.3433970247565 2488.914855537648 5170.616684491009 0.11756928835556844\n",
      "././genres_2/Cheeze/Skepta_-_Ladies_Hit_Squad_(ft_D_Double_E_&_A$AP_Nast).mp3\n"
     ]
    },
    {
     "name": "stderr",
     "output_type": "stream",
     "text": [
      "/Users/Andy/opt/anaconda3/lib/python3.7/site-packages/librosa/core/audio.py:161: UserWarning: PySoundFile failed. Trying audioread instead.\n",
      "  warnings.warn('PySoundFile failed. Trying audioread instead.')\n"
     ]
    },
    {
     "name": "stdout",
     "output_type": "stream",
     "text": [
      "././genres_2/Cheeze/Skepta_-_Ladies_Hit_Squad_(ft_D_Double_E_&_A$AP_Nast).mp3 0.47998687624931335 0.17942123115062714 1824.5851894279149 2225.345516716674 3936.5543091103536 0.06455055466937355\n",
      "././genres_2/Cheeze/02_Like_A_G6.mp3\n"
     ]
    },
    {
     "name": "stderr",
     "output_type": "stream",
     "text": [
      "/Users/Andy/opt/anaconda3/lib/python3.7/site-packages/librosa/core/audio.py:161: UserWarning: PySoundFile failed. Trying audioread instead.\n",
      "  warnings.warn('PySoundFile failed. Trying audioread instead.')\n"
     ]
    },
    {
     "name": "stdout",
     "output_type": "stream",
     "text": [
      "././genres_2/Cheeze/02_Like_A_G6.mp3 0.4971616864204407 0.3443267047405243 2357.618179927056 2403.944394838892 4853.41411687935 0.08546621229698376\n",
      "././genres_2/Cheeze/Wankelmut_&_Emma_Louise_-_My_Head_Is_A_Jungle_(MK_Remix).mp3\n"
     ]
    },
    {
     "name": "stderr",
     "output_type": "stream",
     "text": [
      "/Users/Andy/opt/anaconda3/lib/python3.7/site-packages/librosa/core/audio.py:161: UserWarning: PySoundFile failed. Trying audioread instead.\n",
      "  warnings.warn('PySoundFile failed. Trying audioread instead.')\n"
     ]
    },
    {
     "name": "stdout",
     "output_type": "stream",
     "text": [
      "././genres_2/Cheeze/Wankelmut_&_Emma_Louise_-_My_Head_Is_A_Jungle_(MK_Remix).mp3 0.3596683144569397 0.20854029059410095 2595.331687927855 2658.204319356957 5380.40304161833 0.10457375652552205\n",
      "././genres_2/Cheeze/2-10_So_Special.mp3\n"
     ]
    },
    {
     "name": "stderr",
     "output_type": "stream",
     "text": [
      "/Users/Andy/opt/anaconda3/lib/python3.7/site-packages/librosa/core/audio.py:161: UserWarning: PySoundFile failed. Trying audioread instead.\n",
      "  warnings.warn('PySoundFile failed. Trying audioread instead.')\n"
     ]
    },
    {
     "name": "stdout",
     "output_type": "stream",
     "text": [
      "././genres_2/Cheeze/2-10_So_Special.mp3 0.5040785670280457 0.26713067293167114 3210.578160413087 3134.7213358363533 7155.518371157193 0.11224124492459396\n",
      "././genres_2/Cheeze/12_Candy.mp3\n"
     ]
    },
    {
     "name": "stderr",
     "output_type": "stream",
     "text": [
      "/Users/Andy/opt/anaconda3/lib/python3.7/site-packages/librosa/core/audio.py:161: UserWarning: PySoundFile failed. Trying audioread instead.\n",
      "  warnings.warn('PySoundFile failed. Trying audioread instead.')\n"
     ]
    },
    {
     "name": "stdout",
     "output_type": "stream",
     "text": [
      "././genres_2/Cheeze/12_Candy.mp3 0.38951748609542847 0.08152510970830917 2745.435980198168 2617.865014449004 5837.3965659440255 0.13161842009860789\n",
      "././genres_2/Cheeze/18_Rewind_Selector.aif\n",
      "././genres_2/Cheeze/18_Rewind_Selector.aif 0.4100615978240967 0.14547431468963623 2441.2571805282637 2424.5408657088615 5004.845993148202 0.10875870069605569\n",
      "././genres_2/Cheeze/07_Dirtee_Cash.aif\n",
      "././genres_2/Cheeze/07_Dirtee_Cash.aif 0.4527502954006195 0.20609068870544434 3079.089342773502 2575.5729891490805 6067.492081007105 0.1678520609773782\n",
      "././genres_2/Cheeze/02_Pony.mp3\n"
     ]
    },
    {
     "name": "stderr",
     "output_type": "stream",
     "text": [
      "/Users/Andy/opt/anaconda3/lib/python3.7/site-packages/librosa/core/audio.py:161: UserWarning: PySoundFile failed. Trying audioread instead.\n",
      "  warnings.warn('PySoundFile failed. Trying audioread instead.')\n"
     ]
    },
    {
     "name": "stdout",
     "output_type": "stream",
     "text": [
      "././genres_2/Cheeze/02_Pony.mp3 0.45246291160583496 0.18643052875995636 3500.8809827778646 2799.7564408982057 6639.895580318301 0.1673773745649652\n",
      "././genres_2/Cheeze/09_I_Know_There's_Gonna_Be_(Good_Times)_[feat._Young_Thug_&_Popcaan].m4a\n"
     ]
    },
    {
     "name": "stderr",
     "output_type": "stream",
     "text": [
      "/Users/Andy/opt/anaconda3/lib/python3.7/site-packages/librosa/core/audio.py:161: UserWarning: PySoundFile failed. Trying audioread instead.\n",
      "  warnings.warn('PySoundFile failed. Trying audioread instead.')\n"
     ]
    },
    {
     "name": "stdout",
     "output_type": "stream",
     "text": [
      "././genres_2/Cheeze/09_I_Know_There's_Gonna_Be_(Good_Times)_[feat._Young_Thug_&_Popcaan].m4a 0.41320088505744934 0.25229009985923767 1991.9166692680512 2350.762492801913 4478.156834578016 0.06376658570185614\n",
      "././genres_2/Cheeze/Denzel_Curry_-_Threatz.mp3\n"
     ]
    },
    {
     "name": "stderr",
     "output_type": "stream",
     "text": [
      "/Users/Andy/opt/anaconda3/lib/python3.7/site-packages/librosa/core/audio.py:161: UserWarning: PySoundFile failed. Trying audioread instead.\n",
      "  warnings.warn('PySoundFile failed. Trying audioread instead.')\n"
     ]
    },
    {
     "name": "stdout",
     "output_type": "stream",
     "text": [
      "././genres_2/Cheeze/Denzel_Curry_-_Threatz.mp3 0.4652615189552307 0.21972809731960297 2836.838948194042 2640.5213620474547 5841.518350764936 0.08930448810904873\n",
      "././genres_2/Cheeze/Amerie_-_One_Thing_(Polkadot_remix).mp3\n"
     ]
    },
    {
     "name": "stderr",
     "output_type": "stream",
     "text": [
      "/Users/Andy/opt/anaconda3/lib/python3.7/site-packages/librosa/core/audio.py:161: UserWarning: PySoundFile failed. Trying audioread instead.\n",
      "  warnings.warn('PySoundFile failed. Trying audioread instead.')\n"
     ]
    },
    {
     "name": "stdout",
     "output_type": "stream",
     "text": [
      "././genres_2/Cheeze/Amerie_-_One_Thing_(Polkadot_remix).mp3 0.44881799817085266 0.08633975684642792 3010.896282222857 2745.528180399394 6010.786314077001 0.11855491408062645\n",
      "././genres_2/Cheeze/01_Katy_On_A_Mission_(Original_Mix).mp3\n"
     ]
    },
    {
     "name": "stderr",
     "output_type": "stream",
     "text": [
      "/Users/Andy/opt/anaconda3/lib/python3.7/site-packages/librosa/core/audio.py:161: UserWarning: PySoundFile failed. Trying audioread instead.\n",
      "  warnings.warn('PySoundFile failed. Trying audioread instead.')\n"
     ]
    },
    {
     "name": "stdout",
     "output_type": "stream",
     "text": [
      "././genres_2/Cheeze/01_Katy_On_A_Mission_(Original_Mix).mp3 0.27300456166267395 0.26642298698425293 2083.2169833100124 1885.2342772305983 3611.033230314675 0.12006507395591648\n",
      "././genres_2/Cheeze/Paleface_Ft._Kyla_-_Do_You_Mind_(Crazy_Cousinz_Remix).mp3\n"
     ]
    },
    {
     "name": "stderr",
     "output_type": "stream",
     "text": [
      "/Users/Andy/opt/anaconda3/lib/python3.7/site-packages/librosa/core/audio.py:161: UserWarning: PySoundFile failed. Trying audioread instead.\n",
      "  warnings.warn('PySoundFile failed. Trying audioread instead.')\n"
     ]
    },
    {
     "name": "stdout",
     "output_type": "stream",
     "text": [
      "././genres_2/Cheeze/Paleface_Ft._Kyla_-_Do_You_Mind_(Crazy_Cousinz_Remix).mp3 0.40569308400154114 0.285356730222702 3244.0171218446453 2999.540619607799 6901.241718478103 0.14307660237819025\n",
      "././genres_2/Cheeze/01_One_more_time.mp3\n"
     ]
    },
    {
     "name": "stderr",
     "output_type": "stream",
     "text": [
      "/Users/Andy/opt/anaconda3/lib/python3.7/site-packages/librosa/core/audio.py:161: UserWarning: PySoundFile failed. Trying audioread instead.\n",
      "  warnings.warn('PySoundFile failed. Trying audioread instead.')\n"
     ]
    },
    {
     "name": "stdout",
     "output_type": "stream",
     "text": [
      "././genres_2/Cheeze/01_One_more_time.mp3 0.38327085971832275 0.1362905353307724 3340.3699556528572 2979.8816362314624 7176.0023926914155 0.17126663101798145\n",
      "././genres_2/house/01_Death_Disco_(Todd_Terje_Edit).mp3\n"
     ]
    },
    {
     "name": "stderr",
     "output_type": "stream",
     "text": [
      "/Users/Andy/opt/anaconda3/lib/python3.7/site-packages/librosa/core/audio.py:161: UserWarning: PySoundFile failed. Trying audioread instead.\n",
      "  warnings.warn('PySoundFile failed. Trying audioread instead.')\n"
     ]
    },
    {
     "name": "stdout",
     "output_type": "stream",
     "text": [
      "././genres_2/house/01_Death_Disco_(Todd_Terje_Edit).mp3 0.6325412392616272 0.2287265509366989 1830.28172948476 2245.4529185780007 4141.744251649507 0.05900046222447796\n",
      "././genres_2/house/11_Sene_Kela_(Mr_Raoul_K_&_Laolu_Version).m4a\n"
     ]
    },
    {
     "name": "stderr",
     "output_type": "stream",
     "text": [
      "/Users/Andy/opt/anaconda3/lib/python3.7/site-packages/librosa/core/audio.py:161: UserWarning: PySoundFile failed. Trying audioread instead.\n",
      "  warnings.warn('PySoundFile failed. Trying audioread instead.')\n"
     ]
    },
    {
     "name": "stdout",
     "output_type": "stream",
     "text": [
      "././genres_2/house/11_Sene_Kela_(Mr_Raoul_K_&_Laolu_Version).m4a 0.26581600308418274 0.07489074766635895 829.7586928548595 1115.0311637782859 1395.9111260150812 0.03996429089327146\n",
      "././genres_2/house/In_The_Heat_Of_The_Night_(Acid_Mix).mp3\n"
     ]
    },
    {
     "name": "stderr",
     "output_type": "stream",
     "text": [
      "/Users/Andy/opt/anaconda3/lib/python3.7/site-packages/librosa/core/audio.py:161: UserWarning: PySoundFile failed. Trying audioread instead.\n",
      "  warnings.warn('PySoundFile failed. Trying audioread instead.')\n"
     ]
    },
    {
     "name": "stdout",
     "output_type": "stream",
     "text": [
      "././genres_2/house/In_The_Heat_Of_The_Night_(Acid_Mix).mp3 0.4349345266819 0.14054317772388458 2240.9745227694543 2371.6493111736995 4766.38200587297 0.09184445693155452\n",
      "././genres_2/house/Happa_-_Bring_It_Back.mp3\n"
     ]
    },
    {
     "name": "stderr",
     "output_type": "stream",
     "text": [
      "/Users/Andy/opt/anaconda3/lib/python3.7/site-packages/librosa/core/audio.py:161: UserWarning: PySoundFile failed. Trying audioread instead.\n",
      "  warnings.warn('PySoundFile failed. Trying audioread instead.')\n"
     ]
    },
    {
     "name": "stdout",
     "output_type": "stream",
     "text": [
      "././genres_2/house/Happa_-_Bring_It_Back.mp3 0.46834754943847656 0.13492904603481293 2743.2334219347285 2606.0974009785696 5799.97575587297 0.13981270845417634\n",
      "././genres_2/house/01_Tzantza.mp3\n"
     ]
    },
    {
     "name": "stderr",
     "output_type": "stream",
     "text": [
      "/Users/Andy/opt/anaconda3/lib/python3.7/site-packages/librosa/core/audio.py:161: UserWarning: PySoundFile failed. Trying audioread instead.\n",
      "  warnings.warn('PySoundFile failed. Trying audioread instead.')\n"
     ]
    },
    {
     "name": "stdout",
     "output_type": "stream",
     "text": [
      "././genres_2/house/01_Tzantza.mp3 0.5987828373908997 0.24141313135623932 873.5091815250664 1695.2363341722926 1740.0426877900231 0.011904546113689095\n",
      "././genres_2/house/01_Seekwal.mp3\n"
     ]
    },
    {
     "name": "stderr",
     "output_type": "stream",
     "text": [
      "/Users/Andy/opt/anaconda3/lib/python3.7/site-packages/librosa/core/audio.py:161: UserWarning: PySoundFile failed. Trying audioread instead.\n",
      "  warnings.warn('PySoundFile failed. Trying audioread instead.')\n"
     ]
    },
    {
     "name": "stdout",
     "output_type": "stream",
     "text": [
      "././genres_2/house/01_Seekwal.mp3 0.6172774434089661 0.2350711226463318 1517.5898670071667 1954.6284717186493 3249.0156204683876 0.0400322650812065\n",
      "././genres_2/house/04_I_Feel_Love.aif\n",
      "././genres_2/house/04_I_Feel_Love.aif 0.3229607045650482 0.07423890382051468 2812.606283375576 2788.136835180954 6151.851277008411 0.10440835266821345\n",
      "././genres_2/house/Want_You_In_My_Soul.mp3\n"
     ]
    },
    {
     "name": "stderr",
     "output_type": "stream",
     "text": [
      "/Users/Andy/opt/anaconda3/lib/python3.7/site-packages/librosa/core/audio.py:161: UserWarning: PySoundFile failed. Trying audioread instead.\n",
      "  warnings.warn('PySoundFile failed. Trying audioread instead.')\n"
     ]
    },
    {
     "name": "stdout",
     "output_type": "stream",
     "text": [
      "././genres_2/house/Want_You_In_My_Soul.mp3 0.2915816009044647 0.06819095462560654 539.9156042456915 594.1477658938021 874.8425831097737 0.0389662032337587\n",
      "././genres_2/house/01_Clatter.mp3\n"
     ]
    },
    {
     "name": "stderr",
     "output_type": "stream",
     "text": [
      "/Users/Andy/opt/anaconda3/lib/python3.7/site-packages/librosa/core/audio.py:161: UserWarning: PySoundFile failed. Trying audioread instead.\n",
      "  warnings.warn('PySoundFile failed. Trying audioread instead.')\n"
     ]
    },
    {
     "name": "stdout",
     "output_type": "stream",
     "text": [
      "././genres_2/house/01_Clatter.mp3 0.5309939980506897 0.2901800274848938 2196.921791715093 2468.855001142111 4706.503713656468 0.07853624383700696\n",
      "././genres_2/house/03_Bad_Kingdom_(DJ_Koze_Remix).mp3\n"
     ]
    },
    {
     "name": "stderr",
     "output_type": "stream",
     "text": [
      "/Users/Andy/opt/anaconda3/lib/python3.7/site-packages/librosa/core/audio.py:161: UserWarning: PySoundFile failed. Trying audioread instead.\n",
      "  warnings.warn('PySoundFile failed. Trying audioread instead.')\n"
     ]
    },
    {
     "name": "stdout",
     "output_type": "stream",
     "text": [
      "././genres_2/house/03_Bad_Kingdom_(DJ_Koze_Remix).mp3 0.44124990701675415 0.23238427937030792 2758.8917872146735 2612.7992615056805 5513.5242010767115 0.1040843423723898\n",
      "././genres_2/house/02_Sing_It_Back_[Herbert's_Tasteful_Dub].mp3\n"
     ]
    },
    {
     "name": "stderr",
     "output_type": "stream",
     "text": [
      "/Users/Andy/opt/anaconda3/lib/python3.7/site-packages/librosa/core/audio.py:161: UserWarning: PySoundFile failed. Trying audioread instead.\n",
      "  warnings.warn('PySoundFile failed. Trying audioread instead.')\n"
     ]
    },
    {
     "name": "stdout",
     "output_type": "stream",
     "text": [
      "././genres_2/house/02_Sing_It_Back_[Herbert's_Tasteful_Dub].mp3 0.6072372198104858 0.1556723415851593 2397.5444271171423 2301.7492158422897 4711.89950469475 0.1023532663863109\n",
      "././genres_2/house/Logic1000_-_DJ_Logic_-Please_Forgive_Me.mp3\n"
     ]
    },
    {
     "name": "stderr",
     "output_type": "stream",
     "text": [
      "/Users/Andy/opt/anaconda3/lib/python3.7/site-packages/librosa/core/audio.py:161: UserWarning: PySoundFile failed. Trying audioread instead.\n",
      "  warnings.warn('PySoundFile failed. Trying audioread instead.')\n"
     ]
    },
    {
     "name": "stdout",
     "output_type": "stream",
     "text": [
      "././genres_2/house/Logic1000_-_DJ_Logic_-Please_Forgive_Me.mp3 0.4171885550022125 0.16062109172344208 3191.1460821980836 2423.5080162289664 5829.602645555395 0.17938161615429235\n",
      "././genres_2/house/Karizma_-_Work_It_Out_(PoorDownload).mp3\n"
     ]
    },
    {
     "name": "stderr",
     "output_type": "stream",
     "text": [
      "/Users/Andy/opt/anaconda3/lib/python3.7/site-packages/librosa/core/audio.py:161: UserWarning: PySoundFile failed. Trying audioread instead.\n",
      "  warnings.warn('PySoundFile failed. Trying audioread instead.')\n"
     ]
    },
    {
     "name": "stdout",
     "output_type": "stream",
     "text": [
      "././genres_2/house/Karizma_-_Work_It_Out_(PoorDownload).mp3 0.46521955728530884 0.2739664912223816 1507.6510176410834 1794.1396691905034 2996.712428400522 0.06304266060034802\n",
      "././genres_2/house/082._Da_Hool_-_Meet_Her_At_the_Love_Parade.mp3\n"
     ]
    },
    {
     "name": "stderr",
     "output_type": "stream",
     "text": [
      "/Users/Andy/opt/anaconda3/lib/python3.7/site-packages/librosa/core/audio.py:161: UserWarning: PySoundFile failed. Trying audioread instead.\n",
      "  warnings.warn('PySoundFile failed. Trying audioread instead.')\n"
     ]
    },
    {
     "name": "stdout",
     "output_type": "stream",
     "text": [
      "././genres_2/house/082._Da_Hool_-_Meet_Her_At_the_Love_Parade.mp3 0.5098013281822205 0.2203228771686554 912.6777064041522 1564.3792124800173 1846.6345413101799 0.02019399833236659\n",
      "././genres_2/house/02_Celeste.mp3\n"
     ]
    },
    {
     "name": "stderr",
     "output_type": "stream",
     "text": [
      "/Users/Andy/opt/anaconda3/lib/python3.7/site-packages/librosa/core/audio.py:161: UserWarning: PySoundFile failed. Trying audioread instead.\n",
      "  warnings.warn('PySoundFile failed. Trying audioread instead.')\n"
     ]
    },
    {
     "name": "stdout",
     "output_type": "stream",
     "text": [
      "././genres_2/house/02_Celeste.mp3 0.5081785321235657 0.17303651571273804 1061.2958307571573 1808.075868474922 2155.76840287848 0.016218641241299302\n",
      "././genres_2/house/COEO_-_Never_Going_Home.mp3\n"
     ]
    },
    {
     "name": "stderr",
     "output_type": "stream",
     "text": [
      "/Users/Andy/opt/anaconda3/lib/python3.7/site-packages/librosa/core/audio.py:161: UserWarning: PySoundFile failed. Trying audioread instead.\n",
      "  warnings.warn('PySoundFile failed. Trying audioread instead.')\n"
     ]
    },
    {
     "name": "stdout",
     "output_type": "stream",
     "text": [
      "././genres_2/house/COEO_-_Never_Going_Home.mp3 0.5930298566818237 0.2543492615222931 3820.4383385460965 2587.8303189954263 6608.145346940255 0.2457957964762181\n",
      "././genres_2/house/03_Sugar_Is_Sweeter_(Armand_Van_Helden's_Dru.mp3\n"
     ]
    },
    {
     "name": "stderr",
     "output_type": "stream",
     "text": [
      "/Users/Andy/opt/anaconda3/lib/python3.7/site-packages/librosa/core/audio.py:161: UserWarning: PySoundFile failed. Trying audioread instead.\n",
      "  warnings.warn('PySoundFile failed. Trying audioread instead.')\n"
     ]
    },
    {
     "name": "stdout",
     "output_type": "stream",
     "text": [
      "././genres_2/house/03_Sugar_Is_Sweeter_(Armand_Van_Helden's_Dru.mp3 0.653322696685791 0.11661515384912491 4243.334544905391 3137.8046110604637 8300.425291835847 0.25465736477668216\n",
      "././genres_2/house/02_Feel_the_Drive.mp3\n"
     ]
    },
    {
     "name": "stderr",
     "output_type": "stream",
     "text": [
      "/Users/Andy/opt/anaconda3/lib/python3.7/site-packages/librosa/core/audio.py:161: UserWarning: PySoundFile failed. Trying audioread instead.\n",
      "  warnings.warn('PySoundFile failed. Trying audioread instead.')\n"
     ]
    },
    {
     "name": "stdout",
     "output_type": "stream",
     "text": [
      "././genres_2/house/02_Feel_the_Drive.mp3 0.48238620162010193 0.15343321859836578 3124.8346066642584 2959.211279142837 6789.578820602524 0.12761020881670534\n",
      "././genres_2/house/02_Elation_E_(Real_E_State_Edit).mp3\n"
     ]
    },
    {
     "name": "stderr",
     "output_type": "stream",
     "text": [
      "/Users/Andy/opt/anaconda3/lib/python3.7/site-packages/librosa/core/audio.py:161: UserWarning: PySoundFile failed. Trying audioread instead.\n",
      "  warnings.warn('PySoundFile failed. Trying audioread instead.')\n"
     ]
    },
    {
     "name": "stdout",
     "output_type": "stream",
     "text": [
      "././genres_2/house/02_Elation_E_(Real_E_State_Edit).mp3 0.37675362825393677 0.12147165834903717 2239.100568905071 2404.970050535488 4751.968249256815 0.10766771497969838\n",
      "././genres_2/house/26_Mustat_Varjot_(Original_Mix).mp3\n"
     ]
    },
    {
     "name": "stderr",
     "output_type": "stream",
     "text": [
      "/Users/Andy/opt/anaconda3/lib/python3.7/site-packages/librosa/core/audio.py:161: UserWarning: PySoundFile failed. Trying audioread instead.\n",
      "  warnings.warn('PySoundFile failed. Trying audioread instead.')\n"
     ]
    },
    {
     "name": "stdout",
     "output_type": "stream",
     "text": [
      "././genres_2/house/26_Mustat_Varjot_(Original_Mix).mp3 0.4579589068889618 0.25537529587745667 2244.4011240837194 2683.576172332763 5237.139793449101 0.05861754096577726\n",
      "././genres_2/house/04_Dan_Ryan_feat._Jerrald_James_(Original_Mix).aiff\n",
      "././genres_2/house/04_Dan_Ryan_feat._Jerrald_James_(Original_Mix).aiff 0.5945900082588196 0.062026020139455795 5211.3521221369965 2844.144272462036 8411.713482000436 0.37648183729698376\n",
      "././genres_2/house/Jill_Scott__Slowly_Surely_(Theo_Parrish_Remix.mp3\n"
     ]
    },
    {
     "name": "stderr",
     "output_type": "stream",
     "text": [
      "/Users/Andy/opt/anaconda3/lib/python3.7/site-packages/librosa/core/audio.py:161: UserWarning: PySoundFile failed. Trying audioread instead.\n",
      "  warnings.warn('PySoundFile failed. Trying audioread instead.')\n"
     ]
    },
    {
     "name": "stdout",
     "output_type": "stream",
     "text": [
      "././genres_2/house/Jill_Scott__Slowly_Surely_(Theo_Parrish_Remix.mp3 0.28112366795539856 0.07425732910633087 2373.0182340287397 2404.834405155465 4780.620898890661 0.13145188333816704\n",
      "././genres_2/house/01_Body_Funk.mp3\n"
     ]
    },
    {
     "name": "stderr",
     "output_type": "stream",
     "text": [
      "/Users/Andy/opt/anaconda3/lib/python3.7/site-packages/librosa/core/audio.py:161: UserWarning: PySoundFile failed. Trying audioread instead.\n",
      "  warnings.warn('PySoundFile failed. Trying audioread instead.')\n"
     ]
    },
    {
     "name": "stdout",
     "output_type": "stream",
     "text": [
      "././genres_2/house/01_Body_Funk.mp3 0.5313937067985535 0.10704705864191055 4398.669473086731 3168.1862067061707 8377.340294645446 0.3006532319460557\n",
      "././genres_2/house/02_Hotshot_(Special_Request's_Total_Devastat.mp3\n"
     ]
    },
    {
     "name": "stderr",
     "output_type": "stream",
     "text": [
      "/Users/Andy/opt/anaconda3/lib/python3.7/site-packages/librosa/core/audio.py:161: UserWarning: PySoundFile failed. Trying audioread instead.\n",
      "  warnings.warn('PySoundFile failed. Trying audioread instead.')\n"
     ]
    },
    {
     "name": "stdout",
     "output_type": "stream",
     "text": [
      "././genres_2/house/02_Hotshot_(Special_Request's_Total_Devastat.mp3 0.41918155550956726 0.0766950473189354 4187.6827029316 2948.017855896301 7898.2390153712295 0.27284272585556846\n",
      "././genres_2/house/MD_X-Spress_-_God_Made_Me_Phunky_(Original_Mix)_[Full_Length]_2008.mp3\n"
     ]
    },
    {
     "name": "stderr",
     "output_type": "stream",
     "text": [
      "/Users/Andy/opt/anaconda3/lib/python3.7/site-packages/librosa/core/audio.py:161: UserWarning: PySoundFile failed. Trying audioread instead.\n",
      "  warnings.warn('PySoundFile failed. Trying audioread instead.')\n"
     ]
    },
    {
     "name": "stdout",
     "output_type": "stream",
     "text": [
      "././genres_2/house/MD_X-Spress_-_God_Made_Me_Phunky_(Original_Mix)_[Full_Length]_2008.mp3 0.5833886861801147 0.27644041180610657 2829.47658875226 2903.4019245695426 6360.938179741879 0.08035115465487239\n",
      "././genres_2/house/01_Shango_(Daniel_Haaksman_&_DJ_Beware_Remix).mp3\n"
     ]
    },
    {
     "name": "stderr",
     "output_type": "stream",
     "text": [
      "/Users/Andy/opt/anaconda3/lib/python3.7/site-packages/librosa/core/audio.py:161: UserWarning: PySoundFile failed. Trying audioread instead.\n",
      "  warnings.warn('PySoundFile failed. Trying audioread instead.')\n"
     ]
    },
    {
     "name": "stdout",
     "output_type": "stream",
     "text": [
      "././genres_2/house/01_Shango_(Daniel_Haaksman_&_DJ_Beware_Remix).mp3 0.6080181002616882 0.16352489590644836 3229.1306504763847 2969.8061622350892 6975.658669881091 0.15258958997969838\n",
      "././genres_2/house/Zig_Zag__Heaven.mp3\n"
     ]
    },
    {
     "name": "stderr",
     "output_type": "stream",
     "text": [
      "/Users/Andy/opt/anaconda3/lib/python3.7/site-packages/librosa/core/audio.py:161: UserWarning: PySoundFile failed. Trying audioread instead.\n",
      "  warnings.warn('PySoundFile failed. Trying audioread instead.')\n"
     ]
    },
    {
     "name": "stdout",
     "output_type": "stream",
     "text": [
      "././genres_2/house/Zig_Zag__Heaven.mp3 0.3051798641681671 0.1065807119011879 1944.478080098141 2359.9910779785473 4291.927102215052 0.06274017546403712\n",
      "././genres_2/house/SONIKKU_-_Sweat_ft._LIZ_(SOPHIE_Remix)_[Official_Audio].mp3\n"
     ]
    },
    {
     "name": "stderr",
     "output_type": "stream",
     "text": [
      "/Users/Andy/opt/anaconda3/lib/python3.7/site-packages/librosa/core/audio.py:161: UserWarning: PySoundFile failed. Trying audioread instead.\n",
      "  warnings.warn('PySoundFile failed. Trying audioread instead.')\n"
     ]
    },
    {
     "name": "stdout",
     "output_type": "stream",
     "text": [
      "././genres_2/house/SONIKKU_-_Sweat_ft._LIZ_(SOPHIE_Remix)_[Official_Audio].mp3 0.5198197364807129 0.2233046442270279 2580.174610082002 2960.6495909021924 6419.1677580300175 0.07521797056264501\n",
      "././genres_2/house/Auntie_Flo_feat._Anbuley_-_Dance_Ritual_II.mp3\n"
     ]
    },
    {
     "name": "stderr",
     "output_type": "stream",
     "text": [
      "/Users/Andy/opt/anaconda3/lib/python3.7/site-packages/librosa/core/audio.py:161: UserWarning: PySoundFile failed. Trying audioread instead.\n",
      "  warnings.warn('PySoundFile failed. Trying audioread instead.')\n"
     ]
    },
    {
     "name": "stdout",
     "output_type": "stream",
     "text": [
      "././genres_2/house/Auntie_Flo_feat._Anbuley_-_Dance_Ritual_II.mp3 0.4449782967567444 0.03895432502031326 1500.1012715129377 1848.4177016154056 2940.9809015189967 0.06391046439965198\n",
      "././genres_2/house/01_Sine_Language.mp3\n"
     ]
    },
    {
     "name": "stderr",
     "output_type": "stream",
     "text": [
      "/Users/Andy/opt/anaconda3/lib/python3.7/site-packages/librosa/core/audio.py:161: UserWarning: PySoundFile failed. Trying audioread instead.\n",
      "  warnings.warn('PySoundFile failed. Trying audioread instead.')\n"
     ]
    },
    {
     "name": "stdout",
     "output_type": "stream",
     "text": [
      "././genres_2/house/01_Sine_Language.mp3 0.4819565415382385 0.23874478042125702 4162.990351053614 2976.291168513917 7502.7724971904 0.21290988435324826\n",
      "././genres_2/house/1-05_Punk_Navsegda.mp3\n"
     ]
    },
    {
     "name": "stderr",
     "output_type": "stream",
     "text": [
      "/Users/Andy/opt/anaconda3/lib/python3.7/site-packages/librosa/core/audio.py:161: UserWarning: PySoundFile failed. Trying audioread instead.\n",
      "  warnings.warn('PySoundFile failed. Trying audioread instead.')\n"
     ]
    },
    {
     "name": "stdout",
     "output_type": "stream",
     "text": [
      "././genres_2/house/1-05_Punk_Navsegda.mp3 0.5043955445289612 0.2797127068042755 2195.201130262657 2713.137488772061 5100.946030760586 0.05661116951856149\n",
      "././genres_2/house/01_We_Magnify_His_Name_Original_Mix.wav\n",
      "././genres_2/house/01_We_Magnify_His_Name_Original_Mix.wav 0.5896557569503784 0.2897476851940155 2335.6936846532744 2828.4882124765363 5789.708764591793 0.0588781086861949\n",
      "././genres_2/house/14_Tummy_Tummy_(Auntie_Flo_Remix).mp3\n"
     ]
    },
    {
     "name": "stderr",
     "output_type": "stream",
     "text": [
      "/Users/Andy/opt/anaconda3/lib/python3.7/site-packages/librosa/core/audio.py:161: UserWarning: PySoundFile failed. Trying audioread instead.\n",
      "  warnings.warn('PySoundFile failed. Trying audioread instead.')\n"
     ]
    },
    {
     "name": "stdout",
     "output_type": "stream",
     "text": [
      "././genres_2/house/14_Tummy_Tummy_(Auntie_Flo_Remix).mp3 0.5782902240753174 0.3091239929199219 3578.0117201185603 2637.4817144871927 6333.759380437935 0.13833880147911834\n",
      "././genres_2/house/TOSS_PORTAL_-_GR_Etiquette_('09_mix).wav\n",
      "././genres_2/house/TOSS_PORTAL_-_GR_Etiquette_('09_mix).wav 0.513211727142334 0.24559064209461212 2232.3031799762875 2255.8509694785107 4435.639999637471 0.0709888431699536\n",
      "././genres_2/house/02_Ngoni.mp3\n"
     ]
    },
    {
     "name": "stderr",
     "output_type": "stream",
     "text": [
      "/Users/Andy/opt/anaconda3/lib/python3.7/site-packages/librosa/core/audio.py:161: UserWarning: PySoundFile failed. Trying audioread instead.\n",
      "  warnings.warn('PySoundFile failed. Trying audioread instead.')\n"
     ]
    },
    {
     "name": "stdout",
     "output_type": "stream",
     "text": [
      "././genres_2/house/02_Ngoni.mp3 0.3951372504234314 0.1695760190486908 1624.3095293181793 1885.742690873515 3270.6987066777842 0.0674655144286543\n",
      "././genres_2/house/03_Miura.mp3\n"
     ]
    },
    {
     "name": "stderr",
     "output_type": "stream",
     "text": [
      "/Users/Andy/opt/anaconda3/lib/python3.7/site-packages/librosa/core/audio.py:161: UserWarning: PySoundFile failed. Trying audioread instead.\n",
      "  warnings.warn('PySoundFile failed. Trying audioread instead.')\n"
     ]
    },
    {
     "name": "stdout",
     "output_type": "stream",
     "text": [
      "././genres_2/house/03_Miura.mp3 0.5229020118713379 0.18296049535274506 2125.352005792791 2249.5546668345755 4328.973204575116 0.0935642038863109\n",
      "././genres_2/house/03_A_Lil_Tribute_To_The_Moody_Black_Keys.mp3\n"
     ]
    },
    {
     "name": "stderr",
     "output_type": "stream",
     "text": [
      "/Users/Andy/opt/anaconda3/lib/python3.7/site-packages/librosa/core/audio.py:161: UserWarning: PySoundFile failed. Trying audioread instead.\n",
      "  warnings.warn('PySoundFile failed. Trying audioread instead.')\n"
     ]
    },
    {
     "name": "stdout",
     "output_type": "stream",
     "text": [
      "././genres_2/house/03_A_Lil_Tribute_To_The_Moody_Black_Keys.mp3 0.41773635149002075 0.0746394693851471 1377.5857657433748 1271.458446652467 2725.124279473608 0.08871197977088167\n",
      "././genres_2/house/rampa-mascha.mp3\n"
     ]
    },
    {
     "name": "stderr",
     "output_type": "stream",
     "text": [
      "/Users/Andy/opt/anaconda3/lib/python3.7/site-packages/librosa/core/audio.py:161: UserWarning: PySoundFile failed. Trying audioread instead.\n",
      "  warnings.warn('PySoundFile failed. Trying audioread instead.')\n"
     ]
    },
    {
     "name": "stdout",
     "output_type": "stream",
     "text": [
      "././genres_2/house/rampa-mascha.mp3 0.49174198508262634 0.2724904716014862 1183.8911349924197 1761.1202969911474 2120.620819587442 0.042142863616589324\n",
      "././genres_2/Dark/Happa_-_Bring_It_Back.mp3\n"
     ]
    },
    {
     "name": "stderr",
     "output_type": "stream",
     "text": [
      "/Users/Andy/opt/anaconda3/lib/python3.7/site-packages/librosa/core/audio.py:161: UserWarning: PySoundFile failed. Trying audioread instead.\n",
      "  warnings.warn('PySoundFile failed. Trying audioread instead.')\n"
     ]
    },
    {
     "name": "stdout",
     "output_type": "stream",
     "text": [
      "././genres_2/Dark/Happa_-_Bring_It_Back.mp3 0.46834754943847656 0.13492904603481293 2743.2334219347285 2606.0974009785696 5799.97575587297 0.13981270845417634\n",
      "././genres_2/Dark/02_Hotshot_(Special_Request's_Total_Devastat.mp3\n"
     ]
    },
    {
     "name": "stderr",
     "output_type": "stream",
     "text": [
      "/Users/Andy/opt/anaconda3/lib/python3.7/site-packages/librosa/core/audio.py:161: UserWarning: PySoundFile failed. Trying audioread instead.\n",
      "  warnings.warn('PySoundFile failed. Trying audioread instead.')\n"
     ]
    },
    {
     "name": "stdout",
     "output_type": "stream",
     "text": [
      "././genres_2/Dark/02_Hotshot_(Special_Request's_Total_Devastat.mp3 0.41918155550956726 0.0766950473189354 4187.6827029316 2948.017855896301 7898.2390153712295 0.27284272585556846\n",
      "././genres_2/Dark/TOSS_PORTAL_-_GR_Etiquette_('09_mix).wav\n",
      "././genres_2/Dark/TOSS_PORTAL_-_GR_Etiquette_('09_mix).wav 0.513211727142334 0.24559064209461212 2232.3031799762875 2255.8509694785107 4435.639999637471 0.0709888431699536\n",
      "././genres_2/Dark/Mak_&_Pasteman_-_Jimmy_Kendricks_(1).mp3\n"
     ]
    },
    {
     "name": "stderr",
     "output_type": "stream",
     "text": [
      "/Users/Andy/opt/anaconda3/lib/python3.7/site-packages/librosa/core/audio.py:161: UserWarning: PySoundFile failed. Trying audioread instead.\n",
      "  warnings.warn('PySoundFile failed. Trying audioread instead.')\n"
     ]
    },
    {
     "name": "stdout",
     "output_type": "stream",
     "text": [
      "././genres_2/Dark/Mak_&_Pasteman_-_Jimmy_Kendricks_(1).mp3 0.5447124242782593 0.1617012768983841 2693.1034327944353 2657.240224438034 5189.127245414008 0.1341232689240139\n",
      "././genres_2/Murlo/01_Midnight_Marauder.mp3\n"
     ]
    },
    {
     "name": "stderr",
     "output_type": "stream",
     "text": [
      "/Users/Andy/opt/anaconda3/lib/python3.7/site-packages/librosa/core/audio.py:161: UserWarning: PySoundFile failed. Trying audioread instead.\n",
      "  warnings.warn('PySoundFile failed. Trying audioread instead.')\n"
     ]
    },
    {
     "name": "stdout",
     "output_type": "stream",
     "text": [
      "././genres_2/Murlo/01_Midnight_Marauder.mp3 0.48137304186820984 0.3217664361000061 2391.2481343049035 2682.808621303535 5365.63955780525 0.04435089182134571\n",
      "././genres_2/Murlo/1-03_Inta.mp3\n"
     ]
    },
    {
     "name": "stderr",
     "output_type": "stream",
     "text": [
      "/Users/Andy/opt/anaconda3/lib/python3.7/site-packages/librosa/core/audio.py:161: UserWarning: PySoundFile failed. Trying audioread instead.\n",
      "  warnings.warn('PySoundFile failed. Trying audioread instead.')\n"
     ]
    },
    {
     "name": "stdout",
     "output_type": "stream",
     "text": [
      "././genres_2/Murlo/1-03_Inta.mp3 0.5629956722259521 0.3392612338066101 2458.933759877806 2586.4441362426955 5407.007289098753 0.08002374564965198\n",
      "././genres_2/Murlo/Friendly_Pressure_(Into_The_Sunshine_Mix).mp3\n"
     ]
    },
    {
     "name": "stderr",
     "output_type": "stream",
     "text": [
      "/Users/Andy/opt/anaconda3/lib/python3.7/site-packages/librosa/core/audio.py:161: UserWarning: PySoundFile failed. Trying audioread instead.\n",
      "  warnings.warn('PySoundFile failed. Trying audioread instead.')\n"
     ]
    },
    {
     "name": "stdout",
     "output_type": "stream",
     "text": [
      "././genres_2/Murlo/Friendly_Pressure_(Into_The_Sunshine_Mix).mp3 0.34366661310195923 0.29228103160858154 2321.461196262443 2651.3253210109065 5203.266216375435 0.08376345888921113\n",
      "././genres_2/Murlo/01_Ready_Set_Loop.mp3\n"
     ]
    },
    {
     "name": "stderr",
     "output_type": "stream",
     "text": [
      "/Users/Andy/opt/anaconda3/lib/python3.7/site-packages/librosa/core/audio.py:161: UserWarning: PySoundFile failed. Trying audioread instead.\n",
      "  warnings.warn('PySoundFile failed. Trying audioread instead.')\n"
     ]
    },
    {
     "name": "stdout",
     "output_type": "stream",
     "text": [
      "././genres_2/Murlo/01_Ready_Set_Loop.mp3 0.5213884711265564 0.14868620038032532 2816.9402762795344 3079.8544058112375 6831.421181663283 0.0868313605713457\n",
      "././genres_2/Murlo/12_Living_Like_I_Do_(feat._Sampha)_[Bonus_Track].m4a\n"
     ]
    },
    {
     "name": "stderr",
     "output_type": "stream",
     "text": [
      "/Users/Andy/opt/anaconda3/lib/python3.7/site-packages/librosa/core/audio.py:161: UserWarning: PySoundFile failed. Trying audioread instead.\n",
      "  warnings.warn('PySoundFile failed. Trying audioread instead.')\n"
     ]
    },
    {
     "name": "stdout",
     "output_type": "stream",
     "text": [
      "././genres_2/Murlo/12_Living_Like_I_Do_(feat._Sampha)_[Bonus_Track].m4a 0.5180773138999939 0.26746439933776855 2790.4952971622197 2953.6683747247775 6132.691222719693 0.07976091212296983\n",
      "././genres_2/Murlo/Glass_Animals-Gooey_(Gilligan_Moss_Remix)_(www.myfreemp3.cc).mp3\n"
     ]
    },
    {
     "name": "stderr",
     "output_type": "stream",
     "text": [
      "/Users/Andy/opt/anaconda3/lib/python3.7/site-packages/librosa/core/audio.py:161: UserWarning: PySoundFile failed. Trying audioread instead.\n",
      "  warnings.warn('PySoundFile failed. Trying audioread instead.')\n"
     ]
    },
    {
     "name": "stdout",
     "output_type": "stream",
     "text": [
      "././genres_2/Murlo/Glass_Animals-Gooey_(Gilligan_Moss_Remix)_(www.myfreemp3.cc).mp3 0.2815873324871063 0.13047057390213013 2276.0379921526246 1939.6283867429129 3988.3389147694315 0.14110081931554525\n",
      "././genres_2/Murlo/Nighmares_on_wax-_da_feelin.mp3\n"
     ]
    },
    {
     "name": "stderr",
     "output_type": "stream",
     "text": [
      "/Users/Andy/opt/anaconda3/lib/python3.7/site-packages/librosa/core/audio.py:161: UserWarning: PySoundFile failed. Trying audioread instead.\n",
      "  warnings.warn('PySoundFile failed. Trying audioread instead.')\n"
     ]
    },
    {
     "name": "stdout",
     "output_type": "stream",
     "text": [
      "././genres_2/Murlo/Nighmares_on_wax-_da_feelin.mp3 0.3949325680732727 0.1606326550245285 1922.0383557738303 2564.9913656223844 4748.820704484484 0.06156308910962877\n",
      "././genres_2/Murlo/Teedra_Moses_-_Be_Your_Girl_(Kaytranada_Edition).mp3\n"
     ]
    },
    {
     "name": "stderr",
     "output_type": "stream",
     "text": [
      "/Users/Andy/opt/anaconda3/lib/python3.7/site-packages/librosa/core/audio.py:161: UserWarning: PySoundFile failed. Trying audioread instead.\n",
      "  warnings.warn('PySoundFile failed. Trying audioread instead.')\n"
     ]
    },
    {
     "name": "stdout",
     "output_type": "stream",
     "text": [
      "././genres_2/Murlo/Teedra_Moses_-_Be_Your_Girl_(Kaytranada_Edition).mp3 0.45515191555023193 0.21725890040397644 1681.7240367669897 2079.191380188078 3311.4169446055685 0.06778499311194895\n",
      "././genres_2/Murlo/01_Screamer_(feat._Riko_Dan).mp3\n"
     ]
    },
    {
     "name": "stderr",
     "output_type": "stream",
     "text": [
      "/Users/Andy/opt/anaconda3/lib/python3.7/site-packages/librosa/core/audio.py:161: UserWarning: PySoundFile failed. Trying audioread instead.\n",
      "  warnings.warn('PySoundFile failed. Trying audioread instead.')\n"
     ]
    },
    {
     "name": "stdout",
     "output_type": "stream",
     "text": [
      "././genres_2/Murlo/01_Screamer_(feat._Riko_Dan).mp3 0.5196019411087036 0.11292845755815506 1642.0800343478131 1768.7886961117747 3021.3681957837875 0.08556817357888631\n",
      "././genres_2/Murlo/1.1_-_Champion_-_Lighter_VIP.mp3\n"
     ]
    },
    {
     "name": "stderr",
     "output_type": "stream",
     "text": [
      "/Users/Andy/opt/anaconda3/lib/python3.7/site-packages/librosa/core/audio.py:161: UserWarning: PySoundFile failed. Trying audioread instead.\n",
      "  warnings.warn('PySoundFile failed. Trying audioread instead.')\n"
     ]
    },
    {
     "name": "stdout",
     "output_type": "stream",
     "text": [
      "././genres_2/Murlo/1.1_-_Champion_-_Lighter_VIP.mp3 0.3793557286262512 0.12146346271038055 2792.36460672446 2811.6286264828486 6112.856694551189 0.11725094257540604\n",
      "././genres_2/Murlo/01_Seekwal.mp3\n"
     ]
    },
    {
     "name": "stderr",
     "output_type": "stream",
     "text": [
      "/Users/Andy/opt/anaconda3/lib/python3.7/site-packages/librosa/core/audio.py:161: UserWarning: PySoundFile failed. Trying audioread instead.\n",
      "  warnings.warn('PySoundFile failed. Trying audioread instead.')\n"
     ]
    },
    {
     "name": "stdout",
     "output_type": "stream",
     "text": [
      "././genres_2/Murlo/01_Seekwal.mp3 0.6172774434089661 0.2350711226463318 1517.5898670071667 1954.6284717186493 3249.0156204683876 0.0400322650812065\n",
      "././genres_2/Murlo/The_Bends.mp3\n"
     ]
    },
    {
     "name": "stderr",
     "output_type": "stream",
     "text": [
      "/Users/Andy/opt/anaconda3/lib/python3.7/site-packages/librosa/core/audio.py:161: UserWarning: PySoundFile failed. Trying audioread instead.\n",
      "  warnings.warn('PySoundFile failed. Trying audioread instead.')\n"
     ]
    },
    {
     "name": "stdout",
     "output_type": "stream",
     "text": [
      "././genres_2/Murlo/The_Bends.mp3 0.573379635810852 0.2486807405948639 761.5957996016612 1183.070031837891 1429.1102292089618 0.023664080626450115\n",
      "././genres_2/Murlo/04_LOVE_OF_MY_LIFE_Remix.mp3\n"
     ]
    },
    {
     "name": "stderr",
     "output_type": "stream",
     "text": [
      "/Users/Andy/opt/anaconda3/lib/python3.7/site-packages/librosa/core/audio.py:161: UserWarning: PySoundFile failed. Trying audioread instead.\n",
      "  warnings.warn('PySoundFile failed. Trying audioread instead.')\n"
     ]
    },
    {
     "name": "stdout",
     "output_type": "stream",
     "text": [
      "././genres_2/Murlo/04_LOVE_OF_MY_LIFE_Remix.mp3 0.4572761356830597 0.2789222300052643 2264.0935472289157 2496.886240803854 4820.814546023057 0.09117604408352668\n",
      "././genres_2/Murlo/03_Dare_You_(Feat._Tirzah).mp3\n"
     ]
    },
    {
     "name": "stderr",
     "output_type": "stream",
     "text": [
      "/Users/Andy/opt/anaconda3/lib/python3.7/site-packages/librosa/core/audio.py:161: UserWarning: PySoundFile failed. Trying audioread instead.\n",
      "  warnings.warn('PySoundFile failed. Trying audioread instead.')\n"
     ]
    },
    {
     "name": "stdout",
     "output_type": "stream",
     "text": [
      "././genres_2/Murlo/03_Dare_You_(Feat._Tirzah).mp3 0.5996922850608826 0.28314000368118286 2478.4081967280413 2489.9431341269815 5330.292130401682 0.13528676044083526\n",
      "././genres_2/Murlo/01_Look_At_Stars.mp3\n"
     ]
    },
    {
     "name": "stderr",
     "output_type": "stream",
     "text": [
      "/Users/Andy/opt/anaconda3/lib/python3.7/site-packages/librosa/core/audio.py:161: UserWarning: PySoundFile failed. Trying audioread instead.\n",
      "  warnings.warn('PySoundFile failed. Trying audioread instead.')\n"
     ]
    },
    {
     "name": "stdout",
     "output_type": "stream",
     "text": [
      "././genres_2/Murlo/01_Look_At_Stars.mp3 0.38195815682411194 0.21520687639713287 1886.3413005322616 2465.642839180842 4427.546313080046 0.05975044409802784\n",
      "././genres_2/Murlo/Holdin_On_(Kaytranada_Edit).mp3\n"
     ]
    },
    {
     "name": "stderr",
     "output_type": "stream",
     "text": [
      "/Users/Andy/opt/anaconda3/lib/python3.7/site-packages/librosa/core/audio.py:161: UserWarning: PySoundFile failed. Trying audioread instead.\n",
      "  warnings.warn('PySoundFile failed. Trying audioread instead.')\n"
     ]
    },
    {
     "name": "stdout",
     "output_type": "stream",
     "text": [
      "././genres_2/Murlo/Holdin_On_(Kaytranada_Edit).mp3 0.5000963807106018 0.1414678692817688 2430.080751439732 2562.5552098784315 5346.629386600928 0.10155910129060325\n",
      "././genres_2/Murlo/26_Rip_Groove_(Feat._Top_Cat).mp3\n"
     ]
    },
    {
     "name": "stderr",
     "output_type": "stream",
     "text": [
      "/Users/Andy/opt/anaconda3/lib/python3.7/site-packages/librosa/core/audio.py:161: UserWarning: PySoundFile failed. Trying audioread instead.\n",
      "  warnings.warn('PySoundFile failed. Trying audioread instead.')\n"
     ]
    },
    {
     "name": "stdout",
     "output_type": "stream",
     "text": [
      "././genres_2/Murlo/26_Rip_Groove_(Feat._Top_Cat).mp3 0.5459831953048706 0.31306830048561096 3013.1068327249363 2655.08150900784 6047.657552838602 0.13281589870939675\n",
      "././genres_2/Murlo/03_Colonise.mp3\n"
     ]
    },
    {
     "name": "stderr",
     "output_type": "stream",
     "text": [
      "/Users/Andy/opt/anaconda3/lib/python3.7/site-packages/librosa/core/audio.py:161: UserWarning: PySoundFile failed. Trying audioread instead.\n",
      "  warnings.warn('PySoundFile failed. Trying audioread instead.')\n"
     ]
    },
    {
     "name": "stdout",
     "output_type": "stream",
     "text": [
      "././genres_2/Murlo/03_Colonise.mp3 0.46579232811927795 0.2585618495941162 1595.566423364386 2204.1373097859464 3467.045547237529 0.02831917959686775\n",
      "././genres_2/Murlo/15_Hydra.mp3\n"
     ]
    },
    {
     "name": "stderr",
     "output_type": "stream",
     "text": [
      "/Users/Andy/opt/anaconda3/lib/python3.7/site-packages/librosa/core/audio.py:161: UserWarning: PySoundFile failed. Trying audioread instead.\n",
      "  warnings.warn('PySoundFile failed. Trying audioread instead.')\n"
     ]
    },
    {
     "name": "stdout",
     "output_type": "stream",
     "text": [
      "././genres_2/Murlo/15_Hydra.mp3 0.5078062415122986 0.25418752431869507 2335.457703221619 2427.9159747230815 4999.749968278712 0.10337627791473318\n",
      "././genres_2/Murlo/aj_tracey_-_spirit_bomb_-_zomby_'eski_bomb'_remix.mp3\n"
     ]
    },
    {
     "name": "stderr",
     "output_type": "stream",
     "text": [
      "/Users/Andy/opt/anaconda3/lib/python3.7/site-packages/librosa/core/audio.py:161: UserWarning: PySoundFile failed. Trying audioread instead.\n",
      "  warnings.warn('PySoundFile failed. Trying audioread instead.')\n"
     ]
    },
    {
     "name": "stdout",
     "output_type": "stream",
     "text": [
      "././genres_2/Murlo/aj_tracey_-_spirit_bomb_-_zomby_'eski_bomb'_remix.mp3 0.49952664971351624 0.23316024243831635 2670.2453124395447 2506.2809076925487 5479.925409657772 0.09826461898201856\n",
      "././genres_2/Murlo/Artful_Dodger_-_Moving_Too_Fast.mp3\n"
     ]
    },
    {
     "name": "stderr",
     "output_type": "stream",
     "text": [
      "/Users/Andy/opt/anaconda3/lib/python3.7/site-packages/librosa/core/audio.py:161: UserWarning: PySoundFile failed. Trying audioread instead.\n",
      "  warnings.warn('PySoundFile failed. Trying audioread instead.')\n"
     ]
    },
    {
     "name": "stdout",
     "output_type": "stream",
     "text": [
      "././genres_2/Murlo/Artful_Dodger_-_Moving_Too_Fast.mp3 0.46646201610565186 0.07317911088466644 1888.972394547123 2522.621550034336 4577.67920261746 0.05074613000290023\n",
      "././genres_2/Murlo/Shosho.mp3\n"
     ]
    },
    {
     "name": "stderr",
     "output_type": "stream",
     "text": [
      "/Users/Andy/opt/anaconda3/lib/python3.7/site-packages/librosa/core/audio.py:161: UserWarning: PySoundFile failed. Trying audioread instead.\n",
      "  warnings.warn('PySoundFile failed. Trying audioread instead.')\n"
     ]
    },
    {
     "name": "stdout",
     "output_type": "stream",
     "text": [
      "././genres_2/Murlo/Shosho.mp3 0.43319424986839294 0.16511762142181396 2373.883239905538 2641.9577787806174 5321.523969964473 0.09408194061774942\n",
      "././genres_2/Murlo/13_-_Bad_Girl_(Lil_Silva_Dub)__-_Fugative.aiff\n",
      "././genres_2/Murlo/13_-_Bad_Girl_(Lil_Silva_Dub)__-_Fugative.aiff 0.528347909450531 0.23353710770606995 2163.9639178284206 2247.580412491726 4417.379243855134 0.09965922273781902\n",
      "././genres_2/Murlo/Bondax_-_All_I_See_(Official_Video).mp3\n"
     ]
    },
    {
     "name": "stderr",
     "output_type": "stream",
     "text": [
      "/Users/Andy/opt/anaconda3/lib/python3.7/site-packages/librosa/core/audio.py:161: UserWarning: PySoundFile failed. Trying audioread instead.\n",
      "  warnings.warn('PySoundFile failed. Trying audioread instead.')\n"
     ]
    },
    {
     "name": "stdout",
     "output_type": "stream",
     "text": [
      "././genres_2/Murlo/Bondax_-_All_I_See_(Official_Video).mp3 0.36131566762924194 0.1873778998851776 2848.9933574056004 2507.5927389420726 5553.6678871809745 0.1560528748549884\n",
      "././genres_2/Murlo/03_Wildfire.mp3\n"
     ]
    },
    {
     "name": "stderr",
     "output_type": "stream",
     "text": [
      "/Users/Andy/opt/anaconda3/lib/python3.7/site-packages/librosa/core/audio.py:161: UserWarning: PySoundFile failed. Trying audioread instead.\n",
      "  warnings.warn('PySoundFile failed. Trying audioread instead.')\n"
     ]
    },
    {
     "name": "stdout",
     "output_type": "stream",
     "text": [
      "././genres_2/Murlo/03_Wildfire.mp3 0.3719460070133209 0.25710126757621765 2437.693711711543 2631.880700715121 5378.904210774362 0.08489296331206496\n",
      "././genres_2/Murlo/11_Go_Bang.mp3\n"
     ]
    },
    {
     "name": "stderr",
     "output_type": "stream",
     "text": [
      "/Users/Andy/opt/anaconda3/lib/python3.7/site-packages/librosa/core/audio.py:161: UserWarning: PySoundFile failed. Trying audioread instead.\n",
      "  warnings.warn('PySoundFile failed. Trying audioread instead.')\n"
     ]
    },
    {
     "name": "stdout",
     "output_type": "stream",
     "text": [
      "././genres_2/Murlo/11_Go_Bang.mp3 0.3849698603153229 0.1617535799741745 785.8906434740209 1371.7548066763852 1522.1126830771461 0.015981864486658934\n",
      "././genres_2/Murlo/Neighbourhood_09_-_Roska_Remix.mp3\n"
     ]
    },
    {
     "name": "stderr",
     "output_type": "stream",
     "text": [
      "/Users/Andy/opt/anaconda3/lib/python3.7/site-packages/librosa/core/audio.py:161: UserWarning: PySoundFile failed. Trying audioread instead.\n",
      "  warnings.warn('PySoundFile failed. Trying audioread instead.')\n"
     ]
    },
    {
     "name": "stdout",
     "output_type": "stream",
     "text": [
      "././genres_2/Murlo/Neighbourhood_09_-_Roska_Remix.mp3 0.4463748335838318 0.18587014079093933 2546.8114805031814 2378.103904868733 5063.4502791473315 0.1461796240574246\n",
      "././genres_2/Murlo/Meleka_-_Go__Crazy_Cousins_Remix_.mp3\n"
     ]
    },
    {
     "name": "stderr",
     "output_type": "stream",
     "text": [
      "/Users/Andy/opt/anaconda3/lib/python3.7/site-packages/librosa/core/audio.py:161: UserWarning: PySoundFile failed. Trying audioread instead.\n",
      "  warnings.warn('PySoundFile failed. Trying audioread instead.')\n"
     ]
    },
    {
     "name": "stdout",
     "output_type": "stream",
     "text": [
      "././genres_2/Murlo/Meleka_-_Go__Crazy_Cousins_Remix_.mp3 0.42827099561691284 0.2431083619594574 3014.720439772435 2929.998413713667 6422.615068971143 0.1271502501450116\n",
      "././genres_2/Murlo/Atm_Jam_featuring_Pharrell_(Kaytranada_Edition).mp3\n"
     ]
    },
    {
     "name": "stderr",
     "output_type": "stream",
     "text": [
      "/Users/Andy/opt/anaconda3/lib/python3.7/site-packages/librosa/core/audio.py:161: UserWarning: PySoundFile failed. Trying audioread instead.\n",
      "  warnings.warn('PySoundFile failed. Trying audioread instead.')\n"
     ]
    },
    {
     "name": "stdout",
     "output_type": "stream",
     "text": [
      "././genres_2/Murlo/Atm_Jam_featuring_Pharrell_(Kaytranada_Edition).mp3 0.418880820274353 0.1593465954065323 1842.598777454793 2157.6837370371595 3343.0172948992167 0.0851580626450116\n",
      "././genres_2/Murlo/ODESZA_-_Say_My_Name_(feat._Zyra).mp3\n"
     ]
    },
    {
     "name": "stderr",
     "output_type": "stream",
     "text": [
      "/Users/Andy/opt/anaconda3/lib/python3.7/site-packages/librosa/core/audio.py:161: UserWarning: PySoundFile failed. Trying audioread instead.\n",
      "  warnings.warn('PySoundFile failed. Trying audioread instead.')\n"
     ]
    },
    {
     "name": "stdout",
     "output_type": "stream",
     "text": [
      "././genres_2/Murlo/ODESZA_-_Say_My_Name_(feat._Zyra).mp3 0.4224604666233063 0.2638719081878662 1364.1125272503873 1841.0324960624691 2873.4086109701275 0.04791047346287703\n",
      "././genres_2/Murlo/05_Body_Groove_(feat._Nana)_[Mix_MC_Version].mp3\n"
     ]
    },
    {
     "name": "stderr",
     "output_type": "stream",
     "text": [
      "/Users/Andy/opt/anaconda3/lib/python3.7/site-packages/librosa/core/audio.py:161: UserWarning: PySoundFile failed. Trying audioread instead.\n",
      "  warnings.warn('PySoundFile failed. Trying audioread instead.')\n"
     ]
    },
    {
     "name": "stdout",
     "output_type": "stream",
     "text": [
      "././genres_2/Murlo/05_Body_Groove_(feat._Nana)_[Mix_MC_Version].mp3 0.4374133348464966 0.14829199016094208 2990.6853990236714 2608.5081377106635 5973.9150753154 0.15815214435904873\n",
      "././genres_2/Murlo/03_Sugar_Is_Sweeter_(Armand_Van_Helden's_Dru.mp3\n"
     ]
    },
    {
     "name": "stderr",
     "output_type": "stream",
     "text": [
      "/Users/Andy/opt/anaconda3/lib/python3.7/site-packages/librosa/core/audio.py:161: UserWarning: PySoundFile failed. Trying audioread instead.\n",
      "  warnings.warn('PySoundFile failed. Trying audioread instead.')\n"
     ]
    },
    {
     "name": "stdout",
     "output_type": "stream",
     "text": [
      "././genres_2/Murlo/03_Sugar_Is_Sweeter_(Armand_Van_Helden's_Dru.mp3 0.653322696685791 0.11661515384912491 4243.334544905391 3137.8046110604637 8300.425291835847 0.25465736477668216\n",
      "././genres_2/Murlo/11_Love_Junkee_(J_Dilla_Remix).mp3\n"
     ]
    },
    {
     "name": "stderr",
     "output_type": "stream",
     "text": [
      "/Users/Andy/opt/anaconda3/lib/python3.7/site-packages/librosa/core/audio.py:161: UserWarning: PySoundFile failed. Trying audioread instead.\n",
      "  warnings.warn('PySoundFile failed. Trying audioread instead.')\n"
     ]
    },
    {
     "name": "stdout",
     "output_type": "stream",
     "text": [
      "././genres_2/Murlo/11_Love_Junkee_(J_Dilla_Remix).mp3 0.3980610966682434 0.16141937673091888 2175.172363622026 2022.953943522055 4043.645772911833 0.11071749021171694\n",
      "././genres_2/Murlo/23_-_AJ_Tracey_-_Ladbroke_Grove.mp3\n"
     ]
    },
    {
     "name": "stderr",
     "output_type": "stream",
     "text": [
      "/Users/Andy/opt/anaconda3/lib/python3.7/site-packages/librosa/core/audio.py:161: UserWarning: PySoundFile failed. Trying audioread instead.\n",
      "  warnings.warn('PySoundFile failed. Trying audioread instead.')\n"
     ]
    },
    {
     "name": "stdout",
     "output_type": "stream",
     "text": [
      "././genres_2/Murlo/23_-_AJ_Tracey_-_Ladbroke_Grove.mp3 0.47405892610549927 0.22459430992603302 2973.235001053543 2638.032395831642 6068.166554886891 0.1389879549738979\n",
      "././genres_2/Murlo/Groove_Chronicles_-_Stone_Cold.mp3\n"
     ]
    },
    {
     "name": "stderr",
     "output_type": "stream",
     "text": [
      "/Users/Andy/opt/anaconda3/lib/python3.7/site-packages/librosa/core/audio.py:161: UserWarning: PySoundFile failed. Trying audioread instead.\n",
      "  warnings.warn('PySoundFile failed. Trying audioread instead.')\n"
     ]
    },
    {
     "name": "stdout",
     "output_type": "stream",
     "text": [
      "././genres_2/Murlo/Groove_Chronicles_-_Stone_Cold.mp3 0.4194846749305725 0.07672524452209473 2194.4556752487088 2478.102093356286 4751.693463602088 0.06482018561484919\n",
      "././genres_2/Murlo/Lana_Del_Rey_-_West_Coast_(The_GRADES_Icon_mix).mp3\n"
     ]
    },
    {
     "name": "stderr",
     "output_type": "stream",
     "text": [
      "/Users/Andy/opt/anaconda3/lib/python3.7/site-packages/librosa/core/audio.py:161: UserWarning: PySoundFile failed. Trying audioread instead.\n",
      "  warnings.warn('PySoundFile failed. Trying audioread instead.')\n"
     ]
    },
    {
     "name": "stdout",
     "output_type": "stream",
     "text": [
      "././genres_2/Murlo/Lana_Del_Rey_-_West_Coast_(The_GRADES_Icon_mix).mp3 0.4061022400856018 0.14387166500091553 2379.933659019569 2297.9039476056546 4623.518445928799 0.12258804923143851\n",
      "././genres_2/Murlo/1-04_As_I_Ft._Katy_B.mp3\n"
     ]
    },
    {
     "name": "stderr",
     "output_type": "stream",
     "text": [
      "/Users/Andy/opt/anaconda3/lib/python3.7/site-packages/librosa/core/audio.py:161: UserWarning: PySoundFile failed. Trying audioread instead.\n",
      "  warnings.warn('PySoundFile failed. Trying audioread instead.')\n"
     ]
    },
    {
     "name": "stdout",
     "output_type": "stream",
     "text": [
      "././genres_2/Murlo/1-04_As_I_Ft._Katy_B.mp3 0.5465501546859741 0.1556040346622467 3089.1581708461863 2790.498151891444 6223.195625181264 0.15424929306844548\n",
      "././genres_2/Murlo/Lady_(Kaytranada_Reeeeeeeeeeeeeemix)_2.mp3\n"
     ]
    },
    {
     "name": "stderr",
     "output_type": "stream",
     "text": [
      "/Users/Andy/opt/anaconda3/lib/python3.7/site-packages/librosa/core/audio.py:161: UserWarning: PySoundFile failed. Trying audioread instead.\n",
      "  warnings.warn('PySoundFile failed. Trying audioread instead.')\n"
     ]
    },
    {
     "name": "stdout",
     "output_type": "stream",
     "text": [
      "././genres_2/Murlo/Lady_(Kaytranada_Reeeeeeeeeeeeeemix)_2.mp3 0.394340455532074 0.09921108931303024 2978.0246810119324 2547.704282684698 6023.75120087732 0.16560438116299303\n",
      "././genres_2/Murlo/DJ_Q_-_Poison.mp3\n"
     ]
    },
    {
     "name": "stderr",
     "output_type": "stream",
     "text": [
      "/Users/Andy/opt/anaconda3/lib/python3.7/site-packages/librosa/core/audio.py:161: UserWarning: PySoundFile failed. Trying audioread instead.\n",
      "  warnings.warn('PySoundFile failed. Trying audioread instead.')\n"
     ]
    },
    {
     "name": "stdout",
     "output_type": "stream",
     "text": [
      "././genres_2/Murlo/DJ_Q_-_Poison.mp3 0.5901837348937988 0.3272673785686493 3174.9769563308473 2768.586583968194 6287.795234556264 0.1056545461136891\n",
      "././genres_2/Murlo/1-05_Seasons.mp3\n"
     ]
    },
    {
     "name": "stderr",
     "output_type": "stream",
     "text": [
      "/Users/Andy/opt/anaconda3/lib/python3.7/site-packages/librosa/core/audio.py:161: UserWarning: PySoundFile failed. Trying audioread instead.\n",
      "  warnings.warn('PySoundFile failed. Trying audioread instead.')\n"
     ]
    },
    {
     "name": "stdout",
     "output_type": "stream",
     "text": [
      "././genres_2/Murlo/1-05_Seasons.mp3 0.42681729793548584 0.17592915892601013 3216.0643449842987 2667.314602337957 6436.9039230169665 0.14393421004930396\n",
      "././genres_2/Murlo/Rose_Gold.mp3\n"
     ]
    },
    {
     "name": "stderr",
     "output_type": "stream",
     "text": [
      "/Users/Andy/opt/anaconda3/lib/python3.7/site-packages/librosa/core/audio.py:161: UserWarning: PySoundFile failed. Trying audioread instead.\n",
      "  warnings.warn('PySoundFile failed. Trying audioread instead.')\n"
     ]
    },
    {
     "name": "stdout",
     "output_type": "stream",
     "text": [
      "././genres_2/Murlo/Rose_Gold.mp3 0.4618760049343109 0.2044486552476883 1436.7604612095658 1896.41227596615 3056.0161687935033 0.034307705553944315\n",
      "././genres_2/Murlo/04_124th.mp3\n"
     ]
    },
    {
     "name": "stderr",
     "output_type": "stream",
     "text": [
      "/Users/Andy/opt/anaconda3/lib/python3.7/site-packages/librosa/core/audio.py:161: UserWarning: PySoundFile failed. Trying audioread instead.\n",
      "  warnings.warn('PySoundFile failed. Trying audioread instead.')\n"
     ]
    },
    {
     "name": "stdout",
     "output_type": "stream",
     "text": [
      "././genres_2/Murlo/04_124th.mp3 0.44901666045188904 0.17635542154312134 2635.1977795506996 2728.7229101454523 5768.57524969185 0.1121075623549884\n",
      "././genres_2/Murlo/Stronger_1.mp3\n"
     ]
    },
    {
     "name": "stderr",
     "output_type": "stream",
     "text": [
      "/Users/Andy/opt/anaconda3/lib/python3.7/site-packages/librosa/core/audio.py:161: UserWarning: PySoundFile failed. Trying audioread instead.\n",
      "  warnings.warn('PySoundFile failed. Trying audioread instead.')\n"
     ]
    },
    {
     "name": "stdout",
     "output_type": "stream",
     "text": [
      "././genres_2/Murlo/Stronger_1.mp3 0.4204772710800171 0.28035372495651245 2210.616235134997 2404.9017144371865 4648.448998966793 0.08874370105858469\n",
      "././genres_2/Murlo/Tru_yuh_body_(Murlo_4x4_remix).mp3\n"
     ]
    },
    {
     "name": "stderr",
     "output_type": "stream",
     "text": [
      "/Users/Andy/opt/anaconda3/lib/python3.7/site-packages/librosa/core/audio.py:161: UserWarning: PySoundFile failed. Trying audioread instead.\n",
      "  warnings.warn('PySoundFile failed. Trying audioread instead.')\n"
     ]
    },
    {
     "name": "stdout",
     "output_type": "stream",
     "text": [
      "././genres_2/Murlo/Tru_yuh_body_(Murlo_4x4_remix).mp3 0.33347946405410767 0.10551884770393372 3414.8064374243354 2597.599990291882 6439.0772277407195 0.1926807660237819\n",
      "././genres_2/Murlo/Slaughter.mp3\n"
     ]
    },
    {
     "name": "stderr",
     "output_type": "stream",
     "text": [
      "/Users/Andy/opt/anaconda3/lib/python3.7/site-packages/librosa/core/audio.py:161: UserWarning: PySoundFile failed. Trying audioread instead.\n",
      "  warnings.warn('PySoundFile failed. Trying audioread instead.')\n"
     ]
    },
    {
     "name": "stdout",
     "output_type": "stream",
     "text": [
      "././genres_2/Murlo/Slaughter.mp3 0.5797927975654602 0.2209170162677765 3642.8986612526523 2920.360591132412 7040.058435143562 0.19293000471287702\n",
      "././genres_2/Murlo/02_Hotshot_(Special_Request's_Total_Devastat.mp3\n"
     ]
    },
    {
     "name": "stderr",
     "output_type": "stream",
     "text": [
      "/Users/Andy/opt/anaconda3/lib/python3.7/site-packages/librosa/core/audio.py:161: UserWarning: PySoundFile failed. Trying audioread instead.\n",
      "  warnings.warn('PySoundFile failed. Trying audioread instead.')\n"
     ]
    },
    {
     "name": "stdout",
     "output_type": "stream",
     "text": [
      "././genres_2/Murlo/02_Hotshot_(Special_Request's_Total_Devastat.mp3 0.41918155550956726 0.0766950473189354 4187.6827029316 2948.017855896301 7898.2390153712295 0.27284272585556846\n",
      "././genres_2/Murlo/Ifan_Dafydd_-_No_Good.mp3\n"
     ]
    },
    {
     "name": "stderr",
     "output_type": "stream",
     "text": [
      "/Users/Andy/opt/anaconda3/lib/python3.7/site-packages/librosa/core/audio.py:161: UserWarning: PySoundFile failed. Trying audioread instead.\n",
      "  warnings.warn('PySoundFile failed. Trying audioread instead.')\n"
     ]
    },
    {
     "name": "stdout",
     "output_type": "stream",
     "text": [
      "././genres_2/Murlo/Ifan_Dafydd_-_No_Good.mp3 0.4035208821296692 0.13493400812149048 1296.917100824687 1610.8461678029541 2535.747002338312 0.05238883954466357\n",
      "././genres_2/Murlo/05_Free_Room_(feat._Appleby).mp3\n"
     ]
    },
    {
     "name": "stderr",
     "output_type": "stream",
     "text": [
      "/Users/Andy/opt/anaconda3/lib/python3.7/site-packages/librosa/core/audio.py:161: UserWarning: PySoundFile failed. Trying audioread instead.\n",
      "  warnings.warn('PySoundFile failed. Trying audioread instead.')\n"
     ]
    },
    {
     "name": "stdout",
     "output_type": "stream",
     "text": [
      "././genres_2/Murlo/05_Free_Room_(feat._Appleby).mp3 0.35724693536758423 0.18979530036449432 1390.0106087314296 1877.1102089684193 2951.5226784549013 0.04722733287412993\n",
      "././genres_2/Murlo/2-02_Pick_Six.mp3\n"
     ]
    },
    {
     "name": "stderr",
     "output_type": "stream",
     "text": [
      "/Users/Andy/opt/anaconda3/lib/python3.7/site-packages/librosa/core/audio.py:161: UserWarning: PySoundFile failed. Trying audioread instead.\n",
      "  warnings.warn('PySoundFile failed. Trying audioread instead.')\n"
     ]
    },
    {
     "name": "stdout",
     "output_type": "stream",
     "text": [
      "././genres_2/Murlo/2-02_Pick_Six.mp3 0.2968819737434387 0.11121440678834915 3005.636010388151 2584.8672966726267 5940.690991607454 0.16677467009860789\n",
      "././genres_2/Murlo/Bang_Bang_(Dvo_Remix).mp3\n"
     ]
    },
    {
     "name": "stderr",
     "output_type": "stream",
     "text": [
      "/Users/Andy/opt/anaconda3/lib/python3.7/site-packages/librosa/core/audio.py:161: UserWarning: PySoundFile failed. Trying audioread instead.\n",
      "  warnings.warn('PySoundFile failed. Trying audioread instead.')\n"
     ]
    },
    {
     "name": "stdout",
     "output_type": "stream",
     "text": [
      "././genres_2/Murlo/Bang_Bang_(Dvo_Remix).mp3 0.3945227861404419 0.15400855243206024 3246.7889381115274 2744.9272987243035 6557.984474695476 0.18742409549013922\n",
      "././genres_2/Murlo/Four_Tet_-_There_Is_Love_In_You_Remixes_-_04_Love_Cry_(Joy_Orbison_remix).mp3\n"
     ]
    },
    {
     "name": "stderr",
     "output_type": "stream",
     "text": [
      "/Users/Andy/opt/anaconda3/lib/python3.7/site-packages/librosa/core/audio.py:161: UserWarning: PySoundFile failed. Trying audioread instead.\n",
      "  warnings.warn('PySoundFile failed. Trying audioread instead.')\n"
     ]
    },
    {
     "name": "stdout",
     "output_type": "stream",
     "text": [
      "././genres_2/Murlo/Four_Tet_-_There_Is_Love_In_You_Remixes_-_04_Love_Cry_(Joy_Orbison_remix).mp3 0.3833546042442322 0.15295594930648804 1663.6442483946591 2206.1136245237203 3654.2245391350057 0.054036080698955914\n",
      "././genres_2/Murlo/01_2020.mp3\n"
     ]
    },
    {
     "name": "stderr",
     "output_type": "stream",
     "text": [
      "/Users/Andy/opt/anaconda3/lib/python3.7/site-packages/librosa/core/audio.py:161: UserWarning: PySoundFile failed. Trying audioread instead.\n",
      "  warnings.warn('PySoundFile failed. Trying audioread instead.')\n"
     ]
    },
    {
     "name": "stdout",
     "output_type": "stream",
     "text": [
      "././genres_2/Murlo/01_2020.mp3 0.5355878472328186 0.10200100392103195 1006.776934579358 1339.1710188122352 1979.0562463747099 0.03240216248549884\n",
      "././genres_2/Murlo/09_Glowed_Up.mp3\n"
     ]
    },
    {
     "name": "stderr",
     "output_type": "stream",
     "text": [
      "/Users/Andy/opt/anaconda3/lib/python3.7/site-packages/librosa/core/audio.py:161: UserWarning: PySoundFile failed. Trying audioread instead.\n",
      "  warnings.warn('PySoundFile failed. Trying audioread instead.')\n"
     ]
    },
    {
     "name": "stdout",
     "output_type": "stream",
     "text": [
      "././genres_2/Murlo/09_Glowed_Up.mp3 0.510486900806427 0.2953045666217804 2025.0387302647432 2294.0059745044964 4175.867633863834 0.054097257468097446\n",
      "././genres_2/Murlo/Living_Like_I_DO_(Lil_Silva_Remix).mp3\n"
     ]
    },
    {
     "name": "stderr",
     "output_type": "stream",
     "text": [
      "/Users/Andy/opt/anaconda3/lib/python3.7/site-packages/librosa/core/audio.py:161: UserWarning: PySoundFile failed. Trying audioread instead.\n",
      "  warnings.warn('PySoundFile failed. Trying audioread instead.')\n"
     ]
    },
    {
     "name": "stdout",
     "output_type": "stream",
     "text": [
      "././genres_2/Murlo/Living_Like_I_DO_(Lil_Silva_Remix).mp3 0.5040186643600464 0.1469344049692154 3083.1897341730073 2730.973925401741 6237.459498713022 0.15156771135440836\n",
      "././genres_2/Murlo/1-07_Fly_Bi_(Feat._Mc_Kie_Mc_Sparks).mp3\n"
     ]
    },
    {
     "name": "stderr",
     "output_type": "stream",
     "text": [
      "/Users/Andy/opt/anaconda3/lib/python3.7/site-packages/librosa/core/audio.py:161: UserWarning: PySoundFile failed. Trying audioread instead.\n",
      "  warnings.warn('PySoundFile failed. Trying audioread instead.')\n"
     ]
    },
    {
     "name": "stdout",
     "output_type": "stream",
     "text": [
      "././genres_2/Murlo/1-07_Fly_Bi_(Feat._Mc_Kie_Mc_Sparks).mp3 0.47608643770217896 0.16071347892284393 3242.1506578455974 2590.84261446762 6239.208134697651 0.1932007685614849\n",
      "././genres_2/Murlo/Gabryelle_Refix.mp3\n"
     ]
    },
    {
     "name": "stderr",
     "output_type": "stream",
     "text": [
      "/Users/Andy/opt/anaconda3/lib/python3.7/site-packages/librosa/core/audio.py:161: UserWarning: PySoundFile failed. Trying audioread instead.\n",
      "  warnings.warn('PySoundFile failed. Trying audioread instead.')\n"
     ]
    },
    {
     "name": "stdout",
     "output_type": "stream",
     "text": [
      "././genres_2/Murlo/Gabryelle_Refix.mp3 0.4649216830730438 0.1402452290058136 2670.4926564506354 2516.116412021406 5397.914381978683 0.09072288283062645\n",
      "././genres_2/Murlo/16_Saved_Soul.mp3\n"
     ]
    },
    {
     "name": "stderr",
     "output_type": "stream",
     "text": [
      "/Users/Andy/opt/anaconda3/lib/python3.7/site-packages/librosa/core/audio.py:161: UserWarning: PySoundFile failed. Trying audioread instead.\n",
      "  warnings.warn('PySoundFile failed. Trying audioread instead.')\n"
     ]
    },
    {
     "name": "stdout",
     "output_type": "stream",
     "text": [
      "././genres_2/Murlo/16_Saved_Soul.mp3 0.3297599256038666 0.25850123167037964 2602.85399652635 2418.678414508477 5206.113994978973 0.11178468496229699\n",
      "././genres_2/Murlo/02_21_Seconds_[Clean].mp3\n"
     ]
    },
    {
     "name": "stderr",
     "output_type": "stream",
     "text": [
      "/Users/Andy/opt/anaconda3/lib/python3.7/site-packages/librosa/core/audio.py:161: UserWarning: PySoundFile failed. Trying audioread instead.\n",
      "  warnings.warn('PySoundFile failed. Trying audioread instead.')\n"
     ]
    },
    {
     "name": "stdout",
     "output_type": "stream",
     "text": [
      "././genres_2/Murlo/02_21_Seconds_[Clean].mp3 0.47733786702156067 0.26940590143203735 3391.125451626688 2928.634187560384 6910.80925536543 0.14282849659222738\n",
      "././genres_2/Murlo/SONIKKU_-_Sweat_ft._LIZ_(SOPHIE_Remix)_[Official_Audio].mp3\n"
     ]
    },
    {
     "name": "stderr",
     "output_type": "stream",
     "text": [
      "/Users/Andy/opt/anaconda3/lib/python3.7/site-packages/librosa/core/audio.py:161: UserWarning: PySoundFile failed. Trying audioread instead.\n",
      "  warnings.warn('PySoundFile failed. Trying audioread instead.')\n"
     ]
    },
    {
     "name": "stdout",
     "output_type": "stream",
     "text": [
      "././genres_2/Murlo/SONIKKU_-_Sweat_ft._LIZ_(SOPHIE_Remix)_[Official_Audio].mp3 0.5198197364807129 0.2233046442270279 2580.174610082002 2960.6495909021924 6419.1677580300175 0.07521797056264501\n",
      "././genres_2/Murlo/02_Hunter.mp3\n"
     ]
    },
    {
     "name": "stderr",
     "output_type": "stream",
     "text": [
      "/Users/Andy/opt/anaconda3/lib/python3.7/site-packages/librosa/core/audio.py:161: UserWarning: PySoundFile failed. Trying audioread instead.\n",
      "  warnings.warn('PySoundFile failed. Trying audioread instead.')\n"
     ]
    },
    {
     "name": "stdout",
     "output_type": "stream",
     "text": [
      "././genres_2/Murlo/02_Hunter.mp3 0.46503615379333496 0.17732740938663483 3304.0434426794836 2599.1854491199792 6221.397028168503 0.17309513667343387\n",
      "././genres_2/Murlo/109_zed_bias_-_neighbourhood_(feat._mc_rumpus).mp3\n"
     ]
    },
    {
     "name": "stderr",
     "output_type": "stream",
     "text": [
      "/Users/Andy/opt/anaconda3/lib/python3.7/site-packages/librosa/core/audio.py:161: UserWarning: PySoundFile failed. Trying audioread instead.\n",
      "  warnings.warn('PySoundFile failed. Trying audioread instead.')\n"
     ]
    },
    {
     "name": "stdout",
     "output_type": "stream",
     "text": [
      "././genres_2/Murlo/109_zed_bias_-_neighbourhood_(feat._mc_rumpus).mp3 0.46404457092285156 0.1483170986175537 2996.849404608636 2721.227003032065 6177.855992151247 0.133323439312645\n",
      "././genres_2/Murlo/02_Going_Until_I_Am_Gone.mp3\n"
     ]
    },
    {
     "name": "stderr",
     "output_type": "stream",
     "text": [
      "/Users/Andy/opt/anaconda3/lib/python3.7/site-packages/librosa/core/audio.py:161: UserWarning: PySoundFile failed. Trying audioread instead.\n",
      "  warnings.warn('PySoundFile failed. Trying audioread instead.')\n"
     ]
    },
    {
     "name": "stdout",
     "output_type": "stream",
     "text": [
      "././genres_2/Murlo/02_Going_Until_I_Am_Gone.mp3 0.4189949333667755 0.14358839392662048 2076.2097572091184 2381.51125448953 4680.299154401102 0.09557510694605569\n",
      "././genres_2/Murlo/Missy_Elliott_-_Sock_It_2_Me_(Kaytranada_Remix).mp3\n"
     ]
    },
    {
     "name": "stderr",
     "output_type": "stream",
     "text": [
      "/Users/Andy/opt/anaconda3/lib/python3.7/site-packages/librosa/core/audio.py:161: UserWarning: PySoundFile failed. Trying audioread instead.\n",
      "  warnings.warn('PySoundFile failed. Trying audioread instead.')\n"
     ]
    },
    {
     "name": "stdout",
     "output_type": "stream",
     "text": [
      "././genres_2/Murlo/Missy_Elliott_-_Sock_It_2_Me_(Kaytranada_Remix).mp3 0.36202606558799744 0.1480250507593155 1552.2237409947031 2092.5020372986996 3274.6955889283645 0.06098530851218097\n",
      "././genres_2/Murlo/02_Grazed.mp3\n"
     ]
    },
    {
     "name": "stderr",
     "output_type": "stream",
     "text": [
      "/Users/Andy/opt/anaconda3/lib/python3.7/site-packages/librosa/core/audio.py:161: UserWarning: PySoundFile failed. Trying audioread instead.\n",
      "  warnings.warn('PySoundFile failed. Trying audioread instead.')\n"
     ]
    },
    {
     "name": "stdout",
     "output_type": "stream",
     "text": [
      "././genres_2/Murlo/02_Grazed.mp3 0.5201185941696167 0.2094481736421585 1474.7307197574778 1904.4139517027277 3170.2770401319603 0.05529473607888631\n",
      "././genres_2/Murlo/01_Sine_Language.mp3\n"
     ]
    },
    {
     "name": "stderr",
     "output_type": "stream",
     "text": [
      "/Users/Andy/opt/anaconda3/lib/python3.7/site-packages/librosa/core/audio.py:161: UserWarning: PySoundFile failed. Trying audioread instead.\n",
      "  warnings.warn('PySoundFile failed. Trying audioread instead.')\n"
     ]
    },
    {
     "name": "stdout",
     "output_type": "stream",
     "text": [
      "././genres_2/Murlo/01_Sine_Language.mp3 0.4819565415382385 0.23874478042125702 4162.990351053614 2976.291168513917 7502.7724971904 0.21290988435324826\n",
      "././genres_2/Murlo/If_(Kaytranada_Rmx).mp3\n"
     ]
    },
    {
     "name": "stderr",
     "output_type": "stream",
     "text": [
      "/Users/Andy/opt/anaconda3/lib/python3.7/site-packages/librosa/core/audio.py:161: UserWarning: PySoundFile failed. Trying audioread instead.\n",
      "  warnings.warn('PySoundFile failed. Trying audioread instead.')\n"
     ]
    },
    {
     "name": "stdout",
     "output_type": "stream",
     "text": [
      "././genres_2/Murlo/If_(Kaytranada_Rmx).mp3 0.501369833946228 0.38260284066200256 1511.2721700070008 2151.3989977928304 3240.322401573376 0.03275336245649652\n",
      "././genres_2/Murlo/02_-_Fones.wav\n",
      "././genres_2/Murlo/02_-_Fones.wav 0.45338577032089233 0.1885872632265091 2652.2379384237065 2654.670039891637 5616.94352931047 0.10491022875580046\n",
      "././genres_2/Murlo/Paper_Planes.mp3\n"
     ]
    },
    {
     "name": "stderr",
     "output_type": "stream",
     "text": [
      "/Users/Andy/opt/anaconda3/lib/python3.7/site-packages/librosa/core/audio.py:161: UserWarning: PySoundFile failed. Trying audioread instead.\n",
      "  warnings.warn('PySoundFile failed. Trying audioread instead.')\n"
     ]
    },
    {
     "name": "stdout",
     "output_type": "stream",
     "text": [
      "././genres_2/Murlo/Paper_Planes.mp3 0.3734685778617859 0.24219955503940582 2619.8499727254007 2626.649452788022 5508.17837106656 0.10712958599187936\n",
      "././genres_2/Murlo/01_Keep_Calling_(DJ_Q_Remix).mp3\n"
     ]
    },
    {
     "name": "stderr",
     "output_type": "stream",
     "text": [
      "/Users/Andy/opt/anaconda3/lib/python3.7/site-packages/librosa/core/audio.py:161: UserWarning: PySoundFile failed. Trying audioread instead.\n",
      "  warnings.warn('PySoundFile failed. Trying audioread instead.')\n"
     ]
    },
    {
     "name": "stdout",
     "output_type": "stream",
     "text": [
      "././genres_2/Murlo/01_Keep_Calling_(DJ_Q_Remix).mp3 0.4965205788612366 0.24091482162475586 2782.507319594875 2336.546018524084 5112.686872371664 0.13272866516821347\n",
      "././genres_2/Murlo/01_Skeezers.mp3\n"
     ]
    },
    {
     "name": "stderr",
     "output_type": "stream",
     "text": [
      "/Users/Andy/opt/anaconda3/lib/python3.7/site-packages/librosa/core/audio.py:161: UserWarning: PySoundFile failed. Trying audioread instead.\n",
      "  warnings.warn('PySoundFile failed. Trying audioread instead.')\n"
     ]
    },
    {
     "name": "stdout",
     "output_type": "stream",
     "text": [
      "././genres_2/Murlo/01_Skeezers.mp3 0.3343559205532074 0.05710787698626518 2577.4476496068246 1993.9693160055756 4688.118055303799 0.18043974767981438\n",
      "././genres_2/Murlo/Stylo_G-X5_(Nora_Zion_edit).mp3\n"
     ]
    },
    {
     "name": "stderr",
     "output_type": "stream",
     "text": [
      "/Users/Andy/opt/anaconda3/lib/python3.7/site-packages/librosa/core/audio.py:161: UserWarning: PySoundFile failed. Trying audioread instead.\n",
      "  warnings.warn('PySoundFile failed. Trying audioread instead.')\n"
     ]
    },
    {
     "name": "stdout",
     "output_type": "stream",
     "text": [
      "././genres_2/Murlo/Stylo_G-X5_(Nora_Zion_edit).mp3 0.4506843090057373 0.223462775349617 2598.9116946729096 2530.5695555421044 5278.932193481729 0.11239758555684455\n",
      "././genres_2/Murlo/Ari_Spn.mp3\n"
     ]
    },
    {
     "name": "stderr",
     "output_type": "stream",
     "text": [
      "/Users/Andy/opt/anaconda3/lib/python3.7/site-packages/librosa/core/audio.py:161: UserWarning: PySoundFile failed. Trying audioread instead.\n",
      "  warnings.warn('PySoundFile failed. Trying audioread instead.')\n"
     ]
    },
    {
     "name": "stdout",
     "output_type": "stream",
     "text": [
      "././genres_2/Murlo/Ari_Spn.mp3 0.4096340835094452 0.09056346118450165 1346.5792913285748 1384.0536597886878 2527.353549612094 0.06193468133700696\n",
      "././genres_2/Murlo/05_Trials_of_the_Past.mp3\n"
     ]
    },
    {
     "name": "stderr",
     "output_type": "stream",
     "text": [
      "/Users/Andy/opt/anaconda3/lib/python3.7/site-packages/librosa/core/audio.py:161: UserWarning: PySoundFile failed. Trying audioread instead.\n",
      "  warnings.warn('PySoundFile failed. Trying audioread instead.')\n"
     ]
    },
    {
     "name": "stdout",
     "output_type": "stream",
     "text": [
      "././genres_2/Murlo/05_Trials_of_the_Past.mp3 0.440276175737381 0.28784534335136414 1615.7451627914254 2261.149935750838 3695.9170171113688 0.029109945983178655\n",
      "././genres_2/Murlo/_Gold_(Snakehips_Bootleg).mp3\n"
     ]
    },
    {
     "name": "stderr",
     "output_type": "stream",
     "text": [
      "/Users/Andy/opt/anaconda3/lib/python3.7/site-packages/librosa/core/audio.py:161: UserWarning: PySoundFile failed. Trying audioread instead.\n",
      "  warnings.warn('PySoundFile failed. Trying audioread instead.')\n"
     ]
    },
    {
     "name": "stdout",
     "output_type": "stream",
     "text": [
      "././genres_2/Murlo/_Gold_(Snakehips_Bootleg).mp3 0.2970714271068573 0.1508648693561554 2005.6678441645604 2184.721403615389 4024.960348390371 0.09051896026682135\n",
      "././genres_2/Murlo/15_Typically_Her_(Kaytranada_Edition).mp3\n"
     ]
    },
    {
     "name": "stderr",
     "output_type": "stream",
     "text": [
      "/Users/Andy/opt/anaconda3/lib/python3.7/site-packages/librosa/core/audio.py:161: UserWarning: PySoundFile failed. Trying audioread instead.\n",
      "  warnings.warn('PySoundFile failed. Trying audioread instead.')\n"
     ]
    },
    {
     "name": "stdout",
     "output_type": "stream",
     "text": [
      "././genres_2/Murlo/15_Typically_Her_(Kaytranada_Edition).mp3 0.3588234782218933 0.038399793207645416 3310.0626079676817 2513.000644513185 6006.2398605169665 0.21051266132540603\n",
      "././genres_2/Murlo/Rihanna_ft._Drake_-_Work_(Murlo_Remix)_(1).mp3\n"
     ]
    },
    {
     "name": "stderr",
     "output_type": "stream",
     "text": [
      "/Users/Andy/opt/anaconda3/lib/python3.7/site-packages/librosa/core/audio.py:161: UserWarning: PySoundFile failed. Trying audioread instead.\n",
      "  warnings.warn('PySoundFile failed. Trying audioread instead.')\n"
     ]
    },
    {
     "name": "stdout",
     "output_type": "stream",
     "text": [
      "././genres_2/Murlo/Rihanna_ft._Drake_-_Work_(Murlo_Remix)_(1).mp3 0.30698761343955994 0.1417841613292694 2830.3112775551904 2821.00107196629 6241.656225076131 0.12542143996519722\n",
      "././genres_2/Murlo/09_-_zed_bias_-_neighbourhood_(el-b_remix).mp3\n"
     ]
    },
    {
     "name": "stderr",
     "output_type": "stream",
     "text": [
      "/Users/Andy/opt/anaconda3/lib/python3.7/site-packages/librosa/core/audio.py:161: UserWarning: PySoundFile failed. Trying audioread instead.\n",
      "  warnings.warn('PySoundFile failed. Trying audioread instead.')\n"
     ]
    },
    {
     "name": "stdout",
     "output_type": "stream",
     "text": [
      "././genres_2/Murlo/09_-_zed_bias_-_neighbourhood_(el-b_remix).mp3 0.3592858910560608 0.2272276133298874 2368.504535164896 2275.9730408432497 4666.7597157772625 0.12035396425464037\n",
      "././genres_2/Murlo/YGG_-_Strikers_(Bailey_Ibbs_RMX)MIX2.wav\n",
      "././genres_2/Murlo/YGG_-_Strikers_(Bailey_Ibbs_RMX)MIX2.wav 0.39122700691223145 0.16861863434314728 2523.783861395958 2505.238067615581 5016.711737329611 0.1079837949535963\n",
      "././genres_2/Murlo/01_Timeless_(SBTRKT_Edit).mp3\n"
     ]
    },
    {
     "name": "stderr",
     "output_type": "stream",
     "text": [
      "/Users/Andy/opt/anaconda3/lib/python3.7/site-packages/librosa/core/audio.py:161: UserWarning: PySoundFile failed. Trying audioread instead.\n",
      "  warnings.warn('PySoundFile failed. Trying audioread instead.')\n"
     ]
    },
    {
     "name": "stdout",
     "output_type": "stream",
     "text": [
      "././genres_2/Murlo/01_Timeless_(SBTRKT_Edit).mp3 0.25450292229652405 0.12213510274887085 1815.8872051439166 2215.827404139054 3896.710389174884 0.06421181663283063\n",
      "././genres_2/Murlo/Lady_(Kaytranada_Reeeeeeeeeeeeeemix).mp3\n"
     ]
    },
    {
     "name": "stderr",
     "output_type": "stream",
     "text": [
      "/Users/Andy/opt/anaconda3/lib/python3.7/site-packages/librosa/core/audio.py:161: UserWarning: PySoundFile failed. Trying audioread instead.\n",
      "  warnings.warn('PySoundFile failed. Trying audioread instead.')\n"
     ]
    },
    {
     "name": "stdout",
     "output_type": "stream",
     "text": [
      "././genres_2/Murlo/Lady_(Kaytranada_Reeeeeeeeeeeeeemix).mp3 0.394340455532074 0.09921108931303024 2978.0246810119324 2547.704282684698 6023.75120087732 0.16560438116299303\n",
      "././genres_2/Murlo/tp.mp3\n"
     ]
    },
    {
     "name": "stderr",
     "output_type": "stream",
     "text": [
      "/Users/Andy/opt/anaconda3/lib/python3.7/site-packages/librosa/core/audio.py:161: UserWarning: PySoundFile failed. Trying audioread instead.\n",
      "  warnings.warn('PySoundFile failed. Trying audioread instead.')\n"
     ]
    },
    {
     "name": "stdout",
     "output_type": "stream",
     "text": [
      "././genres_2/Murlo/tp.mp3 0.4464377462863922 0.0745207816362381 3096.639108850438 2687.7146209771745 6097.968308167779 0.18235661977958237\n",
      "././genres_2/Murlo/TOSS_PORTAL_-_GR_Etiquette_('09_mix).wav\n",
      "././genres_2/Murlo/TOSS_PORTAL_-_GR_Etiquette_('09_mix).wav 0.513211727142334 0.24559064209461212 2232.3031799762875 2255.8509694785107 4435.639999637471 0.0709888431699536\n",
      "././genres_2/Murlo/02_Kru_(Mssingno_Remix)_1.mp3\n"
     ]
    },
    {
     "name": "stderr",
     "output_type": "stream",
     "text": [
      "/Users/Andy/opt/anaconda3/lib/python3.7/site-packages/librosa/core/audio.py:161: UserWarning: PySoundFile failed. Trying audioread instead.\n",
      "  warnings.warn('PySoundFile failed. Trying audioread instead.')\n"
     ]
    },
    {
     "name": "stdout",
     "output_type": "stream",
     "text": [
      "././genres_2/Murlo/02_Kru_(Mssingno_Remix)_1.mp3 0.5229731798171997 0.18384507298469543 1837.1082453152885 2320.7802160940105 4242.340781793793 0.04535237819025522\n",
      "././genres_2/Murlo/J_Hus_-_Did_You_See_Conducta_Remix_Clean_.mp3\n"
     ]
    },
    {
     "name": "stderr",
     "output_type": "stream",
     "text": [
      "/Users/Andy/opt/anaconda3/lib/python3.7/site-packages/librosa/core/audio.py:161: UserWarning: PySoundFile failed. Trying audioread instead.\n",
      "  warnings.warn('PySoundFile failed. Trying audioread instead.')\n"
     ]
    },
    {
     "name": "stdout",
     "output_type": "stream",
     "text": [
      "././genres_2/Murlo/J_Hus_-_Did_You_See_Conducta_Remix_Clean_.mp3 0.4362865686416626 0.2492721676826477 2560.399959790675 2605.680192343289 5499.2103665168215 0.10850266458816706\n",
      "././genres_2/Murlo/When_I_Fall_In_Love_(Dub_Mix).m4a\n"
     ]
    },
    {
     "name": "stderr",
     "output_type": "stream",
     "text": [
      "/Users/Andy/opt/anaconda3/lib/python3.7/site-packages/librosa/core/audio.py:161: UserWarning: PySoundFile failed. Trying audioread instead.\n",
      "  warnings.warn('PySoundFile failed. Trying audioread instead.')\n"
     ]
    },
    {
     "name": "stdout",
     "output_type": "stream",
     "text": [
      "././genres_2/Murlo/When_I_Fall_In_Love_(Dub_Mix).m4a 0.3546810448169708 0.16348132491111755 2119.3062270187847 2156.153895794902 4173.469504513486 0.09347243873259861\n",
      "././genres_2/Murlo/02_Step_In_Shadows.mp3\n"
     ]
    },
    {
     "name": "stderr",
     "output_type": "stream",
     "text": [
      "/Users/Andy/opt/anaconda3/lib/python3.7/site-packages/librosa/core/audio.py:161: UserWarning: PySoundFile failed. Trying audioread instead.\n",
      "  warnings.warn('PySoundFile failed. Trying audioread instead.')\n"
     ]
    },
    {
     "name": "stdout",
     "output_type": "stream",
     "text": [
      "././genres_2/Murlo/02_Step_In_Shadows.mp3 0.43631649017333984 0.28136882185935974 2378.281013011842 2720.54368498277 5236.015670316126 0.04492300790313225\n",
      "././genres_2/Murlo/Flume_-_Holdin_On_(Kaytranada_Edit).mp3\n"
     ]
    },
    {
     "name": "stderr",
     "output_type": "stream",
     "text": [
      "/Users/Andy/opt/anaconda3/lib/python3.7/site-packages/librosa/core/audio.py:161: UserWarning: PySoundFile failed. Trying audioread instead.\n",
      "  warnings.warn('PySoundFile failed. Trying audioread instead.')\n"
     ]
    },
    {
     "name": "stdout",
     "output_type": "stream",
     "text": [
      "././genres_2/Murlo/Flume_-_Holdin_On_(Kaytranada_Edit).mp3 0.49671006202697754 0.13613885641098022 2341.285569698821 2519.0916379868613 5220.57771262326 0.09538364631670533\n",
      "././genres_2/Murlo/08_Pharoahs.mp3\n"
     ]
    },
    {
     "name": "stderr",
     "output_type": "stream",
     "text": [
      "/Users/Andy/opt/anaconda3/lib/python3.7/site-packages/librosa/core/audio.py:161: UserWarning: PySoundFile failed. Trying audioread instead.\n",
      "  warnings.warn('PySoundFile failed. Trying audioread instead.')\n"
     ]
    },
    {
     "name": "stdout",
     "output_type": "stream",
     "text": [
      "././genres_2/Murlo/08_Pharoahs.mp3 0.45301908254623413 0.20005568861961365 2744.3624824521116 2891.5903715726145 6033.668464961572 0.09826461898201856\n",
      "././genres_2/Murlo/Burna_Boy_-_Tonight_(Murlo_Refix).mp3\n"
     ]
    },
    {
     "name": "stderr",
     "output_type": "stream",
     "text": [
      "/Users/Andy/opt/anaconda3/lib/python3.7/site-packages/librosa/core/audio.py:161: UserWarning: PySoundFile failed. Trying audioread instead.\n",
      "  warnings.warn('PySoundFile failed. Trying audioread instead.')\n"
     ]
    },
    {
     "name": "stdout",
     "output_type": "stream",
     "text": [
      "././genres_2/Murlo/Burna_Boy_-_Tonight_(Murlo_Refix).mp3 0.5407941341400146 0.199515238404274 2584.7940487274996 2649.939443338341 5519.244738797854 0.09583454176334107\n",
      "././genres_2/Murlo/01_Kcal.mp3\n"
     ]
    },
    {
     "name": "stderr",
     "output_type": "stream",
     "text": [
      "/Users/Andy/opt/anaconda3/lib/python3.7/site-packages/librosa/core/audio.py:161: UserWarning: PySoundFile failed. Trying audioread instead.\n",
      "  warnings.warn('PySoundFile failed. Trying audioread instead.')\n"
     ]
    },
    {
     "name": "stdout",
     "output_type": "stream",
     "text": [
      "././genres_2/Murlo/01_Kcal.mp3 0.31943780183792114 0.02474229969084263 3925.2320136116555 2881.0823715768965 7342.122811231148 0.22573208200406034\n",
      "././genres_2/Murlo/Gotta_Get_Thru_This.mp3\n"
     ]
    },
    {
     "name": "stderr",
     "output_type": "stream",
     "text": [
      "/Users/Andy/opt/anaconda3/lib/python3.7/site-packages/librosa/core/audio.py:161: UserWarning: PySoundFile failed. Trying audioread instead.\n",
      "  warnings.warn('PySoundFile failed. Trying audioread instead.')\n"
     ]
    },
    {
     "name": "stdout",
     "output_type": "stream",
     "text": [
      "././genres_2/Murlo/Gotta_Get_Thru_This.mp3 0.4231589138507843 0.12817521393299103 3165.6967511390553 2684.7204397679416 6232.563317956062 0.1910233287412993\n",
      "././genres_2/Murlo/06_Sidney_Samson-Riverside_(Let's_Go)_(Lil_Silva_Remix).m4a\n"
     ]
    },
    {
     "name": "stderr",
     "output_type": "stream",
     "text": [
      "/Users/Andy/opt/anaconda3/lib/python3.7/site-packages/librosa/core/audio.py:161: UserWarning: PySoundFile failed. Trying audioread instead.\n",
      "  warnings.warn('PySoundFile failed. Trying audioread instead.')\n"
     ]
    },
    {
     "name": "stdout",
     "output_type": "stream",
     "text": [
      "././genres_2/Murlo/06_Sidney_Samson-Riverside_(Let's_Go)_(Lil_Silva_Remix).m4a 0.41430285573005676 0.20668038725852966 3110.7751245428917 2475.98912011794 5845.065583762326 0.1638721722737819\n",
      "././genres_2/Murlo/16._On_My_Mind_-_Jorja_Smith_&_Preditah.mp3\n"
     ]
    },
    {
     "name": "stderr",
     "output_type": "stream",
     "text": [
      "/Users/Andy/opt/anaconda3/lib/python3.7/site-packages/librosa/core/audio.py:161: UserWarning: PySoundFile failed. Trying audioread instead.\n",
      "  warnings.warn('PySoundFile failed. Trying audioread instead.')\n"
     ]
    },
    {
     "name": "stdout",
     "output_type": "stream",
     "text": [
      "././genres_2/Murlo/16._On_My_Mind_-_Jorja_Smith_&_Preditah.mp3 0.3714759647846222 0.21404118835926056 2677.6947686737585 2711.5318427218435 5700.952998114849 0.10715111115139211\n",
      "././genres_2/Murlo/15._Sticky_-_Booo!_(feat_Ms_Dynamite).mp3\n"
     ]
    },
    {
     "name": "stderr",
     "output_type": "stream",
     "text": [
      "/Users/Andy/opt/anaconda3/lib/python3.7/site-packages/librosa/core/audio.py:161: UserWarning: PySoundFile failed. Trying audioread instead.\n",
      "  warnings.warn('PySoundFile failed. Trying audioread instead.')\n"
     ]
    },
    {
     "name": "stdout",
     "output_type": "stream",
     "text": [
      "././genres_2/Murlo/15._Sticky_-_Booo!_(feat_Ms_Dynamite).mp3 0.4783548414707184 0.3314235806465149 2290.2216860513454 2573.3439255756157 4928.20577599333 0.08510481619779582\n",
      "././genres_2/Murlo/01_De_Siegalizer_(Logos_remix).mp3\n"
     ]
    },
    {
     "name": "stderr",
     "output_type": "stream",
     "text": [
      "/Users/Andy/opt/anaconda3/lib/python3.7/site-packages/librosa/core/audio.py:161: UserWarning: PySoundFile failed. Trying audioread instead.\n",
      "  warnings.warn('PySoundFile failed. Trying audioread instead.')\n"
     ]
    },
    {
     "name": "stdout",
     "output_type": "stream",
     "text": [
      "././genres_2/Murlo/01_De_Siegalizer_(Logos_remix).mp3 0.45751991868019104 0.28843826055526733 3295.4235973371065 3252.523854072657 7427.706052421694 0.12006394105278423\n",
      "././genres_2/Murlo/01_Hold_On_(feat._Sampha).mp3\n"
     ]
    },
    {
     "name": "stderr",
     "output_type": "stream",
     "text": [
      "/Users/Andy/opt/anaconda3/lib/python3.7/site-packages/librosa/core/audio.py:161: UserWarning: PySoundFile failed. Trying audioread instead.\n",
      "  warnings.warn('PySoundFile failed. Trying audioread instead.')\n"
     ]
    },
    {
     "name": "stdout",
     "output_type": "stream",
     "text": [
      "././genres_2/Murlo/01_Hold_On_(feat._Sampha).mp3 0.3704049587249756 0.2363051176071167 1102.565206362645 1796.7555481568904 2114.8753013522332 0.024552276682134572\n",
      "././genres_2/Murlo/Smerz_-_Because_(320__kbps).mp3\n"
     ]
    },
    {
     "name": "stderr",
     "output_type": "stream",
     "text": [
      "/Users/Andy/opt/anaconda3/lib/python3.7/site-packages/librosa/core/audio.py:161: UserWarning: PySoundFile failed. Trying audioread instead.\n",
      "  warnings.warn('PySoundFile failed. Trying audioread instead.')\n"
     ]
    },
    {
     "name": "stdout",
     "output_type": "stream",
     "text": [
      "././genres_2/Murlo/Smerz_-_Because_(320__kbps).mp3 0.5217639803886414 0.2835580110549927 1391.0796396722374 1937.8193365865195 3033.2839009933296 0.04208281975058004\n",
      "././genres_2/Murlo/04_Robes_(Swing_Ting_Remix).mp3\n"
     ]
    },
    {
     "name": "stderr",
     "output_type": "stream",
     "text": [
      "/Users/Andy/opt/anaconda3/lib/python3.7/site-packages/librosa/core/audio.py:161: UserWarning: PySoundFile failed. Trying audioread instead.\n",
      "  warnings.warn('PySoundFile failed. Trying audioread instead.')\n"
     ]
    },
    {
     "name": "stdout",
     "output_type": "stream",
     "text": [
      "././genres_2/Murlo/04_Robes_(Swing_Ting_Remix).mp3 0.4821925461292267 0.13544978201389313 3284.1488177650212 2824.734683265226 6303.507977903857 0.17498028748549885\n",
      "././genres_2/Murlo/04_Hide_Or_Seek.mp3\n"
     ]
    },
    {
     "name": "stderr",
     "output_type": "stream",
     "text": [
      "/Users/Andy/opt/anaconda3/lib/python3.7/site-packages/librosa/core/audio.py:161: UserWarning: PySoundFile failed. Trying audioread instead.\n",
      "  warnings.warn('PySoundFile failed. Trying audioread instead.')\n"
     ]
    },
    {
     "name": "stdout",
     "output_type": "stream",
     "text": [
      "././genres_2/Murlo/04_Hide_Or_Seek.mp3 0.4706271290779114 0.27361568808555603 1221.6339617598874 1760.195645277015 2375.996614885441 0.03688619308294663\n",
      "././genres_2/Murlo/What_It's_Gonna_Be__(Busta_x_Janet).mp3\n"
     ]
    },
    {
     "name": "stderr",
     "output_type": "stream",
     "text": [
      "/Users/Andy/opt/anaconda3/lib/python3.7/site-packages/librosa/core/audio.py:161: UserWarning: PySoundFile failed. Trying audioread instead.\n",
      "  warnings.warn('PySoundFile failed. Trying audioread instead.')\n"
     ]
    },
    {
     "name": "stdout",
     "output_type": "stream",
     "text": [
      "././genres_2/Murlo/What_It's_Gonna_Be__(Busta_x_Janet).mp3 0.3828042149543762 0.05043439194560051 4288.719997296636 3048.859757002914 7913.951758718823 0.2642949717227378\n",
      "././genres_2/Murlo/Aikaso_(Murlo_Remix).mp3\n"
     ]
    },
    {
     "name": "stderr",
     "output_type": "stream",
     "text": [
      "/Users/Andy/opt/anaconda3/lib/python3.7/site-packages/librosa/core/audio.py:161: UserWarning: PySoundFile failed. Trying audioread instead.\n",
      "  warnings.warn('PySoundFile failed. Trying audioread instead.')\n"
     ]
    },
    {
     "name": "stdout",
     "output_type": "stream",
     "text": [
      "././genres_2/Murlo/Aikaso_(Murlo_Remix).mp3 0.35096508264541626 0.16544385254383087 1995.3171002353545 2299.419422964008 4326.050484429379 0.06287159222737819\n",
      "././genres_2/Murlo/crazy_cousinz_murlo_rmx.mp3\n"
     ]
    },
    {
     "name": "stderr",
     "output_type": "stream",
     "text": [
      "/Users/Andy/opt/anaconda3/lib/python3.7/site-packages/librosa/core/audio.py:161: UserWarning: PySoundFile failed. Trying audioread instead.\n",
      "  warnings.warn('PySoundFile failed. Trying audioread instead.')\n"
     ]
    },
    {
     "name": "stdout",
     "output_type": "stream",
     "text": [
      "././genres_2/Murlo/crazy_cousinz_murlo_rmx.mp3 0.2603454887866974 0.08996785432100296 1488.076304319118 1671.3796145105157 2996.237798633266 0.061512108468677495\n",
      "././genres_2/Murlo/Paleface_Ft._Kyla_-_Do_You_Mind_(Crazy_Cousinz_Remix).mp3\n"
     ]
    },
    {
     "name": "stderr",
     "output_type": "stream",
     "text": [
      "/Users/Andy/opt/anaconda3/lib/python3.7/site-packages/librosa/core/audio.py:161: UserWarning: PySoundFile failed. Trying audioread instead.\n",
      "  warnings.warn('PySoundFile failed. Trying audioread instead.')\n"
     ]
    },
    {
     "name": "stdout",
     "output_type": "stream",
     "text": [
      "././genres_2/Murlo/Paleface_Ft._Kyla_-_Do_You_Mind_(Crazy_Cousinz_Remix).mp3 0.40569308400154114 0.285356730222702 3244.0171218446453 2999.540619607799 6901.241718478103 0.14307660237819025\n",
      "././genres_2/Dubstep/Trends_and_Boylan_Feat_Riko_Dan_-_Trends_and_Boylan_Feat_Riko_Dan_-_KRUEGER_(EXPLICIT).mp3\n"
     ]
    },
    {
     "name": "stderr",
     "output_type": "stream",
     "text": [
      "/Users/Andy/opt/anaconda3/lib/python3.7/site-packages/librosa/core/audio.py:161: UserWarning: PySoundFile failed. Trying audioread instead.\n",
      "  warnings.warn('PySoundFile failed. Trying audioread instead.')\n"
     ]
    },
    {
     "name": "stdout",
     "output_type": "stream",
     "text": [
      "././genres_2/Dubstep/Trends_and_Boylan_Feat_Riko_Dan_-_Trends_and_Boylan_Feat_Riko_Dan_-_KRUEGER_(EXPLICIT).mp3 0.47812825441360474 0.4281131625175476 2805.6343808078186 2652.0356856699896 5793.630705300174 0.10243256960556844\n",
      "././genres_2/Dubstep/Cartridge_-_Succulent.wav\n",
      "././genres_2/Dubstep/Cartridge_-_Succulent.wav 0.3754594624042511 0.034146323800086975 3192.884855754854 2689.929271383677 6426.986658932715 0.1358634081351508\n",
      "././genres_2/Dubstep/22_BIRTHDAY_VAMP.mp3\n"
     ]
    },
    {
     "name": "stderr",
     "output_type": "stream",
     "text": [
      "/Users/Andy/opt/anaconda3/lib/python3.7/site-packages/librosa/core/audio.py:161: UserWarning: PySoundFile failed. Trying audioread instead.\n",
      "  warnings.warn('PySoundFile failed. Trying audioread instead.')\n"
     ]
    },
    {
     "name": "stdout",
     "output_type": "stream",
     "text": [
      "././genres_2/Dubstep/22_BIRTHDAY_VAMP.mp3 0.703423261642456 0.40989622473716736 1727.9099323549972 2462.3723823101986 4179.864516114414 0.026803355205916472\n",
      "././genres_2/Dubstep/Mala_-_Changes_(_James_Blake_Harmonimix_).mp3\n"
     ]
    },
    {
     "name": "stderr",
     "output_type": "stream",
     "text": [
      "/Users/Andy/opt/anaconda3/lib/python3.7/site-packages/librosa/core/audio.py:161: UserWarning: PySoundFile failed. Trying audioread instead.\n",
      "  warnings.warn('PySoundFile failed. Trying audioread instead.')\n"
     ]
    },
    {
     "name": "stdout",
     "output_type": "stream",
     "text": [
      "././genres_2/Dubstep/Mala_-_Changes_(_James_Blake_Harmonimix_).mp3 0.3579941689968109 0.2015538215637207 1280.0526233760306 1822.5663792210212 2731.194544391676 0.04994969910092807\n",
      "././genres_2/Dubstep/The_Bug_&amp;_Killa_P_-_Leng_(Skeng_Pt._2)_(320__kbps).mp3\n"
     ]
    },
    {
     "name": "stderr",
     "output_type": "stream",
     "text": [
      "/Users/Andy/opt/anaconda3/lib/python3.7/site-packages/librosa/core/audio.py:161: UserWarning: PySoundFile failed. Trying audioread instead.\n",
      "  warnings.warn('PySoundFile failed. Trying audioread instead.')\n"
     ]
    },
    {
     "name": "stdout",
     "output_type": "stream",
     "text": [
      "././genres_2/Dubstep/The_Bug_&amp;_Killa_P_-_Leng_(Skeng_Pt._2)_(320__kbps).mp3 0.4574532210826874 0.35435426235198975 2380.5606485877292 2735.7388690288167 5505.955105314675 0.07395138486078887\n",
      "././genres_2/Dubstep/1-01_Commotion.mp3\n"
     ]
    },
    {
     "name": "stderr",
     "output_type": "stream",
     "text": [
      "/Users/Andy/opt/anaconda3/lib/python3.7/site-packages/librosa/core/audio.py:161: UserWarning: PySoundFile failed. Trying audioread instead.\n",
      "  warnings.warn('PySoundFile failed. Trying audioread instead.')\n"
     ]
    },
    {
     "name": "stdout",
     "output_type": "stream",
     "text": [
      "././genres_2/Dubstep/1-01_Commotion.mp3 0.5328314304351807 0.2378511130809784 1613.573711134634 1706.6048466685302 3044.749956949681 0.05480872063515081\n",
      "././genres_2/Dubstep/01_Local.mp3\n"
     ]
    },
    {
     "name": "stderr",
     "output_type": "stream",
     "text": [
      "/Users/Andy/opt/anaconda3/lib/python3.7/site-packages/librosa/core/audio.py:161: UserWarning: PySoundFile failed. Trying audioread instead.\n",
      "  warnings.warn('PySoundFile failed. Trying audioread instead.')\n"
     ]
    },
    {
     "name": "stdout",
     "output_type": "stream",
     "text": [
      "././genres_2/Dubstep/01_Local.mp3 0.6218841075897217 0.22797022759914398 3090.6934001303107 3311.3392750401267 7358.734853085121 0.06507735462587007\n",
      "././genres_2/Dubstep/Charlux-Distance_(Dub).mp3\n"
     ]
    },
    {
     "name": "stderr",
     "output_type": "stream",
     "text": [
      "/Users/Andy/opt/anaconda3/lib/python3.7/site-packages/librosa/core/audio.py:161: UserWarning: PySoundFile failed. Trying audioread instead.\n",
      "  warnings.warn('PySoundFile failed. Trying audioread instead.')\n"
     ]
    },
    {
     "name": "stdout",
     "output_type": "stream",
     "text": [
      "././genres_2/Dubstep/Charlux-Distance_(Dub).mp3 0.33311179280281067 0.09630859643220901 2503.382516276814 1706.9694730361396 4137.547525286398 0.16545936956206497\n",
      "././genres_2/Dubstep/05_Vayu.mp3\n"
     ]
    },
    {
     "name": "stderr",
     "output_type": "stream",
     "text": [
      "/Users/Andy/opt/anaconda3/lib/python3.7/site-packages/librosa/core/audio.py:161: UserWarning: PySoundFile failed. Trying audioread instead.\n",
      "  warnings.warn('PySoundFile failed. Trying audioread instead.')\n"
     ]
    },
    {
     "name": "stdout",
     "output_type": "stream",
     "text": [
      "././genres_2/Dubstep/05_Vayu.mp3 0.6011713743209839 0.25695428252220154 1843.8443971336408 2176.8895767969484 3966.0562962224476 0.036203052494199535\n",
      "././genres_2/Dubstep/01_Screamer_(feat._Riko_Dan).mp3\n"
     ]
    },
    {
     "name": "stderr",
     "output_type": "stream",
     "text": [
      "/Users/Andy/opt/anaconda3/lib/python3.7/site-packages/librosa/core/audio.py:161: UserWarning: PySoundFile failed. Trying audioread instead.\n",
      "  warnings.warn('PySoundFile failed. Trying audioread instead.')\n"
     ]
    },
    {
     "name": "stdout",
     "output_type": "stream",
     "text": [
      "././genres_2/Dubstep/01_Screamer_(feat._Riko_Dan).mp3 0.5196019411087036 0.11292845755815506 1642.0800343478131 1768.7886961117747 3021.3681957837875 0.08556817357888631\n",
      "././genres_2/Dubstep/Bukez_Finezt_-_The_Main_Rule.mp3\n"
     ]
    },
    {
     "name": "stderr",
     "output_type": "stream",
     "text": [
      "/Users/Andy/opt/anaconda3/lib/python3.7/site-packages/librosa/core/audio.py:161: UserWarning: PySoundFile failed. Trying audioread instead.\n",
      "  warnings.warn('PySoundFile failed. Trying audioread instead.')\n"
     ]
    },
    {
     "name": "stdout",
     "output_type": "stream",
     "text": [
      "././genres_2/Dubstep/Bukez_Finezt_-_The_Main_Rule.mp3 0.45726877450942993 0.1085829958319664 2402.9854872458072 2096.4774892646187 4710.55055693518 0.13009919699825986\n",
      "././genres_2/Dubstep/03_Pocosink_(Commodo_Remix).mp3\n"
     ]
    },
    {
     "name": "stderr",
     "output_type": "stream",
     "text": [
      "/Users/Andy/opt/anaconda3/lib/python3.7/site-packages/librosa/core/audio.py:161: UserWarning: PySoundFile failed. Trying audioread instead.\n",
      "  warnings.warn('PySoundFile failed. Trying audioread instead.')\n"
     ]
    },
    {
     "name": "stdout",
     "output_type": "stream",
     "text": [
      "././genres_2/Dubstep/03_Pocosink_(Commodo_Remix).mp3 0.364639550447464 0.11772388219833374 2431.7799946818377 2676.12172021443 5157.451953578161 0.0760755782337587\n",
      "././genres_2/Dubstep/Sub_Basics_-_Cartel.mp3\n"
     ]
    },
    {
     "name": "stderr",
     "output_type": "stream",
     "text": [
      "/Users/Andy/opt/anaconda3/lib/python3.7/site-packages/librosa/core/audio.py:161: UserWarning: PySoundFile failed. Trying audioread instead.\n",
      "  warnings.warn('PySoundFile failed. Trying audioread instead.')\n"
     ]
    },
    {
     "name": "stdout",
     "output_type": "stream",
     "text": [
      "././genres_2/Dubstep/Sub_Basics_-_Cartel.mp3 0.6342133283615112 0.34616923332214355 1612.9945302117171 2198.921879192753 3844.6010368329466 0.023128217444895592\n",
      "././genres_2/Dubstep/V.I.V.E.K_-_Slippin_(SYSTM009).mp3\n"
     ]
    },
    {
     "name": "stderr",
     "output_type": "stream",
     "text": [
      "/Users/Andy/opt/anaconda3/lib/python3.7/site-packages/librosa/core/audio.py:161: UserWarning: PySoundFile failed. Trying audioread instead.\n",
      "  warnings.warn('PySoundFile failed. Trying audioread instead.')\n"
     ]
    },
    {
     "name": "stdout",
     "output_type": "stream",
     "text": [
      "././genres_2/Dubstep/V.I.V.E.K_-_Slippin_(SYSTM009).mp3 0.434533953666687 0.027431640774011612 3192.378457510043 2349.475304339753 5726.882771715487 0.20782541509570765\n",
      "././genres_2/Dubstep/01_Alicia.mp3\n"
     ]
    },
    {
     "name": "stderr",
     "output_type": "stream",
     "text": [
      "/Users/Andy/opt/anaconda3/lib/python3.7/site-packages/librosa/core/audio.py:161: UserWarning: PySoundFile failed. Trying audioread instead.\n",
      "  warnings.warn('PySoundFile failed. Trying audioread instead.')\n"
     ]
    },
    {
     "name": "stdout",
     "output_type": "stream",
     "text": [
      "././genres_2/Dubstep/01_Alicia.mp3 0.3145226240158081 0.06511272490024567 2900.899258311426 2537.5704391034933 5727.857011764067 0.12915322288283063\n",
      "././genres_2/Dubstep/CNCPTV001_C2_-_Koma_-_Serac_-_Ten_Eight_Seven_Mastered.wav\n",
      "././genres_2/Dubstep/CNCPTV001_C2_-_Koma_-_Serac_-_Ten_Eight_Seven_Mastered.wav 0.40924689173698425 0.05589425563812256 3533.306477087688 3146.2927744235235 7552.2089345272625 0.15207525195765662\n",
      "././genres_2/Dubstep/Trends_&_Boylan_-_Dutty_Harry_ft._Riko_Dan.mp3\n"
     ]
    },
    {
     "name": "stderr",
     "output_type": "stream",
     "text": [
      "/Users/Andy/opt/anaconda3/lib/python3.7/site-packages/librosa/core/audio.py:161: UserWarning: PySoundFile failed. Trying audioread instead.\n",
      "  warnings.warn('PySoundFile failed. Trying audioread instead.')\n"
     ]
    },
    {
     "name": "stdout",
     "output_type": "stream",
     "text": [
      "././genres_2/Dubstep/Trends_&_Boylan_-_Dutty_Harry_ft._Riko_Dan.mp3 0.55210942029953 0.33211082220077515 2387.278647654954 2459.3745857513554 5052.283989359774 0.07025812064965198\n",
      "././genres_2/Dubstep/Dem_a_Talk.mp3\n"
     ]
    },
    {
     "name": "stderr",
     "output_type": "stream",
     "text": [
      "/Users/Andy/opt/anaconda3/lib/python3.7/site-packages/librosa/core/audio.py:161: UserWarning: PySoundFile failed. Trying audioread instead.\n",
      "  warnings.warn('PySoundFile failed. Trying audioread instead.')\n"
     ]
    },
    {
     "name": "stdout",
     "output_type": "stream",
     "text": [
      "././genres_2/Dubstep/Dem_a_Talk.mp3 0.44155606627464294 0.10874150693416595 1918.5136353905818 2099.8773986036153 4063.3304179959396 0.06305965414733179\n",
      "././genres_2/Dubstep/02_Mandolin_Man_(Original_Mix).mp3\n"
     ]
    },
    {
     "name": "stderr",
     "output_type": "stream",
     "text": [
      "/Users/Andy/opt/anaconda3/lib/python3.7/site-packages/librosa/core/audio.py:161: UserWarning: PySoundFile failed. Trying audioread instead.\n",
      "  warnings.warn('PySoundFile failed. Trying audioread instead.')\n"
     ]
    },
    {
     "name": "stdout",
     "output_type": "stream",
     "text": [
      "././genres_2/Dubstep/02_Mandolin_Man_(Original_Mix).mp3 0.5592489838600159 0.3915902376174927 2536.7331541190088 2669.6097011796387 5643.672679361224 0.06874116335556844\n",
      "././genres_2/Dubstep/Blind_Man_(Polonis_Refix).mp3\n"
     ]
    },
    {
     "name": "stderr",
     "output_type": "stream",
     "text": [
      "/Users/Andy/opt/anaconda3/lib/python3.7/site-packages/librosa/core/audio.py:161: UserWarning: PySoundFile failed. Trying audioread instead.\n",
      "  warnings.warn('PySoundFile failed. Trying audioread instead.')\n"
     ]
    },
    {
     "name": "stdout",
     "output_type": "stream",
     "text": [
      "././genres_2/Dubstep/Blind_Man_(Polonis_Refix).mp3 0.4175967872142792 0.19888317584991455 1719.5005684099278 1685.9358782220738 3525.0003398709396 0.08481366009280743\n",
      "././genres_2/Dubstep/Miracles_(Commodo_Remix).wav\n",
      "././genres_2/Dubstep/Miracles_(Commodo_Remix).wav 0.6498838067054749 0.333560585975647 2976.6101255727876 2943.24608554769 6526.009416690836 0.09117717698665893\n",
      "././genres_2/Dubstep/02_Amber.mp3\n"
     ]
    },
    {
     "name": "stderr",
     "output_type": "stream",
     "text": [
      "/Users/Andy/opt/anaconda3/lib/python3.7/site-packages/librosa/core/audio.py:161: UserWarning: PySoundFile failed. Trying audioread instead.\n",
      "  warnings.warn('PySoundFile failed. Trying audioread instead.')\n"
     ]
    },
    {
     "name": "stdout",
     "output_type": "stream",
     "text": [
      "././genres_2/Dubstep/02_Amber.mp3 0.53177809715271 0.17628486454486847 917.8241423671153 1662.2340772472796 1998.7159109447505 0.013582375652552204\n",
      "././genres_2/Dubstep/01_Blipstream.mp3\n"
     ]
    },
    {
     "name": "stderr",
     "output_type": "stream",
     "text": [
      "/Users/Andy/opt/anaconda3/lib/python3.7/site-packages/librosa/core/audio.py:161: UserWarning: PySoundFile failed. Trying audioread instead.\n",
      "  warnings.warn('PySoundFile failed. Trying audioread instead.')\n"
     ]
    },
    {
     "name": "stdout",
     "output_type": "stream",
     "text": [
      "././genres_2/Dubstep/01_Blipstream.mp3 0.693013072013855 0.2701898217201233 1837.8666654830563 2290.805518438356 4200.673284331497 0.04679909549013921\n",
      "././genres_2/Dubstep/04_Crystal_Collect.mp3\n"
     ]
    },
    {
     "name": "stderr",
     "output_type": "stream",
     "text": [
      "/Users/Andy/opt/anaconda3/lib/python3.7/site-packages/librosa/core/audio.py:161: UserWarning: PySoundFile failed. Trying audioread instead.\n",
      "  warnings.warn('PySoundFile failed. Trying audioread instead.')\n"
     ]
    },
    {
     "name": "stdout",
     "output_type": "stream",
     "text": [
      "././genres_2/Dubstep/04_Crystal_Collect.mp3 0.3236451745033264 0.04786928743124008 2003.7942082430245 1635.0017473300115 3455.1548225420534 0.12572619090777262\n",
      "././genres_2/Dubstep/Chad_Dubz_-_Marijuana.wav\n",
      "././genres_2/Dubstep/Chad_Dubz_-_Marijuana.wav 0.5241407752037048 0.2843843102455139 2484.9711824897927 2787.9152328482 5824.156893488979 0.06572197650812064\n",
      "././genres_2/Dubstep/02_Flute_Song.mp3\n"
     ]
    },
    {
     "name": "stderr",
     "output_type": "stream",
     "text": [
      "/Users/Andy/opt/anaconda3/lib/python3.7/site-packages/librosa/core/audio.py:161: UserWarning: PySoundFile failed. Trying audioread instead.\n",
      "  warnings.warn('PySoundFile failed. Trying audioread instead.')\n"
     ]
    },
    {
     "name": "stdout",
     "output_type": "stream",
     "text": [
      "././genres_2/Dubstep/02_Flute_Song.mp3 0.383022665977478 0.30942580103874207 1730.4545398702292 2495.0930577543954 4005.3256643343966 0.023029654872389792\n",
      "././genres_2/Dubstep/Mr.K_-_Spooky_Dub_VIP.wav\n",
      "././genres_2/Dubstep/Mr.K_-_Spooky_Dub_VIP.wav 0.404750257730484 0.04565846547484398 3352.056908289101 2353.0145184870235 5962.573921929379 0.2054519830336427\n",
      "././genres_2/Dubstep/Karnage_-_Realise_(feat._Rider_Shafique).mp3\n"
     ]
    },
    {
     "name": "stderr",
     "output_type": "stream",
     "text": [
      "/Users/Andy/opt/anaconda3/lib/python3.7/site-packages/librosa/core/audio.py:161: UserWarning: PySoundFile failed. Trying audioread instead.\n",
      "  warnings.warn('PySoundFile failed. Trying audioread instead.')\n"
     ]
    },
    {
     "name": "stdout",
     "output_type": "stream",
     "text": [
      "././genres_2/Dubstep/Karnage_-_Realise_(feat._Rider_Shafique).mp3 0.48817527294158936 0.07757739722728729 3511.662436834728 2683.930962744992 6555.8361504857885 0.2181450297273782\n",
      "././genres_2/Dubstep/Foamplate-_7.5_(CRUCIAL003).mp3\n"
     ]
    },
    {
     "name": "stderr",
     "output_type": "stream",
     "text": [
      "/Users/Andy/opt/anaconda3/lib/python3.7/site-packages/librosa/core/audio.py:161: UserWarning: PySoundFile failed. Trying audioread instead.\n",
      "  warnings.warn('PySoundFile failed. Trying audioread instead.')\n"
     ]
    },
    {
     "name": "stdout",
     "output_type": "stream",
     "text": [
      "././genres_2/Dubstep/Foamplate-_7.5_(CRUCIAL003).mp3 0.4833373427391052 0.10383803397417068 2294.2597274637724 1617.1166995959 3755.2707185324825 0.1578825134135731\n",
      "././genres_2/Dubstep/Serenade_-_-TMCFLP001-_Various_Artists_Vol.1_-_04_Doves.mp3\n"
     ]
    },
    {
     "name": "stderr",
     "output_type": "stream",
     "text": [
      "/Users/Andy/opt/anaconda3/lib/python3.7/site-packages/librosa/core/audio.py:161: UserWarning: PySoundFile failed. Trying audioread instead.\n",
      "  warnings.warn('PySoundFile failed. Trying audioread instead.')\n"
     ]
    },
    {
     "name": "stdout",
     "output_type": "stream",
     "text": [
      "././genres_2/Dubstep/Serenade_-_-TMCFLP001-_Various_Artists_Vol.1_-_04_Doves.mp3 0.46069401502609253 0.2990770936012268 2569.374552865074 2388.977224027582 5228.89622380728 0.11809268960266821\n",
      "././genres_2/Dubstep/01Abattoir.mp3\n"
     ]
    },
    {
     "name": "stderr",
     "output_type": "stream",
     "text": [
      "/Users/Andy/opt/anaconda3/lib/python3.7/site-packages/librosa/core/audio.py:161: UserWarning: PySoundFile failed. Trying audioread instead.\n",
      "  warnings.warn('PySoundFile failed. Trying audioread instead.')\n"
     ]
    },
    {
     "name": "stdout",
     "output_type": "stream",
     "text": [
      "././genres_2/Dubstep/01Abattoir.mp3 0.309723436832428 0.10548287630081177 1415.7336697459714 1335.73095070521 2649.35838031105 0.06700442285382831\n",
      "././genres_2/Dubstep/Trends_&_Boylan_-_Pam_ft._P_Jam.mp3\n"
     ]
    },
    {
     "name": "stderr",
     "output_type": "stream",
     "text": [
      "/Users/Andy/opt/anaconda3/lib/python3.7/site-packages/librosa/core/audio.py:161: UserWarning: PySoundFile failed. Trying audioread instead.\n",
      "  warnings.warn('PySoundFile failed. Trying audioread instead.')\n"
     ]
    },
    {
     "name": "stdout",
     "output_type": "stream",
     "text": [
      "././genres_2/Dubstep/Trends_&_Boylan_-_Pam_ft._P_Jam.mp3 0.30513736605644226 0.16716189682483673 2397.2704290710267 2064.323854959246 4486.924995015226 0.13640833454176335\n",
      "././genres_2/Dubstep/04_-_Zed_Bias_-_Neighbourhood_09_(Chimpo_Remix).mp3\n"
     ]
    },
    {
     "name": "stderr",
     "output_type": "stream",
     "text": [
      "/Users/Andy/opt/anaconda3/lib/python3.7/site-packages/librosa/core/audio.py:161: UserWarning: PySoundFile failed. Trying audioread instead.\n",
      "  warnings.warn('PySoundFile failed. Trying audioread instead.')\n"
     ]
    },
    {
     "name": "stdout",
     "output_type": "stream",
     "text": [
      "././genres_2/Dubstep/04_-_Zed_Bias_-_Neighbourhood_09_(Chimpo_Remix).mp3 0.3559205234050751 0.17156872153282166 3379.833180983062 2634.109271071445 6285.996637543503 0.18188986368909513\n",
      "././genres_2/Dubstep/05_SIMPLER.mp3\n"
     ]
    },
    {
     "name": "stderr",
     "output_type": "stream",
     "text": [
      "/Users/Andy/opt/anaconda3/lib/python3.7/site-packages/librosa/core/audio.py:161: UserWarning: PySoundFile failed. Trying audioread instead.\n",
      "  warnings.warn('PySoundFile failed. Trying audioread instead.')\n"
     ]
    },
    {
     "name": "stdout",
     "output_type": "stream",
     "text": [
      "././genres_2/Dubstep/05_SIMPLER.mp3 0.410422682762146 0.0785064622759819 3286.170599408534 2390.294939448039 6006.2398605169665 0.20205553944315546\n",
      "././genres_2/Dubstep/CNCPTV001_B2_-_Chokez_-_Skullduggery_-_Mastered01.wav\n",
      "././genres_2/Dubstep/CNCPTV001_B2_-_Chokez_-_Skullduggery_-_Mastered01.wav 0.1777937412261963 0.12518887221813202 1167.050247421878 1637.5786277539587 2328.2588525050755 0.035633202218677495\n",
      "././genres_2/Dubstep/01_Dread.mp3\n"
     ]
    },
    {
     "name": "stderr",
     "output_type": "stream",
     "text": [
      "/Users/Andy/opt/anaconda3/lib/python3.7/site-packages/librosa/core/audio.py:161: UserWarning: PySoundFile failed. Trying audioread instead.\n",
      "  warnings.warn('PySoundFile failed. Trying audioread instead.')\n"
     ]
    },
    {
     "name": "stdout",
     "output_type": "stream",
     "text": [
      "././genres_2/Dubstep/01_Dread.mp3 0.4616268575191498 0.21927721798419952 1883.2885413991905 1756.0747032497322 3569.965265189965 0.08607684708526682\n",
      "././genres_2/Dubstep/04_Give_Jah_Glory.mp3\n"
     ]
    },
    {
     "name": "stderr",
     "output_type": "stream",
     "text": [
      "/Users/Andy/opt/anaconda3/lib/python3.7/site-packages/librosa/core/audio.py:161: UserWarning: PySoundFile failed. Trying audioread instead.\n",
      "  warnings.warn('PySoundFile failed. Trying audioread instead.')\n"
     ]
    },
    {
     "name": "stdout",
     "output_type": "stream",
     "text": [
      "././genres_2/Dubstep/04_Give_Jah_Glory.mp3 0.5839823484420776 0.17623911798000336 1128.2816932246976 1559.063925067403 2329.807644377175 0.028697569243039442\n",
      "././genres_2/Dubstep/Commodo_-_Lightz_(320__kbps).mp3\n"
     ]
    },
    {
     "name": "stderr",
     "output_type": "stream",
     "text": [
      "/Users/Andy/opt/anaconda3/lib/python3.7/site-packages/librosa/core/audio.py:161: UserWarning: PySoundFile failed. Trying audioread instead.\n",
      "  warnings.warn('PySoundFile failed. Trying audioread instead.')\n"
     ]
    },
    {
     "name": "stdout",
     "output_type": "stream",
     "text": [
      "././genres_2/Dubstep/Commodo_-_Lightz_(320__kbps).mp3 0.4856396019458771 0.36414915323257446 1803.966140708978 2274.387158014111 3959.8111677059164 0.05563460701856149\n",
      "././genres_2/Dubstep/Backstrap.mp3\n"
     ]
    },
    {
     "name": "stderr",
     "output_type": "stream",
     "text": [
      "/Users/Andy/opt/anaconda3/lib/python3.7/site-packages/librosa/core/audio.py:161: UserWarning: PySoundFile failed. Trying audioread instead.\n",
      "  warnings.warn('PySoundFile failed. Trying audioread instead.')\n"
     ]
    },
    {
     "name": "stdout",
     "output_type": "stream",
     "text": [
      "././genres_2/Dubstep/Backstrap.mp3 0.3695546090602875 0.2570006549358368 2001.484559662664 2185.9702823948205 4187.43361187645 0.0744022803074246\n",
      "././genres_2/Dubstep/23_S_Is_For_Snakes.mp3\n"
     ]
    },
    {
     "name": "stderr",
     "output_type": "stream",
     "text": [
      "/Users/Andy/opt/anaconda3/lib/python3.7/site-packages/librosa/core/audio.py:161: UserWarning: PySoundFile failed. Trying audioread instead.\n",
      "  warnings.warn('PySoundFile failed. Trying audioread instead.')\n"
     ]
    },
    {
     "name": "stdout",
     "output_type": "stream",
     "text": [
      "././genres_2/Dubstep/23_S_Is_For_Snakes.mp3 0.4609661400318146 0.3120006024837494 2138.5122484347735 2341.4209828764924 4683.521640715632 0.08245268996519721\n",
      "././genres_2/Dubstep/Rygby_-_Pyramidz.wav\n",
      "././genres_2/Dubstep/Rygby_-_Pyramidz.wav 0.47575774788856506 0.04441637173295021 3081.50888757126 2280.8314761450933 5540.278331641532 0.19731320693155452\n",
      "././genres_2/Dubstep/03_Tortured.mp3\n"
     ]
    },
    {
     "name": "stderr",
     "output_type": "stream",
     "text": [
      "/Users/Andy/opt/anaconda3/lib/python3.7/site-packages/librosa/core/audio.py:161: UserWarning: PySoundFile failed. Trying audioread instead.\n",
      "  warnings.warn('PySoundFile failed. Trying audioread instead.')\n"
     ]
    },
    {
     "name": "stdout",
     "output_type": "stream",
     "text": [
      "././genres_2/Dubstep/03_Tortured.mp3 0.4672505557537079 0.20723921060562134 2159.6106152878897 2296.678186012337 4549.875890461862 0.09451470961426914\n",
      "././genres_2/Dubstep/Saule_-_Cure_Dem.mp3\n"
     ]
    },
    {
     "name": "stderr",
     "output_type": "stream",
     "text": [
      "/Users/Andy/opt/anaconda3/lib/python3.7/site-packages/librosa/core/audio.py:161: UserWarning: PySoundFile failed. Trying audioread instead.\n",
      "  warnings.warn('PySoundFile failed. Trying audioread instead.')\n"
     ]
    },
    {
     "name": "stdout",
     "output_type": "stream",
     "text": [
      "././genres_2/Dubstep/Saule_-_Cure_Dem.mp3 0.59515780210495 0.36279296875 1720.9837547757775 2330.732122333997 3962.059413971868 0.036434164733178655\n",
      "././genres_2/Dubstep/Chokez_-_Mango_Skank.wav\n",
      "././genres_2/Dubstep/Chokez_-_Mango_Skank.wav 0.5652691721916199 0.304874062538147 2164.638525184826 2754.860165887023 4988.683600547419 0.041433666255800465\n",
      "././genres_2/Dubstep/CNCPTV001_A1_-_Cartridge_-_Sibel_-_Ten_Eight_Seven_Mastered_2.wav\n",
      "././genres_2/Dubstep/CNCPTV001_A1_-_Cartridge_-_Sibel_-_Ten_Eight_Seven_Mastered_2.wav 0.2886907160282135 0.07538788765668869 1557.1060282936837 1710.1342761956832 3444.663006634281 0.08226122933584687\n",
      "././genres_2/Dubstep/CNCPTV001_D1_-_Sepia_-_Anubis_-_Ten_Eight_Seven_Mastered.wav\n",
      "././genres_2/Dubstep/CNCPTV001_D1_-_Sepia_-_Anubis_-_Ten_Eight_Seven_Mastered.wav 0.4575013220310211 0.16647209227085114 2722.3293065003395 1929.8368494850079 4640.904883718823 0.18727795098607888\n",
      "././genres_2/Dubstep/12_Reclaim.mp3\n"
     ]
    },
    {
     "name": "stderr",
     "output_type": "stream",
     "text": [
      "/Users/Andy/opt/anaconda3/lib/python3.7/site-packages/librosa/core/audio.py:161: UserWarning: PySoundFile failed. Trying audioread instead.\n",
      "  warnings.warn('PySoundFile failed. Trying audioread instead.')\n"
     ]
    },
    {
     "name": "stdout",
     "output_type": "stream",
     "text": [
      "././genres_2/Dubstep/12_Reclaim.mp3 0.5751239657402039 0.3011943995952606 1784.5545752259045 2428.7135354812654 4319.0559404908645 0.04761818445475638\n",
      "././genres_2/Dubstep/ALXZNDR_&_Killa_P_-_Bill_Dem_Quick_[DUB].wav\n",
      "././genres_2/Dubstep/ALXZNDR_&_Killa_P_-_Bill_Dem_Quick_[DUB].wav 0.5604025721549988 0.3695882558822632 2338.858183079148 2778.956745031648 5641.299530524942 0.05290091176044084\n",
      "././genres_2/Dubstep/Glume_-_Uh.wav\n",
      "././genres_2/Dubstep/Glume_-_Uh.wav 0.5060096979141235 0.27525192499160767 2390.6833080760875 2542.340150127306 4860.133875163138 0.06790508084396751\n",
      "././genres_2/Dubstep/PRRR_[DUBPLATE]_{RIP}.mp3\n"
     ]
    },
    {
     "name": "stderr",
     "output_type": "stream",
     "text": [
      "/Users/Andy/opt/anaconda3/lib/python3.7/site-packages/librosa/core/audio.py:161: UserWarning: PySoundFile failed. Trying audioread instead.\n",
      "  warnings.warn('PySoundFile failed. Trying audioread instead.')\n"
     ]
    },
    {
     "name": "stdout",
     "output_type": "stream",
     "text": [
      "././genres_2/Dubstep/PRRR_[DUBPLATE]_{RIP}.mp3 0.5023058652877808 0.3141140937805176 1759.3592923834894 2261.230147548497 4075.5209088602087 0.043036724187935034\n",
      "././genres_2/Dubstep/02_Doves.mp3\n"
     ]
    },
    {
     "name": "stderr",
     "output_type": "stream",
     "text": [
      "/Users/Andy/opt/anaconda3/lib/python3.7/site-packages/librosa/core/audio.py:161: UserWarning: PySoundFile failed. Trying audioread instead.\n",
      "  warnings.warn('PySoundFile failed. Trying audioread instead.')\n"
     ]
    },
    {
     "name": "stdout",
     "output_type": "stream",
     "text": [
      "././genres_2/Dubstep/02_Doves.mp3 0.3431629538536072 0.3105628192424774 2585.2819617081714 2720.355524880765 5462.613913409948 0.06440441016531323\n",
      "././genres_2/Dubstep/Zha_-_NAAN003_-_Mumbai_-_The_Tale_Of_She_-_01_Mumbai.wav\n",
      "././genres_2/Dubstep/Zha_-_NAAN003_-_Mumbai_-_The_Tale_Of_She_-_01_Mumbai.wav 0.4430784583091736 0.04808453470468521 4126.125916872402 2530.613404921423 7017.201264773057 0.2910915295098608\n",
      "././genres_2/Dubstep/Skream_-_Rutten.mp3\n"
     ]
    },
    {
     "name": "stderr",
     "output_type": "stream",
     "text": [
      "/Users/Andy/opt/anaconda3/lib/python3.7/site-packages/librosa/core/audio.py:161: UserWarning: PySoundFile failed. Trying audioread instead.\n",
      "  warnings.warn('PySoundFile failed. Trying audioread instead.')\n"
     ]
    },
    {
     "name": "stdout",
     "output_type": "stream",
     "text": [
      "././genres_2/Dubstep/Skream_-_Rutten.mp3 0.693213164806366 0.2233605980873108 1897.444818947622 2344.5400126894147 4359.874100474913 0.04305711644431554\n",
      "././genres_2/Dubstep/Bring_U_Up_(Jasper_James_Remix).mp3\n"
     ]
    },
    {
     "name": "stderr",
     "output_type": "stream",
     "text": [
      "/Users/Andy/opt/anaconda3/lib/python3.7/site-packages/librosa/core/audio.py:161: UserWarning: PySoundFile failed. Trying audioread instead.\n",
      "  warnings.warn('PySoundFile failed. Trying audioread instead.')\n"
     ]
    },
    {
     "name": "stdout",
     "output_type": "stream",
     "text": [
      "././genres_2/Dubstep/Bring_U_Up_(Jasper_James_Remix).mp3 0.5252838730812073 0.11060202866792679 2992.651259080913 2417.502754526504 5557.1151981221 0.17063220526392112\n",
      "././genres_2/Dubstep/01_Congo.mp3\n"
     ]
    },
    {
     "name": "stderr",
     "output_type": "stream",
     "text": [
      "/Users/Andy/opt/anaconda3/lib/python3.7/site-packages/librosa/core/audio.py:161: UserWarning: PySoundFile failed. Trying audioread instead.\n",
      "  warnings.warn('PySoundFile failed. Trying audioread instead.')\n"
     ]
    },
    {
     "name": "stdout",
     "output_type": "stream",
     "text": [
      "././genres_2/Dubstep/01_Congo.mp3 0.3801807165145874 0.14859892427921295 2518.6699864123225 2786.427362799664 6089.0752451602375 0.09760413645591648\n",
      "././genres_2/Dubstep/Drumterror_-_Sapphire.mp3\n"
     ]
    },
    {
     "name": "stderr",
     "output_type": "stream",
     "text": [
      "/Users/Andy/opt/anaconda3/lib/python3.7/site-packages/librosa/core/audio.py:161: UserWarning: PySoundFile failed. Trying audioread instead.\n",
      "  warnings.warn('PySoundFile failed. Trying audioread instead.')\n"
     ]
    },
    {
     "name": "stdout",
     "output_type": "stream",
     "text": [
      "././genres_2/Dubstep/Drumterror_-_Sapphire.mp3 0.43941357731819153 0.20504853129386902 2422.0277207314725 2618.8016981996366 5254.776036379785 0.0654296875\n",
      "././genres_2/Dubstep/Trends_&_Boylan_-_Bells_ft._Riko_Dan.mp3\n"
     ]
    },
    {
     "name": "stderr",
     "output_type": "stream",
     "text": [
      "/Users/Andy/opt/anaconda3/lib/python3.7/site-packages/librosa/core/audio.py:161: UserWarning: PySoundFile failed. Trying audioread instead.\n",
      "  warnings.warn('PySoundFile failed. Trying audioread instead.')\n"
     ]
    },
    {
     "name": "stdout",
     "output_type": "stream",
     "text": [
      "././genres_2/Dubstep/Trends_&_Boylan_-_Bells_ft._Riko_Dan.mp3 0.5396694540977478 0.3253813087940216 1905.6791584446812 2222.8508624079304 4024.4607381090486 0.05201384860788863\n",
      "././genres_2/Dubstep/Chimpo_-_Gaza_(feat._Trigga)_(Sukh_Knight_Remix).mp3\n"
     ]
    },
    {
     "name": "stderr",
     "output_type": "stream",
     "text": [
      "/Users/Andy/opt/anaconda3/lib/python3.7/site-packages/librosa/core/audio.py:161: UserWarning: PySoundFile failed. Trying audioread instead.\n",
      "  warnings.warn('PySoundFile failed. Trying audioread instead.')\n"
     ]
    },
    {
     "name": "stdout",
     "output_type": "stream",
     "text": [
      "././genres_2/Dubstep/Chimpo_-_Gaza_(feat._Trigga)_(Sukh_Knight_Remix).mp3 0.5205660462379456 0.28565192222595215 3115.6125250343316 2699.9307631279617 6329.337829448231 0.14057401935904873\n",
      "././genres_2/Dubstep/Selekta_(CRUCIAL006).mp3\n"
     ]
    },
    {
     "name": "stderr",
     "output_type": "stream",
     "text": [
      "/Users/Andy/opt/anaconda3/lib/python3.7/site-packages/librosa/core/audio.py:161: UserWarning: PySoundFile failed. Trying audioread instead.\n",
      "  warnings.warn('PySoundFile failed. Trying audioread instead.')\n"
     ]
    },
    {
     "name": "stdout",
     "output_type": "stream",
     "text": [
      "././genres_2/Dubstep/Selekta_(CRUCIAL006).mp3 0.279807448387146 0.05591212585568428 1959.8730652530285 2000.8198838661021 3673.609418050319 0.08099917524651973\n",
      "././genres_2/Dubstep/Bukez_Finezt_-_Unknown_Force.mp3\n"
     ]
    },
    {
     "name": "stderr",
     "output_type": "stream",
     "text": [
      "/Users/Andy/opt/anaconda3/lib/python3.7/site-packages/librosa/core/audio.py:161: UserWarning: PySoundFile failed. Trying audioread instead.\n",
      "  warnings.warn('PySoundFile failed. Trying audioread instead.')\n"
     ]
    },
    {
     "name": "stdout",
     "output_type": "stream",
     "text": [
      "././genres_2/Dubstep/Bukez_Finezt_-_Unknown_Force.mp3 0.4152511954307556 0.07885794341564178 2261.851334296762 1912.8452434920148 4158.506176587877 0.13439969728828308\n",
      "././genres_2/Dubstep/Trends_&_Boylan_-_Norman_Bates_(Spooky_Refix)_[320_VINYL_RIP].mp3\n"
     ]
    },
    {
     "name": "stderr",
     "output_type": "stream",
     "text": [
      "/Users/Andy/opt/anaconda3/lib/python3.7/site-packages/librosa/core/audio.py:161: UserWarning: PySoundFile failed. Trying audioread instead.\n",
      "  warnings.warn('PySoundFile failed. Trying audioread instead.')\n"
     ]
    },
    {
     "name": "stdout",
     "output_type": "stream",
     "text": [
      "././genres_2/Dubstep/Trends_&_Boylan_-_Norman_Bates_(Spooky_Refix)_[320_VINYL_RIP].mp3 0.6766101121902466 0.30014389753341675 1718.6828448862325 2133.7399120440436 3824.4917230097158 0.05032129132830626\n",
      "././genres_2/Dubstep/06_Truly_Dread.mp3\n"
     ]
    },
    {
     "name": "stderr",
     "output_type": "stream",
     "text": [
      "/Users/Andy/opt/anaconda3/lib/python3.7/site-packages/librosa/core/audio.py:161: UserWarning: PySoundFile failed. Trying audioread instead.\n",
      "  warnings.warn('PySoundFile failed. Trying audioread instead.')\n"
     ]
    },
    {
     "name": "stdout",
     "output_type": "stream",
     "text": [
      "././genres_2/Dubstep/06_Truly_Dread.mp3 0.30091357231140137 0.11049320548772812 1249.537688621045 1312.5018777698726 1860.7984927856728 0.09872117894431555\n",
      "././genres_2/Dubstep/Goblin.mp3\n"
     ]
    },
    {
     "name": "stderr",
     "output_type": "stream",
     "text": [
      "/Users/Andy/opt/anaconda3/lib/python3.7/site-packages/librosa/core/audio.py:161: UserWarning: PySoundFile failed. Trying audioread instead.\n",
      "  warnings.warn('PySoundFile failed. Trying audioread instead.')\n"
     ]
    },
    {
     "name": "stdout",
     "output_type": "stream",
     "text": [
      "././genres_2/Dubstep/Goblin.mp3 0.6210766434669495 0.1670381724834442 2079.2203372169242 2283.3158001608017 4407.636843369344 0.06614568227958237\n",
      "././genres_2/Dubstep/Causa_&_Shu_-_Dubhelmet.mp3\n"
     ]
    },
    {
     "name": "stderr",
     "output_type": "stream",
     "text": [
      "/Users/Andy/opt/anaconda3/lib/python3.7/site-packages/librosa/core/audio.py:161: UserWarning: PySoundFile failed. Trying audioread instead.\n",
      "  warnings.warn('PySoundFile failed. Trying audioread instead.')\n"
     ]
    },
    {
     "name": "stdout",
     "output_type": "stream",
     "text": [
      "././genres_2/Dubstep/Causa_&_Shu_-_Dubhelmet.mp3 0.41588830947875977 0.06177971884608269 2997.490682650522 2267.577634684537 5316.402964580917 0.17895224586716937\n",
      "././genres_2/Dubstep/Trends_&_Boylan_-_Untouchable_(Remix).mp3\n"
     ]
    },
    {
     "name": "stderr",
     "output_type": "stream",
     "text": [
      "/Users/Andy/opt/anaconda3/lib/python3.7/site-packages/librosa/core/audio.py:161: UserWarning: PySoundFile failed. Trying audioread instead.\n",
      "  warnings.warn('PySoundFile failed. Trying audioread instead.')\n"
     ]
    },
    {
     "name": "stdout",
     "output_type": "stream",
     "text": [
      "././genres_2/Dubstep/Trends_&_Boylan_-_Untouchable_(Remix).mp3 0.31038573384284973 0.13120035827159882 1686.9098754330278 1754.25050879084 3391.054823448376 0.0854469529437355\n",
      "././genres_2/Dubstep/12619150_Floating_Original_Mix.aiff\n",
      "././genres_2/Dubstep/12619150_Floating_Original_Mix.aiff 0.3988145589828491 0.14491038024425507 2394.807800620869 2328.3779453178745 4660.4146652044665 0.10641019250290024\n",
      "././genres_2/Dubstep/02_Nook_Shot_(Commodo_Remix).mp3\n"
     ]
    },
    {
     "name": "stderr",
     "output_type": "stream",
     "text": [
      "/Users/Andy/opt/anaconda3/lib/python3.7/site-packages/librosa/core/audio.py:161: UserWarning: PySoundFile failed. Trying audioread instead.\n",
      "  warnings.warn('PySoundFile failed. Trying audioread instead.')\n"
     ]
    },
    {
     "name": "stdout",
     "output_type": "stream",
     "text": [
      "././genres_2/Dubstep/02_Nook_Shot_(Commodo_Remix).mp3 0.44838592410087585 0.1420157253742218 1570.127514286944 1811.0453006901894 3054.342474351073 0.0600517963312065\n",
      "././genres_2/Dubstep/The_Greys_-_Alice_Land.wav\n",
      "././genres_2/Dubstep/The_Greys_-_Alice_Land.wav 0.5432264804840088 0.345671147108078 2757.0038541175486 2768.4515291367766 5792.481601653132 0.08911416038283063\n",
      "././genres_2/Dubstep/03_Babylon_(feat._Daddy_Gee)_(Dub_Mix).mp3\n"
     ]
    },
    {
     "name": "stderr",
     "output_type": "stream",
     "text": [
      "/Users/Andy/opt/anaconda3/lib/python3.7/site-packages/librosa/core/audio.py:161: UserWarning: PySoundFile failed. Trying audioread instead.\n",
      "  warnings.warn('PySoundFile failed. Trying audioread instead.')\n"
     ]
    },
    {
     "name": "stdout",
     "output_type": "stream",
     "text": [
      "././genres_2/Dubstep/03_Babylon_(feat._Daddy_Gee)_(Dub_Mix).mp3 0.550062894821167 0.1616605818271637 2957.453282454109 2693.5796749528827 6081.681012996664 0.14910591284802785\n",
      "././genres_2/Dubstep/01_Buckwild_(Original_Mix).mp3\n"
     ]
    },
    {
     "name": "stderr",
     "output_type": "stream",
     "text": [
      "/Users/Andy/opt/anaconda3/lib/python3.7/site-packages/librosa/core/audio.py:161: UserWarning: PySoundFile failed. Trying audioread instead.\n",
      "  warnings.warn('PySoundFile failed. Trying audioread instead.')\n"
     ]
    },
    {
     "ename": "KeyboardInterrupt",
     "evalue": "",
     "output_type": "error",
     "traceback": [
      "\u001b[0;31m---------------------------------------------------------------------------\u001b[0m",
      "\u001b[0;31mKeyboardInterrupt\u001b[0m                         Traceback (most recent call last)",
      "\u001b[0;32m<ipython-input-13-baef929c398f>\u001b[0m in \u001b[0;36m<module>\u001b[0;34m\u001b[0m\n\u001b[1;32m      1\u001b[0m \u001b[0;32mfor\u001b[0m \u001b[0mg\u001b[0m \u001b[0;32min\u001b[0m \u001b[0mgenre\u001b[0m\u001b[0;34m:\u001b[0m\u001b[0;34m\u001b[0m\u001b[0;34m\u001b[0m\u001b[0m\n\u001b[0;32m----> 2\u001b[0;31m     \u001b[0mgenerate_csv\u001b[0m\u001b[0;34m(\u001b[0m\u001b[0;34mf'./genres_2/{g}'\u001b[0m\u001b[0;34m,\u001b[0m\u001b[0;34m'genres_2_data.csv'\u001b[0m\u001b[0;34m)\u001b[0m\u001b[0;34m\u001b[0m\u001b[0;34m\u001b[0m\u001b[0m\n\u001b[0m\u001b[1;32m      3\u001b[0m     \u001b[0;31m#['Breaks', 'Afro', 'Disco', 'Drumz', 'Trap', 'Cheeze', 'house', 'Dark', 'Murlo', 'Dubstep']\u001b[0m\u001b[0;34m\u001b[0m\u001b[0;34m\u001b[0m\u001b[0;34m\u001b[0m\u001b[0m\n",
      "\u001b[0;32m<ipython-input-8-9e6b9de39948>\u001b[0m in \u001b[0;36mgenerate_csv\u001b[0;34m(file, CSV_name)\u001b[0m\n\u001b[1;32m     34\u001b[0m         \u001b[0;32mif\u001b[0m \u001b[0;32mnot\u001b[0m \u001b[0mfilename\u001b[0m\u001b[0;34m.\u001b[0m\u001b[0mstartswith\u001b[0m\u001b[0;34m(\u001b[0m\u001b[0;34m'.'\u001b[0m\u001b[0;34m)\u001b[0m \u001b[0;32mand\u001b[0m \u001b[0mos\u001b[0m\u001b[0;34m.\u001b[0m\u001b[0mpath\u001b[0m\u001b[0;34m.\u001b[0m\u001b[0misfile\u001b[0m\u001b[0;34m(\u001b[0m\u001b[0mos\u001b[0m\u001b[0;34m.\u001b[0m\u001b[0mpath\u001b[0m\u001b[0;34m.\u001b[0m\u001b[0mjoin\u001b[0m\u001b[0;34m(\u001b[0m\u001b[0mfile\u001b[0m\u001b[0;34m,\u001b[0m \u001b[0mfilename\u001b[0m\u001b[0;34m)\u001b[0m\u001b[0;34m)\u001b[0m\u001b[0;34m:\u001b[0m\u001b[0;34m\u001b[0m\u001b[0;34m\u001b[0m\u001b[0m\n\u001b[1;32m     35\u001b[0m             \u001b[0msong_name\u001b[0m \u001b[0;34m=\u001b[0m \u001b[0;34mf'./{file}/{filename}'\u001b[0m\u001b[0;34m\u001b[0m\u001b[0;34m\u001b[0m\u001b[0m\n\u001b[0;32m---> 36\u001b[0;31m             \u001b[0mFunct\u001b[0m\u001b[0;34m.\u001b[0m\u001b[0mget_data\u001b[0m\u001b[0;34m(\u001b[0m\u001b[0msong_name\u001b[0m\u001b[0;34m,\u001b[0m\u001b[0mCSV_name\u001b[0m\u001b[0;34m,\u001b[0m\u001b[0;36m30\u001b[0m\u001b[0;34m,\u001b[0m\u001b[0;34m'NA'\u001b[0m\u001b[0;34m,\u001b[0m\u001b[0;32mTrue\u001b[0m\u001b[0;34m,\u001b[0m\u001b[0;32mTrue\u001b[0m\u001b[0;34m)\u001b[0m\u001b[0;34m\u001b[0m\u001b[0;34m\u001b[0m\u001b[0m\n\u001b[0m\u001b[1;32m     37\u001b[0m \u001b[0;34m\u001b[0m\u001b[0m\n\u001b[1;32m     38\u001b[0m \u001b[0;32mdef\u001b[0m \u001b[0mmake_playlists\u001b[0m\u001b[0;34m(\u001b[0m\u001b[0mfile\u001b[0m\u001b[0;34m,\u001b[0m\u001b[0mCSV_name\u001b[0m\u001b[0;34m)\u001b[0m\u001b[0;34m:\u001b[0m\u001b[0;34m\u001b[0m\u001b[0;34m\u001b[0m\u001b[0m\n",
      "\u001b[0;32m~/Documents/Portfolio/Music-Classification/Funct.py\u001b[0m in \u001b[0;36mget_data\u001b[0;34m(songname, target_file, start_time, genre, test, debug)\u001b[0m\n\u001b[1;32m     29\u001b[0m     \u001b[0mspec_cent\u001b[0m \u001b[0;34m=\u001b[0m \u001b[0mlibrosa\u001b[0m\u001b[0;34m.\u001b[0m\u001b[0mfeature\u001b[0m\u001b[0;34m.\u001b[0m\u001b[0mspectral_centroid\u001b[0m\u001b[0;34m(\u001b[0m\u001b[0my\u001b[0m\u001b[0;34m=\u001b[0m\u001b[0my\u001b[0m\u001b[0;34m,\u001b[0m \u001b[0msr\u001b[0m\u001b[0;34m=\u001b[0m\u001b[0msr\u001b[0m\u001b[0;34m)\u001b[0m\u001b[0;34m\u001b[0m\u001b[0;34m\u001b[0m\u001b[0m\n\u001b[1;32m     30\u001b[0m     \u001b[0mspec_bw\u001b[0m \u001b[0;34m=\u001b[0m \u001b[0mlibrosa\u001b[0m\u001b[0;34m.\u001b[0m\u001b[0mfeature\u001b[0m\u001b[0;34m.\u001b[0m\u001b[0mspectral_bandwidth\u001b[0m\u001b[0;34m(\u001b[0m\u001b[0my\u001b[0m\u001b[0;34m=\u001b[0m\u001b[0my\u001b[0m\u001b[0;34m,\u001b[0m \u001b[0msr\u001b[0m\u001b[0;34m=\u001b[0m\u001b[0msr\u001b[0m\u001b[0;34m)\u001b[0m\u001b[0;34m\u001b[0m\u001b[0;34m\u001b[0m\u001b[0m\n\u001b[0;32m---> 31\u001b[0;31m     \u001b[0mrolloff\u001b[0m \u001b[0;34m=\u001b[0m \u001b[0mlibrosa\u001b[0m\u001b[0;34m.\u001b[0m\u001b[0mfeature\u001b[0m\u001b[0;34m.\u001b[0m\u001b[0mspectral_rolloff\u001b[0m\u001b[0;34m(\u001b[0m\u001b[0my\u001b[0m\u001b[0;34m=\u001b[0m\u001b[0my\u001b[0m\u001b[0;34m,\u001b[0m \u001b[0msr\u001b[0m\u001b[0;34m=\u001b[0m\u001b[0msr\u001b[0m\u001b[0;34m)\u001b[0m\u001b[0;34m\u001b[0m\u001b[0;34m\u001b[0m\u001b[0m\n\u001b[0m\u001b[1;32m     32\u001b[0m     \u001b[0mzcr\u001b[0m \u001b[0;34m=\u001b[0m \u001b[0mlibrosa\u001b[0m\u001b[0;34m.\u001b[0m\u001b[0mfeature\u001b[0m\u001b[0;34m.\u001b[0m\u001b[0mzero_crossing_rate\u001b[0m\u001b[0;34m(\u001b[0m\u001b[0my\u001b[0m\u001b[0;34m)\u001b[0m\u001b[0;34m\u001b[0m\u001b[0;34m\u001b[0m\u001b[0m\n\u001b[1;32m     33\u001b[0m     \u001b[0mmfcc\u001b[0m \u001b[0;34m=\u001b[0m \u001b[0mlibrosa\u001b[0m\u001b[0;34m.\u001b[0m\u001b[0mfeature\u001b[0m\u001b[0;34m.\u001b[0m\u001b[0mmfcc\u001b[0m\u001b[0;34m(\u001b[0m\u001b[0my\u001b[0m\u001b[0;34m=\u001b[0m\u001b[0my\u001b[0m\u001b[0;34m,\u001b[0m \u001b[0msr\u001b[0m\u001b[0;34m=\u001b[0m\u001b[0msr\u001b[0m\u001b[0;34m)\u001b[0m\u001b[0;34m\u001b[0m\u001b[0;34m\u001b[0m\u001b[0m\n",
      "\u001b[0;32m~/opt/anaconda3/lib/python3.7/site-packages/librosa/feature/spectral.py\u001b[0m in \u001b[0;36mspectral_rolloff\u001b[0;34m(y, sr, S, n_fft, hop_length, win_length, window, center, pad_mode, freq, roll_percent)\u001b[0m\n\u001b[1;32m    626\u001b[0m     S, n_fft = _spectrogram(y=y, S=S, n_fft=n_fft, hop_length=hop_length,\n\u001b[1;32m    627\u001b[0m                             \u001b[0mwin_length\u001b[0m\u001b[0;34m=\u001b[0m\u001b[0mwin_length\u001b[0m\u001b[0;34m,\u001b[0m \u001b[0mwindow\u001b[0m\u001b[0;34m=\u001b[0m\u001b[0mwindow\u001b[0m\u001b[0;34m,\u001b[0m \u001b[0mcenter\u001b[0m\u001b[0;34m=\u001b[0m\u001b[0mcenter\u001b[0m\u001b[0;34m,\u001b[0m\u001b[0;34m\u001b[0m\u001b[0;34m\u001b[0m\u001b[0m\n\u001b[0;32m--> 628\u001b[0;31m                             pad_mode=pad_mode)\n\u001b[0m\u001b[1;32m    629\u001b[0m \u001b[0;34m\u001b[0m\u001b[0m\n\u001b[1;32m    630\u001b[0m     \u001b[0;32mif\u001b[0m \u001b[0;32mnot\u001b[0m \u001b[0mnp\u001b[0m\u001b[0;34m.\u001b[0m\u001b[0misrealobj\u001b[0m\u001b[0;34m(\u001b[0m\u001b[0mS\u001b[0m\u001b[0;34m)\u001b[0m\u001b[0;34m:\u001b[0m\u001b[0;34m\u001b[0m\u001b[0;34m\u001b[0m\u001b[0m\n",
      "\u001b[0;32m~/opt/anaconda3/lib/python3.7/site-packages/librosa/core/spectrum.py\u001b[0m in \u001b[0;36m_spectrogram\u001b[0;34m(y, S, n_fft, hop_length, power, win_length, window, center, pad_mode)\u001b[0m\n\u001b[1;32m   2528\u001b[0m         S = np.abs(stft(y, n_fft=n_fft, hop_length=hop_length,\n\u001b[1;32m   2529\u001b[0m                         \u001b[0mwin_length\u001b[0m\u001b[0;34m=\u001b[0m\u001b[0mwin_length\u001b[0m\u001b[0;34m,\u001b[0m \u001b[0mcenter\u001b[0m\u001b[0;34m=\u001b[0m\u001b[0mcenter\u001b[0m\u001b[0;34m,\u001b[0m\u001b[0;34m\u001b[0m\u001b[0;34m\u001b[0m\u001b[0m\n\u001b[0;32m-> 2530\u001b[0;31m                         window=window, pad_mode=pad_mode))**power\n\u001b[0m\u001b[1;32m   2531\u001b[0m \u001b[0;34m\u001b[0m\u001b[0m\n\u001b[1;32m   2532\u001b[0m     \u001b[0;32mreturn\u001b[0m \u001b[0mS\u001b[0m\u001b[0;34m,\u001b[0m \u001b[0mn_fft\u001b[0m\u001b[0;34m\u001b[0m\u001b[0;34m\u001b[0m\u001b[0m\n",
      "\u001b[0;32m~/opt/anaconda3/lib/python3.7/site-packages/librosa/core/spectrum.py\u001b[0m in \u001b[0;36mstft\u001b[0;34m(y, n_fft, hop_length, win_length, window, center, dtype, pad_mode)\u001b[0m\n\u001b[1;32m    213\u001b[0m \u001b[0;34m\u001b[0m\u001b[0m\n\u001b[1;32m    214\u001b[0m     \u001b[0;31m# Check audio is valid\u001b[0m\u001b[0;34m\u001b[0m\u001b[0;34m\u001b[0m\u001b[0;34m\u001b[0m\u001b[0m\n\u001b[0;32m--> 215\u001b[0;31m     \u001b[0mutil\u001b[0m\u001b[0;34m.\u001b[0m\u001b[0mvalid_audio\u001b[0m\u001b[0;34m(\u001b[0m\u001b[0my\u001b[0m\u001b[0;34m)\u001b[0m\u001b[0;34m\u001b[0m\u001b[0;34m\u001b[0m\u001b[0m\n\u001b[0m\u001b[1;32m    216\u001b[0m \u001b[0;34m\u001b[0m\u001b[0m\n\u001b[1;32m    217\u001b[0m     \u001b[0;31m# Pad the time series so that frames are centered\u001b[0m\u001b[0;34m\u001b[0m\u001b[0;34m\u001b[0m\u001b[0;34m\u001b[0m\u001b[0m\n",
      "\u001b[0;32m~/opt/anaconda3/lib/python3.7/site-packages/librosa/util/utils.py\u001b[0m in \u001b[0;36mvalid_audio\u001b[0;34m(y, mono)\u001b[0m\n\u001b[1;32m    272\u001b[0m                              'Received shape={}'.format(y.shape))\n\u001b[1;32m    273\u001b[0m \u001b[0;34m\u001b[0m\u001b[0m\n\u001b[0;32m--> 274\u001b[0;31m     \u001b[0;32mif\u001b[0m \u001b[0;32mnot\u001b[0m \u001b[0mnp\u001b[0m\u001b[0;34m.\u001b[0m\u001b[0misfinite\u001b[0m\u001b[0;34m(\u001b[0m\u001b[0my\u001b[0m\u001b[0;34m)\u001b[0m\u001b[0;34m.\u001b[0m\u001b[0mall\u001b[0m\u001b[0;34m(\u001b[0m\u001b[0;34m)\u001b[0m\u001b[0;34m:\u001b[0m\u001b[0;34m\u001b[0m\u001b[0;34m\u001b[0m\u001b[0m\n\u001b[0m\u001b[1;32m    275\u001b[0m         \u001b[0;32mraise\u001b[0m \u001b[0mParameterError\u001b[0m\u001b[0;34m(\u001b[0m\u001b[0;34m'Audio buffer is not finite everywhere'\u001b[0m\u001b[0;34m)\u001b[0m\u001b[0;34m\u001b[0m\u001b[0;34m\u001b[0m\u001b[0m\n\u001b[1;32m    276\u001b[0m \u001b[0;34m\u001b[0m\u001b[0m\n",
      "\u001b[0;31mKeyboardInterrupt\u001b[0m: "
     ]
    }
   ],
   "source": []
  },
  {
   "cell_type": "code",
   "execution_count": 5,
   "metadata": {},
   "outputs": [
    {
     "name": "stdout",
     "output_type": "stream",
     "text": [
      "././genres_2/Afro/From_a_Past_Life.mp3\n"
     ]
    },
    {
     "name": "stderr",
     "output_type": "stream",
     "text": [
      "/Users/Andy/opt/anaconda3/lib/python3.7/site-packages/librosa/core/audio.py:161: UserWarning: PySoundFile failed. Trying audioread instead.\n",
      "  warnings.warn('PySoundFile failed. Trying audioread instead.')\n"
     ]
    },
    {
     "name": "stdout",
     "output_type": "stream",
     "text": [
      "././genres_2/Afro/From_a_Past_Life.mp3 0.470350980758667 0.22258314490318298 2415.251510046641 2252.8845390411097 4694.812833073521 0.1321134987674014\n",
      "././genres_2/Afro/05_-_Pairs.aiff\n",
      "././genres_2/Afro/05_-_Pairs.aiff 0.43628445267677307 0.28339171409606934 2209.9521627648282 2497.733130648973 4631.487229915893 0.09109220925174014\n",
      "././genres_2/Afro/01_Tzantza.mp3\n"
     ]
    },
    {
     "name": "stderr",
     "output_type": "stream",
     "text": [
      "/Users/Andy/opt/anaconda3/lib/python3.7/site-packages/librosa/core/audio.py:161: UserWarning: PySoundFile failed. Trying audioread instead.\n",
      "  warnings.warn('PySoundFile failed. Trying audioread instead.')\n"
     ]
    },
    {
     "name": "stdout",
     "output_type": "stream",
     "text": [
      "././genres_2/Afro/01_Tzantza.mp3 0.5987828373908997 0.24141313135623932 873.5091815250664 1695.2363341722926 1740.0426877900231 0.011904546113689095\n",
      "././genres_2/Afro/06_Carnival_Drum_Song_(DrumTalk_Remix)_1.mp3\n"
     ]
    },
    {
     "name": "stderr",
     "output_type": "stream",
     "text": [
      "/Users/Andy/opt/anaconda3/lib/python3.7/site-packages/librosa/core/audio.py:161: UserWarning: PySoundFile failed. Trying audioread instead.\n",
      "  warnings.warn('PySoundFile failed. Trying audioread instead.')\n"
     ]
    },
    {
     "ename": "EOFError",
     "evalue": "",
     "output_type": "error",
     "traceback": [
      "\u001b[0;31m---------------------------------------------------------------------------\u001b[0m",
      "\u001b[0;31mRuntimeError\u001b[0m                              Traceback (most recent call last)",
      "\u001b[0;32m~/opt/anaconda3/lib/python3.7/site-packages/librosa/core/audio.py\u001b[0m in \u001b[0;36mload\u001b[0;34m(path, sr, mono, offset, duration, dtype, res_type)\u001b[0m\n\u001b[1;32m    128\u001b[0m     \u001b[0;32mtry\u001b[0m\u001b[0;34m:\u001b[0m\u001b[0;34m\u001b[0m\u001b[0;34m\u001b[0m\u001b[0m\n\u001b[0;32m--> 129\u001b[0;31m         \u001b[0;32mwith\u001b[0m \u001b[0msf\u001b[0m\u001b[0;34m.\u001b[0m\u001b[0mSoundFile\u001b[0m\u001b[0;34m(\u001b[0m\u001b[0mpath\u001b[0m\u001b[0;34m)\u001b[0m \u001b[0;32mas\u001b[0m \u001b[0msf_desc\u001b[0m\u001b[0;34m:\u001b[0m\u001b[0;34m\u001b[0m\u001b[0;34m\u001b[0m\u001b[0m\n\u001b[0m\u001b[1;32m    130\u001b[0m             \u001b[0msr_native\u001b[0m \u001b[0;34m=\u001b[0m \u001b[0msf_desc\u001b[0m\u001b[0;34m.\u001b[0m\u001b[0msamplerate\u001b[0m\u001b[0;34m\u001b[0m\u001b[0;34m\u001b[0m\u001b[0m\n",
      "\u001b[0;32m~/opt/anaconda3/lib/python3.7/site-packages/soundfile.py\u001b[0m in \u001b[0;36m__init__\u001b[0;34m(self, file, mode, samplerate, channels, subtype, endian, format, closefd)\u001b[0m\n\u001b[1;32m    626\u001b[0m                                          format, subtype, endian)\n\u001b[0;32m--> 627\u001b[0;31m         \u001b[0mself\u001b[0m\u001b[0;34m.\u001b[0m\u001b[0m_file\u001b[0m \u001b[0;34m=\u001b[0m \u001b[0mself\u001b[0m\u001b[0;34m.\u001b[0m\u001b[0m_open\u001b[0m\u001b[0;34m(\u001b[0m\u001b[0mfile\u001b[0m\u001b[0;34m,\u001b[0m \u001b[0mmode_int\u001b[0m\u001b[0;34m,\u001b[0m \u001b[0mclosefd\u001b[0m\u001b[0;34m)\u001b[0m\u001b[0;34m\u001b[0m\u001b[0;34m\u001b[0m\u001b[0m\n\u001b[0m\u001b[1;32m    628\u001b[0m         \u001b[0;32mif\u001b[0m \u001b[0mset\u001b[0m\u001b[0;34m(\u001b[0m\u001b[0mmode\u001b[0m\u001b[0;34m)\u001b[0m\u001b[0;34m.\u001b[0m\u001b[0missuperset\u001b[0m\u001b[0;34m(\u001b[0m\u001b[0;34m'r+'\u001b[0m\u001b[0;34m)\u001b[0m \u001b[0;32mand\u001b[0m \u001b[0mself\u001b[0m\u001b[0;34m.\u001b[0m\u001b[0mseekable\u001b[0m\u001b[0;34m(\u001b[0m\u001b[0;34m)\u001b[0m\u001b[0;34m:\u001b[0m\u001b[0;34m\u001b[0m\u001b[0;34m\u001b[0m\u001b[0m\n",
      "\u001b[0;32m~/opt/anaconda3/lib/python3.7/site-packages/soundfile.py\u001b[0m in \u001b[0;36m_open\u001b[0;34m(self, file, mode_int, closefd)\u001b[0m\n\u001b[1;32m   1181\u001b[0m         _error_check(_snd.sf_error(file_ptr),\n\u001b[0;32m-> 1182\u001b[0;31m                      \"Error opening {0!r}: \".format(self.name))\n\u001b[0m\u001b[1;32m   1183\u001b[0m         \u001b[0;32mif\u001b[0m \u001b[0mmode_int\u001b[0m \u001b[0;34m==\u001b[0m \u001b[0m_snd\u001b[0m\u001b[0;34m.\u001b[0m\u001b[0mSFM_WRITE\u001b[0m\u001b[0;34m:\u001b[0m\u001b[0;34m\u001b[0m\u001b[0;34m\u001b[0m\u001b[0m\n",
      "\u001b[0;32m~/opt/anaconda3/lib/python3.7/site-packages/soundfile.py\u001b[0m in \u001b[0;36m_error_check\u001b[0;34m(err, prefix)\u001b[0m\n\u001b[1;32m   1354\u001b[0m         \u001b[0merr_str\u001b[0m \u001b[0;34m=\u001b[0m \u001b[0m_snd\u001b[0m\u001b[0;34m.\u001b[0m\u001b[0msf_error_number\u001b[0m\u001b[0;34m(\u001b[0m\u001b[0merr\u001b[0m\u001b[0;34m)\u001b[0m\u001b[0;34m\u001b[0m\u001b[0;34m\u001b[0m\u001b[0m\n\u001b[0;32m-> 1355\u001b[0;31m         \u001b[0;32mraise\u001b[0m \u001b[0mRuntimeError\u001b[0m\u001b[0;34m(\u001b[0m\u001b[0mprefix\u001b[0m \u001b[0;34m+\u001b[0m \u001b[0m_ffi\u001b[0m\u001b[0;34m.\u001b[0m\u001b[0mstring\u001b[0m\u001b[0;34m(\u001b[0m\u001b[0merr_str\u001b[0m\u001b[0;34m)\u001b[0m\u001b[0;34m.\u001b[0m\u001b[0mdecode\u001b[0m\u001b[0;34m(\u001b[0m\u001b[0;34m'utf-8'\u001b[0m\u001b[0;34m,\u001b[0m \u001b[0;34m'replace'\u001b[0m\u001b[0;34m)\u001b[0m\u001b[0;34m)\u001b[0m\u001b[0;34m\u001b[0m\u001b[0;34m\u001b[0m\u001b[0m\n\u001b[0m\u001b[1;32m   1356\u001b[0m \u001b[0;34m\u001b[0m\u001b[0m\n",
      "\u001b[0;31mRuntimeError\u001b[0m: Error opening '././genres_2/Afro/06_Carnival_Drum_Song_(DrumTalk_Remix)_1.mp3': File contains data in an unknown format.",
      "\nDuring handling of the above exception, another exception occurred:\n",
      "\u001b[0;31mEOFError\u001b[0m                                  Traceback (most recent call last)",
      "\u001b[0;32m<ipython-input-5-c538ec2abb70>\u001b[0m in \u001b[0;36m<module>\u001b[0;34m\u001b[0m\n\u001b[0;32m----> 1\u001b[0;31m \u001b[0mmake_playlists\u001b[0m\u001b[0;34m(\u001b[0m\u001b[0;34m'./genres_2/Afro'\u001b[0m\u001b[0;34m,\u001b[0m\u001b[0;34m'New_Data.csv'\u001b[0m\u001b[0;34m)\u001b[0m\u001b[0;34m\u001b[0m\u001b[0;34m\u001b[0m\u001b[0m\n\u001b[0m",
      "\u001b[0;32m<ipython-input-2-ab17bf2b9f27>\u001b[0m in \u001b[0;36mmake_playlists\u001b[0;34m(file, CSV_name)\u001b[0m\n\u001b[1;32m     38\u001b[0m \u001b[0;34m\u001b[0m\u001b[0m\n\u001b[1;32m     39\u001b[0m \u001b[0;34m\u001b[0m\u001b[0m\n\u001b[0;32m---> 40\u001b[0;31m     \u001b[0mgenerate_csv\u001b[0m\u001b[0;34m(\u001b[0m\u001b[0mfile\u001b[0m\u001b[0;34m,\u001b[0m\u001b[0mCSV_name\u001b[0m\u001b[0;34m)\u001b[0m\u001b[0;34m\u001b[0m\u001b[0;34m\u001b[0m\u001b[0m\n\u001b[0m\u001b[1;32m     41\u001b[0m     \u001b[0mNames\u001b[0m\u001b[0;34m,\u001b[0m \u001b[0mClasses\u001b[0m \u001b[0;34m=\u001b[0m \u001b[0mload_and_normalize\u001b[0m\u001b[0;34m(\u001b[0m\u001b[0mCSV_name\u001b[0m\u001b[0;34m,\u001b[0m\u001b[0;32mFalse\u001b[0m\u001b[0;34m)\u001b[0m\u001b[0;34m\u001b[0m\u001b[0;34m\u001b[0m\u001b[0m\n\u001b[1;32m     42\u001b[0m     \u001b[0;32mfor\u001b[0m \u001b[0mi\u001b[0m \u001b[0;32min\u001b[0m \u001b[0mrange\u001b[0m\u001b[0;34m(\u001b[0m\u001b[0mlen\u001b[0m\u001b[0;34m(\u001b[0m\u001b[0mNames\u001b[0m\u001b[0;34m)\u001b[0m\u001b[0;34m)\u001b[0m\u001b[0;34m:\u001b[0m\u001b[0;34m\u001b[0m\u001b[0;34m\u001b[0m\u001b[0m\n",
      "\u001b[0;32m<ipython-input-2-ab17bf2b9f27>\u001b[0m in \u001b[0;36mgenerate_csv\u001b[0;34m(file, CSV_name)\u001b[0m\n\u001b[1;32m     33\u001b[0m     \u001b[0;32mfor\u001b[0m \u001b[0mfilename\u001b[0m \u001b[0;32min\u001b[0m \u001b[0mos\u001b[0m\u001b[0;34m.\u001b[0m\u001b[0mlistdir\u001b[0m\u001b[0;34m(\u001b[0m\u001b[0mfile\u001b[0m\u001b[0;34m)\u001b[0m\u001b[0;34m:\u001b[0m\u001b[0;34m\u001b[0m\u001b[0;34m\u001b[0m\u001b[0m\n\u001b[1;32m     34\u001b[0m         \u001b[0msong_name\u001b[0m \u001b[0;34m=\u001b[0m \u001b[0;34mf'./{file}/{filename}'\u001b[0m\u001b[0;34m\u001b[0m\u001b[0;34m\u001b[0m\u001b[0m\n\u001b[0;32m---> 35\u001b[0;31m         \u001b[0mFunct\u001b[0m\u001b[0;34m.\u001b[0m\u001b[0mget_data\u001b[0m\u001b[0;34m(\u001b[0m\u001b[0msong_name\u001b[0m\u001b[0;34m,\u001b[0m\u001b[0mCSV_name\u001b[0m\u001b[0;34m,\u001b[0m\u001b[0;36m30\u001b[0m\u001b[0;34m,\u001b[0m\u001b[0;34m'NA'\u001b[0m\u001b[0;34m,\u001b[0m\u001b[0;32mTrue\u001b[0m\u001b[0;34m,\u001b[0m\u001b[0;32mTrue\u001b[0m\u001b[0;34m)\u001b[0m\u001b[0;34m\u001b[0m\u001b[0;34m\u001b[0m\u001b[0m\n\u001b[0m\u001b[1;32m     36\u001b[0m \u001b[0;34m\u001b[0m\u001b[0m\n\u001b[1;32m     37\u001b[0m \u001b[0;32mdef\u001b[0m \u001b[0mmake_playlists\u001b[0m\u001b[0;34m(\u001b[0m\u001b[0mfile\u001b[0m\u001b[0;34m,\u001b[0m\u001b[0mCSV_name\u001b[0m\u001b[0;34m)\u001b[0m\u001b[0;34m:\u001b[0m\u001b[0;34m\u001b[0m\u001b[0;34m\u001b[0m\u001b[0m\n",
      "\u001b[0;32m~/Documents/Portfolio/Music-Classification/Funct.py\u001b[0m in \u001b[0;36mget_data\u001b[0;34m(songname, target_file, start_time, genre, test, debug)\u001b[0m\n\u001b[1;32m     23\u001b[0m     \u001b[0;32mif\u001b[0m \u001b[0mdebug\u001b[0m \u001b[0;34m==\u001b[0m \u001b[0;32mTrue\u001b[0m\u001b[0;34m:\u001b[0m\u001b[0;34m\u001b[0m\u001b[0;34m\u001b[0m\u001b[0m\n\u001b[1;32m     24\u001b[0m         \u001b[0mprint\u001b[0m\u001b[0;34m(\u001b[0m\u001b[0msongname\u001b[0m\u001b[0;34m)\u001b[0m\u001b[0;34m\u001b[0m\u001b[0;34m\u001b[0m\u001b[0m\n\u001b[0;32m---> 25\u001b[0;31m     \u001b[0my\u001b[0m\u001b[0;34m,\u001b[0m \u001b[0msr\u001b[0m \u001b[0;34m=\u001b[0m \u001b[0mlibrosa\u001b[0m\u001b[0;34m.\u001b[0m\u001b[0mload\u001b[0m\u001b[0;34m(\u001b[0m\u001b[0msongname\u001b[0m\u001b[0;34m,\u001b[0m \u001b[0mmono\u001b[0m\u001b[0;34m=\u001b[0m\u001b[0;32mTrue\u001b[0m\u001b[0;34m,\u001b[0m\u001b[0moffset\u001b[0m\u001b[0;34m=\u001b[0m\u001b[0mstart_time\u001b[0m\u001b[0;34m,\u001b[0m \u001b[0mduration\u001b[0m\u001b[0;34m=\u001b[0m\u001b[0;36m10\u001b[0m\u001b[0;34m)\u001b[0m\u001b[0;34m\u001b[0m\u001b[0;34m\u001b[0m\u001b[0m\n\u001b[0m\u001b[1;32m     26\u001b[0m     \u001b[0mtitle\u001b[0m\u001b[0;34m=\u001b[0m \u001b[0msongname\u001b[0m\u001b[0;34m.\u001b[0m\u001b[0mtranslate\u001b[0m\u001b[0;34m(\u001b[0m\u001b[0;34m{\u001b[0m\u001b[0mord\u001b[0m\u001b[0;34m(\u001b[0m\u001b[0mc\u001b[0m\u001b[0;34m)\u001b[0m\u001b[0;34m:\u001b[0m \u001b[0;32mNone\u001b[0m \u001b[0;32mfor\u001b[0m \u001b[0mc\u001b[0m \u001b[0;32min\u001b[0m \u001b[0mstring\u001b[0m\u001b[0;34m.\u001b[0m\u001b[0mwhitespace\u001b[0m\u001b[0;34m}\u001b[0m\u001b[0;34m)\u001b[0m\u001b[0;34m\u001b[0m\u001b[0;34m\u001b[0m\u001b[0m\n\u001b[1;32m     27\u001b[0m     \u001b[0mchroma_stft\u001b[0m \u001b[0;34m=\u001b[0m \u001b[0mlibrosa\u001b[0m\u001b[0;34m.\u001b[0m\u001b[0mfeature\u001b[0m\u001b[0;34m.\u001b[0m\u001b[0mchroma_stft\u001b[0m\u001b[0;34m(\u001b[0m\u001b[0my\u001b[0m\u001b[0;34m=\u001b[0m\u001b[0my\u001b[0m\u001b[0;34m,\u001b[0m \u001b[0msr\u001b[0m\u001b[0;34m=\u001b[0m\u001b[0msr\u001b[0m\u001b[0;34m)\u001b[0m\u001b[0;34m\u001b[0m\u001b[0;34m\u001b[0m\u001b[0m\n",
      "\u001b[0;32m~/opt/anaconda3/lib/python3.7/site-packages/librosa/core/audio.py\u001b[0m in \u001b[0;36mload\u001b[0;34m(path, sr, mono, offset, duration, dtype, res_type)\u001b[0m\n\u001b[1;32m    160\u001b[0m         \u001b[0;32mif\u001b[0m \u001b[0misinstance\u001b[0m\u001b[0;34m(\u001b[0m\u001b[0mpath\u001b[0m\u001b[0;34m,\u001b[0m \u001b[0msix\u001b[0m\u001b[0;34m.\u001b[0m\u001b[0mstring_types\u001b[0m\u001b[0;34m)\u001b[0m\u001b[0;34m:\u001b[0m\u001b[0;34m\u001b[0m\u001b[0;34m\u001b[0m\u001b[0m\n\u001b[1;32m    161\u001b[0m             \u001b[0mwarnings\u001b[0m\u001b[0;34m.\u001b[0m\u001b[0mwarn\u001b[0m\u001b[0;34m(\u001b[0m\u001b[0;34m'PySoundFile failed. Trying audioread instead.'\u001b[0m\u001b[0;34m)\u001b[0m\u001b[0;34m\u001b[0m\u001b[0;34m\u001b[0m\u001b[0m\n\u001b[0;32m--> 162\u001b[0;31m             \u001b[0my\u001b[0m\u001b[0;34m,\u001b[0m \u001b[0msr_native\u001b[0m \u001b[0;34m=\u001b[0m \u001b[0m__audioread_load\u001b[0m\u001b[0;34m(\u001b[0m\u001b[0mpath\u001b[0m\u001b[0;34m,\u001b[0m \u001b[0moffset\u001b[0m\u001b[0;34m,\u001b[0m \u001b[0mduration\u001b[0m\u001b[0;34m,\u001b[0m \u001b[0mdtype\u001b[0m\u001b[0;34m)\u001b[0m\u001b[0;34m\u001b[0m\u001b[0;34m\u001b[0m\u001b[0m\n\u001b[0m\u001b[1;32m    163\u001b[0m         \u001b[0;32melse\u001b[0m\u001b[0;34m:\u001b[0m\u001b[0;34m\u001b[0m\u001b[0;34m\u001b[0m\u001b[0m\n\u001b[1;32m    164\u001b[0m             \u001b[0msix\u001b[0m\u001b[0;34m.\u001b[0m\u001b[0mreraise\u001b[0m\u001b[0;34m(\u001b[0m\u001b[0;34m*\u001b[0m\u001b[0msys\u001b[0m\u001b[0;34m.\u001b[0m\u001b[0mexc_info\u001b[0m\u001b[0;34m(\u001b[0m\u001b[0;34m)\u001b[0m\u001b[0;34m)\u001b[0m\u001b[0;34m\u001b[0m\u001b[0;34m\u001b[0m\u001b[0m\n",
      "\u001b[0;32m~/opt/anaconda3/lib/python3.7/site-packages/librosa/core/audio.py\u001b[0m in \u001b[0;36m__audioread_load\u001b[0;34m(path, offset, duration, dtype)\u001b[0m\n\u001b[1;32m    184\u001b[0m \u001b[0;34m\u001b[0m\u001b[0m\n\u001b[1;32m    185\u001b[0m     \u001b[0my\u001b[0m \u001b[0;34m=\u001b[0m \u001b[0;34m[\u001b[0m\u001b[0;34m]\u001b[0m\u001b[0;34m\u001b[0m\u001b[0;34m\u001b[0m\u001b[0m\n\u001b[0;32m--> 186\u001b[0;31m     \u001b[0;32mwith\u001b[0m \u001b[0maudioread\u001b[0m\u001b[0;34m.\u001b[0m\u001b[0maudio_open\u001b[0m\u001b[0;34m(\u001b[0m\u001b[0mpath\u001b[0m\u001b[0;34m)\u001b[0m \u001b[0;32mas\u001b[0m \u001b[0minput_file\u001b[0m\u001b[0;34m:\u001b[0m\u001b[0;34m\u001b[0m\u001b[0;34m\u001b[0m\u001b[0m\n\u001b[0m\u001b[1;32m    187\u001b[0m         \u001b[0msr_native\u001b[0m \u001b[0;34m=\u001b[0m \u001b[0minput_file\u001b[0m\u001b[0;34m.\u001b[0m\u001b[0msamplerate\u001b[0m\u001b[0;34m\u001b[0m\u001b[0;34m\u001b[0m\u001b[0m\n\u001b[1;32m    188\u001b[0m         \u001b[0mn_channels\u001b[0m \u001b[0;34m=\u001b[0m \u001b[0minput_file\u001b[0m\u001b[0;34m.\u001b[0m\u001b[0mchannels\u001b[0m\u001b[0;34m\u001b[0m\u001b[0;34m\u001b[0m\u001b[0m\n",
      "\u001b[0;32m~/opt/anaconda3/lib/python3.7/site-packages/audioread/__init__.py\u001b[0m in \u001b[0;36maudio_open\u001b[0;34m(path, backends)\u001b[0m\n\u001b[1;32m    109\u001b[0m     \u001b[0;32mfor\u001b[0m \u001b[0mBackendClass\u001b[0m \u001b[0;32min\u001b[0m \u001b[0mbackends\u001b[0m\u001b[0;34m:\u001b[0m\u001b[0;34m\u001b[0m\u001b[0;34m\u001b[0m\u001b[0m\n\u001b[1;32m    110\u001b[0m         \u001b[0;32mtry\u001b[0m\u001b[0;34m:\u001b[0m\u001b[0;34m\u001b[0m\u001b[0;34m\u001b[0m\u001b[0m\n\u001b[0;32m--> 111\u001b[0;31m             \u001b[0;32mreturn\u001b[0m \u001b[0mBackendClass\u001b[0m\u001b[0;34m(\u001b[0m\u001b[0mpath\u001b[0m\u001b[0;34m)\u001b[0m\u001b[0;34m\u001b[0m\u001b[0;34m\u001b[0m\u001b[0m\n\u001b[0m\u001b[1;32m    112\u001b[0m         \u001b[0;32mexcept\u001b[0m \u001b[0mDecodeError\u001b[0m\u001b[0;34m:\u001b[0m\u001b[0;34m\u001b[0m\u001b[0;34m\u001b[0m\u001b[0m\n\u001b[1;32m    113\u001b[0m             \u001b[0;32mpass\u001b[0m\u001b[0;34m\u001b[0m\u001b[0;34m\u001b[0m\u001b[0m\n",
      "\u001b[0;32m~/opt/anaconda3/lib/python3.7/site-packages/audioread/rawread.py\u001b[0m in \u001b[0;36m__init__\u001b[0;34m(self, filename)\u001b[0m\n\u001b[1;32m     63\u001b[0m \u001b[0;34m\u001b[0m\u001b[0m\n\u001b[1;32m     64\u001b[0m         \u001b[0;32mtry\u001b[0m\u001b[0;34m:\u001b[0m\u001b[0;34m\u001b[0m\u001b[0;34m\u001b[0m\u001b[0m\n\u001b[0;32m---> 65\u001b[0;31m             \u001b[0mself\u001b[0m\u001b[0;34m.\u001b[0m\u001b[0m_file\u001b[0m \u001b[0;34m=\u001b[0m \u001b[0maifc\u001b[0m\u001b[0;34m.\u001b[0m\u001b[0mopen\u001b[0m\u001b[0;34m(\u001b[0m\u001b[0mself\u001b[0m\u001b[0;34m.\u001b[0m\u001b[0m_fh\u001b[0m\u001b[0;34m)\u001b[0m\u001b[0;34m\u001b[0m\u001b[0;34m\u001b[0m\u001b[0m\n\u001b[0m\u001b[1;32m     66\u001b[0m         \u001b[0;32mexcept\u001b[0m \u001b[0maifc\u001b[0m\u001b[0;34m.\u001b[0m\u001b[0mError\u001b[0m\u001b[0;34m:\u001b[0m\u001b[0;34m\u001b[0m\u001b[0;34m\u001b[0m\u001b[0m\n\u001b[1;32m     67\u001b[0m             \u001b[0;31m# Return to the beginning of the file to try the next reader.\u001b[0m\u001b[0;34m\u001b[0m\u001b[0;34m\u001b[0m\u001b[0;34m\u001b[0m\u001b[0m\n",
      "\u001b[0;32m~/opt/anaconda3/lib/python3.7/aifc.py\u001b[0m in \u001b[0;36mopen\u001b[0;34m(f, mode)\u001b[0m\n\u001b[1;32m    915\u001b[0m             \u001b[0mmode\u001b[0m \u001b[0;34m=\u001b[0m \u001b[0;34m'rb'\u001b[0m\u001b[0;34m\u001b[0m\u001b[0;34m\u001b[0m\u001b[0m\n\u001b[1;32m    916\u001b[0m     \u001b[0;32mif\u001b[0m \u001b[0mmode\u001b[0m \u001b[0;32min\u001b[0m \u001b[0;34m(\u001b[0m\u001b[0;34m'r'\u001b[0m\u001b[0;34m,\u001b[0m \u001b[0;34m'rb'\u001b[0m\u001b[0;34m)\u001b[0m\u001b[0;34m:\u001b[0m\u001b[0;34m\u001b[0m\u001b[0;34m\u001b[0m\u001b[0m\n\u001b[0;32m--> 917\u001b[0;31m         \u001b[0;32mreturn\u001b[0m \u001b[0mAifc_read\u001b[0m\u001b[0;34m(\u001b[0m\u001b[0mf\u001b[0m\u001b[0;34m)\u001b[0m\u001b[0;34m\u001b[0m\u001b[0;34m\u001b[0m\u001b[0m\n\u001b[0m\u001b[1;32m    918\u001b[0m     \u001b[0;32melif\u001b[0m \u001b[0mmode\u001b[0m \u001b[0;32min\u001b[0m \u001b[0;34m(\u001b[0m\u001b[0;34m'w'\u001b[0m\u001b[0;34m,\u001b[0m \u001b[0;34m'wb'\u001b[0m\u001b[0;34m)\u001b[0m\u001b[0;34m:\u001b[0m\u001b[0;34m\u001b[0m\u001b[0;34m\u001b[0m\u001b[0m\n\u001b[1;32m    919\u001b[0m         \u001b[0;32mreturn\u001b[0m \u001b[0mAifc_write\u001b[0m\u001b[0;34m(\u001b[0m\u001b[0mf\u001b[0m\u001b[0;34m)\u001b[0m\u001b[0;34m\u001b[0m\u001b[0;34m\u001b[0m\u001b[0m\n",
      "\u001b[0;32m~/opt/anaconda3/lib/python3.7/aifc.py\u001b[0m in \u001b[0;36m__init__\u001b[0;34m(self, f)\u001b[0m\n\u001b[1;32m    356\u001b[0m         \u001b[0;32melse\u001b[0m\u001b[0;34m:\u001b[0m\u001b[0;34m\u001b[0m\u001b[0;34m\u001b[0m\u001b[0m\n\u001b[1;32m    357\u001b[0m             \u001b[0;31m# assume it is an open file object already\u001b[0m\u001b[0;34m\u001b[0m\u001b[0;34m\u001b[0m\u001b[0;34m\u001b[0m\u001b[0m\n\u001b[0;32m--> 358\u001b[0;31m             \u001b[0mself\u001b[0m\u001b[0;34m.\u001b[0m\u001b[0minitfp\u001b[0m\u001b[0;34m(\u001b[0m\u001b[0mf\u001b[0m\u001b[0;34m)\u001b[0m\u001b[0;34m\u001b[0m\u001b[0;34m\u001b[0m\u001b[0m\n\u001b[0m\u001b[1;32m    359\u001b[0m \u001b[0;34m\u001b[0m\u001b[0m\n\u001b[1;32m    360\u001b[0m     \u001b[0;32mdef\u001b[0m \u001b[0m__enter__\u001b[0m\u001b[0;34m(\u001b[0m\u001b[0mself\u001b[0m\u001b[0;34m)\u001b[0m\u001b[0;34m:\u001b[0m\u001b[0;34m\u001b[0m\u001b[0;34m\u001b[0m\u001b[0m\n",
      "\u001b[0;32m~/opt/anaconda3/lib/python3.7/aifc.py\u001b[0m in \u001b[0;36minitfp\u001b[0;34m(self, file)\u001b[0m\n\u001b[1;32m    312\u001b[0m         \u001b[0mself\u001b[0m\u001b[0;34m.\u001b[0m\u001b[0m_soundpos\u001b[0m \u001b[0;34m=\u001b[0m \u001b[0;36m0\u001b[0m\u001b[0;34m\u001b[0m\u001b[0;34m\u001b[0m\u001b[0m\n\u001b[1;32m    313\u001b[0m         \u001b[0mself\u001b[0m\u001b[0;34m.\u001b[0m\u001b[0m_file\u001b[0m \u001b[0;34m=\u001b[0m \u001b[0mfile\u001b[0m\u001b[0;34m\u001b[0m\u001b[0;34m\u001b[0m\u001b[0m\n\u001b[0;32m--> 314\u001b[0;31m         \u001b[0mchunk\u001b[0m \u001b[0;34m=\u001b[0m \u001b[0mChunk\u001b[0m\u001b[0;34m(\u001b[0m\u001b[0mfile\u001b[0m\u001b[0;34m)\u001b[0m\u001b[0;34m\u001b[0m\u001b[0;34m\u001b[0m\u001b[0m\n\u001b[0m\u001b[1;32m    315\u001b[0m         \u001b[0;32mif\u001b[0m \u001b[0mchunk\u001b[0m\u001b[0;34m.\u001b[0m\u001b[0mgetname\u001b[0m\u001b[0;34m(\u001b[0m\u001b[0;34m)\u001b[0m \u001b[0;34m!=\u001b[0m \u001b[0;34mb'FORM'\u001b[0m\u001b[0;34m:\u001b[0m\u001b[0;34m\u001b[0m\u001b[0;34m\u001b[0m\u001b[0m\n\u001b[1;32m    316\u001b[0m             \u001b[0;32mraise\u001b[0m \u001b[0mError\u001b[0m\u001b[0;34m(\u001b[0m\u001b[0;34m'file does not start with FORM id'\u001b[0m\u001b[0;34m)\u001b[0m\u001b[0;34m\u001b[0m\u001b[0;34m\u001b[0m\u001b[0m\n",
      "\u001b[0;32m~/opt/anaconda3/lib/python3.7/chunk.py\u001b[0m in \u001b[0;36m__init__\u001b[0;34m(self, file, align, bigendian, inclheader)\u001b[0m\n\u001b[1;32m     61\u001b[0m         \u001b[0mself\u001b[0m\u001b[0;34m.\u001b[0m\u001b[0mchunkname\u001b[0m \u001b[0;34m=\u001b[0m \u001b[0mfile\u001b[0m\u001b[0;34m.\u001b[0m\u001b[0mread\u001b[0m\u001b[0;34m(\u001b[0m\u001b[0;36m4\u001b[0m\u001b[0;34m)\u001b[0m\u001b[0;34m\u001b[0m\u001b[0;34m\u001b[0m\u001b[0m\n\u001b[1;32m     62\u001b[0m         \u001b[0;32mif\u001b[0m \u001b[0mlen\u001b[0m\u001b[0;34m(\u001b[0m\u001b[0mself\u001b[0m\u001b[0;34m.\u001b[0m\u001b[0mchunkname\u001b[0m\u001b[0;34m)\u001b[0m \u001b[0;34m<\u001b[0m \u001b[0;36m4\u001b[0m\u001b[0;34m:\u001b[0m\u001b[0;34m\u001b[0m\u001b[0;34m\u001b[0m\u001b[0m\n\u001b[0;32m---> 63\u001b[0;31m             \u001b[0;32mraise\u001b[0m \u001b[0mEOFError\u001b[0m\u001b[0;34m\u001b[0m\u001b[0;34m\u001b[0m\u001b[0m\n\u001b[0m\u001b[1;32m     64\u001b[0m         \u001b[0;32mtry\u001b[0m\u001b[0;34m:\u001b[0m\u001b[0;34m\u001b[0m\u001b[0;34m\u001b[0m\u001b[0m\n\u001b[1;32m     65\u001b[0m             \u001b[0mself\u001b[0m\u001b[0;34m.\u001b[0m\u001b[0mchunksize\u001b[0m \u001b[0;34m=\u001b[0m \u001b[0mstruct\u001b[0m\u001b[0;34m.\u001b[0m\u001b[0munpack_from\u001b[0m\u001b[0;34m(\u001b[0m\u001b[0mstrflag\u001b[0m\u001b[0;34m+\u001b[0m\u001b[0;34m'L'\u001b[0m\u001b[0;34m,\u001b[0m \u001b[0mfile\u001b[0m\u001b[0;34m.\u001b[0m\u001b[0mread\u001b[0m\u001b[0;34m(\u001b[0m\u001b[0;36m4\u001b[0m\u001b[0;34m)\u001b[0m\u001b[0;34m)\u001b[0m\u001b[0;34m[\u001b[0m\u001b[0;36m0\u001b[0m\u001b[0;34m]\u001b[0m\u001b[0;34m\u001b[0m\u001b[0;34m\u001b[0m\u001b[0m\n",
      "\u001b[0;31mEOFError\u001b[0m: "
     ]
    }
   ],
   "source": [
    "make_playlists('./genres_2/Afro','New_Data.csv')"
   ]
  },
  {
   "cell_type": "code",
   "execution_count": null,
   "metadata": {},
   "outputs": [],
   "source": [
    "print(encoder.classes_)"
   ]
  },
  {
   "cell_type": "code",
   "execution_count": null,
   "metadata": {},
   "outputs": [],
   "source": [
    "genre = []\n",
    "for filename in os.listdir(f'./genres_2/'):\n",
    "    genre.append(filename)\n",
    "    \n",
    "    \n",
    "print(genre)\n",
    "\n",
    "genre.remove('.DS_Store')\n",
    "\n",
    "for g in genre:\n",
    "    for filename in os.listdir(f'./genres_2/{g}'):\n",
    "        songname = f'./genres_2/{g}/{filename}'\n",
    "        \n"
   ]
  },
  {
   "cell_type": "code",
   "execution_count": null,
   "metadata": {},
   "outputs": [],
   "source": []
  }
 ],
 "metadata": {
  "kernelspec": {
   "display_name": "Python 3",
   "language": "python",
   "name": "python3"
  },
  "language_info": {
   "codemirror_mode": {
    "name": "ipython",
    "version": 3
   },
   "file_extension": ".py",
   "mimetype": "text/x-python",
   "name": "python",
   "nbconvert_exporter": "python",
   "pygments_lexer": "ipython3",
   "version": "3.7.4"
  }
 },
 "nbformat": 4,
 "nbformat_minor": 2
}
