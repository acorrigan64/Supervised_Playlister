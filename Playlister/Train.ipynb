{
 "cells": [
  {
   "cell_type": "code",
   "execution_count": 42,
   "metadata": {},
   "outputs": [
    {
     "data": {
      "text/plain": [
       "\"\\ngenre = [ f.name for f in os.scandir(f'./genres/') if f.is_dir() ]\\n\\n    \\nprint(genre)\\n\\n\\nFunct.replace(f'./genres/')\\n\\nfor g in genre:\\n    for filename in os.listdir(f'./genres/{g}'):\\n       \\n        songname = f'./genres/{g}/{filename}'\\n        \\n        Funct.get_data(songname,'data.csv',0,g,True,True)\\n\\n  \""
      ]
     },
     "execution_count": 42,
     "metadata": {},
     "output_type": "execute_result"
    }
   ],
   "source": [
    "import pandas as pd\n",
    "import numpy as np\n",
    "import matplotlib.pyplot as plt\n",
    "%matplotlib inline\n",
    "import pickle\n",
    "import os\n",
    "# Preprocessing\n",
    "from sklearn.model_selection import train_test_split\n",
    "from sklearn.preprocessing import LabelEncoder, StandardScaler\n",
    "#Keras\n",
    "import keras\n",
    "import string\n",
    "\n",
    "#Custom Functions\n",
    "import Funct\n",
    "\n",
    "\n",
    "#genres = 'blues classical country disco hiphop jazz metal pop reggae rock'.split()\n",
    "def clean_files(file):\n",
    "    filenames = os.listdir(file)\n",
    "    for filename in filenames:\n",
    "        os.rename(filename, filename.replace(\" \", \"-\").lower())\n",
    "\n",
    "def generate_genre_data(target_file,csv_name,debug):\n",
    "    Funct.new_file(csv_name) \n",
    "    genre = [ f.name for f in os.scandir(target_file) if f.is_dir() ]\n",
    "    if debug == True:\n",
    "        print(genre)\n",
    "    Funct.replace(target_file)\n",
    "    \n",
    "    for g in genre:\n",
    "        if debug == True:\n",
    "            print(g)\n",
    "        file = target_file+f'{g}'\n",
    "        for filename in os.listdir(file):\n",
    "            if not filename.startswith('.') and os.path.isfile(os.path.join(file, filename)):\n",
    "                songname = file+f'/{filename}'\n",
    "                Funct.get_data(songname,csv_name,20,g,False,True)\n",
    "\n",
    "def load_and_train(data_csv,debug):\n",
    "    data = pd.read_csv(data_csv)\n",
    "    data.head()\n",
    "\n",
    "    # Dropping unneccesary columns\n",
    "    data = data.drop(['filename'],axis=1)\n",
    "    data.head()\n",
    "    genre_list = data.iloc[:, -1]\n",
    "    encoder = LabelEncoder()\n",
    "    y = encoder.fit_transform(genre_list)\n",
    "\n",
    "\n",
    "    # normalizing\n",
    "    scaler = StandardScaler()\n",
    "    x = np.array(data.iloc[:, :-1], dtype = float)\n",
    "    scaler.fit(x)\n",
    "    X = scaler.transform(x)\n",
    "    #print(X)\n",
    "\n",
    "    # spliting of dataset into train and test dataset\n",
    "    X_train, X_test, y_train, y_test = train_test_split(X, y, test_size=0.2)\n",
    "    from keras import models\n",
    "    from keras import layers\n",
    "\n",
    "    # creating a model\n",
    "    model = models.Sequential()\n",
    "    model.add(layers.Dense(256, activation='relu', input_shape=(X_train.shape[1],)))\n",
    "\n",
    "    model.add(layers.Dense(128, activation='relu'))\n",
    "\n",
    "    model.add(layers.Dense(64, activation='relu'))\n",
    "\n",
    "    model.add(layers.Dense(10, activation='softmax'))\n",
    "\n",
    "    model.compile(optimizer='adam',\n",
    "                  loss='sparse_categorical_crossentropy',\n",
    "                  metrics=['accuracy'])\n",
    "\n",
    "    history = model.fit(X_train,\n",
    "                        y_train,\n",
    "                        epochs=20,\n",
    "                        batch_size=128)\n",
    "\n",
    "    # calculate accuracy\n",
    "    test_loss, test_acc = model.evaluate(X_test,y_test)\n",
    "    print('test_acc: ',test_acc)\n",
    "    # predictions\n",
    "    predictions = model.predict(X_test)\n",
    "    np.argmax(predictions[0])\n",
    "\n",
    "    pickle.dump( encoder, open( \"encoder.p\", \"wb\" ) )\n",
    "    pickle.dump( scaler, open( \"scaler.p\", \"wb\" ) )\n",
    "    pickle.dump( model, open( \"model.p\", \"wb\" ) )\n",
    "\n",
    "    \n",
    "\"\"\"\n",
    "genre = [ f.name for f in os.scandir(f'./genres/') if f.is_dir() ]\n",
    "\n",
    "    \n",
    "print(genre)\n",
    "\n",
    "\n",
    "Funct.replace(f'./genres/')\n",
    "\n",
    "for g in genre:\n",
    "    for filename in os.listdir(f'./genres/{g}'):\n",
    "       \n",
    "        songname = f'./genres/{g}/{filename}'\n",
    "        \n",
    "        Funct.get_data(songname,'data.csv',0,g,True,True)\n",
    "\n",
    "  \"\"\"      "
   ]
  },
  {
   "cell_type": "code",
   "execution_count": 28,
   "metadata": {},
   "outputs": [
    {
     "name": "stdout",
     "output_type": "stream",
     "text": [
      "['Breaks', 'Afro', 'Disco', 'Drumz', 'Trap', 'Cheeze', 'house', 'Dark', 'Murlo', 'Dubstep']\n",
      "Breaks\n",
      "Afro\n"
     ]
    },
    {
     "name": "stderr",
     "output_type": "stream",
     "text": [
      "/Users/Andy/opt/anaconda3/lib/python3.7/site-packages/librosa/core/audio.py:161: UserWarning: PySoundFile failed. Trying audioread instead.\n",
      "  warnings.warn('PySoundFile failed. Trying audioread instead.')\n"
     ]
    },
    {
     "name": "stdout",
     "output_type": "stream",
     "text": [
      "./genres_2/Afro/From_a_Past_Life.mp3 0.4558992087841034 0.2167370468378067 2207.5399647320796 2077.7511013884982 4291.87714118692 0.11633555684454756\n",
      "./genres_2/Afro/05_-_Pairs.aiff 0.3410402238368988 0.1807258576154709 2559.1092931329995 2647.2760055373506 5324.321787539879 0.10786370722157773\n"
     ]
    },
    {
     "name": "stderr",
     "output_type": "stream",
     "text": [
      "/Users/Andy/opt/anaconda3/lib/python3.7/site-packages/librosa/core/audio.py:161: UserWarning: PySoundFile failed. Trying audioread instead.\n",
      "  warnings.warn('PySoundFile failed. Trying audioread instead.')\n"
     ]
    },
    {
     "name": "stdout",
     "output_type": "stream",
     "text": [
      "./genres_2/Afro/01_Tzantza.mp3 0.6089597940444946 0.23545996844768524 858.0845439039628 1703.4454334742986 1708.6921426370359 0.01048955010150812\n"
     ]
    },
    {
     "name": "stderr",
     "output_type": "stream",
     "text": [
      "/Users/Andy/opt/anaconda3/lib/python3.7/site-packages/librosa/core/audio.py:161: UserWarning: PySoundFile failed. Trying audioread instead.\n",
      "  warnings.warn('PySoundFile failed. Trying audioread instead.')\n"
     ]
    },
    {
     "name": "stdout",
     "output_type": "stream",
     "text": [
      "./genres_2/Afro/02_Gods_of_War_(Von_Party's_Peace_Pipe_Dub).mp3 0.5293009281158447 0.1724836230278015 3254.9103165471065 3119.1489495920255 6861.87242830989 0.14829248839907191\n"
     ]
    },
    {
     "name": "stderr",
     "output_type": "stream",
     "text": [
      "/Users/Andy/opt/anaconda3/lib/python3.7/site-packages/librosa/core/audio.py:161: UserWarning: PySoundFile failed. Trying audioread instead.\n",
      "  warnings.warn('PySoundFile failed. Trying audioread instead.')\n"
     ]
    },
    {
     "name": "stdout",
     "output_type": "stream",
     "text": [
      "./genres_2/Afro/Fela_Kuti_-_O.D.O.O_(Lodger_Remix).mp3 0.3843749761581421 0.09277088940143585 1737.8504361542882 1523.3840591550183 3206.7735711825694 0.1128869997099768\n"
     ]
    },
    {
     "name": "stderr",
     "output_type": "stream",
     "text": [
      "/Users/Andy/opt/anaconda3/lib/python3.7/site-packages/librosa/core/audio.py:161: UserWarning: PySoundFile failed. Trying audioread instead.\n",
      "  warnings.warn('PySoundFile failed. Trying audioread instead.')\n"
     ]
    },
    {
     "name": "stdout",
     "output_type": "stream",
     "text": [
      "./genres_2/Afro/&amp;ME_-_Cape_Coast_(KM034)_(320__kbps).mp3 0.5694522261619568 0.22934967279434204 3010.4981644186755 3023.033423498552 6720.207933040893 0.11730192321635731\n",
      "./genres_2/Afro/17_-_Nightmares_On_Wax_-_Da_Feelin'.wav 0.42399144172668457 0.2410164475440979 1825.1138401828202 2470.059807032605 4512.005431137616 0.05675957982888631\n"
     ]
    },
    {
     "name": "stderr",
     "output_type": "stream",
     "text": [
      "/Users/Andy/opt/anaconda3/lib/python3.7/site-packages/librosa/core/audio.py:161: UserWarning: PySoundFile failed. Trying audioread instead.\n",
      "  warnings.warn('PySoundFile failed. Trying audioread instead.')\n"
     ]
    },
    {
     "name": "stdout",
     "output_type": "stream",
     "text": [
      "./genres_2/Afro/02_The_Fludd.mp3 0.36177369952201843 0.11150553077459335 1796.9095529284382 2316.7673589337473 4062.406138975493 0.060102776972157775\n"
     ]
    },
    {
     "name": "stderr",
     "output_type": "stream",
     "text": [
      "/Users/Andy/opt/anaconda3/lib/python3.7/site-packages/librosa/core/audio.py:161: UserWarning: PySoundFile failed. Trying audioread instead.\n",
      "  warnings.warn('PySoundFile failed. Trying audioread instead.')\n"
     ]
    },
    {
     "name": "stdout",
     "output_type": "stream",
     "text": [
      "./genres_2/Afro/01_Pembe_(Jimmy_Rouge_Edit).mp3 0.506807804107666 0.14315339922904968 3291.0427030664287 2745.092929725588 6485.790789044374 0.14682198013341066\n"
     ]
    },
    {
     "name": "stderr",
     "output_type": "stream",
     "text": [
      "/Users/Andy/opt/anaconda3/lib/python3.7/site-packages/librosa/core/audio.py:161: UserWarning: PySoundFile failed. Trying audioread instead.\n",
      "  warnings.warn('PySoundFile failed. Trying audioread instead.')\n"
     ]
    },
    {
     "name": "stdout",
     "output_type": "stream",
     "text": [
      "./genres_2/Afro/02_Celeste.mp3 0.507514476776123 0.17551952600479126 1067.799744405593 1803.0204932312727 2163.0127519576567 0.016577771534222737\n"
     ]
    },
    {
     "name": "stderr",
     "output_type": "stream",
     "text": [
      "/Users/Andy/opt/anaconda3/lib/python3.7/site-packages/librosa/core/audio.py:161: UserWarning: PySoundFile failed. Trying audioread instead.\n",
      "  warnings.warn('PySoundFile failed. Trying audioread instead.')\n"
     ]
    },
    {
     "name": "stdout",
     "output_type": "stream",
     "text": [
      "./genres_2/Afro/13_Handkerchief_(Auntie_Flo_Remix).mp3 0.5454252362251282 0.19674260914325714 2938.0593182726757 2650.6340860033833 5762.554945801914 0.10973186448665893\n"
     ]
    },
    {
     "name": "stderr",
     "output_type": "stream",
     "text": [
      "/Users/Andy/opt/anaconda3/lib/python3.7/site-packages/librosa/core/audio.py:161: UserWarning: PySoundFile failed. Trying audioread instead.\n",
      "  warnings.warn('PySoundFile failed. Trying audioread instead.')\n"
     ]
    },
    {
     "name": "stdout",
     "output_type": "stream",
     "text": [
      "./genres_2/Afro/Ebo_Taylor_&_Pat_Thomas_-_Ene_Nyame_'A'_Mensuro_(Henrik_Schwarz_Blend).mp3 0.2451569139957428 0.07592529058456421 1307.3007314165973 1447.830647013847 2554.6572514863688 0.04719334578016241\n"
     ]
    },
    {
     "name": "stderr",
     "output_type": "stream",
     "text": [
      "/Users/Andy/opt/anaconda3/lib/python3.7/site-packages/librosa/core/audio.py:161: UserWarning: PySoundFile failed. Trying audioread instead.\n",
      "  warnings.warn('PySoundFile failed. Trying audioread instead.')\n"
     ]
    },
    {
     "name": "stdout",
     "output_type": "stream",
     "text": [
      "./genres_2/Afro/04_Mystik_C_(Medusa_Mix).mp3 0.23171257972717285 0.05766060948371887 3465.2232486112175 2522.017645259709 6334.658678944315 0.2447433294663573\n"
     ]
    },
    {
     "name": "stderr",
     "output_type": "stream",
     "text": [
      "/Users/Andy/opt/anaconda3/lib/python3.7/site-packages/librosa/core/audio.py:161: UserWarning: PySoundFile failed. Trying audioread instead.\n",
      "  warnings.warn('PySoundFile failed. Trying audioread instead.')\n"
     ]
    },
    {
     "name": "stdout",
     "output_type": "stream",
     "text": [
      "./genres_2/Afro/Africaine_808__-_Rhythm_is_All_You_Can_Dance_(12_mix).mp3 0.34922006726264954 0.028922494500875473 2305.506778579207 2109.715126784442 4304.7421059309745 0.09374206967807425\n",
      "./genres_2/Afro/03_-_Ye_Ye.aiff 0.4916074573993683 0.08223683387041092 1711.8758211062955 1760.0654295980717 3130.907749963747 0.08007699209686775\n"
     ]
    },
    {
     "name": "stderr",
     "output_type": "stream",
     "text": [
      "/Users/Andy/opt/anaconda3/lib/python3.7/site-packages/librosa/core/audio.py:161: UserWarning: PySoundFile failed. Trying audioread instead.\n",
      "  warnings.warn('PySoundFile failed. Trying audioread instead.')\n"
     ]
    },
    {
     "name": "stdout",
     "output_type": "stream",
     "text": [
      "./genres_2/Afro/22_Peru_Timing_Pt.2.mp3 0.4842897057533264 0.03422975912690163 2308.260920777612 2166.698943713437 4358.999782482599 0.11274538681844548\n"
     ]
    },
    {
     "name": "stderr",
     "output_type": "stream",
     "text": [
      "/Users/Andy/opt/anaconda3/lib/python3.7/site-packages/librosa/core/audio.py:161: UserWarning: PySoundFile failed. Trying audioread instead.\n",
      "  warnings.warn('PySoundFile failed. Trying audioread instead.')\n"
     ]
    },
    {
     "name": "stdout",
     "output_type": "stream",
     "text": [
      "./genres_2/Afro/owiny-sigoma-band-nyiduonge-drums.mp3 0.3887316584587097 0.10873717814683914 1560.6298192256152 1777.2340010373132 3205.5994870214618 0.06837183693445475\n"
     ]
    },
    {
     "name": "stderr",
     "output_type": "stream",
     "text": [
      "/Users/Andy/opt/anaconda3/lib/python3.7/site-packages/librosa/core/audio.py:161: UserWarning: PySoundFile failed. Trying audioread instead.\n",
      "  warnings.warn('PySoundFile failed. Trying audioread instead.')\n"
     ]
    },
    {
     "name": "stdout",
     "output_type": "stream",
     "text": [
      "./genres_2/Afro/Percussion.mp3 0.3165510296821594 0.021097756922245026 2737.2696183633434 2381.08960273394 5326.470111749565 0.12300835629350348\n"
     ]
    },
    {
     "name": "stderr",
     "output_type": "stream",
     "text": [
      "/Users/Andy/opt/anaconda3/lib/python3.7/site-packages/librosa/core/audio.py:161: UserWarning: PySoundFile failed. Trying audioread instead.\n",
      "  warnings.warn('PySoundFile failed. Trying audioread instead.')\n"
     ]
    },
    {
     "name": "stdout",
     "output_type": "stream",
     "text": [
      "./genres_2/Afro/Hankuri.mp3 0.4938414990901947 0.03118135966360569 4132.030336141926 2604.3432991159216 7071.683765951276 0.2883283787703016\n"
     ]
    },
    {
     "name": "stderr",
     "output_type": "stream",
     "text": [
      "/Users/Andy/opt/anaconda3/lib/python3.7/site-packages/librosa/core/audio.py:161: UserWarning: PySoundFile failed. Trying audioread instead.\n",
      "  warnings.warn('PySoundFile failed. Trying audioread instead.')\n"
     ]
    },
    {
     "name": "stdout",
     "output_type": "stream",
     "text": [
      "./genres_2/Afro/02_Spyglass.mp3 0.4044184684753418 0.12100972980260849 2436.489258394112 2771.3481361024456 5709.771119580191 0.08444320076856149\n"
     ]
    },
    {
     "name": "stderr",
     "output_type": "stream",
     "text": [
      "/Users/Andy/opt/anaconda3/lib/python3.7/site-packages/librosa/core/audio.py:161: UserWarning: PySoundFile failed. Trying audioread instead.\n",
      "  warnings.warn('PySoundFile failed. Trying audioread instead.')\n"
     ]
    },
    {
     "name": "stdout",
     "output_type": "stream",
     "text": [
      "./genres_2/Afro/16_Highlife.mp3 0.4600784182548523 0.1711898297071457 1080.3867054061102 1673.529350287842 2092.118053037993 0.025106266313805106\n",
      "./genres_2/Afro/04_Dan_Ryan_feat._Jerrald_James_(Original_Mix).aiff 0.5864959359169006 0.08122874796390533 4904.135612282442 2966.9004749426736 8328.528370160238 0.3041414406902552\n"
     ]
    },
    {
     "name": "stderr",
     "output_type": "stream",
     "text": [
      "/Users/Andy/opt/anaconda3/lib/python3.7/site-packages/librosa/core/audio.py:161: UserWarning: PySoundFile failed. Trying audioread instead.\n",
      "  warnings.warn('PySoundFile failed. Trying audioread instead.')\n"
     ]
    },
    {
     "name": "stdout",
     "output_type": "stream",
     "text": [
      "./genres_2/Afro/01_Gods_of_War.mp3 0.42940399050712585 0.16758550703525543 2221.085182508146 2683.4970984066254 5301.114889972448 0.053463964617169374\n"
     ]
    },
    {
     "name": "stderr",
     "output_type": "stream",
     "text": [
      "/Users/Andy/opt/anaconda3/lib/python3.7/site-packages/librosa/core/audio.py:161: UserWarning: PySoundFile failed. Trying audioread instead.\n",
      "  warnings.warn('PySoundFile failed. Trying audioread instead.')\n"
     ]
    },
    {
     "name": "stdout",
     "output_type": "stream",
     "text": [
      "./genres_2/Afro/02_Atomic_Bomb.mp3 0.35616785287857056 0.1593112051486969 2555.2796497189443 2785.504896295171 6036.716087677639 0.11392813768851508\n"
     ]
    },
    {
     "name": "stderr",
     "output_type": "stream",
     "text": [
      "/Users/Andy/opt/anaconda3/lib/python3.7/site-packages/librosa/core/audio.py:161: UserWarning: PySoundFile failed. Trying audioread instead.\n",
      "  warnings.warn('PySoundFile failed. Trying audioread instead.')\n"
     ]
    },
    {
     "name": "stdout",
     "output_type": "stream",
     "text": [
      "./genres_2/Afro/01_Shango_(Daniel_Haaksman_&_DJ_Beware_Remix).mp3 0.5251699686050415 0.08346736431121826 3357.2626636803816 2890.8060634900794 6981.629012742895 0.19105051841647333\n",
      "./genres_2/Afro/01_-_Yes,_I_Know.aiff 0.654674768447876 0.20394505560398102 3760.9091092977983 2856.881277073581 7140.729906830046 0.2292123604263341\n"
     ]
    },
    {
     "name": "stderr",
     "output_type": "stream",
     "text": [
      "/Users/Andy/opt/anaconda3/lib/python3.7/site-packages/librosa/core/audio.py:161: UserWarning: PySoundFile failed. Trying audioread instead.\n",
      "  warnings.warn('PySoundFile failed. Trying audioread instead.')\n"
     ]
    },
    {
     "name": "stdout",
     "output_type": "stream",
     "text": [
      "./genres_2/Afro/02_Oye_Coma_Va_(K&F_Edit).mp3 0.5336387753486633 0.1992766112089157 760.3872024745938 1187.4335314407897 1342.9524361948957 0.030749256815545245\n"
     ]
    },
    {
     "name": "stderr",
     "output_type": "stream",
     "text": [
      "/Users/Andy/opt/anaconda3/lib/python3.7/site-packages/librosa/core/audio.py:161: UserWarning: PySoundFile failed. Trying audioread instead.\n",
      "  warnings.warn('PySoundFile failed. Trying audioread instead.')\n"
     ]
    },
    {
     "name": "stdout",
     "output_type": "stream",
     "text": [
      "./genres_2/Afro/Auntie_Flo_feat._Anbuley_-_Dance_Ritual_II.mp3 0.4510350227355957 0.03912097588181496 1808.0955977102794 1992.5244794359053 3524.3258659911544 0.08136397005510441\n"
     ]
    },
    {
     "name": "stderr",
     "output_type": "stream",
     "text": [
      "/Users/Andy/opt/anaconda3/lib/python3.7/site-packages/librosa/core/audio.py:161: UserWarning: PySoundFile failed. Trying audioread instead.\n",
      "  warnings.warn('PySoundFile failed. Trying audioread instead.')\n"
     ]
    },
    {
     "name": "stdout",
     "output_type": "stream",
     "text": [
      "./genres_2/Afro/01_Mighty_Tribe.mp3 0.3651123642921448 0.0787801668047905 3175.088503638885 2691.6792010168233 6361.862458762326 0.18075356184744779\n",
      "./genres_2/Afro/02_-_Cos-Ber-Zam_Ne_Noya_(Daphni_Mix).aiff 0.5499871969223022 0.23928143084049225 2482.113029904 2632.3410155997217 5601.1558444206785 0.09498599731728538\n"
     ]
    },
    {
     "name": "stderr",
     "output_type": "stream",
     "text": [
      "/Users/Andy/opt/anaconda3/lib/python3.7/site-packages/librosa/core/audio.py:161: UserWarning: PySoundFile failed. Trying audioread instead.\n",
      "  warnings.warn('PySoundFile failed. Trying audioread instead.')\n"
     ]
    },
    {
     "name": "stdout",
     "output_type": "stream",
     "text": [
      "./genres_2/Afro/Scouse_Afrika_(Original_Mix).mp3 0.3858756124973297 0.2372053861618042 2732.1867890392723 2792.3127181513564 6152.775556028857 0.08978597194025523\n"
     ]
    },
    {
     "name": "stderr",
     "output_type": "stream",
     "text": [
      "/Users/Andy/opt/anaconda3/lib/python3.7/site-packages/librosa/core/audio.py:161: UserWarning: PySoundFile failed. Trying audioread instead.\n",
      "  warnings.warn('PySoundFile failed. Trying audioread instead.')\n"
     ]
    },
    {
     "name": "stdout",
     "output_type": "stream",
     "text": [
      "./genres_2/Afro/Stylo_G-X5_(Nora_Zion_edit).mp3 0.30870264768600464 0.13319742679595947 2838.70832733214 2565.9480316178365 5580.821705970852 0.13660772549303946\n"
     ]
    },
    {
     "name": "stderr",
     "output_type": "stream",
     "text": [
      "/Users/Andy/opt/anaconda3/lib/python3.7/site-packages/librosa/core/audio.py:161: UserWarning: PySoundFile failed. Trying audioread instead.\n",
      "  warnings.warn('PySoundFile failed. Trying audioread instead.')\n"
     ]
    },
    {
     "name": "stdout",
     "output_type": "stream",
     "text": [
      "./genres_2/Afro/03_Changaa_Attack_(General_Ludd_Remix)_1.mp3 0.5622519254684448 0.14441335201263428 2001.9857739020201 2133.16660390915 4133.051032754495 0.0806604372099768\n"
     ]
    },
    {
     "name": "stderr",
     "output_type": "stream",
     "text": [
      "/Users/Andy/opt/anaconda3/lib/python3.7/site-packages/librosa/core/audio.py:161: UserWarning: PySoundFile failed. Trying audioread instead.\n",
      "  warnings.warn('PySoundFile failed. Trying audioread instead.')\n"
     ]
    },
    {
     "name": "stdout",
     "output_type": "stream",
     "text": [
      "./genres_2/Afro/01_Oberyn.mp3 0.4596557021141052 0.024095945060253143 2433.8772040086956 2550.5096663704817 5175.637767818301 0.11193082946635731\n"
     ]
    },
    {
     "name": "stderr",
     "output_type": "stream",
     "text": [
      "/Users/Andy/opt/anaconda3/lib/python3.7/site-packages/librosa/core/audio.py:161: UserWarning: PySoundFile failed. Trying audioread instead.\n",
      "  warnings.warn('PySoundFile failed. Trying audioread instead.')\n"
     ]
    },
    {
     "name": "stdout",
     "output_type": "stream",
     "text": [
      "./genres_2/Afro/1-06_Aziza.mp3 0.6689116358757019 0.13074703514575958 2346.2337925343395 2441.9721157450153 5154.104564693301 0.12111300935324826\n"
     ]
    },
    {
     "name": "stderr",
     "output_type": "stream",
     "text": [
      "/Users/Andy/opt/anaconda3/lib/python3.7/site-packages/librosa/core/audio.py:161: UserWarning: PySoundFile failed. Trying audioread instead.\n",
      "  warnings.warn('PySoundFile failed. Trying audioread instead.')\n"
     ]
    },
    {
     "name": "stdout",
     "output_type": "stream",
     "text": [
      "./genres_2/Afro/Floating_Points_-_Nuits_Sonores.mp3 0.3740350604057312 0.13059699535369873 383.6860293629439 902.7238406635158 397.61484239051623 0.016414633483178655\n"
     ]
    },
    {
     "name": "stderr",
     "output_type": "stream",
     "text": [
      "/Users/Andy/opt/anaconda3/lib/python3.7/site-packages/librosa/core/audio.py:161: UserWarning: PySoundFile failed. Trying audioread instead.\n",
      "  warnings.warn('PySoundFile failed. Trying audioread instead.')\n"
     ]
    },
    {
     "name": "stdout",
     "output_type": "stream",
     "text": [
      "./genres_2/Afro/14_Tummy_Tummy_(Auntie_Flo_Remix).mp3 0.5046123266220093 0.32288432121276855 2971.4520775815568 2374.017892699724 5660.509545841793 0.13211689747679814\n"
     ]
    },
    {
     "name": "stderr",
     "output_type": "stream",
     "text": [
      "/Users/Andy/opt/anaconda3/lib/python3.7/site-packages/librosa/core/audio.py:161: UserWarning: PySoundFile failed. Trying audioread instead.\n",
      "  warnings.warn('PySoundFile failed. Trying audioread instead.')\n"
     ]
    },
    {
     "name": "stdout",
     "output_type": "stream",
     "text": [
      "./genres_2/Afro/03_Changaa_Attack_(General_Ludd_Remix).mp3 0.5649421811103821 0.13639870285987854 2010.5882157346539 2144.251756627544 4147.14004268779 0.0818341248549884\n"
     ]
    },
    {
     "name": "stderr",
     "output_type": "stream",
     "text": [
      "/Users/Andy/opt/anaconda3/lib/python3.7/site-packages/librosa/core/audio.py:161: UserWarning: PySoundFile failed. Trying audioread instead.\n",
      "  warnings.warn('PySoundFile failed. Trying audioread instead.')\n"
     ]
    },
    {
     "name": "stdout",
     "output_type": "stream",
     "text": [
      "./genres_2/Afro/02_Ngoni.mp3 0.349162220954895 0.11295003443956375 1933.1412698272816 1939.8582650996932 3789.169276120215 0.08783171403712298\n"
     ]
    },
    {
     "name": "stderr",
     "output_type": "stream",
     "text": [
      "/Users/Andy/opt/anaconda3/lib/python3.7/site-packages/librosa/core/audio.py:161: UserWarning: PySoundFile failed. Trying audioread instead.\n",
      "  warnings.warn('PySoundFile failed. Trying audioread instead.')\n"
     ]
    },
    {
     "name": "stdout",
     "output_type": "stream",
     "text": [
      "./genres_2/Afro/01_King_Bromeliad.mp3 0.5044946670532227 0.01499167364090681 1181.756170867635 1529.2167737431964 2127.365558385296 0.0549831877175174\n",
      "./genres_2/Afro/02_The_Blues_(It_Began_in_Africa)_(Original_Mix).aiff 0.3837931156158447 0.09751147031784058 2209.258579008419 2225.9489210558845 4484.626787721143 0.12878842807424595\n"
     ]
    },
    {
     "name": "stderr",
     "output_type": "stream",
     "text": [
      "/Users/Andy/opt/anaconda3/lib/python3.7/site-packages/librosa/core/audio.py:161: UserWarning: PySoundFile failed. Trying audioread instead.\n",
      "  warnings.warn('PySoundFile failed. Trying audioread instead.')\n"
     ]
    },
    {
     "name": "stdout",
     "output_type": "stream",
     "text": [
      "./genres_2/Afro/Jimi_Bazzouka_-_So_So_Ye.mp3 0.32170042395591736 0.08546778559684753 1233.3209701145286 1701.525636984362 2275.125299086427 0.05155955445185615\n"
     ]
    },
    {
     "name": "stderr",
     "output_type": "stream",
     "text": [
      "/Users/Andy/opt/anaconda3/lib/python3.7/site-packages/librosa/core/audio.py:161: UserWarning: PySoundFile failed. Trying audioread instead.\n",
      "  warnings.warn('PySoundFile failed. Trying audioread instead.')\n"
     ]
    },
    {
     "name": "stdout",
     "output_type": "stream",
     "text": [
      "./genres_2/Afro/Burna_Boy_-_Tonight_(Murlo_Refix).mp3 0.5419530868530273 0.19850948452949524 2512.7193704413103 2549.556312464968 5336.537258918213 0.08570638776102088\n"
     ]
    },
    {
     "name": "stderr",
     "output_type": "stream",
     "text": [
      "/Users/Andy/opt/anaconda3/lib/python3.7/site-packages/librosa/core/audio.py:161: UserWarning: PySoundFile failed. Trying audioread instead.\n",
      "  warnings.warn('PySoundFile failed. Trying audioread instead.')\n"
     ]
    },
    {
     "name": "stdout",
     "output_type": "stream",
     "text": [
      "./genres_2/Afro/2_(Side_B).mp3 0.503332793712616 0.16671860218048096 654.3843834886723 1029.5967064705726 1299.6861858323666 0.017990501740139213\n"
     ]
    },
    {
     "name": "stderr",
     "output_type": "stream",
     "text": [
      "/Users/Andy/opt/anaconda3/lib/python3.7/site-packages/librosa/core/audio.py:161: UserWarning: PySoundFile failed. Trying audioread instead.\n",
      "  warnings.warn('PySoundFile failed. Trying audioread instead.')\n"
     ]
    },
    {
     "name": "stdout",
     "output_type": "stream",
     "text": [
      "./genres_2/Afro/04_Brutus.mp3 0.5102462768554688 0.07273581624031067 2256.613651970612 2411.773991398858 4621.744829430105 0.0944240773636891\n"
     ]
    },
    {
     "name": "stderr",
     "output_type": "stream",
     "text": [
      "/Users/Andy/opt/anaconda3/lib/python3.7/site-packages/librosa/core/audio.py:161: UserWarning: PySoundFile failed. Trying audioread instead.\n",
      "  warnings.warn('PySoundFile failed. Trying audioread instead.')\n"
     ]
    },
    {
     "name": "stdout",
     "output_type": "stream",
     "text": [
      "./genres_2/Afro/rampa-mascha.mp3 0.5608024597167969 0.2609565258026123 832.4005819020581 1711.2506378961773 1326.3653748549884 0.016653676044083528\n",
      "Disco\n"
     ]
    },
    {
     "name": "stderr",
     "output_type": "stream",
     "text": [
      "/Users/Andy/opt/anaconda3/lib/python3.7/site-packages/librosa/core/audio.py:161: UserWarning: PySoundFile failed. Trying audioread instead.\n",
      "  warnings.warn('PySoundFile failed. Trying audioread instead.')\n"
     ]
    },
    {
     "name": "stdout",
     "output_type": "stream",
     "text": [
      "./genres_2/Disco/Arnie_Love_-_Weve_Had_Enough_-_Soul_Spectrum_Records.mp3 0.4492403566837311 0.1364705115556717 2372.107252894264 2582.3941486467706 5275.31001894214 0.09207103755800464\n"
     ]
    },
    {
     "name": "stderr",
     "output_type": "stream",
     "text": [
      "/Users/Andy/opt/anaconda3/lib/python3.7/site-packages/librosa/core/audio.py:161: UserWarning: PySoundFile failed. Trying audioread instead.\n",
      "  warnings.warn('PySoundFile failed. Trying audioread instead.')\n"
     ]
    },
    {
     "name": "stdout",
     "output_type": "stream",
     "text": [
      "./genres_2/Disco/Earth,_Wind_&_Fire_-_Let's_Groove.mp3 0.45501062273979187 0.1337645798921585 2707.8657110686645 2660.826562582859 5729.155998495505 0.1381813279437355\n"
     ]
    },
    {
     "name": "stderr",
     "output_type": "stream",
     "text": [
      "/Users/Andy/opt/anaconda3/lib/python3.7/site-packages/librosa/core/audio.py:161: UserWarning: PySoundFile failed. Trying audioread instead.\n",
      "  warnings.warn('PySoundFile failed. Trying audioread instead.')\n"
     ]
    },
    {
     "name": "stdout",
     "output_type": "stream",
     "text": [
      "./genres_2/Disco/Nighmares_on_wax-_da_feelin.mp3 0.38468095660209656 0.0950751006603241 1922.4167261381322 2526.043571168008 4576.230332801624 0.06509208236658932\n"
     ]
    },
    {
     "name": "stderr",
     "output_type": "stream",
     "text": [
      "/Users/Andy/opt/anaconda3/lib/python3.7/site-packages/librosa/core/audio.py:161: UserWarning: PySoundFile failed. Trying audioread instead.\n",
      "  warnings.warn('PySoundFile failed. Trying audioread instead.')\n"
     ]
    },
    {
     "name": "stdout",
     "output_type": "stream",
     "text": [
      "./genres_2/Disco/Indeep_-_Last_Night_A_DJ_Saved_My_Life_1982_[HD].mp3 0.48408204317092896 0.07997369766235352 2763.0527004258493 2577.069166296586 5684.815586028132 0.13940033171403712\n"
     ]
    },
    {
     "name": "stderr",
     "output_type": "stream",
     "text": [
      "/Users/Andy/opt/anaconda3/lib/python3.7/site-packages/librosa/core/audio.py:161: UserWarning: PySoundFile failed. Trying audioread instead.\n",
      "  warnings.warn('PySoundFile failed. Trying audioread instead.')\n"
     ]
    },
    {
     "name": "stdout",
     "output_type": "stream",
     "text": [
      "./genres_2/Disco/21_Don't_U_Want_My_Love.mp3 0.5111992359161377 0.1897159218788147 2523.274393706665 2819.5894552305344 5772.12248268924 0.07145786506670533\n"
     ]
    },
    {
     "name": "stderr",
     "output_type": "stream",
     "text": [
      "/Users/Andy/opt/anaconda3/lib/python3.7/site-packages/librosa/core/audio.py:161: UserWarning: PySoundFile failed. Trying audioread instead.\n",
      "  warnings.warn('PySoundFile failed. Trying audioread instead.')\n"
     ]
    },
    {
     "name": "stdout",
     "output_type": "stream",
     "text": [
      "./genres_2/Disco/Ah_Ndiya_(K&F_Edit).mp3 0.31386104226112366 0.16052742302417755 2543.691504038542 2132.696364301378 4655.418562391242 0.14522005510440836\n"
     ]
    },
    {
     "name": "stderr",
     "output_type": "stream",
     "text": [
      "/Users/Andy/opt/anaconda3/lib/python3.7/site-packages/librosa/core/audio.py:161: UserWarning: PySoundFile failed. Trying audioread instead.\n",
      "  warnings.warn('PySoundFile failed. Trying audioread instead.')\n"
     ]
    },
    {
     "name": "stdout",
     "output_type": "stream",
     "text": [
      "./genres_2/Disco/03_Black_Magic_(Todd_Terje_Tangoterje_Edit).mp3 0.4009578824043274 0.13961909711360931 2048.6989448338895 2377.6385375288783 3991.661323140226 0.09643384752030162\n"
     ]
    },
    {
     "name": "stderr",
     "output_type": "stream",
     "text": [
      "/Users/Andy/opt/anaconda3/lib/python3.7/site-packages/librosa/core/audio.py:161: UserWarning: PySoundFile failed. Trying audioread instead.\n",
      "  warnings.warn('PySoundFile failed. Trying audioread instead.')\n"
     ]
    },
    {
     "name": "stdout",
     "output_type": "stream",
     "text": [
      "./genres_2/Disco/The_Fall_(Maurice_Fulton_Alt_Remix).mp3 0.5411744117736816 0.13826997578144073 984.842529816656 1277.2209537509534 1827.524448049594 0.04339585448085847\n"
     ]
    },
    {
     "name": "stderr",
     "output_type": "stream",
     "text": [
      "/Users/Andy/opt/anaconda3/lib/python3.7/site-packages/librosa/core/audio.py:161: UserWarning: PySoundFile failed. Trying audioread instead.\n",
      "  warnings.warn('PySoundFile failed. Trying audioread instead.')\n"
     ]
    },
    {
     "name": "stdout",
     "output_type": "stream",
     "text": [
      "./genres_2/Disco/01_D.R.O.M.P_(Special_12__Mix).mp3 0.45436108112335205 0.30680206418037415 2373.995018844946 2564.8494391830004 5219.603472574681 0.08087908751450117\n"
     ]
    },
    {
     "name": "stderr",
     "output_type": "stream",
     "text": [
      "/Users/Andy/opt/anaconda3/lib/python3.7/site-packages/librosa/core/audio.py:161: UserWarning: PySoundFile failed. Trying audioread instead.\n",
      "  warnings.warn('PySoundFile failed. Trying audioread instead.')\n"
     ]
    },
    {
     "name": "stdout",
     "output_type": "stream",
     "text": [
      "./genres_2/Disco/06_That_Friday_Pay_(Part_1).mp3 0.3851786255836487 0.20034226775169373 2644.6540596155255 2792.911853461901 6024.97524606656 0.12282595888921113\n"
     ]
    },
    {
     "name": "stderr",
     "output_type": "stream",
     "text": [
      "/Users/Andy/opt/anaconda3/lib/python3.7/site-packages/librosa/core/audio.py:161: UserWarning: PySoundFile failed. Trying audioread instead.\n",
      "  warnings.warn('PySoundFile failed. Trying audioread instead.')\n"
     ]
    },
    {
     "name": "stdout",
     "output_type": "stream",
     "text": [
      "./genres_2/Disco/Aeroplane_-_Whispers_feat._Kathy_Diamond_[HD].mp3 0.556835949420929 0.18837223947048187 2418.984308636414 2520.931316604571 4956.95834768344 0.15393774470707658\n"
     ]
    },
    {
     "name": "stderr",
     "output_type": "stream",
     "text": [
      "/Users/Andy/opt/anaconda3/lib/python3.7/site-packages/librosa/core/audio.py:161: UserWarning: PySoundFile failed. Trying audioread instead.\n",
      "  warnings.warn('PySoundFile failed. Trying audioread instead.')\n"
     ]
    },
    {
     "name": "stdout",
     "output_type": "stream",
     "text": [
      "./genres_2/Disco/common_-_i_am_music_todd_terje_edit.mp3 0.47298792004585266 0.1291505992412567 2126.102917697302 2374.5138543379126 4449.404262887906 0.08250480350928074\n"
     ]
    },
    {
     "name": "stderr",
     "output_type": "stream",
     "text": [
      "/Users/Andy/opt/anaconda3/lib/python3.7/site-packages/librosa/core/audio.py:161: UserWarning: PySoundFile failed. Trying audioread instead.\n",
      "  warnings.warn('PySoundFile failed. Trying audioread instead.')\n"
     ]
    },
    {
     "name": "stdout",
     "output_type": "stream",
     "text": [
      "./genres_2/Disco/01_Hankuri.mp3 0.487259179353714 0.02593827247619629 4007.0540704019413 2551.032079351086 6815.108905978103 0.27819116154292345\n"
     ]
    },
    {
     "name": "stderr",
     "output_type": "stream",
     "text": [
      "/Users/Andy/opt/anaconda3/lib/python3.7/site-packages/librosa/core/audio.py:161: UserWarning: PySoundFile failed. Trying audioread instead.\n",
      "  warnings.warn('PySoundFile failed. Trying audioread instead.')\n"
     ]
    },
    {
     "name": "stdout",
     "output_type": "stream",
     "text": [
      "./genres_2/Disco/32_Got_Funk__(Da_Mongoloids_Funktastic_Funk_Mix).mp3 0.593658983707428 0.16947409510612488 4116.0310870652975 2966.8776696490177 7796.5683231221 0.27271017618909515\n"
     ]
    },
    {
     "name": "stderr",
     "output_type": "stream",
     "text": [
      "/Users/Andy/opt/anaconda3/lib/python3.7/site-packages/librosa/core/audio.py:161: UserWarning: PySoundFile failed. Trying audioread instead.\n",
      "  warnings.warn('PySoundFile failed. Trying audioread instead.')\n"
     ]
    },
    {
     "name": "stdout",
     "output_type": "stream",
     "text": [
      "./genres_2/Disco/I_Want_Your_Love_(Todd_Terje_edit).mp3 0.4754262864589691 0.08571156859397888 2363.1197863629536 2480.3138121575894 5096.024869489559 0.09125534730278423\n"
     ]
    },
    {
     "name": "stderr",
     "output_type": "stream",
     "text": [
      "/Users/Andy/opt/anaconda3/lib/python3.7/site-packages/librosa/core/audio.py:161: UserWarning: PySoundFile failed. Trying audioread instead.\n",
      "  warnings.warn('PySoundFile failed. Trying audioread instead.')\n"
     ]
    },
    {
     "name": "stdout",
     "output_type": "stream",
     "text": [
      "./genres_2/Disco/rhythm_of_auld.mp3 0.41434505581855774 0.060558293014764786 2765.234245210552 2621.734785157073 5621.739788011166 0.13073702146171692\n",
      "./genres_2/Disco/04_I_Feel_Love.aif 0.4159711003303528 0.07334081083536148 2955.667942122214 2665.9645135618034 6081.406227341938 0.14038029292343387\n"
     ]
    },
    {
     "name": "stderr",
     "output_type": "stream",
     "text": [
      "/Users/Andy/opt/anaconda3/lib/python3.7/site-packages/librosa/core/audio.py:161: UserWarning: PySoundFile failed. Trying audioread instead.\n",
      "  warnings.warn('PySoundFile failed. Trying audioread instead.')\n"
     ]
    },
    {
     "name": "stdout",
     "output_type": "stream",
     "text": [
      "./genres_2/Disco/01_Beam_Me_Up_(Jacques_Renault_Remix).mp3 0.4861130118370056 0.1479664444923401 2576.3799131384144 2490.72856670413 5214.232662050464 0.11251540748259861\n"
     ]
    },
    {
     "name": "stderr",
     "output_type": "stream",
     "text": [
      "/Users/Andy/opt/anaconda3/lib/python3.7/site-packages/librosa/core/audio.py:161: UserWarning: PySoundFile failed. Trying audioread instead.\n",
      "  warnings.warn('PySoundFile failed. Trying audioread instead.')\n"
     ]
    },
    {
     "name": "stdout",
     "output_type": "stream",
     "text": [
      "./genres_2/Disco/Armand_Van_Helden-Full_Moon_www.my-free-mp3.net_.mp3 0.5345040559768677 0.1109788790345192 2544.850366265209 2667.991560390704 5512.649883084397 0.09394599224187936\n"
     ]
    },
    {
     "name": "stderr",
     "output_type": "stream",
     "text": [
      "/Users/Andy/opt/anaconda3/lib/python3.7/site-packages/librosa/core/audio.py:161: UserWarning: PySoundFile failed. Trying audioread instead.\n",
      "  warnings.warn('PySoundFile failed. Trying audioread instead.')\n"
     ]
    },
    {
     "name": "stdout",
     "output_type": "stream",
     "text": [
      "./genres_2/Disco/08_Holiday.mp3 0.5414222478866577 0.2735762596130371 2742.642183484905 2504.0299814137247 5496.362587913283 0.12170325188515081\n"
     ]
    },
    {
     "name": "stderr",
     "output_type": "stream",
     "text": [
      "/Users/Andy/opt/anaconda3/lib/python3.7/site-packages/librosa/core/audio.py:161: UserWarning: PySoundFile failed. Trying audioread instead.\n",
      "  warnings.warn('PySoundFile failed. Trying audioread instead.')\n"
     ]
    },
    {
     "name": "stdout",
     "output_type": "stream",
     "text": [
      "./genres_2/Disco/16-03_Ring_My_Bell.mp3 0.387954443693161 0.12906241416931152 3346.6354080390524 3130.92700165329 7372.5990383918215 0.14363059200986078\n"
     ]
    },
    {
     "name": "stderr",
     "output_type": "stream",
     "text": [
      "/Users/Andy/opt/anaconda3/lib/python3.7/site-packages/librosa/core/audio.py:161: UserWarning: PySoundFile failed. Trying audioread instead.\n",
      "  warnings.warn('PySoundFile failed. Trying audioread instead.')\n"
     ]
    },
    {
     "name": "stdout",
     "output_type": "stream",
     "text": [
      "./genres_2/Disco/For_Your_Love_(Todd_Terje_Re-Edit).mp3 0.4944206476211548 0.09929399937391281 1743.146606526792 2214.9610026283963 3795.639229263341 0.059502338312064966\n"
     ]
    },
    {
     "name": "stderr",
     "output_type": "stream",
     "text": [
      "/Users/Andy/opt/anaconda3/lib/python3.7/site-packages/librosa/core/audio.py:161: UserWarning: PySoundFile failed. Trying audioread instead.\n",
      "  warnings.warn('PySoundFile failed. Trying audioread instead.')\n"
     ]
    },
    {
     "name": "stdout",
     "output_type": "stream",
     "text": [
      "./genres_2/Disco/22_Your_Love.mp3 0.246430903673172 0.17459413409233093 1591.3219668353884 1835.6589336122029 3083.3448511818447 0.06196187101218097\n",
      "./genres_2/Disco/02_-_Bad_Girls.wav 0.530081570148468 0.1599849909543991 2774.5398298568484 2781.4548349867546 6087.401550717807 0.11870559019721577\n"
     ]
    },
    {
     "name": "stderr",
     "output_type": "stream",
     "text": [
      "/Users/Andy/opt/anaconda3/lib/python3.7/site-packages/librosa/core/audio.py:161: UserWarning: PySoundFile failed. Trying audioread instead.\n",
      "  warnings.warn('PySoundFile failed. Trying audioread instead.')\n"
     ]
    },
    {
     "name": "stdout",
     "output_type": "stream",
     "text": [
      "./genres_2/Disco/05_The_Bomb.mp3 0.5364588499069214 0.15207426249980927 3692.112073458983 2747.8038886070917 6911.059060506091 0.2122833889211137\n"
     ]
    },
    {
     "name": "stderr",
     "output_type": "stream",
     "text": [
      "/Users/Andy/opt/anaconda3/lib/python3.7/site-packages/librosa/core/audio.py:161: UserWarning: PySoundFile failed. Trying audioread instead.\n",
      "  warnings.warn('PySoundFile failed. Trying audioread instead.')\n"
     ]
    },
    {
     "name": "stdout",
     "output_type": "stream",
     "text": [
      "./genres_2/Disco/Africa_(K&F_Edit).mp3 0.4231927692890167 0.03152317553758621 3362.622215247217 3037.877654902632 7100.586220725783 0.13872738725348027\n"
     ]
    },
    {
     "name": "stderr",
     "output_type": "stream",
     "text": [
      "/Users/Andy/opt/anaconda3/lib/python3.7/site-packages/librosa/core/audio.py:161: UserWarning: PySoundFile failed. Trying audioread instead.\n",
      "  warnings.warn('PySoundFile failed. Trying audioread instead.')\n"
     ]
    },
    {
     "name": "stdout",
     "output_type": "stream",
     "text": [
      "./genres_2/Disco/23610_You're_My_Heart_You're_My_Soul_(Rune_Lindbaek_&_Todd_Terje_Edit).mp3 0.47095808386802673 0.13080944120883942 2803.786174047247 2426.719867284079 5312.456043358468 0.1560959251740139\n"
     ]
    },
    {
     "name": "stderr",
     "output_type": "stream",
     "text": [
      "/Users/Andy/opt/anaconda3/lib/python3.7/site-packages/librosa/core/audio.py:161: UserWarning: PySoundFile failed. Trying audioread instead.\n",
      "  warnings.warn('PySoundFile failed. Trying audioread instead.')\n"
     ]
    },
    {
     "name": "stdout",
     "output_type": "stream",
     "text": [
      "./genres_2/Disco/03_Bad_Kingdom_(DJ_Koze_Remix).mp3 0.47325214743614197 0.20578810572624207 3118.5196686373934 2628.4699565668266 5862.027352813225 0.1371730441560325\n",
      "./genres_2/Disco/17_-_Nightmares_On_Wax_-_Da_Feelin'.wav 0.42399144172668457 0.2410164475440979 1825.1138401828202 2470.059807032605 4512.005431137616 0.05675957982888631\n"
     ]
    },
    {
     "name": "stderr",
     "output_type": "stream",
     "text": [
      "/Users/Andy/opt/anaconda3/lib/python3.7/site-packages/librosa/core/audio.py:161: UserWarning: PySoundFile failed. Trying audioread instead.\n",
      "  warnings.warn('PySoundFile failed. Trying audioread instead.')\n"
     ]
    },
    {
     "name": "stdout",
     "output_type": "stream",
     "text": [
      "./genres_2/Disco/dj-octopus-bug-lady.mp3 0.42082536220550537 0.2845477759838104 2481.4417314095813 2697.7263517085757 5530.635853212007 0.11900807533352668\n"
     ]
    },
    {
     "name": "stderr",
     "output_type": "stream",
     "text": [
      "/Users/Andy/opt/anaconda3/lib/python3.7/site-packages/librosa/core/audio.py:161: UserWarning: PySoundFile failed. Trying audioread instead.\n",
      "  warnings.warn('PySoundFile failed. Trying audioread instead.')\n"
     ]
    },
    {
     "name": "stdout",
     "output_type": "stream",
     "text": [
      "./genres_2/Disco/Karizma_-_Work_It_Out_(PoorDownload).mp3 0.46245378255844116 0.2743036448955536 1523.9438310433925 1816.349725946839 3032.3096609447507 0.06593949390951276\n"
     ]
    },
    {
     "name": "stderr",
     "output_type": "stream",
     "text": [
      "/Users/Andy/opt/anaconda3/lib/python3.7/site-packages/librosa/core/audio.py:161: UserWarning: PySoundFile failed. Trying audioread instead.\n",
      "  warnings.warn('PySoundFile failed. Trying audioread instead.')\n"
     ]
    },
    {
     "name": "stdout",
     "output_type": "stream",
     "text": [
      "./genres_2/Disco/20_Me_Myself_And_I.mp3 0.4506016969680786 0.07683680206537247 3561.80941733316 3071.097551153199 7319.5154460013055 0.19730867531902552\n"
     ]
    },
    {
     "name": "stderr",
     "output_type": "stream",
     "text": [
      "/Users/Andy/opt/anaconda3/lib/python3.7/site-packages/librosa/core/audio.py:161: UserWarning: PySoundFile failed. Trying audioread instead.\n",
      "  warnings.warn('PySoundFile failed. Trying audioread instead.')\n"
     ]
    },
    {
     "name": "stdout",
     "output_type": "stream",
     "text": [
      "./genres_2/Disco/01_Pembe_(Jimmy_Rouge_Edit).mp3 0.506807804107666 0.14315339922904968 3291.0427030664287 2745.092929725588 6485.790789044374 0.14682198013341066\n"
     ]
    },
    {
     "name": "stderr",
     "output_type": "stream",
     "text": [
      "/Users/Andy/opt/anaconda3/lib/python3.7/site-packages/librosa/core/audio.py:161: UserWarning: PySoundFile failed. Trying audioread instead.\n",
      "  warnings.warn('PySoundFile failed. Trying audioread instead.')\n"
     ]
    },
    {
     "name": "stdout",
     "output_type": "stream",
     "text": [
      "./genres_2/Disco/No_Possible_(Joystick_Jays_Vulgar_Distractions_Edit).mp3 0.5718647837638855 0.13571089506149292 1551.6654397889454 2074.0862824330734 3442.8394291074537 0.027470635150812064\n"
     ]
    },
    {
     "name": "stderr",
     "output_type": "stream",
     "text": [
      "/Users/Andy/opt/anaconda3/lib/python3.7/site-packages/librosa/core/audio.py:161: UserWarning: PySoundFile failed. Trying audioread instead.\n",
      "  warnings.warn('PySoundFile failed. Trying audioread instead.')\n"
     ]
    },
    {
     "name": "stdout",
     "output_type": "stream",
     "text": [
      "./genres_2/Disco/13_Handkerchief_(Auntie_Flo_Remix).mp3 0.5454252362251282 0.19674260914325714 2938.0593182726757 2650.6340860033833 5762.554945801914 0.10973186448665893\n"
     ]
    },
    {
     "name": "stderr",
     "output_type": "stream",
     "text": [
      "/Users/Andy/opt/anaconda3/lib/python3.7/site-packages/librosa/core/audio.py:161: UserWarning: PySoundFile failed. Trying audioread instead.\n",
      "  warnings.warn('PySoundFile failed. Trying audioread instead.')\n"
     ]
    },
    {
     "name": "stdout",
     "output_type": "stream",
     "text": [
      "./genres_2/Disco/Tiger_&_Woods_-_Matrix_(Scoring_Clubs_EP)_-_Editainment.mp3 0.5390715599060059 0.09045978635549545 2769.6561980536426 2448.0862682656084 5484.147116534948 0.15251934998549885\n"
     ]
    },
    {
     "name": "stderr",
     "output_type": "stream",
     "text": [
      "/Users/Andy/opt/anaconda3/lib/python3.7/site-packages/librosa/core/audio.py:161: UserWarning: PySoundFile failed. Trying audioread instead.\n",
      "  warnings.warn('PySoundFile failed. Trying audioread instead.')\n"
     ]
    },
    {
     "name": "stdout",
     "output_type": "stream",
     "text": [
      "./genres_2/Disco/03_Sugar_Is_Sweeter_(Armand_Van_Helden's_Dru.mp3 0.6710219979286194 0.12055845558643341 4191.728991622586 3133.0973618608186 8235.276111151392 0.2508213547708817\n"
     ]
    },
    {
     "name": "stderr",
     "output_type": "stream",
     "text": [
      "/Users/Andy/opt/anaconda3/lib/python3.7/site-packages/librosa/core/audio.py:161: UserWarning: PySoundFile failed. Trying audioread instead.\n",
      "  warnings.warn('PySoundFile failed. Trying audioread instead.')\n"
     ]
    },
    {
     "name": "stdout",
     "output_type": "stream",
     "text": [
      "./genres_2/Disco/04_Mystik_C_(Medusa_Mix).mp3 0.23171257972717285 0.05766060948371887 3465.2232486112175 2522.017645259709 6334.658678944315 0.2447433294663573\n"
     ]
    },
    {
     "name": "stderr",
     "output_type": "stream",
     "text": [
      "/Users/Andy/opt/anaconda3/lib/python3.7/site-packages/librosa/core/audio.py:161: UserWarning: PySoundFile failed. Trying audioread instead.\n",
      "  warnings.warn('PySoundFile failed. Trying audioread instead.')\n"
     ]
    },
    {
     "name": "stdout",
     "output_type": "stream",
     "text": [
      "./genres_2/Disco/Robin_S._-_Show_Me_Love.mp3 0.3651443421840668 0.23399420082569122 3410.7425548149695 2972.296718211664 6951.877220490139 0.15062740175464037\n"
     ]
    },
    {
     "name": "stderr",
     "output_type": "stream",
     "text": [
      "/Users/Andy/opt/anaconda3/lib/python3.7/site-packages/librosa/core/audio.py:161: UserWarning: PySoundFile failed. Trying audioread instead.\n",
      "  warnings.warn('PySoundFile failed. Trying audioread instead.')\n"
     ]
    },
    {
     "name": "stdout",
     "output_type": "stream",
     "text": [
      "./genres_2/Disco/02_All_Night.mp3 0.4722960889339447 0.12094248831272125 2344.7573098356565 2484.542312800675 4981.913881235499 0.0897497190400232\n"
     ]
    },
    {
     "name": "stderr",
     "output_type": "stream",
     "text": [
      "/Users/Andy/opt/anaconda3/lib/python3.7/site-packages/librosa/core/audio.py:161: UserWarning: PySoundFile failed. Trying audioread instead.\n",
      "  warnings.warn('PySoundFile failed. Trying audioread instead.')\n"
     ]
    },
    {
     "name": "stdout",
     "output_type": "stream",
     "text": [
      "./genres_2/Disco/01._Sing_It_Back_(Boris_Dlugosch_Musical_Mix).mp3 0.6564548015594482 0.12241590768098831 4120.772235028099 2873.1060096044666 7621.704724659223 0.26858301007830626\n"
     ]
    },
    {
     "name": "stderr",
     "output_type": "stream",
     "text": [
      "/Users/Andy/opt/anaconda3/lib/python3.7/site-packages/librosa/core/audio.py:161: UserWarning: PySoundFile failed. Trying audioread instead.\n",
      "  warnings.warn('PySoundFile failed. Trying audioread instead.')\n"
     ]
    },
    {
     "name": "stdout",
     "output_type": "stream",
     "text": [
      "./genres_2/Disco/07_Who_Loves_You_.mp3 0.6085771918296814 0.15914307534694672 1462.888616636626 1504.0215255524733 2952.3220549050175 0.07985494308294663\n"
     ]
    },
    {
     "name": "stderr",
     "output_type": "stream",
     "text": [
      "/Users/Andy/opt/anaconda3/lib/python3.7/site-packages/librosa/core/audio.py:161: UserWarning: PySoundFile failed. Trying audioread instead.\n",
      "  warnings.warn('PySoundFile failed. Trying audioread instead.')\n"
     ]
    },
    {
     "name": "stdout",
     "output_type": "stream",
     "text": [
      "./genres_2/Disco/Percussion.mp3 0.3165510296821594 0.021097756922245026 2737.2696183633434 2381.08960273394 5326.470111749565 0.12300835629350348\n"
     ]
    },
    {
     "name": "stderr",
     "output_type": "stream",
     "text": [
      "/Users/Andy/opt/anaconda3/lib/python3.7/site-packages/librosa/core/audio.py:161: UserWarning: PySoundFile failed. Trying audioread instead.\n",
      "  warnings.warn('PySoundFile failed. Trying audioread instead.')\n"
     ]
    },
    {
     "name": "stdout",
     "output_type": "stream",
     "text": [
      "./genres_2/Disco/04_The_Fall_(Maurice_Fulton_Remix).m4a 0.5440124273300171 0.10983400791883469 999.981657551159 1307.3461699020736 1864.9952191487819 0.0449241408062645\n"
     ]
    },
    {
     "name": "stderr",
     "output_type": "stream",
     "text": [
      "/Users/Andy/opt/anaconda3/lib/python3.7/site-packages/librosa/core/audio.py:161: UserWarning: PySoundFile failed. Trying audioread instead.\n",
      "  warnings.warn('PySoundFile failed. Trying audioread instead.')\n"
     ]
    },
    {
     "name": "stdout",
     "output_type": "stream",
     "text": [
      "./genres_2/Disco/Hankuri.mp3 0.4938414990901947 0.03118135966360569 4132.030336141926 2604.3432991159216 7071.683765951276 0.2883283787703016\n"
     ]
    },
    {
     "name": "stderr",
     "output_type": "stream",
     "text": [
      "/Users/Andy/opt/anaconda3/lib/python3.7/site-packages/librosa/core/audio.py:161: UserWarning: PySoundFile failed. Trying audioread instead.\n",
      "  warnings.warn('PySoundFile failed. Trying audioread instead.')\n"
     ]
    },
    {
     "name": "stdout",
     "output_type": "stream",
     "text": [
      "./genres_2/Disco/LANDR-MxMS_-_Other_Life_Dub.mp3 0.38708359003067017 0.20551849901676178 1719.9428691659507 1794.513085010176 3177.4214671548725 0.09046118220707657\n"
     ]
    },
    {
     "name": "stderr",
     "output_type": "stream",
     "text": [
      "/Users/Andy/opt/anaconda3/lib/python3.7/site-packages/librosa/core/audio.py:161: UserWarning: PySoundFile failed. Trying audioread instead.\n",
      "  warnings.warn('PySoundFile failed. Trying audioread instead.')\n"
     ]
    },
    {
     "name": "stdout",
     "output_type": "stream",
     "text": [
      "./genres_2/Disco/Jurassic_5_-_In_The_House_(Nightmares_on_Wax_Remix).mp3 0.5803926587104797 0.22241327166557312 2660.988068511979 2888.9082599547087 6185.150302258556 0.07360811521171694\n",
      "./genres_2/Disco/Eartha_Kitt_-_Where_is_my_man_-_12inch_Original_j.b._edit__###.wav 0.4861624240875244 0.1559567153453827 2976.1999459697745 2686.421261664929 6121.849679614994 0.15358201312354988\n"
     ]
    },
    {
     "name": "stderr",
     "output_type": "stream",
     "text": [
      "/Users/Andy/opt/anaconda3/lib/python3.7/site-packages/librosa/core/audio.py:161: UserWarning: PySoundFile failed. Trying audioread instead.\n",
      "  warnings.warn('PySoundFile failed. Trying audioread instead.')\n"
     ]
    },
    {
     "name": "stdout",
     "output_type": "stream",
     "text": [
      "./genres_2/Disco/-Heartbeat-_Taana_Gardner__2011_West_End_Records_OFFICIAL_VIDEO_HD.mp3 0.5460822582244873 0.06058405712246895 2546.800226309379 2606.6807131700566 5466.885581315255 0.11258451457366589\n"
     ]
    },
    {
     "name": "stderr",
     "output_type": "stream",
     "text": [
      "/Users/Andy/opt/anaconda3/lib/python3.7/site-packages/librosa/core/audio.py:161: UserWarning: PySoundFile failed. Trying audioread instead.\n",
      "  warnings.warn('PySoundFile failed. Trying audioread instead.')\n"
     ]
    },
    {
     "name": "stdout",
     "output_type": "stream",
     "text": [
      "./genres_2/Disco/09_Get_Down_on_It.m4a 0.4362645745277405 0.15182967483997345 2520.686559308863 2406.866694552312 5133.120932877755 0.12964490284222738\n"
     ]
    },
    {
     "name": "stderr",
     "output_type": "stream",
     "text": [
      "/Users/Andy/opt/anaconda3/lib/python3.7/site-packages/librosa/core/audio.py:161: UserWarning: PySoundFile failed. Trying audioread instead.\n",
      "  warnings.warn('PySoundFile failed. Trying audioread instead.')\n"
     ]
    },
    {
     "name": "stdout",
     "output_type": "stream",
     "text": [
      "./genres_2/Disco/01_Body_Funk.mp3 0.501899242401123 0.10014902800321579 4816.119967662334 3165.077054626277 8685.30007205264 0.32825868256960555\n"
     ]
    },
    {
     "name": "stderr",
     "output_type": "stream",
     "text": [
      "/Users/Andy/opt/anaconda3/lib/python3.7/site-packages/librosa/core/audio.py:161: UserWarning: PySoundFile failed. Trying audioread instead.\n",
      "  warnings.warn('PySoundFile failed. Trying audioread instead.')\n"
     ]
    },
    {
     "name": "stdout",
     "output_type": "stream",
     "text": [
      "./genres_2/Disco/07_Who_Loves_You_.m4a 0.6075623035430908 0.15923796594142914 1458.3107538479123 1498.7730806250613 2946.1768484447507 0.07983455082656613\n"
     ]
    },
    {
     "name": "stderr",
     "output_type": "stream",
     "text": [
      "/Users/Andy/opt/anaconda3/lib/python3.7/site-packages/librosa/core/audio.py:161: UserWarning: PySoundFile failed. Trying audioread instead.\n",
      "  warnings.warn('PySoundFile failed. Trying audioread instead.')\n"
     ]
    },
    {
     "name": "stdout",
     "output_type": "stream",
     "text": [
      "./genres_2/Disco/Julio_Bashmore_-_Holding_On.mp3 0.3695240914821625 0.24365736544132233 2336.3076814595483 2484.857597344354 4871.475028549159 0.10183326384860789\n"
     ]
    },
    {
     "name": "stderr",
     "output_type": "stream",
     "text": [
      "/Users/Andy/opt/anaconda3/lib/python3.7/site-packages/librosa/core/audio.py:161: UserWarning: PySoundFile failed. Trying audioread instead.\n",
      "  warnings.warn('PySoundFile failed. Trying audioread instead.')\n"
     ]
    },
    {
     "name": "stdout",
     "output_type": "stream",
     "text": [
      "./genres_2/Disco/Kiki_Gyan_-_Disco_Dancer.mp3 0.4559977948665619 0.11941979825496674 2281.357656665032 2337.91623344197 4741.151686666183 0.10776627755220418\n"
     ]
    },
    {
     "name": "stderr",
     "output_type": "stream",
     "text": [
      "/Users/Andy/opt/anaconda3/lib/python3.7/site-packages/librosa/core/audio.py:161: UserWarning: PySoundFile failed. Trying audioread instead.\n",
      "  warnings.warn('PySoundFile failed. Trying audioread instead.')\n"
     ]
    },
    {
     "name": "stdout",
     "output_type": "stream",
     "text": [
      "./genres_2/Disco/Alan_Braxe_&_Fred_Falke_-_Intro_(Official).mp3 0.5937737822532654 0.22606754302978516 2953.607510932676 2689.6761293808418 5885.33417243692 0.17181042452146172\n"
     ]
    },
    {
     "name": "stderr",
     "output_type": "stream",
     "text": [
      "/Users/Andy/opt/anaconda3/lib/python3.7/site-packages/librosa/core/audio.py:161: UserWarning: PySoundFile failed. Trying audioread instead.\n",
      "  warnings.warn('PySoundFile failed. Trying audioread instead.')\n"
     ]
    },
    {
     "name": "stdout",
     "output_type": "stream",
     "text": [
      "./genres_2/Disco/Sister_Sledge_-_Lost_In_Music.mp3 0.3874972462654114 0.17904359102249146 2730.744965537708 2663.3128975355694 5748.440955354554 0.14812708454176335\n"
     ]
    },
    {
     "name": "stderr",
     "output_type": "stream",
     "text": [
      "/Users/Andy/opt/anaconda3/lib/python3.7/site-packages/librosa/core/audio.py:161: UserWarning: PySoundFile failed. Trying audioread instead.\n",
      "  warnings.warn('PySoundFile failed. Trying audioread instead.')\n"
     ]
    },
    {
     "name": "stdout",
     "output_type": "stream",
     "text": [
      "./genres_2/Disco/05_Come_Close_To_Me.mp3 0.3570137321949005 0.08445274084806442 2693.04407805316 2276.166070904368 4941.770195131236 0.140611405162413\n"
     ]
    },
    {
     "name": "stderr",
     "output_type": "stream",
     "text": [
      "/Users/Andy/opt/anaconda3/lib/python3.7/site-packages/librosa/core/audio.py:161: UserWarning: PySoundFile failed. Trying audioread instead.\n",
      "  warnings.warn('PySoundFile failed. Trying audioread instead.')\n"
     ]
    },
    {
     "name": "stdout",
     "output_type": "stream",
     "text": [
      "./genres_2/Disco/Room_5_&_Cheatham_-_Make_Luv'.mp3 0.5089221000671387 0.12841534614562988 2946.236116576914 2833.7700351212884 6328.913160709107 0.13845322469547564\n"
     ]
    },
    {
     "name": "stderr",
     "output_type": "stream",
     "text": [
      "/Users/Andy/opt/anaconda3/lib/python3.7/site-packages/librosa/core/audio.py:161: UserWarning: PySoundFile failed. Trying audioread instead.\n",
      "  warnings.warn('PySoundFile failed. Trying audioread instead.')\n"
     ]
    },
    {
     "name": "stdout",
     "output_type": "stream",
     "text": [
      "./genres_2/Disco/01_Shango_(Daniel_Haaksman_&_DJ_Beware_Remix).mp3 0.5251699686050415 0.08346736431121826 3357.2626636803816 2890.8060634900794 6981.629012742895 0.19105051841647333\n"
     ]
    },
    {
     "name": "stderr",
     "output_type": "stream",
     "text": [
      "/Users/Andy/opt/anaconda3/lib/python3.7/site-packages/librosa/core/audio.py:161: UserWarning: PySoundFile failed. Trying audioread instead.\n",
      "  warnings.warn('PySoundFile failed. Trying audioread instead.')\n"
     ]
    },
    {
     "name": "stdout",
     "output_type": "stream",
     "text": [
      "./genres_2/Disco/04_Dear_Life_(Purple_Disco_Machine_Remix).mp3 0.402512788772583 0.2369406670331955 3034.4982023561975 2664.756624675789 5931.598084487384 0.1439217481148492\n"
     ]
    },
    {
     "name": "stderr",
     "output_type": "stream",
     "text": [
      "/Users/Andy/opt/anaconda3/lib/python3.7/site-packages/librosa/core/audio.py:161: UserWarning: PySoundFile failed. Trying audioread instead.\n",
      "  warnings.warn('PySoundFile failed. Trying audioread instead.')\n"
     ]
    },
    {
     "name": "stdout",
     "output_type": "stream",
     "text": [
      "./genres_2/Disco/Zig_Zag__Heaven.mp3 0.2697162330150604 0.05506507679820061 2448.724462850888 2553.9261158445174 5352.724632033062 0.08498699427204176\n"
     ]
    },
    {
     "name": "stderr",
     "output_type": "stream",
     "text": [
      "/Users/Andy/opt/anaconda3/lib/python3.7/site-packages/librosa/core/audio.py:161: UserWarning: PySoundFile failed. Trying audioread instead.\n",
      "  warnings.warn('PySoundFile failed. Trying audioread instead.')\n"
     ]
    },
    {
     "name": "stdout",
     "output_type": "stream",
     "text": [
      "./genres_2/Disco/02_Oye_Coma_Va_(K&F_Edit).mp3 0.5336387753486633 0.1992766112089157 760.3872024745938 1187.4335314407897 1342.9524361948957 0.030749256815545245\n"
     ]
    },
    {
     "name": "stderr",
     "output_type": "stream",
     "text": [
      "/Users/Andy/opt/anaconda3/lib/python3.7/site-packages/librosa/core/audio.py:161: UserWarning: PySoundFile failed. Trying audioread instead.\n",
      "  warnings.warn('PySoundFile failed. Trying audioread instead.')\n"
     ]
    },
    {
     "name": "stdout",
     "output_type": "stream",
     "text": [
      "./genres_2/Disco/Can't_You_See_(Original_Mix).mp3 0.5146674513816833 0.17984642088413239 2035.2488428938473 2067.2843745044 3967.5051660382833 0.09910070149361949\n"
     ]
    },
    {
     "name": "stderr",
     "output_type": "stream",
     "text": [
      "/Users/Andy/opt/anaconda3/lib/python3.7/site-packages/librosa/core/audio.py:161: UserWarning: PySoundFile failed. Trying audioread instead.\n",
      "  warnings.warn('PySoundFile failed. Trying audioread instead.')\n"
     ]
    },
    {
     "name": "stdout",
     "output_type": "stream",
     "text": [
      "./genres_2/Disco/SB_PREMIERE___COEO_-_Cabrio_Mango_[Toy_Tonics].mp3 0.5654498934745789 0.1763429045677185 1269.043277603017 1952.1332623157818 2544.1904160926624 0.03425672491299304\n"
     ]
    },
    {
     "name": "stderr",
     "output_type": "stream",
     "text": [
      "/Users/Andy/opt/anaconda3/lib/python3.7/site-packages/librosa/core/audio.py:161: UserWarning: PySoundFile failed. Trying audioread instead.\n",
      "  warnings.warn('PySoundFile failed. Trying audioread instead.')\n"
     ]
    },
    {
     "name": "stdout",
     "output_type": "stream",
     "text": [
      "./genres_2/Disco/Soy_Como_Soy_[DJ_Koze_No_Voy_A_Cambiar_Repaso].mp3 0.43911391496658325 0.23310674726963043 620.2620542243877 1124.0381696663244 1393.7877823194606 0.013353529219837587\n"
     ]
    },
    {
     "name": "stderr",
     "output_type": "stream",
     "text": [
      "/Users/Andy/opt/anaconda3/lib/python3.7/site-packages/librosa/core/audio.py:161: UserWarning: PySoundFile failed. Trying audioread instead.\n",
      "  warnings.warn('PySoundFile failed. Trying audioread instead.')\n"
     ]
    },
    {
     "name": "stdout",
     "output_type": "stream",
     "text": [
      "./genres_2/Disco/01_Final_Credits.mp3 0.39770206809043884 0.04522164165973663 3131.8184865727662 3020.977601330725 6633.700412829901 0.11920520047853829\n"
     ]
    },
    {
     "name": "stderr",
     "output_type": "stream",
     "text": [
      "/Users/Andy/opt/anaconda3/lib/python3.7/site-packages/librosa/core/audio.py:161: UserWarning: PySoundFile failed. Trying audioread instead.\n",
      "  warnings.warn('PySoundFile failed. Trying audioread instead.')\n"
     ]
    },
    {
     "name": "stdout",
     "output_type": "stream",
     "text": [
      "./genres_2/Disco/01_Mighty_Tribe.mp3 0.3651123642921448 0.0787801668047905 3175.088503638885 2691.6792010168233 6361.862458762326 0.18075356184744779\n"
     ]
    },
    {
     "name": "stderr",
     "output_type": "stream",
     "text": [
      "/Users/Andy/opt/anaconda3/lib/python3.7/site-packages/librosa/core/audio.py:161: UserWarning: PySoundFile failed. Trying audioread instead.\n",
      "  warnings.warn('PySoundFile failed. Trying audioread instead.')\n"
     ]
    },
    {
     "name": "stdout",
     "output_type": "stream",
     "text": [
      "./genres_2/Disco/12_Inspector_Norse.mp3 0.5043081641197205 0.16630525887012482 1581.4647035029568 2196.6947797818857 3490.4772694315543 0.0368272821200696\n",
      "./genres_2/Disco/01_He's_The_Greatest_Dancer.aif 0.48938700556755066 0.09444767236709595 2018.8218049725751 2340.3166299354502 4351.38072569243 0.0843854227088167\n"
     ]
    },
    {
     "name": "stderr",
     "output_type": "stream",
     "text": [
      "/Users/Andy/opt/anaconda3/lib/python3.7/site-packages/librosa/core/audio.py:161: UserWarning: PySoundFile failed. Trying audioread instead.\n",
      "  warnings.warn('PySoundFile failed. Trying audioread instead.')\n"
     ]
    },
    {
     "name": "stdout",
     "output_type": "stream",
     "text": [
      "./genres_2/Disco/03_Beam_Me_Up_(Jacques_Renault_Remix).mp3 0.5125633478164673 0.1763586699962616 3841.735811239923 3024.9589420806956 7576.5399552276685 0.19338543177204176\n"
     ]
    },
    {
     "name": "stderr",
     "output_type": "stream",
     "text": [
      "/Users/Andy/opt/anaconda3/lib/python3.7/site-packages/librosa/core/audio.py:161: UserWarning: PySoundFile failed. Trying audioread instead.\n",
      "  warnings.warn('PySoundFile failed. Trying audioread instead.')\n"
     ]
    },
    {
     "name": "stdout",
     "output_type": "stream",
     "text": [
      "./genres_2/Disco/01_It's_My_House.mp3 0.32828423380851746 0.06980627030134201 2085.4861350726246 2506.6494704918728 4499.515174104554 0.08039420497389792\n"
     ]
    },
    {
     "name": "stderr",
     "output_type": "stream",
     "text": [
      "/Users/Andy/opt/anaconda3/lib/python3.7/site-packages/librosa/core/audio.py:161: UserWarning: PySoundFile failed. Trying audioread instead.\n",
      "  warnings.warn('PySoundFile failed. Trying audioread instead.')\n"
     ]
    },
    {
     "name": "stdout",
     "output_type": "stream",
     "text": [
      "./genres_2/Disco/Good_Name_(Auntie_Flo_Edit).mp3 0.4319074749946594 0.1897202730178833 3424.968479618684 2968.125857508144 7091.243508465052 0.1847674376450116\n",
      "./genres_2/Disco/01_We_Magnify_His_Name_Original_Mix.wav 0.5805475115776062 0.22745150327682495 1326.428855094758 1645.9655098343699 2968.4844475058003 0.04681495613399072\n"
     ]
    },
    {
     "name": "stderr",
     "output_type": "stream",
     "text": [
      "/Users/Andy/opt/anaconda3/lib/python3.7/site-packages/librosa/core/audio.py:161: UserWarning: PySoundFile failed. Trying audioread instead.\n",
      "  warnings.warn('PySoundFile failed. Trying audioread instead.')\n"
     ]
    },
    {
     "name": "stdout",
     "output_type": "stream",
     "text": [
      "./genres_2/Disco/01_I_Get_Lifted_(Todd_Terje_Tangoterje_Re-Edit).mp3 0.3971561789512634 0.07907311618328094 2116.5463017410984 2297.8994508395613 4369.766384045099 0.08920139392401392\n"
     ]
    },
    {
     "name": "stderr",
     "output_type": "stream",
     "text": [
      "/Users/Andy/opt/anaconda3/lib/python3.7/site-packages/librosa/core/audio.py:161: UserWarning: PySoundFile failed. Trying audioread instead.\n",
      "  warnings.warn('PySoundFile failed. Trying audioread instead.')\n"
     ]
    },
    {
     "name": "stdout",
     "output_type": "stream",
     "text": [
      "./genres_2/Disco/Lady_(Kaytranada_Reeeeeeeeeeeeeemix).mp3 0.4446713626384735 0.10632708668708801 3363.136938740919 2833.615881861334 6807.6397322723315 0.16693440944025523\n"
     ]
    },
    {
     "name": "stderr",
     "output_type": "stream",
     "text": [
      "/Users/Andy/opt/anaconda3/lib/python3.7/site-packages/librosa/core/audio.py:161: UserWarning: PySoundFile failed. Trying audioread instead.\n",
      "  warnings.warn('PySoundFile failed. Trying audioread instead.')\n"
     ]
    },
    {
     "name": "stdout",
     "output_type": "stream",
     "text": [
      "./genres_2/Disco/03_Miura.mp3 0.5471850037574768 0.18673907220363617 2916.0267777588665 2642.6098363283086 5923.979027697216 0.13057388341067286\n"
     ]
    },
    {
     "name": "stderr",
     "output_type": "stream",
     "text": [
      "/Users/Andy/opt/anaconda3/lib/python3.7/site-packages/librosa/core/audio.py:161: UserWarning: PySoundFile failed. Trying audioread instead.\n",
      "  warnings.warn('PySoundFile failed. Trying audioread instead.')\n"
     ]
    },
    {
     "name": "stdout",
     "output_type": "stream",
     "text": [
      "./genres_2/Disco/Jimi_Bazzouka_-_So_So_Ye.mp3 0.32170042395591736 0.08546778559684753 1233.3209701145286 1701.525636984362 2275.125299086427 0.05155955445185615\n"
     ]
    },
    {
     "name": "stderr",
     "output_type": "stream",
     "text": [
      "/Users/Andy/opt/anaconda3/lib/python3.7/site-packages/librosa/core/audio.py:161: UserWarning: PySoundFile failed. Trying audioread instead.\n",
      "  warnings.warn('PySoundFile failed. Trying audioread instead.')\n"
     ]
    },
    {
     "name": "stdout",
     "output_type": "stream",
     "text": [
      "./genres_2/Disco/04_Bug_Lady.mp3 0.4223021864891052 0.29325026273727417 2470.8646410191523 2698.8485191955647 5510.8512860716355 0.11897295533642692\n"
     ]
    },
    {
     "name": "stderr",
     "output_type": "stream",
     "text": [
      "/Users/Andy/opt/anaconda3/lib/python3.7/site-packages/librosa/core/audio.py:161: UserWarning: PySoundFile failed. Trying audioread instead.\n",
      "  warnings.warn('PySoundFile failed. Trying audioread instead.')\n"
     ]
    },
    {
     "name": "stdout",
     "output_type": "stream",
     "text": [
      "./genres_2/Disco/10_Operator_(DJ_Koze's_Disco_Edit).mp3 0.44717079401016235 0.2302270382642746 1985.5665826292675 2653.8411255733545 4958.132431844548 0.05342544591067285\n"
     ]
    },
    {
     "name": "stderr",
     "output_type": "stream",
     "text": [
      "/Users/Andy/opt/anaconda3/lib/python3.7/site-packages/librosa/core/audio.py:161: UserWarning: PySoundFile failed. Trying audioread instead.\n",
      "  warnings.warn('PySoundFile failed. Trying audioread instead.')\n"
     ]
    },
    {
     "name": "stdout",
     "output_type": "stream",
     "text": [
      "./genres_2/Disco/2_(Side_B).mp3 0.503332793712616 0.16671860218048096 654.3843834886723 1029.5967064705726 1299.6861858323666 0.017990501740139213\n"
     ]
    },
    {
     "name": "stderr",
     "output_type": "stream",
     "text": [
      "/Users/Andy/opt/anaconda3/lib/python3.7/site-packages/librosa/core/audio.py:161: UserWarning: PySoundFile failed. Trying audioread instead.\n",
      "  warnings.warn('PySoundFile failed. Trying audioread instead.')\n"
     ]
    },
    {
     "name": "stdout",
     "output_type": "stream",
     "text": [
      "./genres_2/Disco/rampa-mascha.mp3 0.5608024597167969 0.2609565258026123 832.4005819020581 1711.2506378961773 1326.3653748549884 0.016653676044083528\n"
     ]
    },
    {
     "name": "stderr",
     "output_type": "stream",
     "text": [
      "/Users/Andy/opt/anaconda3/lib/python3.7/site-packages/librosa/core/audio.py:161: UserWarning: PySoundFile failed. Trying audioread instead.\n",
      "  warnings.warn('PySoundFile failed. Trying audioread instead.')\n"
     ]
    },
    {
     "name": "stdout",
     "output_type": "stream",
     "text": [
      "./genres_2/Disco/02_Angola_(Carl_Craig's_mix).mp3 0.4601144790649414 0.05814887583255768 3821.8377830950194 3020.7219798549786 7527.85293331279 0.18298538101798145\n",
      "Drumz\n"
     ]
    },
    {
     "name": "stderr",
     "output_type": "stream",
     "text": [
      "/Users/Andy/opt/anaconda3/lib/python3.7/site-packages/librosa/core/audio.py:161: UserWarning: PySoundFile failed. Trying audioread instead.\n",
      "  warnings.warn('PySoundFile failed. Trying audioread instead.')\n"
     ]
    },
    {
     "name": "stdout",
     "output_type": "stream",
     "text": [
      "./genres_2/Drumz/AGGRO_SANTOS_-_CANDY_(MESSED_DRUM&BASS_REMIX).mp3 0.30143827199935913 0.1916191279888153 2939.9261708730482 2852.673321226661 6480.295075949826 0.14561203958816704\n"
     ]
    },
    {
     "name": "stderr",
     "output_type": "stream",
     "text": [
      "/Users/Andy/opt/anaconda3/lib/python3.7/site-packages/librosa/core/audio.py:161: UserWarning: PySoundFile failed. Trying audioread instead.\n",
      "  warnings.warn('PySoundFile failed. Trying audioread instead.')\n"
     ]
    },
    {
     "name": "stdout",
     "output_type": "stream",
     "text": [
      "./genres_2/Drumz/09_Lightah_(De_Jedi_Mix)_[Explicit].mp3 0.4854404032230377 0.3788711726665497 2774.980279930315 2919.9184446511013 6440.251311901827 0.08468904074825986\n"
     ]
    },
    {
     "name": "stderr",
     "output_type": "stream",
     "text": [
      "/Users/Andy/opt/anaconda3/lib/python3.7/site-packages/librosa/core/audio.py:161: UserWarning: PySoundFile failed. Trying audioread instead.\n",
      "  warnings.warn('PySoundFile failed. Trying audioread instead.')\n"
     ]
    },
    {
     "name": "stdout",
     "output_type": "stream",
     "text": [
      "./genres_2/Drumz/Barrington_Levy_-_Under_Mi_Sen.mp3 0.31627923250198364 0.059661176055669785 2904.3740346627546 2618.7891707135204 5995.423297926334 0.15757662956786542\n"
     ]
    },
    {
     "name": "stderr",
     "output_type": "stream",
     "text": [
      "/Users/Andy/opt/anaconda3/lib/python3.7/site-packages/librosa/core/audio.py:161: UserWarning: PySoundFile failed. Trying audioread instead.\n",
      "  warnings.warn('PySoundFile failed. Trying audioread instead.')\n"
     ]
    },
    {
     "name": "stdout",
     "output_type": "stream",
     "text": [
      "./genres_2/Drumz/fugeez_or_not_orig_95_###.mp3 0.5720054507255554 0.056286513805389404 4231.806310940536 2724.5292318643087 7229.410731764791 0.28807347556554525\n"
     ]
    },
    {
     "name": "stderr",
     "output_type": "stream",
     "text": [
      "/Users/Andy/opt/anaconda3/lib/python3.7/site-packages/librosa/core/audio.py:161: UserWarning: PySoundFile failed. Trying audioread instead.\n",
      "  warnings.warn('PySoundFile failed. Trying audioread instead.')\n"
     ]
    },
    {
     "name": "stdout",
     "output_type": "stream",
     "text": [
      "./genres_2/Drumz/01_Bangin.mp3 0.5625461339950562 0.37119072675704956 2612.079693968265 2428.5006532684915 5232.318554234339 0.11830680829466357\n"
     ]
    },
    {
     "name": "stderr",
     "output_type": "stream",
     "text": [
      "/Users/Andy/opt/anaconda3/lib/python3.7/site-packages/librosa/core/audio.py:161: UserWarning: PySoundFile failed. Trying audioread instead.\n",
      "  warnings.warn('PySoundFile failed. Trying audioread instead.')\n"
     ]
    },
    {
     "name": "stdout",
     "output_type": "stream",
     "text": [
      "./genres_2/Drumz/13_Hackney_Parrot_(Special_Request_VIP).mp3 0.5539566874504089 0.08851657062768936 4059.788292545694 2990.2192541011664 7720.177911107889 0.27453415023201855\n"
     ]
    },
    {
     "name": "stderr",
     "output_type": "stream",
     "text": [
      "/Users/Andy/opt/anaconda3/lib/python3.7/site-packages/librosa/core/audio.py:161: UserWarning: PySoundFile failed. Trying audioread instead.\n",
      "  warnings.warn('PySoundFile failed. Trying audioread instead.')\n"
     ]
    },
    {
     "name": "stdout",
     "output_type": "stream",
     "text": [
      "./genres_2/Drumz/Buffalo_Charge.mp3 0.32197239995002747 0.09813192486763 2513.52458418678 2351.771535580002 5013.963880782338 0.11971953850058005\n"
     ]
    },
    {
     "name": "stderr",
     "output_type": "stream",
     "text": [
      "/Users/Andy/opt/anaconda3/lib/python3.7/site-packages/librosa/core/audio.py:161: UserWarning: PySoundFile failed. Trying audioread instead.\n",
      "  warnings.warn('PySoundFile failed. Trying audioread instead.')\n"
     ]
    },
    {
     "name": "stdout",
     "output_type": "stream",
     "text": [
      "./genres_2/Drumz/Dub_Phizix_-_8_Gold_Rings.mp3 0.4123097062110901 0.20892655849456787 2399.1800097728105 2470.611175906572 4706.753518797129 0.13738036542923435\n",
      "./genres_2/Drumz/01._Sam_Binga_&_Rider_Shafique_-_Proud_(feat._Tiffanie_Malvo)_(Enei_Remix).wav 0.38503164052963257 0.1630690097808838 3196.260774966597 2954.4852464516475 6996.692262724768 0.15751431989559164\n"
     ]
    },
    {
     "name": "stderr",
     "output_type": "stream",
     "text": [
      "/Users/Andy/opt/anaconda3/lib/python3.7/site-packages/librosa/core/audio.py:161: UserWarning: PySoundFile failed. Trying audioread instead.\n",
      "  warnings.warn('PySoundFile failed. Trying audioread instead.')\n"
     ]
    },
    {
     "name": "stdout",
     "output_type": "stream",
     "text": [
      "./genres_2/Drumz/01_Just_Push_It_Up_(Nine_Lives_Mix).mp3 0.4831814765930176 0.08665253221988678 5429.875900027001 2730.225076641303 8404.693957547854 0.3780871610353828\n"
     ]
    },
    {
     "name": "stderr",
     "output_type": "stream",
     "text": [
      "/Users/Andy/opt/anaconda3/lib/python3.7/site-packages/librosa/core/audio.py:161: UserWarning: PySoundFile failed. Trying audioread instead.\n",
      "  warnings.warn('PySoundFile failed. Trying audioread instead.')\n"
     ]
    },
    {
     "name": "stdout",
     "output_type": "stream",
     "text": [
      "./genres_2/Drumz/01_King_of_the_Bong_O.mp3 0.3937840163707733 0.22201105952262878 3612.3597559521722 3112.5864726828418 7557.5048035092805 0.16588534113979117\n"
     ]
    },
    {
     "name": "stderr",
     "output_type": "stream",
     "text": [
      "/Users/Andy/opt/anaconda3/lib/python3.7/site-packages/librosa/core/audio.py:161: UserWarning: PySoundFile failed. Trying audioread instead.\n",
      "  warnings.warn('PySoundFile failed. Trying audioread instead.')\n"
     ]
    },
    {
     "name": "stdout",
     "output_type": "stream",
     "text": [
      "./genres_2/Drumz/Tessela_-_Hackney_Parrot_(Special_Request_VIP)_[Houndstooth].mp3 0.5561476945877075 0.12774156033992767 4096.53343594419 2975.224283684917 7731.044434726653 0.28245201022331784\n"
     ]
    },
    {
     "name": "stderr",
     "output_type": "stream",
     "text": [
      "/Users/Andy/opt/anaconda3/lib/python3.7/site-packages/librosa/core/audio.py:161: UserWarning: PySoundFile failed. Trying audioread instead.\n",
      "  warnings.warn('PySoundFile failed. Trying audioread instead.')\n"
     ]
    },
    {
     "name": "stdout",
     "output_type": "stream",
     "text": [
      "./genres_2/Drumz/JDZmedia_-_Devilman_Ft_Badness_-_Drum_And_Bass_Fat.mp3 0.4671647250652313 0.24126677215099335 2254.7916217607535 2268.3050559209523 4600.911080698956 0.09002841321055685\n"
     ]
    },
    {
     "name": "stderr",
     "output_type": "stream",
     "text": [
      "/Users/Andy/opt/anaconda3/lib/python3.7/site-packages/librosa/core/audio.py:161: UserWarning: PySoundFile failed. Trying audioread instead.\n",
      "  warnings.warn('PySoundFile failed. Trying audioread instead.')\n"
     ]
    },
    {
     "name": "stdout",
     "output_type": "stream",
     "text": [
      "./genres_2/Drumz/55_John_B-Up_All_Night.mp3 0.46251076459884644 0.3495209515094757 2302.7385533316897 2230.3535581193373 4477.082672473173 0.11742880836716937\n"
     ]
    },
    {
     "name": "stderr",
     "output_type": "stream",
     "text": [
      "/Users/Andy/opt/anaconda3/lib/python3.7/site-packages/librosa/core/audio.py:161: UserWarning: PySoundFile failed. Trying audioread instead.\n",
      "  warnings.warn('PySoundFile failed. Trying audioread instead.')\n"
     ]
    },
    {
     "name": "stdout",
     "output_type": "stream",
     "text": [
      "./genres_2/Drumz/03._Nuyorican_Soul_-_It's_Alright,_I_Feel_It!_(Roni_Size_Remix).mp3 0.5848398804664612 0.1270965188741684 4028.8851178953287 3163.0093267432294 8064.034687228103 0.26185696418213456\n"
     ]
    },
    {
     "name": "stderr",
     "output_type": "stream",
     "text": [
      "/Users/Andy/opt/anaconda3/lib/python3.7/site-packages/librosa/core/audio.py:161: UserWarning: PySoundFile failed. Trying audioread instead.\n",
      "  warnings.warn('PySoundFile failed. Trying audioread instead.')\n"
     ]
    },
    {
     "name": "stdout",
     "output_type": "stream",
     "text": [
      "./genres_2/Drumz/DJ_Hazard_-_Bricks_Don&#039;t_Roll_(320__kbps).mp3 0.4396350383758545 0.44554707407951355 3261.647585402561 3013.1311430538326 7057.170087278857 0.12133845707656613\n"
     ]
    },
    {
     "name": "stderr",
     "output_type": "stream",
     "text": [
      "/Users/Andy/opt/anaconda3/lib/python3.7/site-packages/librosa/core/audio.py:161: UserWarning: PySoundFile failed. Trying audioread instead.\n",
      "  warnings.warn('PySoundFile failed. Trying audioread instead.')\n"
     ]
    },
    {
     "name": "stdout",
     "output_type": "stream",
     "text": [
      "./genres_2/Drumz/1-04_Slaughtered_(feat._Ragga_Twins).mp3 0.4505731761455536 0.22011342644691467 2456.202164368814 2482.9141950136072 5196.871204774507 0.1140674847737819\n"
     ]
    },
    {
     "name": "stderr",
     "output_type": "stream",
     "text": [
      "/Users/Andy/opt/anaconda3/lib/python3.7/site-packages/librosa/core/audio.py:161: UserWarning: PySoundFile failed. Trying audioread instead.\n",
      "  warnings.warn('PySoundFile failed. Trying audioread instead.')\n"
     ]
    },
    {
     "name": "stdout",
     "output_type": "stream",
     "text": [
      "./genres_2/Drumz/04_Domepiece.mp3 0.32173335552215576 0.05391639098525047 2254.446533506253 2369.617964264522 4648.523940508991 0.08816705336426914\n"
     ]
    },
    {
     "name": "stderr",
     "output_type": "stream",
     "text": [
      "/Users/Andy/opt/anaconda3/lib/python3.7/site-packages/librosa/core/audio.py:161: UserWarning: PySoundFile failed. Trying audioread instead.\n",
      "  warnings.warn('PySoundFile failed. Trying audioread instead.')\n"
     ]
    },
    {
     "name": "stdout",
     "output_type": "stream",
     "text": [
      "./genres_2/Drumz/152_Incredible.mp3 0.46063363552093506 0.10003148764371872 3109.1340156715924 2969.390245870995 6838.79043331279 0.11840876957656613\n"
     ]
    },
    {
     "name": "stderr",
     "output_type": "stream",
     "text": [
      "/Users/Andy/opt/anaconda3/lib/python3.7/site-packages/librosa/core/audio.py:161: UserWarning: PySoundFile failed. Trying audioread instead.\n",
      "  warnings.warn('PySoundFile failed. Trying audioread instead.')\n"
     ]
    },
    {
     "name": "stdout",
     "output_type": "stream",
     "text": [
      "./genres_2/Drumz/01_Bad_Boys_ft._Top_Cat_(Original_Mix).mp3 0.47366124391555786 0.3074466288089752 3809.4197651002096 3080.1063143114175 7722.151371719113 0.20703464870939675\n"
     ]
    },
    {
     "name": "stderr",
     "output_type": "stream",
     "text": [
      "/Users/Andy/opt/anaconda3/lib/python3.7/site-packages/librosa/core/audio.py:161: UserWarning: PySoundFile failed. Trying audioread instead.\n",
      "  warnings.warn('PySoundFile failed. Trying audioread instead.')\n"
     ]
    },
    {
     "name": "stdout",
     "output_type": "stream",
     "text": [
      "./genres_2/Drumz/Congo_Natty_Junglist_(320__kbps).mp3 0.37509462237358093 0.1121290847659111 4638.212143110438 3090.6626672488715 8352.609585719983 0.2913169772331787\n",
      "./genres_2/Drumz/Congo_Natty_-_Get_Ready.wav 0.44438475370407104 0.34120166301727295 1570.2722808518388 1959.7582540783924 3264.2287535346577 0.038852912920533646\n"
     ]
    },
    {
     "name": "stderr",
     "output_type": "stream",
     "text": [
      "/Users/Andy/opt/anaconda3/lib/python3.7/site-packages/librosa/core/audio.py:161: UserWarning: PySoundFile failed. Trying audioread instead.\n",
      "  warnings.warn('PySoundFile failed. Trying audioread instead.')\n"
     ]
    },
    {
     "name": "stdout",
     "output_type": "stream",
     "text": [
      "./genres_2/Drumz/1-01_Going_Down.mp3 0.28562667965888977 0.1274596005678177 2404.5647410760644 1824.8448096187617 4111.417907573231 0.15627379096577726\n"
     ]
    },
    {
     "name": "stderr",
     "output_type": "stream",
     "text": [
      "/Users/Andy/opt/anaconda3/lib/python3.7/site-packages/librosa/core/audio.py:161: UserWarning: PySoundFile failed. Trying audioread instead.\n",
      "  warnings.warn('PySoundFile failed. Trying audioread instead.')\n"
     ]
    },
    {
     "name": "stdout",
     "output_type": "stream",
     "text": [
      "./genres_2/Drumz/01_Special_Dedication_(Sigma_Remix).mp3 0.45307543873786926 0.22396039962768555 4201.354829445536 2876.472187979271 7647.18484900667 0.27713869453306267\n"
     ]
    },
    {
     "name": "stderr",
     "output_type": "stream",
     "text": [
      "/Users/Andy/opt/anaconda3/lib/python3.7/site-packages/librosa/core/audio.py:161: UserWarning: PySoundFile failed. Trying audioread instead.\n",
      "  warnings.warn('PySoundFile failed. Trying audioread instead.')\n"
     ]
    },
    {
     "name": "stdout",
     "output_type": "stream",
     "text": [
      "./genres_2/Drumz/01_Sensi.mp3 0.5197360515594482 0.2096879631280899 4099.368559053083 3097.796701437382 7989.867540965777 0.23415634969547564\n"
     ]
    },
    {
     "name": "stderr",
     "output_type": "stream",
     "text": [
      "/Users/Andy/opt/anaconda3/lib/python3.7/site-packages/librosa/core/audio.py:161: UserWarning: PySoundFile failed. Trying audioread instead.\n",
      "  warnings.warn('PySoundFile failed. Trying audioread instead.')\n"
     ]
    },
    {
     "name": "stdout",
     "output_type": "stream",
     "text": [
      "./genres_2/Drumz/12_Gallist_(X_Nation_Mix).mp3 0.5225275754928589 0.12456723302602768 3964.223325194428 2833.245512386904 7414.51634099478 0.2810018942140371\n",
      "Trap\n"
     ]
    },
    {
     "name": "stderr",
     "output_type": "stream",
     "text": [
      "/Users/Andy/opt/anaconda3/lib/python3.7/site-packages/librosa/core/audio.py:161: UserWarning: PySoundFile failed. Trying audioread instead.\n",
      "  warnings.warn('PySoundFile failed. Trying audioread instead.')\n"
     ]
    },
    {
     "name": "stdout",
     "output_type": "stream",
     "text": [
      "./genres_2/Trap/02_-_Wonderful_(Feat_The_Weeknd).mp3 0.3598223328590393 0.20568504929542542 3639.1876830672327 3076.674459001095 7448.364937554379 0.1789261890951276\n"
     ]
    },
    {
     "name": "stderr",
     "output_type": "stream",
     "text": [
      "/Users/Andy/opt/anaconda3/lib/python3.7/site-packages/librosa/core/audio.py:161: UserWarning: PySoundFile failed. Trying audioread instead.\n",
      "  warnings.warn('PySoundFile failed. Trying audioread instead.')\n"
     ]
    },
    {
     "name": "stdout",
     "output_type": "stream",
     "text": [
      "./genres_2/Trap/Sharda_&_Shanique_Marie_-_Wanna_Know.mp3 0.404503732919693 0.22566786408424377 2321.916178835223 2560.549861634323 4902.400904963022 0.08989699644721577\n"
     ]
    },
    {
     "name": "stderr",
     "output_type": "stream",
     "text": [
      "/Users/Andy/opt/anaconda3/lib/python3.7/site-packages/librosa/core/audio.py:161: UserWarning: PySoundFile failed. Trying audioread instead.\n",
      "  warnings.warn('PySoundFile failed. Trying audioread instead.')\n"
     ]
    },
    {
     "name": "stdout",
     "output_type": "stream",
     "text": [
      "./genres_2/Trap/22_BIRTHDAY_VAMP.mp3 0.680618166923523 0.40174755454063416 1643.0881425346088 2343.727874137532 3857.590904147332 0.028620531830046404\n"
     ]
    },
    {
     "name": "stderr",
     "output_type": "stream",
     "text": [
      "/Users/Andy/opt/anaconda3/lib/python3.7/site-packages/librosa/core/audio.py:161: UserWarning: PySoundFile failed. Trying audioread instead.\n",
      "  warnings.warn('PySoundFile failed. Trying audioread instead.')\n"
     ]
    },
    {
     "name": "stdout",
     "output_type": "stream",
     "text": [
      "./genres_2/Trap/48_-_NAV_-_Know_Me.mp3 0.5042593479156494 0.37218138575553894 2371.1362373811994 2759.3692183323765 5512.94964925319 0.07508202218677494\n"
     ]
    },
    {
     "name": "stderr",
     "output_type": "stream",
     "text": [
      "/Users/Andy/opt/anaconda3/lib/python3.7/site-packages/librosa/core/audio.py:161: UserWarning: PySoundFile failed. Trying audioread instead.\n",
      "  warnings.warn('PySoundFile failed. Trying audioread instead.')\n"
     ]
    },
    {
     "name": "stdout",
     "output_type": "stream",
     "text": [
      "./genres_2/Trap/2017_429__Get_right_witcha_-_Migos.mp3 0.43482133746147156 0.18965522944927216 2029.1304915487333 2276.0057164751624 4246.4875471287705 0.07288758881960557\n"
     ]
    },
    {
     "name": "stderr",
     "output_type": "stream",
     "text": [
      "/Users/Andy/opt/anaconda3/lib/python3.7/site-packages/librosa/core/audio.py:161: UserWarning: PySoundFile failed. Trying audioread instead.\n",
      "  warnings.warn('PySoundFile failed. Trying audioread instead.')\n"
     ]
    },
    {
     "name": "stdout",
     "output_type": "stream",
     "text": [
      "./genres_2/Trap/Gypsy_Woman_(She's_Homeless)_1.mp3 0.34661078453063965 0.038090821355581284 1240.1877131856259 1428.95669815834 1872.014743601363 0.08719162376740139\n"
     ]
    },
    {
     "name": "stderr",
     "output_type": "stream",
     "text": [
      "/Users/Andy/opt/anaconda3/lib/python3.7/site-packages/librosa/core/audio.py:161: UserWarning: PySoundFile failed. Trying audioread instead.\n",
      "  warnings.warn('PySoundFile failed. Trying audioread instead.')\n"
     ]
    },
    {
     "name": "stdout",
     "output_type": "stream",
     "text": [
      "./genres_2/Trap/03-future-where_ya_at_(feat._drake).mp3 0.5651043653488159 0.407674103975296 2101.8092016230626 2691.6370637995497 5031.1504744598315 0.031039280017401392\n"
     ]
    },
    {
     "name": "stderr",
     "output_type": "stream",
     "text": [
      "/Users/Andy/opt/anaconda3/lib/python3.7/site-packages/librosa/core/audio.py:161: UserWarning: PySoundFile failed. Trying audioread instead.\n",
      "  warnings.warn('PySoundFile failed. Trying audioread instead.')\n"
     ]
    },
    {
     "name": "stdout",
     "output_type": "stream",
     "text": [
      "./genres_2/Trap/Octavian_feat._Suspect_-_Break_That_www.my-free-mp3.net.mp3 0.40779998898506165 0.1345941722393036 3662.8767190305807 2640.641449390393 6760.451541201421 0.21781195620649652\n"
     ]
    },
    {
     "name": "stderr",
     "output_type": "stream",
     "text": [
      "/Users/Andy/opt/anaconda3/lib/python3.7/site-packages/librosa/core/audio.py:161: UserWarning: PySoundFile failed. Trying audioread instead.\n",
      "  warnings.warn('PySoundFile failed. Trying audioread instead.')\n"
     ]
    },
    {
     "name": "stdout",
     "output_type": "stream",
     "text": [
      "./genres_2/Trap/Young_Thug_-_Hercules_X_Last_Japan_-_Gaza_[Silk_Road_Assassins_Truancy_Rip].mp3 0.5983123183250427 0.2461193948984146 1158.9780131810799 1708.3676609709564 2512.2902996302205 0.021632785310324826\n"
     ]
    },
    {
     "name": "stderr",
     "output_type": "stream",
     "text": [
      "/Users/Andy/opt/anaconda3/lib/python3.7/site-packages/librosa/core/audio.py:161: UserWarning: PySoundFile failed. Trying audioread instead.\n",
      "  warnings.warn('PySoundFile failed. Trying audioread instead.')\n"
     ]
    },
    {
     "name": "stdout",
     "output_type": "stream",
     "text": [
      "./genres_2/Trap/Dem_a_Talk.mp3 0.36891278624534607 0.054260049015283585 2393.10166949894 2070.5371063124567 4592.167900775812 0.12133052675464037\n"
     ]
    },
    {
     "name": "stderr",
     "output_type": "stream",
     "text": [
      "/Users/Andy/opt/anaconda3/lib/python3.7/site-packages/librosa/core/audio.py:161: UserWarning: PySoundFile failed. Trying audioread instead.\n",
      "  warnings.warn('PySoundFile failed. Trying audioread instead.')\n"
     ]
    },
    {
     "name": "stdout",
     "output_type": "stream",
     "text": [
      "./genres_2/Trap/Lil_Uzi_Vert_feat._Lil_Keed_&_Lil_Gotit_-_Heavy_Metal.mp3 0.34756430983543396 0.07847483456134796 3053.3689937469017 2622.083863494392 6082.755175101508 0.1558602813225058\n",
      "./genres_2/Trap/-_Speedball2_(Asa_&_Sorrow_Remix).wav 0.3367037773132324 0.06026572734117508 2333.740062555118 2559.931248647902 5262.070346487094 0.08317321635730858\n"
     ]
    },
    {
     "name": "stderr",
     "output_type": "stream",
     "text": [
      "/Users/Andy/opt/anaconda3/lib/python3.7/site-packages/librosa/core/audio.py:161: UserWarning: PySoundFile failed. Trying audioread instead.\n",
      "  warnings.warn('PySoundFile failed. Trying audioread instead.')\n"
     ]
    },
    {
     "name": "stdout",
     "output_type": "stream",
     "text": [
      "./genres_2/Trap/26_Too_Hotty.mp3 0.5719167590141296 0.3785446286201477 2810.744674796862 2977.3530095407023 6244.154276482744 0.05787662231728538\n"
     ]
    },
    {
     "name": "stderr",
     "output_type": "stream",
     "text": [
      "/Users/Andy/opt/anaconda3/lib/python3.7/site-packages/librosa/core/audio.py:161: UserWarning: PySoundFile failed. Trying audioread instead.\n",
      "  warnings.warn('PySoundFile failed. Trying audioread instead.')\n"
     ]
    },
    {
     "name": "stdout",
     "output_type": "stream",
     "text": [
      "./genres_2/Trap/08_Bankroll_Fresh_-_Take_Over_Your_Trap_(Feat._2_Chainz_&_Skooly)_[Prod._By_Mondo].mp3 0.3032514154911041 0.15130312740802765 2304.910525519645 2487.5017732391107 5011.36590731946 0.08130052747969838\n"
     ]
    },
    {
     "name": "stderr",
     "output_type": "stream",
     "text": [
      "/Users/Andy/opt/anaconda3/lib/python3.7/site-packages/librosa/core/audio.py:161: UserWarning: PySoundFile failed. Trying audioread instead.\n",
      "  warnings.warn('PySoundFile failed. Trying audioread instead.')\n"
     ]
    },
    {
     "name": "stdout",
     "output_type": "stream",
     "text": [
      "./genres_2/Trap/OT_Genesis_vs_Mike_Williams_-_Coco_Konnichiwa_(David_Souza_&_Maribu_Mashup).mp3 0.3774993121623993 0.17512208223342896 1955.5569238380951 2017.6691882753585 4048.916661379785 0.09782958417923433\n"
     ]
    },
    {
     "name": "stderr",
     "output_type": "stream",
     "text": [
      "/Users/Andy/opt/anaconda3/lib/python3.7/site-packages/librosa/core/audio.py:161: UserWarning: PySoundFile failed. Trying audioread instead.\n",
      "  warnings.warn('PySoundFile failed. Trying audioread instead.')\n"
     ]
    },
    {
     "name": "stdout",
     "output_type": "stream",
     "text": [
      "./genres_2/Trap/35._Last_Japan_-_Ascend_(feat_AJ_Tracey).mp3 0.4145777225494385 0.12220457941293716 3137.084403081322 2873.09208338053 6570.249907101943 0.1393708762325986\n"
     ]
    },
    {
     "name": "stderr",
     "output_type": "stream",
     "text": [
      "/Users/Andy/opt/anaconda3/lib/python3.7/site-packages/librosa/core/audio.py:161: UserWarning: PySoundFile failed. Trying audioread instead.\n",
      "  warnings.warn('PySoundFile failed. Trying audioread instead.')\n"
     ]
    },
    {
     "name": "stdout",
     "output_type": "stream",
     "text": [
      "./genres_2/Trap/05_MAMA_(feat._Nicki_Minaj_and_Kanye_West).mp3 0.47377797961235046 0.2800546884536743 2819.222884612488 2910.8194045855525 6144.556966901102 0.10891957294083526\n"
     ]
    },
    {
     "name": "stderr",
     "output_type": "stream",
     "text": [
      "/Users/Andy/opt/anaconda3/lib/python3.7/site-packages/librosa/core/audio.py:161: UserWarning: PySoundFile failed. Trying audioread instead.\n",
      "  warnings.warn('PySoundFile failed. Trying audioread instead.')\n"
     ]
    },
    {
     "name": "stdout",
     "output_type": "stream",
     "text": [
      "./genres_2/Trap/05_-_Crushed_Up.mp3 0.43200013041496277 0.2614017128944397 2863.376066690949 2718.9975215374675 5801.899255456062 0.1240211716937355\n"
     ]
    },
    {
     "name": "stderr",
     "output_type": "stream",
     "text": [
      "/Users/Andy/opt/anaconda3/lib/python3.7/site-packages/librosa/core/audio.py:161: UserWarning: PySoundFile failed. Trying audioread instead.\n",
      "  warnings.warn('PySoundFile failed. Trying audioread instead.')\n"
     ]
    },
    {
     "name": "stdout",
     "output_type": "stream",
     "text": [
      "./genres_2/Trap/15._Trapping_Ain't_Dead_(Section_Remix).mp3 0.5920088887214661 0.32697024941444397 2114.688354245871 2410.788070425915 4489.972617731293 0.0478492966937355\n"
     ]
    },
    {
     "name": "stderr",
     "output_type": "stream",
     "text": [
      "/Users/Andy/opt/anaconda3/lib/python3.7/site-packages/librosa/core/audio.py:161: UserWarning: PySoundFile failed. Trying audioread instead.\n",
      "  warnings.warn('PySoundFile failed. Trying audioread instead.')\n"
     ]
    },
    {
     "name": "stdout",
     "output_type": "stream",
     "text": [
      "./genres_2/Trap/07_sweet_sweet.mp3 0.44870007038116455 0.34484925866127014 2353.4854835335045 2668.9783910460415 5152.480831279002 0.07094012833526682\n"
     ]
    },
    {
     "name": "stderr",
     "output_type": "stream",
     "text": [
      "/Users/Andy/opt/anaconda3/lib/python3.7/site-packages/librosa/core/audio.py:161: UserWarning: PySoundFile failed. Trying audioread instead.\n",
      "  warnings.warn('PySoundFile failed. Trying audioread instead.')\n"
     ]
    },
    {
     "name": "stdout",
     "output_type": "stream",
     "text": [
      "./genres_2/Trap/03_-_Iamddb_-_Shade.mp3 0.34000131487846375 0.2921757698059082 3042.152578727784 2772.7360309920623 6145.73105106221 0.135281095925174\n"
     ]
    },
    {
     "name": "stderr",
     "output_type": "stream",
     "text": [
      "/Users/Andy/opt/anaconda3/lib/python3.7/site-packages/librosa/core/audio.py:161: UserWarning: PySoundFile failed. Trying audioread instead.\n",
      "  warnings.warn('PySoundFile failed. Trying audioread instead.')\n"
     ]
    },
    {
     "name": "stdout",
     "output_type": "stream",
     "text": [
      "./genres_2/Trap/One_Dance_(Ft._Wizkid_&_Kyla)_-_www.SongsLover.com.mp3 0.4442319869995117 0.3231499195098877 2137.4231987015446 2545.9354689785478 4820.065130601073 0.06369974441705337\n"
     ]
    },
    {
     "name": "stderr",
     "output_type": "stream",
     "text": [
      "/Users/Andy/opt/anaconda3/lib/python3.7/site-packages/librosa/core/audio.py:161: UserWarning: PySoundFile failed. Trying audioread instead.\n",
      "  warnings.warn('PySoundFile failed. Trying audioread instead.')\n"
     ]
    },
    {
     "name": "stdout",
     "output_type": "stream",
     "text": [
      "./genres_2/Trap/Dig_Dat_-_Sales_&_Joints_[Music_Video]___Link_Up_TV.mp3 0.4004611074924469 0.048945020884275436 1692.8148754441668 1797.3219936701703 3122.4893167234627 0.08569959034222738\n"
     ]
    },
    {
     "name": "stderr",
     "output_type": "stream",
     "text": [
      "/Users/Andy/opt/anaconda3/lib/python3.7/site-packages/librosa/core/audio.py:161: UserWarning: PySoundFile failed. Trying audioread instead.\n",
      "  warnings.warn('PySoundFile failed. Trying audioread instead.')\n"
     ]
    },
    {
     "name": "stdout",
     "output_type": "stream",
     "text": [
      "./genres_2/Trap/05_Met_Gala_(feat._Offset).mp3 0.6610013842582703 0.2635776400566101 1816.0380297973654 2304.78563871506 3947.0711055321926 0.03576348607888631\n"
     ]
    },
    {
     "name": "stderr",
     "output_type": "stream",
     "text": [
      "/Users/Andy/opt/anaconda3/lib/python3.7/site-packages/librosa/core/audio.py:161: UserWarning: PySoundFile failed. Trying audioread instead.\n",
      "  warnings.warn('PySoundFile failed. Trying audioread instead.')\n"
     ]
    },
    {
     "name": "stdout",
     "output_type": "stream",
     "text": [
      "./genres_2/Trap/01._Free_Smoke.mp3 0.2725554406642914 0.0357104167342186 2531.7740087095344 2303.523074314066 4649.847907754495 0.1340983450551044\n"
     ]
    },
    {
     "name": "stderr",
     "output_type": "stream",
     "text": [
      "/Users/Andy/opt/anaconda3/lib/python3.7/site-packages/librosa/core/audio.py:161: UserWarning: PySoundFile failed. Trying audioread instead.\n",
      "  warnings.warn('PySoundFile failed. Trying audioread instead.')\n"
     ]
    },
    {
     "name": "stdout",
     "output_type": "stream",
     "text": [
      "./genres_2/Trap/Shosho.mp3 0.49297571182250977 0.14354458451271057 2186.2266032331886 2583.427480546823 4892.233835738109 0.08014383338167054\n"
     ]
    },
    {
     "name": "stderr",
     "output_type": "stream",
     "text": [
      "/Users/Andy/opt/anaconda3/lib/python3.7/site-packages/librosa/core/audio.py:161: UserWarning: PySoundFile failed. Trying audioread instead.\n",
      "  warnings.warn('PySoundFile failed. Trying audioread instead.')\n"
     ]
    },
    {
     "name": "stdout",
     "output_type": "stream",
     "text": [
      "./genres_2/Trap/2017_152__Plain_Jane_-_A$AP_Ferg.mp3 0.48394936323165894 0.2849501371383667 2355.9687554878674 2488.2382607161976 4997.901410237819 0.0808620939675174\n"
     ]
    },
    {
     "name": "stderr",
     "output_type": "stream",
     "text": [
      "/Users/Andy/opt/anaconda3/lib/python3.7/site-packages/librosa/core/audio.py:161: UserWarning: PySoundFile failed. Trying audioread instead.\n",
      "  warnings.warn('PySoundFile failed. Trying audioread instead.')\n"
     ]
    },
    {
     "name": "stdout",
     "output_type": "stream",
     "text": [
      "./genres_2/Trap/20._DigDat_-_AirForce.mp3 0.33263853192329407 0.04492459073662758 1981.1353669017112 1691.2197613844446 3709.556377791473 0.10047491299303944\n"
     ]
    },
    {
     "name": "stderr",
     "output_type": "stream",
     "text": [
      "/Users/Andy/opt/anaconda3/lib/python3.7/site-packages/librosa/core/audio.py:161: UserWarning: PySoundFile failed. Trying audioread instead.\n",
      "  warnings.warn('PySoundFile failed. Trying audioread instead.')\n"
     ]
    },
    {
     "name": "stdout",
     "output_type": "stream",
     "text": [
      "./genres_2/Trap/2_Chainz_–_Bigger_Than_You_(feat._Drake_&_Quavo).mp3 0.5048854351043701 0.30323147773742676 2421.8117025169026 2676.302602560567 5398.83866099913 0.06999188841357308\n"
     ]
    },
    {
     "name": "stderr",
     "output_type": "stream",
     "text": [
      "/Users/Andy/opt/anaconda3/lib/python3.7/site-packages/librosa/core/audio.py:161: UserWarning: PySoundFile failed. Trying audioread instead.\n",
      "  warnings.warn('PySoundFile failed. Trying audioread instead.')\n"
     ]
    },
    {
     "name": "stdout",
     "output_type": "stream",
     "text": [
      "./genres_2/Trap/Section_Boyz_-_Lock_Arff_[Official_Video]_@SectionBoyz_.mp3 0.33781546354293823 0.19451655447483063 1521.3764799040123 1891.8239517225609 2995.863090922274 0.06293730060904873\n"
     ]
    },
    {
     "name": "stderr",
     "output_type": "stream",
     "text": [
      "/Users/Andy/opt/anaconda3/lib/python3.7/site-packages/librosa/core/audio.py:161: UserWarning: PySoundFile failed. Trying audioread instead.\n",
      "  warnings.warn('PySoundFile failed. Trying audioread instead.')\n"
     ]
    },
    {
     "name": "stdout",
     "output_type": "stream",
     "text": [
      "./genres_2/Trap/98_-_Desiigner_-_Timmy_Turner.mp3 0.3131176233291626 0.16453668475151062 2978.733765276719 2767.8054508552304 6103.663865374855 0.14610711825696054\n"
     ]
    },
    {
     "name": "stderr",
     "output_type": "stream",
     "text": [
      "/Users/Andy/opt/anaconda3/lib/python3.7/site-packages/librosa/core/audio.py:161: UserWarning: PySoundFile failed. Trying audioread instead.\n",
      "  warnings.warn('PySoundFile failed. Trying audioread instead.')\n"
     ]
    },
    {
     "name": "stdout",
     "output_type": "stream",
     "text": [
      "./genres_2/Trap/Naila_(Murlo_Remix).mp3 0.39904144406318665 0.229908287525177 1964.5505403811624 1816.489426326435 3856.3668589580916 0.09501318699245939\n"
     ]
    },
    {
     "name": "stderr",
     "output_type": "stream",
     "text": [
      "/Users/Andy/opt/anaconda3/lib/python3.7/site-packages/librosa/core/audio.py:161: UserWarning: PySoundFile failed. Trying audioread instead.\n",
      "  warnings.warn('PySoundFile failed. Trying audioread instead.')\n"
     ]
    },
    {
     "name": "stdout",
     "output_type": "stream",
     "text": [
      "./genres_2/Trap/PRRR_[DUBPLATE]_{RIP}.mp3 0.3283487856388092 0.09952305257320404 1922.821964849397 1688.4922183921442 3441.3405982634863 0.10417384171983758\n"
     ]
    },
    {
     "name": "stderr",
     "output_type": "stream",
     "text": [
      "/Users/Andy/opt/anaconda3/lib/python3.7/site-packages/librosa/core/audio.py:161: UserWarning: PySoundFile failed. Trying audioread instead.\n",
      "  warnings.warn('PySoundFile failed. Trying audioread instead.')\n"
     ]
    },
    {
     "name": "stdout",
     "output_type": "stream",
     "text": [
      "./genres_2/Trap/Bebey_(ft._Giggs)_SN1_Road_Mix.m4a 0.3116190731525421 0.3230253756046295 1861.7964982091721 2241.8294482591828 4178.390665784513 0.05986033570185615\n"
     ]
    },
    {
     "name": "stderr",
     "output_type": "stream",
     "text": [
      "/Users/Andy/opt/anaconda3/lib/python3.7/site-packages/librosa/core/audio.py:161: UserWarning: PySoundFile failed. Trying audioread instead.\n",
      "  warnings.warn('PySoundFile failed. Trying audioread instead.')\n"
     ]
    },
    {
     "name": "stdout",
     "output_type": "stream",
     "text": [
      "./genres_2/Trap/Tyga_-_ft_Offset_-_Taste_(CK_Intro_-_Dirty_4A_98).mp3 0.5463348031044006 0.38649386167526245 1937.0437703935058 2485.73285844112 4423.374567231003 0.03988951928654293\n"
     ]
    },
    {
     "name": "stderr",
     "output_type": "stream",
     "text": [
      "/Users/Andy/opt/anaconda3/lib/python3.7/site-packages/librosa/core/audio.py:161: UserWarning: PySoundFile failed. Trying audioread instead.\n",
      "  warnings.warn('PySoundFile failed. Trying audioread instead.')\n"
     ]
    },
    {
     "name": "stdout",
     "output_type": "stream",
     "text": [
      "./genres_2/Trap/04_Bad_and_Boujee_(feat._Lil_Uzi_Vert).mp3 0.5050748586654663 0.33359891176223755 2601.9692113022675 2789.413950939769 5805.7212741081785 0.0716742495649652\n"
     ]
    },
    {
     "name": "stderr",
     "output_type": "stream",
     "text": [
      "/Users/Andy/opt/anaconda3/lib/python3.7/site-packages/librosa/core/audio.py:161: UserWarning: PySoundFile failed. Trying audioread instead.\n",
      "  warnings.warn('PySoundFile failed. Trying audioread instead.')\n"
     ]
    },
    {
     "name": "stdout",
     "output_type": "stream",
     "text": [
      "./genres_2/Trap/232_future_ft._drake_-_where_ya_at.mp3 0.4734712839126587 0.09927166998386383 1935.5565311137425 2490.716887169623 4514.853209741154 0.04129658497679815\n"
     ]
    },
    {
     "name": "stderr",
     "output_type": "stream",
     "text": [
      "/Users/Andy/opt/anaconda3/lib/python3.7/site-packages/librosa/core/audio.py:161: UserWarning: PySoundFile failed. Trying audioread instead.\n",
      "  warnings.warn('PySoundFile failed. Trying audioread instead.')\n"
     ]
    },
    {
     "name": "stdout",
     "output_type": "stream",
     "text": [
      "./genres_2/Trap/06_Migos_-_Walk_It_Talk_It.mp3 0.3853932023048401 0.21682965755462646 1902.843176591841 2216.990113441621 4022.187511329031 0.06807614921693736\n"
     ]
    },
    {
     "name": "stderr",
     "output_type": "stream",
     "text": [
      "/Users/Andy/opt/anaconda3/lib/python3.7/site-packages/librosa/core/audio.py:161: UserWarning: PySoundFile failed. Trying audioread instead.\n",
      "  warnings.warn('PySoundFile failed. Trying audioread instead.')\n"
     ]
    },
    {
     "name": "stdout",
     "output_type": "stream",
     "text": [
      "./genres_2/Trap/Rihanna_ft._Drake_-_Work_(Murl.mp3 0.4179304540157318 0.21043463051319122 1885.987910141292 2468.257314383773 4198.375077037413 0.04451856148491879\n"
     ]
    },
    {
     "name": "stderr",
     "output_type": "stream",
     "text": [
      "/Users/Andy/opt/anaconda3/lib/python3.7/site-packages/librosa/core/audio.py:161: UserWarning: PySoundFile failed. Trying audioread instead.\n",
      "  warnings.warn('PySoundFile failed. Trying audioread instead.')\n"
     ]
    },
    {
     "name": "stdout",
     "output_type": "stream",
     "text": [
      "./genres_2/Trap/2_New_Freezer_(feat._Kendrick_Lamar)_.mp3 0.4132974147796631 0.24531714618206024 3399.418706973304 3032.3538448861955 7178.1756974151685 0.1414962025087007\n"
     ]
    },
    {
     "name": "stderr",
     "output_type": "stream",
     "text": [
      "/Users/Andy/opt/anaconda3/lib/python3.7/site-packages/librosa/core/audio.py:161: UserWarning: PySoundFile failed. Trying audioread instead.\n",
      "  warnings.warn('PySoundFile failed. Trying audioread instead.')\n"
     ]
    },
    {
     "name": "stdout",
     "output_type": "stream",
     "text": [
      "./genres_2/Trap/425_Marcia_Aitken_&_The_Mighty_Two_-_I'm_Still_In_Love_(With_You_Boy)_-_Lover_Boy.mp3 0.4121401607990265 0.18370406329631805 1938.898647937271 2170.3332058759947 3981.819000598173 0.07926016893851508\n"
     ]
    },
    {
     "name": "stderr",
     "output_type": "stream",
     "text": [
      "/Users/Andy/opt/anaconda3/lib/python3.7/site-packages/librosa/core/audio.py:161: UserWarning: PySoundFile failed. Trying audioread instead.\n",
      "  warnings.warn('PySoundFile failed. Trying audioread instead.')\n"
     ]
    },
    {
     "name": "stdout",
     "output_type": "stream",
     "text": [
      "./genres_2/Trap/04_Diamonds_Dancing_1.mp3 0.36873936653137207 0.09314270317554474 2071.2798667341203 2209.1513854902278 4392.698495957801 0.10591171512470998\n"
     ]
    },
    {
     "name": "stderr",
     "output_type": "stream",
     "text": [
      "/Users/Andy/opt/anaconda3/lib/python3.7/site-packages/librosa/core/audio.py:161: UserWarning: PySoundFile failed. Trying audioread instead.\n",
      "  warnings.warn('PySoundFile failed. Trying audioread instead.')\n"
     ]
    },
    {
     "name": "stdout",
     "output_type": "stream",
     "text": [
      "./genres_2/Trap/Desiigner,_Lil_Pump_-_Overseas_(feat._Lil_Pump).mp3 0.45243048667907715 0.18478110432624817 2394.270634061869 2716.650364970616 5557.065237093968 0.0786064838312065\n"
     ]
    },
    {
     "name": "stderr",
     "output_type": "stream",
     "text": [
      "/Users/Andy/opt/anaconda3/lib/python3.7/site-packages/librosa/core/audio.py:161: UserWarning: PySoundFile failed. Trying audioread instead.\n",
      "  warnings.warn('PySoundFile failed. Trying audioread instead.')\n"
     ]
    },
    {
     "name": "stdout",
     "output_type": "stream",
     "text": [
      "./genres_2/Trap/04_Section_Boyz_-_Lock_Arff.mp3 0.4643259048461914 0.31058263778686523 1452.2605664886846 2005.3633504821962 2936.5843310433584 0.03616906540023202\n"
     ]
    },
    {
     "name": "stderr",
     "output_type": "stream",
     "text": [
      "/Users/Andy/opt/anaconda3/lib/python3.7/site-packages/librosa/core/audio.py:161: UserWarning: PySoundFile failed. Trying audioread instead.\n",
      "  warnings.warn('PySoundFile failed. Trying audioread instead.')\n"
     ]
    },
    {
     "name": "stdout",
     "output_type": "stream",
     "text": [
      "./genres_2/Trap/01._Leave_Me_Alone.mp3 0.3327265679836273 0.26577839255332947 2810.7251904050613 2611.5048624264386 6009.4123858033645 0.12271493438225058\n"
     ]
    },
    {
     "name": "stderr",
     "output_type": "stream",
     "text": [
      "/Users/Andy/opt/anaconda3/lib/python3.7/site-packages/librosa/core/audio.py:161: UserWarning: PySoundFile failed. Trying audioread instead.\n",
      "  warnings.warn('PySoundFile failed. Trying audioread instead.')\n"
     ]
    },
    {
     "name": "stdout",
     "output_type": "stream",
     "text": [
      "./genres_2/Trap/63._Kodak_Black_-_Codeine_Dreaming_(feat._Lil_Wayne).mp3 0.4775712490081787 0.2929741442203522 1816.840943086178 2149.1568902590348 4246.112839417779 0.05652846758990719\n"
     ]
    },
    {
     "name": "stderr",
     "output_type": "stream",
     "text": [
      "/Users/Andy/opt/anaconda3/lib/python3.7/site-packages/librosa/core/audio.py:161: UserWarning: PySoundFile failed. Trying audioread instead.\n",
      "  warnings.warn('PySoundFile failed. Trying audioread instead.')\n"
     ]
    },
    {
     "name": "stdout",
     "output_type": "stream",
     "text": [
      "./genres_2/Trap/GRIM_X_Blame_Connor_-_Scythe.mp3 0.26637279987335205 0.044054314494132996 3761.238574520121 2733.231266857134 6829.997292361514 0.18361300935324826\n"
     ]
    },
    {
     "name": "stderr",
     "output_type": "stream",
     "text": [
      "/Users/Andy/opt/anaconda3/lib/python3.7/site-packages/librosa/core/audio.py:161: UserWarning: PySoundFile failed. Trying audioread instead.\n",
      "  warnings.warn('PySoundFile failed. Trying audioread instead.')\n",
      "/Users/Andy/opt/anaconda3/lib/python3.7/site-packages/librosa/core/pitch.py:146: UserWarning: Trying to estimate tuning from empty frequency set.\n",
      "  warnings.warn('Trying to estimate tuning from empty frequency set.')\n",
      "/Users/Andy/opt/anaconda3/lib/python3.7/site-packages/librosa/core/audio.py:161: UserWarning: PySoundFile failed. Trying audioread instead.\n",
      "  warnings.warn('PySoundFile failed. Trying audioread instead.')\n"
     ]
    },
    {
     "name": "stdout",
     "output_type": "stream",
     "text": [
      "./genres_2/Trap/(150)_Grizzy_x_M_Dargg_-_Look_Like_You_(Music_Video)_@GrizzyUptop_@MDargg_[@HBVTV___@QuietPvck]_(320__kbps).mp3 0.0 0.0 0.0 0.0 0.0 0.0\n",
      "./genres_2/Trap/02._Way_Back_(Ft._Kid_Cudi).mp3 0.30443504452705383 0.18608886003494263 2410.3019126585414 2535.1393690227374 5073.492445801914 0.10183099804234338\n"
     ]
    },
    {
     "name": "stderr",
     "output_type": "stream",
     "text": [
      "/Users/Andy/opt/anaconda3/lib/python3.7/site-packages/librosa/core/audio.py:161: UserWarning: PySoundFile failed. Trying audioread instead.\n",
      "  warnings.warn('PySoundFile failed. Trying audioread instead.')\n"
     ]
    },
    {
     "name": "stdout",
     "output_type": "stream",
     "text": [
      "./genres_2/Trap/2017_338__KMT_-_Drake_feat._Giggs.mp3 0.5383577346801758 0.3929867744445801 1955.0956562165475 2278.5737041420803 4350.381505129785 0.05969040023201856\n"
     ]
    },
    {
     "name": "stderr",
     "output_type": "stream",
     "text": [
      "/Users/Andy/opt/anaconda3/lib/python3.7/site-packages/librosa/core/audio.py:161: UserWarning: PySoundFile failed. Trying audioread instead.\n",
      "  warnings.warn('PySoundFile failed. Trying audioread instead.')\n"
     ]
    },
    {
     "name": "stdout",
     "output_type": "stream",
     "text": [
      "./genres_2/Trap/2017_191__Ric_flair_drip_-_Offset_and_Metro_Boomin.mp3 0.5963014364242554 0.3624386489391327 1653.5969138826274 2380.886755752897 3896.835291745215 0.04597547491299304\n"
     ]
    },
    {
     "name": "stderr",
     "output_type": "stream",
     "text": [
      "/Users/Andy/opt/anaconda3/lib/python3.7/site-packages/librosa/core/audio.py:161: UserWarning: PySoundFile failed. Trying audioread instead.\n",
      "  warnings.warn('PySoundFile failed. Trying audioread instead.')\n"
     ]
    },
    {
     "name": "stdout",
     "output_type": "stream",
     "text": [
      "./genres_2/Trap/Roll_With_The_Punches_(James_Blake_Harmonimix).mp3 0.5258390307426453 0.26686134934425354 1422.8816231848225 1739.3320760973265 3164.756346523347 0.022232091067285385\n"
     ]
    },
    {
     "name": "stderr",
     "output_type": "stream",
     "text": [
      "/Users/Andy/opt/anaconda3/lib/python3.7/site-packages/librosa/core/audio.py:161: UserWarning: PySoundFile failed. Trying audioread instead.\n",
      "  warnings.warn('PySoundFile failed. Trying audioread instead.')\n"
     ]
    },
    {
     "name": "stdout",
     "output_type": "stream",
     "text": [
      "./genres_2/Trap/13_Lil_Baby_&_Gunna_feat._Drake_-_Never_Recover.mp3 0.4494245648384094 0.3664311468601227 2695.931052382129 2765.825610200063 5898.623805920099 0.08742840052204176\n"
     ]
    },
    {
     "name": "stderr",
     "output_type": "stream",
     "text": [
      "/Users/Andy/opt/anaconda3/lib/python3.7/site-packages/librosa/core/audio.py:161: UserWarning: PySoundFile failed. Trying audioread instead.\n",
      "  warnings.warn('PySoundFile failed. Trying audioread instead.')\n"
     ]
    },
    {
     "name": "stdout",
     "output_type": "stream",
     "text": [
      "./genres_2/Trap/01._RAF_(feat._A$AP_Rocky,_Playboi_Carti,_Quavo,_Lil_Uzi_Vert_&_Frank_Ocean).mp3 0.4042671024799347 0.32918107509613037 2152.419368975769 2622.9076412800914 4978.641433892836 0.04966307460846868\n"
     ]
    },
    {
     "name": "stderr",
     "output_type": "stream",
     "text": [
      "/Users/Andy/opt/anaconda3/lib/python3.7/site-packages/librosa/core/audio.py:161: UserWarning: PySoundFile failed. Trying audioread instead.\n",
      "  warnings.warn('PySoundFile failed. Trying audioread instead.')\n"
     ]
    },
    {
     "name": "stdout",
     "output_type": "stream",
     "text": [
      "./genres_2/Trap/02_-_Homerton_B_(Unknown_T).mp3 0.45696544647216797 0.12169533222913742 2540.712314383343 2427.1624317152564 4997.6016440690255 0.10369349079176333\n"
     ]
    },
    {
     "name": "stderr",
     "output_type": "stream",
     "text": [
      "/Users/Andy/opt/anaconda3/lib/python3.7/site-packages/librosa/core/audio.py:161: UserWarning: PySoundFile failed. Trying audioread instead.\n",
      "  warnings.warn('PySoundFile failed. Trying audioread instead.')\n"
     ]
    },
    {
     "name": "stdout",
     "output_type": "stream",
     "text": [
      "./genres_2/Trap/04_Diamonds_Dancing.mp3 0.36873936653137207 0.09314270317554474 2071.2798667341203 2209.1513854902278 4392.698495957801 0.10591171512470998\n"
     ]
    },
    {
     "name": "stderr",
     "output_type": "stream",
     "text": [
      "/Users/Andy/opt/anaconda3/lib/python3.7/site-packages/librosa/core/audio.py:161: UserWarning: PySoundFile failed. Trying audioread instead.\n",
      "  warnings.warn('PySoundFile failed. Trying audioread instead.')\n"
     ]
    },
    {
     "name": "stdout",
     "output_type": "stream",
     "text": [
      "./genres_2/Trap/31._President_T_-_House_&_Pop_(feat_JME_&_Splurgeboys).mp3 0.5202992558479309 0.2483711987733841 2651.1571958158243 2528.3975532883205 5449.12443581424 0.10779006851798144\n"
     ]
    },
    {
     "name": "stderr",
     "output_type": "stream",
     "text": [
      "/Users/Andy/opt/anaconda3/lib/python3.7/site-packages/librosa/core/audio.py:161: UserWarning: PySoundFile failed. Trying audioread instead.\n",
      "  warnings.warn('PySoundFile failed. Trying audioread instead.')\n"
     ]
    },
    {
     "name": "stdout",
     "output_type": "stream",
     "text": [
      "./genres_2/Trap/297_drake_&_future_-_digital_dash.mp3 0.45597973465919495 0.15253394842147827 3402.7559199353173 2852.3091335067957 6729.650567357889 0.1639594058149652\n"
     ]
    },
    {
     "name": "stderr",
     "output_type": "stream",
     "text": [
      "/Users/Andy/opt/anaconda3/lib/python3.7/site-packages/librosa/core/audio.py:161: UserWarning: PySoundFile failed. Trying audioread instead.\n",
      "  warnings.warn('PySoundFile failed. Trying audioread instead.')\n"
     ]
    },
    {
     "name": "stdout",
     "output_type": "stream",
     "text": [
      "./genres_2/Trap/05-Young_Thug-Best_Friend_Prod_By_Ricky_Racks.mp3 0.46592405438423157 0.29324740171432495 1446.3046125730943 1986.583410128919 3017.046566850348 0.03483337260730859\n"
     ]
    },
    {
     "name": "stderr",
     "output_type": "stream",
     "text": [
      "/Users/Andy/opt/anaconda3/lib/python3.7/site-packages/librosa/core/audio.py:161: UserWarning: PySoundFile failed. Trying audioread instead.\n",
      "  warnings.warn('PySoundFile failed. Trying audioread instead.')\n"
     ]
    },
    {
     "name": "stdout",
     "output_type": "stream",
     "text": [
      "./genres_2/Trap/01_Pick_Up_the_Phone_(feat._Travis_Scott_&_Quavo).mp3 0.304171085357666 0.14866098761558533 2104.8604022334957 2067.2484965116155 4095.5552811412413 0.10310211535672854\n"
     ]
    },
    {
     "name": "stderr",
     "output_type": "stream",
     "text": [
      "/Users/Andy/opt/anaconda3/lib/python3.7/site-packages/librosa/core/audio.py:161: UserWarning: PySoundFile failed. Trying audioread instead.\n",
      "  warnings.warn('PySoundFile failed. Trying audioread instead.')\n"
     ]
    },
    {
     "name": "stdout",
     "output_type": "stream",
     "text": [
      "./genres_2/Trap/04_100it_Racks_(Featuring_Drake,_2_Chainz_&_Future)_[Prod._By_DJ_Esco_&_Southside].mp3 0.6502999067306519 0.42570632696151733 1244.1583020613991 2035.782468875887 2767.741036470418 0.01767782047563805\n"
     ]
    },
    {
     "name": "stderr",
     "output_type": "stream",
     "text": [
      "/Users/Andy/opt/anaconda3/lib/python3.7/site-packages/librosa/core/audio.py:161: UserWarning: PySoundFile failed. Trying audioread instead.\n",
      "  warnings.warn('PySoundFile failed. Trying audioread instead.')\n"
     ]
    },
    {
     "name": "stdout",
     "output_type": "stream",
     "text": [
      "./genres_2/Trap/04._Nice_For_What.mp3 0.3987639546394348 0.1128823384642601 4088.751628343633 2721.501959466412 7147.224840487239 0.24374524180684454\n"
     ]
    },
    {
     "name": "stderr",
     "output_type": "stream",
     "text": [
      "/Users/Andy/opt/anaconda3/lib/python3.7/site-packages/librosa/core/audio.py:161: UserWarning: PySoundFile failed. Trying audioread instead.\n",
      "  warnings.warn('PySoundFile failed. Trying audioread instead.')\n"
     ]
    },
    {
     "name": "stdout",
     "output_type": "stream",
     "text": [
      "./genres_2/Trap/Headie_One_feat_Dave_-_18Hunna_(Dirty).mp3 0.5307403802871704 0.3607763648033142 2013.0647276399063 2658.3702111288612 4818.66622181337 0.032643470852668215\n"
     ]
    },
    {
     "name": "stderr",
     "output_type": "stream",
     "text": [
      "/Users/Andy/opt/anaconda3/lib/python3.7/site-packages/librosa/core/audio.py:161: UserWarning: PySoundFile failed. Trying audioread instead.\n",
      "  warnings.warn('PySoundFile failed. Trying audioread instead.')\n"
     ]
    },
    {
     "name": "stdout",
     "output_type": "stream",
     "text": [
      "./genres_2/Trap/Migos_Ft._Lil_Uzi_Vert_-_Bad_and_Boujee_(Dirty).mp3 0.5222258567810059 0.3161415159702301 2463.3909534732093 2745.005539104929 5551.144855260296 0.06253738580336426\n"
     ]
    },
    {
     "name": "stderr",
     "output_type": "stream",
     "text": [
      "/Users/Andy/opt/anaconda3/lib/python3.7/site-packages/librosa/core/audio.py:161: UserWarning: PySoundFile failed. Trying audioread instead.\n",
      "  warnings.warn('PySoundFile failed. Trying audioread instead.')\n"
     ]
    },
    {
     "name": "stdout",
     "output_type": "stream",
     "text": [
      "./genres_2/Trap/205-swizz_beatz-money_in_the_bank.mp3 0.44811052083969116 0.3350553810596466 2335.259165141383 2700.140930481833 5402.660679651247 0.05564253734048724\n"
     ]
    },
    {
     "name": "stderr",
     "output_type": "stream",
     "text": [
      "/Users/Andy/opt/anaconda3/lib/python3.7/site-packages/librosa/core/audio.py:161: UserWarning: PySoundFile failed. Trying audioread instead.\n",
      "  warnings.warn('PySoundFile failed. Trying audioread instead.')\n"
     ]
    },
    {
     "name": "stdout",
     "output_type": "stream",
     "text": [
      "./genres_2/Trap/Unknown_Artist_-_Oye_Coma_Va_KF_Edit.mp3 0.5348948240280151 0.19971005618572235 756.5907158110201 1182.218083729244 1335.6831066016532 0.03093392002610209\n"
     ]
    },
    {
     "name": "stderr",
     "output_type": "stream",
     "text": [
      "/Users/Andy/opt/anaconda3/lib/python3.7/site-packages/librosa/core/audio.py:161: UserWarning: PySoundFile failed. Trying audioread instead.\n",
      "  warnings.warn('PySoundFile failed. Trying audioread instead.')\n"
     ]
    },
    {
     "name": "stdout",
     "output_type": "stream",
     "text": [
      "./genres_2/Trap/Tyga_ft_Offset_-_Taste_(Dirty).mp3 0.538529098033905 0.3616616129875183 2018.8636739388753 2523.898157365137 4530.565953088747 0.04531725819315545\n"
     ]
    },
    {
     "name": "stderr",
     "output_type": "stream",
     "text": [
      "/Users/Andy/opt/anaconda3/lib/python3.7/site-packages/librosa/core/audio.py:161: UserWarning: PySoundFile failed. Trying audioread instead.\n",
      "  warnings.warn('PySoundFile failed. Trying audioread instead.')\n"
     ]
    },
    {
     "name": "stdout",
     "output_type": "stream",
     "text": [
      "./genres_2/Trap/Ari_Spn.mp3 0.3182408809661865 0.04553285613656044 1432.667913384775 1066.532928009726 2244.973818608614 0.09584700369779582\n"
     ]
    },
    {
     "name": "stderr",
     "output_type": "stream",
     "text": [
      "/Users/Andy/opt/anaconda3/lib/python3.7/site-packages/librosa/core/audio.py:161: UserWarning: PySoundFile failed. Trying audioread instead.\n",
      "  warnings.warn('PySoundFile failed. Trying audioread instead.')\n"
     ]
    },
    {
     "name": "stdout",
     "output_type": "stream",
     "text": [
      "./genres_2/Trap/06._Walk_On_Water_(Feat._A$AP_Twelvyy,_A$AP_Ant,_A$AP_Nast,_A$AP_Ferg_&_Playboi_Carti).mp3 0.3172169625759125 0.17112456262111664 2508.5892770987093 2636.352528392764 5602.454831152118 0.10183099804234338\n"
     ]
    },
    {
     "name": "stderr",
     "output_type": "stream",
     "text": [
      "/Users/Andy/opt/anaconda3/lib/python3.7/site-packages/librosa/core/audio.py:161: UserWarning: PySoundFile failed. Trying audioread instead.\n",
      "  warnings.warn('PySoundFile failed. Trying audioread instead.')\n"
     ]
    },
    {
     "name": "stdout",
     "output_type": "stream",
     "text": [
      "./genres_2/Trap/20._BlocBoy_JB_-_Look_Alive_(feat._Drake).mp3 0.5749022364616394 0.4293265640735626 2655.572301124153 2896.79611924521 6083.629493093823 0.04733042705916473\n"
     ]
    },
    {
     "name": "stderr",
     "output_type": "stream",
     "text": [
      "/Users/Andy/opt/anaconda3/lib/python3.7/site-packages/librosa/core/audio.py:161: UserWarning: PySoundFile failed. Trying audioread instead.\n",
      "  warnings.warn('PySoundFile failed. Trying audioread instead.')\n"
     ]
    },
    {
     "name": "stdout",
     "output_type": "stream",
     "text": [
      "./genres_2/Trap/Tyga_ft_Offset_-_Taste_(Dirty)_2.mp3 0.538529098033905 0.3616616129875183 2018.8636739388753 2523.898157365137 4530.565953088747 0.04531725819315545\n"
     ]
    },
    {
     "name": "stderr",
     "output_type": "stream",
     "text": [
      "/Users/Andy/opt/anaconda3/lib/python3.7/site-packages/librosa/core/audio.py:161: UserWarning: PySoundFile failed. Trying audioread instead.\n",
      "  warnings.warn('PySoundFile failed. Trying audioread instead.')\n"
     ]
    },
    {
     "name": "stdout",
     "output_type": "stream",
     "text": [
      "./genres_2/Trap/43_-_Skepta_-_Energy_(Stay_Far_Away).mp3 0.3921274244785309 0.1549810916185379 2601.0253410487526 2442.752507346768 5021.607918086572 0.1318359375\n"
     ]
    },
    {
     "name": "stderr",
     "output_type": "stream",
     "text": [
      "/Users/Andy/opt/anaconda3/lib/python3.7/site-packages/librosa/core/audio.py:161: UserWarning: PySoundFile failed. Trying audioread instead.\n",
      "  warnings.warn('PySoundFile failed. Trying audioread instead.')\n"
     ]
    },
    {
     "name": "stdout",
     "output_type": "stream",
     "text": [
      "./genres_2/Trap/hlabalaza.mp3 0.4370252192020416 0.21301360428333282 2045.9544264796011 2376.230212267433 4409.360498839907 0.07210588565835267\n"
     ]
    },
    {
     "name": "stderr",
     "output_type": "stream",
     "text": [
      "/Users/Andy/opt/anaconda3/lib/python3.7/site-packages/librosa/core/audio.py:161: UserWarning: PySoundFile failed. Trying audioread instead.\n",
      "  warnings.warn('PySoundFile failed. Trying audioread instead.')\n"
     ]
    },
    {
     "name": "stdout",
     "output_type": "stream",
     "text": [
      "./genres_2/Trap/02_-_A$AP_Ferg_-_Shabba_(Feat._A$AP_Rocky).mp3 0.5152276158332825 0.3341290354728699 2431.2553058214 2716.960847075485 5499.385230115284 0.05416070004350348\n"
     ]
    },
    {
     "name": "stderr",
     "output_type": "stream",
     "text": [
      "/Users/Andy/opt/anaconda3/lib/python3.7/site-packages/librosa/core/audio.py:161: UserWarning: PySoundFile failed. Trying audioread instead.\n",
      "  warnings.warn('PySoundFile failed. Trying audioread instead.')\n"
     ]
    },
    {
     "name": "stdout",
     "output_type": "stream",
     "text": [
      "./genres_2/Trap/13._Russ_splash_-_Gun_Lean.mp3 0.45394256711006165 0.26983442902565 2084.945744446554 2349.2527350643654 4387.027919264791 0.069819687137471\n"
     ]
    },
    {
     "name": "stderr",
     "output_type": "stream",
     "text": [
      "/Users/Andy/opt/anaconda3/lib/python3.7/site-packages/librosa/core/audio.py:161: UserWarning: PySoundFile failed. Trying audioread instead.\n",
      "  warnings.warn('PySoundFile failed. Trying audioread instead.')\n"
     ]
    },
    {
     "name": "stdout",
     "output_type": "stream",
     "text": [
      "./genres_2/Trap/Skepta_-_It_Aint_Safe_(Ft._Young_Lord).mp3 0.4936438500881195 0.28381067514419556 2254.4326414698485 2633.891080106372 5232.693261945331 0.06128552784222738\n"
     ]
    },
    {
     "name": "stderr",
     "output_type": "stream",
     "text": [
      "/Users/Andy/opt/anaconda3/lib/python3.7/site-packages/librosa/core/audio.py:161: UserWarning: PySoundFile failed. Trying audioread instead.\n",
      "  warnings.warn('PySoundFile failed. Trying audioread instead.')\n"
     ]
    },
    {
     "name": "stdout",
     "output_type": "stream",
     "text": [
      "./genres_2/Trap/8._Cardi_B,_Bad_Bunny_&_J_Balvin_-_I_Like_It.mp3 0.3835928440093994 0.23367656767368317 2712.423759477649 2690.812707075843 5619.091853520156 0.12750031721287702\n"
     ]
    },
    {
     "name": "stderr",
     "output_type": "stream",
     "text": [
      "/Users/Andy/opt/anaconda3/lib/python3.7/site-packages/librosa/core/audio.py:161: UserWarning: PySoundFile failed. Trying audioread instead.\n",
      "  warnings.warn('PySoundFile failed. Trying audioread instead.')\n"
     ]
    },
    {
     "name": "stdout",
     "output_type": "stream",
     "text": [
      "./genres_2/Trap/91_-_Octavian_-_Little.mp3 0.3921642005443573 0.21858204901218414 2641.6583176267295 2701.939704253727 5706.298828125 0.10307039406902552\n"
     ]
    },
    {
     "name": "stderr",
     "output_type": "stream",
     "text": [
      "/Users/Andy/opt/anaconda3/lib/python3.7/site-packages/librosa/core/audio.py:161: UserWarning: PySoundFile failed. Trying audioread instead.\n",
      "  warnings.warn('PySoundFile failed. Trying audioread instead.')\n"
     ]
    },
    {
     "name": "stdout",
     "output_type": "stream",
     "text": [
      "./genres_2/Trap/JPEGMAFIA_-_Veteran_-_03_Thug_Tears.mp3 0.40695229172706604 0.2253393828868866 2214.862850632726 2086.074379532634 4180.788795134861 0.11342059708526682\n"
     ]
    },
    {
     "name": "stderr",
     "output_type": "stream",
     "text": [
      "/Users/Andy/opt/anaconda3/lib/python3.7/site-packages/librosa/core/audio.py:161: UserWarning: PySoundFile failed. Trying audioread instead.\n",
      "  warnings.warn('PySoundFile failed. Trying audioread instead.')\n"
     ]
    },
    {
     "name": "stdout",
     "output_type": "stream",
     "text": [
      "./genres_2/Trap/20._French_Montana,_Drake_-_No_Stylist.mp3 0.4290381669998169 0.31312862038612366 2565.281385147784 2781.2156477002795 5707.547853828306 0.09312916908352668\n"
     ]
    },
    {
     "name": "stderr",
     "output_type": "stream",
     "text": [
      "/Users/Andy/opt/anaconda3/lib/python3.7/site-packages/librosa/core/audio.py:161: UserWarning: PySoundFile failed. Trying audioread instead.\n",
      "  warnings.warn('PySoundFile failed. Trying audioread instead.')\n"
     ]
    },
    {
     "name": "stdout",
     "output_type": "stream",
     "text": [
      "./genres_2/Trap/09_Goosebumps_(feat._Kendrick_Lamar).mp3 0.3755970299243927 0.3045998811721802 1706.6497914170939 2395.5790937089796 3937.378666074536 0.03437794554814385\n"
     ]
    },
    {
     "name": "stderr",
     "output_type": "stream",
     "text": [
      "/Users/Andy/opt/anaconda3/lib/python3.7/site-packages/librosa/core/audio.py:161: UserWarning: PySoundFile failed. Trying audioread instead.\n",
      "  warnings.warn('PySoundFile failed. Trying audioread instead.')\n"
     ]
    },
    {
     "name": "stdout",
     "output_type": "stream",
     "text": [
      "./genres_2/Trap/146_Tyler,_The_Creator_-_OKRA.mp3 0.5869975090026855 0.4231876730918884 2157.563480910247 2856.086996028663 5398.06426506308 0.03568304995649652\n"
     ]
    },
    {
     "name": "stderr",
     "output_type": "stream",
     "text": [
      "/Users/Andy/opt/anaconda3/lib/python3.7/site-packages/librosa/core/audio.py:161: UserWarning: PySoundFile failed. Trying audioread instead.\n",
      "  warnings.warn('PySoundFile failed. Trying audioread instead.')\n"
     ]
    },
    {
     "name": "stdout",
     "output_type": "stream",
     "text": [
      "./genres_2/Trap/Passionfruit.mp3 0.40242719650268555 0.20978222787380219 1579.891861524174 2351.7888515614854 3605.9871664733178 0.03182324898491879\n"
     ]
    },
    {
     "name": "stderr",
     "output_type": "stream",
     "text": [
      "/Users/Andy/opt/anaconda3/lib/python3.7/site-packages/librosa/core/audio.py:161: UserWarning: PySoundFile failed. Trying audioread instead.\n",
      "  warnings.warn('PySoundFile failed. Trying audioread instead.')\n"
     ]
    },
    {
     "name": "stdout",
     "output_type": "stream",
     "text": [
      "./genres_2/Trap/Rihanna_-_Needed_Me_(Murlo_Remix).mp3 0.39752551913261414 0.19191260635852814 2547.728550899039 2686.4009693700814 5510.251753734049 0.09014510223317865\n"
     ]
    },
    {
     "name": "stderr",
     "output_type": "stream",
     "text": [
      "/Users/Andy/opt/anaconda3/lib/python3.7/site-packages/librosa/core/audio.py:161: UserWarning: PySoundFile failed. Trying audioread instead.\n",
      "  warnings.warn('PySoundFile failed. Trying audioread instead.')\n"
     ]
    },
    {
     "name": "stdout",
     "output_type": "stream",
     "text": [
      "./genres_2/Trap/02._Perry_Aye_(Ft._ASAP_Rocky,_ASAP_Nast,_Playboi_Carti_&_Jaden_Smith).mp3 0.5666195750236511 0.31231382489204407 2308.3434774800635 2569.354458312256 5069.470583037268 0.0628829212587007\n"
     ]
    },
    {
     "name": "stderr",
     "output_type": "stream",
     "text": [
      "/Users/Andy/opt/anaconda3/lib/python3.7/site-packages/librosa/core/audio.py:161: UserWarning: PySoundFile failed. Trying audioread instead.\n",
      "  warnings.warn('PySoundFile failed. Trying audioread instead.')\n"
     ]
    },
    {
     "name": "stdout",
     "output_type": "stream",
     "text": [
      "./genres_2/Trap/07._I'm_the_Plug.mp3 0.7166969180107117 0.38560938835144043 1576.104811761994 2066.4535937835526 3834.1342014392403 0.03039352523201856\n"
     ]
    },
    {
     "name": "stderr",
     "output_type": "stream",
     "text": [
      "/Users/Andy/opt/anaconda3/lib/python3.7/site-packages/librosa/core/audio.py:161: UserWarning: PySoundFile failed. Trying audioread instead.\n",
      "  warnings.warn('PySoundFile failed. Trying audioread instead.')\n"
     ]
    },
    {
     "name": "stdout",
     "output_type": "stream",
     "text": [
      "./genres_2/Trap/N-tip_2017__Xo_tour_llif3_-_Lil_Uzi_Vert.mp3 0.3945547044277191 0.21092195808887482 2070.5776972781346 2099.8999009634986 4229.051148310615 0.07841728900812064\n"
     ]
    },
    {
     "name": "stderr",
     "output_type": "stream",
     "text": [
      "/Users/Andy/opt/anaconda3/lib/python3.7/site-packages/librosa/core/audio.py:161: UserWarning: PySoundFile failed. Trying audioread instead.\n",
      "  warnings.warn('PySoundFile failed. Trying audioread instead.')\n"
     ]
    },
    {
     "name": "stdout",
     "output_type": "stream",
     "text": [
      "./genres_2/Trap/Kanye_West_&_Lil_Pump_-_I_Love_It.mp3 0.4553665518760681 0.3779063820838928 1835.3560646222775 2537.2140279586897 4419.1278798397625 0.03652366408062645\n"
     ]
    },
    {
     "name": "stderr",
     "output_type": "stream",
     "text": [
      "/Users/Andy/opt/anaconda3/lib/python3.7/site-packages/librosa/core/audio.py:161: UserWarning: PySoundFile failed. Trying audioread instead.\n",
      "  warnings.warn('PySoundFile failed. Trying audioread instead.')\n"
     ]
    },
    {
     "name": "stdout",
     "output_type": "stream",
     "text": [
      "./genres_2/Trap/Denzel_Curry_-_Threatz.mp3 0.4713149070739746 0.20965830981731415 3513.002839543615 2873.132706269798 6797.522624075551 0.1391896117314385\n"
     ]
    },
    {
     "name": "stderr",
     "output_type": "stream",
     "text": [
      "/Users/Andy/opt/anaconda3/lib/python3.7/site-packages/librosa/core/audio.py:161: UserWarning: PySoundFile failed. Trying audioread instead.\n",
      "  warnings.warn('PySoundFile failed. Trying audioread instead.')\n"
     ]
    },
    {
     "name": "stdout",
     "output_type": "stream",
     "text": [
      "./genres_2/Trap/08_Dubai_Shit_(feat._Offset).mp3 0.2934727370738983 0.10511380434036255 1582.212160061312 2000.6370623383916 3522.6022105205916 0.05941623767401392\n"
     ]
    },
    {
     "name": "stderr",
     "output_type": "stream",
     "text": [
      "/Users/Andy/opt/anaconda3/lib/python3.7/site-packages/librosa/core/audio.py:161: UserWarning: PySoundFile failed. Trying audioread instead.\n",
      "  warnings.warn('PySoundFile failed. Trying audioread instead.')\n"
     ]
    },
    {
     "name": "stdout",
     "output_type": "stream",
     "text": [
      "./genres_2/Trap/Desiigner_-_Holy_Ghost.mp3 0.5175197124481201 0.268921822309494 2143.7384932436053 2646.569342420259 4934.500865537993 0.05696123658642691\n"
     ]
    },
    {
     "name": "stderr",
     "output_type": "stream",
     "text": [
      "/Users/Andy/opt/anaconda3/lib/python3.7/site-packages/librosa/core/audio.py:161: UserWarning: PySoundFile failed. Trying audioread instead.\n",
      "  warnings.warn('PySoundFile failed. Trying audioread instead.')\n"
     ]
    },
    {
     "name": "stdout",
     "output_type": "stream",
     "text": [
      "./genres_2/Trap/Elektro_Convolver_(Original_Mix).mp3 0.46631455421447754 0.2898496389389038 2415.670227283348 2536.111809080823 5126.975726417489 0.09619933657192575\n"
     ]
    },
    {
     "name": "stderr",
     "output_type": "stream",
     "text": [
      "/Users/Andy/opt/anaconda3/lib/python3.7/site-packages/librosa/core/audio.py:161: UserWarning: PySoundFile failed. Trying audioread instead.\n",
      "  warnings.warn('PySoundFile failed. Trying audioread instead.')\n"
     ]
    },
    {
     "name": "stdout",
     "output_type": "stream",
     "text": [
      "./genres_2/Trap/Work_[FazMusic.net].mp3 0.3548521101474762 0.2253008335828781 2552.24492046374 2668.2653034036744 5403.16028993257 0.09293657555104408\n"
     ]
    },
    {
     "name": "stderr",
     "output_type": "stream",
     "text": [
      "/Users/Andy/opt/anaconda3/lib/python3.7/site-packages/librosa/core/audio.py:161: UserWarning: PySoundFile failed. Trying audioread instead.\n",
      "  warnings.warn('PySoundFile failed. Trying audioread instead.')\n"
     ]
    },
    {
     "name": "stdout",
     "output_type": "stream",
     "text": [
      "./genres_2/Trap/10._Crew_(Ft._Brent_Faiyaz_&_Shy_Glizzy).mp3 0.4074223041534424 0.2921745181083679 2260.287182093367 2780.043241758123 5143.238041074536 0.0669862964037123\n"
     ]
    },
    {
     "name": "stderr",
     "output_type": "stream",
     "text": [
      "/Users/Andy/opt/anaconda3/lib/python3.7/site-packages/librosa/core/audio.py:161: UserWarning: PySoundFile failed. Trying audioread instead.\n",
      "  warnings.warn('PySoundFile failed. Trying audioread instead.')\n"
     ]
    },
    {
     "name": "stdout",
     "output_type": "stream",
     "text": [
      "./genres_2/Trap/043._Sheck_Wes_-_Mo_Bamba.mp3 0.4706297814846039 0.42407700419425964 1307.4488948665369 2102.7184373466407 2833.8894377175175 0.01724845018851508\n",
      "Cheeze\n"
     ]
    },
    {
     "name": "stderr",
     "output_type": "stream",
     "text": [
      "/Users/Andy/opt/anaconda3/lib/python3.7/site-packages/librosa/core/audio.py:161: UserWarning: PySoundFile failed. Trying audioread instead.\n",
      "  warnings.warn('PySoundFile failed. Trying audioread instead.')\n"
     ]
    },
    {
     "name": "stdout",
     "output_type": "stream",
     "text": [
      "./genres_2/Cheeze/01_Not_Giving_In_(feat._John_Newman_&_Alex_Clare).mp3 0.3855929374694824 0.12746340036392212 1528.998116548479 1956.4679902734626 3177.146681500145 0.05583513087296984\n"
     ]
    },
    {
     "name": "stderr",
     "output_type": "stream",
     "text": [
      "/Users/Andy/opt/anaconda3/lib/python3.7/site-packages/librosa/core/audio.py:161: UserWarning: PySoundFile failed. Trying audioread instead.\n",
      "  warnings.warn('PySoundFile failed. Trying audioread instead.')\n"
     ]
    },
    {
     "name": "stdout",
     "output_type": "stream",
     "text": [
      "./genres_2/Cheeze/Crystal_Waters_-_Gypsy_Woman_(She's_Homeless).mp3 0.32768136262893677 0.03403313085436821 2160.187496667187 2137.959074801596 4236.395419446056 0.11700510259570766\n"
     ]
    },
    {
     "name": "stderr",
     "output_type": "stream",
     "text": [
      "/Users/Andy/opt/anaconda3/lib/python3.7/site-packages/librosa/core/audio.py:161: UserWarning: PySoundFile failed. Trying audioread instead.\n",
      "  warnings.warn('PySoundFile failed. Trying audioread instead.')\n"
     ]
    },
    {
     "name": "stdout",
     "output_type": "stream",
     "text": [
      "./genres_2/Cheeze/04_Can_I_Kick_It__1.m4a 0.27912575006484985 0.10593639314174652 1256.7114955536479 1840.9102369690672 2829.2680426152842 0.03375484882540603\n"
     ]
    },
    {
     "name": "stderr",
     "output_type": "stream",
     "text": [
      "/Users/Andy/opt/anaconda3/lib/python3.7/site-packages/librosa/core/audio.py:161: UserWarning: PySoundFile failed. Trying audioread instead.\n",
      "  warnings.warn('PySoundFile failed. Trying audioread instead.')\n"
     ]
    },
    {
     "name": "stdout",
     "output_type": "stream",
     "text": [
      "./genres_2/Cheeze/Disclosure_-_Boss.mp3 0.3274930715560913 0.1484486609697342 2254.3149091002224 2485.423333223357 4826.160376033207 0.0959002501450116\n"
     ]
    },
    {
     "name": "stderr",
     "output_type": "stream",
     "text": [
      "/Users/Andy/opt/anaconda3/lib/python3.7/site-packages/librosa/core/audio.py:161: UserWarning: PySoundFile failed. Trying audioread instead.\n",
      "  warnings.warn('PySoundFile failed. Trying audioread instead.')\n"
     ]
    },
    {
     "name": "stdout",
     "output_type": "stream",
     "text": [
      "./genres_2/Cheeze/12_One_Dance_(feat._Wizkid_&_Kyla).mp3 0.44306156039237976 0.32828786969184875 2146.5550638397967 2554.9659868006615 4852.06516911978 0.06315934962296983\n",
      "./genres_2/Cheeze/Keep_Warm.wav 0.4909587800502777 0.2394988089799881 3409.2777265971818 2979.511711395537 7152.470748441126 0.1866865755510441\n"
     ]
    },
    {
     "name": "stderr",
     "output_type": "stream",
     "text": [
      "/Users/Andy/opt/anaconda3/lib/python3.7/site-packages/librosa/core/audio.py:161: UserWarning: PySoundFile failed. Trying audioread instead.\n",
      "  warnings.warn('PySoundFile failed. Trying audioread instead.')\n"
     ]
    },
    {
     "name": "stdout",
     "output_type": "stream",
     "text": [
      "./genres_2/Cheeze/1-01_1999_(EASYFUN_Remix).mp3 0.36741241812705994 0.25137802958488464 2638.913655451538 2452.997995102134 5237.839247842952 0.12335729045823667\n"
     ]
    },
    {
     "name": "stderr",
     "output_type": "stream",
     "text": [
      "/Users/Andy/opt/anaconda3/lib/python3.7/site-packages/librosa/core/audio.py:161: UserWarning: PySoundFile failed. Trying audioread instead.\n",
      "  warnings.warn('PySoundFile failed. Trying audioread instead.')\n"
     ]
    },
    {
     "name": "stdout",
     "output_type": "stream",
     "text": [
      "./genres_2/Cheeze/Rudimental_-_Spoons_ft._MNEK_&_Syron_(Baunz_Remix).mp3 0.612592875957489 0.2262837141752243 2645.269312736341 2305.1893352428588 4492.770435306699 0.15914116879350348\n"
     ]
    },
    {
     "name": "stderr",
     "output_type": "stream",
     "text": [
      "/Users/Andy/opt/anaconda3/lib/python3.7/site-packages/librosa/core/audio.py:161: UserWarning: PySoundFile failed. Trying audioread instead.\n",
      "  warnings.warn('PySoundFile failed. Trying audioread instead.')\n"
     ]
    },
    {
     "name": "stdout",
     "output_type": "stream",
     "text": [
      "./genres_2/Cheeze/Chris_Brown_-_Loyal_ft._Lil_Wayne,_Tyga.mp3 0.46828654408454895 0.22073569893836975 2275.956415272165 2675.884637895923 5159.000745450261 0.06368954828886311\n"
     ]
    },
    {
     "name": "stderr",
     "output_type": "stream",
     "text": [
      "/Users/Andy/opt/anaconda3/lib/python3.7/site-packages/librosa/core/audio.py:161: UserWarning: PySoundFile failed. Trying audioread instead.\n",
      "  warnings.warn('PySoundFile failed. Trying audioread instead.')\n"
     ]
    },
    {
     "name": "stdout",
     "output_type": "stream",
     "text": [
      "./genres_2/Cheeze/05_Deep_Inside.mp3 0.4777752161026001 0.14556705951690674 3676.4485825871666 2606.5291235236414 6653.235174829611 0.25292855459686775\n"
     ]
    },
    {
     "name": "stderr",
     "output_type": "stream",
     "text": [
      "/Users/Andy/opt/anaconda3/lib/python3.7/site-packages/librosa/core/audio.py:161: UserWarning: PySoundFile failed. Trying audioread instead.\n",
      "  warnings.warn('PySoundFile failed. Trying audioread instead.')\n"
     ]
    },
    {
     "name": "stdout",
     "output_type": "stream",
     "text": [
      "./genres_2/Cheeze/1-03_Inta.mp3 0.4466741979122162 0.15804414451122284 2530.103961207947 2212.4142041246228 4978.016921041183 0.14546929379350348\n"
     ]
    },
    {
     "name": "stderr",
     "output_type": "stream",
     "text": [
      "/Users/Andy/opt/anaconda3/lib/python3.7/site-packages/librosa/core/audio.py:161: UserWarning: PySoundFile failed. Trying audioread instead.\n",
      "  warnings.warn('PySoundFile failed. Trying audioread instead.')\n"
     ]
    },
    {
     "name": "stdout",
     "output_type": "stream",
     "text": [
      "./genres_2/Cheeze/02_Rasputin_1.m4a 0.41602978110313416 0.12319304049015045 2358.563490183956 2594.9310402301708 5383.775411017256 0.09439915349477958\n"
     ]
    },
    {
     "name": "stderr",
     "output_type": "stream",
     "text": [
      "/Users/Andy/opt/anaconda3/lib/python3.7/site-packages/librosa/core/audio.py:161: UserWarning: PySoundFile failed. Trying audioread instead.\n",
      "  warnings.warn('PySoundFile failed. Trying audioread instead.')\n"
     ]
    },
    {
     "name": "stdout",
     "output_type": "stream",
     "text": [
      "./genres_2/Cheeze/AGGRO_SANTOS_-_CANDY_(MESSED_DRUM&BASS_REMIX).mp3 0.30143827199935913 0.1916191279888153 2939.9261708730482 2852.673321226661 6480.295075949826 0.14561203958816704\n"
     ]
    },
    {
     "name": "stderr",
     "output_type": "stream",
     "text": [
      "/Users/Andy/opt/anaconda3/lib/python3.7/site-packages/librosa/core/audio.py:161: UserWarning: PySoundFile failed. Trying audioread instead.\n",
      "  warnings.warn('PySoundFile failed. Trying audioread instead.')\n"
     ]
    },
    {
     "name": "stdout",
     "output_type": "stream",
     "text": [
      "./genres_2/Cheeze/47_Oh_Carolina_(Original_Mix).mp3 0.4561152458190918 0.2108619660139084 2403.5656541588774 2517.0844941026694 5230.0453274543215 0.1070162956786543\n",
      "./genres_2/Cheeze/Touch_Me.wav 0.34491223096847534 0.1256382018327713 2018.1828121052722 2466.22538137571 4281.485247335412 0.08889437717517401\n"
     ]
    },
    {
     "name": "stderr",
     "output_type": "stream",
     "text": [
      "/Users/Andy/opt/anaconda3/lib/python3.7/site-packages/librosa/core/audio.py:161: UserWarning: PySoundFile failed. Trying audioread instead.\n",
      "  warnings.warn('PySoundFile failed. Trying audioread instead.')\n"
     ]
    },
    {
     "name": "stdout",
     "output_type": "stream",
     "text": [
      "./genres_2/Cheeze/Destinys_Child_-_Survivor_(Lyrics).mp3 0.36096853017807007 0.08807937800884247 3631.47235768786 2969.1228860789306 7281.345220508266 0.18998219076276102\n"
     ]
    },
    {
     "name": "stderr",
     "output_type": "stream",
     "text": [
      "/Users/Andy/opt/anaconda3/lib/python3.7/site-packages/librosa/core/audio.py:161: UserWarning: PySoundFile failed. Trying audioread instead.\n",
      "  warnings.warn('PySoundFile failed. Trying audioread instead.')\n"
     ]
    },
    {
     "name": "stdout",
     "output_type": "stream",
     "text": [
      "./genres_2/Cheeze/George_Fitzgerald_-_Child_(Original_Mix).mp3 0.5135709643363953 0.2351217269897461 3125.402364937688 1806.378760983337 4743.799621157193 0.24289216574825986\n"
     ]
    },
    {
     "name": "stderr",
     "output_type": "stream",
     "text": [
      "/Users/Andy/opt/anaconda3/lib/python3.7/site-packages/librosa/core/audio.py:161: UserWarning: PySoundFile failed. Trying audioread instead.\n",
      "  warnings.warn('PySoundFile failed. Trying audioread instead.')\n"
     ]
    },
    {
     "name": "stdout",
     "output_type": "stream",
     "text": [
      "./genres_2/Cheeze/Section_Boyz_-_Dig_Dat_[Music_Video]_-_@SectionBoyz_.mp3 0.550778329372406 0.40354540944099426 2257.3598859790422 2517.209035450212 5039.468985643852 0.054098390371229696\n"
     ]
    },
    {
     "name": "stderr",
     "output_type": "stream",
     "text": [
      "/Users/Andy/opt/anaconda3/lib/python3.7/site-packages/librosa/core/audio.py:161: UserWarning: PySoundFile failed. Trying audioread instead.\n",
      "  warnings.warn('PySoundFile failed. Trying audioread instead.')\n"
     ]
    },
    {
     "name": "stdout",
     "output_type": "stream",
     "text": [
      "./genres_2/Cheeze/Earth,_Wind_&_Fire_-_Let's_Groove.mp3 0.45501062273979187 0.1337645798921585 2707.8657110686645 2660.826562582859 5729.155998495505 0.1381813279437355\n"
     ]
    },
    {
     "name": "stderr",
     "output_type": "stream",
     "text": [
      "/Users/Andy/opt/anaconda3/lib/python3.7/site-packages/librosa/core/audio.py:161: UserWarning: PySoundFile failed. Trying audioread instead.\n",
      "  warnings.warn('PySoundFile failed. Trying audioread instead.')\n"
     ]
    },
    {
     "name": "stdout",
     "output_type": "stream",
     "text": [
      "./genres_2/Cheeze/Robert_Miles_-_Children.mp3 0.2744394540786743 0.0910438671708107 1957.403647178383 2593.842289938701 4589.0952975456785 0.07107494380800464\n"
     ]
    },
    {
     "name": "stderr",
     "output_type": "stream",
     "text": [
      "/Users/Andy/opt/anaconda3/lib/python3.7/site-packages/librosa/core/audio.py:161: UserWarning: PySoundFile failed. Trying audioread instead.\n",
      "  warnings.warn('PySoundFile failed. Trying audioread instead.')\n"
     ]
    },
    {
     "name": "stdout",
     "output_type": "stream",
     "text": [
      "./genres_2/Cheeze/DrDr_-_Addicted_(Polkadot_Remix).mp3 0.3489685356616974 0.09183388948440552 1596.9153118400247 1794.6829475351815 2992.9903318046695 0.06922944460556844\n"
     ]
    },
    {
     "name": "stderr",
     "output_type": "stream",
     "text": [
      "/Users/Andy/opt/anaconda3/lib/python3.7/site-packages/librosa/core/audio.py:161: UserWarning: PySoundFile failed. Trying audioread instead.\n",
      "  warnings.warn('PySoundFile failed. Trying audioread instead.')\n"
     ]
    },
    {
     "name": "stdout",
     "output_type": "stream",
     "text": [
      "./genres_2/Cheeze/04_All_Of_The_Lights_(Interlude).mp3 0.2769581973552704 0.08690968155860901 1110.5053353213468 1380.717136576836 2066.837772803074 0.05657831532772622\n",
      "./genres_2/Cheeze/Honey.wav 0.4964620769023895 0.12146288901567459 3045.237964684538 2909.921351019913 6592.83229181772 0.16989355242169374\n"
     ]
    },
    {
     "name": "stderr",
     "output_type": "stream",
     "text": [
      "/Users/Andy/opt/anaconda3/lib/python3.7/site-packages/librosa/core/audio.py:161: UserWarning: PySoundFile failed. Trying audioread instead.\n",
      "  warnings.warn('PySoundFile failed. Trying audioread instead.')\n"
     ]
    },
    {
     "name": "stdout",
     "output_type": "stream",
     "text": [
      "./genres_2/Cheeze/Mason_-_Exceeder_(UMEK_&_Mike_Vale_Remix)_[Armada_Music].mp3 0.6234353184700012 0.3041205406188965 3446.5213196505074 2753.463044521618 6363.536153204756 0.21842825551044084\n"
     ]
    },
    {
     "name": "stderr",
     "output_type": "stream",
     "text": [
      "/Users/Andy/opt/anaconda3/lib/python3.7/site-packages/librosa/core/audio.py:161: UserWarning: PySoundFile failed. Trying audioread instead.\n",
      "  warnings.warn('PySoundFile failed. Trying audioread instead.')\n"
     ]
    },
    {
     "name": "stdout",
     "output_type": "stream",
     "text": [
      "./genres_2/Cheeze/Indeep_-_Last_Night_A_DJ_Saved_My_Life_1982_[HD].mp3 0.48408204317092896 0.07997369766235352 2763.0527004258493 2577.069166296586 5684.815586028132 0.13940033171403712\n",
      "./genres_2/Cheeze/2-12_Bump_&_Grind_2014_(Radio_Edit).wav 0.386886328458786 0.17453645169734955 2966.0361154264006 2412.920396880217 5452.696649325696 0.16724935651102088\n"
     ]
    },
    {
     "name": "stderr",
     "output_type": "stream",
     "text": [
      "/Users/Andy/opt/anaconda3/lib/python3.7/site-packages/librosa/core/audio.py:161: UserWarning: PySoundFile failed. Trying audioread instead.\n",
      "  warnings.warn('PySoundFile failed. Trying audioread instead.')\n"
     ]
    },
    {
     "name": "stdout",
     "output_type": "stream",
     "text": [
      "./genres_2/Cheeze/01_American_Boy.mp3 0.3710471987724304 0.28901875019073486 2472.2517337680033 2479.93975563641 5058.7539425029 0.11133152370939675\n"
     ]
    },
    {
     "name": "stderr",
     "output_type": "stream",
     "text": [
      "/Users/Andy/opt/anaconda3/lib/python3.7/site-packages/librosa/core/audio.py:161: UserWarning: PySoundFile failed. Trying audioread instead.\n",
      "  warnings.warn('PySoundFile failed. Trying audioread instead.')\n"
     ]
    },
    {
     "name": "stdout",
     "output_type": "stream",
     "text": [
      "./genres_2/Cheeze/2-16_Skin_Deep.mp3 0.5168211460113525 0.31429898738861084 2783.5299539641287 2768.2156201665666 6025.599758918213 0.08563161615429234\n"
     ]
    },
    {
     "name": "stderr",
     "output_type": "stream",
     "text": [
      "/Users/Andy/opt/anaconda3/lib/python3.7/site-packages/librosa/core/audio.py:161: UserWarning: PySoundFile failed. Trying audioread instead.\n",
      "  warnings.warn('PySoundFile failed. Trying audioread instead.')\n"
     ]
    },
    {
     "name": "stdout",
     "output_type": "stream",
     "text": [
      "./genres_2/Cheeze/Bonkers_1.mp3 0.2989201545715332 0.07934664934873581 2342.8624022854633 2220.822065852719 4468.764161289153 0.11778907156322506\n"
     ]
    },
    {
     "name": "stderr",
     "output_type": "stream",
     "text": [
      "/Users/Andy/opt/anaconda3/lib/python3.7/site-packages/librosa/core/audio.py:161: UserWarning: PySoundFile failed. Trying audioread instead.\n",
      "  warnings.warn('PySoundFile failed. Trying audioread instead.')\n"
     ]
    },
    {
     "name": "stdout",
     "output_type": "stream",
     "text": [
      "./genres_2/Cheeze/2-12_Remedy_(Reset_Safari_Remix).mp3 0.5449584126472473 0.3624410629272461 1169.9733047025434 1751.7932173350305 2567.971865483614 0.017826230785962877\n"
     ]
    },
    {
     "name": "stderr",
     "output_type": "stream",
     "text": [
      "/Users/Andy/opt/anaconda3/lib/python3.7/site-packages/librosa/core/audio.py:161: UserWarning: PySoundFile failed. Trying audioread instead.\n",
      "  warnings.warn('PySoundFile failed. Trying audioread instead.')\n"
     ]
    },
    {
     "name": "stdout",
     "output_type": "stream",
     "text": [
      "./genres_2/Cheeze/Ed_Sheeran-Dont_Netsky_Remix_(iPlayer.fm).mp3 0.37755531072616577 0.10221976041793823 2684.562079097895 2488.284119817262 5408.755925083382 0.114755156975058\n"
     ]
    },
    {
     "name": "stderr",
     "output_type": "stream",
     "text": [
      "/Users/Andy/opt/anaconda3/lib/python3.7/site-packages/librosa/core/audio.py:161: UserWarning: PySoundFile failed. Trying audioread instead.\n",
      "  warnings.warn('PySoundFile failed. Trying audioread instead.')\n"
     ]
    },
    {
     "name": "stdout",
     "output_type": "stream",
     "text": [
      "./genres_2/Cheeze/01_Pon_De_Replay.mp3 0.5861465930938721 0.33637121319770813 2659.890653550551 2914.71469446779 6084.129103375145 0.07337813587587007\n"
     ]
    },
    {
     "name": "stderr",
     "output_type": "stream",
     "text": [
      "/Users/Andy/opt/anaconda3/lib/python3.7/site-packages/librosa/core/audio.py:161: UserWarning: PySoundFile failed. Trying audioread instead.\n",
      "  warnings.warn('PySoundFile failed. Trying audioread instead.')\n"
     ]
    },
    {
     "name": "stdout",
     "output_type": "stream",
     "text": [
      "./genres_2/Cheeze/Kartell_-_Attracted.mp3 0.39459189772605896 0.09481986612081528 3093.545602103382 2749.3522576673963 6218.449327508701 0.12925065255220416\n",
      "./genres_2/Cheeze/0704_-_Missy_Elliott_-_Get_Ur_Freak_On.wav 0.4227463901042938 0.24871720373630524 1942.1918437341697 2048.8748445234964 3712.7788641060033 0.08870858106148492\n"
     ]
    },
    {
     "name": "stderr",
     "output_type": "stream",
     "text": [
      "/Users/Andy/opt/anaconda3/lib/python3.7/site-packages/librosa/core/audio.py:161: UserWarning: PySoundFile failed. Trying audioread instead.\n",
      "  warnings.warn('PySoundFile failed. Trying audioread instead.')\n"
     ]
    },
    {
     "name": "stdout",
     "output_type": "stream",
     "text": [
      "./genres_2/Cheeze/14._black_eyed_peas_-_just_can't_get_enough.mp3 0.3274685740470886 0.08853808045387268 2693.241532616072 2628.917471010014 5736.750074771607 0.11859796439965198\n"
     ]
    },
    {
     "name": "stderr",
     "output_type": "stream",
     "text": [
      "/Users/Andy/opt/anaconda3/lib/python3.7/site-packages/librosa/core/audio.py:161: UserWarning: PySoundFile failed. Trying audioread instead.\n",
      "  warnings.warn('PySoundFile failed. Trying audioread instead.')\n"
     ]
    },
    {
     "name": "stdout",
     "output_type": "stream",
     "text": [
      "./genres_2/Cheeze/Crystal_Waters_-_Gypsy_Woman_(Shes_Homeless).mp3 0.3224339485168457 0.03580081835389137 2218.4591331356773 2193.6603349298825 4365.869423850783 0.1151539388776102\n"
     ]
    },
    {
     "name": "stderr",
     "output_type": "stream",
     "text": [
      "/Users/Andy/opt/anaconda3/lib/python3.7/site-packages/librosa/core/audio.py:161: UserWarning: PySoundFile failed. Trying audioread instead.\n",
      "  warnings.warn('PySoundFile failed. Trying audioread instead.')\n"
     ]
    },
    {
     "name": "stdout",
     "output_type": "stream",
     "text": [
      "./genres_2/Cheeze/03_Deep_Down_Low.mp3 0.5591157078742981 0.4858916699886322 2489.835729263523 2664.992321401127 5419.772331786543 0.10291631924303944\n",
      "./genres_2/Cheeze/Turn_Around.wav 0.47240498661994934 0.20303256809711456 3093.5573492045964 2837.8825016883384 6370.131008918213 0.14367930684454758\n"
     ]
    },
    {
     "name": "stderr",
     "output_type": "stream",
     "text": [
      "/Users/Andy/opt/anaconda3/lib/python3.7/site-packages/librosa/core/audio.py:161: UserWarning: PySoundFile failed. Trying audioread instead.\n",
      "  warnings.warn('PySoundFile failed. Trying audioread instead.')\n"
     ]
    },
    {
     "name": "stdout",
     "output_type": "stream",
     "text": [
      "./genres_2/Cheeze/04_LOVE_OF_MY_LIFE_Remix.mp3 0.4222263991832733 0.2569933533668518 2326.302968051601 2525.297698899864 5012.589952508701 0.08652547672563805\n"
     ]
    },
    {
     "name": "stderr",
     "output_type": "stream",
     "text": [
      "/Users/Andy/opt/anaconda3/lib/python3.7/site-packages/librosa/core/audio.py:161: UserWarning: PySoundFile failed. Trying audioread instead.\n",
      "  warnings.warn('PySoundFile failed. Trying audioread instead.')\n"
     ]
    },
    {
     "name": "stdout",
     "output_type": "stream",
     "text": [
      "./genres_2/Cheeze/01_Ultralight_Beam.mp3 0.28630441427230835 0.17313887178897858 2066.4174849720775 2425.2785378947606 4682.147712441995 0.07594416147041763\n"
     ]
    },
    {
     "name": "stderr",
     "output_type": "stream",
     "text": [
      "/Users/Andy/opt/anaconda3/lib/python3.7/site-packages/librosa/core/audio.py:161: UserWarning: PySoundFile failed. Trying audioread instead.\n",
      "  warnings.warn('PySoundFile failed. Trying audioread instead.')\n"
     ]
    },
    {
     "name": "stdout",
     "output_type": "stream",
     "text": [
      "./genres_2/Cheeze/08_Burning_(Vibe_Mix).mp3 0.3784281015396118 0.16255873441696167 3365.49678569712 2512.9466506507856 6159.320450714182 0.21054211680684454\n"
     ]
    },
    {
     "name": "stderr",
     "output_type": "stream",
     "text": [
      "/Users/Andy/opt/anaconda3/lib/python3.7/site-packages/librosa/core/audio.py:161: UserWarning: PySoundFile failed. Trying audioread instead.\n",
      "  warnings.warn('PySoundFile failed. Trying audioread instead.')\n"
     ]
    },
    {
     "name": "stdout",
     "output_type": "stream",
     "text": [
      "./genres_2/Cheeze/Disclosure_-_White_Noise_ft._AlunaGeorge_(Official_Video).mp3 0.3644271194934845 0.18764628469944 2727.8619327010206 2575.98004553402 5457.0182782591355 0.09643724622969838\n"
     ]
    },
    {
     "name": "stderr",
     "output_type": "stream",
     "text": [
      "/Users/Andy/opt/anaconda3/lib/python3.7/site-packages/librosa/core/audio.py:161: UserWarning: PySoundFile failed. Trying audioread instead.\n",
      "  warnings.warn('PySoundFile failed. Trying audioread instead.')\n"
     ]
    },
    {
     "name": "stdout",
     "output_type": "stream",
     "text": [
      "./genres_2/Cheeze/J_Hus_ft_DoccyDocs_-_Lean_&amp;_Bop_[Music_Video]-_SBTV_(320__kbps).mp3 0.2163286954164505 0.007206119131296873 1691.2727676925422 1578.216773294916 3295.379454575116 0.07891689928944315\n"
     ]
    },
    {
     "name": "stderr",
     "output_type": "stream",
     "text": [
      "/Users/Andy/opt/anaconda3/lib/python3.7/site-packages/librosa/core/audio.py:161: UserWarning: PySoundFile failed. Trying audioread instead.\n",
      "  warnings.warn('PySoundFile failed. Trying audioread instead.')\n"
     ]
    },
    {
     "name": "stdout",
     "output_type": "stream",
     "text": [
      "./genres_2/Cheeze/Sigala_-_Give_Me_Your_Love_ft._John_Newman,_Nile_Rodgers.mp3 0.36561819911003113 0.09401886910200119 2651.728822276413 2495.3943593127906 5351.550547871955 0.13398278893561485\n"
     ]
    },
    {
     "name": "stderr",
     "output_type": "stream",
     "text": [
      "/Users/Andy/opt/anaconda3/lib/python3.7/site-packages/librosa/core/audio.py:161: UserWarning: PySoundFile failed. Trying audioread instead.\n",
      "  warnings.warn('PySoundFile failed. Trying audioread instead.')\n"
     ]
    },
    {
     "name": "stdout",
     "output_type": "stream",
     "text": [
      "./genres_2/Cheeze/Calvin_Harris_-_I'm_Not_Alone.mp3 0.3104265630245209 0.05107331648468971 1414.600597227182 2012.2576463256312 2700.5684341466067 0.04764424122679815\n"
     ]
    },
    {
     "name": "stderr",
     "output_type": "stream",
     "text": [
      "/Users/Andy/opt/anaconda3/lib/python3.7/site-packages/librosa/core/audio.py:161: UserWarning: PySoundFile failed. Trying audioread instead.\n",
      "  warnings.warn('PySoundFile failed. Trying audioread instead.')\n"
     ]
    },
    {
     "name": "stdout",
     "output_type": "stream",
     "text": [
      "./genres_2/Cheeze/Rae_Sremmurd_-_No_Type.mp3 0.5103156566619873 0.29798245429992676 1760.814828539151 2294.6981638087054 3768.535371501595 0.03728157627610209\n",
      "./genres_2/Cheeze/04_I_Feel_Love.aif 0.4159711003303528 0.07334081083536148 2955.667942122214 2665.9645135618034 6081.406227341938 0.14038029292343387\n"
     ]
    },
    {
     "name": "stderr",
     "output_type": "stream",
     "text": [
      "/Users/Andy/opt/anaconda3/lib/python3.7/site-packages/librosa/core/audio.py:161: UserWarning: PySoundFile failed. Trying audioread instead.\n",
      "  warnings.warn('PySoundFile failed. Trying audioread instead.')\n"
     ]
    },
    {
     "name": "stdout",
     "output_type": "stream",
     "text": [
      "./genres_2/Cheeze/1-04_Ice_Ice_Baby_(Radio_Edit).mp3 0.4366558790206909 0.183183491230011 2835.2031725556562 2724.4432142184055 5767.800853755801 0.12264242858178655\n"
     ]
    },
    {
     "name": "stderr",
     "output_type": "stream",
     "text": [
      "/Users/Andy/opt/anaconda3/lib/python3.7/site-packages/librosa/core/audio.py:161: UserWarning: PySoundFile failed. Trying audioread instead.\n",
      "  warnings.warn('PySoundFile failed. Trying audioread instead.')\n"
     ]
    },
    {
     "name": "stdout",
     "output_type": "stream",
     "text": [
      "./genres_2/Cheeze/Day_N_Nite_(Crookers_Remix).mp3 0.37797585129737854 0.3268268406391144 2419.498081384141 2666.4927814427056 5131.322335864994 0.0826090305974478\n"
     ]
    },
    {
     "name": "stderr",
     "output_type": "stream",
     "text": [
      "/Users/Andy/opt/anaconda3/lib/python3.7/site-packages/librosa/core/audio.py:161: UserWarning: PySoundFile failed. Trying audioread instead.\n",
      "  warnings.warn('PySoundFile failed. Trying audioread instead.')\n"
     ]
    },
    {
     "name": "stdout",
     "output_type": "stream",
     "text": [
      "./genres_2/Cheeze/Armand_Van_Helden-Full_Moon_www.my-free-mp3.net_.mp3 0.5345040559768677 0.1109788790345192 2544.850366265209 2667.991560390704 5512.649883084397 0.09394599224187936\n"
     ]
    },
    {
     "name": "stderr",
     "output_type": "stream",
     "text": [
      "/Users/Andy/opt/anaconda3/lib/python3.7/site-packages/librosa/core/audio.py:161: UserWarning: PySoundFile failed. Trying audioread instead.\n",
      "  warnings.warn('PySoundFile failed. Trying audioread instead.')\n"
     ]
    },
    {
     "name": "stdout",
     "output_type": "stream",
     "text": [
      "./genres_2/Cheeze/28_-_Stefflon_Don_Ft_French_Montana_-_Hurtin'_Me.mp3 0.4014224112033844 0.20137231051921844 2224.350411403027 2189.5027172891864 4517.051494978973 0.1154247027262181\n"
     ]
    },
    {
     "name": "stderr",
     "output_type": "stream",
     "text": [
      "/Users/Andy/opt/anaconda3/lib/python3.7/site-packages/librosa/core/audio.py:161: UserWarning: PySoundFile failed. Trying audioread instead.\n",
      "  warnings.warn('PySoundFile failed. Trying audioread instead.')\n"
     ]
    },
    {
     "name": "stdout",
     "output_type": "stream",
     "text": [
      "./genres_2/Cheeze/2-09_Hey_Ya!_1.mp3 0.4151179790496826 0.3520718216896057 2029.7094126363747 2394.5083543947662 4481.828970145737 0.07607671113689095\n"
     ]
    },
    {
     "name": "stderr",
     "output_type": "stream",
     "text": [
      "/Users/Andy/opt/anaconda3/lib/python3.7/site-packages/librosa/core/audio.py:161: UserWarning: PySoundFile failed. Trying audioread instead.\n",
      "  warnings.warn('PySoundFile failed. Trying audioread instead.')\n"
     ]
    },
    {
     "name": "stdout",
     "output_type": "stream",
     "text": [
      "./genres_2/Cheeze/02_SOS.mp3 0.4990849792957306 0.30802488327026367 2962.7581682229234 2909.8884761983327 6249.4501454647625 0.1060578596287703\n"
     ]
    },
    {
     "name": "stderr",
     "output_type": "stream",
     "text": [
      "/Users/Andy/opt/anaconda3/lib/python3.7/site-packages/librosa/core/audio.py:161: UserWarning: PySoundFile failed. Trying audioread instead.\n",
      "  warnings.warn('PySoundFile failed. Trying audioread instead.')\n"
     ]
    },
    {
     "name": "stdout",
     "output_type": "stream",
     "text": [
      "./genres_2/Cheeze/Disclosure_-_Omen_ft._Sam_Smith.mp3 0.4230084717273712 0.16483400762081146 2393.8532817370087 2316.3631728831756 4704.854999728103 0.11495454792633411\n"
     ]
    },
    {
     "name": "stderr",
     "output_type": "stream",
     "text": [
      "/Users/Andy/opt/anaconda3/lib/python3.7/site-packages/librosa/core/audio.py:161: UserWarning: PySoundFile failed. Trying audioread instead.\n",
      "  warnings.warn('PySoundFile failed. Trying audioread instead.')\n"
     ]
    },
    {
     "name": "stdout",
     "output_type": "stream",
     "text": [
      "./genres_2/Cheeze/Eat's_Everything_-_Entrance_Song_(Original_Mix)_[Full_HQ].mp3 0.5433198809623718 0.24922224879264832 1171.4621798666162 2007.3612807425736 2752.1781762072214 0.016763567647911832\n"
     ]
    },
    {
     "name": "stderr",
     "output_type": "stream",
     "text": [
      "/Users/Andy/opt/anaconda3/lib/python3.7/site-packages/librosa/core/audio.py:161: UserWarning: PySoundFile failed. Trying audioread instead.\n",
      "  warnings.warn('PySoundFile failed. Trying audioread instead.')\n"
     ]
    },
    {
     "name": "stdout",
     "output_type": "stream",
     "text": [
      "./genres_2/Cheeze/16-03_Ring_My_Bell.mp3 0.387954443693161 0.12906241416931152 3346.6354080390524 3130.92700165329 7372.5990383918215 0.14363059200986078\n"
     ]
    },
    {
     "name": "stderr",
     "output_type": "stream",
     "text": [
      "/Users/Andy/opt/anaconda3/lib/python3.7/site-packages/librosa/core/audio.py:161: UserWarning: PySoundFile failed. Trying audioread instead.\n",
      "  warnings.warn('PySoundFile failed. Trying audioread instead.')\n"
     ]
    },
    {
     "name": "stdout",
     "output_type": "stream",
     "text": [
      "./genres_2/Cheeze/Estelle_ft._Kanye_West_-_American_Boy_(Wilfred_Giroux_Edit).mp3 0.5476169586181641 0.13370908796787262 3324.6499005591845 2324.3908201502063 5794.604945348753 0.17591379966647333\n"
     ]
    },
    {
     "name": "stderr",
     "output_type": "stream",
     "text": [
      "/Users/Andy/opt/anaconda3/lib/python3.7/site-packages/librosa/core/audio.py:161: UserWarning: PySoundFile failed. Trying audioread instead.\n",
      "  warnings.warn('PySoundFile failed. Trying audioread instead.')\n"
     ]
    },
    {
     "name": "stdout",
     "output_type": "stream",
     "text": [
      "./genres_2/Cheeze/MK_-_Burning_(Vibe_Mix).mp3 0.37522202730178833 0.153424471616745 3367.884434683001 2529.679546375356 6185.2252438007545 0.2087963130800464\n"
     ]
    },
    {
     "name": "stderr",
     "output_type": "stream",
     "text": [
      "/Users/Andy/opt/anaconda3/lib/python3.7/site-packages/librosa/core/audio.py:161: UserWarning: PySoundFile failed. Trying audioread instead.\n",
      "  warnings.warn('PySoundFile failed. Trying audioread instead.')\n"
     ]
    },
    {
     "name": "stdout",
     "output_type": "stream",
     "text": [
      "./genres_2/Cheeze/04_The_launch_Dj_Dean.mp3 0.5649774074554443 0.20803730189800262 2935.773672894526 2678.348994262225 6025.100148636891 0.12176442865429234\n"
     ]
    },
    {
     "name": "stderr",
     "output_type": "stream",
     "text": [
      "/Users/Andy/opt/anaconda3/lib/python3.7/site-packages/librosa/core/audio.py:161: UserWarning: PySoundFile failed. Trying audioread instead.\n",
      "  warnings.warn('PySoundFile failed. Trying audioread instead.')\n"
     ]
    },
    {
     "name": "stdout",
     "output_type": "stream",
     "text": [
      "./genres_2/Cheeze/Get_Shaky_-_The_Ian_Carey_Project_wlyrics.mp3 0.655661940574646 0.09095171093940735 4558.482709599809 2974.144401958541 8204.225332167198 0.3149210139936195\n"
     ]
    },
    {
     "name": "stderr",
     "output_type": "stream",
     "text": [
      "/Users/Andy/opt/anaconda3/lib/python3.7/site-packages/librosa/core/audio.py:161: UserWarning: PySoundFile failed. Trying audioread instead.\n",
      "  warnings.warn('PySoundFile failed. Trying audioread instead.')\n"
     ]
    },
    {
     "name": "stdout",
     "output_type": "stream",
     "text": [
      "./genres_2/Cheeze/BREATHE.mp3 0.4497952163219452 0.1966870129108429 2629.8415894255986 2384.8105412159935 4843.047203541908 0.1404595961426914\n"
     ]
    },
    {
     "name": "stderr",
     "output_type": "stream",
     "text": [
      "/Users/Andy/opt/anaconda3/lib/python3.7/site-packages/librosa/core/audio.py:161: UserWarning: PySoundFile failed. Trying audioread instead.\n",
      "  warnings.warn('PySoundFile failed. Trying audioread instead.')\n"
     ]
    },
    {
     "name": "stdout",
     "output_type": "stream",
     "text": [
      "./genres_2/Cheeze/ASAP_Rocky_ft_2_Chainz,_Drake_&_Kendrick_Lamar_-_Fuckin_Problem.mp3 0.49409040808677673 0.271633505821228 1894.7249049290767 2454.6425738593503 4194.902785582221 0.053116163355568444\n"
     ]
    },
    {
     "name": "stderr",
     "output_type": "stream",
     "text": [
      "/Users/Andy/opt/anaconda3/lib/python3.7/site-packages/librosa/core/audio.py:161: UserWarning: PySoundFile failed. Trying audioread instead.\n",
      "  warnings.warn('PySoundFile failed. Trying audioread instead.')\n"
     ]
    },
    {
     "name": "stdout",
     "output_type": "stream",
     "text": [
      "./genres_2/Cheeze/Popcaan_-_Ova_Dweet_(Audio).mp3 0.3748762309551239 0.3496415615081787 2295.8221237949974 2640.2217301645405 5272.387298796404 0.07960003987819025\n",
      "./genres_2/Cheeze/02_-_Bad_Girls.wav 0.530081570148468 0.1599849909543991 2774.5398298568484 2781.4548349867546 6087.401550717807 0.11870559019721577\n"
     ]
    },
    {
     "name": "stderr",
     "output_type": "stream",
     "text": [
      "/Users/Andy/opt/anaconda3/lib/python3.7/site-packages/librosa/core/audio.py:161: UserWarning: PySoundFile failed. Trying audioread instead.\n",
      "  warnings.warn('PySoundFile failed. Trying audioread instead.')\n"
     ]
    },
    {
     "name": "stdout",
     "output_type": "stream",
     "text": [
      "./genres_2/Cheeze/03_Move_Your_Feet_(Album_Version).mp3 0.4188166856765747 0.2771579325199127 2965.890187505759 2642.4107225114544 5970.742550029002 0.166512969475058\n"
     ]
    },
    {
     "name": "stderr",
     "output_type": "stream",
     "text": [
      "/Users/Andy/opt/anaconda3/lib/python3.7/site-packages/librosa/core/audio.py:161: UserWarning: PySoundFile failed. Trying audioread instead.\n",
      "  warnings.warn('PySoundFile failed. Trying audioread instead.')\n"
     ]
    },
    {
     "name": "stdout",
     "output_type": "stream",
     "text": [
      "./genres_2/Cheeze/Artful_Dodger_-_Moving_Too_Fast.mp3 0.6126574873924255 0.06602858006954193 1944.0105297416378 2590.2615446192094 4799.531148038718 0.03940803545533643\n"
     ]
    },
    {
     "name": "stderr",
     "output_type": "stream",
     "text": [
      "/Users/Andy/opt/anaconda3/lib/python3.7/site-packages/librosa/core/audio.py:161: UserWarning: PySoundFile failed. Trying audioread instead.\n",
      "  warnings.warn('PySoundFile failed. Trying audioread instead.')\n"
     ]
    },
    {
     "name": "stdout",
     "output_type": "stream",
     "text": [
      "./genres_2/Cheeze/01_Hotline_Bling.mp3 0.5607813596725464 0.3147096633911133 2454.60047439252 2819.959141947519 5919.6074377356435 0.05973684926044084\n"
     ]
    },
    {
     "name": "stderr",
     "output_type": "stream",
     "text": [
      "/Users/Andy/opt/anaconda3/lib/python3.7/site-packages/librosa/core/audio.py:161: UserWarning: PySoundFile failed. Trying audioread instead.\n",
      "  warnings.warn('PySoundFile failed. Trying audioread instead.')\n"
     ]
    },
    {
     "name": "stdout",
     "output_type": "stream",
     "text": [
      "./genres_2/Cheeze/2-11_Move_On_Out.mp3 0.5852652192115784 0.3109997510910034 2783.796166426263 2727.38263617208 5891.20459324246 0.10904985680104408\n"
     ]
    },
    {
     "name": "stderr",
     "output_type": "stream",
     "text": [
      "/Users/Andy/opt/anaconda3/lib/python3.7/site-packages/librosa/core/audio.py:161: UserWarning: PySoundFile failed. Trying audioread instead.\n",
      "  warnings.warn('PySoundFile failed. Trying audioread instead.')\n"
     ]
    },
    {
     "name": "stdout",
     "output_type": "stream",
     "text": [
      "./genres_2/Cheeze/13_Too_Many_Man_-_Boy_Better_Know.mp3 0.4847193956375122 0.2535615861415863 3156.1681682077806 2985.159402351823 6932.617244145156 0.14899375543793503\n"
     ]
    },
    {
     "name": "stderr",
     "output_type": "stream",
     "text": [
      "/Users/Andy/opt/anaconda3/lib/python3.7/site-packages/librosa/core/audio.py:161: UserWarning: PySoundFile failed. Trying audioread instead.\n",
      "  warnings.warn('PySoundFile failed. Trying audioread instead.')\n"
     ]
    },
    {
     "name": "stdout",
     "output_type": "stream",
     "text": [
      "./genres_2/Cheeze/28_My_My_My.mp3 0.4362148642539978 0.17393670976161957 2756.691982119939 2715.7617631471035 6022.052525920823 0.12623486441415313\n"
     ]
    },
    {
     "name": "stderr",
     "output_type": "stream",
     "text": [
      "/Users/Andy/opt/anaconda3/lib/python3.7/site-packages/librosa/core/audio.py:161: UserWarning: PySoundFile failed. Trying audioread instead.\n",
      "  warnings.warn('PySoundFile failed. Trying audioread instead.')\n"
     ]
    },
    {
     "name": "stdout",
     "output_type": "stream",
     "text": [
      "./genres_2/Cheeze/03_Wildfire.mp3 0.384299099445343 0.262280136346817 2285.818763183925 2517.9061902131352 5077.114620341502 0.07816011999709976\n"
     ]
    },
    {
     "name": "stderr",
     "output_type": "stream",
     "text": [
      "/Users/Andy/opt/anaconda3/lib/python3.7/site-packages/librosa/core/audio.py:161: UserWarning: PySoundFile failed. Trying audioread instead.\n",
      "  warnings.warn('PySoundFile failed. Trying audioread instead.')\n"
     ]
    },
    {
     "name": "stdout",
     "output_type": "stream",
     "text": [
      "./genres_2/Cheeze/The_Golden_Boy_-_Gonna_Do.mp3 0.6287235617637634 0.19829684495925903 3670.925782912908 2393.468264570636 6280.650807533352 0.25293082040313225\n"
     ]
    },
    {
     "name": "stderr",
     "output_type": "stream",
     "text": [
      "/Users/Andy/opt/anaconda3/lib/python3.7/site-packages/librosa/core/audio.py:161: UserWarning: PySoundFile failed. Trying audioread instead.\n",
      "  warnings.warn('PySoundFile failed. Trying audioread instead.')\n"
     ]
    },
    {
     "name": "stdout",
     "output_type": "stream",
     "text": [
      "./genres_2/Cheeze/04_-_Taylor_Swift_-_Love_Story.mp3 0.24551406502723694 0.08435996621847153 2270.957965821568 2405.7505781351365 4520.4488448919665 0.09872117894431555\n"
     ]
    },
    {
     "name": "stderr",
     "output_type": "stream",
     "text": [
      "/Users/Andy/opt/anaconda3/lib/python3.7/site-packages/librosa/core/audio.py:161: UserWarning: PySoundFile failed. Trying audioread instead.\n",
      "  warnings.warn('PySoundFile failed. Trying audioread instead.')\n"
     ]
    },
    {
     "name": "stdout",
     "output_type": "stream",
     "text": [
      "./genres_2/Cheeze/Auditorium_1.mp3 0.4199918806552887 0.27174296975135803 1701.8002117584538 1957.6406980666122 3470.3429750942573 0.07464698738399073\n"
     ]
    },
    {
     "name": "stderr",
     "output_type": "stream",
     "text": [
      "/Users/Andy/opt/anaconda3/lib/python3.7/site-packages/librosa/core/audio.py:161: UserWarning: PySoundFile failed. Trying audioread instead.\n",
      "  warnings.warn('PySoundFile failed. Trying audioread instead.')\n"
     ]
    },
    {
     "name": "stdout",
     "output_type": "stream",
     "text": [
      "./genres_2/Cheeze/Real_Nice_-_Oooo!.mp3 0.35825079679489136 0.0631442740559578 4432.592142496078 2967.2887375383893 7972.9807134570765 0.2726456007105568\n",
      "./genres_2/Cheeze/09_-_Check_the_Rhime.wav 0.5163931846618652 0.12119433283805847 1919.996091209323 2395.992895471562 4296.798302457946 0.05292583562935035\n"
     ]
    },
    {
     "name": "stderr",
     "output_type": "stream",
     "text": [
      "/Users/Andy/opt/anaconda3/lib/python3.7/site-packages/librosa/core/audio.py:161: UserWarning: PySoundFile failed. Trying audioread instead.\n",
      "  warnings.warn('PySoundFile failed. Trying audioread instead.')\n"
     ]
    },
    {
     "name": "stdout",
     "output_type": "stream",
     "text": [
      "./genres_2/Cheeze/Big_Room_Tech_House_DJ_Tool_-_TIP!.mp3 0.37190529704093933 0.056169889867305756 2018.2119375108855 1943.969604138755 3925.388019322796 0.10162934128480279\n",
      "./genres_2/Cheeze/03_Dance_Wiv_Me.aif 0.43015360832214355 0.30362072587013245 2739.8344025190363 2672.956276343404 5775.7196767147625 0.11581102269431555\n"
     ]
    },
    {
     "name": "stderr",
     "output_type": "stream",
     "text": [
      "/Users/Andy/opt/anaconda3/lib/python3.7/site-packages/librosa/core/audio.py:161: UserWarning: PySoundFile failed. Trying audioread instead.\n",
      "  warnings.warn('PySoundFile failed. Trying audioread instead.')\n"
     ]
    },
    {
     "name": "stdout",
     "output_type": "stream",
     "text": [
      "./genres_2/Cheeze/08_Millionaire_(featuring_André_3000).m4a 0.4633083939552307 0.2198759764432907 3962.1002333592764 3304.2790845475547 8186.838894377175 0.21393742749419953\n"
     ]
    },
    {
     "name": "stderr",
     "output_type": "stream",
     "text": [
      "/Users/Andy/opt/anaconda3/lib/python3.7/site-packages/librosa/core/audio.py:161: UserWarning: PySoundFile failed. Trying audioread instead.\n",
      "  warnings.warn('PySoundFile failed. Trying audioread instead.')\n"
     ]
    },
    {
     "name": "stdout",
     "output_type": "stream",
     "text": [
      "./genres_2/Cheeze/Section_Boyz_-_Lock_Arff_[Official_Video]_@SectionBoyz_.mp3 0.33781546354293823 0.19451655447483063 1521.3764799040123 1891.8239517225609 2995.863090922274 0.06293730060904873\n"
     ]
    },
    {
     "name": "stderr",
     "output_type": "stream",
     "text": [
      "/Users/Andy/opt/anaconda3/lib/python3.7/site-packages/librosa/core/audio.py:161: UserWarning: PySoundFile failed. Trying audioread instead.\n",
      "  warnings.warn('PySoundFile failed. Trying audioread instead.')\n"
     ]
    },
    {
     "name": "stdout",
     "output_type": "stream",
     "text": [
      "./genres_2/Cheeze/2-14_Champagne_Kisses_[TCTS_Remix].mp3 0.6006715893745422 0.2604377865791321 2868.2070494102413 2659.701909766331 5874.89231755728 0.12730205916473317\n",
      "./genres_2/Cheeze/1-06_Crazy_In_Love.aif 0.49526020884513855 0.19060754776000977 3169.9307044553234 2802.8273410501224 6432.532333055395 0.14891785092807425\n"
     ]
    },
    {
     "name": "stderr",
     "output_type": "stream",
     "text": [
      "/Users/Andy/opt/anaconda3/lib/python3.7/site-packages/librosa/core/audio.py:161: UserWarning: PySoundFile failed. Trying audioread instead.\n",
      "  warnings.warn('PySoundFile failed. Trying audioread instead.')\n"
     ]
    },
    {
     "name": "stdout",
     "output_type": "stream",
     "text": [
      "./genres_2/Cheeze/Karizma_-_Work_It_Out_(PoorDownload).mp3 0.46245378255844116 0.2743036448955536 1523.9438310433925 1816.349725946839 3032.3096609447507 0.06593949390951276\n"
     ]
    },
    {
     "name": "stderr",
     "output_type": "stream",
     "text": [
      "/Users/Andy/opt/anaconda3/lib/python3.7/site-packages/librosa/core/audio.py:161: UserWarning: PySoundFile failed. Trying audioread instead.\n",
      "  warnings.warn('PySoundFile failed. Trying audioread instead.')\n"
     ]
    },
    {
     "name": "stdout",
     "output_type": "stream",
     "text": [
      "./genres_2/Cheeze/20_Me_Myself_And_I.mp3 0.4506016969680786 0.07683680206537247 3561.80941733316 3071.097551153199 7319.5154460013055 0.19730867531902552\n"
     ]
    },
    {
     "name": "stderr",
     "output_type": "stream",
     "text": [
      "/Users/Andy/opt/anaconda3/lib/python3.7/site-packages/librosa/core/audio.py:161: UserWarning: PySoundFile failed. Trying audioread instead.\n",
      "  warnings.warn('PySoundFile failed. Trying audioread instead.')\n"
     ]
    },
    {
     "name": "stdout",
     "output_type": "stream",
     "text": [
      "./genres_2/Cheeze/082._Da_Hool_-_Meet_Her_At_the_Love_Parade.mp3 0.5218902230262756 0.14274032413959503 2413.3922346332834 2528.871780769384 5036.696148582511 0.07354920424883991\n"
     ]
    },
    {
     "name": "stderr",
     "output_type": "stream",
     "text": [
      "/Users/Andy/opt/anaconda3/lib/python3.7/site-packages/librosa/core/audio.py:161: UserWarning: PySoundFile failed. Trying audioread instead.\n",
      "  warnings.warn('PySoundFile failed. Trying audioread instead.')\n"
     ]
    },
    {
     "name": "stdout",
     "output_type": "stream",
     "text": [
      "./genres_2/Cheeze/Figgy_-_Only_You.mp3 0.4673202633857727 0.2149921953678131 2068.1566630848865 2113.9600627084005 4082.0658035455335 0.08265774543213457\n"
     ]
    },
    {
     "name": "stderr",
     "output_type": "stream",
     "text": [
      "/Users/Andy/opt/anaconda3/lib/python3.7/site-packages/librosa/core/audio.py:161: UserWarning: PySoundFile failed. Trying audioread instead.\n",
      "  warnings.warn('PySoundFile failed. Trying audioread instead.')\n"
     ]
    },
    {
     "name": "stdout",
     "output_type": "stream",
     "text": [
      "./genres_2/Cheeze/Kiesza_-_Hideaway-(FullMP3.in).mp3 0.23805303871631622 0.09398207068443298 1457.6542412889078 1737.0131467010608 2666.594935016676 0.07349142618909513\n"
     ]
    },
    {
     "name": "stderr",
     "output_type": "stream",
     "text": [
      "/Users/Andy/opt/anaconda3/lib/python3.7/site-packages/librosa/core/audio.py:161: UserWarning: PySoundFile failed. Trying audioread instead.\n",
      "  warnings.warn('PySoundFile failed. Trying audioread instead.')\n"
     ]
    },
    {
     "name": "stdout",
     "output_type": "stream",
     "text": [
      "./genres_2/Cheeze/Disclosure_-_Bang_That_(Official_Audio).mp3 0.5395875573158264 0.23030568659305573 2713.4032838946023 2256.2185934299755 5058.604059418503 0.14819052711716937\n"
     ]
    },
    {
     "name": "stderr",
     "output_type": "stream",
     "text": [
      "/Users/Andy/opt/anaconda3/lib/python3.7/site-packages/librosa/core/audio.py:161: UserWarning: PySoundFile failed. Trying audioread instead.\n",
      "  warnings.warn('PySoundFile failed. Trying audioread instead.')\n"
     ]
    },
    {
     "name": "stdout",
     "output_type": "stream",
     "text": [
      "./genres_2/Cheeze/Get_Your_Freak_On-_Missy_Elliot.mp3 0.4441714286804199 0.2636859714984894 2029.8824964459775 2088.1708613416854 3927.061713765226 0.10061199427204176\n"
     ]
    },
    {
     "name": "stderr",
     "output_type": "stream",
     "text": [
      "/Users/Andy/opt/anaconda3/lib/python3.7/site-packages/librosa/core/audio.py:161: UserWarning: PySoundFile failed. Trying audioread instead.\n",
      "  warnings.warn('PySoundFile failed. Trying audioread instead.')\n"
     ]
    },
    {
     "name": "stdout",
     "output_type": "stream",
     "text": [
      "./genres_2/Cheeze/99_Souls_-_The_Girl_Is_Mine_(featuring_Destiny's_Child_&_Brandy)_[Official_Video].mp3 0.4692966639995575 0.2784557342529297 2741.971097437204 2723.154051402026 5765.502646461717 0.10845055104408352\n"
     ]
    },
    {
     "name": "stderr",
     "output_type": "stream",
     "text": [
      "/Users/Andy/opt/anaconda3/lib/python3.7/site-packages/librosa/core/audio.py:161: UserWarning: PySoundFile failed. Trying audioread instead.\n",
      "  warnings.warn('PySoundFile failed. Trying audioread instead.')\n"
     ]
    },
    {
     "name": "stdout",
     "output_type": "stream",
     "text": [
      "./genres_2/Cheeze/Pikcha_-_For_You.mp3 0.49657541513442993 0.06632019579410553 597.7948675354119 829.5771737921384 1242.9804189022623 0.023099894866589327\n"
     ]
    },
    {
     "name": "stderr",
     "output_type": "stream",
     "text": [
      "/Users/Andy/opt/anaconda3/lib/python3.7/site-packages/librosa/core/audio.py:161: UserWarning: PySoundFile failed. Trying audioread instead.\n",
      "  warnings.warn('PySoundFile failed. Trying audioread instead.')\n"
     ]
    },
    {
     "name": "stdout",
     "output_type": "stream",
     "text": [
      "./genres_2/Cheeze/18_Run_This_Town_ft._Jay-Z_&_Kanye_West.mp3 0.43755632638931274 0.3067655563354492 2420.9430774906614 2251.4682672440026 4673.02982480786 0.13063506017981438\n"
     ]
    },
    {
     "name": "stderr",
     "output_type": "stream",
     "text": [
      "/Users/Andy/opt/anaconda3/lib/python3.7/site-packages/librosa/core/audio.py:161: UserWarning: PySoundFile failed. Trying audioread instead.\n",
      "  warnings.warn('PySoundFile failed. Trying audioread instead.')\n"
     ]
    },
    {
     "name": "stdout",
     "output_type": "stream",
     "text": [
      "./genres_2/Cheeze/218-diana_ross_-_upside_down-empik.mp3 0.4290233254432678 0.13684988021850586 2241.86231217658 2153.7270176312268 4385.029478139501 0.11625625362529002\n"
     ]
    },
    {
     "name": "stderr",
     "output_type": "stream",
     "text": [
      "/Users/Andy/opt/anaconda3/lib/python3.7/site-packages/librosa/core/audio.py:161: UserWarning: PySoundFile failed. Trying audioread instead.\n",
      "  warnings.warn('PySoundFile failed. Trying audioread instead.')\n"
     ]
    },
    {
     "name": "stdout",
     "output_type": "stream",
     "text": [
      "./genres_2/Cheeze/23_-_AJ_Tracey_-_Ladbroke_Grove.mp3 0.4184478223323822 0.1580030918121338 2642.366174352125 2584.8170735624826 5467.7848798216355 0.11150712369489559\n"
     ]
    },
    {
     "name": "stderr",
     "output_type": "stream",
     "text": [
      "/Users/Andy/opt/anaconda3/lib/python3.7/site-packages/librosa/core/audio.py:161: UserWarning: PySoundFile failed. Trying audioread instead.\n",
      "  warnings.warn('PySoundFile failed. Trying audioread instead.')\n"
     ]
    },
    {
     "name": "stdout",
     "output_type": "stream",
     "text": [
      "./genres_2/Cheeze/Kanye_West_-_All_Day_[CDQ].mp3 0.48555001616477966 0.3404119610786438 2134.0038851719364 2452.358891470269 4580.327137108468 0.07093672962587007\n"
     ]
    },
    {
     "name": "stderr",
     "output_type": "stream",
     "text": [
      "/Users/Andy/opt/anaconda3/lib/python3.7/site-packages/librosa/core/audio.py:161: UserWarning: PySoundFile failed. Trying audioread instead.\n",
      "  warnings.warn('PySoundFile failed. Trying audioread instead.')\n"
     ]
    },
    {
     "name": "stdout",
     "output_type": "stream",
     "text": [
      "./genres_2/Cheeze/01_This_Is_What_You_Came_For_(feat._Rihanna).mp3 0.24910002946853638 0.29091954231262207 2247.381303602064 2728.3672690132908 5136.3184386782195 0.08119063587587007\n",
      "./genres_2/Cheeze/06_MacArthur_Park.aiff 0.3560026288032532 0.07229109108448029 1994.5962569319452 2194.154769808753 4142.343783987094 0.0880854843387471\n"
     ]
    },
    {
     "name": "stderr",
     "output_type": "stream",
     "text": [
      "/Users/Andy/opt/anaconda3/lib/python3.7/site-packages/librosa/core/audio.py:161: UserWarning: PySoundFile failed. Trying audioread instead.\n",
      "  warnings.warn('PySoundFile failed. Trying audioread instead.')\n"
     ]
    },
    {
     "name": "stdout",
     "output_type": "stream",
     "text": [
      "./genres_2/Cheeze/04_Gold_Digger.mp3 0.4544675946235657 0.3592866361141205 2317.365294797327 2704.176351563545 5306.435739468532 0.07361264682424594\n"
     ]
    },
    {
     "name": "stderr",
     "output_type": "stream",
     "text": [
      "/Users/Andy/opt/anaconda3/lib/python3.7/site-packages/librosa/core/audio.py:161: UserWarning: PySoundFile failed. Trying audioread instead.\n",
      "  warnings.warn('PySoundFile failed. Trying audioread instead.')\n"
     ]
    },
    {
     "name": "stdout",
     "output_type": "stream",
     "text": [
      "./genres_2/Cheeze/Rihanna_ft._Drake_-_Work_(Murl.mp3 0.4179304540157318 0.21043463051319122 1885.987910141292 2468.257314383773 4198.375077037413 0.04451856148491879\n"
     ]
    },
    {
     "name": "stderr",
     "output_type": "stream",
     "text": [
      "/Users/Andy/opt/anaconda3/lib/python3.7/site-packages/librosa/core/audio.py:161: UserWarning: PySoundFile failed. Trying audioread instead.\n",
      "  warnings.warn('PySoundFile failed. Trying audioread instead.')\n"
     ]
    },
    {
     "name": "stdout",
     "output_type": "stream",
     "text": [
      "./genres_2/Cheeze/12_Stefflon_Don_feat._Sean_Paul,_Popcaan_&_Sizzla_-_Hurtin'_Me_(The_Remix).mp3 0.40720099210739136 0.29780450463294983 2377.5508132732507 2364.0914930968243 4816.21813143489 0.11624605749709976\n"
     ]
    },
    {
     "name": "stderr",
     "output_type": "stream",
     "text": [
      "/Users/Andy/opt/anaconda3/lib/python3.7/site-packages/librosa/core/audio.py:161: UserWarning: PySoundFile failed. Trying audioread instead.\n",
      "  warnings.warn('PySoundFile failed. Trying audioread instead.')\n"
     ]
    },
    {
     "name": "stdout",
     "output_type": "stream",
     "text": [
      "./genres_2/Cheeze/Robin_S._-_Show_Me_Love.mp3 0.3651443421840668 0.23399420082569122 3410.7425548149695 2972.296718211664 6951.877220490139 0.15062740175464037\n"
     ]
    },
    {
     "name": "stderr",
     "output_type": "stream",
     "text": [
      "/Users/Andy/opt/anaconda3/lib/python3.7/site-packages/librosa/core/audio.py:161: UserWarning: PySoundFile failed. Trying audioread instead.\n",
      "  warnings.warn('PySoundFile failed. Trying audioread instead.')\n"
     ]
    },
    {
     "name": "stdout",
     "output_type": "stream",
     "text": [
      "./genres_2/Cheeze/02_02._Untitled_02_(06.23.2014)_-_www.9xTunes.Com.mp3 0.40983110666275024 0.2208608090877533 1386.4443734409006 1907.0665501689557 2969.0340188152554 0.052062563442575406\n"
     ]
    },
    {
     "name": "stderr",
     "output_type": "stream",
     "text": [
      "/Users/Andy/opt/anaconda3/lib/python3.7/site-packages/librosa/core/audio.py:161: UserWarning: PySoundFile failed. Trying audioread instead.\n",
      "  warnings.warn('PySoundFile failed. Trying audioread instead.')\n"
     ]
    },
    {
     "name": "stdout",
     "output_type": "stream",
     "text": [
      "./genres_2/Cheeze/01._Sing_It_Back_(Boris_Dlugosch_Musical_Mix).mp3 0.6564548015594482 0.12241590768098831 4120.772235028099 2873.1060096044666 7621.704724659223 0.26858301007830626\n"
     ]
    },
    {
     "name": "stderr",
     "output_type": "stream",
     "text": [
      "/Users/Andy/opt/anaconda3/lib/python3.7/site-packages/librosa/core/audio.py:161: UserWarning: PySoundFile failed. Trying audioread instead.\n",
      "  warnings.warn('PySoundFile failed. Trying audioread instead.')\n"
     ]
    },
    {
     "name": "stdout",
     "output_type": "stream",
     "text": [
      "./genres_2/Cheeze/02_-_Lil_Nas_X_-_Old_Town_Road_(Remix).mp3 0.3152635395526886 0.17211699485778809 2117.0884960688854 2286.1780599717813 4205.844250743185 0.08771275920823667\n"
     ]
    },
    {
     "name": "stderr",
     "output_type": "stream",
     "text": [
      "/Users/Andy/opt/anaconda3/lib/python3.7/site-packages/librosa/core/audio.py:161: UserWarning: PySoundFile failed. Trying audioread instead.\n",
      "  warnings.warn('PySoundFile failed. Trying audioread instead.')\n"
     ]
    },
    {
     "name": "stdout",
     "output_type": "stream",
     "text": [
      "./genres_2/Cheeze/13_Work_From_Home.mp3 0.378337562084198 0.19934611022472382 2119.793987571661 2523.2273567903303 4724.7644694388055 0.07368062101218098\n"
     ]
    },
    {
     "name": "stderr",
     "output_type": "stream",
     "text": [
      "/Users/Andy/opt/anaconda3/lib/python3.7/site-packages/librosa/core/audio.py:161: UserWarning: PySoundFile failed. Trying audioread instead.\n",
      "  warnings.warn('PySoundFile failed. Trying audioread instead.')\n"
     ]
    },
    {
     "name": "stdout",
     "output_type": "stream",
     "text": [
      "./genres_2/Cheeze/04_Diamonds_Dancing_1.mp3 0.36873936653137207 0.09314270317554474 2071.2798667341203 2209.1513854902278 4392.698495957801 0.10591171512470998\n"
     ]
    },
    {
     "name": "stderr",
     "output_type": "stream",
     "text": [
      "/Users/Andy/opt/anaconda3/lib/python3.7/site-packages/librosa/core/audio.py:161: UserWarning: PySoundFile failed. Trying audioread instead.\n",
      "  warnings.warn('PySoundFile failed. Trying audioread instead.')\n"
     ]
    },
    {
     "name": "stdout",
     "output_type": "stream",
     "text": [
      "./genres_2/Cheeze/15_Disco_Inferno.m4a 0.4578825831413269 0.16605675220489502 2664.0323449667812 2525.8489428175 5502.95744362674 0.13901627755220416\n",
      "./genres_2/Cheeze/Boogie_2Nite.wav 0.3047129511833191 0.1464659720659256 2796.8761093044595 2595.5616840641705 5585.018432333962 0.1319345000725058\n",
      "./genres_2/Cheeze/Red_Alert.wav 0.47337856888771057 0.2790740430355072 3020.6360388894304 2764.9136738549673 6322.2683439675175 0.144011247462297\n"
     ]
    },
    {
     "name": "stderr",
     "output_type": "stream",
     "text": [
      "/Users/Andy/opt/anaconda3/lib/python3.7/site-packages/librosa/core/audio.py:161: UserWarning: PySoundFile failed. Trying audioread instead.\n",
      "  warnings.warn('PySoundFile failed. Trying audioread instead.')\n"
     ]
    },
    {
     "name": "stdout",
     "output_type": "stream",
     "text": [
      "./genres_2/Cheeze/MK_&_Becky_Hill_-_Piece_Of_Me.mp3 0.4531492292881012 0.1838156282901764 2571.5227973015267 2268.15702190252 5041.317543684745 0.1378629821635731\n"
     ]
    },
    {
     "name": "stderr",
     "output_type": "stream",
     "text": [
      "/Users/Andy/opt/anaconda3/lib/python3.7/site-packages/librosa/core/audio.py:161: UserWarning: PySoundFile failed. Trying audioread instead.\n",
      "  warnings.warn('PySoundFile failed. Trying audioread instead.')\n"
     ]
    },
    {
     "name": "stdout",
     "output_type": "stream",
     "text": [
      "./genres_2/Cheeze/01_10._Light_It_Up_-_www.9xTunes.Com.mp3 0.40387409925460815 0.27320021390914917 2699.8215499832813 2642.4698315491723 5562.311145047854 0.1277529546113689\n"
     ]
    },
    {
     "name": "stderr",
     "output_type": "stream",
     "text": [
      "/Users/Andy/opt/anaconda3/lib/python3.7/site-packages/librosa/core/audio.py:161: UserWarning: PySoundFile failed. Trying audioread instead.\n",
      "  warnings.warn('PySoundFile failed. Trying audioread instead.')\n"
     ]
    },
    {
     "name": "stdout",
     "output_type": "stream",
     "text": [
      "./genres_2/Cheeze/The_Killers_-_Mr._Brightside.mp3 0.39598825573921204 0.1167064905166626 3134.8186878825995 2757.49884995777 6332.4104326783645 0.16692987782772623\n"
     ]
    },
    {
     "name": "stderr",
     "output_type": "stream",
     "text": [
      "/Users/Andy/opt/anaconda3/lib/python3.7/site-packages/librosa/core/audio.py:161: UserWarning: PySoundFile failed. Trying audioread instead.\n",
      "  warnings.warn('PySoundFile failed. Trying audioread instead.')\n"
     ]
    },
    {
     "name": "stdout",
     "output_type": "stream",
     "text": [
      "./genres_2/Cheeze/2-14_Enemies_In_The_Dance.mp3 0.5744090676307678 0.23941273987293243 2624.3413815747517 2539.782925156834 5331.915863815981 0.1023442031612529\n"
     ]
    },
    {
     "name": "stderr",
     "output_type": "stream",
     "text": [
      "/Users/Andy/opt/anaconda3/lib/python3.7/site-packages/librosa/core/audio.py:161: UserWarning: PySoundFile failed. Trying audioread instead.\n",
      "  warnings.warn('PySoundFile failed. Trying audioread instead.')\n"
     ]
    },
    {
     "name": "stdout",
     "output_type": "stream",
     "text": [
      "./genres_2/Cheeze/07_Needed_Me.mp3 0.3898554742336273 0.18979236483573914 1985.1862120894386 2367.155876402741 4225.778700967952 0.07255224949245939\n"
     ]
    },
    {
     "name": "stderr",
     "output_type": "stream",
     "text": [
      "/Users/Andy/opt/anaconda3/lib/python3.7/site-packages/librosa/core/audio.py:161: UserWarning: PySoundFile failed. Trying audioread instead.\n",
      "  warnings.warn('PySoundFile failed. Trying audioread instead.')\n"
     ]
    },
    {
     "name": "stdout",
     "output_type": "stream",
     "text": [
      "./genres_2/Cheeze/11_Confess_To_Me_(Featuring_Jessie_Ware)_[Hannah_Wants_&_Chris_Lorenzo_Remix].mp3 0.3865633010864258 0.09695268422365189 2656.623466534724 2348.5685500573245 5322.673073611514 0.14546023056844548\n"
     ]
    },
    {
     "name": "stderr",
     "output_type": "stream",
     "text": [
      "/Users/Andy/opt/anaconda3/lib/python3.7/site-packages/librosa/core/audio.py:161: UserWarning: PySoundFile failed. Trying audioread instead.\n",
      "  warnings.warn('PySoundFile failed. Trying audioread instead.')\n"
     ]
    },
    {
     "name": "stdout",
     "output_type": "stream",
     "text": [
      "./genres_2/Cheeze/1-02_I_Wanna_Feel.mp3 0.39769336581230164 0.2751970589160919 2653.35498142602 2430.0888787578947 5379.728567738544 0.12517106837296985\n"
     ]
    },
    {
     "name": "stderr",
     "output_type": "stream",
     "text": [
      "/Users/Andy/opt/anaconda3/lib/python3.7/site-packages/librosa/core/audio.py:161: UserWarning: PySoundFile failed. Trying audioread instead.\n",
      "  warnings.warn('PySoundFile failed. Trying audioread instead.')\n"
     ]
    },
    {
     "name": "stdout",
     "output_type": "stream",
     "text": [
      "./genres_2/Cheeze/Fekky_-_Way_Too_Much_feat._Skepta.mp3 0.5232306718826294 0.2656130790710449 3031.772778792723 2609.61408414993 5941.3904460013055 0.13732711898201855\n"
     ]
    },
    {
     "name": "stderr",
     "output_type": "stream",
     "text": [
      "/Users/Andy/opt/anaconda3/lib/python3.7/site-packages/librosa/core/audio.py:161: UserWarning: PySoundFile failed. Trying audioread instead.\n",
      "  warnings.warn('PySoundFile failed. Trying audioread instead.')\n"
     ]
    },
    {
     "name": "stdout",
     "output_type": "stream",
     "text": [
      "./genres_2/Cheeze/03_Power.mp3 0.4298376142978668 0.3152380883693695 2330.266251224955 2499.962102417161 4947.116025141387 0.09572238435324826\n"
     ]
    },
    {
     "name": "stderr",
     "output_type": "stream",
     "text": [
      "/Users/Andy/opt/anaconda3/lib/python3.7/site-packages/librosa/core/audio.py:161: UserWarning: PySoundFile failed. Trying audioread instead.\n",
      "  warnings.warn('PySoundFile failed. Trying audioread instead.')\n"
     ]
    },
    {
     "name": "stdout",
     "output_type": "stream",
     "text": [
      "./genres_2/Cheeze/Huxley_-_Atonement.mp3 0.4474215805530548 0.07504446804523468 3709.8399190516443 2759.3944161433537 6941.23552149797 0.21559146606728538\n"
     ]
    },
    {
     "name": "stderr",
     "output_type": "stream",
     "text": [
      "/Users/Andy/opt/anaconda3/lib/python3.7/site-packages/librosa/core/audio.py:161: UserWarning: PySoundFile failed. Trying audioread instead.\n",
      "  warnings.warn('PySoundFile failed. Trying audioread instead.')\n"
     ]
    },
    {
     "name": "stdout",
     "output_type": "stream",
     "text": [
      "./genres_2/Cheeze/01_Pjanoo_(Radio_Edit).mp3 0.3489741086959839 0.19828996062278748 3068.7398758349345 2611.041330059988 6158.221308095272 0.1691061847447796\n",
      "./genres_2/Cheeze/01_Heads_Will_Roll_(A-Trak_Club_Mix).aiff 0.5890143513679504 0.30106574296951294 921.2699935745541 1307.6783310027324 1644.1424942901683 0.035365837079466354\n"
     ]
    },
    {
     "name": "stderr",
     "output_type": "stream",
     "text": [
      "/Users/Andy/opt/anaconda3/lib/python3.7/site-packages/librosa/core/audio.py:161: UserWarning: PySoundFile failed. Trying audioread instead.\n",
      "  warnings.warn('PySoundFile failed. Trying audioread instead.')\n"
     ]
    },
    {
     "name": "stdout",
     "output_type": "stream",
     "text": [
      "./genres_2/Cheeze/Clint_Eastwood_(Ed_Case_Remix).mp3 0.4025558829307556 0.2033831924200058 3010.732462236056 2677.5444961603075 6010.261723281613 0.14543190799013922\n"
     ]
    },
    {
     "name": "stderr",
     "output_type": "stream",
     "text": [
      "/Users/Andy/opt/anaconda3/lib/python3.7/site-packages/librosa/core/audio.py:161: UserWarning: PySoundFile failed. Trying audioread instead.\n",
      "  warnings.warn('PySoundFile failed. Trying audioread instead.')\n"
     ]
    },
    {
     "name": "stdout",
     "output_type": "stream",
     "text": [
      "./genres_2/Cheeze/Can't_Stop_Playing_(Oliver_Heldens_&_Gregor_Salto_Remix).mp3 0.47806331515312195 0.09914261847734451 3269.1538323150016 2900.7726213250858 6959.396355224043 0.19929352160672853\n"
     ]
    },
    {
     "name": "stderr",
     "output_type": "stream",
     "text": [
      "/Users/Andy/opt/anaconda3/lib/python3.7/site-packages/librosa/core/audio.py:161: UserWarning: PySoundFile failed. Trying audioread instead.\n",
      "  warnings.warn('PySoundFile failed. Trying audioread instead.')\n"
     ]
    },
    {
     "name": "stdout",
     "output_type": "stream",
     "text": [
      "./genres_2/Cheeze/08_Million_Dollar_Bill_-_Whitney_Houston.mp3 0.3698147237300873 0.24601218104362488 2318.269428262328 2317.659665756466 4734.7816555793215 0.10706161180394431\n",
      "./genres_2/Cheeze/Skee-Lo_-_I_Wish_(1995).wav 0.4578744173049927 0.19729819893836975 2639.5249109995148 2627.5137517751787 5634.979460466212 0.11114346178944315\n"
     ]
    },
    {
     "name": "stderr",
     "output_type": "stream",
     "text": [
      "/Users/Andy/opt/anaconda3/lib/python3.7/site-packages/librosa/core/audio.py:161: UserWarning: PySoundFile failed. Trying audioread instead.\n",
      "  warnings.warn('PySoundFile failed. Trying audioread instead.')\n"
     ]
    },
    {
     "name": "stdout",
     "output_type": "stream",
     "text": [
      "./genres_2/Cheeze/13_Rude_Boy.mp3 0.3624067008495331 0.27049994468688965 3085.9788198323117 2772.4948391001158 6303.108289678799 0.14974713602088166\n"
     ]
    },
    {
     "name": "stderr",
     "output_type": "stream",
     "text": [
      "/Users/Andy/opt/anaconda3/lib/python3.7/site-packages/librosa/core/audio.py:161: UserWarning: PySoundFile failed. Trying audioread instead.\n",
      "  warnings.warn('PySoundFile failed. Trying audioread instead.')\n"
     ]
    },
    {
     "name": "stdout",
     "output_type": "stream",
     "text": [
      "./genres_2/Cheeze/15_Little_Man_(Exemen_Rework).mp3 0.39797475934028625 0.14195723831653595 3871.0983993905766 2942.220338195047 7233.057886818446 0.2054587804524362\n",
      "./genres_2/Cheeze/04_Over_&_Over.aif 0.45652100443840027 0.15055283904075623 3779.2076757816417 2970.220332259286 7475.1690291473315 0.21197410636600927\n"
     ]
    },
    {
     "name": "stderr",
     "output_type": "stream",
     "text": [
      "/Users/Andy/opt/anaconda3/lib/python3.7/site-packages/librosa/core/audio.py:161: UserWarning: PySoundFile failed. Trying audioread instead.\n",
      "  warnings.warn('PySoundFile failed. Trying audioread instead.')\n"
     ]
    },
    {
     "name": "stdout",
     "output_type": "stream",
     "text": [
      "./genres_2/Cheeze/211-salt_n_pepper-push_it.mp3 0.5636528730392456 0.15607906877994537 3443.672765129998 2759.739722612722 6630.9525562826275 0.18266930104408352\n"
     ]
    },
    {
     "name": "stderr",
     "output_type": "stream",
     "text": [
      "/Users/Andy/opt/anaconda3/lib/python3.7/site-packages/librosa/core/audio.py:161: UserWarning: PySoundFile failed. Trying audioread instead.\n",
      "  warnings.warn('PySoundFile failed. Trying audioread instead.')\n"
     ]
    },
    {
     "name": "stdout",
     "output_type": "stream",
     "text": [
      "./genres_2/Cheeze/1-02_o2._Hypnotize.mp3 0.43708574771881104 0.2811207175254822 3093.653732647634 2774.3087385573067 6274.730425699681 0.14463321128190254\n"
     ]
    },
    {
     "name": "stderr",
     "output_type": "stream",
     "text": [
      "/Users/Andy/opt/anaconda3/lib/python3.7/site-packages/librosa/core/audio.py:161: UserWarning: PySoundFile failed. Trying audioread instead.\n",
      "  warnings.warn('PySoundFile failed. Trying audioread instead.')\n"
     ]
    },
    {
     "name": "stdout",
     "output_type": "stream",
     "text": [
      "./genres_2/Cheeze/07_Mask_Off.mp3 0.6514690518379211 0.38726523518562317 1781.3949651833555 2403.9902124123055 4156.432793920389 0.020908860208816705\n"
     ]
    },
    {
     "name": "stderr",
     "output_type": "stream",
     "text": [
      "/Users/Andy/opt/anaconda3/lib/python3.7/site-packages/librosa/core/audio.py:161: UserWarning: PySoundFile failed. Trying audioread instead.\n",
      "  warnings.warn('PySoundFile failed. Trying audioread instead.')\n"
     ]
    },
    {
     "name": "stdout",
     "output_type": "stream",
     "text": [
      "./genres_2/Cheeze/Wilfred_Giroux_-_Stronger_(Extended_Mix).mp3 0.5273100733757019 0.1801459789276123 3419.842775021602 2427.34699802766 6081.006539116879 0.18415680285672853\n"
     ]
    },
    {
     "name": "stderr",
     "output_type": "stream",
     "text": [
      "/Users/Andy/opt/anaconda3/lib/python3.7/site-packages/librosa/core/audio.py:161: UserWarning: PySoundFile failed. Trying audioread instead.\n",
      "  warnings.warn('PySoundFile failed. Trying audioread instead.')\n"
     ]
    },
    {
     "name": "stdout",
     "output_type": "stream",
     "text": [
      "./genres_2/Cheeze/Beyonce_-_Bow_Down_-I_Been_On_Lyrics.mp3 0.3755667209625244 0.17281605303287506 2707.2521364039044 2916.3761226871848 6141.184597502175 0.08626037739269142\n"
     ]
    },
    {
     "name": "stderr",
     "output_type": "stream",
     "text": [
      "/Users/Andy/opt/anaconda3/lib/python3.7/site-packages/librosa/core/audio.py:161: UserWarning: PySoundFile failed. Trying audioread instead.\n",
      "  warnings.warn('PySoundFile failed. Trying audioread instead.')\n"
     ]
    },
    {
     "name": "stdout",
     "output_type": "stream",
     "text": [
      "./genres_2/Cheeze/Disclosure_-_Voices_ft._Sasha_Keable.mp3 0.5069801807403564 0.27402105927467346 3213.7443931351486 2740.59154694279 6278.227697668938 0.15647204901392112\n"
     ]
    },
    {
     "name": "stderr",
     "output_type": "stream",
     "text": [
      "/Users/Andy/opt/anaconda3/lib/python3.7/site-packages/librosa/core/audio.py:161: UserWarning: PySoundFile failed. Trying audioread instead.\n",
      "  warnings.warn('PySoundFile failed. Trying audioread instead.')\n"
     ]
    },
    {
     "name": "stdout",
     "output_type": "stream",
     "text": [
      "./genres_2/Cheeze/Julio_Bashmore_-_Au_Seve.mp3 0.5197104215621948 0.15616314113140106 3902.050964674634 2738.861643178939 7165.160849586717 0.2989923959541763\n",
      "./genres_2/Cheeze/Welcome_to_Jamrock.wav 0.386965811252594 0.2558155357837677 2784.679294259187 2834.8477337642003 6121.774738072796 0.1022343115574246\n"
     ]
    },
    {
     "name": "stderr",
     "output_type": "stream",
     "text": [
      "/Users/Andy/opt/anaconda3/lib/python3.7/site-packages/librosa/core/audio.py:161: UserWarning: PySoundFile failed. Trying audioread instead.\n",
      "  warnings.warn('PySoundFile failed. Trying audioread instead.')\n"
     ]
    },
    {
     "name": "stdout",
     "output_type": "stream",
     "text": [
      "./genres_2/Cheeze/19_Sing_That_Song_(Featuring_Celeste).mp3 0.39747756719589233 0.22495558857917786 3392.600555874819 2816.9028955785343 6576.71986024507 0.16588534113979117\n"
     ]
    },
    {
     "name": "stderr",
     "output_type": "stream",
     "text": [
      "/Users/Andy/opt/anaconda3/lib/python3.7/site-packages/librosa/core/audio.py:161: UserWarning: PySoundFile failed. Trying audioread instead.\n",
      "  warnings.warn('PySoundFile failed. Trying audioread instead.')\n"
     ]
    },
    {
     "name": "stdout",
     "output_type": "stream",
     "text": [
      "./genres_2/Cheeze/01_Blue_Monday_2.mp3 0.456744521856308 0.08797955513000488 2148.9105688706727 1837.8110132253203 4073.622389791183 0.10028005365429234\n"
     ]
    },
    {
     "name": "stderr",
     "output_type": "stream",
     "text": [
      "/Users/Andy/opt/anaconda3/lib/python3.7/site-packages/librosa/core/audio.py:161: UserWarning: PySoundFile failed. Trying audioread instead.\n",
      "  warnings.warn('PySoundFile failed. Trying audioread instead.')\n"
     ]
    },
    {
     "name": "stdout",
     "output_type": "stream",
     "text": [
      "./genres_2/Cheeze/01_Swimming_Pools_(Drank)_1.mp3 0.4397086501121521 0.15262266993522644 1663.5577509091409 2033.4651909764016 3271.3981610716355 0.05744158751450116\n"
     ]
    },
    {
     "name": "stderr",
     "output_type": "stream",
     "text": [
      "/Users/Andy/opt/anaconda3/lib/python3.7/site-packages/librosa/core/audio.py:161: UserWarning: PySoundFile failed. Trying audioread instead.\n",
      "  warnings.warn('PySoundFile failed. Trying audioread instead.')\n"
     ]
    },
    {
     "name": "stdout",
     "output_type": "stream",
     "text": [
      "./genres_2/Cheeze/01_Pump_Up_The_Jam.mp3 0.4837803542613983 0.1113993376493454 3107.0646269050635 2836.797230452 6475.973447016387 0.14645378661542924\n",
      "./genres_2/Cheeze/No_More_(Charles_Murdoch_Remix)_[Future_Classic].wav 0.4744076132774353 0.23441530764102936 3132.744778928979 2684.294590833099 5832.325521588602 0.13288387289733178\n"
     ]
    },
    {
     "name": "stderr",
     "output_type": "stream",
     "text": [
      "/Users/Andy/opt/anaconda3/lib/python3.7/site-packages/librosa/core/audio.py:161: UserWarning: PySoundFile failed. Trying audioread instead.\n",
      "  warnings.warn('PySoundFile failed. Trying audioread instead.')\n"
     ]
    },
    {
     "name": "stdout",
     "output_type": "stream",
     "text": [
      "./genres_2/Cheeze/Karma_Kid_-_Like_I'm_On_Fire_(Kartell_Remix).mp3 0.34165844321250916 0.06616892665624619 1375.1834331021246 1741.4241772827547 2714.5075609955047 0.06037240791763341\n"
     ]
    },
    {
     "name": "stderr",
     "output_type": "stream",
     "text": [
      "/Users/Andy/opt/anaconda3/lib/python3.7/site-packages/librosa/core/audio.py:161: UserWarning: PySoundFile failed. Trying audioread instead.\n",
      "  warnings.warn('PySoundFile failed. Trying audioread instead.')\n"
     ]
    },
    {
     "name": "stdout",
     "output_type": "stream",
     "text": [
      "./genres_2/Cheeze/1-10_Mo_Money_Mo_Problems_(feat._Mase_&_Puff_Daddy).mp3 0.4570694863796234 0.18190141022205353 2751.1806404185318 2627.8947507000876 5765.5775880039155 0.1330005619199536\n"
     ]
    },
    {
     "name": "stderr",
     "output_type": "stream",
     "text": [
      "/Users/Andy/opt/anaconda3/lib/python3.7/site-packages/librosa/core/audio.py:161: UserWarning: PySoundFile failed. Trying audioread instead.\n",
      "  warnings.warn('PySoundFile failed. Trying audioread instead.')\n"
     ]
    },
    {
     "name": "stdout",
     "output_type": "stream",
     "text": [
      "./genres_2/Cheeze/01_Senorita_1.mp3 0.42564448714256287 0.1981988400220871 3369.5960832777037 3108.7145228147 7191.865019123405 0.15101485462587008\n"
     ]
    },
    {
     "name": "stderr",
     "output_type": "stream",
     "text": [
      "/Users/Andy/opt/anaconda3/lib/python3.7/site-packages/librosa/core/audio.py:161: UserWarning: PySoundFile failed. Trying audioread instead.\n",
      "  warnings.warn('PySoundFile failed. Trying audioread instead.')\n"
     ]
    },
    {
     "name": "stdout",
     "output_type": "stream",
     "text": [
      "./genres_2/Cheeze/01_Heartbroken_(Ft._Jodie_Aysha).mp3 0.3181588649749756 0.1473335325717926 3031.92479042632 2735.087628610016 6176.532024905742 0.1398251703886311\n"
     ]
    },
    {
     "name": "stderr",
     "output_type": "stream",
     "text": [
      "/Users/Andy/opt/anaconda3/lib/python3.7/site-packages/librosa/core/audio.py:161: UserWarning: PySoundFile failed. Trying audioread instead.\n",
      "  warnings.warn('PySoundFile failed. Trying audioread instead.')\n"
     ]
    },
    {
     "name": "stdout",
     "output_type": "stream",
     "text": [
      "./genres_2/Cheeze/JDZmedia_-_Devilman_Ft_Badness_-_Drum_And_Bass_Fat.mp3 0.4671647250652313 0.24126677215099335 2254.7916217607535 2268.3050559209523 4600.911080698956 0.09002841321055685\n"
     ]
    },
    {
     "name": "stderr",
     "output_type": "stream",
     "text": [
      "/Users/Andy/opt/anaconda3/lib/python3.7/site-packages/librosa/core/audio.py:161: UserWarning: PySoundFile failed. Trying audioread instead.\n",
      "  warnings.warn('PySoundFile failed. Trying audioread instead.')\n"
     ]
    },
    {
     "name": "stdout",
     "output_type": "stream",
     "text": [
      "./genres_2/Cheeze/Thinking_About_You_ft__Ayah_Marar___Calvin_Harris_Official_Video._[Letra_Español_and__English]].mp3 0.5680963397026062 0.3137626349925995 1952.5222630031128 2557.5512218392378 4475.209133918213 0.03823094910092807\n",
      "./genres_2/Cheeze/03_Dance_Wiv_Me_1.aif 0.43015360832214355 0.30362072587013245 2739.8344025190363 2672.956276343404 5775.7196767147625 0.11581102269431555\n"
     ]
    },
    {
     "name": "stderr",
     "output_type": "stream",
     "text": [
      "/Users/Andy/opt/anaconda3/lib/python3.7/site-packages/librosa/core/audio.py:161: UserWarning: PySoundFile failed. Trying audioread instead.\n",
      "  warnings.warn('PySoundFile failed. Trying audioread instead.')\n"
     ]
    },
    {
     "name": "stdout",
     "output_type": "stream",
     "text": [
      "./genres_2/Cheeze/Room_5_&_Cheatham_-_Make_Luv'.mp3 0.5089221000671387 0.12841534614562988 2946.236116576914 2833.7700351212884 6328.913160709107 0.13845322469547564\n",
      "./genres_2/Cheeze/06_Redbone.aiff 0.4053744673728943 0.19137541949748993 1129.6673236425354 1763.4371029432116 2405.948251250725 0.03601385767111369\n"
     ]
    },
    {
     "name": "stderr",
     "output_type": "stream",
     "text": [
      "/Users/Andy/opt/anaconda3/lib/python3.7/site-packages/librosa/core/audio.py:161: UserWarning: PySoundFile failed. Trying audioread instead.\n",
      "  warnings.warn('PySoundFile failed. Trying audioread instead.')\n"
     ]
    },
    {
     "name": "stdout",
     "output_type": "stream",
     "text": [
      "./genres_2/Cheeze/2-10_Roses.mp3 0.4396621584892273 0.31328466534614563 2186.9742621209857 2427.990629619832 4760.036955300174 0.060537811774941996\n"
     ]
    },
    {
     "name": "stderr",
     "output_type": "stream",
     "text": [
      "/Users/Andy/opt/anaconda3/lib/python3.7/site-packages/librosa/core/audio.py:161: UserWarning: PySoundFile failed. Trying audioread instead.\n",
      "  warnings.warn('PySoundFile failed. Trying audioread instead.')\n"
     ]
    },
    {
     "name": "stdout",
     "output_type": "stream",
     "text": [
      "./genres_2/Cheeze/01_Jumpstart_(feat._DJ_Zinc).mp3 0.3867589831352234 0.20046915113925934 968.433917481077 1247.1948466882536 1740.9170057823376 0.04948520881670534\n",
      "./genres_2/Cheeze/Turn_My_Swag_On.wav 0.45299801230430603 0.40738561749458313 2712.7941075719705 2731.0635883965892 5968.993914044374 0.09555244888341068\n"
     ]
    },
    {
     "name": "stderr",
     "output_type": "stream",
     "text": [
      "/Users/Andy/opt/anaconda3/lib/python3.7/site-packages/librosa/core/audio.py:161: UserWarning: PySoundFile failed. Trying audioread instead.\n",
      "  warnings.warn('PySoundFile failed. Trying audioread instead.')\n"
     ]
    },
    {
     "name": "stdout",
     "output_type": "stream",
     "text": [
      "./genres_2/Cheeze/Justin_Timberlake_-_Can't_Stop_the_Feeling_(_Lyrics_Video_).mp3 0.4105830788612366 0.1584743708372116 2796.1857644349807 2690.5114856284736 5786.611180847593 0.13662585194315546\n"
     ]
    },
    {
     "name": "stderr",
     "output_type": "stream",
     "text": [
      "/Users/Andy/opt/anaconda3/lib/python3.7/site-packages/librosa/core/audio.py:161: UserWarning: PySoundFile failed. Trying audioread instead.\n",
      "  warnings.warn('PySoundFile failed. Trying audioread instead.')\n"
     ]
    },
    {
     "name": "stdout",
     "output_type": "stream",
     "text": [
      "./genres_2/Cheeze/Just_Kiddin_-_Thinking_About_It_(Original_Mix).mp3 0.49389809370040894 0.16731226444244385 2578.184732706466 2477.0345093390815 5244.633947668938 0.10627990864269142\n"
     ]
    },
    {
     "name": "stderr",
     "output_type": "stream",
     "text": [
      "/Users/Andy/opt/anaconda3/lib/python3.7/site-packages/librosa/core/audio.py:161: UserWarning: PySoundFile failed. Trying audioread instead.\n",
      "  warnings.warn('PySoundFile failed. Trying audioread instead.')\n"
     ]
    },
    {
     "name": "stdout",
     "output_type": "stream",
     "text": [
      "./genres_2/Cheeze/Luxury_-_J.A.W.S.mp3 0.5544142127037048 0.16336096823215485 2854.6021413714075 2517.586882204628 5600.356467970562 0.1427616553074246\n"
     ]
    },
    {
     "name": "stderr",
     "output_type": "stream",
     "text": [
      "/Users/Andy/opt/anaconda3/lib/python3.7/site-packages/librosa/core/audio.py:161: UserWarning: PySoundFile failed. Trying audioread instead.\n",
      "  warnings.warn('PySoundFile failed. Trying audioread instead.')\n"
     ]
    },
    {
     "name": "stdout",
     "output_type": "stream",
     "text": [
      "./genres_2/Cheeze/17_-_Vengaboys_-_We_Like_To_Party.mp3 0.4426097571849823 0.1262974590063095 2671.7570259967215 2569.953795660473 5601.905259842662 0.13099532337587008\n"
     ]
    },
    {
     "name": "stderr",
     "output_type": "stream",
     "text": [
      "/Users/Andy/opt/anaconda3/lib/python3.7/site-packages/librosa/core/audio.py:161: UserWarning: PySoundFile failed. Trying audioread instead.\n",
      "  warnings.warn('PySoundFile failed. Trying audioread instead.')\n"
     ]
    },
    {
     "name": "stdout",
     "output_type": "stream",
     "text": [
      "./genres_2/Cheeze/John_Bear_-_For_Real.mp3 0.3259997069835663 0.08220399916172028 2255.4149252634033 2489.2334165084144 5046.563451638631 0.08330689892691415\n",
      "./genres_2/Cheeze/03_-_Romeo.wav 0.46171852946281433 0.24084362387657166 3136.4400141337665 2843.0488852303206 6541.247530271172 0.14391268488979117\n"
     ]
    },
    {
     "name": "stderr",
     "output_type": "stream",
     "text": [
      "/Users/Andy/opt/anaconda3/lib/python3.7/site-packages/librosa/core/audio.py:161: UserWarning: PySoundFile failed. Trying audioread instead.\n",
      "  warnings.warn('PySoundFile failed. Trying audioread instead.')\n"
     ]
    },
    {
     "name": "stdout",
     "output_type": "stream",
     "text": [
      "./genres_2/Cheeze/01_Crank_That_(Soulja_Boy).mp3 0.33844897150993347 0.39933478832244873 2522.320672642745 2504.9611348648764 5467.2852695403135 0.10753176660382831\n"
     ]
    },
    {
     "name": "stderr",
     "output_type": "stream",
     "text": [
      "/Users/Andy/opt/anaconda3/lib/python3.7/site-packages/librosa/core/audio.py:161: UserWarning: PySoundFile failed. Trying audioread instead.\n",
      "  warnings.warn('PySoundFile failed. Trying audioread instead.')\n"
     ]
    },
    {
     "name": "stdout",
     "output_type": "stream",
     "text": [
      "./genres_2/Cheeze/07_It_Was_a_Good_Day.mp3 0.4266648292541504 0.23267832398414612 2088.34929214209 2155.985302182 4249.6600724151685 0.10355187790023201\n"
     ]
    },
    {
     "name": "stderr",
     "output_type": "stream",
     "text": [
      "/Users/Andy/opt/anaconda3/lib/python3.7/site-packages/librosa/core/audio.py:161: UserWarning: PySoundFile failed. Trying audioread instead.\n",
      "  warnings.warn('PySoundFile failed. Trying audioread instead.')\n"
     ]
    },
    {
     "name": "stdout",
     "output_type": "stream",
     "text": [
      "./genres_2/Cheeze/35_Azealia_Banks_-_212.mp3 0.44806942343711853 0.148821622133255 3579.8485032662225 2924.3986233056576 7153.694793630365 0.18709555358178653\n"
     ]
    },
    {
     "name": "stderr",
     "output_type": "stream",
     "text": [
      "/Users/Andy/opt/anaconda3/lib/python3.7/site-packages/librosa/core/audio.py:161: UserWarning: PySoundFile failed. Trying audioread instead.\n",
      "  warnings.warn('PySoundFile failed. Trying audioread instead.')\n"
     ]
    },
    {
     "name": "stdout",
     "output_type": "stream",
     "text": [
      "./genres_2/Cheeze/2-11_One_For_Me.mp3 0.5849164724349976 0.312385231256485 3207.7734039105776 2888.3277088689747 6589.360000362529 0.1213985009425754\n"
     ]
    },
    {
     "name": "stderr",
     "output_type": "stream",
     "text": [
      "/Users/Andy/opt/anaconda3/lib/python3.7/site-packages/librosa/core/audio.py:161: UserWarning: PySoundFile failed. Trying audioread instead.\n",
      "  warnings.warn('PySoundFile failed. Trying audioread instead.')\n"
     ]
    },
    {
     "name": "stdout",
     "output_type": "stream",
     "text": [
      "./genres_2/Cheeze/06_Monster.mp3 0.5650456547737122 0.49169284105300903 2009.4905411568814 2428.938787473199 4537.710380111659 0.041261464979698376\n",
      "./genres_2/Cheeze/088_-_Black_Eyed_Peas_-_Pump_It.wav 0.4912016987800598 0.32843974232673645 2740.737262340364 2745.1563255654305 5979.360827381815 0.11624152588457076\n"
     ]
    },
    {
     "name": "stderr",
     "output_type": "stream",
     "text": [
      "/Users/Andy/opt/anaconda3/lib/python3.7/site-packages/librosa/core/audio.py:161: UserWarning: PySoundFile failed. Trying audioread instead.\n",
      "  warnings.warn('PySoundFile failed. Trying audioread instead.')\n"
     ]
    },
    {
     "name": "stdout",
     "output_type": "stream",
     "text": [
      "./genres_2/Cheeze/26_-_Serani_-_No_Games.mp3 0.3954828977584839 0.2470005303621292 2827.407778566043 2887.50126804904 6509.971926660382 0.11465092988689095\n"
     ]
    },
    {
     "name": "stderr",
     "output_type": "stream",
     "text": [
      "/Users/Andy/opt/anaconda3/lib/python3.7/site-packages/librosa/core/audio.py:161: UserWarning: PySoundFile failed. Trying audioread instead.\n",
      "  warnings.warn('PySoundFile failed. Trying audioread instead.')\n"
     ]
    },
    {
     "name": "stdout",
     "output_type": "stream",
     "text": [
      "./genres_2/Cheeze/2-14_Tell_You_Why.mp3 0.5161353945732117 0.3180362582206726 2811.4771695139875 2661.078359401855 5703.301166437065 0.09610983722447795\n"
     ]
    },
    {
     "name": "stderr",
     "output_type": "stream",
     "text": [
      "/Users/Andy/opt/anaconda3/lib/python3.7/site-packages/librosa/core/audio.py:161: UserWarning: PySoundFile failed. Trying audioread instead.\n",
      "  warnings.warn('PySoundFile failed. Trying audioread instead.')\n"
     ]
    },
    {
     "name": "stdout",
     "output_type": "stream",
     "text": [
      "./genres_2/Cheeze/06_679_(feat._Remy_Boyz).mp3 0.5067762732505798 0.35819146037101746 2336.599063710422 2602.644804906853 5271.63788337442 0.0662204538863109\n"
     ]
    },
    {
     "name": "stderr",
     "output_type": "stream",
     "text": [
      "/Users/Andy/opt/anaconda3/lib/python3.7/site-packages/librosa/core/audio.py:161: UserWarning: PySoundFile failed. Trying audioread instead.\n",
      "  warnings.warn('PySoundFile failed. Trying audioread instead.')\n"
     ]
    },
    {
     "name": "stdout",
     "output_type": "stream",
     "text": [
      "./genres_2/Cheeze/PIMP__ft_Snoop_Dogg.mp3 0.44995608925819397 0.1391497254371643 1893.5600020055483 2298.4576103408695 4010.72145537268 0.07647322723317865\n"
     ]
    },
    {
     "name": "stderr",
     "output_type": "stream",
     "text": [
      "/Users/Andy/opt/anaconda3/lib/python3.7/site-packages/librosa/core/audio.py:161: UserWarning: PySoundFile failed. Trying audioread instead.\n",
      "  warnings.warn('PySoundFile failed. Trying audioread instead.')\n"
     ]
    },
    {
     "name": "stdout",
     "output_type": "stream",
     "text": [
      "./genres_2/Cheeze/DJ_Longdick_–_James_Manley(novteh.audio).mp3 0.4855822026729584 0.23314066231250763 1719.7397374447023 2078.3738753506755 3634.290088910238 0.06429111985208817\n"
     ]
    },
    {
     "name": "stderr",
     "output_type": "stream",
     "text": [
      "/Users/Andy/opt/anaconda3/lib/python3.7/site-packages/librosa/core/audio.py:161: UserWarning: PySoundFile failed. Trying audioread instead.\n",
      "  warnings.warn('PySoundFile failed. Trying audioread instead.')\n"
     ]
    },
    {
     "name": "stdout",
     "output_type": "stream",
     "text": [
      "./genres_2/Cheeze/Uptown_Funk.mp3 0.4253351092338562 0.14091405272483826 3119.3003878990344 2619.5259839917453 6093.022166382686 0.17223866190545242\n"
     ]
    },
    {
     "name": "stderr",
     "output_type": "stream",
     "text": [
      "/Users/Andy/opt/anaconda3/lib/python3.7/site-packages/librosa/core/audio.py:161: UserWarning: PySoundFile failed. Trying audioread instead.\n",
      "  warnings.warn('PySoundFile failed. Trying audioread instead.')\n"
     ]
    },
    {
     "name": "stdout",
     "output_type": "stream",
     "text": [
      "./genres_2/Cheeze/2-15_Got_To_Give_(Heavier_Mix).mp3 0.4192259907722473 0.13663537800312042 3564.0769822962498 2716.998599511928 6811.486731438515 0.21012067684164734\n",
      "./genres_2/Cheeze/2-15_They_Don't_Know_(Radio_Edit).wav 0.4278477728366852 0.1519405096769333 2473.571512605764 2344.7781998754185 4861.73262806337 0.12436670714907193\n"
     ]
    },
    {
     "name": "stderr",
     "output_type": "stream",
     "text": [
      "/Users/Andy/opt/anaconda3/lib/python3.7/site-packages/librosa/core/audio.py:161: UserWarning: PySoundFile failed. Trying audioread instead.\n",
      "  warnings.warn('PySoundFile failed. Trying audioread instead.')\n"
     ]
    },
    {
     "name": "stdout",
     "output_type": "stream",
     "text": [
      "./genres_2/Cheeze/Mercy_(ft._Big_Sean,_Pusha_T_&_2_Chainz)_1.mp3 0.4324457347393036 0.2999868094921112 1899.1850896508 2162.6701664772427 3994.1343940327724 0.05473848064095128\n"
     ]
    },
    {
     "name": "stderr",
     "output_type": "stream",
     "text": [
      "/Users/Andy/opt/anaconda3/lib/python3.7/site-packages/librosa/core/audio.py:161: UserWarning: PySoundFile failed. Trying audioread instead.\n",
      "  warnings.warn('PySoundFile failed. Trying audioread instead.')\n"
     ]
    },
    {
     "name": "stdout",
     "output_type": "stream",
     "text": [
      "./genres_2/Cheeze/One_Thing.mp3 0.42889031767845154 0.11425989866256714 2832.421577745263 2721.792304814016 5982.808138322941 0.1441970435759861\n"
     ]
    },
    {
     "name": "stderr",
     "output_type": "stream",
     "text": [
      "/Users/Andy/opt/anaconda3/lib/python3.7/site-packages/librosa/core/audio.py:161: UserWarning: PySoundFile failed. Trying audioread instead.\n",
      "  warnings.warn('PySoundFile failed. Trying audioread instead.')\n"
     ]
    },
    {
     "name": "stdout",
     "output_type": "stream",
     "text": [
      "./genres_2/Cheeze/Mura_Masa_-_Firefly_(feat._Nao).mp3 0.25965121388435364 0.07773363590240479 2508.121615307659 2259.2822595847174 4924.958309164733 0.12320661434164733\n",
      "./genres_2/Cheeze/09_September.aif 0.44223061203956604 0.09833292663097382 2623.1694758321687 2544.511657115158 5554.866951856148 0.1251835303074246\n"
     ]
    },
    {
     "name": "stderr",
     "output_type": "stream",
     "text": [
      "/Users/Andy/opt/anaconda3/lib/python3.7/site-packages/librosa/core/audio.py:161: UserWarning: PySoundFile failed. Trying audioread instead.\n",
      "  warnings.warn('PySoundFile failed. Trying audioread instead.')\n"
     ]
    },
    {
     "name": "stdout",
     "output_type": "stream",
     "text": [
      "./genres_2/Cheeze/Disclosure_-_Holding_On_ft._Gregory_Porter.mp3 0.23706458508968353 0.17669308185577393 2658.405807603401 2045.2646005665192 4644.002467463022 0.12087849840487239\n"
     ]
    },
    {
     "name": "stderr",
     "output_type": "stream",
     "text": [
      "/Users/Andy/opt/anaconda3/lib/python3.7/site-packages/librosa/core/audio.py:161: UserWarning: PySoundFile failed. Trying audioread instead.\n",
      "  warnings.warn('PySoundFile failed. Trying audioread instead.')\n"
     ]
    },
    {
     "name": "stdout",
     "output_type": "stream",
     "text": [
      "./genres_2/Cheeze/01_White_Noise_(feat._AlunaGeorge)_1.mp3 0.5941086411476135 0.1606563776731491 2457.375607859404 2206.027858074635 4582.475461318156 0.14795941487819025\n"
     ]
    },
    {
     "name": "stderr",
     "output_type": "stream",
     "text": [
      "/Users/Andy/opt/anaconda3/lib/python3.7/site-packages/librosa/core/audio.py:161: UserWarning: PySoundFile failed. Trying audioread instead.\n",
      "  warnings.warn('PySoundFile failed. Trying audioread instead.')\n"
     ]
    },
    {
     "name": "stdout",
     "output_type": "stream",
     "text": [
      "./genres_2/Cheeze/1-166_Saturday_Night.mp3 0.3655823767185211 0.14680366218090057 2806.0612259195445 2706.169450980229 5964.447460484339 0.1267446708236659\n"
     ]
    },
    {
     "name": "stderr",
     "output_type": "stream",
     "text": [
      "/Users/Andy/opt/anaconda3/lib/python3.7/site-packages/librosa/core/audio.py:161: UserWarning: PySoundFile failed. Trying audioread instead.\n",
      "  warnings.warn('PySoundFile failed. Trying audioread instead.')\n"
     ]
    },
    {
     "name": "stdout",
     "output_type": "stream",
     "text": [
      "./genres_2/Cheeze/ASAP_Rocky_-_Goldie_(Explicit).mp3 0.4073878228664398 0.2748500108718872 1898.6360314775802 2196.9280468770935 4145.766114414153 0.07255451529872389\n"
     ]
    },
    {
     "name": "stderr",
     "output_type": "stream",
     "text": [
      "/Users/Andy/opt/anaconda3/lib/python3.7/site-packages/librosa/core/audio.py:161: UserWarning: PySoundFile failed. Trying audioread instead.\n",
      "  warnings.warn('PySoundFile failed. Trying audioread instead.')\n"
     ]
    },
    {
     "name": "stdout",
     "output_type": "stream",
     "text": [
      "./genres_2/Cheeze/Skepta_-_Man_(Official_Video).mp3 0.4070161283016205 0.1945830136537552 2642.0000460364254 2584.840344116818 5637.552453415024 0.1151471414588167\n"
     ]
    },
    {
     "name": "stderr",
     "output_type": "stream",
     "text": [
      "/Users/Andy/opt/anaconda3/lib/python3.7/site-packages/librosa/core/audio.py:161: UserWarning: PySoundFile failed. Trying audioread instead.\n",
      "  warnings.warn('PySoundFile failed. Trying audioread instead.')\n"
     ]
    },
    {
     "name": "stdout",
     "output_type": "stream",
     "text": [
      "./genres_2/Cheeze/Pharrell_Williams_ft._Jay_Z_-_Frontin'_(Disclosure_Rework).mp3 0.6419259905815125 0.20228448510169983 3132.887133209566 2213.053015400052 5149.033520337877 0.23320017945185614\n"
     ]
    },
    {
     "name": "stderr",
     "output_type": "stream",
     "text": [
      "/Users/Andy/opt/anaconda3/lib/python3.7/site-packages/librosa/core/audio.py:161: UserWarning: PySoundFile failed. Trying audioread instead.\n",
      "  warnings.warn('PySoundFile failed. Trying audioread instead.')\n"
     ]
    },
    {
     "name": "stdout",
     "output_type": "stream",
     "text": [
      "./genres_2/Cheeze/SIR_SPYRO_Topper_Top_(ALXZNDR_Version).mp3 0.37636369466781616 0.06811343133449554 1908.9757188070746 1506.5532156360064 3350.136741408063 0.11764179415603249\n"
     ]
    },
    {
     "name": "stderr",
     "output_type": "stream",
     "text": [
      "/Users/Andy/opt/anaconda3/lib/python3.7/site-packages/librosa/core/audio.py:161: UserWarning: PySoundFile failed. Trying audioread instead.\n",
      "  warnings.warn('PySoundFile failed. Trying audioread instead.')\n"
     ]
    },
    {
     "name": "stdout",
     "output_type": "stream",
     "text": [
      "./genres_2/Cheeze/05_All_Of_The_Lights.mp3 0.354606032371521 0.28527313470840454 2333.8866086075686 2437.716092134329 4863.206478393271 0.10626518090197216\n",
      "./genres_2/Cheeze/01_Blue_Jeans_(MK_Dark_Blue_Dub).aiff 0.39398840069770813 0.14821963012218475 1960.2171519206665 2318.503551284248 4278.987195928799 0.07542302602958237\n"
     ]
    },
    {
     "name": "stderr",
     "output_type": "stream",
     "text": [
      "/Users/Andy/opt/anaconda3/lib/python3.7/site-packages/librosa/core/audio.py:161: UserWarning: PySoundFile failed. Trying audioread instead.\n",
      "  warnings.warn('PySoundFile failed. Trying audioread instead.')\n"
     ]
    },
    {
     "name": "stdout",
     "output_type": "stream",
     "text": [
      "./genres_2/Cheeze/Jess_Glynne_-_Right_Here_[Official_Video].mp3 0.3987327218055725 0.18619458377361298 2729.0514951228315 2718.083117515623 5834.623728882686 0.1078365175464037\n"
     ]
    },
    {
     "name": "stderr",
     "output_type": "stream",
     "text": [
      "/Users/Andy/opt/anaconda3/lib/python3.7/site-packages/librosa/core/audio.py:161: UserWarning: PySoundFile failed. Trying audioread instead.\n",
      "  warnings.warn('PySoundFile failed. Trying audioread instead.')\n"
     ]
    },
    {
     "name": "stdout",
     "output_type": "stream",
     "text": [
      "./genres_2/Cheeze/Paper_Planes.mp3 0.3656327724456787 0.24888670444488525 2414.8935770089147 2499.756787665241 5124.927324264067 0.0996252356438515\n"
     ]
    },
    {
     "name": "stderr",
     "output_type": "stream",
     "text": [
      "/Users/Andy/opt/anaconda3/lib/python3.7/site-packages/librosa/core/audio.py:161: UserWarning: PySoundFile failed. Trying audioread instead.\n",
      "  warnings.warn('PySoundFile failed. Trying audioread instead.')\n"
     ]
    },
    {
     "name": "stdout",
     "output_type": "stream",
     "text": [
      "./genres_2/Cheeze/2-15_Midnight_City_(Eric_Prydz_Private_Remix)_1.m4a 0.5175080895423889 0.36795979738235474 3024.5515661959867 3104.7561116469187 7020.548653657917 0.09263295751160093\n"
     ]
    },
    {
     "name": "stderr",
     "output_type": "stream",
     "text": [
      "/Users/Andy/opt/anaconda3/lib/python3.7/site-packages/librosa/core/audio.py:161: UserWarning: PySoundFile failed. Trying audioread instead.\n",
      "  warnings.warn('PySoundFile failed. Trying audioread instead.')\n"
     ]
    },
    {
     "name": "stdout",
     "output_type": "stream",
     "text": [
      "./genres_2/Cheeze/Toyboy_&_Robin_-_Don't_Just_Say.mp3 0.3587385416030884 0.0870184525847435 3473.61655646955 2936.2241976650143 6998.565801279728 0.18031172962587008\n"
     ]
    },
    {
     "name": "stderr",
     "output_type": "stream",
     "text": [
      "/Users/Andy/opt/anaconda3/lib/python3.7/site-packages/librosa/core/audio.py:161: UserWarning: PySoundFile failed. Trying audioread instead.\n",
      "  warnings.warn('PySoundFile failed. Trying audioread instead.')\n"
     ]
    },
    {
     "name": "stdout",
     "output_type": "stream",
     "text": [
      "./genres_2/Cheeze/Golden_Boy_-_That_Thing.mp3 0.45110347867012024 0.2344379872083664 1388.2362559049195 1609.337873321387 2657.7768135513343 0.06057519757830626\n"
     ]
    },
    {
     "name": "stderr",
     "output_type": "stream",
     "text": [
      "/Users/Andy/opt/anaconda3/lib/python3.7/site-packages/librosa/core/audio.py:161: UserWarning: PySoundFile failed. Trying audioread instead.\n",
      "  warnings.warn('PySoundFile failed. Trying audioread instead.')\n"
     ]
    },
    {
     "name": "stdout",
     "output_type": "stream",
     "text": [
      "./genres_2/Cheeze/05_Money_Trees_(feat._Jay_Rock).m4a 0.40613672137260437 0.14019033312797546 3156.9245920383464 2950.2967622872748 6594.780771914879 0.11402103574535963\n",
      "./genres_2/Cheeze/01_He's_The_Greatest_Dancer.aif 0.48938700556755066 0.09444767236709595 2018.8218049725751 2340.3166299354502 4351.38072569243 0.0843854227088167\n"
     ]
    },
    {
     "name": "stderr",
     "output_type": "stream",
     "text": [
      "/Users/Andy/opt/anaconda3/lib/python3.7/site-packages/librosa/core/audio.py:161: UserWarning: PySoundFile failed. Trying audioread instead.\n",
      "  warnings.warn('PySoundFile failed. Trying audioread instead.')\n"
     ]
    },
    {
     "name": "stdout",
     "output_type": "stream",
     "text": [
      "./genres_2/Cheeze/01_-_Like_a_prayer.mp3 0.24245992302894592 0.04387335479259491 2454.368261142791 2569.2870833833676 5153.480051841648 0.10882554198085846\n"
     ]
    },
    {
     "name": "stderr",
     "output_type": "stream",
     "text": [
      "/Users/Andy/opt/anaconda3/lib/python3.7/site-packages/librosa/core/audio.py:161: UserWarning: PySoundFile failed. Trying audioread instead.\n",
      "  warnings.warn('PySoundFile failed. Trying audioread instead.')\n"
     ]
    },
    {
     "name": "stdout",
     "output_type": "stream",
     "text": [
      "./genres_2/Cheeze/Clssicos_do_HIP-HOP_-_Shaggy_-_It_Wasnt_Me__HQ_-_320_KBPS.mp3 0.40195176005363464 0.21358159184455872 2787.414161479042 2739.917113551031 5952.007164479408 0.1257726399361949\n"
     ]
    },
    {
     "name": "stderr",
     "output_type": "stream",
     "text": [
      "/Users/Andy/opt/anaconda3/lib/python3.7/site-packages/librosa/core/audio.py:161: UserWarning: PySoundFile failed. Trying audioread instead.\n",
      "  warnings.warn('PySoundFile failed. Trying audioread instead.')\n"
     ]
    },
    {
     "name": "stdout",
     "output_type": "stream",
     "text": [
      "./genres_2/Cheeze/03_Niggas_in_Paris.mp3 0.3698364198207855 0.21843668818473816 2854.9395242823057 2661.0268585774807 5744.568975674304 0.12673334179234338\n"
     ]
    },
    {
     "name": "stderr",
     "output_type": "stream",
     "text": [
      "/Users/Andy/opt/anaconda3/lib/python3.7/site-packages/librosa/core/audio.py:161: UserWarning: PySoundFile failed. Trying audioread instead.\n",
      "  warnings.warn('PySoundFile failed. Trying audioread instead.')\n"
     ]
    },
    {
     "name": "stdout",
     "output_type": "stream",
     "text": [
      "./genres_2/Cheeze/04_Golddust.mp3 0.42163926362991333 0.3595777750015259 3180.8885777603937 2890.6786171567405 6777.288407681989 0.14223258954466358\n"
     ]
    },
    {
     "name": "stderr",
     "output_type": "stream",
     "text": [
      "/Users/Andy/opt/anaconda3/lib/python3.7/site-packages/librosa/core/audio.py:161: UserWarning: PySoundFile failed. Trying audioread instead.\n",
      "  warnings.warn('PySoundFile failed. Trying audioread instead.')\n"
     ]
    },
    {
     "name": "stdout",
     "output_type": "stream",
     "text": [
      "./genres_2/Cheeze/2-08_Halfway_Crooks.mp3 0.46869179606437683 0.21157504618167877 2665.633907530991 2716.9741381693743 5584.169094855713 0.09195208272911833\n"
     ]
    },
    {
     "name": "stderr",
     "output_type": "stream",
     "text": [
      "/Users/Andy/opt/anaconda3/lib/python3.7/site-packages/librosa/core/audio.py:161: UserWarning: PySoundFile failed. Trying audioread instead.\n",
      "  warnings.warn('PySoundFile failed. Trying audioread instead.')\n"
     ]
    },
    {
     "name": "stdout",
     "output_type": "stream",
     "text": [
      "./genres_2/Cheeze/01_It's_My_House.mp3 0.32828423380851746 0.06980627030134201 2085.4861350726246 2506.6494704918728 4499.515174104554 0.08039420497389792\n"
     ]
    },
    {
     "name": "stderr",
     "output_type": "stream",
     "text": [
      "/Users/Andy/opt/anaconda3/lib/python3.7/site-packages/librosa/core/audio.py:161: UserWarning: PySoundFile failed. Trying audioread instead.\n",
      "  warnings.warn('PySoundFile failed. Trying audioread instead.')\n"
     ]
    },
    {
     "name": "stdout",
     "output_type": "stream",
     "text": [
      "./genres_2/Cheeze/Sean_Paul_-_She_Doesn't_Mind_[Official_Music_Video].mp3 0.37055447697639465 0.12017273157835007 2495.6266632208512 2478.7323223596363 4993.479859248115 0.11948049593967518\n"
     ]
    },
    {
     "name": "stderr",
     "output_type": "stream",
     "text": [
      "/Users/Andy/opt/anaconda3/lib/python3.7/site-packages/librosa/core/audio.py:161: UserWarning: PySoundFile failed. Trying audioread instead.\n",
      "  warnings.warn('PySoundFile failed. Trying audioread instead.')\n"
     ]
    },
    {
     "name": "stdout",
     "output_type": "stream",
     "text": [
      "./genres_2/Cheeze/Hardrive_-_Deep_Inside.mp3 0.45520463585853577 0.14434917271137238 3022.997045697194 2326.7394310454006 5381.002573955917 0.19496696454466358\n"
     ]
    },
    {
     "name": "stderr",
     "output_type": "stream",
     "text": [
      "/Users/Andy/opt/anaconda3/lib/python3.7/site-packages/librosa/core/audio.py:161: UserWarning: PySoundFile failed. Trying audioread instead.\n",
      "  warnings.warn('PySoundFile failed. Trying audioread instead.')\n"
     ]
    },
    {
     "name": "stdout",
     "output_type": "stream",
     "text": [
      "./genres_2/Cheeze/02_My_Humps.mp3 0.43421265482902527 0.3425453007221222 2133.2117681019486 2356.8805773624645 4422.250444098027 0.0713921566850348\n"
     ]
    },
    {
     "name": "stderr",
     "output_type": "stream",
     "text": [
      "/Users/Andy/opt/anaconda3/lib/python3.7/site-packages/librosa/core/audio.py:161: UserWarning: PySoundFile failed. Trying audioread instead.\n",
      "  warnings.warn('PySoundFile failed. Trying audioread instead.')\n"
     ]
    },
    {
     "name": "stdout",
     "output_type": "stream",
     "text": [
      "./genres_2/Cheeze/46_45._M.O.P.-_Ante_Up_(Remix)_(ft._Busta_Rhymes).mp3 0.41678690910339355 0.21428480744361877 2808.224766637178 2450.4743045912473 5541.452415802639 0.1474314820185615\n"
     ]
    },
    {
     "name": "stderr",
     "output_type": "stream",
     "text": [
      "/Users/Andy/opt/anaconda3/lib/python3.7/site-packages/librosa/core/audio.py:161: UserWarning: PySoundFile failed. Trying audioread instead.\n",
      "  warnings.warn('PySoundFile failed. Trying audioread instead.')\n"
     ]
    },
    {
     "name": "stdout",
     "output_type": "stream",
     "text": [
      "./genres_2/Cheeze/01_Express_Yourself_(feat._Nicky_Da_B)_1.mp3 0.5371452569961548 0.30606481432914734 2437.8584442829765 2565.117683882599 5408.980749709976 0.0829228447650812\n"
     ]
    },
    {
     "name": "stderr",
     "output_type": "stream",
     "text": [
      "/Users/Andy/opt/anaconda3/lib/python3.7/site-packages/librosa/core/audio.py:161: UserWarning: PySoundFile failed. Trying audioread instead.\n",
      "  warnings.warn('PySoundFile failed. Trying audioread instead.')\n"
     ]
    },
    {
     "name": "stdout",
     "output_type": "stream",
     "text": [
      "./genres_2/Cheeze/Toyboy_&_Robin_-_No_More_Sunshine.mp3 0.3171721398830414 0.0880640298128128 2997.771424583717 2614.6534110078665 5900.847071671984 0.15383011890951276\n"
     ]
    },
    {
     "name": "stderr",
     "output_type": "stream",
     "text": [
      "/Users/Andy/opt/anaconda3/lib/python3.7/site-packages/librosa/core/audio.py:161: UserWarning: PySoundFile failed. Trying audioread instead.\n",
      "  warnings.warn('PySoundFile failed. Trying audioread instead.')\n"
     ]
    },
    {
     "name": "stdout",
     "output_type": "stream",
     "text": [
      "./genres_2/Cheeze/02_The_Notorious_B.I.G._-_Juicy.mp3 0.34551942348480225 0.20067530870437622 2456.4868787180903 2366.461604064705 4973.745253135876 0.09328777552204176\n"
     ]
    },
    {
     "name": "stderr",
     "output_type": "stream",
     "text": [
      "/Users/Andy/opt/anaconda3/lib/python3.7/site-packages/librosa/core/audio.py:161: UserWarning: PySoundFile failed. Trying audioread instead.\n",
      "  warnings.warn('PySoundFile failed. Trying audioread instead.')\n"
     ]
    },
    {
     "name": "stdout",
     "output_type": "stream",
     "text": [
      "./genres_2/Cheeze/12_No_Scrubs_(Rap_Version).mp3 0.39311420917510986 0.1756037026643753 2494.6936227858732 2692.4952439451226 5533.308768217083 0.10776514464907193\n"
     ]
    },
    {
     "name": "stderr",
     "output_type": "stream",
     "text": [
      "/Users/Andy/opt/anaconda3/lib/python3.7/site-packages/librosa/core/audio.py:161: UserWarning: PySoundFile failed. Trying audioread instead.\n",
      "  warnings.warn('PySoundFile failed. Trying audioread instead.')\n"
     ]
    },
    {
     "name": "stdout",
     "output_type": "stream",
     "text": [
      "./genres_2/Cheeze/88_Big_Pimpin'_1.mp3 0.45124852657318115 0.17203311622142792 2228.9333872696866 2167.3904769087076 4412.832790295099 0.09869852088167054\n"
     ]
    },
    {
     "name": "stderr",
     "output_type": "stream",
     "text": [
      "/Users/Andy/opt/anaconda3/lib/python3.7/site-packages/librosa/core/audio.py:161: UserWarning: PySoundFile failed. Trying audioread instead.\n",
      "  warnings.warn('PySoundFile failed. Trying audioread instead.')\n"
     ]
    },
    {
     "name": "stdout",
     "output_type": "stream",
     "text": [
      "./genres_2/Cheeze/Duke_Dumont_-_Won't_Look_Back.mp3 0.37487462162971497 0.14383439719676971 2712.788352699231 2299.6202680286883 5100.521362021462 0.16135486151392112\n"
     ]
    },
    {
     "name": "stderr",
     "output_type": "stream",
     "text": [
      "/Users/Andy/opt/anaconda3/lib/python3.7/site-packages/librosa/core/audio.py:161: UserWarning: PySoundFile failed. Trying audioread instead.\n",
      "  warnings.warn('PySoundFile failed. Trying audioread instead.')\n"
     ]
    },
    {
     "name": "stdout",
     "output_type": "stream",
     "text": [
      "./genres_2/Cheeze/Redlight_-9TS_90s_baby_.mp3 0.35018423199653625 0.07094622403383255 3361.7063108164775 2360.31039627417 5754.6860838710845 0.20597878299013922\n"
     ]
    },
    {
     "name": "stderr",
     "output_type": "stream",
     "text": [
      "/Users/Andy/opt/anaconda3/lib/python3.7/site-packages/librosa/core/audio.py:161: UserWarning: PySoundFile failed. Trying audioread instead.\n",
      "  warnings.warn('PySoundFile failed. Trying audioread instead.')\n"
     ]
    },
    {
     "name": "stdout",
     "output_type": "stream",
     "text": [
      "./genres_2/Cheeze/Alice_Deejay_-_Better_Off_Alone.mp3 0.4661131799221039 0.23879186809062958 3572.9129369862535 3269.5336696369777 7609.239448140226 0.17391535854118328\n"
     ]
    },
    {
     "name": "stderr",
     "output_type": "stream",
     "text": [
      "/Users/Andy/opt/anaconda3/lib/python3.7/site-packages/librosa/core/audio.py:161: UserWarning: PySoundFile failed. Trying audioread instead.\n",
      "  warnings.warn('PySoundFile failed. Trying audioread instead.')\n"
     ]
    },
    {
     "name": "stdout",
     "output_type": "stream",
     "text": [
      "./genres_2/Cheeze/Klaves_-_Will_You.mp3 0.4441222846508026 0.19424623250961304 2298.4922526030095 2538.618430709978 4862.656907083817 0.06739754024071926\n"
     ]
    },
    {
     "name": "stderr",
     "output_type": "stream",
     "text": [
      "/Users/Andy/opt/anaconda3/lib/python3.7/site-packages/librosa/core/audio.py:161: UserWarning: PySoundFile failed. Trying audioread instead.\n",
      "  warnings.warn('PySoundFile failed. Trying audioread instead.')\n"
     ]
    },
    {
     "name": "stdout",
     "output_type": "stream",
     "text": [
      "./genres_2/Cheeze/Delilah_-_Inside_My_Love_(Redlight_Remix).mp3 0.3015459477901459 0.03825957328081131 2396.1240834018577 2519.493651834314 5127.375414642546 0.08499492459396751\n"
     ]
    },
    {
     "name": "stderr",
     "output_type": "stream",
     "text": [
      "/Users/Andy/opt/anaconda3/lib/python3.7/site-packages/librosa/core/audio.py:161: UserWarning: PySoundFile failed. Trying audioread instead.\n",
      "  warnings.warn('PySoundFile failed. Trying audioread instead.')\n"
     ]
    },
    {
     "name": "stdout",
     "output_type": "stream",
     "text": [
      "./genres_2/Cheeze/Karma_Kid_-_Bird_Of_Prey.mp3 0.5133205652236938 0.1904269903898239 2779.3044095403393 2376.748493802705 5309.308498586137 0.15491204140081208\n"
     ]
    },
    {
     "name": "stderr",
     "output_type": "stream",
     "text": [
      "/Users/Andy/opt/anaconda3/lib/python3.7/site-packages/librosa/core/audio.py:161: UserWarning: PySoundFile failed. Trying audioread instead.\n",
      "  warnings.warn('PySoundFile failed. Trying audioread instead.')\n"
     ]
    },
    {
     "name": "stdout",
     "output_type": "stream",
     "text": [
      "./genres_2/Cheeze/[MP3FY.COM]_Crystal_Waters_-_Gypsy_Woman_(She's_Homeless).mp3 0.34631896018981934 0.019129861146211624 1219.300068776269 1389.6623505584976 1837.8414003589037 0.0868177657337587\n"
     ]
    },
    {
     "name": "stderr",
     "output_type": "stream",
     "text": [
      "/Users/Andy/opt/anaconda3/lib/python3.7/site-packages/librosa/core/audio.py:161: UserWarning: PySoundFile failed. Trying audioread instead.\n",
      "  warnings.warn('PySoundFile failed. Trying audioread instead.')\n"
     ]
    },
    {
     "name": "stdout",
     "output_type": "stream",
     "text": [
      "./genres_2/Cheeze/98_Teach_me_How_To_Dougie.mp3 0.4292573630809784 0.32628169655799866 1537.892836354869 2073.399022271018 3130.907749963747 0.04007078378770302\n"
     ]
    },
    {
     "name": "stderr",
     "output_type": "stream",
     "text": [
      "/Users/Andy/opt/anaconda3/lib/python3.7/site-packages/librosa/core/audio.py:161: UserWarning: PySoundFile failed. Trying audioread instead.\n",
      "  warnings.warn('PySoundFile failed. Trying audioread instead.')\n"
     ]
    },
    {
     "name": "stdout",
     "output_type": "stream",
     "text": [
      "./genres_2/Cheeze/Acceptable_In_the_80's_1.mp3 0.4590524435043335 0.19031281769275665 2504.039511537864 2484.747026299804 5251.078920297999 0.09372167742169374\n"
     ]
    },
    {
     "name": "stderr",
     "output_type": "stream",
     "text": [
      "/Users/Andy/opt/anaconda3/lib/python3.7/site-packages/librosa/core/audio.py:161: UserWarning: PySoundFile failed. Trying audioread instead.\n",
      "  warnings.warn('PySoundFile failed. Trying audioread instead.')\n"
     ]
    },
    {
     "name": "stdout",
     "output_type": "stream",
     "text": [
      "./genres_2/Cheeze/Ariana_Grande_-_thank_u,_next.mp3 0.3393801152706146 0.270847350358963 2023.787901390968 2495.6979673458545 4487.324683240284 0.06622385259570766\n",
      "./genres_2/Cheeze/2-14_Promesses_(Radio_Edit).wav 0.5464506149291992 0.3931751549243927 2272.1300576673543 2355.5451655665897 4569.985204285093 0.07361717843677494\n",
      "./genres_2/Cheeze/12_Get_Down_On_It.aif 0.45218026638031006 0.07033634185791016 2508.436395875901 2367.3071751974408 5005.320622915458 0.13040961245649652\n"
     ]
    },
    {
     "name": "stderr",
     "output_type": "stream",
     "text": [
      "/Users/Andy/opt/anaconda3/lib/python3.7/site-packages/librosa/core/audio.py:161: UserWarning: PySoundFile failed. Trying audioread instead.\n",
      "  warnings.warn('PySoundFile failed. Trying audioread instead.')\n"
     ]
    },
    {
     "name": "stdout",
     "output_type": "stream",
     "text": [
      "./genres_2/Cheeze/11_Controlla.mp3 0.4343692660331726 0.11885791271924973 3866.844427514753 2844.990643048888 7208.127333780452 0.23221002211426914\n"
     ]
    },
    {
     "name": "stderr",
     "output_type": "stream",
     "text": [
      "/Users/Andy/opt/anaconda3/lib/python3.7/site-packages/librosa/core/audio.py:161: UserWarning: PySoundFile failed. Trying audioread instead.\n",
      "  warnings.warn('PySoundFile failed. Trying audioread instead.')\n"
     ]
    },
    {
     "name": "stdout",
     "output_type": "stream",
     "text": [
      "./genres_2/Cheeze/Chris_Brown,_Tyga_-_Ayo_(Explicit).mp3 0.5367841124534607 0.0483987033367157 2953.8403729588613 2682.629888122746 6194.368111948956 0.16802652805974477\n"
     ]
    },
    {
     "name": "stderr",
     "output_type": "stream",
     "text": [
      "/Users/Andy/opt/anaconda3/lib/python3.7/site-packages/librosa/core/audio.py:161: UserWarning: PySoundFile failed. Trying audioread instead.\n",
      "  warnings.warn('PySoundFile failed. Trying audioread instead.')\n"
     ]
    },
    {
     "name": "stdout",
     "output_type": "stream",
     "text": [
      "./genres_2/Cheeze/Rihanna_-_Work_ft._Drake_(Explicit).mp3 0.32487979531288147 0.15917862951755524 2239.882963675838 2503.8438895396844 4738.52873268924 0.08961603647041763\n"
     ]
    },
    {
     "name": "stderr",
     "output_type": "stream",
     "text": [
      "/Users/Andy/opt/anaconda3/lib/python3.7/site-packages/librosa/core/audio.py:161: UserWarning: PySoundFile failed. Trying audioread instead.\n",
      "  warnings.warn('PySoundFile failed. Trying audioread instead.')\n"
     ]
    },
    {
     "name": "stdout",
     "output_type": "stream",
     "text": [
      "./genres_2/Cheeze/Desiigner_-_Panda.mp3 0.4903450310230255 0.04607664793729782 2847.962112651296 2519.531022813784 5788.809466085412 0.1635900793938515\n"
     ]
    },
    {
     "name": "stderr",
     "output_type": "stream",
     "text": [
      "/Users/Andy/opt/anaconda3/lib/python3.7/site-packages/librosa/core/audio.py:161: UserWarning: PySoundFile failed. Trying audioread instead.\n",
      "  warnings.warn('PySoundFile failed. Trying audioread instead.')\n"
     ]
    },
    {
     "name": "stdout",
     "output_type": "stream",
     "text": [
      "./genres_2/Cheeze/09_Jumpman.mp3 0.513829231262207 0.22162236273288727 2912.763569739056 2991.520765957707 6598.0282387434745 0.07332149071925755\n"
     ]
    },
    {
     "name": "stderr",
     "output_type": "stream",
     "text": [
      "/Users/Andy/opt/anaconda3/lib/python3.7/site-packages/librosa/core/audio.py:161: UserWarning: PySoundFile failed. Trying audioread instead.\n",
      "  warnings.warn('PySoundFile failed. Trying audioread instead.')\n"
     ]
    },
    {
     "name": "stdout",
     "output_type": "stream",
     "text": [
      "./genres_2/Cheeze/Eliphino_-_More_Than_Me_1.mp3 0.37833818793296814 0.14112898707389832 3097.2255891669283 2612.342774031633 6041.9619956315255 0.16601675790313225\n"
     ]
    },
    {
     "name": "stderr",
     "output_type": "stream",
     "text": [
      "/Users/Andy/opt/anaconda3/lib/python3.7/site-packages/librosa/core/audio.py:161: UserWarning: PySoundFile failed. Trying audioread instead.\n",
      "  warnings.warn('PySoundFile failed. Trying audioread instead.')\n"
     ]
    },
    {
     "name": "stdout",
     "output_type": "stream",
     "text": [
      "./genres_2/Cheeze/Changes_Ft._Wad_Ad_(Original_Mix)_1.mp3 0.4807355999946594 0.34414735436439514 1843.9362841997222 2148.5776290081526 3888.891488272187 0.05795932424593968\n"
     ]
    },
    {
     "name": "stderr",
     "output_type": "stream",
     "text": [
      "/Users/Andy/opt/anaconda3/lib/python3.7/site-packages/librosa/core/audio.py:161: UserWarning: PySoundFile failed. Trying audioread instead.\n",
      "  warnings.warn('PySoundFile failed. Trying audioread instead.')\n"
     ]
    },
    {
     "name": "stdout",
     "output_type": "stream",
     "text": [
      "./genres_2/Cheeze/04_Fancy.mp3 0.41387027502059937 0.2097185254096985 3137.363652665179 2596.3931296429896 5816.088187445621 0.1651886057134571\n"
     ]
    },
    {
     "name": "stderr",
     "output_type": "stream",
     "text": [
      "/Users/Andy/opt/anaconda3/lib/python3.7/site-packages/librosa/core/audio.py:161: UserWarning: PySoundFile failed. Trying audioread instead.\n",
      "  warnings.warn('PySoundFile failed. Trying audioread instead.')\n"
     ]
    },
    {
     "name": "stdout",
     "output_type": "stream",
     "text": [
      "./genres_2/Cheeze/01._Consideration_(Feat._SZA).mp3 0.359279066324234 0.31404629349708557 2150.796265234869 2345.1645690910773 4246.637430213167 0.09888431699535963\n",
      "./genres_2/Cheeze/02_-_Lil_Nas_X_-_Old_Town_Road_(Remix).wav 0.31527653336524963 0.17209351062774658 2116.913960815767 2285.9024163701397 4205.669387144721 0.08775127791473318\n"
     ]
    },
    {
     "name": "stderr",
     "output_type": "stream",
     "text": [
      "/Users/Andy/opt/anaconda3/lib/python3.7/site-packages/librosa/core/audio.py:161: UserWarning: PySoundFile failed. Trying audioread instead.\n",
      "  warnings.warn('PySoundFile failed. Trying audioread instead.')\n"
     ]
    },
    {
     "name": "stdout",
     "output_type": "stream",
     "text": [
      "./genres_2/Cheeze/1-03_Red_Red_Wine.mp3 0.4203616678714752 0.17594367265701294 2944.820194240636 2732.793977631823 6041.387443808005 0.13479847919083526\n"
     ]
    },
    {
     "name": "stderr",
     "output_type": "stream",
     "text": [
      "/Users/Andy/opt/anaconda3/lib/python3.7/site-packages/librosa/core/audio.py:161: UserWarning: PySoundFile failed. Trying audioread instead.\n",
      "  warnings.warn('PySoundFile failed. Trying audioread instead.')\n"
     ]
    },
    {
     "name": "stdout",
     "output_type": "stream",
     "text": [
      "./genres_2/Cheeze/2-17_Evil_Eyes_[Claptone_Remix].mp3 0.585220456123352 0.33495137095451355 2820.7355321088285 2799.723088139223 5918.508295116734 0.12653168503480278\n"
     ]
    },
    {
     "name": "stderr",
     "output_type": "stream",
     "text": [
      "/Users/Andy/opt/anaconda3/lib/python3.7/site-packages/librosa/core/audio.py:161: UserWarning: PySoundFile failed. Trying audioread instead.\n",
      "  warnings.warn('PySoundFile failed. Trying audioread instead.')\n"
     ]
    },
    {
     "name": "stdout",
     "output_type": "stream",
     "text": [
      "./genres_2/Cheeze/2-16_The_Label.mp3 0.5473454594612122 0.2830830216407776 2829.5245672323235 2646.718269178903 5783.01398682207 0.1334548560759861\n"
     ]
    },
    {
     "name": "stderr",
     "output_type": "stream",
     "text": [
      "/Users/Andy/opt/anaconda3/lib/python3.7/site-packages/librosa/core/audio.py:161: UserWarning: PySoundFile failed. Trying audioread instead.\n",
      "  warnings.warn('PySoundFile failed. Trying audioread instead.')\n"
     ]
    },
    {
     "name": "stdout",
     "output_type": "stream",
     "text": [
      "./genres_2/Cheeze/Trap_Queen.mp3 0.31802767515182495 0.1793360859155655 3538.138073050622 2621.4942749605893 6624.807349822361 0.20259933294663574\n",
      "./genres_2/Cheeze/Set_You_Free.wav 0.29347944259643555 0.26975029706954956 2690.7551444729725 2305.81006454434 4805.551451928654 0.1617774343822506\n"
     ]
    },
    {
     "name": "stderr",
     "output_type": "stream",
     "text": [
      "/Users/Andy/opt/anaconda3/lib/python3.7/site-packages/librosa/core/audio.py:161: UserWarning: PySoundFile failed. Trying audioread instead.\n",
      "  warnings.warn('PySoundFile failed. Trying audioread instead.')\n"
     ]
    },
    {
     "name": "stdout",
     "output_type": "stream",
     "text": [
      "./genres_2/Cheeze/Galantis_-_Runaway_(U_&_I).mp3 0.26539912819862366 0.14060887694358826 2124.8084089925615 2188.7006839573196 4060.5575809345996 0.10183326384860789\n",
      "./genres_2/Cheeze/2-02_Rock_Your_Body.aif 0.3968656361103058 0.1923934668302536 3122.8999346170117 2880.755391089387 6547.667522386166 0.14729666654582366\n"
     ]
    },
    {
     "name": "stderr",
     "output_type": "stream",
     "text": [
      "/Users/Andy/opt/anaconda3/lib/python3.7/site-packages/librosa/core/audio.py:161: UserWarning: PySoundFile failed. Trying audioread instead.\n",
      "  warnings.warn('PySoundFile failed. Trying audioread instead.')\n"
     ]
    },
    {
     "name": "stdout",
     "output_type": "stream",
     "text": [
      "./genres_2/Cheeze/03_Drunk_in_Love_(Feat._Jay_Z).mp3 0.32944101095199585 0.10860179364681244 2843.39605742296 2614.7456861186442 5709.19656775667 0.12262203632540604\n"
     ]
    },
    {
     "name": "stderr",
     "output_type": "stream",
     "text": [
      "/Users/Andy/opt/anaconda3/lib/python3.7/site-packages/librosa/core/audio.py:161: UserWarning: PySoundFile failed. Trying audioread instead.\n",
      "  warnings.warn('PySoundFile failed. Trying audioread instead.')\n"
     ]
    },
    {
     "name": "stdout",
     "output_type": "stream",
     "text": [
      "./genres_2/Cheeze/19_Fade.mp3 0.30958595871925354 0.1605476289987564 2678.5914470083835 2414.4854883443545 5194.1982897694315 0.12536479480858467\n"
     ]
    },
    {
     "name": "stderr",
     "output_type": "stream",
     "text": [
      "/Users/Andy/opt/anaconda3/lib/python3.7/site-packages/librosa/core/audio.py:161: UserWarning: PySoundFile failed. Trying audioread instead.\n",
      "  warnings.warn('PySoundFile failed. Trying audioread instead.')\n"
     ]
    },
    {
     "name": "stdout",
     "output_type": "stream",
     "text": [
      "./genres_2/Cheeze/07_Senorita.mp3 0.3998839259147644 0.1415260285139084 3386.18178082395 3073.8938452829225 7113.800912666763 0.14939027153422274\n"
     ]
    },
    {
     "name": "stderr",
     "output_type": "stream",
     "text": [
      "/Users/Andy/opt/anaconda3/lib/python3.7/site-packages/librosa/core/audio.py:161: UserWarning: PySoundFile failed. Trying audioread instead.\n",
      "  warnings.warn('PySoundFile failed. Trying audioread instead.')\n"
     ]
    },
    {
     "name": "stdout",
     "output_type": "stream",
     "text": [
      "./genres_2/Cheeze/12_Only_Girl_(In_The_World).mp3 0.40971168875694275 0.2547261416912079 2051.5541173804963 2613.758318359389 4843.646735879495 0.05833544808584687\n"
     ]
    },
    {
     "name": "stderr",
     "output_type": "stream",
     "text": [
      "/Users/Andy/opt/anaconda3/lib/python3.7/site-packages/librosa/core/audio.py:161: UserWarning: PySoundFile failed. Trying audioread instead.\n",
      "  warnings.warn('PySoundFile failed. Trying audioread instead.')\n"
     ]
    },
    {
     "name": "stdout",
     "output_type": "stream",
     "text": [
      "./genres_2/Cheeze/10_Operator_(DJ_Koze's_Disco_Edit).mp3 0.44717079401016235 0.2302270382642746 1985.5665826292675 2653.8411255733545 4958.132431844548 0.05342544591067285\n"
     ]
    },
    {
     "name": "stderr",
     "output_type": "stream",
     "text": [
      "/Users/Andy/opt/anaconda3/lib/python3.7/site-packages/librosa/core/audio.py:161: UserWarning: PySoundFile failed. Trying audioread instead.\n",
      "  warnings.warn('PySoundFile failed. Trying audioread instead.')\n"
     ]
    },
    {
     "name": "stdout",
     "output_type": "stream",
     "text": [
      "./genres_2/Cheeze/13_Where_Is_The_Love_.m4a 0.35783061385154724 0.2171398252248764 2638.5714381471657 2682.514304756003 5812.341110335702 0.1082953433149652\n"
     ]
    },
    {
     "name": "stderr",
     "output_type": "stream",
     "text": [
      "/Users/Andy/opt/anaconda3/lib/python3.7/site-packages/librosa/core/audio.py:161: UserWarning: PySoundFile failed. Trying audioread instead.\n",
      "  warnings.warn('PySoundFile failed. Trying audioread instead.')\n"
     ]
    },
    {
     "name": "stdout",
     "output_type": "stream",
     "text": [
      "./genres_2/Cheeze/03_Ripgroove.mp3 0.4787795841693878 0.18685241043567657 3033.842520317659 2599.775528134648 5946.886159095852 0.14497081641531323\n"
     ]
    },
    {
     "name": "stderr",
     "output_type": "stream",
     "text": [
      "/Users/Andy/opt/anaconda3/lib/python3.7/site-packages/librosa/core/audio.py:161: UserWarning: PySoundFile failed. Trying audioread instead.\n",
      "  warnings.warn('PySoundFile failed. Trying audioread instead.')\n"
     ]
    },
    {
     "name": "stdout",
     "output_type": "stream",
     "text": [
      "./genres_2/Cheeze/Bump_&_Grind_2014.mp3 0.6495471596717834 0.21970631182193756 4167.648283555275 2499.782926989662 6821.528898093097 0.3269581097737819\n"
     ]
    },
    {
     "name": "stderr",
     "output_type": "stream",
     "text": [
      "/Users/Andy/opt/anaconda3/lib/python3.7/site-packages/librosa/core/audio.py:161: UserWarning: PySoundFile failed. Trying audioread instead.\n",
      "  warnings.warn('PySoundFile failed. Trying audioread instead.')\n"
     ]
    },
    {
     "name": "stdout",
     "output_type": "stream",
     "text": [
      "./genres_2/Cheeze/Friend_Within_-_The_Renegade.mp3 0.6224669218063354 0.21538451313972473 4020.5588988295685 2553.775161168904 6785.881704520737 0.29090913210556846\n"
     ]
    },
    {
     "name": "stderr",
     "output_type": "stream",
     "text": [
      "/Users/Andy/opt/anaconda3/lib/python3.7/site-packages/librosa/core/audio.py:161: UserWarning: PySoundFile failed. Trying audioread instead.\n",
      "  warnings.warn('PySoundFile failed. Trying audioread instead.')\n"
     ]
    },
    {
     "name": "stdout",
     "output_type": "stream",
     "text": [
      "./genres_2/Cheeze/Rihanna_-_Needed_Me_(Murlo_Remix).mp3 0.39752551913261414 0.19191260635852814 2547.728550899039 2686.4009693700814 5510.251753734049 0.09014510223317865\n"
     ]
    },
    {
     "name": "stderr",
     "output_type": "stream",
     "text": [
      "/Users/Andy/opt/anaconda3/lib/python3.7/site-packages/librosa/core/audio.py:161: UserWarning: PySoundFile failed. Trying audioread instead.\n",
      "  warnings.warn('PySoundFile failed. Trying audioread instead.')\n"
     ]
    },
    {
     "name": "stdout",
     "output_type": "stream",
     "text": [
      "./genres_2/Cheeze/Route_94_-_My_Love_ft._Jess_Gl.mp3 0.31210458278656006 0.11289063096046448 1661.417784911274 2050.6365838021347 3338.246016712587 0.07046657482598608\n"
     ]
    },
    {
     "name": "stderr",
     "output_type": "stream",
     "text": [
      "/Users/Andy/opt/anaconda3/lib/python3.7/site-packages/librosa/core/audio.py:161: UserWarning: PySoundFile failed. Trying audioread instead.\n",
      "  warnings.warn('PySoundFile failed. Trying audioread instead.')\n"
     ]
    },
    {
     "name": "stdout",
     "output_type": "stream",
     "text": [
      "./genres_2/Cheeze/Here_Comes_The_Hotstepper.mp3 0.5122836232185364 0.20124618709087372 2809.355312287256 2458.649350256119 5438.257912195476 0.1379728737674014\n"
     ]
    },
    {
     "name": "stderr",
     "output_type": "stream",
     "text": [
      "/Users/Andy/opt/anaconda3/lib/python3.7/site-packages/librosa/core/audio.py:161: UserWarning: PySoundFile failed. Trying audioread instead.\n",
      "  warnings.warn('PySoundFile failed. Trying audioread instead.')\n"
     ]
    },
    {
     "name": "stdout",
     "output_type": "stream",
     "text": [
      "./genres_2/Cheeze/Calvin_Harris_-_Flashback.mp3 0.35501477122306824 0.0585814043879509 2432.327669893012 2455.262982419664 4994.02943055757 0.12006960556844548\n"
     ]
    },
    {
     "name": "stderr",
     "output_type": "stream",
     "text": [
      "/Users/Andy/opt/anaconda3/lib/python3.7/site-packages/librosa/core/audio.py:161: UserWarning: PySoundFile failed. Trying audioread instead.\n",
      "  warnings.warn('PySoundFile failed. Trying audioread instead.')\n"
     ]
    },
    {
     "name": "stdout",
     "output_type": "stream",
     "text": [
      "./genres_2/Cheeze/06_Rivers_Of_Babylon_1.m4a 0.3443101942539215 0.05190028250217438 2393.101267858291 2504.411591113189 5302.014188478828 0.1244131561774942\n"
     ]
    },
    {
     "name": "stderr",
     "output_type": "stream",
     "text": [
      "/Users/Andy/opt/anaconda3/lib/python3.7/site-packages/librosa/core/audio.py:161: UserWarning: PySoundFile failed. Trying audioread instead.\n",
      "  warnings.warn('PySoundFile failed. Trying audioread instead.')\n"
     ]
    },
    {
     "name": "stdout",
     "output_type": "stream",
     "text": [
      "./genres_2/Cheeze/Skepta_-_Ladies_Hit_Squad_(ft_D_Double_E_&_A$AP_Nast).mp3 0.5127573013305664 0.2004482001066208 2339.8195321048916 2655.245169037778 5268.340455517691 0.07741693554234338\n"
     ]
    },
    {
     "name": "stderr",
     "output_type": "stream",
     "text": [
      "/Users/Andy/opt/anaconda3/lib/python3.7/site-packages/librosa/core/audio.py:161: UserWarning: PySoundFile failed. Trying audioread instead.\n",
      "  warnings.warn('PySoundFile failed. Trying audioread instead.')\n"
     ]
    },
    {
     "name": "stdout",
     "output_type": "stream",
     "text": [
      "./genres_2/Cheeze/02_Like_A_G6.mp3 0.5356273055076599 0.46334993839263916 2735.2510263375075 2864.9138983764583 6291.941999891242 0.04955658171403712\n"
     ]
    },
    {
     "name": "stderr",
     "output_type": "stream",
     "text": [
      "/Users/Andy/opt/anaconda3/lib/python3.7/site-packages/librosa/core/audio.py:161: UserWarning: PySoundFile failed. Trying audioread instead.\n",
      "  warnings.warn('PySoundFile failed. Trying audioread instead.')\n"
     ]
    },
    {
     "name": "stdout",
     "output_type": "stream",
     "text": [
      "./genres_2/Cheeze/Wankelmut_&_Emma_Louise_-_My_Head_Is_A_Jungle_(MK_Remix).mp3 0.3489551842212677 0.21917176246643066 2607.2055748226494 2812.162105383098 5626.635968768126 0.09562155597447795\n"
     ]
    },
    {
     "name": "stderr",
     "output_type": "stream",
     "text": [
      "/Users/Andy/opt/anaconda3/lib/python3.7/site-packages/librosa/core/audio.py:161: UserWarning: PySoundFile failed. Trying audioread instead.\n",
      "  warnings.warn('PySoundFile failed. Trying audioread instead.')\n"
     ]
    },
    {
     "name": "stdout",
     "output_type": "stream",
     "text": [
      "./genres_2/Cheeze/2-10_So_Special.mp3 0.4120670258998871 0.11701568216085434 2897.7764373050395 2613.4752238702804 5932.422441451567 0.1396778929814385\n"
     ]
    },
    {
     "name": "stderr",
     "output_type": "stream",
     "text": [
      "/Users/Andy/opt/anaconda3/lib/python3.7/site-packages/librosa/core/audio.py:161: UserWarning: PySoundFile failed. Trying audioread instead.\n",
      "  warnings.warn('PySoundFile failed. Trying audioread instead.')\n"
     ]
    },
    {
     "name": "stdout",
     "output_type": "stream",
     "text": [
      "./genres_2/Cheeze/12_Candy.mp3 0.35902854800224304 0.07088851183652878 2805.245601512631 2645.370919714161 5892.853307170823 0.13378339798433875\n",
      "./genres_2/Cheeze/18_Rewind_Selector.aif 0.4124882221221924 0.13575832545757294 2562.0214157297864 2459.6882780008445 5083.70947605496 0.12228216538573086\n",
      "./genres_2/Cheeze/07_Dirtee_Cash.aif 0.5179358124732971 0.2968040108680725 4094.2503733784483 3291.0101772574058 8055.29150730496 0.19037304234338748\n"
     ]
    },
    {
     "name": "stderr",
     "output_type": "stream",
     "text": [
      "/Users/Andy/opt/anaconda3/lib/python3.7/site-packages/librosa/core/audio.py:161: UserWarning: PySoundFile failed. Trying audioread instead.\n",
      "  warnings.warn('PySoundFile failed. Trying audioread instead.')\n"
     ]
    },
    {
     "name": "stdout",
     "output_type": "stream",
     "text": [
      "./genres_2/Cheeze/02_Pony.mp3 0.5210912823677063 0.20048139989376068 4086.584203240345 2921.234293956559 7476.992606674159 0.2320480169663573\n"
     ]
    },
    {
     "name": "stderr",
     "output_type": "stream",
     "text": [
      "/Users/Andy/opt/anaconda3/lib/python3.7/site-packages/librosa/core/audio.py:161: UserWarning: PySoundFile failed. Trying audioread instead.\n",
      "  warnings.warn('PySoundFile failed. Trying audioread instead.')\n"
     ]
    },
    {
     "name": "stdout",
     "output_type": "stream",
     "text": [
      "./genres_2/Cheeze/09_I_Know_There's_Gonna_Be_(Good_Times)_[feat._Young_Thug_&_Popcaan].m4a 0.37801846861839294 0.21565859019756317 1713.2817554259132 2005.7902715631178 3546.65844556627 0.06563474296693736\n"
     ]
    },
    {
     "name": "stderr",
     "output_type": "stream",
     "text": [
      "/Users/Andy/opt/anaconda3/lib/python3.7/site-packages/librosa/core/audio.py:161: UserWarning: PySoundFile failed. Trying audioread instead.\n",
      "  warnings.warn('PySoundFile failed. Trying audioread instead.')\n"
     ]
    },
    {
     "name": "stdout",
     "output_type": "stream",
     "text": [
      "./genres_2/Cheeze/Denzel_Curry_-_Threatz.mp3 0.4713149070739746 0.20965830981731415 3513.002839543615 2873.132706269798 6797.522624075551 0.1391896117314385\n"
     ]
    },
    {
     "name": "stderr",
     "output_type": "stream",
     "text": [
      "/Users/Andy/opt/anaconda3/lib/python3.7/site-packages/librosa/core/audio.py:161: UserWarning: PySoundFile failed. Trying audioread instead.\n",
      "  warnings.warn('PySoundFile failed. Trying audioread instead.')\n"
     ]
    },
    {
     "name": "stdout",
     "output_type": "stream",
     "text": [
      "./genres_2/Cheeze/Amerie_-_One_Thing_(Polkadot_remix).mp3 0.36320075392723083 0.057177454233169556 2788.486415309949 2599.435381131197 5578.7483233033645 0.112300155887471\n"
     ]
    },
    {
     "name": "stderr",
     "output_type": "stream",
     "text": [
      "/Users/Andy/opt/anaconda3/lib/python3.7/site-packages/librosa/core/audio.py:161: UserWarning: PySoundFile failed. Trying audioread instead.\n",
      "  warnings.warn('PySoundFile failed. Trying audioread instead.')\n"
     ]
    },
    {
     "name": "stdout",
     "output_type": "stream",
     "text": [
      "./genres_2/Cheeze/01_Katy_On_A_Mission_(Original_Mix).mp3 0.35713571310043335 0.18288415670394897 1182.812460936474 1584.3155462907564 1930.0444777769721 0.05244888341067285\n"
     ]
    },
    {
     "name": "stderr",
     "output_type": "stream",
     "text": [
      "/Users/Andy/opt/anaconda3/lib/python3.7/site-packages/librosa/core/audio.py:161: UserWarning: PySoundFile failed. Trying audioread instead.\n",
      "  warnings.warn('PySoundFile failed. Trying audioread instead.')\n"
     ]
    },
    {
     "name": "stdout",
     "output_type": "stream",
     "text": [
      "./genres_2/Cheeze/Paleface_Ft._Kyla_-_Do_You_Mind_(Crazy_Cousinz_Remix).mp3 0.4295559525489807 0.25485363602638245 3466.892169990623 2916.2618183977793 6902.16599749855 0.1881378244634571\n"
     ]
    },
    {
     "name": "stderr",
     "output_type": "stream",
     "text": [
      "/Users/Andy/opt/anaconda3/lib/python3.7/site-packages/librosa/core/audio.py:161: UserWarning: PySoundFile failed. Trying audioread instead.\n",
      "  warnings.warn('PySoundFile failed. Trying audioread instead.')\n"
     ]
    },
    {
     "name": "stdout",
     "output_type": "stream",
     "text": [
      "./genres_2/Cheeze/01_One_more_time.mp3 0.34298524260520935 0.06730039417743683 3978.2747972552993 2983.2548152714107 7739.96247824826 0.23687078560034802\n",
      "house\n"
     ]
    },
    {
     "name": "stderr",
     "output_type": "stream",
     "text": [
      "/Users/Andy/opt/anaconda3/lib/python3.7/site-packages/librosa/core/audio.py:161: UserWarning: PySoundFile failed. Trying audioread instead.\n",
      "  warnings.warn('PySoundFile failed. Trying audioread instead.')\n"
     ]
    },
    {
     "name": "stdout",
     "output_type": "stream",
     "text": [
      "./genres_2/house/01_Death_Disco_(Todd_Terje_Edit).mp3 0.6397976279258728 0.22316555678844452 1855.9867147440787 2263.781819764585 4183.087002428944 0.060823303364269145\n"
     ]
    },
    {
     "name": "stderr",
     "output_type": "stream",
     "text": [
      "/Users/Andy/opt/anaconda3/lib/python3.7/site-packages/librosa/core/audio.py:161: UserWarning: PySoundFile failed. Trying audioread instead.\n",
      "  warnings.warn('PySoundFile failed. Trying audioread instead.')\n"
     ]
    },
    {
     "name": "stdout",
     "output_type": "stream",
     "text": [
      "./genres_2/house/11_Sene_Kela_(Mr_Raoul_K_&_Laolu_Version).m4a 0.24308176338672638 0.07533184438943863 669.1113450003709 916.0643671802726 1081.8810836898201 0.0350599532337587\n"
     ]
    },
    {
     "name": "stderr",
     "output_type": "stream",
     "text": [
      "/Users/Andy/opt/anaconda3/lib/python3.7/site-packages/librosa/core/audio.py:161: UserWarning: PySoundFile failed. Trying audioread instead.\n",
      "  warnings.warn('PySoundFile failed. Trying audioread instead.')\n"
     ]
    },
    {
     "name": "stdout",
     "output_type": "stream",
     "text": [
      "./genres_2/house/In_The_Heat_Of_The_Night_(Acid_Mix).mp3 0.46477416157722473 0.11905419826507568 3231.8982814568894 2794.20738415234 6699.549047908207 0.19545524579466358\n"
     ]
    },
    {
     "name": "stderr",
     "output_type": "stream",
     "text": [
      "/Users/Andy/opt/anaconda3/lib/python3.7/site-packages/librosa/core/audio.py:161: UserWarning: PySoundFile failed. Trying audioread instead.\n",
      "  warnings.warn('PySoundFile failed. Trying audioread instead.')\n"
     ]
    },
    {
     "name": "stdout",
     "output_type": "stream",
     "text": [
      "./genres_2/house/Happa_-_Bring_It_Back.mp3 0.46331074833869934 0.10931440442800522 2543.443439176537 2349.261235155798 5123.153707765371 0.1481236858323666\n"
     ]
    },
    {
     "name": "stderr",
     "output_type": "stream",
     "text": [
      "/Users/Andy/opt/anaconda3/lib/python3.7/site-packages/librosa/core/audio.py:161: UserWarning: PySoundFile failed. Trying audioread instead.\n",
      "  warnings.warn('PySoundFile failed. Trying audioread instead.')\n"
     ]
    },
    {
     "name": "stdout",
     "output_type": "stream",
     "text": [
      "./genres_2/house/01_Tzantza.mp3 0.6089597940444946 0.23545996844768524 858.0845439039628 1703.4454334742986 1708.6921426370359 0.01048955010150812\n"
     ]
    },
    {
     "name": "stderr",
     "output_type": "stream",
     "text": [
      "/Users/Andy/opt/anaconda3/lib/python3.7/site-packages/librosa/core/audio.py:161: UserWarning: PySoundFile failed. Trying audioread instead.\n",
      "  warnings.warn('PySoundFile failed. Trying audioread instead.')\n"
     ]
    },
    {
     "name": "stdout",
     "output_type": "stream",
     "text": [
      "./genres_2/house/01_Seekwal.mp3 0.5458996891975403 0.14437134563922882 2038.8317025914262 1973.8476603154234 3849.497217589907 0.10339213855858469\n",
      "./genres_2/house/04_I_Feel_Love.aif 0.4159711003303528 0.07334081083536148 2955.667942122214 2665.9645135618034 6081.406227341938 0.14038029292343387\n"
     ]
    },
    {
     "name": "stderr",
     "output_type": "stream",
     "text": [
      "/Users/Andy/opt/anaconda3/lib/python3.7/site-packages/librosa/core/audio.py:161: UserWarning: PySoundFile failed. Trying audioread instead.\n",
      "  warnings.warn('PySoundFile failed. Trying audioread instead.')\n"
     ]
    },
    {
     "name": "stdout",
     "output_type": "stream",
     "text": [
      "./genres_2/house/Want_You_In_My_Soul.mp3 0.2609666883945465 0.06561053544282913 513.2341624293591 466.38709355406 795.3545873513631 0.04603665168213457\n"
     ]
    },
    {
     "name": "stderr",
     "output_type": "stream",
     "text": [
      "/Users/Andy/opt/anaconda3/lib/python3.7/site-packages/librosa/core/audio.py:161: UserWarning: PySoundFile failed. Trying audioread instead.\n",
      "  warnings.warn('PySoundFile failed. Trying audioread instead.')\n"
     ]
    },
    {
     "name": "stdout",
     "output_type": "stream",
     "text": [
      "./genres_2/house/01_Clatter.mp3 0.3526550233364105 0.0590788759291172 2961.4623242633447 2356.1815063340027 5533.233826674884 0.21203868184454758\n"
     ]
    },
    {
     "name": "stderr",
     "output_type": "stream",
     "text": [
      "/Users/Andy/opt/anaconda3/lib/python3.7/site-packages/librosa/core/audio.py:161: UserWarning: PySoundFile failed. Trying audioread instead.\n",
      "  warnings.warn('PySoundFile failed. Trying audioread instead.')\n"
     ]
    },
    {
     "name": "stdout",
     "output_type": "stream",
     "text": [
      "./genres_2/house/03_Bad_Kingdom_(DJ_Koze_Remix).mp3 0.47325214743614197 0.20578810572624207 3118.5196686373934 2628.4699565668266 5862.027352813225 0.1371730441560325\n"
     ]
    },
    {
     "name": "stderr",
     "output_type": "stream",
     "text": [
      "/Users/Andy/opt/anaconda3/lib/python3.7/site-packages/librosa/core/audio.py:161: UserWarning: PySoundFile failed. Trying audioread instead.\n",
      "  warnings.warn('PySoundFile failed. Trying audioread instead.')\n"
     ]
    },
    {
     "name": "stdout",
     "output_type": "stream",
     "text": [
      "./genres_2/house/02_Sing_It_Back_[Herbert's_Tasteful_Dub].mp3 0.6049823760986328 0.15972857177257538 2327.5059152550293 2275.075914564393 4599.412249854989 0.09899760730858469\n"
     ]
    },
    {
     "name": "stderr",
     "output_type": "stream",
     "text": [
      "/Users/Andy/opt/anaconda3/lib/python3.7/site-packages/librosa/core/audio.py:161: UserWarning: PySoundFile failed. Trying audioread instead.\n",
      "  warnings.warn('PySoundFile failed. Trying audioread instead.')\n"
     ]
    },
    {
     "name": "stdout",
     "output_type": "stream",
     "text": [
      "./genres_2/house/Logic1000_-_DJ_Logic_-Please_Forgive_Me.mp3 0.43758127093315125 0.1422518789768219 3444.4693655263445 2384.0449505410575 6015.082962496374 0.20850855568445475\n"
     ]
    },
    {
     "name": "stderr",
     "output_type": "stream",
     "text": [
      "/Users/Andy/opt/anaconda3/lib/python3.7/site-packages/librosa/core/audio.py:161: UserWarning: PySoundFile failed. Trying audioread instead.\n",
      "  warnings.warn('PySoundFile failed. Trying audioread instead.')\n"
     ]
    },
    {
     "name": "stdout",
     "output_type": "stream",
     "text": [
      "./genres_2/house/Karizma_-_Work_It_Out_(PoorDownload).mp3 0.46245378255844116 0.2743036448955536 1523.9438310433925 1816.349725946839 3032.3096609447507 0.06593949390951276\n"
     ]
    },
    {
     "name": "stderr",
     "output_type": "stream",
     "text": [
      "/Users/Andy/opt/anaconda3/lib/python3.7/site-packages/librosa/core/audio.py:161: UserWarning: PySoundFile failed. Trying audioread instead.\n",
      "  warnings.warn('PySoundFile failed. Trying audioread instead.')\n"
     ]
    },
    {
     "name": "stdout",
     "output_type": "stream",
     "text": [
      "./genres_2/house/082._Da_Hool_-_Meet_Her_At_the_Love_Parade.mp3 0.5218902230262756 0.14274032413959503 2413.3922346332834 2528.871780769384 5036.696148582511 0.07354920424883991\n"
     ]
    },
    {
     "name": "stderr",
     "output_type": "stream",
     "text": [
      "/Users/Andy/opt/anaconda3/lib/python3.7/site-packages/librosa/core/audio.py:161: UserWarning: PySoundFile failed. Trying audioread instead.\n",
      "  warnings.warn('PySoundFile failed. Trying audioread instead.')\n"
     ]
    },
    {
     "name": "stdout",
     "output_type": "stream",
     "text": [
      "./genres_2/house/02_Celeste.mp3 0.507514476776123 0.17551952600479126 1067.799744405593 1803.0204932312727 2163.0127519576567 0.016577771534222737\n"
     ]
    },
    {
     "name": "stderr",
     "output_type": "stream",
     "text": [
      "/Users/Andy/opt/anaconda3/lib/python3.7/site-packages/librosa/core/audio.py:161: UserWarning: PySoundFile failed. Trying audioread instead.\n",
      "  warnings.warn('PySoundFile failed. Trying audioread instead.')\n"
     ]
    },
    {
     "name": "stdout",
     "output_type": "stream",
     "text": [
      "./genres_2/house/COEO_-_Never_Going_Home.mp3 0.6236459016799927 0.25435522198677063 3996.68335635964 2502.1786952245534 6597.353764863689 0.28539302675464034\n"
     ]
    },
    {
     "name": "stderr",
     "output_type": "stream",
     "text": [
      "/Users/Andy/opt/anaconda3/lib/python3.7/site-packages/librosa/core/audio.py:161: UserWarning: PySoundFile failed. Trying audioread instead.\n",
      "  warnings.warn('PySoundFile failed. Trying audioread instead.')\n"
     ]
    },
    {
     "name": "stdout",
     "output_type": "stream",
     "text": [
      "./genres_2/house/03_Sugar_Is_Sweeter_(Armand_Van_Helden's_Dru.mp3 0.6710219979286194 0.12055845558643341 4191.728991622586 3133.0973618608186 8235.276111151392 0.2508213547708817\n"
     ]
    },
    {
     "name": "stderr",
     "output_type": "stream",
     "text": [
      "/Users/Andy/opt/anaconda3/lib/python3.7/site-packages/librosa/core/audio.py:161: UserWarning: PySoundFile failed. Trying audioread instead.\n",
      "  warnings.warn('PySoundFile failed. Trying audioread instead.')\n"
     ]
    },
    {
     "name": "stdout",
     "output_type": "stream",
     "text": [
      "./genres_2/house/02_Feel_the_Drive.mp3 0.43986955285072327 0.12822847068309784 3159.0971501594504 2741.9905978607844 6405.903105060905 0.14884874383700697\n"
     ]
    },
    {
     "name": "stderr",
     "output_type": "stream",
     "text": [
      "/Users/Andy/opt/anaconda3/lib/python3.7/site-packages/librosa/core/audio.py:161: UserWarning: PySoundFile failed. Trying audioread instead.\n",
      "  warnings.warn('PySoundFile failed. Trying audioread instead.')\n"
     ]
    },
    {
     "name": "stdout",
     "output_type": "stream",
     "text": [
      "./genres_2/house/02_Elation_E_(Real_E_State_Edit).mp3 0.395037978887558 0.11690512299537659 2220.4198880741396 2393.564663677612 4609.704221650232 0.10694605568445475\n"
     ]
    },
    {
     "name": "stderr",
     "output_type": "stream",
     "text": [
      "/Users/Andy/opt/anaconda3/lib/python3.7/site-packages/librosa/core/audio.py:161: UserWarning: PySoundFile failed. Trying audioread instead.\n",
      "  warnings.warn('PySoundFile failed. Trying audioread instead.')\n"
     ]
    },
    {
     "name": "stdout",
     "output_type": "stream",
     "text": [
      "./genres_2/house/26_Mustat_Varjot_(Original_Mix).mp3 0.45835185050964355 0.2401602417230606 2312.0910068924477 2748.787321768292 5345.00565318663 0.053926189095127613\n",
      "./genres_2/house/04_Dan_Ryan_feat._Jerrald_James_(Original_Mix).aiff 0.5864959359169006 0.08122874796390533 4904.135612282442 2966.9004749426736 8328.528370160238 0.3041414406902552\n"
     ]
    },
    {
     "name": "stderr",
     "output_type": "stream",
     "text": [
      "/Users/Andy/opt/anaconda3/lib/python3.7/site-packages/librosa/core/audio.py:161: UserWarning: PySoundFile failed. Trying audioread instead.\n",
      "  warnings.warn('PySoundFile failed. Trying audioread instead.')\n"
     ]
    },
    {
     "name": "stdout",
     "output_type": "stream",
     "text": [
      "./genres_2/house/Jill_Scott__Slowly_Surely_(Theo_Parrish_Remix.mp3 0.2371756136417389 0.052976708859205246 2452.900521843155 2426.0278626990917 4885.788863109049 0.13649896679234338\n"
     ]
    },
    {
     "name": "stderr",
     "output_type": "stream",
     "text": [
      "/Users/Andy/opt/anaconda3/lib/python3.7/site-packages/librosa/core/audio.py:161: UserWarning: PySoundFile failed. Trying audioread instead.\n",
      "  warnings.warn('PySoundFile failed. Trying audioread instead.')\n"
     ]
    },
    {
     "name": "stdout",
     "output_type": "stream",
     "text": [
      "./genres_2/house/01_Body_Funk.mp3 0.501899242401123 0.10014902800321579 4816.119967662334 3165.077054626277 8685.30007205264 0.32825868256960555\n"
     ]
    },
    {
     "name": "stderr",
     "output_type": "stream",
     "text": [
      "/Users/Andy/opt/anaconda3/lib/python3.7/site-packages/librosa/core/audio.py:161: UserWarning: PySoundFile failed. Trying audioread instead.\n",
      "  warnings.warn('PySoundFile failed. Trying audioread instead.')\n"
     ]
    },
    {
     "name": "stdout",
     "output_type": "stream",
     "text": [
      "./genres_2/house/02_Hotshot_(Special_Request's_Total_Devastat.mp3 0.5965021252632141 0.05760079249739647 4872.115933861091 2934.958028153149 8431.548010168939 0.4255546693735499\n"
     ]
    },
    {
     "name": "stderr",
     "output_type": "stream",
     "text": [
      "/Users/Andy/opt/anaconda3/lib/python3.7/site-packages/librosa/core/audio.py:161: UserWarning: PySoundFile failed. Trying audioread instead.\n",
      "  warnings.warn('PySoundFile failed. Trying audioread instead.')\n"
     ]
    },
    {
     "name": "stdout",
     "output_type": "stream",
     "text": [
      "./genres_2/house/MD_X-Spress_-_God_Made_Me_Phunky_(Original_Mix)_[Full_Length]_2008.mp3 0.5959563851356506 0.2770730257034302 2805.6407828209403 2917.5400680549997 6377.575202109919 0.07192801986658932\n"
     ]
    },
    {
     "name": "stderr",
     "output_type": "stream",
     "text": [
      "/Users/Andy/opt/anaconda3/lib/python3.7/site-packages/librosa/core/audio.py:161: UserWarning: PySoundFile failed. Trying audioread instead.\n",
      "  warnings.warn('PySoundFile failed. Trying audioread instead.')\n"
     ]
    },
    {
     "name": "stdout",
     "output_type": "stream",
     "text": [
      "./genres_2/house/01_Shango_(Daniel_Haaksman_&_DJ_Beware_Remix).mp3 0.5251699686050415 0.08346736431121826 3357.2626636803816 2890.8060634900794 6981.629012742895 0.19105051841647333\n"
     ]
    },
    {
     "name": "stderr",
     "output_type": "stream",
     "text": [
      "/Users/Andy/opt/anaconda3/lib/python3.7/site-packages/librosa/core/audio.py:161: UserWarning: PySoundFile failed. Trying audioread instead.\n",
      "  warnings.warn('PySoundFile failed. Trying audioread instead.')\n"
     ]
    },
    {
     "name": "stdout",
     "output_type": "stream",
     "text": [
      "./genres_2/house/Zig_Zag__Heaven.mp3 0.2697162330150604 0.05506507679820061 2448.724462850888 2553.9261158445174 5352.724632033062 0.08498699427204176\n"
     ]
    },
    {
     "name": "stderr",
     "output_type": "stream",
     "text": [
      "/Users/Andy/opt/anaconda3/lib/python3.7/site-packages/librosa/core/audio.py:161: UserWarning: PySoundFile failed. Trying audioread instead.\n",
      "  warnings.warn('PySoundFile failed. Trying audioread instead.')\n"
     ]
    },
    {
     "name": "stdout",
     "output_type": "stream",
     "text": [
      "./genres_2/house/SONIKKU_-_Sweat_ft._LIZ_(SOPHIE_Remix)_[Official_Audio].mp3 0.40040600299835205 0.11706781387329102 3164.3785428696447 2926.966795142915 6781.4101925029 0.14217707729118328\n"
     ]
    },
    {
     "name": "stderr",
     "output_type": "stream",
     "text": [
      "/Users/Andy/opt/anaconda3/lib/python3.7/site-packages/librosa/core/audio.py:161: UserWarning: PySoundFile failed. Trying audioread instead.\n",
      "  warnings.warn('PySoundFile failed. Trying audioread instead.')\n"
     ]
    },
    {
     "name": "stdout",
     "output_type": "stream",
     "text": [
      "./genres_2/house/Auntie_Flo_feat._Anbuley_-_Dance_Ritual_II.mp3 0.4510350227355957 0.03912097588181496 1808.0955977102794 1992.5244794359053 3524.3258659911544 0.08136397005510441\n"
     ]
    },
    {
     "name": "stderr",
     "output_type": "stream",
     "text": [
      "/Users/Andy/opt/anaconda3/lib/python3.7/site-packages/librosa/core/audio.py:161: UserWarning: PySoundFile failed. Trying audioread instead.\n",
      "  warnings.warn('PySoundFile failed. Trying audioread instead.')\n"
     ]
    },
    {
     "name": "stdout",
     "output_type": "stream",
     "text": [
      "./genres_2/house/01_Sine_Language.mp3 0.37344929575920105 0.08263402432203293 5510.161967425151 2666.3289094191373 8335.048284331497 0.4103443119199536\n"
     ]
    },
    {
     "name": "stderr",
     "output_type": "stream",
     "text": [
      "/Users/Andy/opt/anaconda3/lib/python3.7/site-packages/librosa/core/audio.py:161: UserWarning: PySoundFile failed. Trying audioread instead.\n",
      "  warnings.warn('PySoundFile failed. Trying audioread instead.')\n"
     ]
    },
    {
     "name": "stdout",
     "output_type": "stream",
     "text": [
      "./genres_2/house/1-05_Punk_Navsegda.mp3 0.527109682559967 0.2793334424495697 2157.933837027874 2794.3746352154503 5145.261462713892 0.049525993329466354\n",
      "./genres_2/house/01_We_Magnify_His_Name_Original_Mix.wav 0.5805475115776062 0.22745150327682495 1326.428855094758 1645.9655098343699 2968.4844475058003 0.04681495613399072\n"
     ]
    },
    {
     "name": "stderr",
     "output_type": "stream",
     "text": [
      "/Users/Andy/opt/anaconda3/lib/python3.7/site-packages/librosa/core/audio.py:161: UserWarning: PySoundFile failed. Trying audioread instead.\n",
      "  warnings.warn('PySoundFile failed. Trying audioread instead.')\n"
     ]
    },
    {
     "name": "stdout",
     "output_type": "stream",
     "text": [
      "./genres_2/house/14_Tummy_Tummy_(Auntie_Flo_Remix).mp3 0.5046123266220093 0.32288432121276855 2971.4520775815568 2374.017892699724 5660.509545841793 0.13211689747679814\n",
      "./genres_2/house/TOSS_PORTAL_-_GR_Etiquette_('09_mix).wav 0.4852388799190521 0.23412275314331055 2089.023147041031 2064.2697261099256 3956.7885255039155 0.06632921258700696\n"
     ]
    },
    {
     "name": "stderr",
     "output_type": "stream",
     "text": [
      "/Users/Andy/opt/anaconda3/lib/python3.7/site-packages/librosa/core/audio.py:161: UserWarning: PySoundFile failed. Trying audioread instead.\n",
      "  warnings.warn('PySoundFile failed. Trying audioread instead.')\n"
     ]
    },
    {
     "name": "stdout",
     "output_type": "stream",
     "text": [
      "./genres_2/house/02_Ngoni.mp3 0.349162220954895 0.11295003443956375 1933.1412698272816 1939.8582650996932 3789.169276120215 0.08783171403712298\n"
     ]
    },
    {
     "name": "stderr",
     "output_type": "stream",
     "text": [
      "/Users/Andy/opt/anaconda3/lib/python3.7/site-packages/librosa/core/audio.py:161: UserWarning: PySoundFile failed. Trying audioread instead.\n",
      "  warnings.warn('PySoundFile failed. Trying audioread instead.')\n"
     ]
    },
    {
     "name": "stdout",
     "output_type": "stream",
     "text": [
      "./genres_2/house/03_Miura.mp3 0.5471850037574768 0.18673907220363617 2916.0267777588665 2642.6098363283086 5923.979027697216 0.13057388341067286\n"
     ]
    },
    {
     "name": "stderr",
     "output_type": "stream",
     "text": [
      "/Users/Andy/opt/anaconda3/lib/python3.7/site-packages/librosa/core/audio.py:161: UserWarning: PySoundFile failed. Trying audioread instead.\n",
      "  warnings.warn('PySoundFile failed. Trying audioread instead.')\n"
     ]
    },
    {
     "name": "stdout",
     "output_type": "stream",
     "text": [
      "./genres_2/house/03_A_Lil_Tribute_To_The_Moody_Black_Keys.mp3 0.40667980909347534 0.0756029486656189 1615.1044974153388 1548.3174545133309 3081.446332112819 0.09972832982888631\n"
     ]
    },
    {
     "name": "stderr",
     "output_type": "stream",
     "text": [
      "/Users/Andy/opt/anaconda3/lib/python3.7/site-packages/librosa/core/audio.py:161: UserWarning: PySoundFile failed. Trying audioread instead.\n",
      "  warnings.warn('PySoundFile failed. Trying audioread instead.')\n"
     ]
    },
    {
     "name": "stdout",
     "output_type": "stream",
     "text": [
      "./genres_2/house/rampa-mascha.mp3 0.5608024597167969 0.2609565258026123 832.4005819020581 1711.2506378961773 1326.3653748549884 0.016653676044083528\n",
      "Dark\n"
     ]
    },
    {
     "name": "stderr",
     "output_type": "stream",
     "text": [
      "/Users/Andy/opt/anaconda3/lib/python3.7/site-packages/librosa/core/audio.py:161: UserWarning: PySoundFile failed. Trying audioread instead.\n",
      "  warnings.warn('PySoundFile failed. Trying audioread instead.')\n"
     ]
    },
    {
     "name": "stdout",
     "output_type": "stream",
     "text": [
      "./genres_2/Dark/Happa_-_Bring_It_Back.mp3 0.46331074833869934 0.10931440442800522 2543.443439176537 2349.261235155798 5123.153707765371 0.1481236858323666\n"
     ]
    },
    {
     "name": "stderr",
     "output_type": "stream",
     "text": [
      "/Users/Andy/opt/anaconda3/lib/python3.7/site-packages/librosa/core/audio.py:161: UserWarning: PySoundFile failed. Trying audioread instead.\n",
      "  warnings.warn('PySoundFile failed. Trying audioread instead.')\n"
     ]
    },
    {
     "name": "stdout",
     "output_type": "stream",
     "text": [
      "./genres_2/Dark/02_Hotshot_(Special_Request's_Total_Devastat.mp3 0.5965021252632141 0.05760079249739647 4872.115933861091 2934.958028153149 8431.548010168939 0.4255546693735499\n",
      "./genres_2/Dark/TOSS_PORTAL_-_GR_Etiquette_('09_mix).wav 0.4852388799190521 0.23412275314331055 2089.023147041031 2064.2697261099256 3956.7885255039155 0.06632921258700696\n"
     ]
    },
    {
     "name": "stderr",
     "output_type": "stream",
     "text": [
      "/Users/Andy/opt/anaconda3/lib/python3.7/site-packages/librosa/core/audio.py:161: UserWarning: PySoundFile failed. Trying audioread instead.\n",
      "  warnings.warn('PySoundFile failed. Trying audioread instead.')\n"
     ]
    },
    {
     "name": "stdout",
     "output_type": "stream",
     "text": [
      "./genres_2/Dark/Mak_&_Pasteman_-_Jimmy_Kendricks_(1).mp3 0.5322670340538025 0.15798206627368927 2831.1395912660823 2724.65620245916 5297.592637489124 0.14233001921403712\n",
      "Murlo\n"
     ]
    },
    {
     "name": "stderr",
     "output_type": "stream",
     "text": [
      "/Users/Andy/opt/anaconda3/lib/python3.7/site-packages/librosa/core/audio.py:161: UserWarning: PySoundFile failed. Trying audioread instead.\n",
      "  warnings.warn('PySoundFile failed. Trying audioread instead.')\n"
     ]
    },
    {
     "name": "stdout",
     "output_type": "stream",
     "text": [
      "./genres_2/Murlo/01_Midnight_Marauder.mp3 0.40891167521476746 0.2859015166759491 2529.0983735902273 2748.2975571617203 5646.295633338167 0.04425119634570766\n"
     ]
    },
    {
     "name": "stderr",
     "output_type": "stream",
     "text": [
      "/Users/Andy/opt/anaconda3/lib/python3.7/site-packages/librosa/core/audio.py:161: UserWarning: PySoundFile failed. Trying audioread instead.\n",
      "  warnings.warn('PySoundFile failed. Trying audioread instead.')\n"
     ]
    },
    {
     "name": "stdout",
     "output_type": "stream",
     "text": [
      "./genres_2/Murlo/1-03_Inta.mp3 0.4466741979122162 0.15804414451122284 2530.103961207947 2212.4142041246228 4978.016921041183 0.14546929379350348\n"
     ]
    },
    {
     "name": "stderr",
     "output_type": "stream",
     "text": [
      "/Users/Andy/opt/anaconda3/lib/python3.7/site-packages/librosa/core/audio.py:161: UserWarning: PySoundFile failed. Trying audioread instead.\n",
      "  warnings.warn('PySoundFile failed. Trying audioread instead.')\n"
     ]
    },
    {
     "name": "stdout",
     "output_type": "stream",
     "text": [
      "./genres_2/Murlo/Friendly_Pressure_(Into_The_Sunshine_Mix).mp3 0.32608503103256226 0.28288599848747253 2416.3594409734387 2618.994895015276 5336.387375833817 0.09281648781902552\n"
     ]
    },
    {
     "name": "stderr",
     "output_type": "stream",
     "text": [
      "/Users/Andy/opt/anaconda3/lib/python3.7/site-packages/librosa/core/audio.py:161: UserWarning: PySoundFile failed. Trying audioread instead.\n",
      "  warnings.warn('PySoundFile failed. Trying audioread instead.')\n"
     ]
    },
    {
     "name": "stdout",
     "output_type": "stream",
     "text": [
      "./genres_2/Murlo/01_Ready_Set_Loop.mp3 0.502541184425354 0.1373094916343689 1814.0924602849457 2333.9453245786035 4158.481196073811 0.05454475420533643\n"
     ]
    },
    {
     "name": "stderr",
     "output_type": "stream",
     "text": [
      "/Users/Andy/opt/anaconda3/lib/python3.7/site-packages/librosa/core/audio.py:161: UserWarning: PySoundFile failed. Trying audioread instead.\n",
      "  warnings.warn('PySoundFile failed. Trying audioread instead.')\n"
     ]
    },
    {
     "name": "stdout",
     "output_type": "stream",
     "text": [
      "./genres_2/Murlo/12_Living_Like_I_Do_(feat._Sampha)_[Bonus_Track].m4a 0.4530908763408661 0.2820946276187897 2396.7420915374896 2783.2337704699917 5479.975370685905 0.05801936811194896\n"
     ]
    },
    {
     "name": "stderr",
     "output_type": "stream",
     "text": [
      "/Users/Andy/opt/anaconda3/lib/python3.7/site-packages/librosa/core/audio.py:161: UserWarning: PySoundFile failed. Trying audioread instead.\n",
      "  warnings.warn('PySoundFile failed. Trying audioread instead.')\n"
     ]
    },
    {
     "name": "stdout",
     "output_type": "stream",
     "text": [
      "./genres_2/Murlo/Glass_Animals-Gooey_(Gilligan_Moss_Remix)_(www.myfreemp3.cc).mp3 0.24051061272621155 0.08676514029502869 2736.7619333695816 2164.3431497917495 4768.305505456062 0.18492264537412992\n"
     ]
    },
    {
     "name": "stderr",
     "output_type": "stream",
     "text": [
      "/Users/Andy/opt/anaconda3/lib/python3.7/site-packages/librosa/core/audio.py:161: UserWarning: PySoundFile failed. Trying audioread instead.\n",
      "  warnings.warn('PySoundFile failed. Trying audioread instead.')\n"
     ]
    },
    {
     "name": "stdout",
     "output_type": "stream",
     "text": [
      "./genres_2/Murlo/Nighmares_on_wax-_da_feelin.mp3 0.38468095660209656 0.0950751006603241 1922.4167261381322 2526.043571168008 4576.230332801624 0.06509208236658932\n"
     ]
    },
    {
     "name": "stderr",
     "output_type": "stream",
     "text": [
      "/Users/Andy/opt/anaconda3/lib/python3.7/site-packages/librosa/core/audio.py:161: UserWarning: PySoundFile failed. Trying audioread instead.\n",
      "  warnings.warn('PySoundFile failed. Trying audioread instead.')\n"
     ]
    },
    {
     "name": "stdout",
     "output_type": "stream",
     "text": [
      "./genres_2/Murlo/Teedra_Moses_-_Be_Your_Girl_(Kaytranada_Edition).mp3 0.38395702838897705 0.20096327364444733 1801.9221500074104 2159.815031198623 3612.781866299304 0.07123694895591648\n"
     ]
    },
    {
     "name": "stderr",
     "output_type": "stream",
     "text": [
      "/Users/Andy/opt/anaconda3/lib/python3.7/site-packages/librosa/core/audio.py:161: UserWarning: PySoundFile failed. Trying audioread instead.\n",
      "  warnings.warn('PySoundFile failed. Trying audioread instead.')\n"
     ]
    },
    {
     "name": "stdout",
     "output_type": "stream",
     "text": [
      "./genres_2/Murlo/01_Screamer_(feat._Riko_Dan).mp3 0.48996907472610474 0.09474686533212662 1469.0803467209125 1608.5161770480834 2738.8385816959108 0.077139374274942\n"
     ]
    },
    {
     "name": "stderr",
     "output_type": "stream",
     "text": [
      "/Users/Andy/opt/anaconda3/lib/python3.7/site-packages/librosa/core/audio.py:161: UserWarning: PySoundFile failed. Trying audioread instead.\n",
      "  warnings.warn('PySoundFile failed. Trying audioread instead.')\n"
     ]
    },
    {
     "name": "stdout",
     "output_type": "stream",
     "text": [
      "./genres_2/Murlo/1.1_-_Champion_-_Lighter_VIP.mp3 0.4684899151325226 0.1174110546708107 2531.117660193259 2551.4923797795514 5268.690182714618 0.10549140806264501\n"
     ]
    },
    {
     "name": "stderr",
     "output_type": "stream",
     "text": [
      "/Users/Andy/opt/anaconda3/lib/python3.7/site-packages/librosa/core/audio.py:161: UserWarning: PySoundFile failed. Trying audioread instead.\n",
      "  warnings.warn('PySoundFile failed. Trying audioread instead.')\n"
     ]
    },
    {
     "name": "stdout",
     "output_type": "stream",
     "text": [
      "./genres_2/Murlo/01_Seekwal.mp3 0.5458996891975403 0.14437134563922882 2038.8317025914262 1973.8476603154234 3849.497217589907 0.10339213855858469\n"
     ]
    },
    {
     "name": "stderr",
     "output_type": "stream",
     "text": [
      "/Users/Andy/opt/anaconda3/lib/python3.7/site-packages/librosa/core/audio.py:161: UserWarning: PySoundFile failed. Trying audioread instead.\n",
      "  warnings.warn('PySoundFile failed. Trying audioread instead.')\n"
     ]
    },
    {
     "name": "stdout",
     "output_type": "stream",
     "text": [
      "./genres_2/Murlo/The_Bends.mp3 0.5761463642120361 0.1938435137271881 1693.5727310063314 2057.097253358504 3512.285258211282 0.04867971468967518\n"
     ]
    },
    {
     "name": "stderr",
     "output_type": "stream",
     "text": [
      "/Users/Andy/opt/anaconda3/lib/python3.7/site-packages/librosa/core/audio.py:161: UserWarning: PySoundFile failed. Trying audioread instead.\n",
      "  warnings.warn('PySoundFile failed. Trying audioread instead.')\n"
     ]
    },
    {
     "name": "stdout",
     "output_type": "stream",
     "text": [
      "./genres_2/Murlo/04_LOVE_OF_MY_LIFE_Remix.mp3 0.4222263991832733 0.2569933533668518 2326.302968051601 2525.297698899864 5012.589952508701 0.08652547672563805\n"
     ]
    },
    {
     "name": "stderr",
     "output_type": "stream",
     "text": [
      "/Users/Andy/opt/anaconda3/lib/python3.7/site-packages/librosa/core/audio.py:161: UserWarning: PySoundFile failed. Trying audioread instead.\n",
      "  warnings.warn('PySoundFile failed. Trying audioread instead.')\n"
     ]
    },
    {
     "name": "stdout",
     "output_type": "stream",
     "text": [
      "./genres_2/Murlo/03_Dare_You_(Feat._Tirzah).mp3 0.4038216173648834 0.2809789478778839 1903.1212694556318 1966.5931329653606 3766.586891404437 0.09354154582366589\n"
     ]
    },
    {
     "name": "stderr",
     "output_type": "stream",
     "text": [
      "/Users/Andy/opt/anaconda3/lib/python3.7/site-packages/librosa/core/audio.py:161: UserWarning: PySoundFile failed. Trying audioread instead.\n",
      "  warnings.warn('PySoundFile failed. Trying audioread instead.')\n"
     ]
    },
    {
     "name": "stdout",
     "output_type": "stream",
     "text": [
      "./genres_2/Murlo/01_Look_At_Stars.mp3 0.48414862155914307 0.1912163496017456 1935.6047279537065 2505.620545296491 4487.8992350638055 0.05550772186774942\n"
     ]
    },
    {
     "name": "stderr",
     "output_type": "stream",
     "text": [
      "/Users/Andy/opt/anaconda3/lib/python3.7/site-packages/librosa/core/audio.py:161: UserWarning: PySoundFile failed. Trying audioread instead.\n",
      "  warnings.warn('PySoundFile failed. Trying audioread instead.')\n"
     ]
    },
    {
     "name": "stdout",
     "output_type": "stream",
     "text": [
      "./genres_2/Murlo/Holdin_On_(Kaytranada_Edit).mp3 0.3309175372123718 0.06056641787290573 1107.9096835246285 1334.4082252078804 2036.2116625580047 0.05345490139211137\n"
     ]
    },
    {
     "name": "stderr",
     "output_type": "stream",
     "text": [
      "/Users/Andy/opt/anaconda3/lib/python3.7/site-packages/librosa/core/audio.py:161: UserWarning: PySoundFile failed. Trying audioread instead.\n",
      "  warnings.warn('PySoundFile failed. Trying audioread instead.')\n"
     ]
    },
    {
     "name": "stdout",
     "output_type": "stream",
     "text": [
      "./genres_2/Murlo/26_Rip_Groove_(Feat._Top_Cat).mp3 0.42649412155151367 0.22789394855499268 2826.4101176950626 2321.465161452655 5228.946184835412 0.17133233939965198\n"
     ]
    },
    {
     "name": "stderr",
     "output_type": "stream",
     "text": [
      "/Users/Andy/opt/anaconda3/lib/python3.7/site-packages/librosa/core/audio.py:161: UserWarning: PySoundFile failed. Trying audioread instead.\n",
      "  warnings.warn('PySoundFile failed. Trying audioread instead.')\n"
     ]
    },
    {
     "name": "stdout",
     "output_type": "stream",
     "text": [
      "./genres_2/Murlo/03_Colonise.mp3 0.42795783281326294 0.2743721902370453 819.630909708812 1554.1403254732224 1363.9360680104407 0.017591719837587005\n"
     ]
    },
    {
     "name": "stderr",
     "output_type": "stream",
     "text": [
      "/Users/Andy/opt/anaconda3/lib/python3.7/site-packages/librosa/core/audio.py:161: UserWarning: PySoundFile failed. Trying audioread instead.\n",
      "  warnings.warn('PySoundFile failed. Trying audioread instead.')\n"
     ]
    },
    {
     "name": "stdout",
     "output_type": "stream",
     "text": [
      "./genres_2/Murlo/15_Hydra.mp3 0.533879816532135 0.15801191329956055 2794.9568831184597 2301.129709479312 5345.505263467952 0.14787218133700697\n"
     ]
    },
    {
     "name": "stderr",
     "output_type": "stream",
     "text": [
      "/Users/Andy/opt/anaconda3/lib/python3.7/site-packages/librosa/core/audio.py:161: UserWarning: PySoundFile failed. Trying audioread instead.\n",
      "  warnings.warn('PySoundFile failed. Trying audioread instead.')\n"
     ]
    },
    {
     "name": "stdout",
     "output_type": "stream",
     "text": [
      "./genres_2/Murlo/aj_tracey_-_spirit_bomb_-_zomby_'eski_bomb'_remix.mp3 0.46844780445098877 0.24063239991664886 2652.0144585326366 2493.693001771188 5337.186752283933 0.10786823883410673\n"
     ]
    },
    {
     "name": "stderr",
     "output_type": "stream",
     "text": [
      "/Users/Andy/opt/anaconda3/lib/python3.7/site-packages/librosa/core/audio.py:161: UserWarning: PySoundFile failed. Trying audioread instead.\n",
      "  warnings.warn('PySoundFile failed. Trying audioread instead.')\n"
     ]
    },
    {
     "name": "stdout",
     "output_type": "stream",
     "text": [
      "./genres_2/Murlo/Artful_Dodger_-_Moving_Too_Fast.mp3 0.6126574873924255 0.06602858006954193 1944.0105297416378 2590.2615446192094 4799.531148038718 0.03940803545533643\n"
     ]
    },
    {
     "name": "stderr",
     "output_type": "stream",
     "text": [
      "/Users/Andy/opt/anaconda3/lib/python3.7/site-packages/librosa/core/audio.py:161: UserWarning: PySoundFile failed. Trying audioread instead.\n",
      "  warnings.warn('PySoundFile failed. Trying audioread instead.')\n"
     ]
    },
    {
     "name": "stdout",
     "output_type": "stream",
     "text": [
      "./genres_2/Murlo/Shosho.mp3 0.49297571182250977 0.14354458451271057 2186.2266032331886 2583.427480546823 4892.233835738109 0.08014383338167054\n",
      "./genres_2/Murlo/13_-_Bad_Girl_(Lil_Silva_Dub)__-_Fugative.aiff 0.5461438298225403 0.23860405385494232 3050.2568537378233 2669.2521629765556 6087.751277914733 0.17551275195765662\n"
     ]
    },
    {
     "name": "stderr",
     "output_type": "stream",
     "text": [
      "/Users/Andy/opt/anaconda3/lib/python3.7/site-packages/librosa/core/audio.py:161: UserWarning: PySoundFile failed. Trying audioread instead.\n",
      "  warnings.warn('PySoundFile failed. Trying audioread instead.')\n"
     ]
    },
    {
     "name": "stdout",
     "output_type": "stream",
     "text": [
      "./genres_2/Murlo/Bondax_-_All_I_See_(Official_Video).mp3 0.34933701157569885 0.16052280366420746 2744.492871126603 2552.0676725909693 5619.341658660818 0.14093994707076565\n"
     ]
    },
    {
     "name": "stderr",
     "output_type": "stream",
     "text": [
      "/Users/Andy/opt/anaconda3/lib/python3.7/site-packages/librosa/core/audio.py:161: UserWarning: PySoundFile failed. Trying audioread instead.\n",
      "  warnings.warn('PySoundFile failed. Trying audioread instead.')\n"
     ]
    },
    {
     "name": "stdout",
     "output_type": "stream",
     "text": [
      "./genres_2/Murlo/03_Wildfire.mp3 0.384299099445343 0.262280136346817 2285.818763183925 2517.9061902131352 5077.114620341502 0.07816011999709976\n"
     ]
    },
    {
     "name": "stderr",
     "output_type": "stream",
     "text": [
      "/Users/Andy/opt/anaconda3/lib/python3.7/site-packages/librosa/core/audio.py:161: UserWarning: PySoundFile failed. Trying audioread instead.\n",
      "  warnings.warn('PySoundFile failed. Trying audioread instead.')\n"
     ]
    },
    {
     "name": "stdout",
     "output_type": "stream",
     "text": [
      "./genres_2/Murlo/11_Go_Bang.mp3 0.359736829996109 0.1602591723203659 655.3217136464482 1262.715569611486 1071.3892677820475 0.016380646389211138\n"
     ]
    },
    {
     "name": "stderr",
     "output_type": "stream",
     "text": [
      "/Users/Andy/opt/anaconda3/lib/python3.7/site-packages/librosa/core/audio.py:161: UserWarning: PySoundFile failed. Trying audioread instead.\n",
      "  warnings.warn('PySoundFile failed. Trying audioread instead.')\n"
     ]
    },
    {
     "name": "stdout",
     "output_type": "stream",
     "text": [
      "./genres_2/Murlo/Neighbourhood_09_-_Roska_Remix.mp3 0.4482572376728058 0.1794535368680954 2661.151056533673 2399.4384183491793 5222.201446037558 0.16051538029292342\n"
     ]
    },
    {
     "name": "stderr",
     "output_type": "stream",
     "text": [
      "/Users/Andy/opt/anaconda3/lib/python3.7/site-packages/librosa/core/audio.py:161: UserWarning: PySoundFile failed. Trying audioread instead.\n",
      "  warnings.warn('PySoundFile failed. Trying audioread instead.')\n"
     ]
    },
    {
     "name": "stdout",
     "output_type": "stream",
     "text": [
      "./genres_2/Murlo/Meleka_-_Go__Crazy_Cousins_Remix_.mp3 0.5368621349334717 0.21423354744911194 2599.586414936988 2699.845101528723 5552.918471758991 0.08573244453306264\n"
     ]
    },
    {
     "name": "stderr",
     "output_type": "stream",
     "text": [
      "/Users/Andy/opt/anaconda3/lib/python3.7/site-packages/librosa/core/audio.py:161: UserWarning: PySoundFile failed. Trying audioread instead.\n",
      "  warnings.warn('PySoundFile failed. Trying audioread instead.')\n"
     ]
    },
    {
     "name": "stdout",
     "output_type": "stream",
     "text": [
      "./genres_2/Murlo/Atm_Jam_featuring_Pharrell_(Kaytranada_Edition).mp3 0.39864879846572876 0.15550923347473145 2337.482676899344 2523.718555498111 4773.426510839618 0.11195915204466357\n"
     ]
    },
    {
     "name": "stderr",
     "output_type": "stream",
     "text": [
      "/Users/Andy/opt/anaconda3/lib/python3.7/site-packages/librosa/core/audio.py:161: UserWarning: PySoundFile failed. Trying audioread instead.\n",
      "  warnings.warn('PySoundFile failed. Trying audioread instead.')\n"
     ]
    },
    {
     "name": "stdout",
     "output_type": "stream",
     "text": [
      "./genres_2/Murlo/ODESZA_-_Say_My_Name_(feat._Zyra).mp3 0.331015408039093 0.1749965399503708 1718.2173349348236 2007.5746509921237 3552.5038858577436 0.07145333345417633\n"
     ]
    },
    {
     "name": "stderr",
     "output_type": "stream",
     "text": [
      "/Users/Andy/opt/anaconda3/lib/python3.7/site-packages/librosa/core/audio.py:161: UserWarning: PySoundFile failed. Trying audioread instead.\n",
      "  warnings.warn('PySoundFile failed. Trying audioread instead.')\n"
     ]
    },
    {
     "name": "stdout",
     "output_type": "stream",
     "text": [
      "./genres_2/Murlo/05_Body_Groove_(feat._Nana)_[Mix_MC_Version].mp3 0.4060881733894348 0.15278294682502747 2924.920512273325 2676.3275381848025 5953.356112238979 0.13570480169663574\n"
     ]
    },
    {
     "name": "stderr",
     "output_type": "stream",
     "text": [
      "/Users/Andy/opt/anaconda3/lib/python3.7/site-packages/librosa/core/audio.py:161: UserWarning: PySoundFile failed. Trying audioread instead.\n",
      "  warnings.warn('PySoundFile failed. Trying audioread instead.')\n"
     ]
    },
    {
     "name": "stdout",
     "output_type": "stream",
     "text": [
      "./genres_2/Murlo/03_Sugar_Is_Sweeter_(Armand_Van_Helden's_Dru.mp3 0.6710219979286194 0.12055845558643341 4191.728991622586 3133.0973618608186 8235.276111151392 0.2508213547708817\n"
     ]
    },
    {
     "name": "stderr",
     "output_type": "stream",
     "text": [
      "/Users/Andy/opt/anaconda3/lib/python3.7/site-packages/librosa/core/audio.py:161: UserWarning: PySoundFile failed. Trying audioread instead.\n",
      "  warnings.warn('PySoundFile failed. Trying audioread instead.')\n"
     ]
    },
    {
     "name": "stdout",
     "output_type": "stream",
     "text": [
      "./genres_2/Murlo/11_Love_Junkee_(J_Dilla_Remix).mp3 0.38155969977378845 0.1585833728313446 2078.075390443346 1965.3892787999002 3874.977341937355 0.10435963783352668\n"
     ]
    },
    {
     "name": "stderr",
     "output_type": "stream",
     "text": [
      "/Users/Andy/opt/anaconda3/lib/python3.7/site-packages/librosa/core/audio.py:161: UserWarning: PySoundFile failed. Trying audioread instead.\n",
      "  warnings.warn('PySoundFile failed. Trying audioread instead.')\n"
     ]
    },
    {
     "name": "stdout",
     "output_type": "stream",
     "text": [
      "./genres_2/Murlo/23_-_AJ_Tracey_-_Ladbroke_Grove.mp3 0.4184478223323822 0.1580030918121338 2642.366174352125 2584.8170735624826 5467.7848798216355 0.11150712369489559\n"
     ]
    },
    {
     "name": "stderr",
     "output_type": "stream",
     "text": [
      "/Users/Andy/opt/anaconda3/lib/python3.7/site-packages/librosa/core/audio.py:161: UserWarning: PySoundFile failed. Trying audioread instead.\n",
      "  warnings.warn('PySoundFile failed. Trying audioread instead.')\n"
     ]
    },
    {
     "name": "stdout",
     "output_type": "stream",
     "text": [
      "./genres_2/Murlo/Groove_Chronicles_-_Stone_Cold.mp3 0.41961362957954407 0.07341890782117844 1949.2286659725164 2249.219502741334 4136.298499583092 0.05434083164153132\n"
     ]
    },
    {
     "name": "stderr",
     "output_type": "stream",
     "text": [
      "/Users/Andy/opt/anaconda3/lib/python3.7/site-packages/librosa/core/audio.py:161: UserWarning: PySoundFile failed. Trying audioread instead.\n",
      "  warnings.warn('PySoundFile failed. Trying audioread instead.')\n"
     ]
    },
    {
     "name": "stdout",
     "output_type": "stream",
     "text": [
      "./genres_2/Murlo/Lana_Del_Rey_-_West_Coast_(The_GRADES_Icon_mix).mp3 0.3127804398536682 0.2098701000213623 2437.662551887597 2636.169797623415 5386.823033733323 0.09545388631090487\n"
     ]
    },
    {
     "name": "stderr",
     "output_type": "stream",
     "text": [
      "/Users/Andy/opt/anaconda3/lib/python3.7/site-packages/librosa/core/audio.py:161: UserWarning: PySoundFile failed. Trying audioread instead.\n",
      "  warnings.warn('PySoundFile failed. Trying audioread instead.')\n"
     ]
    },
    {
     "name": "stdout",
     "output_type": "stream",
     "text": [
      "./genres_2/Murlo/1-04_As_I_Ft._Katy_B.mp3 0.5649821758270264 0.1466682404279709 2895.357862472358 2675.4672154742516 5654.6141445221865 0.1648736586426914\n"
     ]
    },
    {
     "name": "stderr",
     "output_type": "stream",
     "text": [
      "/Users/Andy/opt/anaconda3/lib/python3.7/site-packages/librosa/core/audio.py:161: UserWarning: PySoundFile failed. Trying audioread instead.\n",
      "  warnings.warn('PySoundFile failed. Trying audioread instead.')\n"
     ]
    },
    {
     "name": "stdout",
     "output_type": "stream",
     "text": [
      "./genres_2/Murlo/Lady_(Kaytranada_Reeeeeeeeeeeeeemix)_2.mp3 0.4446713626384735 0.10632708668708801 3363.136938740919 2833.615881861334 6807.6397322723315 0.16693440944025523\n"
     ]
    },
    {
     "name": "stderr",
     "output_type": "stream",
     "text": [
      "/Users/Andy/opt/anaconda3/lib/python3.7/site-packages/librosa/core/audio.py:161: UserWarning: PySoundFile failed. Trying audioread instead.\n",
      "  warnings.warn('PySoundFile failed. Trying audioread instead.')\n"
     ]
    },
    {
     "name": "stdout",
     "output_type": "stream",
     "text": [
      "./genres_2/Murlo/DJ_Q_-_Poison.mp3 0.5631352066993713 0.23280493915081024 2542.480304039041 2302.825288785834 4909.994981239124 0.1092696400087007\n"
     ]
    },
    {
     "name": "stderr",
     "output_type": "stream",
     "text": [
      "/Users/Andy/opt/anaconda3/lib/python3.7/site-packages/librosa/core/audio.py:161: UserWarning: PySoundFile failed. Trying audioread instead.\n",
      "  warnings.warn('PySoundFile failed. Trying audioread instead.')\n"
     ]
    },
    {
     "name": "stdout",
     "output_type": "stream",
     "text": [
      "./genres_2/Murlo/1-05_Seasons.mp3 0.40475621819496155 0.1987726390361786 2421.0873287081226 2455.5217909240077 5270.1890135585845 0.08816478755800464\n"
     ]
    },
    {
     "name": "stderr",
     "output_type": "stream",
     "text": [
      "/Users/Andy/opt/anaconda3/lib/python3.7/site-packages/librosa/core/audio.py:161: UserWarning: PySoundFile failed. Trying audioread instead.\n",
      "  warnings.warn('PySoundFile failed. Trying audioread instead.')\n"
     ]
    },
    {
     "name": "stdout",
     "output_type": "stream",
     "text": [
      "./genres_2/Murlo/Rose_Gold.mp3 0.41964012384414673 0.16751594841480255 1199.3572588994095 1700.712817085713 2522.382427312935 0.026937037775522043\n"
     ]
    },
    {
     "name": "stderr",
     "output_type": "stream",
     "text": [
      "/Users/Andy/opt/anaconda3/lib/python3.7/site-packages/librosa/core/audio.py:161: UserWarning: PySoundFile failed. Trying audioread instead.\n",
      "  warnings.warn('PySoundFile failed. Trying audioread instead.')\n"
     ]
    },
    {
     "name": "stdout",
     "output_type": "stream",
     "text": [
      "./genres_2/Murlo/04_124th.mp3 0.32451796531677246 0.10430238395929337 3345.7812472283317 2994.142284809803 7101.210733577436 0.1603715015951276\n"
     ]
    },
    {
     "name": "stderr",
     "output_type": "stream",
     "text": [
      "/Users/Andy/opt/anaconda3/lib/python3.7/site-packages/librosa/core/audio.py:161: UserWarning: PySoundFile failed. Trying audioread instead.\n",
      "  warnings.warn('PySoundFile failed. Trying audioread instead.')\n"
     ]
    },
    {
     "name": "stdout",
     "output_type": "stream",
     "text": [
      "./genres_2/Murlo/Stronger_1.mp3 0.46113088726997375 0.2628968358039856 2078.036170930222 2287.0854296726548 4225.903603538283 0.08844574753480279\n"
     ]
    },
    {
     "name": "stderr",
     "output_type": "stream",
     "text": [
      "/Users/Andy/opt/anaconda3/lib/python3.7/site-packages/librosa/core/audio.py:161: UserWarning: PySoundFile failed. Trying audioread instead.\n",
      "  warnings.warn('PySoundFile failed. Trying audioread instead.')\n"
     ]
    },
    {
     "name": "stdout",
     "output_type": "stream",
     "text": [
      "./genres_2/Murlo/Tru_yuh_body_(Murlo_4x4_remix).mp3 0.4227970838546753 0.18157383799552917 3077.9342295239676 2430.6695889711536 5695.107557823376 0.1614194369924594\n"
     ]
    },
    {
     "name": "stderr",
     "output_type": "stream",
     "text": [
      "/Users/Andy/opt/anaconda3/lib/python3.7/site-packages/librosa/core/audio.py:161: UserWarning: PySoundFile failed. Trying audioread instead.\n",
      "  warnings.warn('PySoundFile failed. Trying audioread instead.')\n"
     ]
    },
    {
     "name": "stdout",
     "output_type": "stream",
     "text": [
      "./genres_2/Murlo/Slaughter.mp3 0.6568616628646851 0.22891992330551147 3600.330103644078 2883.4573703652436 6920.251889682425 0.1890770011600928\n"
     ]
    },
    {
     "name": "stderr",
     "output_type": "stream",
     "text": [
      "/Users/Andy/opt/anaconda3/lib/python3.7/site-packages/librosa/core/audio.py:161: UserWarning: PySoundFile failed. Trying audioread instead.\n",
      "  warnings.warn('PySoundFile failed. Trying audioread instead.')\n"
     ]
    },
    {
     "name": "stdout",
     "output_type": "stream",
     "text": [
      "./genres_2/Murlo/02_Hotshot_(Special_Request's_Total_Devastat.mp3 0.5965021252632141 0.05760079249739647 4872.115933861091 2934.958028153149 8431.548010168939 0.4255546693735499\n"
     ]
    },
    {
     "name": "stderr",
     "output_type": "stream",
     "text": [
      "/Users/Andy/opt/anaconda3/lib/python3.7/site-packages/librosa/core/audio.py:161: UserWarning: PySoundFile failed. Trying audioread instead.\n",
      "  warnings.warn('PySoundFile failed. Trying audioread instead.')\n"
     ]
    },
    {
     "name": "stdout",
     "output_type": "stream",
     "text": [
      "./genres_2/Murlo/Ifan_Dafydd_-_No_Good.mp3 0.4113675057888031 0.1232890859246254 1653.9946411612252 2045.9010624923678 3302.4489400558296 0.06481338819605569\n"
     ]
    },
    {
     "name": "stderr",
     "output_type": "stream",
     "text": [
      "/Users/Andy/opt/anaconda3/lib/python3.7/site-packages/librosa/core/audio.py:161: UserWarning: PySoundFile failed. Trying audioread instead.\n",
      "  warnings.warn('PySoundFile failed. Trying audioread instead.')\n"
     ]
    },
    {
     "name": "stdout",
     "output_type": "stream",
     "text": [
      "./genres_2/Murlo/05_Free_Room_(feat._Appleby).mp3 0.48351559042930603 0.2687368392944336 1518.8247316487575 1849.4976621555325 3085.7679610462587 0.06189276392111369\n"
     ]
    },
    {
     "name": "stderr",
     "output_type": "stream",
     "text": [
      "/Users/Andy/opt/anaconda3/lib/python3.7/site-packages/librosa/core/audio.py:161: UserWarning: PySoundFile failed. Trying audioread instead.\n",
      "  warnings.warn('PySoundFile failed. Trying audioread instead.')\n"
     ]
    },
    {
     "name": "stdout",
     "output_type": "stream",
     "text": [
      "./genres_2/Murlo/2-02_Pick_Six.mp3 0.26998135447502136 0.12440018355846405 3002.676004947346 2621.045440020611 6056.725479444605 0.1594867042488399\n"
     ]
    },
    {
     "name": "stderr",
     "output_type": "stream",
     "text": [
      "/Users/Andy/opt/anaconda3/lib/python3.7/site-packages/librosa/core/audio.py:161: UserWarning: PySoundFile failed. Trying audioread instead.\n",
      "  warnings.warn('PySoundFile failed. Trying audioread instead.')\n"
     ]
    },
    {
     "name": "stdout",
     "output_type": "stream",
     "text": [
      "./genres_2/Murlo/Bang_Bang_(Dvo_Remix).mp3 0.38412949442863464 0.14041489362716675 3233.152885096978 2751.3746874200297 6546.168691542199 0.18833608251160092\n"
     ]
    },
    {
     "name": "stderr",
     "output_type": "stream",
     "text": [
      "/Users/Andy/opt/anaconda3/lib/python3.7/site-packages/librosa/core/audio.py:161: UserWarning: PySoundFile failed. Trying audioread instead.\n",
      "  warnings.warn('PySoundFile failed. Trying audioread instead.')\n"
     ]
    },
    {
     "name": "stdout",
     "output_type": "stream",
     "text": [
      "./genres_2/Murlo/Four_Tet_-_There_Is_Love_In_You_Remixes_-_04_Love_Cry_(Joy_Orbison_remix).mp3 0.4450661838054657 0.09420210868120193 1129.9986561808103 1760.7851279882743 1987.0000498477377 0.039309472882830626\n"
     ]
    },
    {
     "name": "stderr",
     "output_type": "stream",
     "text": [
      "/Users/Andy/opt/anaconda3/lib/python3.7/site-packages/librosa/core/audio.py:161: UserWarning: PySoundFile failed. Trying audioread instead.\n",
      "  warnings.warn('PySoundFile failed. Trying audioread instead.')\n"
     ]
    },
    {
     "name": "stdout",
     "output_type": "stream",
     "text": [
      "./genres_2/Murlo/01_2020.mp3 0.5079361200332642 0.0906543880701065 1025.5978167862957 1366.3237240217338 2027.4435021207946 0.03224808765951276\n"
     ]
    },
    {
     "name": "stderr",
     "output_type": "stream",
     "text": [
      "/Users/Andy/opt/anaconda3/lib/python3.7/site-packages/librosa/core/audio.py:161: UserWarning: PySoundFile failed. Trying audioread instead.\n",
      "  warnings.warn('PySoundFile failed. Trying audioread instead.')\n"
     ]
    },
    {
     "name": "stdout",
     "output_type": "stream",
     "text": [
      "./genres_2/Murlo/09_Glowed_Up.mp3 0.5006910562515259 0.2777155935764313 2117.025753416995 2339.138654431082 4392.648534929669 0.05922477704466357\n"
     ]
    },
    {
     "name": "stderr",
     "output_type": "stream",
     "text": [
      "/Users/Andy/opt/anaconda3/lib/python3.7/site-packages/librosa/core/audio.py:161: UserWarning: PySoundFile failed. Trying audioread instead.\n",
      "  warnings.warn('PySoundFile failed. Trying audioread instead.')\n"
     ]
    },
    {
     "name": "stdout",
     "output_type": "stream",
     "text": [
      "./genres_2/Murlo/Living_Like_I_DO_(Lil_Silva_Remix).mp3 0.49947866797447205 0.1570497453212738 2504.8277776873574 2545.673687302018 5348.4779446418215 0.09958671693735499\n"
     ]
    },
    {
     "name": "stderr",
     "output_type": "stream",
     "text": [
      "/Users/Andy/opt/anaconda3/lib/python3.7/site-packages/librosa/core/audio.py:161: UserWarning: PySoundFile failed. Trying audioread instead.\n",
      "  warnings.warn('PySoundFile failed. Trying audioread instead.')\n"
     ]
    },
    {
     "name": "stdout",
     "output_type": "stream",
     "text": [
      "./genres_2/Murlo/1-07_Fly_Bi_(Feat._Mc_Kie_Mc_Sparks).mp3 0.4659186005592346 0.11683173477649689 3563.3168480418376 2429.2671344395376 6261.39083118837 0.26597280126160094\n"
     ]
    },
    {
     "name": "stderr",
     "output_type": "stream",
     "text": [
      "/Users/Andy/opt/anaconda3/lib/python3.7/site-packages/librosa/core/audio.py:161: UserWarning: PySoundFile failed. Trying audioread instead.\n",
      "  warnings.warn('PySoundFile failed. Trying audioread instead.')\n"
     ]
    },
    {
     "name": "stdout",
     "output_type": "stream",
     "text": [
      "./genres_2/Murlo/Gabryelle_Refix.mp3 0.46287471055984497 0.14040079712867737 2669.125503031355 2505.2312885075366 5382.901093024942 0.09010205191415313\n"
     ]
    },
    {
     "name": "stderr",
     "output_type": "stream",
     "text": [
      "/Users/Andy/opt/anaconda3/lib/python3.7/site-packages/librosa/core/audio.py:161: UserWarning: PySoundFile failed. Trying audioread instead.\n",
      "  warnings.warn('PySoundFile failed. Trying audioread instead.')\n"
     ]
    },
    {
     "name": "stdout",
     "output_type": "stream",
     "text": [
      "./genres_2/Murlo/16_Saved_Soul.mp3 0.2653231918811798 0.20735108852386475 1563.5067543716368 1786.4932354356101 3115.6446558693447 0.06879440980278423\n"
     ]
    },
    {
     "name": "stderr",
     "output_type": "stream",
     "text": [
      "/Users/Andy/opt/anaconda3/lib/python3.7/site-packages/librosa/core/audio.py:161: UserWarning: PySoundFile failed. Trying audioread instead.\n",
      "  warnings.warn('PySoundFile failed. Trying audioread instead.')\n"
     ]
    },
    {
     "name": "stdout",
     "output_type": "stream",
     "text": [
      "./genres_2/Murlo/02_21_Seconds_[Clean].mp3 0.4837096929550171 0.16414809226989746 3999.6012804933043 2894.570885436101 7458.7318508918215 0.23131162993039442\n"
     ]
    },
    {
     "name": "stderr",
     "output_type": "stream",
     "text": [
      "/Users/Andy/opt/anaconda3/lib/python3.7/site-packages/librosa/core/audio.py:161: UserWarning: PySoundFile failed. Trying audioread instead.\n",
      "  warnings.warn('PySoundFile failed. Trying audioread instead.')\n"
     ]
    },
    {
     "name": "stdout",
     "output_type": "stream",
     "text": [
      "./genres_2/Murlo/SONIKKU_-_Sweat_ft._LIZ_(SOPHIE_Remix)_[Official_Audio].mp3 0.40040600299835205 0.11706781387329102 3164.3785428696447 2926.966795142915 6781.4101925029 0.14217707729118328\n"
     ]
    },
    {
     "name": "stderr",
     "output_type": "stream",
     "text": [
      "/Users/Andy/opt/anaconda3/lib/python3.7/site-packages/librosa/core/audio.py:161: UserWarning: PySoundFile failed. Trying audioread instead.\n",
      "  warnings.warn('PySoundFile failed. Trying audioread instead.')\n"
     ]
    },
    {
     "name": "stdout",
     "output_type": "stream",
     "text": [
      "./genres_2/Murlo/02_Hunter.mp3 0.25932377576828003 0.0759931430220604 1946.953629022556 2313.6683236028166 4365.444755111659 0.05945249057424594\n"
     ]
    },
    {
     "name": "stderr",
     "output_type": "stream",
     "text": [
      "/Users/Andy/opt/anaconda3/lib/python3.7/site-packages/librosa/core/audio.py:161: UserWarning: PySoundFile failed. Trying audioread instead.\n",
      "  warnings.warn('PySoundFile failed. Trying audioread instead.')\n"
     ]
    },
    {
     "name": "stdout",
     "output_type": "stream",
     "text": [
      "./genres_2/Murlo/109_zed_bias_-_neighbourhood_(feat._mc_rumpus).mp3 0.5405709743499756 0.12401087582111359 3509.0699758964456 2755.3009680038635 6720.2578940690255 0.1603125906322506\n"
     ]
    },
    {
     "name": "stderr",
     "output_type": "stream",
     "text": [
      "/Users/Andy/opt/anaconda3/lib/python3.7/site-packages/librosa/core/audio.py:161: UserWarning: PySoundFile failed. Trying audioread instead.\n",
      "  warnings.warn('PySoundFile failed. Trying audioread instead.')\n"
     ]
    },
    {
     "name": "stdout",
     "output_type": "stream",
     "text": [
      "./genres_2/Murlo/02_Going_Until_I_Am_Gone.mp3 0.4799681007862091 0.1471133828163147 1876.1317721179662 2329.7924390998287 4049.5411742314386 0.07449291255800464\n"
     ]
    },
    {
     "name": "stderr",
     "output_type": "stream",
     "text": [
      "/Users/Andy/opt/anaconda3/lib/python3.7/site-packages/librosa/core/audio.py:161: UserWarning: PySoundFile failed. Trying audioread instead.\n",
      "  warnings.warn('PySoundFile failed. Trying audioread instead.')\n"
     ]
    },
    {
     "name": "stdout",
     "output_type": "stream",
     "text": [
      "./genres_2/Murlo/Missy_Elliott_-_Sock_It_2_Me_(Kaytranada_Remix).mp3 0.34678059816360474 0.12183468788862228 2259.080951771927 2655.7932799092614 5286.251484103103 0.08431065110208817\n"
     ]
    },
    {
     "name": "stderr",
     "output_type": "stream",
     "text": [
      "/Users/Andy/opt/anaconda3/lib/python3.7/site-packages/librosa/core/audio.py:161: UserWarning: PySoundFile failed. Trying audioread instead.\n",
      "  warnings.warn('PySoundFile failed. Trying audioread instead.')\n"
     ]
    },
    {
     "name": "stdout",
     "output_type": "stream",
     "text": [
      "./genres_2/Murlo/02_Grazed.mp3 0.5370340943336487 0.19043873250484467 1863.761489993684 2217.406829121336 3864.1357988326567 0.0558657192575406\n"
     ]
    },
    {
     "name": "stderr",
     "output_type": "stream",
     "text": [
      "/Users/Andy/opt/anaconda3/lib/python3.7/site-packages/librosa/core/audio.py:161: UserWarning: PySoundFile failed. Trying audioread instead.\n",
      "  warnings.warn('PySoundFile failed. Trying audioread instead.')\n"
     ]
    },
    {
     "name": "stdout",
     "output_type": "stream",
     "text": [
      "./genres_2/Murlo/01_Sine_Language.mp3 0.37344929575920105 0.08263402432203293 5510.161967425151 2666.3289094191373 8335.048284331497 0.4103443119199536\n"
     ]
    },
    {
     "name": "stderr",
     "output_type": "stream",
     "text": [
      "/Users/Andy/opt/anaconda3/lib/python3.7/site-packages/librosa/core/audio.py:161: UserWarning: PySoundFile failed. Trying audioread instead.\n",
      "  warnings.warn('PySoundFile failed. Trying audioread instead.')\n"
     ]
    },
    {
     "name": "stdout",
     "output_type": "stream",
     "text": [
      "./genres_2/Murlo/If_(Kaytranada_Rmx).mp3 0.4976530075073242 0.38625699281692505 1177.7105279635919 1944.6437827890993 2468.749263612964 0.02360856837296984\n",
      "./genres_2/Murlo/02_-_Fones.wav 0.3243325352668762 0.0906107947230339 2413.5052617136394 2530.0911416649137 5016.886600928075 0.10675686086136892\n"
     ]
    },
    {
     "name": "stderr",
     "output_type": "stream",
     "text": [
      "/Users/Andy/opt/anaconda3/lib/python3.7/site-packages/librosa/core/audio.py:161: UserWarning: PySoundFile failed. Trying audioread instead.\n",
      "  warnings.warn('PySoundFile failed. Trying audioread instead.')\n"
     ]
    },
    {
     "name": "stdout",
     "output_type": "stream",
     "text": [
      "./genres_2/Murlo/Paper_Planes.mp3 0.3656327724456787 0.24888670444488525 2414.8935770089147 2499.756787665241 5124.927324264067 0.0996252356438515\n"
     ]
    },
    {
     "name": "stderr",
     "output_type": "stream",
     "text": [
      "/Users/Andy/opt/anaconda3/lib/python3.7/site-packages/librosa/core/audio.py:161: UserWarning: PySoundFile failed. Trying audioread instead.\n",
      "  warnings.warn('PySoundFile failed. Trying audioread instead.')\n"
     ]
    },
    {
     "name": "stdout",
     "output_type": "stream",
     "text": [
      "./genres_2/Murlo/01_Keep_Calling_(DJ_Q_Remix).mp3 0.502857506275177 0.2412579506635666 2807.020125156058 2346.903222575058 5147.609631036108 0.1271094656322506\n"
     ]
    },
    {
     "name": "stderr",
     "output_type": "stream",
     "text": [
      "/Users/Andy/opt/anaconda3/lib/python3.7/site-packages/librosa/core/audio.py:161: UserWarning: PySoundFile failed. Trying audioread instead.\n",
      "  warnings.warn('PySoundFile failed. Trying audioread instead.')\n"
     ]
    },
    {
     "name": "stdout",
     "output_type": "stream",
     "text": [
      "./genres_2/Murlo/01_Skeezers.mp3 0.2801849842071533 0.07369694858789444 2590.741876686536 2067.763444581005 4916.989525177639 0.154301406612529\n"
     ]
    },
    {
     "name": "stderr",
     "output_type": "stream",
     "text": [
      "/Users/Andy/opt/anaconda3/lib/python3.7/site-packages/librosa/core/audio.py:161: UserWarning: PySoundFile failed. Trying audioread instead.\n",
      "  warnings.warn('PySoundFile failed. Trying audioread instead.')\n"
     ]
    },
    {
     "name": "stdout",
     "output_type": "stream",
     "text": [
      "./genres_2/Murlo/Stylo_G-X5_(Nora_Zion_edit).mp3 0.30870264768600464 0.13319742679595947 2838.70832733214 2565.9480316178365 5580.821705970852 0.13660772549303946\n"
     ]
    },
    {
     "name": "stderr",
     "output_type": "stream",
     "text": [
      "/Users/Andy/opt/anaconda3/lib/python3.7/site-packages/librosa/core/audio.py:161: UserWarning: PySoundFile failed. Trying audioread instead.\n",
      "  warnings.warn('PySoundFile failed. Trying audioread instead.')\n"
     ]
    },
    {
     "name": "stdout",
     "output_type": "stream",
     "text": [
      "./genres_2/Murlo/Ari_Spn.mp3 0.3182408809661865 0.04553285613656044 1432.667913384775 1066.532928009726 2244.973818608614 0.09584700369779582\n"
     ]
    },
    {
     "name": "stderr",
     "output_type": "stream",
     "text": [
      "/Users/Andy/opt/anaconda3/lib/python3.7/site-packages/librosa/core/audio.py:161: UserWarning: PySoundFile failed. Trying audioread instead.\n",
      "  warnings.warn('PySoundFile failed. Trying audioread instead.')\n"
     ]
    },
    {
     "name": "stdout",
     "output_type": "stream",
     "text": [
      "./genres_2/Murlo/05_Trials_of_the_Past.mp3 0.47602957487106323 0.31033289432525635 973.1887626978744 1361.9269559077563 2079.9025816596577 0.020789905379930394\n"
     ]
    },
    {
     "name": "stderr",
     "output_type": "stream",
     "text": [
      "/Users/Andy/opt/anaconda3/lib/python3.7/site-packages/librosa/core/audio.py:161: UserWarning: PySoundFile failed. Trying audioread instead.\n",
      "  warnings.warn('PySoundFile failed. Trying audioread instead.')\n"
     ]
    },
    {
     "name": "stdout",
     "output_type": "stream",
     "text": [
      "./genres_2/Murlo/_Gold_(Snakehips_Bootleg).mp3 0.3152645230293274 0.14108726382255554 1978.1133275522577 2130.1107111062906 3976.9977613834108 0.09070702218677494\n"
     ]
    },
    {
     "name": "stderr",
     "output_type": "stream",
     "text": [
      "/Users/Andy/opt/anaconda3/lib/python3.7/site-packages/librosa/core/audio.py:161: UserWarning: PySoundFile failed. Trying audioread instead.\n",
      "  warnings.warn('PySoundFile failed. Trying audioread instead.')\n"
     ]
    },
    {
     "name": "stdout",
     "output_type": "stream",
     "text": [
      "./genres_2/Murlo/15_Typically_Her_(Kaytranada_Edition).mp3 0.3441072106361389 0.034289609640836716 3187.0037813931003 2428.2460220717157 5772.24738525957 0.1995008428799304\n"
     ]
    },
    {
     "name": "stderr",
     "output_type": "stream",
     "text": [
      "/Users/Andy/opt/anaconda3/lib/python3.7/site-packages/librosa/core/audio.py:161: UserWarning: PySoundFile failed. Trying audioread instead.\n",
      "  warnings.warn('PySoundFile failed. Trying audioread instead.')\n"
     ]
    },
    {
     "name": "stdout",
     "output_type": "stream",
     "text": [
      "./genres_2/Murlo/Rihanna_ft._Drake_-_Work_(Murlo_Remix)_(1).mp3 0.4151264727115631 0.21075446903705597 1894.4360949890367 2473.4405318800464 4216.860657446346 0.04457520664153132\n"
     ]
    },
    {
     "name": "stderr",
     "output_type": "stream",
     "text": [
      "/Users/Andy/opt/anaconda3/lib/python3.7/site-packages/librosa/core/audio.py:161: UserWarning: PySoundFile failed. Trying audioread instead.\n",
      "  warnings.warn('PySoundFile failed. Trying audioread instead.')\n"
     ]
    },
    {
     "name": "stdout",
     "output_type": "stream",
     "text": [
      "./genres_2/Murlo/09_-_zed_bias_-_neighbourhood_(el-b_remix).mp3 0.3492775857448578 0.23599636554718018 2400.2834871598443 2395.4066822419272 4826.260298089473 0.11725207547853829\n",
      "./genres_2/Murlo/YGG_-_Strikers_(Bailey_Ibbs_RMX)MIX2.wav 0.5214425325393677 0.15104803442955017 3157.647460253421 2591.4396700508355 6066.36795787413 0.14642546403712298\n"
     ]
    },
    {
     "name": "stderr",
     "output_type": "stream",
     "text": [
      "/Users/Andy/opt/anaconda3/lib/python3.7/site-packages/librosa/core/audio.py:161: UserWarning: PySoundFile failed. Trying audioread instead.\n",
      "  warnings.warn('PySoundFile failed. Trying audioread instead.')\n"
     ]
    },
    {
     "name": "stdout",
     "output_type": "stream",
     "text": [
      "./genres_2/Murlo/01_Timeless_(SBTRKT_Edit).mp3 0.41479727625846863 0.10820506513118744 2019.1044765118415 2196.0835501791958 4259.077726218097 0.08079072107018562\n"
     ]
    },
    {
     "name": "stderr",
     "output_type": "stream",
     "text": [
      "/Users/Andy/opt/anaconda3/lib/python3.7/site-packages/librosa/core/audio.py:161: UserWarning: PySoundFile failed. Trying audioread instead.\n",
      "  warnings.warn('PySoundFile failed. Trying audioread instead.')\n"
     ]
    },
    {
     "name": "stdout",
     "output_type": "stream",
     "text": [
      "./genres_2/Murlo/Lady_(Kaytranada_Reeeeeeeeeeeeeemix).mp3 0.4446713626384735 0.10632708668708801 3363.136938740919 2833.615881861334 6807.6397322723315 0.16693440944025523\n"
     ]
    },
    {
     "name": "stderr",
     "output_type": "stream",
     "text": [
      "/Users/Andy/opt/anaconda3/lib/python3.7/site-packages/librosa/core/audio.py:161: UserWarning: PySoundFile failed. Trying audioread instead.\n",
      "  warnings.warn('PySoundFile failed. Trying audioread instead.')\n"
     ]
    },
    {
     "name": "stdout",
     "output_type": "stream",
     "text": [
      "./genres_2/Murlo/tp.mp3 0.41108158230781555 0.06232866644859314 3269.9555121006124 2793.9749591503023 6555.0867350638055 0.18770732127320186\n",
      "./genres_2/Murlo/TOSS_PORTAL_-_GR_Etiquette_('09_mix).wav 0.4852388799190521 0.23412275314331055 2089.023147041031 2064.2697261099256 3956.7885255039155 0.06632921258700696\n"
     ]
    },
    {
     "name": "stderr",
     "output_type": "stream",
     "text": [
      "/Users/Andy/opt/anaconda3/lib/python3.7/site-packages/librosa/core/audio.py:161: UserWarning: PySoundFile failed. Trying audioread instead.\n",
      "  warnings.warn('PySoundFile failed. Trying audioread instead.')\n"
     ]
    },
    {
     "name": "stdout",
     "output_type": "stream",
     "text": [
      "./genres_2/Murlo/02_Kru_(Mssingno_Remix)_1.mp3 0.32063135504722595 0.08029032498598099 2300.4259266626063 2253.7119260321 4752.692684164733 0.11502138921113689\n"
     ]
    },
    {
     "name": "stderr",
     "output_type": "stream",
     "text": [
      "/Users/Andy/opt/anaconda3/lib/python3.7/site-packages/librosa/core/audio.py:161: UserWarning: PySoundFile failed. Trying audioread instead.\n",
      "  warnings.warn('PySoundFile failed. Trying audioread instead.')\n"
     ]
    },
    {
     "name": "stdout",
     "output_type": "stream",
     "text": [
      "./genres_2/Murlo/J_Hus_-_Did_You_See_Conducta_Remix_Clean_.mp3 0.43007805943489075 0.20175299048423767 2865.7586754360636 2756.2256334499075 6178.5054855169665 0.12314657047563805\n"
     ]
    },
    {
     "name": "stderr",
     "output_type": "stream",
     "text": [
      "/Users/Andy/opt/anaconda3/lib/python3.7/site-packages/librosa/core/audio.py:161: UserWarning: PySoundFile failed. Trying audioread instead.\n",
      "  warnings.warn('PySoundFile failed. Trying audioread instead.')\n"
     ]
    },
    {
     "name": "stdout",
     "output_type": "stream",
     "text": [
      "./genres_2/Murlo/When_I_Fall_In_Love_(Dub_Mix).m4a 0.21795673668384552 0.12364554405212402 1885.9662279571548 2165.3423657116473 3635.938802838602 0.07786783098897912\n"
     ]
    },
    {
     "name": "stderr",
     "output_type": "stream",
     "text": [
      "/Users/Andy/opt/anaconda3/lib/python3.7/site-packages/librosa/core/audio.py:161: UserWarning: PySoundFile failed. Trying audioread instead.\n",
      "  warnings.warn('PySoundFile failed. Trying audioread instead.')\n"
     ]
    },
    {
     "name": "stdout",
     "output_type": "stream",
     "text": [
      "./genres_2/Murlo/02_Step_In_Shadows.mp3 0.3254545032978058 0.081293024122715 2089.1626731895863 2513.180209658035 4699.159442521027 0.06750063442575406\n"
     ]
    },
    {
     "name": "stderr",
     "output_type": "stream",
     "text": [
      "/Users/Andy/opt/anaconda3/lib/python3.7/site-packages/librosa/core/audio.py:161: UserWarning: PySoundFile failed. Trying audioread instead.\n",
      "  warnings.warn('PySoundFile failed. Trying audioread instead.')\n"
     ]
    },
    {
     "name": "stdout",
     "output_type": "stream",
     "text": [
      "./genres_2/Murlo/Flume_-_Holdin_On_(Kaytranada_Edit).mp3 0.3316684663295746 0.05841558054089546 1056.9988911452149 1269.478400727289 1907.5620151174594 0.05167397766821346\n"
     ]
    },
    {
     "name": "stderr",
     "output_type": "stream",
     "text": [
      "/Users/Andy/opt/anaconda3/lib/python3.7/site-packages/librosa/core/audio.py:161: UserWarning: PySoundFile failed. Trying audioread instead.\n",
      "  warnings.warn('PySoundFile failed. Trying audioread instead.')\n"
     ]
    },
    {
     "name": "stdout",
     "output_type": "stream",
     "text": [
      "./genres_2/Murlo/08_Pharoahs.mp3 0.4626164138317108 0.19218076765537262 2579.5128530593424 2705.6579724961803 5484.621746302204 0.08149878552784223\n"
     ]
    },
    {
     "name": "stderr",
     "output_type": "stream",
     "text": [
      "/Users/Andy/opt/anaconda3/lib/python3.7/site-packages/librosa/core/audio.py:161: UserWarning: PySoundFile failed. Trying audioread instead.\n",
      "  warnings.warn('PySoundFile failed. Trying audioread instead.')\n"
     ]
    },
    {
     "name": "stdout",
     "output_type": "stream",
     "text": [
      "./genres_2/Murlo/Burna_Boy_-_Tonight_(Murlo_Refix).mp3 0.5419530868530273 0.19850948452949524 2512.7193704413103 2549.556312464968 5336.537258918213 0.08570638776102088\n"
     ]
    },
    {
     "name": "stderr",
     "output_type": "stream",
     "text": [
      "/Users/Andy/opt/anaconda3/lib/python3.7/site-packages/librosa/core/audio.py:161: UserWarning: PySoundFile failed. Trying audioread instead.\n",
      "  warnings.warn('PySoundFile failed. Trying audioread instead.')\n"
     ]
    },
    {
     "name": "stdout",
     "output_type": "stream",
     "text": [
      "./genres_2/Murlo/01_Kcal.mp3 0.23269684612751007 0.014616519212722778 3695.1095001190015 2936.2909326399563 7358.160301261601 0.19360294917343387\n"
     ]
    },
    {
     "name": "stderr",
     "output_type": "stream",
     "text": [
      "/Users/Andy/opt/anaconda3/lib/python3.7/site-packages/librosa/core/audio.py:161: UserWarning: PySoundFile failed. Trying audioread instead.\n",
      "  warnings.warn('PySoundFile failed. Trying audioread instead.')\n"
     ]
    },
    {
     "name": "stdout",
     "output_type": "stream",
     "text": [
      "./genres_2/Murlo/Gotta_Get_Thru_This.mp3 0.43396803736686707 0.1247752457857132 3292.09200092393 2717.0384253612524 6433.20680693518 0.19779808947215777\n"
     ]
    },
    {
     "name": "stderr",
     "output_type": "stream",
     "text": [
      "/Users/Andy/opt/anaconda3/lib/python3.7/site-packages/librosa/core/audio.py:161: UserWarning: PySoundFile failed. Trying audioread instead.\n",
      "  warnings.warn('PySoundFile failed. Trying audioread instead.')\n"
     ]
    },
    {
     "name": "stdout",
     "output_type": "stream",
     "text": [
      "./genres_2/Murlo/06_Sidney_Samson-Riverside_(Let's_Go)_(Lil_Silva_Remix).m4a 0.45465287566185 0.2860410511493683 3729.944550888817 2953.9488766973227 7395.930838529583 0.22760250507540603\n"
     ]
    },
    {
     "name": "stderr",
     "output_type": "stream",
     "text": [
      "/Users/Andy/opt/anaconda3/lib/python3.7/site-packages/librosa/core/audio.py:161: UserWarning: PySoundFile failed. Trying audioread instead.\n",
      "  warnings.warn('PySoundFile failed. Trying audioread instead.')\n"
     ]
    },
    {
     "name": "stdout",
     "output_type": "stream",
     "text": [
      "./genres_2/Murlo/16._On_My_Mind_-_Jorja_Smith_&_Preditah.mp3 0.3484613299369812 0.18387337028980255 1823.2824009017957 2141.7147467196028 3733.4627297527554 0.08227822288283063\n"
     ]
    },
    {
     "name": "stderr",
     "output_type": "stream",
     "text": [
      "/Users/Andy/opt/anaconda3/lib/python3.7/site-packages/librosa/core/audio.py:161: UserWarning: PySoundFile failed. Trying audioread instead.\n",
      "  warnings.warn('PySoundFile failed. Trying audioread instead.')\n"
     ]
    },
    {
     "name": "stdout",
     "output_type": "stream",
     "text": [
      "./genres_2/Murlo/15._Sticky_-_Booo!_(feat_Ms_Dynamite).mp3 0.45376330614089966 0.23049791157245636 3417.958921319667 2978.3680842205636 7053.822698393997 0.17115107489849188\n"
     ]
    },
    {
     "name": "stderr",
     "output_type": "stream",
     "text": [
      "/Users/Andy/opt/anaconda3/lib/python3.7/site-packages/librosa/core/audio.py:161: UserWarning: PySoundFile failed. Trying audioread instead.\n",
      "  warnings.warn('PySoundFile failed. Trying audioread instead.')\n"
     ]
    },
    {
     "name": "stdout",
     "output_type": "stream",
     "text": [
      "./genres_2/Murlo/01_De_Siegalizer_(Logos_remix).mp3 0.37184518575668335 0.16216270625591278 3845.310598277515 3242.397575659914 7983.772295533643 0.1910697777697216\n"
     ]
    },
    {
     "name": "stderr",
     "output_type": "stream",
     "text": [
      "/Users/Andy/opt/anaconda3/lib/python3.7/site-packages/librosa/core/audio.py:161: UserWarning: PySoundFile failed. Trying audioread instead.\n",
      "  warnings.warn('PySoundFile failed. Trying audioread instead.')\n"
     ]
    },
    {
     "name": "stdout",
     "output_type": "stream",
     "text": [
      "./genres_2/Murlo/01_Hold_On_(feat._Sampha).mp3 0.33781948685646057 0.23776298761367798 695.0764520053367 1426.4881767014565 957.6030262108469 0.01974310288573086\n"
     ]
    },
    {
     "name": "stderr",
     "output_type": "stream",
     "text": [
      "/Users/Andy/opt/anaconda3/lib/python3.7/site-packages/librosa/core/audio.py:161: UserWarning: PySoundFile failed. Trying audioread instead.\n",
      "  warnings.warn('PySoundFile failed. Trying audioread instead.')\n"
     ]
    },
    {
     "name": "stdout",
     "output_type": "stream",
     "text": [
      "./genres_2/Murlo/Smerz_-_Because_(320__kbps).mp3 0.5687857270240784 0.294925719499588 1272.2133873879066 1805.9611451170665 2742.26091212297 0.03468722810324826\n"
     ]
    },
    {
     "name": "stderr",
     "output_type": "stream",
     "text": [
      "/Users/Andy/opt/anaconda3/lib/python3.7/site-packages/librosa/core/audio.py:161: UserWarning: PySoundFile failed. Trying audioread instead.\n",
      "  warnings.warn('PySoundFile failed. Trying audioread instead.')\n"
     ]
    },
    {
     "name": "stdout",
     "output_type": "stream",
     "text": [
      "./genres_2/Murlo/04_Robes_(Swing_Ting_Remix).mp3 0.48164719343185425 0.1359795480966568 3156.8455522513545 2571.137322391027 5655.638345598898 0.18402991770591648\n"
     ]
    },
    {
     "name": "stderr",
     "output_type": "stream",
     "text": [
      "/Users/Andy/opt/anaconda3/lib/python3.7/site-packages/librosa/core/audio.py:161: UserWarning: PySoundFile failed. Trying audioread instead.\n",
      "  warnings.warn('PySoundFile failed. Trying audioread instead.')\n"
     ]
    },
    {
     "name": "stdout",
     "output_type": "stream",
     "text": [
      "./genres_2/Murlo/04_Hide_Or_Seek.mp3 0.472196489572525 0.26350992918014526 658.6277758679029 1072.9532542396346 1146.855400775812 0.024252057352088168\n"
     ]
    },
    {
     "name": "stderr",
     "output_type": "stream",
     "text": [
      "/Users/Andy/opt/anaconda3/lib/python3.7/site-packages/librosa/core/audio.py:161: UserWarning: PySoundFile failed. Trying audioread instead.\n",
      "  warnings.warn('PySoundFile failed. Trying audioread instead.')\n"
     ]
    },
    {
     "name": "stdout",
     "output_type": "stream",
     "text": [
      "./genres_2/Murlo/What_It's_Gonna_Be__(Busta_x_Janet).mp3 0.38915833830833435 0.04206766560673714 3615.1990435764674 2699.2439591821258 6769.86919500435 0.224098435687355\n"
     ]
    },
    {
     "name": "stderr",
     "output_type": "stream",
     "text": [
      "/Users/Andy/opt/anaconda3/lib/python3.7/site-packages/librosa/core/audio.py:161: UserWarning: PySoundFile failed. Trying audioread instead.\n",
      "  warnings.warn('PySoundFile failed. Trying audioread instead.')\n"
     ]
    },
    {
     "name": "stdout",
     "output_type": "stream",
     "text": [
      "./genres_2/Murlo/Aikaso_(Murlo_Remix).mp3 0.33918824791908264 0.1666981428861618 1966.2596996920788 2337.374335025984 4390.025580952726 0.057260323013341066\n"
     ]
    },
    {
     "name": "stderr",
     "output_type": "stream",
     "text": [
      "/Users/Andy/opt/anaconda3/lib/python3.7/site-packages/librosa/core/audio.py:161: UserWarning: PySoundFile failed. Trying audioread instead.\n",
      "  warnings.warn('PySoundFile failed. Trying audioread instead.')\n"
     ]
    },
    {
     "name": "stdout",
     "output_type": "stream",
     "text": [
      "./genres_2/Murlo/crazy_cousinz_murlo_rmx.mp3 0.46320840716362 0.11421810835599899 2062.715563139694 1980.7823925255898 3875.576874274942 0.0997034059599768\n"
     ]
    },
    {
     "name": "stderr",
     "output_type": "stream",
     "text": [
      "/Users/Andy/opt/anaconda3/lib/python3.7/site-packages/librosa/core/audio.py:161: UserWarning: PySoundFile failed. Trying audioread instead.\n",
      "  warnings.warn('PySoundFile failed. Trying audioread instead.')\n"
     ]
    },
    {
     "name": "stdout",
     "output_type": "stream",
     "text": [
      "./genres_2/Murlo/Paleface_Ft._Kyla_-_Do_You_Mind_(Crazy_Cousinz_Remix).mp3 0.4295559525489807 0.25485363602638245 3466.892169990623 2916.2618183977793 6902.16599749855 0.1881378244634571\n",
      "Dubstep\n"
     ]
    },
    {
     "name": "stderr",
     "output_type": "stream",
     "text": [
      "/Users/Andy/opt/anaconda3/lib/python3.7/site-packages/librosa/core/audio.py:161: UserWarning: PySoundFile failed. Trying audioread instead.\n",
      "  warnings.warn('PySoundFile failed. Trying audioread instead.')\n"
     ]
    },
    {
     "name": "stdout",
     "output_type": "stream",
     "text": [
      "./genres_2/Dubstep/Trends_and_Boylan_Feat_Riko_Dan_-_Trends_and_Boylan_Feat_Riko_Dan_-_KRUEGER_(EXPLICIT).mp3 0.5088338851928711 0.25421544909477234 2716.1985943818954 2261.6808963708263 5073.5923678581785 0.16502206895301624\n",
      "./genres_2/Dubstep/Cartridge_-_Succulent.wav 0.30332210659980774 0.02656281180679798 1936.8654410294241 1832.14361080691 3542.1119920062356 0.08110680104408352\n"
     ]
    },
    {
     "name": "stderr",
     "output_type": "stream",
     "text": [
      "/Users/Andy/opt/anaconda3/lib/python3.7/site-packages/librosa/core/audio.py:161: UserWarning: PySoundFile failed. Trying audioread instead.\n",
      "  warnings.warn('PySoundFile failed. Trying audioread instead.')\n"
     ]
    },
    {
     "name": "stdout",
     "output_type": "stream",
     "text": [
      "./genres_2/Dubstep/22_BIRTHDAY_VAMP.mp3 0.680618166923523 0.40174755454063416 1643.0881425346088 2343.727874137532 3857.590904147332 0.028620531830046404\n"
     ]
    },
    {
     "name": "stderr",
     "output_type": "stream",
     "text": [
      "/Users/Andy/opt/anaconda3/lib/python3.7/site-packages/librosa/core/audio.py:161: UserWarning: PySoundFile failed. Trying audioread instead.\n",
      "  warnings.warn('PySoundFile failed. Trying audioread instead.')\n"
     ]
    },
    {
     "name": "stdout",
     "output_type": "stream",
     "text": [
      "./genres_2/Dubstep/Mala_-_Changes_(_James_Blake_Harmonimix_).mp3 0.29954108595848083 0.175519660115242 1008.1201234161473 1809.4289040493345 1404.9041110788862 0.03564113254060325\n"
     ]
    },
    {
     "name": "stderr",
     "output_type": "stream",
     "text": [
      "/Users/Andy/opt/anaconda3/lib/python3.7/site-packages/librosa/core/audio.py:161: UserWarning: PySoundFile failed. Trying audioread instead.\n",
      "  warnings.warn('PySoundFile failed. Trying audioread instead.')\n"
     ]
    },
    {
     "name": "stdout",
     "output_type": "stream",
     "text": [
      "./genres_2/Dubstep/The_Bug_&amp;_Killa_P_-_Leng_(Skeng_Pt._2)_(320__kbps).mp3 0.41963931918144226 0.34015634655952454 2032.6598962672886 2341.7221788568736 4404.339415512616 0.06458227595707657\n"
     ]
    },
    {
     "name": "stderr",
     "output_type": "stream",
     "text": [
      "/Users/Andy/opt/anaconda3/lib/python3.7/site-packages/librosa/core/audio.py:161: UserWarning: PySoundFile failed. Trying audioread instead.\n",
      "  warnings.warn('PySoundFile failed. Trying audioread instead.')\n"
     ]
    },
    {
     "name": "stdout",
     "output_type": "stream",
     "text": [
      "./genres_2/Dubstep/1-01_Commotion.mp3 0.4189675450325012 0.165761798620224 1955.0679759474826 1800.3301408686125 3695.017718604988 0.10827041944605569\n"
     ]
    },
    {
     "name": "stderr",
     "output_type": "stream",
     "text": [
      "/Users/Andy/opt/anaconda3/lib/python3.7/site-packages/librosa/core/audio.py:161: UserWarning: PySoundFile failed. Trying audioread instead.\n",
      "  warnings.warn('PySoundFile failed. Trying audioread instead.')\n"
     ]
    },
    {
     "name": "stdout",
     "output_type": "stream",
     "text": [
      "./genres_2/Dubstep/01_Local.mp3 0.4431277811527252 0.10845492035150528 2508.89802518006 2391.607078067653 5429.639634842662 0.12344225819315545\n"
     ]
    },
    {
     "name": "stderr",
     "output_type": "stream",
     "text": [
      "/Users/Andy/opt/anaconda3/lib/python3.7/site-packages/librosa/core/audio.py:161: UserWarning: PySoundFile failed. Trying audioread instead.\n",
      "  warnings.warn('PySoundFile failed. Trying audioread instead.')\n"
     ]
    },
    {
     "name": "stdout",
     "output_type": "stream",
     "text": [
      "./genres_2/Dubstep/Charlux-Distance_(Dub).mp3 0.4322335720062256 0.05745506286621094 2954.321872878448 2074.8618543113685 5165.120971396462 0.1886827508700696\n"
     ]
    },
    {
     "name": "stderr",
     "output_type": "stream",
     "text": [
      "/Users/Andy/opt/anaconda3/lib/python3.7/site-packages/librosa/core/audio.py:161: UserWarning: PySoundFile failed. Trying audioread instead.\n",
      "  warnings.warn('PySoundFile failed. Trying audioread instead.')\n"
     ]
    },
    {
     "name": "stdout",
     "output_type": "stream",
     "text": [
      "./genres_2/Dubstep/05_Vayu.mp3 0.5772731304168701 0.25933653116226196 1275.8164757343095 1854.7620322291195 2804.512353175754 0.019465541618329467\n"
     ]
    },
    {
     "name": "stderr",
     "output_type": "stream",
     "text": [
      "/Users/Andy/opt/anaconda3/lib/python3.7/site-packages/librosa/core/audio.py:161: UserWarning: PySoundFile failed. Trying audioread instead.\n",
      "  warnings.warn('PySoundFile failed. Trying audioread instead.')\n"
     ]
    },
    {
     "name": "stdout",
     "output_type": "stream",
     "text": [
      "./genres_2/Dubstep/01_Screamer_(feat._Riko_Dan).mp3 0.48996907472610474 0.09474686533212662 1469.0803467209125 1608.5161770480834 2738.8385816959108 0.077139374274942\n"
     ]
    },
    {
     "name": "stderr",
     "output_type": "stream",
     "text": [
      "/Users/Andy/opt/anaconda3/lib/python3.7/site-packages/librosa/core/audio.py:161: UserWarning: PySoundFile failed. Trying audioread instead.\n",
      "  warnings.warn('PySoundFile failed. Trying audioread instead.')\n"
     ]
    },
    {
     "name": "stdout",
     "output_type": "stream",
     "text": [
      "./genres_2/Dubstep/Bukez_Finezt_-_The_Main_Rule.mp3 0.4273798167705536 0.0672687292098999 2249.203054220784 1953.8342869900755 4337.866267582656 0.1180654999274942\n"
     ]
    },
    {
     "name": "stderr",
     "output_type": "stream",
     "text": [
      "/Users/Andy/opt/anaconda3/lib/python3.7/site-packages/librosa/core/audio.py:161: UserWarning: PySoundFile failed. Trying audioread instead.\n",
      "  warnings.warn('PySoundFile failed. Trying audioread instead.')\n"
     ]
    },
    {
     "name": "stdout",
     "output_type": "stream",
     "text": [
      "./genres_2/Dubstep/03_Pocosink_(Commodo_Remix).mp3 0.26779407262802124 0.07993636280298233 2850.1356595763614 3070.1879766359943 6832.245538627465 0.08732983794953596\n"
     ]
    },
    {
     "name": "stderr",
     "output_type": "stream",
     "text": [
      "/Users/Andy/opt/anaconda3/lib/python3.7/site-packages/librosa/core/audio.py:161: UserWarning: PySoundFile failed. Trying audioread instead.\n",
      "  warnings.warn('PySoundFile failed. Trying audioread instead.')\n"
     ]
    },
    {
     "name": "stdout",
     "output_type": "stream",
     "text": [
      "./genres_2/Dubstep/Sub_Basics_-_Cartel.mp3 0.390496164560318 0.15223655104637146 1546.7404710531214 1592.0401272586305 2974.4797708816704 0.05650807533352668\n"
     ]
    },
    {
     "name": "stderr",
     "output_type": "stream",
     "text": [
      "/Users/Andy/opt/anaconda3/lib/python3.7/site-packages/librosa/core/audio.py:161: UserWarning: PySoundFile failed. Trying audioread instead.\n",
      "  warnings.warn('PySoundFile failed. Trying audioread instead.')\n"
     ]
    },
    {
     "name": "stdout",
     "output_type": "stream",
     "text": [
      "./genres_2/Dubstep/V.I.V.E.K_-_Slippin_(SYSTM009).mp3 0.41523367166519165 0.03553984686732292 2829.3352293067687 2373.1808353692477 5313.92989368837 0.16398319678074247\n"
     ]
    },
    {
     "name": "stderr",
     "output_type": "stream",
     "text": [
      "/Users/Andy/opt/anaconda3/lib/python3.7/site-packages/librosa/core/audio.py:161: UserWarning: PySoundFile failed. Trying audioread instead.\n",
      "  warnings.warn('PySoundFile failed. Trying audioread instead.')\n"
     ]
    },
    {
     "name": "stdout",
     "output_type": "stream",
     "text": [
      "./genres_2/Dubstep/01_Alicia.mp3 0.2999209761619568 0.060693807899951935 1322.008512285151 1361.4453487643088 2486.8101752827724 0.066419844837587\n",
      "./genres_2/Dubstep/CNCPTV001_C2_-_Koma_-_Serac_-_Ten_Eight_Seven_Mastered.wav 0.6205608248710632 0.035784315317869186 3721.829482690955 2688.188122057911 6928.045810071056 0.2796050246519722\n"
     ]
    },
    {
     "name": "stderr",
     "output_type": "stream",
     "text": [
      "/Users/Andy/opt/anaconda3/lib/python3.7/site-packages/librosa/core/audio.py:161: UserWarning: PySoundFile failed. Trying audioread instead.\n",
      "  warnings.warn('PySoundFile failed. Trying audioread instead.')\n"
     ]
    },
    {
     "name": "stdout",
     "output_type": "stream",
     "text": [
      "./genres_2/Dubstep/Trends_&_Boylan_-_Dutty_Harry_ft._Riko_Dan.mp3 0.4360296428203583 0.14269429445266724 3066.795634724217 2580.0484903503466 6123.623296113689 0.17670683185904873\n"
     ]
    },
    {
     "name": "stderr",
     "output_type": "stream",
     "text": [
      "/Users/Andy/opt/anaconda3/lib/python3.7/site-packages/librosa/core/audio.py:161: UserWarning: PySoundFile failed. Trying audioread instead.\n",
      "  warnings.warn('PySoundFile failed. Trying audioread instead.')\n"
     ]
    },
    {
     "name": "stdout",
     "output_type": "stream",
     "text": [
      "./genres_2/Dubstep/Dem_a_Talk.mp3 0.36891278624534607 0.054260049015283585 2393.10166949894 2070.5371063124567 4592.167900775812 0.12133052675464037\n"
     ]
    },
    {
     "name": "stderr",
     "output_type": "stream",
     "text": [
      "/Users/Andy/opt/anaconda3/lib/python3.7/site-packages/librosa/core/audio.py:161: UserWarning: PySoundFile failed. Trying audioread instead.\n",
      "  warnings.warn('PySoundFile failed. Trying audioread instead.')\n"
     ]
    },
    {
     "name": "stdout",
     "output_type": "stream",
     "text": [
      "./genres_2/Dubstep/02_Mandolin_Man_(Original_Mix).mp3 0.3981005549430847 0.20837414264678955 2858.41541076185 2475.6904651750974 5594.336164080626 0.15199821454466358\n"
     ]
    },
    {
     "name": "stderr",
     "output_type": "stream",
     "text": [
      "/Users/Andy/opt/anaconda3/lib/python3.7/site-packages/librosa/core/audio.py:161: UserWarning: PySoundFile failed. Trying audioread instead.\n",
      "  warnings.warn('PySoundFile failed. Trying audioread instead.')\n"
     ]
    },
    {
     "name": "stdout",
     "output_type": "stream",
     "text": [
      "./genres_2/Dubstep/Blind_Man_(Polonis_Refix).mp3 0.4620743691921234 0.21708928048610687 1700.5237774046395 1626.101787374499 3406.3179175427786 0.08529401102088167\n",
      "./genres_2/Dubstep/Miracles_(Commodo_Remix).wav 0.531921923160553 0.1174440085887909 2826.9967595119 2331.511389837426 5435.684919246664 0.15935528748549885\n"
     ]
    },
    {
     "name": "stderr",
     "output_type": "stream",
     "text": [
      "/Users/Andy/opt/anaconda3/lib/python3.7/site-packages/librosa/core/audio.py:161: UserWarning: PySoundFile failed. Trying audioread instead.\n",
      "  warnings.warn('PySoundFile failed. Trying audioread instead.')\n"
     ]
    },
    {
     "name": "stdout",
     "output_type": "stream",
     "text": [
      "./genres_2/Dubstep/02_Amber.mp3 0.5907902121543884 0.18047486245632172 319.63540156382305 911.7275245710791 465.91156784730276 0.006610489776682134\n"
     ]
    },
    {
     "name": "stderr",
     "output_type": "stream",
     "text": [
      "/Users/Andy/opt/anaconda3/lib/python3.7/site-packages/librosa/core/audio.py:161: UserWarning: PySoundFile failed. Trying audioread instead.\n",
      "  warnings.warn('PySoundFile failed. Trying audioread instead.')\n"
     ]
    },
    {
     "name": "stdout",
     "output_type": "stream",
     "text": [
      "./genres_2/Dubstep/01_Blipstream.mp3 0.3237086534500122 0.1490451991558075 1949.6831927001645 1914.6333126751076 3834.7836948049594 0.09553658823955917\n"
     ]
    },
    {
     "name": "stderr",
     "output_type": "stream",
     "text": [
      "/Users/Andy/opt/anaconda3/lib/python3.7/site-packages/librosa/core/audio.py:161: UserWarning: PySoundFile failed. Trying audioread instead.\n",
      "  warnings.warn('PySoundFile failed. Trying audioread instead.')\n"
     ]
    },
    {
     "name": "stdout",
     "output_type": "stream",
     "text": [
      "./genres_2/Dubstep/04_Crystal_Collect.mp3 0.35488951206207275 0.05722730606794357 3030.607197947162 2379.6165775765658 5549.6210439022625 0.1765946744489559\n",
      "./genres_2/Dubstep/Chad_Dubz_-_Marijuana.wav 0.311248242855072 0.15012219548225403 2128.3720235097 1680.354641356278 3857.4160405488688 0.11929130111658932\n"
     ]
    },
    {
     "name": "stderr",
     "output_type": "stream",
     "text": [
      "/Users/Andy/opt/anaconda3/lib/python3.7/site-packages/librosa/core/audio.py:161: UserWarning: PySoundFile failed. Trying audioread instead.\n",
      "  warnings.warn('PySoundFile failed. Trying audioread instead.')\n"
     ]
    },
    {
     "name": "stdout",
     "output_type": "stream",
     "text": [
      "./genres_2/Dubstep/02_Flute_Song.mp3 0.36025333404541016 0.13608063757419586 2340.222157801396 2475.114673678173 4967.799890788138 0.09159748404872389\n",
      "./genres_2/Dubstep/Mr.K_-_Spooky_Dub_VIP.wav 0.3244556486606598 0.0305065605789423 1815.998471052067 1723.6731549604708 3519.929295515516 0.09541763341067286\n"
     ]
    },
    {
     "name": "stderr",
     "output_type": "stream",
     "text": [
      "/Users/Andy/opt/anaconda3/lib/python3.7/site-packages/librosa/core/audio.py:161: UserWarning: PySoundFile failed. Trying audioread instead.\n",
      "  warnings.warn('PySoundFile failed. Trying audioread instead.')\n"
     ]
    },
    {
     "name": "stdout",
     "output_type": "stream",
     "text": [
      "./genres_2/Dubstep/Karnage_-_Realise_(feat._Rider_Shafique).mp3 0.46466824412345886 0.04272006079554558 3330.895879769172 2563.552623865065 6033.518581877175 0.2055460139936195\n"
     ]
    },
    {
     "name": "stderr",
     "output_type": "stream",
     "text": [
      "/Users/Andy/opt/anaconda3/lib/python3.7/site-packages/librosa/core/audio.py:161: UserWarning: PySoundFile failed. Trying audioread instead.\n",
      "  warnings.warn('PySoundFile failed. Trying audioread instead.')\n"
     ]
    },
    {
     "name": "stdout",
     "output_type": "stream",
     "text": [
      "./genres_2/Dubstep/Foamplate-_7.5_(CRUCIAL003).mp3 0.4164360761642456 0.05987270921468735 1975.8509446767357 1592.5514834536095 3234.826688478828 0.12380478719547564\n"
     ]
    },
    {
     "name": "stderr",
     "output_type": "stream",
     "text": [
      "/Users/Andy/opt/anaconda3/lib/python3.7/site-packages/librosa/core/audio.py:161: UserWarning: PySoundFile failed. Trying audioread instead.\n",
      "  warnings.warn('PySoundFile failed. Trying audioread instead.')\n"
     ]
    },
    {
     "name": "stdout",
     "output_type": "stream",
     "text": [
      "./genres_2/Dubstep/Serenade_-_-TMCFLP001-_Various_Artists_Vol.1_-_04_Doves.mp3 0.4207470118999481 0.160432830452919 2948.905251948684 2314.209396329601 5469.608457348463 0.18961513014791184\n"
     ]
    },
    {
     "name": "stderr",
     "output_type": "stream",
     "text": [
      "/Users/Andy/opt/anaconda3/lib/python3.7/site-packages/librosa/core/audio.py:161: UserWarning: PySoundFile failed. Trying audioread instead.\n",
      "  warnings.warn('PySoundFile failed. Trying audioread instead.')\n"
     ]
    },
    {
     "name": "stdout",
     "output_type": "stream",
     "text": [
      "./genres_2/Dubstep/01Abattoir.mp3 0.3044268786907196 0.09916701167821884 1480.9269920182526 1377.8735711945585 2868.137722502175 0.06849419047273782\n"
     ]
    },
    {
     "name": "stderr",
     "output_type": "stream",
     "text": [
      "/Users/Andy/opt/anaconda3/lib/python3.7/site-packages/librosa/core/audio.py:161: UserWarning: PySoundFile failed. Trying audioread instead.\n",
      "  warnings.warn('PySoundFile failed. Trying audioread instead.')\n"
     ]
    },
    {
     "name": "stdout",
     "output_type": "stream",
     "text": [
      "./genres_2/Dubstep/Trends_&_Boylan_-_Pam_ft._P_Jam.mp3 0.36763736605644226 0.09669625759124756 2511.416627382718 2056.269209862111 4602.4099115429235 0.16137298796403712\n"
     ]
    },
    {
     "name": "stderr",
     "output_type": "stream",
     "text": [
      "/Users/Andy/opt/anaconda3/lib/python3.7/site-packages/librosa/core/audio.py:161: UserWarning: PySoundFile failed. Trying audioread instead.\n",
      "  warnings.warn('PySoundFile failed. Trying audioread instead.')\n"
     ]
    },
    {
     "name": "stdout",
     "output_type": "stream",
     "text": [
      "./genres_2/Dubstep/04_-_Zed_Bias_-_Neighbourhood_09_(Chimpo_Remix).mp3 0.44322827458381653 0.18873246014118195 3392.006852889521 2260.265286313599 5801.249762090342 0.23088339254640372\n"
     ]
    },
    {
     "name": "stderr",
     "output_type": "stream",
     "text": [
      "/Users/Andy/opt/anaconda3/lib/python3.7/site-packages/librosa/core/audio.py:161: UserWarning: PySoundFile failed. Trying audioread instead.\n",
      "  warnings.warn('PySoundFile failed. Trying audioread instead.')\n"
     ]
    },
    {
     "name": "stdout",
     "output_type": "stream",
     "text": [
      "./genres_2/Dubstep/05_SIMPLER.mp3 0.5673157572746277 0.22506724298000336 2877.2741767422463 2762.7152314506766 6142.133857036688 0.09380664515661252\n",
      "./genres_2/Dubstep/CNCPTV001_B2_-_Chokez_-_Skullduggery_-_Mastered01.wav 0.21156853437423706 0.19019851088523865 747.3518278777763 1047.5543927251335 1353.0695443916763 0.023721858686194894\n"
     ]
    },
    {
     "name": "stderr",
     "output_type": "stream",
     "text": [
      "/Users/Andy/opt/anaconda3/lib/python3.7/site-packages/librosa/core/audio.py:161: UserWarning: PySoundFile failed. Trying audioread instead.\n",
      "  warnings.warn('PySoundFile failed. Trying audioread instead.')\n"
     ]
    },
    {
     "name": "stdout",
     "output_type": "stream",
     "text": [
      "./genres_2/Dubstep/01_Dread.mp3 0.42632949352264404 0.21356961131095886 1884.8208231571214 1776.5802322853751 3639.535996864124 0.0823314693300464\n"
     ]
    },
    {
     "name": "stderr",
     "output_type": "stream",
     "text": [
      "/Users/Andy/opt/anaconda3/lib/python3.7/site-packages/librosa/core/audio.py:161: UserWarning: PySoundFile failed. Trying audioread instead.\n",
      "  warnings.warn('PySoundFile failed. Trying audioread instead.')\n"
     ]
    },
    {
     "name": "stdout",
     "output_type": "stream",
     "text": [
      "./genres_2/Dubstep/04_Give_Jah_Glory.mp3 0.5640570521354675 0.1724763959646225 1120.5503874533983 1569.6008041178286 2310.9223757431846 0.027554469982598608\n"
     ]
    },
    {
     "name": "stderr",
     "output_type": "stream",
     "text": [
      "/Users/Andy/opt/anaconda3/lib/python3.7/site-packages/librosa/core/audio.py:161: UserWarning: PySoundFile failed. Trying audioread instead.\n",
      "  warnings.warn('PySoundFile failed. Trying audioread instead.')\n"
     ]
    },
    {
     "name": "stdout",
     "output_type": "stream",
     "text": [
      "./genres_2/Dubstep/Commodo_-_Lightz_(320__kbps).mp3 0.5337470173835754 0.34949055314064026 2034.0327176465767 2428.4491041129563 4603.484073647767 0.061047618184454755\n"
     ]
    },
    {
     "name": "stderr",
     "output_type": "stream",
     "text": [
      "/Users/Andy/opt/anaconda3/lib/python3.7/site-packages/librosa/core/audio.py:161: UserWarning: PySoundFile failed. Trying audioread instead.\n",
      "  warnings.warn('PySoundFile failed. Trying audioread instead.')\n"
     ]
    },
    {
     "name": "stdout",
     "output_type": "stream",
     "text": [
      "./genres_2/Dubstep/Backstrap.mp3 0.3846014738082886 0.0917489230632782 2449.3092641377434 2207.2325226548937 4747.321873640516 0.12598449282192575\n"
     ]
    },
    {
     "name": "stderr",
     "output_type": "stream",
     "text": [
      "/Users/Andy/opt/anaconda3/lib/python3.7/site-packages/librosa/core/audio.py:161: UserWarning: PySoundFile failed. Trying audioread instead.\n",
      "  warnings.warn('PySoundFile failed. Trying audioread instead.')\n"
     ]
    },
    {
     "name": "stdout",
     "output_type": "stream",
     "text": [
      "./genres_2/Dubstep/23_S_Is_For_Snakes.mp3 0.4643533527851105 0.3478808104991913 1896.9396723693003 2236.7611646899336 4261.151108885586 0.06343691089037123\n",
      "./genres_2/Dubstep/Rygby_-_Pyramidz.wav 0.3869442045688629 0.02391371689736843 2418.8002287980307 2213.6532851551065 4744.349192466648 0.12333916400812064\n"
     ]
    },
    {
     "name": "stderr",
     "output_type": "stream",
     "text": [
      "/Users/Andy/opt/anaconda3/lib/python3.7/site-packages/librosa/core/audio.py:161: UserWarning: PySoundFile failed. Trying audioread instead.\n",
      "  warnings.warn('PySoundFile failed. Trying audioread instead.')\n"
     ]
    },
    {
     "name": "stdout",
     "output_type": "stream",
     "text": [
      "./genres_2/Dubstep/03_Tortured.mp3 0.3895699977874756 0.12140260636806488 1390.8973689611184 1533.229886991269 2874.1580263921114 0.0633689367024362\n"
     ]
    },
    {
     "name": "stderr",
     "output_type": "stream",
     "text": [
      "/Users/Andy/opt/anaconda3/lib/python3.7/site-packages/librosa/core/audio.py:161: UserWarning: PySoundFile failed. Trying audioread instead.\n",
      "  warnings.warn('PySoundFile failed. Trying audioread instead.')\n"
     ]
    },
    {
     "name": "stdout",
     "output_type": "stream",
     "text": [
      "./genres_2/Dubstep/Saule_-_Cure_Dem.mp3 0.5194107890129089 0.1614270806312561 1489.6158551463998 1745.8962418498415 3162.0834315182715 0.060278376957656615\n",
      "./genres_2/Dubstep/Chokez_-_Mango_Skank.wav 0.4124007225036621 0.10189595073461533 2298.385177365375 2107.175867052175 4443.358978483904 0.11350556482018562\n",
      "./genres_2/Dubstep/CNCPTV001_A1_-_Cartridge_-_Sibel_-_Ten_Eight_Seven_Mastered_2.wav 0.2798268795013428 0.052255503833293915 1701.830748656495 1823.6840705280742 3664.6414135005803 0.0936423742024362\n",
      "./genres_2/Dubstep/CNCPTV001_D1_-_Sepia_-_Anubis_-_Ten_Eight_Seven_Mastered.wav 0.39205485582351685 0.14865143597126007 2596.792349690319 1691.2093973212056 4176.966776482744 0.1883111586426914\n"
     ]
    },
    {
     "name": "stderr",
     "output_type": "stream",
     "text": [
      "/Users/Andy/opt/anaconda3/lib/python3.7/site-packages/librosa/core/audio.py:161: UserWarning: PySoundFile failed. Trying audioread instead.\n",
      "  warnings.warn('PySoundFile failed. Trying audioread instead.')\n"
     ]
    },
    {
     "name": "stdout",
     "output_type": "stream",
     "text": [
      "./genres_2/Dubstep/12_Reclaim.mp3 0.49784454703330994 0.2148987352848053 2344.07954945218 2574.73315943437 5218.454368927639 0.08559762906032482\n",
      "./genres_2/Dubstep/ALXZNDR_&_Killa_P_-_Bill_Dem_Quick_[DUB].wav 0.3494079113006592 0.17913475632667542 2530.368892215593 2535.065179444079 5381.901872462297 0.10877342843677494\n",
      "./genres_2/Dubstep/Glume_-_Uh.wav 0.29670315980911255 0.1655721664428711 2556.669521079402 2237.678561560597 4635.783878335267 0.12507477160672853\n"
     ]
    },
    {
     "name": "stderr",
     "output_type": "stream",
     "text": [
      "/Users/Andy/opt/anaconda3/lib/python3.7/site-packages/librosa/core/audio.py:161: UserWarning: PySoundFile failed. Trying audioread instead.\n",
      "  warnings.warn('PySoundFile failed. Trying audioread instead.')\n"
     ]
    },
    {
     "name": "stdout",
     "output_type": "stream",
     "text": [
      "./genres_2/Dubstep/PRRR_[DUBPLATE]_{RIP}.mp3 0.3283487856388092 0.09952305257320404 1922.821964849397 1688.4922183921442 3441.3405982634863 0.10417384171983758\n"
     ]
    },
    {
     "name": "stderr",
     "output_type": "stream",
     "text": [
      "/Users/Andy/opt/anaconda3/lib/python3.7/site-packages/librosa/core/audio.py:161: UserWarning: PySoundFile failed. Trying audioread instead.\n",
      "  warnings.warn('PySoundFile failed. Trying audioread instead.')\n"
     ]
    },
    {
     "name": "stdout",
     "output_type": "stream",
     "text": [
      "./genres_2/Dubstep/02_Doves.mp3 0.26664111018180847 0.22643186151981354 3028.795132586798 2707.062217062461 5999.470141205046 0.09890244344547564\n",
      "./genres_2/Dubstep/Zha_-_NAAN003_-_Mumbai_-_The_Tale_Of_She_-_01_Mumbai.wav 0.2964538335800171 0.03492942079901695 3451.8246082941246 2288.7892021056136 5996.622362601508 0.22272082547853828\n"
     ]
    },
    {
     "name": "stderr",
     "output_type": "stream",
     "text": [
      "/Users/Andy/opt/anaconda3/lib/python3.7/site-packages/librosa/core/audio.py:161: UserWarning: PySoundFile failed. Trying audioread instead.\n",
      "  warnings.warn('PySoundFile failed. Trying audioread instead.')\n"
     ]
    },
    {
     "name": "stdout",
     "output_type": "stream",
     "text": [
      "./genres_2/Dubstep/Skream_-_Rutten.mp3 0.2726166546344757 0.14497952163219452 1949.2645085221673 1822.752444426069 3737.059923778277 0.07769562971287702\n"
     ]
    },
    {
     "name": "stderr",
     "output_type": "stream",
     "text": [
      "/Users/Andy/opt/anaconda3/lib/python3.7/site-packages/librosa/core/audio.py:161: UserWarning: PySoundFile failed. Trying audioread instead.\n",
      "  warnings.warn('PySoundFile failed. Trying audioread instead.')\n"
     ]
    },
    {
     "name": "stdout",
     "output_type": "stream",
     "text": [
      "./genres_2/Dubstep/Bring_U_Up_(Jasper_James_Remix).mp3 0.4821767807006836 0.09945498406887054 2666.4522519708207 2465.9633841092023 5282.85413419011 0.1295157518851508\n"
     ]
    },
    {
     "name": "stderr",
     "output_type": "stream",
     "text": [
      "/Users/Andy/opt/anaconda3/lib/python3.7/site-packages/librosa/core/audio.py:161: UserWarning: PySoundFile failed. Trying audioread instead.\n",
      "  warnings.warn('PySoundFile failed. Trying audioread instead.')\n"
     ]
    },
    {
     "name": "stdout",
     "output_type": "stream",
     "text": [
      "./genres_2/Dubstep/01_Congo.mp3 0.3808129131793976 0.14389905333518982 2652.0173739240495 2862.123423707129 6381.8218895011605 0.1071216556699536\n"
     ]
    },
    {
     "name": "stderr",
     "output_type": "stream",
     "text": [
      "/Users/Andy/opt/anaconda3/lib/python3.7/site-packages/librosa/core/audio.py:161: UserWarning: PySoundFile failed. Trying audioread instead.\n",
      "  warnings.warn('PySoundFile failed. Trying audioread instead.')\n"
     ]
    },
    {
     "name": "stdout",
     "output_type": "stream",
     "text": [
      "./genres_2/Dubstep/Drumterror_-_Sapphire.mp3 0.3501864969730377 0.09720473736524582 1848.3504698278016 1964.2025816053535 3498.3211508483178 0.07679044011020882\n"
     ]
    },
    {
     "name": "stderr",
     "output_type": "stream",
     "text": [
      "/Users/Andy/opt/anaconda3/lib/python3.7/site-packages/librosa/core/audio.py:161: UserWarning: PySoundFile failed. Trying audioread instead.\n",
      "  warnings.warn('PySoundFile failed. Trying audioread instead.')\n"
     ]
    },
    {
     "name": "stdout",
     "output_type": "stream",
     "text": [
      "./genres_2/Dubstep/Trends_&_Boylan_-_Bells_ft._Riko_Dan.mp3 0.43941837549209595 0.15515264868736267 2175.9335847694424 2105.1399200120777 4176.691990828016 0.11286434164733179\n"
     ]
    },
    {
     "name": "stderr",
     "output_type": "stream",
     "text": [
      "/Users/Andy/opt/anaconda3/lib/python3.7/site-packages/librosa/core/audio.py:161: UserWarning: PySoundFile failed. Trying audioread instead.\n",
      "  warnings.warn('PySoundFile failed. Trying audioread instead.')\n"
     ]
    },
    {
     "name": "stdout",
     "output_type": "stream",
     "text": [
      "./genres_2/Dubstep/Chimpo_-_Gaza_(feat._Trigga)_(Sukh_Knight_Remix).mp3 0.39273303747177124 0.09752249717712402 2780.418784765703 2141.6760763405996 4971.8966950949825 0.17575972484048724\n"
     ]
    },
    {
     "name": "stderr",
     "output_type": "stream",
     "text": [
      "/Users/Andy/opt/anaconda3/lib/python3.7/site-packages/librosa/core/audio.py:161: UserWarning: PySoundFile failed. Trying audioread instead.\n",
      "  warnings.warn('PySoundFile failed. Trying audioread instead.')\n"
     ]
    },
    {
     "name": "stdout",
     "output_type": "stream",
     "text": [
      "./genres_2/Dubstep/Selekta_(CRUCIAL006).mp3 0.2494582086801529 0.055584609508514404 1985.6430896564837 2118.8191913815094 3948.519975348028 0.079097030887471\n"
     ]
    },
    {
     "name": "stderr",
     "output_type": "stream",
     "text": [
      "/Users/Andy/opt/anaconda3/lib/python3.7/site-packages/librosa/core/audio.py:161: UserWarning: PySoundFile failed. Trying audioread instead.\n",
      "  warnings.warn('PySoundFile failed. Trying audioread instead.')\n"
     ]
    },
    {
     "name": "stdout",
     "output_type": "stream",
     "text": [
      "./genres_2/Dubstep/Bukez_Finezt_-_Unknown_Force.mp3 0.4240471124649048 0.05890120193362236 1662.1671366973596 1519.101718713181 2876.731019340922 0.10112293358468677\n"
     ]
    },
    {
     "name": "stderr",
     "output_type": "stream",
     "text": [
      "/Users/Andy/opt/anaconda3/lib/python3.7/site-packages/librosa/core/audio.py:161: UserWarning: PySoundFile failed. Trying audioread instead.\n",
      "  warnings.warn('PySoundFile failed. Trying audioread instead.')\n"
     ]
    },
    {
     "name": "stdout",
     "output_type": "stream",
     "text": [
      "./genres_2/Dubstep/Trends_&_Boylan_-_Norman_Bates_(Spooky_Refix)_[320_VINYL_RIP].mp3 0.47590774297714233 0.18473920226097107 2457.7886276004983 2366.250400789504 5011.091121664733 0.13176343169953597\n"
     ]
    },
    {
     "name": "stderr",
     "output_type": "stream",
     "text": [
      "/Users/Andy/opt/anaconda3/lib/python3.7/site-packages/librosa/core/audio.py:161: UserWarning: PySoundFile failed. Trying audioread instead.\n",
      "  warnings.warn('PySoundFile failed. Trying audioread instead.')\n"
     ]
    },
    {
     "name": "stdout",
     "output_type": "stream",
     "text": [
      "./genres_2/Dubstep/06_Truly_Dread.mp3 0.3063581883907318 0.09728437662124634 2048.5724135923197 1833.757685944053 3750.999050627175 0.1329087967662413\n"
     ]
    },
    {
     "name": "stderr",
     "output_type": "stream",
     "text": [
      "/Users/Andy/opt/anaconda3/lib/python3.7/site-packages/librosa/core/audio.py:161: UserWarning: PySoundFile failed. Trying audioread instead.\n",
      "  warnings.warn('PySoundFile failed. Trying audioread instead.')\n"
     ]
    },
    {
     "name": "stdout",
     "output_type": "stream",
     "text": [
      "./genres_2/Dubstep/Goblin.mp3 0.6647476553916931 0.07741456478834152 2926.4152934203107 2553.7382330315904 5806.545631072361 0.16102405379930396\n"
     ]
    },
    {
     "name": "stderr",
     "output_type": "stream",
     "text": [
      "/Users/Andy/opt/anaconda3/lib/python3.7/site-packages/librosa/core/audio.py:161: UserWarning: PySoundFile failed. Trying audioread instead.\n",
      "  warnings.warn('PySoundFile failed. Trying audioread instead.')\n"
     ]
    },
    {
     "name": "stdout",
     "output_type": "stream",
     "text": [
      "./genres_2/Dubstep/Causa_&_Shu_-_Dubhelmet.mp3 0.30392563343048096 0.1304459273815155 2041.8851335991321 1800.3355370467707 3656.847493111949 0.11087496374709976\n"
     ]
    },
    {
     "name": "stderr",
     "output_type": "stream",
     "text": [
      "/Users/Andy/opt/anaconda3/lib/python3.7/site-packages/librosa/core/audio.py:161: UserWarning: PySoundFile failed. Trying audioread instead.\n",
      "  warnings.warn('PySoundFile failed. Trying audioread instead.')\n"
     ]
    },
    {
     "name": "stdout",
     "output_type": "stream",
     "text": [
      "./genres_2/Dubstep/Trends_&_Boylan_-_Untouchable_(Remix).mp3 0.29225653409957886 0.1046990230679512 1572.66272238534 1818.7571676847592 3157.6868610426336 0.07308924557714618\n",
      "./genres_2/Dubstep/12619150_Floating_Original_Mix.aiff 0.4510914385318756 0.10845387727022171 1959.2612786544937 2187.6632064446735 3802.808636800319 0.08635100964327146\n"
     ]
    },
    {
     "name": "stderr",
     "output_type": "stream",
     "text": [
      "/Users/Andy/opt/anaconda3/lib/python3.7/site-packages/librosa/core/audio.py:161: UserWarning: PySoundFile failed. Trying audioread instead.\n",
      "  warnings.warn('PySoundFile failed. Trying audioread instead.')\n"
     ]
    },
    {
     "name": "stdout",
     "output_type": "stream",
     "text": [
      "./genres_2/Dubstep/02_Nook_Shot_(Commodo_Remix).mp3 0.36497941613197327 0.05610055848956108 1622.4947114708239 1622.5426149638777 2899.213482000435 0.09371714580916474\n",
      "./genres_2/Dubstep/The_Greys_-_Alice_Land.wav 0.40329137444496155 0.1745610237121582 1552.6052391820986 1451.384989055243 2812.5810592191124 0.07797998839907193\n"
     ]
    },
    {
     "name": "stderr",
     "output_type": "stream",
     "text": [
      "/Users/Andy/opt/anaconda3/lib/python3.7/site-packages/librosa/core/audio.py:161: UserWarning: PySoundFile failed. Trying audioread instead.\n",
      "  warnings.warn('PySoundFile failed. Trying audioread instead.')\n"
     ]
    },
    {
     "name": "stdout",
     "output_type": "stream",
     "text": [
      "./genres_2/Dubstep/03_Babylon_(feat._Daddy_Gee)_(Dub_Mix).mp3 0.5545295476913452 0.14186573028564453 3155.266341261056 2743.3342120400475 6292.441610172564 0.1647388431699536\n"
     ]
    },
    {
     "name": "stderr",
     "output_type": "stream",
     "text": [
      "/Users/Andy/opt/anaconda3/lib/python3.7/site-packages/librosa/core/audio.py:161: UserWarning: PySoundFile failed. Trying audioread instead.\n",
      "  warnings.warn('PySoundFile failed. Trying audioread instead.')\n"
     ]
    },
    {
     "name": "stdout",
     "output_type": "stream",
     "text": [
      "./genres_2/Dubstep/01_Buckwild_(Original_Mix).mp3 0.5310283303260803 0.1295589655637741 2901.20263627394 2629.0980138111313 5998.146173959542 0.14820298905162413\n",
      "./genres_2/Dubstep/Zha_-_NAAN003_-_Mumbai_-_The_Tale_Of_She_-_02_The_Tale_Of_She.wav 0.3096388876438141 0.020952433347702026 883.048649036984 1429.0674787786481 1443.2991611985208 0.03042751232598608\n",
      "./genres_2/Dubstep/NSUS_-_Beam_[Dub].wav 0.477070689201355 0.25345829129219055 2484.88348081634 2515.5235182144193 5264.843183548433 0.09634208236658932\n",
      "./genres_2/Dubstep/FABRICLIVE_90_Kahn_&_Neek-013-Jamakabi-Hot_It_Up_(Kahn_&_Neek_Remix).wav 0.4874247610569 0.07986177504062653 2583.7453391822896 2694.797842908625 5556.91535400957 0.10343632178074245\n"
     ]
    },
    {
     "name": "stderr",
     "output_type": "stream",
     "text": [
      "/Users/Andy/opt/anaconda3/lib/python3.7/site-packages/librosa/core/audio.py:161: UserWarning: PySoundFile failed. Trying audioread instead.\n",
      "  warnings.warn('PySoundFile failed. Trying audioread instead.')\n"
     ]
    },
    {
     "name": "stdout",
     "output_type": "stream",
     "text": [
      "./genres_2/Dubstep/Intensive_Snare.mp3 0.36145034432411194 0.07435085624456406 2702.8942795293115 2437.106020249664 5270.73858486804 0.1168963438950116\n"
     ]
    },
    {
     "name": "stderr",
     "output_type": "stream",
     "text": [
      "/Users/Andy/opt/anaconda3/lib/python3.7/site-packages/librosa/core/audio.py:161: UserWarning: PySoundFile failed. Trying audioread instead.\n",
      "  warnings.warn('PySoundFile failed. Trying audioread instead.')\n"
     ]
    },
    {
     "name": "stdout",
     "output_type": "stream",
     "text": [
      "./genres_2/Dubstep/06_Flatline.mp3 0.41145291924476624 0.1787978559732437 2886.178043779606 2914.5980522307013 6623.6082851471865 0.11946690110208817\n"
     ]
    },
    {
     "name": "stderr",
     "output_type": "stream",
     "text": [
      "/Users/Andy/opt/anaconda3/lib/python3.7/site-packages/librosa/core/audio.py:161: UserWarning: PySoundFile failed. Trying audioread instead.\n",
      "  warnings.warn('PySoundFile failed. Trying audioread instead.')\n"
     ]
    },
    {
     "name": "stdout",
     "output_type": "stream",
     "text": [
      "./genres_2/Dubstep/1_-_Funeral_Bill_[WAR022].mp3 0.2323700487613678 0.05024245008826256 2680.3867308510935 2494.433400231086 5537.955143833382 0.07965668503480279\n"
     ]
    },
    {
     "name": "stderr",
     "output_type": "stream",
     "text": [
      "/Users/Andy/opt/anaconda3/lib/python3.7/site-packages/librosa/core/audio.py:161: UserWarning: PySoundFile failed. Trying audioread instead.\n",
      "  warnings.warn('PySoundFile failed. Trying audioread instead.')\n"
     ]
    },
    {
     "name": "stdout",
     "output_type": "stream",
     "text": [
      "./genres_2/Dubstep/02_Ledge.mp3 0.5196596384048462 0.0365159697830677 5372.776805967317 3056.884391471529 8955.389390135586 0.37313750725058004\n"
     ]
    },
    {
     "name": "stderr",
     "output_type": "stream",
     "text": [
      "/Users/Andy/opt/anaconda3/lib/python3.7/site-packages/librosa/core/audio.py:161: UserWarning: PySoundFile failed. Trying audioread instead.\n",
      "  warnings.warn('PySoundFile failed. Trying audioread instead.')\n"
     ]
    },
    {
     "name": "stdout",
     "output_type": "stream",
     "text": [
      "./genres_2/Dubstep/Slaughter.mp3 0.6568616628646851 0.22891992330551147 3600.330103644078 2883.4573703652436 6920.251889682425 0.1890770011600928\n"
     ]
    },
    {
     "name": "stderr",
     "output_type": "stream",
     "text": [
      "/Users/Andy/opt/anaconda3/lib/python3.7/site-packages/librosa/core/audio.py:161: UserWarning: PySoundFile failed. Trying audioread instead.\n",
      "  warnings.warn('PySoundFile failed. Trying audioread instead.')\n"
     ]
    },
    {
     "name": "stdout",
     "output_type": "stream",
     "text": [
      "./genres_2/Dubstep/Argo_-_Daredevil.mp3 0.3316282331943512 0.12832775712013245 2382.606327518623 1933.835063002956 4129.578741299304 0.12826502682714616\n",
      "./genres_2/Dubstep/Cartridge_-_Trippy_Mane_[HM_V3].wav 0.3719770014286041 0.08735205233097076 2799.085939838248 2046.859147477994 4844.296229245215 0.1403293122824826\n",
      "./genres_2/Dubstep/CNCPTV001_A2_-_Chad_Dubz_-_Shottaz_-_Ten_Eight_Seven_Mastered.wav 0.4743039011955261 0.1852661818265915 2169.116512817486 2375.1600616769356 4685.395179270592 0.09152611115139211\n"
     ]
    },
    {
     "name": "stderr",
     "output_type": "stream",
     "text": [
      "/Users/Andy/opt/anaconda3/lib/python3.7/site-packages/librosa/core/audio.py:161: UserWarning: PySoundFile failed. Trying audioread instead.\n",
      "  warnings.warn('PySoundFile failed. Trying audioread instead.')\n"
     ]
    },
    {
     "name": "stdout",
     "output_type": "stream",
     "text": [
      "./genres_2/Dubstep/Ifan_Dafydd_-_No_Good.mp3 0.4113675057888031 0.1232890859246254 1653.9946411612252 2045.9010624923678 3302.4489400558296 0.06481338819605569\n",
      "./genres_2/Dubstep/Fierce_Commodo_Remix.wav 0.3783160448074341 0.0636124387383461 2363.5722080339096 2303.331210511589 4663.662132033062 0.13524371012180975\n"
     ]
    },
    {
     "name": "stderr",
     "output_type": "stream",
     "text": [
      "/Users/Andy/opt/anaconda3/lib/python3.7/site-packages/librosa/core/audio.py:161: UserWarning: PySoundFile failed. Trying audioread instead.\n",
      "  warnings.warn('PySoundFile failed. Trying audioread instead.')\n"
     ]
    },
    {
     "name": "stdout",
     "output_type": "stream",
     "text": [
      "./genres_2/Dubstep/14_Steppin_VIP_feat._Chimpo,_Fox_&_Redders.mp3 0.543304979801178 0.24547210335731506 2471.3147598945466 2403.024059383137 4911.968441850348 0.10672627247679814\n"
     ]
    },
    {
     "name": "stderr",
     "output_type": "stream",
     "text": [
      "/Users/Andy/opt/anaconda3/lib/python3.7/site-packages/librosa/core/audio.py:161: UserWarning: PySoundFile failed. Trying audioread instead.\n",
      "  warnings.warn('PySoundFile failed. Trying audioread instead.')\n"
     ]
    },
    {
     "name": "stdout",
     "output_type": "stream",
     "text": [
      "./genres_2/Dubstep/Cartridge_-_Skinny_White_Latte.mp3 0.4994906187057495 0.15752674639225006 2461.7099275546584 2060.0161699792493 4693.838593024942 0.15344946345707658\n"
     ]
    },
    {
     "name": "stderr",
     "output_type": "stream",
     "text": [
      "/Users/Andy/opt/anaconda3/lib/python3.7/site-packages/librosa/core/audio.py:161: UserWarning: PySoundFile failed. Trying audioread instead.\n",
      "  warnings.warn('PySoundFile failed. Trying audioread instead.')\n"
     ]
    },
    {
     "name": "stdout",
     "output_type": "stream",
     "text": [
      "./genres_2/Dubstep/01_Filth.mp3 0.432932049036026 0.07625072449445724 2531.3743371311 2510.7974625612233 5337.836245649652 0.12143135513341068\n"
     ]
    },
    {
     "name": "stderr",
     "output_type": "stream",
     "text": [
      "/Users/Andy/opt/anaconda3/lib/python3.7/site-packages/librosa/core/audio.py:161: UserWarning: PySoundFile failed. Trying audioread instead.\n",
      "  warnings.warn('PySoundFile failed. Trying audioread instead.')\n"
     ]
    },
    {
     "name": "stdout",
     "output_type": "stream",
     "text": [
      "./genres_2/Dubstep/The_Bug_-_Skeng_(feat._Killa_P_&_Flowdan).mp3 0.45648491382598877 0.25668075680732727 1588.8583627442574 1794.4309955626998 3183.1919659041473 0.06316954575116009\n",
      "./genres_2/Dubstep/CNCPTV001_C1_-_Glume-Pyre_-_Ten_Eight_Seven_Mastered.wav 0.3804074823856354 0.13453730940818787 2705.175732929868 2344.006567032643 5382.6512878842805 0.14494249383700697\n"
     ]
    },
    {
     "name": "stderr",
     "output_type": "stream",
     "text": [
      "/Users/Andy/opt/anaconda3/lib/python3.7/site-packages/librosa/core/audio.py:161: UserWarning: PySoundFile failed. Trying audioread instead.\n",
      "  warnings.warn('PySoundFile failed. Trying audioread instead.')\n"
     ]
    },
    {
     "name": "stdout",
     "output_type": "stream",
     "text": [
      "./genres_2/Dubstep/1-15_P's_&_Q's.mp3 0.5360676050186157 0.3386622369289398 2401.9007440642417 2315.444548704349 4837.201763250435 0.10235893090197216\n"
     ]
    },
    {
     "name": "stderr",
     "output_type": "stream",
     "text": [
      "/Users/Andy/opt/anaconda3/lib/python3.7/site-packages/librosa/core/audio.py:161: UserWarning: PySoundFile failed. Trying audioread instead.\n",
      "  warnings.warn('PySoundFile failed. Trying audioread instead.')\n"
     ]
    },
    {
     "name": "stdout",
     "output_type": "stream",
     "text": [
      "./genres_2/Dubstep/Trends_&_Boylan_-_Syco_Sid.mp3 0.4448661506175995 0.18378326296806335 1944.1230379026365 1989.9968427998265 3689.946674249565 0.09079878734048724\n"
     ]
    },
    {
     "name": "stderr",
     "output_type": "stream",
     "text": [
      "/Users/Andy/opt/anaconda3/lib/python3.7/site-packages/librosa/core/audio.py:161: UserWarning: PySoundFile failed. Trying audioread instead.\n",
      "  warnings.warn('PySoundFile failed. Trying audioread instead.')\n"
     ]
    },
    {
     "name": "stdout",
     "output_type": "stream",
     "text": [
      "./genres_2/Dubstep/02_Crack_Chimes.mp3 0.43900299072265625 0.2024785578250885 2845.456634181394 2498.494197126009 5776.369170080481 0.13079366661832947\n"
     ]
    },
    {
     "name": "stderr",
     "output_type": "stream",
     "text": [
      "/Users/Andy/opt/anaconda3/lib/python3.7/site-packages/librosa/core/audio.py:161: UserWarning: PySoundFile failed. Trying audioread instead.\n",
      "  warnings.warn('PySoundFile failed. Trying audioread instead.')\n"
     ]
    },
    {
     "name": "stdout",
     "output_type": "stream",
     "text": [
      "./genres_2/Dubstep/DE-Tö_-_Fruitcake.mp3 0.40319931507110596 0.1513279378414154 2404.5397020849377 2239.2100041917815 4774.076004205336 0.11144821273201856\n",
      "./genres_2/Dubstep/Serenade_-_No_Rush_(HMV2)_DUB.wav 0.22357872128486633 0.08217587321996689 1135.1884514973322 1290.4266777758642 1940.8110793394721 0.048785074680974476\n"
     ]
    },
    {
     "name": "stderr",
     "output_type": "stream",
     "text": [
      "/Users/Andy/opt/anaconda3/lib/python3.7/site-packages/librosa/core/audio.py:161: UserWarning: PySoundFile failed. Trying audioread instead.\n",
      "  warnings.warn('PySoundFile failed. Trying audioread instead.')\n"
     ]
    },
    {
     "name": "stdout",
     "output_type": "stream",
     "text": [
      "./genres_2/Dubstep/02_Over_Deh_So.mp3 0.42732125520706177 0.1415288895368576 2044.2804178834836 1941.6279536518878 3979.3209491915604 0.10578029836136892\n"
     ]
    },
    {
     "name": "stderr",
     "output_type": "stream",
     "text": [
      "/Users/Andy/opt/anaconda3/lib/python3.7/site-packages/librosa/core/audio.py:161: UserWarning: PySoundFile failed. Trying audioread instead.\n",
      "  warnings.warn('PySoundFile failed. Trying audioread instead.')\n"
     ]
    },
    {
     "name": "stdout",
     "output_type": "stream",
     "text": [
      "./genres_2/Dubstep/05_Inside_a_Simulation.mp3 0.4372445344924927 0.3230411112308502 779.079617590918 1387.2118229594669 1421.19140625 0.01600112383990719\n"
     ]
    },
    {
     "name": "stderr",
     "output_type": "stream",
     "text": [
      "/Users/Andy/opt/anaconda3/lib/python3.7/site-packages/librosa/core/audio.py:161: UserWarning: PySoundFile failed. Trying audioread instead.\n",
      "  warnings.warn('PySoundFile failed. Trying audioread instead.')\n"
     ]
    },
    {
     "name": "stdout",
     "output_type": "stream",
     "text": [
      "./genres_2/Dubstep/Trends_&_Boylan_-_NormanTize_[320_VINYL_RIP].mp3 0.4229804277420044 0.14325851202011108 3091.8510938189393 2568.808801354651 6081.880857109194 0.19071064747679814\n"
     ]
    },
    {
     "name": "stderr",
     "output_type": "stream",
     "text": [
      "/Users/Andy/opt/anaconda3/lib/python3.7/site-packages/librosa/core/audio.py:161: UserWarning: PySoundFile failed. Trying audioread instead.\n",
      "  warnings.warn('PySoundFile failed. Trying audioread instead.')\n"
     ]
    },
    {
     "name": "stdout",
     "output_type": "stream",
     "text": [
      "./genres_2/Dubstep/02_Wise_Men.mp3 0.28750211000442505 0.023694248870015144 1520.8823820486434 1500.1586510893515 2560.053042524652 0.0956249546838747\n"
     ]
    },
    {
     "name": "stderr",
     "output_type": "stream",
     "text": [
      "/Users/Andy/opt/anaconda3/lib/python3.7/site-packages/librosa/core/audio.py:161: UserWarning: PySoundFile failed. Trying audioread instead.\n",
      "  warnings.warn('PySoundFile failed. Trying audioread instead.')\n"
     ]
    },
    {
     "name": "stdout",
     "output_type": "stream",
     "text": [
      "./genres_2/Dubstep/01_Travels.mp3 0.3337094485759735 0.12491948157548904 2422.994016768466 2296.216136996754 4865.379783117024 0.11343532482598608\n"
     ]
    },
    {
     "name": "stderr",
     "output_type": "stream",
     "text": [
      "/Users/Andy/opt/anaconda3/lib/python3.7/site-packages/librosa/core/audio.py:161: UserWarning: PySoundFile failed. Trying audioread instead.\n",
      "  warnings.warn('PySoundFile failed. Trying audioread instead.')\n"
     ]
    },
    {
     "name": "stdout",
     "output_type": "stream",
     "text": [
      "./genres_2/Dubstep/Darkimh_-_Eclipse.mp3 0.4442630410194397 0.1239890456199646 3880.2774785570086 2859.9356800168816 7228.411511202146 0.16971908533932714\n"
     ]
    },
    {
     "name": "stderr",
     "output_type": "stream",
     "text": [
      "/Users/Andy/opt/anaconda3/lib/python3.7/site-packages/librosa/core/audio.py:161: UserWarning: PySoundFile failed. Trying audioread instead.\n",
      "  warnings.warn('PySoundFile failed. Trying audioread instead.')\n"
     ]
    },
    {
     "name": "stdout",
     "output_type": "stream",
     "text": [
      "./genres_2/Dubstep/ARGO-Your_Steps.mp3 0.3935423791408539 0.04971064627170563 2922.5869403399715 2452.8117444465834 5755.135733124275 0.1348800482163573\n",
      "./genres_2/Dubstep/Kormestar_-_Know_Your_Enemy.wav 0.433872789144516 0.054655399173498154 1531.715064160079 1722.7289811577518 2961.539864595418 0.08239491190545244\n",
      "./genres_2/Dubstep/CNCPTV001_B1_-_Rygby_-_Nihirisuto_-_Ten_Eight_Seven_Mastered.wav 0.3713493049144745 0.07090266048908234 2411.300589361367 1804.2914274891318 4256.404811213022 0.1513377320185615\n"
     ]
    },
    {
     "name": "stderr",
     "output_type": "stream",
     "text": [
      "/Users/Andy/opt/anaconda3/lib/python3.7/site-packages/librosa/core/audio.py:161: UserWarning: PySoundFile failed. Trying audioread instead.\n",
      "  warnings.warn('PySoundFile failed. Trying audioread instead.')\n"
     ]
    },
    {
     "name": "stdout",
     "output_type": "stream",
     "text": [
      "./genres_2/Dubstep/Loner_(CRUCIAL006).mp3 0.3166477382183075 0.03241850435733795 2351.3463764184808 2039.9695395438255 4169.497602776973 0.15052204176334108\n"
     ]
    },
    {
     "name": "stderr",
     "output_type": "stream",
     "text": [
      "/Users/Andy/opt/anaconda3/lib/python3.7/site-packages/librosa/core/audio.py:161: UserWarning: PySoundFile failed. Trying audioread instead.\n",
      "  warnings.warn('PySoundFile failed. Trying audioread instead.')\n"
     ]
    },
    {
     "name": "stdout",
     "output_type": "stream",
     "text": [
      "./genres_2/Dubstep/Jook_-_Juice.mp3 0.23293758928775787 0.03470810502767563 2094.8264943283434 2057.568731716652 3749.3253561847446 0.08910623006090487\n"
     ]
    },
    {
     "name": "stderr",
     "output_type": "stream",
     "text": [
      "/Users/Andy/opt/anaconda3/lib/python3.7/site-packages/librosa/core/audio.py:161: UserWarning: PySoundFile failed. Trying audioread instead.\n",
      "  warnings.warn('PySoundFile failed. Trying audioread instead.')\n"
     ]
    },
    {
     "name": "stdout",
     "output_type": "stream",
     "text": [
      "./genres_2/Dubstep/01_Kalawanji_(feat._Cessman).m4a 0.3621513545513153 0.07918383926153183 1858.997929684068 1741.9073497274742 3542.861407428219 0.10415571526972157\n"
     ]
    },
    {
     "name": "stderr",
     "output_type": "stream",
     "text": [
      "/Users/Andy/opt/anaconda3/lib/python3.7/site-packages/librosa/core/audio.py:161: UserWarning: PySoundFile failed. Trying audioread instead.\n",
      "  warnings.warn('PySoundFile failed. Trying audioread instead.')\n"
     ]
    },
    {
     "name": "stdout",
     "output_type": "stream",
     "text": [
      "./genres_2/Dubstep/Rapture_4D_-_Carpet_Burn_EP_+_Rage'n_Remix's_(Bandcamp_only)_-_04_Rapture_4D_-_Rage'n_(Bukez_Finezt_Remix).mp3 0.4699513018131256 0.2550462484359741 3008.094511787609 2538.7530236525286 5936.319401645882 0.1498728882685615\n"
     ]
    },
    {
     "name": "stderr",
     "output_type": "stream",
     "text": [
      "/Users/Andy/opt/anaconda3/lib/python3.7/site-packages/librosa/core/audio.py:161: UserWarning: PySoundFile failed. Trying audioread instead.\n",
      "  warnings.warn('PySoundFile failed. Trying audioread instead.')\n"
     ]
    },
    {
     "name": "stdout",
     "output_type": "stream",
     "text": [
      "./genres_2/Dubstep/(Hh)_Chunky_-_Studio_Floors_-_Levelz_-.mp3 0.3625481128692627 0.06919402629137039 2927.5910167173274 2306.275774768297 5499.110444460557 0.15292266350058004\n",
      "./genres_2/Dubstep/CNCPTV001_D2_-_The_Greys_-_Jehu_-_Ten_Eight_Seven_Mastered.wav 0.3566604256629944 0.11328776180744171 3469.8743975013385 2625.3008113582987 6397.159925137761 0.19800427784222738\n"
     ]
    },
    {
     "name": "stderr",
     "output_type": "stream",
     "text": [
      "/Users/Andy/opt/anaconda3/lib/python3.7/site-packages/librosa/core/audio.py:161: UserWarning: PySoundFile failed. Trying audioread instead.\n",
      "  warnings.warn('PySoundFile failed. Trying audioread instead.')\n"
     ]
    },
    {
     "name": "stdout",
     "output_type": "stream",
     "text": [
      "./genres_2/Dubstep/SIR_SPYRO_Topper_Top_(ALXZNDR_Version).mp3 0.37636369466781616 0.06811343133449554 1908.9757188070746 1506.5532156360064 3350.136741408063 0.11764179415603249\n"
     ]
    },
    {
     "name": "stderr",
     "output_type": "stream",
     "text": [
      "/Users/Andy/opt/anaconda3/lib/python3.7/site-packages/librosa/core/audio.py:161: UserWarning: PySoundFile failed. Trying audioread instead.\n",
      "  warnings.warn('PySoundFile failed. Trying audioread instead.')\n"
     ]
    },
    {
     "name": "stdout",
     "output_type": "stream",
     "text": [
      "./genres_2/Dubstep/Trends_&_Boylan_-_Crack_Ya_Back.mp3 0.5033428072929382 0.13106472790241241 3994.285982061595 2794.702713572821 7372.274291708962 0.26056318880510443\n"
     ]
    },
    {
     "name": "stderr",
     "output_type": "stream",
     "text": [
      "/Users/Andy/opt/anaconda3/lib/python3.7/site-packages/librosa/core/audio.py:161: UserWarning: PySoundFile failed. Trying audioread instead.\n",
      "  warnings.warn('PySoundFile failed. Trying audioread instead.')\n"
     ]
    },
    {
     "name": "stdout",
     "output_type": "stream",
     "text": [
      "./genres_2/Dubstep/02_Spook_Dub.mp3 0.4528370201587677 0.1683358997106552 2045.4393165449783 2129.362905264574 4209.0917175717805 0.0878101888776102\n"
     ]
    },
    {
     "name": "stderr",
     "output_type": "stream",
     "text": [
      "/Users/Andy/opt/anaconda3/lib/python3.7/site-packages/librosa/core/audio.py:161: UserWarning: PySoundFile failed. Trying audioread instead.\n",
      "  warnings.warn('PySoundFile failed. Trying audioread instead.')\n"
     ]
    },
    {
     "name": "stdout",
     "output_type": "stream",
     "text": [
      "./genres_2/Dubstep/05_Bitchcraft.mp3 0.4486873745918274 0.12175365537405014 1405.8115065590357 1912.5713601310665 2939.7818368438225 0.05081410419083527\n"
     ]
    },
    {
     "name": "stderr",
     "output_type": "stream",
     "text": [
      "/Users/Andy/opt/anaconda3/lib/python3.7/site-packages/librosa/core/audio.py:161: UserWarning: PySoundFile failed. Trying audioread instead.\n",
      "  warnings.warn('PySoundFile failed. Trying audioread instead.')\n"
     ]
    },
    {
     "name": "stdout",
     "output_type": "stream",
     "text": [
      "./genres_2/Dubstep/05_Crack_Bong.mp3 0.44613465666770935 0.05889081582427025 3033.5140213151117 2562.377722849745 5819.710361985209 0.15310166219547564\n"
     ]
    },
    {
     "name": "stderr",
     "output_type": "stream",
     "text": [
      "/Users/Andy/opt/anaconda3/lib/python3.7/site-packages/librosa/core/audio.py:161: UserWarning: PySoundFile failed. Trying audioread instead.\n",
      "  warnings.warn('PySoundFile failed. Trying audioread instead.')\n"
     ]
    },
    {
     "name": "stdout",
     "output_type": "stream",
     "text": [
      "./genres_2/Dubstep/V.I.V.E.K_-_Square_Off_(SYSTM009).mp3 0.4208192229270935 0.012742827646434307 3949.409298545604 2229.1051863345347 6349.572045841793 0.21906494707076565\n"
     ]
    },
    {
     "name": "stderr",
     "output_type": "stream",
     "text": [
      "/Users/Andy/opt/anaconda3/lib/python3.7/site-packages/librosa/core/audio.py:161: UserWarning: PySoundFile failed. Trying audioread instead.\n",
      "  warnings.warn('PySoundFile failed. Trying audioread instead.')\n"
     ]
    },
    {
     "name": "stdout",
     "output_type": "stream",
     "text": [
      "./genres_2/Dubstep/03_In_For_The_Kill_(Skream_Remix)_www.mp3.failai.l_1.mp3 0.2331846058368683 0.20950286090373993 890.6791079964398 709.4872465816246 1343.8767152153423 0.05765230749709977\n"
     ]
    },
    {
     "name": "stderr",
     "output_type": "stream",
     "text": [
      "/Users/Andy/opt/anaconda3/lib/python3.7/site-packages/librosa/core/audio.py:161: UserWarning: PySoundFile failed. Trying audioread instead.\n",
      "  warnings.warn('PySoundFile failed. Trying audioread instead.')\n"
     ]
    },
    {
     "name": "stdout",
     "output_type": "stream",
     "text": [
      "./genres_2/Dubstep/02_Anti_War_Dub.mp3 0.41829314827919006 0.14868561923503876 389.4809858199817 943.8227561669869 584.0444188660093 0.010316215922273782\n"
     ]
    },
    {
     "name": "stderr",
     "output_type": "stream",
     "text": [
      "/Users/Andy/opt/anaconda3/lib/python3.7/site-packages/librosa/core/audio.py:161: UserWarning: PySoundFile failed. Trying audioread instead.\n",
      "  warnings.warn('PySoundFile failed. Trying audioread instead.')\n"
     ]
    },
    {
     "name": "stdout",
     "output_type": "stream",
     "text": [
      "./genres_2/Dubstep/CNCPT_Collective_-_Sub_Basics_-_Oracle.mp3 0.6513289213180542 0.3254183530807495 1605.1717402601257 2045.7658825250583 3678.8803065182715 0.03497951711136891\n"
     ]
    },
    {
     "name": "stderr",
     "output_type": "stream",
     "text": [
      "/Users/Andy/opt/anaconda3/lib/python3.7/site-packages/librosa/core/audio.py:161: UserWarning: PySoundFile failed. Trying audioread instead.\n",
      "  warnings.warn('PySoundFile failed. Trying audioread instead.')\n"
     ]
    },
    {
     "name": "stdout",
     "output_type": "stream",
     "text": [
      "./genres_2/Dubstep/9TRANE_-_Knowledge.mp3 0.32728832960128784 0.13645271956920624 1930.9468885559183 1853.821370106662 3480.5600053473026 0.10367196563225058\n"
     ]
    },
    {
     "name": "stderr",
     "output_type": "stream",
     "text": [
      "/Users/Andy/opt/anaconda3/lib/python3.7/site-packages/librosa/core/audio.py:161: UserWarning: PySoundFile failed. Trying audioread instead.\n",
      "  warnings.warn('PySoundFile failed. Trying audioread instead.')\n"
     ]
    },
    {
     "name": "stdout",
     "output_type": "stream",
     "text": [
      "./genres_2/Dubstep/04_Phatty_Drummer.mp3 0.40257999300956726 0.06545287370681763 3386.4416296148934 2492.2078299921545 5943.313945584397 0.187043440037703\n"
     ]
    },
    {
     "name": "stderr",
     "output_type": "stream",
     "text": [
      "/Users/Andy/opt/anaconda3/lib/python3.7/site-packages/librosa/core/audio.py:161: UserWarning: PySoundFile failed. Trying audioread instead.\n",
      "  warnings.warn('PySoundFile failed. Trying audioread instead.')\n"
     ]
    },
    {
     "name": "stdout",
     "output_type": "stream",
     "text": [
      "./genres_2/Dubstep/Trends_&_Boylan_-_Grady_ft._Spooky_Bizzle.mp3 0.3315589725971222 0.06955979019403458 2184.3524880612167 1943.4302301533412 4201.047992042489 0.13510776174593966\n"
     ]
    },
    {
     "name": "stderr",
     "output_type": "stream",
     "text": [
      "/Users/Andy/opt/anaconda3/lib/python3.7/site-packages/librosa/core/audio.py:161: UserWarning: PySoundFile failed. Trying audioread instead.\n",
      "  warnings.warn('PySoundFile failed. Trying audioread instead.')\n"
     ]
    },
    {
     "name": "stdout",
     "output_type": "stream",
     "text": [
      "./genres_2/Dubstep/Pinch_-_The_Boxer_(Kromestars_Southpaw_Mix)_(Kromestars_Southpaw_Mix).mp3 0.3751707077026367 0.17447882890701294 1445.780061773683 1499.8837125604025 2665.895480622825 0.07340872426044083\n"
     ]
    },
    {
     "name": "stderr",
     "output_type": "stream",
     "text": [
      "/Users/Andy/opt/anaconda3/lib/python3.7/site-packages/librosa/core/audio.py:161: UserWarning: PySoundFile failed. Trying audioread instead.\n",
      "  warnings.warn('PySoundFile failed. Trying audioread instead.')\n"
     ]
    },
    {
     "name": "stdout",
     "output_type": "stream",
     "text": [
      "./genres_2/Dubstep/07_Best_Friend.mp3 0.49052128195762634 0.16577500104904175 1524.6615881526059 2061.5447990809002 3512.934751577001 0.048388558584686776\n"
     ]
    },
    {
     "name": "stderr",
     "output_type": "stream",
     "text": [
      "/Users/Andy/opt/anaconda3/lib/python3.7/site-packages/librosa/core/audio.py:161: UserWarning: PySoundFile failed. Trying audioread instead.\n",
      "  warnings.warn('PySoundFile failed. Trying audioread instead.')\n"
     ]
    },
    {
     "name": "stdout",
     "output_type": "stream",
     "text": [
      "./genres_2/Dubstep/Jamakabi_-_Wickedest_Dub.mp3 0.5442126989364624 0.09004636108875275 3768.3099142385263 2393.328003693578 6509.822043575986 0.25818522513051045\n"
     ]
    },
    {
     "name": "stderr",
     "output_type": "stream",
     "text": [
      "/Users/Andy/opt/anaconda3/lib/python3.7/site-packages/librosa/core/audio.py:161: UserWarning: PySoundFile failed. Trying audioread instead.\n",
      "  warnings.warn('PySoundFile failed. Trying audioread instead.')\n"
     ]
    },
    {
     "name": "stdout",
     "output_type": "stream",
     "text": [
      "./genres_2/Dubstep/02_Sunbeam_VIP.mp3 0.48344266414642334 0.03485284745693207 3854.0929962643727 2868.879250332969 7047.102940110209 0.22865610498839908\n"
     ]
    },
    {
     "name": "stderr",
     "output_type": "stream",
     "text": [
      "/Users/Andy/opt/anaconda3/lib/python3.7/site-packages/librosa/core/audio.py:161: UserWarning: PySoundFile failed. Trying audioread instead.\n",
      "  warnings.warn('PySoundFile failed. Trying audioread instead.')\n"
     ]
    },
    {
     "name": "stdout",
     "output_type": "stream",
     "text": [
      "./genres_2/Dubstep/01_Timeless_(SBTRKT_Edit).mp3 0.41479727625846863 0.10820506513118744 2019.1044765118415 2196.0835501791958 4259.077726218097 0.08079072107018562\n"
     ]
    },
    {
     "name": "stderr",
     "output_type": "stream",
     "text": [
      "/Users/Andy/opt/anaconda3/lib/python3.7/site-packages/librosa/core/audio.py:161: UserWarning: PySoundFile failed. Trying audioread instead.\n",
      "  warnings.warn('PySoundFile failed. Trying audioread instead.')\n"
     ]
    },
    {
     "name": "stdout",
     "output_type": "stream",
     "text": [
      "./genres_2/Dubstep/01_Shift_(Feat._JME).mp3 0.4950862228870392 0.2726403474807739 2758.8423509798563 2671.566697767427 5797.402762924159 0.09674766168793504\n"
     ]
    },
    {
     "name": "stderr",
     "output_type": "stream",
     "text": [
      "/Users/Andy/opt/anaconda3/lib/python3.7/site-packages/librosa/core/audio.py:161: UserWarning: PySoundFile failed. Trying audioread instead.\n",
      "  warnings.warn('PySoundFile failed. Trying audioread instead.')\n"
     ]
    },
    {
     "name": "stdout",
     "output_type": "stream",
     "text": [
      "./genres_2/Dubstep/My_G_(disko_rekah_vocal).mp3 0.47671180963516235 0.12255629152059555 2175.461154175494 2194.4572775472025 4251.883338167054 0.10562735643851508\n"
     ]
    },
    {
     "name": "stderr",
     "output_type": "stream",
     "text": [
      "/Users/Andy/opt/anaconda3/lib/python3.7/site-packages/librosa/core/audio.py:161: UserWarning: PySoundFile failed. Trying audioread instead.\n",
      "  warnings.warn('PySoundFile failed. Trying audioread instead.')\n"
     ]
    },
    {
     "name": "stdout",
     "output_type": "stream",
     "text": [
      "./genres_2/Dubstep/ARGO-Astro_dub.mp3 0.42932260036468506 0.09222104400396347 3083.64371989002 2623.4626787811167 6004.6161271026685 0.148460158062645\n"
     ]
    },
    {
     "name": "stderr",
     "output_type": "stream",
     "text": [
      "/Users/Andy/opt/anaconda3/lib/python3.7/site-packages/librosa/core/audio.py:161: UserWarning: PySoundFile failed. Trying audioread instead.\n",
      "  warnings.warn('PySoundFile failed. Trying audioread instead.')\n"
     ]
    },
    {
     "name": "stdout",
     "output_type": "stream",
     "text": [
      "./genres_2/Dubstep/Mungo's_Hi-Fi_(Feat_Charlie_P)_-_Rules_Of_The_Dance_(Kahn_Remix).mp3 0.4488701820373535 0.16361506283283234 2914.027791248289 2579.848229286769 5503.531995450261 0.16000783968967516\n"
     ]
    },
    {
     "name": "stderr",
     "output_type": "stream",
     "text": [
      "/Users/Andy/opt/anaconda3/lib/python3.7/site-packages/librosa/core/audio.py:161: UserWarning: PySoundFile failed. Trying audioread instead.\n",
      "  warnings.warn('PySoundFile failed. Trying audioread instead.')\n"
     ]
    },
    {
     "name": "stdout",
     "output_type": "stream",
     "text": [
      "./genres_2/Dubstep/Trends_&_Boylan_-_Norman_Bates_(Kahn_Edit)_[320_VINYL_RIP].mp3 0.46269628405570984 0.1316726952791214 3218.323828754383 2551.3927487131195 6183.801354498985 0.20663020229118328\n"
     ]
    },
    {
     "name": "stderr",
     "output_type": "stream",
     "text": [
      "/Users/Andy/opt/anaconda3/lib/python3.7/site-packages/librosa/core/audio.py:161: UserWarning: PySoundFile failed. Trying audioread instead.\n",
      "  warnings.warn('PySoundFile failed. Trying audioread instead.')\n"
     ]
    },
    {
     "name": "stdout",
     "output_type": "stream",
     "text": [
      "./genres_2/Dubstep/Sepia_-_Awaken.mp3 0.38789406418800354 0.12703870236873627 3911.229472747565 2931.6925236072666 6999.764865954901 0.21584410346577726\n"
     ]
    },
    {
     "name": "stderr",
     "output_type": "stream",
     "text": [
      "/Users/Andy/opt/anaconda3/lib/python3.7/site-packages/librosa/core/audio.py:161: UserWarning: PySoundFile failed. Trying audioread instead.\n",
      "  warnings.warn('PySoundFile failed. Trying audioread instead.')\n"
     ]
    },
    {
     "name": "stdout",
     "output_type": "stream",
     "text": [
      "./genres_2/Dubstep/09_26_Basslines.mp3 0.34362268447875977 0.15347424149513245 3229.6681353448935 2550.3064770065184 6210.4305824934745 0.14285228755800464\n"
     ]
    },
    {
     "name": "stderr",
     "output_type": "stream",
     "text": [
      "/Users/Andy/opt/anaconda3/lib/python3.7/site-packages/librosa/core/audio.py:161: UserWarning: PySoundFile failed. Trying audioread instead.\n",
      "  warnings.warn('PySoundFile failed. Trying audioread instead.')\n"
     ]
    },
    {
     "name": "stdout",
     "output_type": "stream",
     "text": [
      "./genres_2/Dubstep/Trends_&_Boylan_-_Jigsaw.mp3 0.5574805736541748 0.14864777028560638 1804.7159009981094 1844.888833865707 3695.5173288863107 0.08826108432424594\n"
     ]
    },
    {
     "name": "stderr",
     "output_type": "stream",
     "text": [
      "/Users/Andy/opt/anaconda3/lib/python3.7/site-packages/librosa/core/audio.py:161: UserWarning: PySoundFile failed. Trying audioread instead.\n",
      "  warnings.warn('PySoundFile failed. Trying audioread instead.')\n"
     ]
    },
    {
     "name": "stdout",
     "output_type": "stream",
     "text": [
      "./genres_2/Dubstep/ARGO-LNTC.mp3 0.32343384623527527 0.06018943339586258 2248.9028061520557 2214.7288924421296 4187.308709306119 0.10108668068445475\n"
     ]
    },
    {
     "name": "stderr",
     "output_type": "stream",
     "text": [
      "/Users/Andy/opt/anaconda3/lib/python3.7/site-packages/librosa/core/audio.py:161: UserWarning: PySoundFile failed. Trying audioread instead.\n",
      "  warnings.warn('PySoundFile failed. Trying audioread instead.')\n"
     ]
    },
    {
     "name": "stdout",
     "output_type": "stream",
     "text": [
      "./genres_2/Dubstep/Von_D_-_Finis_Gloriae_Mundi.mp3 0.4395230710506439 0.12899640202522278 2896.017371324323 2171.9871314982834 5036.721129096578 0.17535414551914152\n"
     ]
    },
    {
     "name": "stderr",
     "output_type": "stream",
     "text": [
      "/Users/Andy/opt/anaconda3/lib/python3.7/site-packages/librosa/core/audio.py:161: UserWarning: PySoundFile failed. Trying audioread instead.\n",
      "  warnings.warn('PySoundFile failed. Trying audioread instead.')\n"
     ]
    },
    {
     "name": "stdout",
     "output_type": "stream",
     "text": [
      "./genres_2/Dubstep/02_So_Familia.mp3 0.4100284278392792 0.26500046253204346 2288.1303701151305 2729.38322954969 5507.903585411833 0.049444424303944315\n"
     ]
    },
    {
     "name": "stderr",
     "output_type": "stream",
     "text": [
      "/Users/Andy/opt/anaconda3/lib/python3.7/site-packages/librosa/core/audio.py:161: UserWarning: PySoundFile failed. Trying audioread instead.\n",
      "  warnings.warn('PySoundFile failed. Trying audioread instead.')\n"
     ]
    },
    {
     "name": "stdout",
     "output_type": "stream",
     "text": [
      "./genres_2/Dubstep/01_Norman_Bates.mp3 0.46061623096466064 0.2629110813140869 3229.975205153437 2603.432087651105 6268.360394612819 0.19653830118909513\n"
     ]
    },
    {
     "name": "stderr",
     "output_type": "stream",
     "text": [
      "/Users/Andy/opt/anaconda3/lib/python3.7/site-packages/librosa/core/audio.py:161: UserWarning: PySoundFile failed. Trying audioread instead.\n",
      "  warnings.warn('PySoundFile failed. Trying audioread instead.')\n"
     ]
    },
    {
     "name": "stdout",
     "output_type": "stream",
     "text": [
      "./genres_2/Dubstep/Trends_&_Boylan_-_The_Asylum_ft._Terror_Danjah.mp3 0.5420879125595093 0.061701156198978424 2854.6988999768087 1821.7194501473325 4765.957337133846 0.2225021751740139\n"
     ]
    },
    {
     "name": "stderr",
     "output_type": "stream",
     "text": [
      "/Users/Andy/opt/anaconda3/lib/python3.7/site-packages/librosa/core/audio.py:161: UserWarning: PySoundFile failed. Trying audioread instead.\n",
      "  warnings.warn('PySoundFile failed. Trying audioread instead.')\n"
     ]
    },
    {
     "name": "stdout",
     "output_type": "stream",
     "text": [
      "./genres_2/Dubstep/RSD_-_Jah_Way.mp3 0.428254097700119 0.07296241074800491 2576.801205325318 2344.960935804231 4996.677365048579 0.14417665131960558\n"
     ]
    },
    {
     "name": "stderr",
     "output_type": "stream",
     "text": [
      "/Users/Andy/opt/anaconda3/lib/python3.7/site-packages/librosa/core/audio.py:161: UserWarning: PySoundFile failed. Trying audioread instead.\n",
      "  warnings.warn('PySoundFile failed. Trying audioread instead.')\n"
     ]
    },
    {
     "name": "stdout",
     "output_type": "stream",
     "text": [
      "./genres_2/Dubstep/01_A1_Midnight_Request_Line.mp3 0.37902387976646423 0.0808088630437851 1252.7297266681603 1735.401872235951 2833.1400222955335 0.05190055829466357\n"
     ]
    },
    {
     "name": "stderr",
     "output_type": "stream",
     "text": [
      "/Users/Andy/opt/anaconda3/lib/python3.7/site-packages/librosa/core/audio.py:161: UserWarning: PySoundFile failed. Trying audioread instead.\n",
      "  warnings.warn('PySoundFile failed. Trying audioread instead.')\n"
     ]
    },
    {
     "name": "stdout",
     "output_type": "stream",
     "text": [
      "./genres_2/Dubstep/Kromestar_-_Righteous.mp3 0.5039417743682861 0.13949960470199585 2573.264799904771 2062.2681010008096 4627.840074862239 0.1509933294663573\n",
      "./genres_2/Dubstep/CNCPTV001_A1_-_Cartridge_-_Sibel_-_Ten_Eight_Seven_Mastered.wav 0.2798268795013428 0.052255503833293915 1701.830748656495 1823.6840705280742 3664.6414135005803 0.0936423742024362\n"
     ]
    }
   ],
   "source": [
    "generate_genre_data('./genres_2/','genre_dataS_2.csv',True)\n",
    "load_and_train('genre_dataS_2.csv',False)"
   ]
  },
  {
   "cell_type": "code",
   "execution_count": null,
   "metadata": {},
   "outputs": [],
   "source": []
  }
 ],
 "metadata": {
  "kernelspec": {
   "display_name": "Python 3",
   "language": "python",
   "name": "python3"
  },
  "language_info": {
   "codemirror_mode": {
    "name": "ipython",
    "version": 3
   },
   "file_extension": ".py",
   "mimetype": "text/x-python",
   "name": "python",
   "nbconvert_exporter": "python",
   "pygments_lexer": "ipython3",
   "version": "3.7.4"
  }
 },
 "nbformat": 4,
 "nbformat_minor": 2
}
